{
  "nbformat": 4,
  "nbformat_minor": 0,
  "metadata": {
    "colab": {
      "name": "05_1_NFA_and_RE_Problems.ipynb",
      "provenance": [],
      "collapsed_sections": [],
      "include_colab_link": true
    },
    "kernelspec": {
      "display_name": "Python 3",
      "language": "python",
      "name": "python3"
    },
    "language_info": {
      "codemirror_mode": {
        "name": "ipython",
        "version": 3
      },
      "file_extension": ".py",
      "mimetype": "text/x-python",
      "name": "python",
      "nbconvert_exporter": "python",
      "pygments_lexer": "ipython3",
      "version": "3.9.0"
    },
    "toc": {
      "colors": {
        "hover_highlight": "#DAA520",
        "running_highlight": "#FF0000",
        "selected_highlight": "#FFD700"
      },
      "moveMenuLeft": true,
      "nav_menu": {
        "height": "121px",
        "width": "252px"
      },
      "navigate_menu": true,
      "number_sections": true,
      "sideBar": true,
      "threshold": 4,
      "toc_cell": false,
      "toc_section_display": "block",
      "toc_window_display": false,
      "widenNotebook": false
    }
  },
  "cells": [
    {
      "cell_type": "markdown",
      "metadata": {
        "id": "view-in-github",
        "colab_type": "text"
      },
      "source": [
        "<a href=\"https://colab.research.google.com/github/mueller14003/cse480-notebooks/blob/master/05_1_NFA_and_RE_Problems.ipynb\" target=\"_parent\"><img src=\"https://colab.research.google.com/assets/colab-badge.svg\" alt=\"Open In Colab\"/></a>"
      ]
    },
    {
      "cell_type": "markdown",
      "metadata": {
        "id": "F6evhB5n1FaV"
      },
      "source": [
        "# Four Problems for Week 05's Assignment \n",
        "\n",
        "Problem 1:\n",
        "\n",
        "    a. take a given nfa called nfa1\n",
        "    \n",
        "    b. convert it to dfa1 \n",
        "    \n",
        "    c. reverse nfa1 by hand obtaining rnfa1\n",
        "    \n",
        "    d. inspect and conclude (listing six paths) that rnfa1 is indeed a reverse of nfa1\n",
        "\n",
        "Problem 2:\n",
        "\n",
        "    a. learn about a few DFA utilities such as totalize_dfa and dotObj_dfa_w_bh\n",
        "    \n",
        "    b. extract an RE by inspecting nfa1 and write it down as RE1_hand\n",
        "    \n",
        "    c. reverse RE1_hand by inspection, writing the result down as Rev_RE1_hand\n",
        "    \n",
        "    d. Understand the function del_gnfa_states via its help command\n",
        "    \n",
        "\n",
        "Problem 3:\n",
        "\n",
        "    a. obtain a GNFA for rnfa1, calling it grnfa1\n",
        "    \n",
        "    b. apply two elimination orders for states on grnfa1\n",
        "    \n",
        "    c. obtain Rev_RE1 and Rev_RE2\n",
        "    \n",
        "    d. check that Rev_RE1 and Rev_RE2 and Rev_RE1_hand are all isomorphic\n",
        "    \n",
        "\n",
        "Problem 4:\n",
        "\n",
        "    a. print the NFA for Rev_RE2 and answer the stated questions.\n",
        "    \n",
        "    b. print the NFA for Rev_RE1_hand and answer the stated questions. "
      ]
    },
    {
      "cell_type": "markdown",
      "metadata": {
        "id": "1an9nmMw1Fac",
        "run_control": {
          "frozen": false,
          "read_only": false
        }
      },
      "source": [
        "# Imports \n"
      ]
    },
    {
      "cell_type": "code",
      "metadata": {
        "id": "y863_jSu1Fad",
        "run_control": {
          "frozen": false,
          "read_only": false
        },
        "scrolled": true
      },
      "source": [
        "#~~~~~~~~~~~~~~~~~~~~~~~~~~~~~~~~~~~~~~~~~~~~~~~~~~~~~~~\n",
        "import sys\n",
        "\n",
        "# -- Detect if in Own Install or in Colab\n",
        "try:\n",
        "    import google.colab\n",
        "    OWN_INSTALL = False\n",
        "except:\n",
        "    OWN_INSTALL = True\n",
        "    \n",
        "if OWN_INSTALL:\n",
        "  \n",
        "  sys.path[0:0] = ['../../../../..',  '../../../../../3rdparty',  \n",
        "                   '../../../..',  '../../../../3rdparty',  \n",
        "                   '../../..',     '../../../3rdparty', \n",
        "                   '../..',        '../../3rdparty',\n",
        "                   '..',           '../3rdparty',\n",
        "                   '../Jove',      '../Jove/jove']\n",
        "\n",
        "else: # In colab\n",
        "  ! if [ ! -d Jove ]; then git clone https://github.com/ganeshutah/Jove Jove; fi\n",
        "  sys.path.append('./Jove')\n",
        "  sys.path.append('./Jove/jove')\n",
        "\n",
        "# -- common imports --\n",
        "from jove.DotBashers import *\n",
        "from jove.Def_md2mc  import *\n",
        "from jove.Def_NFA    import *\n",
        "from jove.Def_DFA    import *\n",
        "from jove.Def_NFA2RE import *\n",
        "from jove.Def_RE2NFA import *\n",
        "from jove.AnimateNFA import *\n",
        "#~~~~~~~~~~~~~~~~~~~~~~~~~~~~~~~~~~~~~~~~~~~~~~~~~~~~~~~"
      ],
      "execution_count": null,
      "outputs": []
    },
    {
      "cell_type": "markdown",
      "metadata": {
        "id": "BzOCjuwm1Fae"
      },
      "source": [
        "## Problem 1: "
      ]
    },
    {
      "cell_type": "code",
      "metadata": {
        "id": "tnc6tDJT1Faf"
      },
      "source": [
        "# Given NFA\n",
        "\n",
        "nfa1 = md2mc('''NFA\n",
        "I1 : '' -> B\n",
        "I1 : a  -> I2\n",
        "\n",
        "I2 : c  -> F3\n",
        "I2 : b  -> B\n",
        "\n",
        "B : s  -> B\n",
        "B : d  -> F4\n",
        "B : f  -> F3\n",
        "\n",
        "\n",
        "''')\n"
      ],
      "execution_count": null,
      "outputs": []
    },
    {
      "cell_type": "code",
      "metadata": {
        "id": "kV7jblE21Fag",
        "colab": {
          "base_uri": "https://localhost:8080/",
          "height": 207
        },
        "outputId": "a29d253c-7086-4057-f597-a78c39c5b572"
      },
      "source": [
        "dotObj_nfa(nfa1)"
      ],
      "execution_count": null,
      "outputs": [
        {
          "output_type": "execute_result",
          "data": {
            "text/plain": [
              "<graphviz.dot.Digraph at 0x7feca5fdac50>"
            ],
            "image/svg+xml": "<?xml version=\"1.0\" encoding=\"UTF-8\" standalone=\"no\"?>\n<!DOCTYPE svg PUBLIC \"-//W3C//DTD SVG 1.1//EN\"\n \"http://www.w3.org/Graphics/SVG/1.1/DTD/svg11.dtd\">\n<!-- Generated by graphviz version 2.40.1 (20161225.0304)\n -->\n<!-- Title: %3 Pages: 1 -->\n<svg width=\"402pt\" height=\"139pt\"\n viewBox=\"0.00 0.00 401.99 138.80\" xmlns=\"http://www.w3.org/2000/svg\" xmlns:xlink=\"http://www.w3.org/1999/xlink\">\n<g id=\"graph0\" class=\"graph\" transform=\"scale(1 1) rotate(0) translate(4 134.7982)\">\n<title>%3</title>\n<polygon fill=\"#ffffff\" stroke=\"transparent\" points=\"-4,4 -4,-134.7982 397.9896,-134.7982 397.9896,4 -4,4\"/>\n<!-- EMPTY -->\n<g id=\"node1\" class=\"node\">\n<title>EMPTY</title>\n</g>\n<!-- I1 -->\n<g id=\"node3\" class=\"node\">\n<title>I1</title>\n<ellipse fill=\"none\" stroke=\"#000000\" cx=\"109.8483\" cy=\"-69.7982\" rx=\"18.6979\" ry=\"18.6979\"/>\n<text text-anchor=\"middle\" x=\"109.8483\" y=\"-66.0982\" font-family=\"Times,serif\" font-size=\"14.00\" fill=\"#000000\">I1</text>\n</g>\n<!-- EMPTY&#45;&gt;I1 -->\n<g id=\"edge1\" class=\"edge\">\n<title>EMPTY&#45;&gt;I1</title>\n<path fill=\"none\" stroke=\"#000000\" d=\"M54.1276,-46.2585C63.2769,-50.1236 73.4867,-54.4369 82.642,-58.3046\"/>\n<polygon fill=\"#000000\" stroke=\"#000000\" points=\"81.4888,-61.6169 92.0626,-62.2844 84.2129,-55.1687 81.4888,-61.6169\"/>\n</g>\n<!-- I2 -->\n<g id=\"node4\" class=\"node\">\n<title>I2</title>\n<ellipse fill=\"none\" stroke=\"#000000\" cx=\"193.545\" cy=\"-26.7982\" rx=\"18.6979\" ry=\"18.6979\"/>\n<text text-anchor=\"middle\" x=\"193.545\" y=\"-23.0982\" font-family=\"Times,serif\" font-size=\"14.00\" fill=\"#000000\">I2</text>\n</g>\n<!-- EMPTY&#45;&gt;I2 -->\n<g id=\"edge2\" class=\"edge\">\n<title>EMPTY&#45;&gt;I2</title>\n<path fill=\"none\" stroke=\"#000000\" d=\"M54.129,-33.495C84.4711,-32.0375 133.4281,-29.6859 164.5205,-28.1923\"/>\n<polygon fill=\"#000000\" stroke=\"#000000\" points=\"164.8929,-31.6786 174.7135,-27.7027 164.557,-24.6866 164.8929,-31.6786\"/>\n</g>\n<!-- B -->\n<g id=\"node2\" class=\"node\">\n<title>B</title>\n<ellipse fill=\"none\" stroke=\"#000000\" cx=\"278.3933\" cy=\"-79.7982\" rx=\"18\" ry=\"18\"/>\n<text text-anchor=\"middle\" x=\"278.3933\" y=\"-76.0982\" font-family=\"Times,serif\" font-size=\"14.00\" fill=\"#000000\">B</text>\n</g>\n<!-- B&#45;&gt;B -->\n<g id=\"edge7\" class=\"edge\">\n<title>B&#45;&gt;B</title>\n<path fill=\"none\" stroke=\"#000000\" d=\"M271.3621,-96.4622C269.7996,-106.4232 272.1433,-115.7982 278.3933,-115.7982 282.3972,-115.7982 284.798,-111.9507 285.5956,-106.5664\"/>\n<polygon fill=\"#000000\" stroke=\"#000000\" points=\"289.0935,-106.4015 285.4246,-96.4622 282.0945,-106.5201 289.0935,-106.4015\"/>\n<text text-anchor=\"middle\" x=\"278.3933\" y=\"-119.5982\" font-family=\"Times,serif\" font-size=\"14.00\" fill=\"#000000\">s </text>\n</g>\n<!-- F4 -->\n<g id=\"node5\" class=\"node\">\n<title>F4</title>\n<ellipse fill=\"none\" stroke=\"#000000\" cx=\"369.1915\" cy=\"-93.7982\" rx=\"20.6302\" ry=\"20.6302\"/>\n<ellipse fill=\"none\" stroke=\"#000000\" cx=\"369.1915\" cy=\"-93.7982\" rx=\"24.5979\" ry=\"24.5979\"/>\n<text text-anchor=\"middle\" x=\"369.1915\" y=\"-90.0982\" font-family=\"Times,serif\" font-size=\"14.00\" fill=\"#000000\">F4</text>\n</g>\n<!-- B&#45;&gt;F4 -->\n<g id=\"edge8\" class=\"edge\">\n<title>B&#45;&gt;F4</title>\n<path fill=\"none\" stroke=\"#000000\" d=\"M296.3321,-82.5641C307.1797,-84.2367 321.3778,-86.4259 334.3563,-88.427\"/>\n<polygon fill=\"#000000\" stroke=\"#000000\" points=\"333.9995,-91.9133 344.4161,-89.9781 335.0663,-84.995 333.9995,-91.9133\"/>\n<text text-anchor=\"middle\" x=\"320.3933\" y=\"-90.5982\" font-family=\"Times,serif\" font-size=\"14.00\" fill=\"#000000\">d </text>\n</g>\n<!-- F3 -->\n<g id=\"node6\" class=\"node\">\n<title>F3</title>\n<ellipse fill=\"none\" stroke=\"#000000\" cx=\"369.1915\" cy=\"-24.7982\" rx=\"20.6302\" ry=\"20.6302\"/>\n<ellipse fill=\"none\" stroke=\"#000000\" cx=\"369.1915\" cy=\"-24.7982\" rx=\"24.5979\" ry=\"24.5979\"/>\n<text text-anchor=\"middle\" x=\"369.1915\" y=\"-21.0982\" font-family=\"Times,serif\" font-size=\"14.00\" fill=\"#000000\">F3</text>\n</g>\n<!-- B&#45;&gt;F3 -->\n<g id=\"edge9\" class=\"edge\">\n<title>B&#45;&gt;F3</title>\n<path fill=\"none\" stroke=\"#000000\" d=\"M293.796,-70.4682C306.2307,-62.9359 324.0998,-52.112 339.3209,-42.8919\"/>\n<polygon fill=\"#000000\" stroke=\"#000000\" points=\"341.176,-45.8603 347.9159,-37.6856 337.5493,-39.873 341.176,-45.8603\"/>\n<text text-anchor=\"middle\" x=\"320.3933\" y=\"-61.5982\" font-family=\"Times,serif\" font-size=\"14.00\" fill=\"#000000\">f </text>\n</g>\n<!-- I1&#45;&gt;B -->\n<g id=\"edge3\" class=\"edge\">\n<title>I1&#45;&gt;B</title>\n<path fill=\"none\" stroke=\"#000000\" d=\"M128.855,-70.9258C158.3749,-72.6773 215.4247,-76.0621 249.8904,-78.107\"/>\n<polygon fill=\"#000000\" stroke=\"#000000\" points=\"250.0337,-81.6216 260.2235,-78.7201 250.4484,-74.6339 250.0337,-81.6216\"/>\n<text text-anchor=\"middle\" x=\"193.545\" y=\"-78.5982\" font-family=\"Times,serif\" font-size=\"14.00\" fill=\"#000000\">&#39;&#39; </text>\n</g>\n<!-- I1&#45;&gt;I2 -->\n<g id=\"edge4\" class=\"edge\">\n<title>I1&#45;&gt;I2</title>\n<path fill=\"none\" stroke=\"#000000\" d=\"M126.7856,-61.0965C138.4705,-55.0932 154.2293,-46.997 167.5017,-40.1781\"/>\n<polygon fill=\"#000000\" stroke=\"#000000\" points=\"169.3376,-43.1699 176.6329,-35.4869 166.1387,-36.9436 169.3376,-43.1699\"/>\n<text text-anchor=\"middle\" x=\"151.6967\" y=\"-53.5982\" font-family=\"Times,serif\" font-size=\"14.00\" fill=\"#000000\">a </text>\n</g>\n<!-- I2&#45;&gt;B -->\n<g id=\"edge6\" class=\"edge\">\n<title>I2&#45;&gt;B</title>\n<path fill=\"none\" stroke=\"#000000\" d=\"M209.8725,-36.726C219.3857,-42.5353 231.5978,-50.0353 242.3933,-56.7982 246.3176,-59.2566 250.4692,-61.8839 254.5037,-64.4516\"/>\n<polygon fill=\"#000000\" stroke=\"#000000\" points=\"252.7036,-67.4549 263.0152,-69.8886 256.4719,-61.5557 252.7036,-67.4549\"/>\n<text text-anchor=\"middle\" x=\"236.3933\" y=\"-60.5982\" font-family=\"Times,serif\" font-size=\"14.00\" fill=\"#000000\">b </text>\n</g>\n<!-- I2&#45;&gt;F3 -->\n<g id=\"edge5\" class=\"edge\">\n<title>I2&#45;&gt;F3</title>\n<path fill=\"none\" stroke=\"#000000\" d=\"M212.6766,-26.5803C241.7287,-26.2495 297.4437,-25.6151 333.9583,-25.1993\"/>\n<polygon fill=\"#000000\" stroke=\"#000000\" points=\"334.2068,-28.6968 344.1663,-25.0831 334.1271,-21.6973 334.2068,-28.6968\"/>\n<text text-anchor=\"middle\" x=\"278.3933\" y=\"-30.5982\" font-family=\"Times,serif\" font-size=\"14.00\" fill=\"#000000\">c </text>\n</g>\n</g>\n</svg>\n"
          },
          "metadata": {
            "tags": []
          },
          "execution_count": 5
        }
      ]
    },
    {
      "cell_type": "markdown",
      "metadata": {
        "id": "Ub1tr-Rv1Fah"
      },
      "source": [
        "## 1.1: Convert the given NFA to a DFA by hand.\n",
        "\n",
        "Use as many bullets as necessary to clearly show your work:\n",
        "\n",
        "* Q = {I1, I2, B, F3, F4}\n",
        "* $\\Sigma$ = {$\\varepsilon$, a, b, s, d, f, c}\n",
        "* F = {F3, F4}\n",
        "\n",
        "| state | $\\varepsilon$ | a | b | c | d | f | s |\n",
        "| --- | --- | --- | --- | --- | --- | --- | --- |\n",
        "| I1 | B | I2 | | | | | |\n",
        "| I2 | | | B | F3 | | | |\n",
        "| B  | | | | | F4 | F3 | B |\n",
        "| F3 | | | | | | | |\n",
        "| F4 | | | | | | | |\n",
        "\n",
        "\n",
        "* Before any transitions occur I1, I2, and B are all going to recieve a token thus a I1_I2_B state is present in the DFA\n",
        "* We then can go through each symbol and follow the outgoing transitions from these three \"initial states\"\n",
        "* Consider a 'a' \n",
        "* A token is moved to I2 and all other tokens disappear\n",
        "* Thus a I2 state is needed in the DFA\n",
        "* Consider a 'b' \n",
        "* A token is moved to B and all other tokens disappear\n",
        "* Thus a B state is needed in the DFA\n",
        "* Consider a 's' \n",
        "* A token is moved from and to B and all other tokens disappear\n",
        "* Thus a B state is needed in the DFA but this was already known\n",
        "* Consider a 'c' \n",
        "* A token is moved to F3 and all other tokens disappear\n",
        "* Thus a F3 state is needed in the DFA\n",
        "* Consider a 'd' \n",
        "* A token is moved to F4 and all other tokens disappear\n",
        "* Thus a F4 state is needed in the DFA\n",
        "* Consider a 'f' \n",
        "* A token is moved to F3 and all other tokens disappear\n",
        "* Thus a F3 state is needed in the DFA but this was already known\n",
        "* This accounts for all the transitions in the NFA"
      ]
    },
    {
      "cell_type": "code",
      "metadata": {
        "id": "CMDNIlBA1Fah"
      },
      "source": [
        "# DFA of nfa1\n",
        "\n",
        "dfa1 = md2mc('''DFA\n",
        "\n",
        "I1_I2_B : a -> wasI2\n",
        "I1_I2_B : b -> B\n",
        "I1_I2_B : s -> B\n",
        "I1_I2_B : c -> F3\n",
        "I1_I2_B : d -> F4\n",
        "I1_I2_B : f -> F3\n",
        "\n",
        "wasI2 : b -> B\n",
        "wasI2 : c -> F3\n",
        "\n",
        "B : s -> B\n",
        "B : f -> F3\n",
        "B : d -> F4 \n",
        "\n",
        "''')"
      ],
      "execution_count": null,
      "outputs": []
    },
    {
      "cell_type": "code",
      "metadata": {
        "id": "0RbZ4_-o1Fai",
        "colab": {
          "base_uri": "https://localhost:8080/",
          "height": 276
        },
        "outputId": "d82aa072-757d-453f-daec-4da1b889ce6a"
      },
      "source": [
        "dotObj_dfa(dfa1, FuseEdges=True)"
      ],
      "execution_count": null,
      "outputs": [
        {
          "output_type": "execute_result",
          "data": {
            "text/plain": [
              "<graphviz.dot.Digraph at 0x7feca6019f60>"
            ],
            "image/svg+xml": "<?xml version=\"1.0\" encoding=\"UTF-8\" standalone=\"no\"?>\n<!DOCTYPE svg PUBLIC \"-//W3C//DTD SVG 1.1//EN\"\n \"http://www.w3.org/Graphics/SVG/1.1/DTD/svg11.dtd\">\n<!-- Generated by graphviz version 2.40.1 (20161225.0304)\n -->\n<!-- Title: %3 Pages: 1 -->\n<svg width=\"478pt\" height=\"191pt\"\n viewBox=\"0.00 0.00 478.08 191.35\" xmlns=\"http://www.w3.org/2000/svg\" xmlns:xlink=\"http://www.w3.org/1999/xlink\">\n<g id=\"graph0\" class=\"graph\" transform=\"scale(1 1) rotate(0) translate(4 187.3459)\">\n<title>%3</title>\n<polygon fill=\"#ffffff\" stroke=\"transparent\" points=\"-4,4 -4,-187.3459 474.083,-187.3459 474.083,4 -4,4\"/>\n<!-- EMPTY -->\n<g id=\"node1\" class=\"node\">\n<title>EMPTY</title>\n</g>\n<!-- I1_I2_B -->\n<g id=\"node2\" class=\"node\">\n<title>I1_I2_B</title>\n<ellipse fill=\"none\" stroke=\"#000000\" cx=\"133.2463\" cy=\"-103.5477\" rx=\"42.4939\" ry=\"42.4939\"/>\n<text text-anchor=\"middle\" x=\"133.2463\" y=\"-99.8477\" font-family=\"Times,serif\" font-size=\"14.00\" fill=\"#000000\">I1_I2_B</text>\n</g>\n<!-- EMPTY&#45;&gt;I1_I2_B -->\n<g id=\"edge1\" class=\"edge\">\n<title>EMPTY&#45;&gt;I1_I2_B</title>\n<path fill=\"none\" stroke=\"#000000\" d=\"M54.0853,-103.5477C62.3026,-103.5477 71.6242,-103.5477 80.9135,-103.5477\"/>\n<polygon fill=\"#000000\" stroke=\"#000000\" points=\"80.927,-107.0478 90.927,-103.5477 80.9269,-100.0478 80.927,-107.0478\"/>\n</g>\n<!-- wasI2 -->\n<g id=\"node3\" class=\"node\">\n<title>wasI2</title>\n<ellipse fill=\"none\" stroke=\"#000000\" cx=\"253.9896\" cy=\"-52.5477\" rx=\"32.4942\" ry=\"32.4942\"/>\n<text text-anchor=\"middle\" x=\"253.9896\" y=\"-48.8477\" font-family=\"Times,serif\" font-size=\"14.00\" fill=\"#000000\">wasI2</text>\n</g>\n<!-- I1_I2_B&#45;&gt;wasI2 -->\n<g id=\"edge2\" class=\"edge\">\n<title>I1_I2_B&#45;&gt;wasI2</title>\n<path fill=\"none\" stroke=\"#000000\" d=\"M172.4482,-86.9895C185.8576,-81.3256 200.8624,-74.9878 214.3092,-69.3081\"/>\n<polygon fill=\"#000000\" stroke=\"#000000\" points=\"215.9301,-72.4229 223.7802,-65.3077 213.2063,-65.9745 215.9301,-72.4229\"/>\n<text text-anchor=\"middle\" x=\"198.4925\" y=\"-82.3477\" font-family=\"Times,serif\" font-size=\"14.00\" fill=\"#000000\">a </text>\n</g>\n<!-- B -->\n<g id=\"node4\" class=\"node\">\n<title>B</title>\n<ellipse fill=\"none\" stroke=\"#000000\" cx=\"354.4867\" cy=\"-99.5477\" rx=\"18\" ry=\"18\"/>\n<text text-anchor=\"middle\" x=\"354.4867\" y=\"-95.8477\" font-family=\"Times,serif\" font-size=\"14.00\" fill=\"#000000\">B</text>\n</g>\n<!-- I1_I2_B&#45;&gt;B -->\n<g id=\"edge3\" class=\"edge\">\n<title>I1_I2_B&#45;&gt;B</title>\n<path fill=\"none\" stroke=\"#000000\" d=\"M175.5615,-103.6284C213.1149,-103.5718 269.4671,-103.1732 318.4867,-101.5477 320.9149,-101.4672 323.4343,-101.3651 325.9615,-101.2499\"/>\n<polygon fill=\"#000000\" stroke=\"#000000\" points=\"326.373,-104.7334 336.1796,-100.7235 326.0128,-97.7427 326.373,-104.7334\"/>\n<text text-anchor=\"middle\" x=\"253.9896\" y=\"-122.3477\" font-family=\"Times,serif\" font-size=\"14.00\" fill=\"#000000\">b </text>\n<text text-anchor=\"middle\" x=\"253.9896\" y=\"-107.3477\" font-family=\"Times,serif\" font-size=\"14.00\" fill=\"#000000\"> s </text>\n</g>\n<!-- F4 -->\n<g id=\"node5\" class=\"node\">\n<title>F4</title>\n<ellipse fill=\"none\" stroke=\"#000000\" cx=\"445.2849\" cy=\"-158.5477\" rx=\"20.6302\" ry=\"20.6302\"/>\n<ellipse fill=\"none\" stroke=\"#000000\" cx=\"445.2849\" cy=\"-158.5477\" rx=\"24.5979\" ry=\"24.5979\"/>\n<text text-anchor=\"middle\" x=\"445.2849\" y=\"-154.8477\" font-family=\"Times,serif\" font-size=\"14.00\" fill=\"#000000\">F4</text>\n</g>\n<!-- I1_I2_B&#45;&gt;F4 -->\n<g id=\"edge5\" class=\"edge\">\n<title>I1_I2_B&#45;&gt;F4</title>\n<path fill=\"none\" stroke=\"#000000\" d=\"M172.27,-120.3101C187.4325,-126.3641 205.0749,-132.8553 221.4925,-137.5477 271.5245,-151.8477 284.6835,-154.6369 336.4867,-159.5477 352.4153,-161.0577 356.4871,-159.6576 372.4867,-159.5477 384.8043,-159.4631 398.2933,-159.298 410.277,-159.126\"/>\n<polygon fill=\"#000000\" stroke=\"#000000\" points=\"410.4069,-162.6245 420.3532,-158.9748 410.3018,-155.6253 410.4069,-162.6245\"/>\n<text text-anchor=\"middle\" x=\"311.4867\" y=\"-162.3477\" font-family=\"Times,serif\" font-size=\"14.00\" fill=\"#000000\">d </text>\n</g>\n<!-- F3 -->\n<g id=\"node6\" class=\"node\">\n<title>F3</title>\n<ellipse fill=\"none\" stroke=\"#000000\" cx=\"445.2849\" cy=\"-48.5477\" rx=\"20.6302\" ry=\"20.6302\"/>\n<ellipse fill=\"none\" stroke=\"#000000\" cx=\"445.2849\" cy=\"-48.5477\" rx=\"24.5979\" ry=\"24.5979\"/>\n<text text-anchor=\"middle\" x=\"445.2849\" y=\"-44.8477\" font-family=\"Times,serif\" font-size=\"14.00\" fill=\"#000000\">F3</text>\n</g>\n<!-- I1_I2_B&#45;&gt;F3 -->\n<g id=\"edge4\" class=\"edge\">\n<title>I1_I2_B&#45;&gt;F3</title>\n<path fill=\"none\" stroke=\"#000000\" d=\"M156.3872,-67.7697C171.9976,-47.1098 194.6198,-23.008 221.4925,-11.5477 286.119,16.0132 369.3602,-12.8112 413.8825,-32.8158\"/>\n<polygon fill=\"#000000\" stroke=\"#000000\" points=\"412.4896,-36.0278 423.0349,-37.0511 415.4294,-29.675 412.4896,-36.0278\"/>\n<text text-anchor=\"middle\" x=\"311.4867\" y=\"-22.3477\" font-family=\"Times,serif\" font-size=\"14.00\" fill=\"#000000\">f </text>\n<text text-anchor=\"middle\" x=\"311.4867\" y=\"-7.3477\" font-family=\"Times,serif\" font-size=\"14.00\" fill=\"#000000\"> c </text>\n</g>\n<!-- wasI2&#45;&gt;B -->\n<g id=\"edge6\" class=\"edge\">\n<title>wasI2&#45;&gt;B</title>\n<path fill=\"none\" stroke=\"#000000\" d=\"M283.5985,-66.3951C297.8552,-73.0625 314.7948,-80.9848 328.5393,-87.4127\"/>\n<polygon fill=\"#000000\" stroke=\"#000000\" points=\"327.3576,-90.7239 337.8987,-91.7899 330.3231,-84.3831 327.3576,-90.7239\"/>\n<text text-anchor=\"middle\" x=\"311.4867\" y=\"-86.3477\" font-family=\"Times,serif\" font-size=\"14.00\" fill=\"#000000\">b </text>\n</g>\n<!-- wasI2&#45;&gt;F3 -->\n<g id=\"edge7\" class=\"edge\">\n<title>wasI2&#45;&gt;F3</title>\n<path fill=\"none\" stroke=\"#000000\" d=\"M286.8744,-51.8601C321.2419,-51.1415 374.9649,-50.0181 410.1496,-49.2824\"/>\n<polygon fill=\"#000000\" stroke=\"#000000\" points=\"410.5073,-52.7758 420.4319,-49.0674 410.3609,-45.7773 410.5073,-52.7758\"/>\n<text text-anchor=\"middle\" x=\"354.4867\" y=\"-55.3477\" font-family=\"Times,serif\" font-size=\"14.00\" fill=\"#000000\">c </text>\n</g>\n<!-- B&#45;&gt;B -->\n<g id=\"edge8\" class=\"edge\">\n<title>B&#45;&gt;B</title>\n<path fill=\"none\" stroke=\"#000000\" d=\"M347.1039,-116.2118C345.4633,-126.1727 347.9242,-135.5477 354.4867,-135.5477 358.6908,-135.5477 361.2117,-131.7002 362.0492,-126.316\"/>\n<polygon fill=\"#000000\" stroke=\"#000000\" points=\"365.5469,-126.1479 361.8695,-116.2118 358.548,-126.2724 365.5469,-126.1479\"/>\n<text text-anchor=\"middle\" x=\"354.4867\" y=\"-139.3477\" font-family=\"Times,serif\" font-size=\"14.00\" fill=\"#000000\">s </text>\n</g>\n<!-- B&#45;&gt;F4 -->\n<g id=\"edge10\" class=\"edge\">\n<title>B&#45;&gt;F4</title>\n<path fill=\"none\" stroke=\"#000000\" d=\"M369.8894,-109.5563C382.4087,-117.6912 400.4365,-129.4056 415.7246,-139.3397\"/>\n<polygon fill=\"#000000\" stroke=\"#000000\" points=\"414.0548,-142.4286 424.3471,-144.9425 417.8689,-136.5589 414.0548,-142.4286\"/>\n<text text-anchor=\"middle\" x=\"396.4867\" y=\"-133.3477\" font-family=\"Times,serif\" font-size=\"14.00\" fill=\"#000000\">d </text>\n</g>\n<!-- B&#45;&gt;F3 -->\n<g id=\"edge9\" class=\"edge\">\n<title>B&#45;&gt;F3</title>\n<path fill=\"none\" stroke=\"#000000\" d=\"M370.3026,-90.6642C382.5047,-83.8104 399.757,-74.1201 414.6371,-65.7621\"/>\n<polygon fill=\"#000000\" stroke=\"#000000\" points=\"416.5245,-68.7164 423.5293,-60.7675 413.0964,-62.6132 416.5245,-68.7164\"/>\n<text text-anchor=\"middle\" x=\"396.4867\" y=\"-83.3477\" font-family=\"Times,serif\" font-size=\"14.00\" fill=\"#000000\">f </text>\n</g>\n</g>\n</svg>\n"
          },
          "metadata": {
            "tags": []
          },
          "execution_count": 7
        }
      ]
    },
    {
      "cell_type": "markdown",
      "metadata": {
        "id": "p0RgegJo1Fai"
      },
      "source": [
        "## 1.2: Reverse nfa1 by hand and name the states in this manner:\n",
        "\n",
        "1) Change F3 to I3\n",
        "\n",
        "2) Change F4 to I4\n",
        "\n",
        "3) Change I1 and I2 to F1 and F2\n",
        "\n",
        "4) Now, reverse the transitions of nfa1, obtaining \"rnfa1\" below\n",
        " "
      ]
    },
    {
      "cell_type": "code",
      "metadata": {
        "id": "qhRWvd9b1Fai"
      },
      "source": [
        "# There is no Jove function to reverse automatically - do it by hand!\n",
        "rnfa1 = md2mc('''\n",
        "NFA\n",
        "\n",
        "B : '' -> F1\n",
        "F2 : a  -> F1\n",
        "\n",
        "I3 : c  -> F2\n",
        "B : b  -> F2\n",
        "\n",
        "B : s  -> B\n",
        "I4 : d  -> B\n",
        "I3 : f  -> B\n",
        "\n",
        "''')"
      ],
      "execution_count": null,
      "outputs": []
    },
    {
      "cell_type": "code",
      "metadata": {
        "id": "8UbDrNhh1Faj",
        "colab": {
          "base_uri": "https://localhost:8080/",
          "height": 207
        },
        "outputId": "ab3f026d-6797-4b83-9f77-6d70ca59fae1"
      },
      "source": [
        "dotObj_nfa(rnfa1)"
      ],
      "execution_count": null,
      "outputs": [
        {
          "output_type": "execute_result",
          "data": {
            "text/plain": [
              "<graphviz.dot.Digraph at 0x7feca66fa240>"
            ],
            "image/svg+xml": "<?xml version=\"1.0\" encoding=\"UTF-8\" standalone=\"no\"?>\n<!DOCTYPE svg PUBLIC \"-//W3C//DTD SVG 1.1//EN\"\n \"http://www.w3.org/Graphics/SVG/1.1/DTD/svg11.dtd\">\n<!-- Generated by graphviz version 2.40.1 (20161225.0304)\n -->\n<!-- Title: %3 Pages: 1 -->\n<svg width=\"414pt\" height=\"139pt\"\n viewBox=\"0.00 0.00 413.89 138.80\" xmlns=\"http://www.w3.org/2000/svg\" xmlns:xlink=\"http://www.w3.org/1999/xlink\">\n<g id=\"graph0\" class=\"graph\" transform=\"scale(1 1) rotate(0) translate(4 134.7982)\">\n<title>%3</title>\n<polygon fill=\"#ffffff\" stroke=\"transparent\" points=\"-4,4 -4,-134.7982 409.8893,-134.7982 409.8893,4 -4,4\"/>\n<!-- EMPTY -->\n<g id=\"node1\" class=\"node\">\n<title>EMPTY</title>\n</g>\n<!-- I4 -->\n<g id=\"node2\" class=\"node\">\n<title>I4</title>\n<ellipse fill=\"none\" stroke=\"#000000\" cx=\"109.8483\" cy=\"-93.7982\" rx=\"18.6979\" ry=\"18.6979\"/>\n<text text-anchor=\"middle\" x=\"109.8483\" y=\"-90.0982\" font-family=\"Times,serif\" font-size=\"14.00\" fill=\"#000000\">I4</text>\n</g>\n<!-- EMPTY&#45;&gt;I4 -->\n<g id=\"edge1\" class=\"edge\">\n<title>EMPTY&#45;&gt;I4</title>\n<path fill=\"none\" stroke=\"#000000\" d=\"M54.1276,-74.2938C63.111,-77.4383 73.1168,-80.9407 82.143,-84.1002\"/>\n<polygon fill=\"#000000\" stroke=\"#000000\" points=\"81.216,-87.4839 91.8108,-87.4844 83.5287,-80.877 81.216,-87.4839\"/>\n</g>\n<!-- I3 -->\n<g id=\"node4\" class=\"node\">\n<title>I3</title>\n<ellipse fill=\"none\" stroke=\"#000000\" cx=\"109.8483\" cy=\"-37.7982\" rx=\"18.6979\" ry=\"18.6979\"/>\n<text text-anchor=\"middle\" x=\"109.8483\" y=\"-34.0982\" font-family=\"Times,serif\" font-size=\"14.00\" fill=\"#000000\">I3</text>\n</g>\n<!-- EMPTY&#45;&gt;I3 -->\n<g id=\"edge2\" class=\"edge\">\n<title>EMPTY&#45;&gt;I3</title>\n<path fill=\"none\" stroke=\"#000000\" d=\"M54.1276,-55.9573C63.111,-53.0297 73.1168,-49.7688 82.143,-46.8272\"/>\n<polygon fill=\"#000000\" stroke=\"#000000\" points=\"83.3875,-50.1029 91.8108,-43.6765 81.2185,-43.4474 83.3875,-50.1029\"/>\n</g>\n<!-- B -->\n<g id=\"node3\" class=\"node\">\n<title>B</title>\n<ellipse fill=\"none\" stroke=\"#000000\" cx=\"194.6967\" cy=\"-79.7982\" rx=\"18\" ry=\"18\"/>\n<text text-anchor=\"middle\" x=\"194.6967\" y=\"-76.0982\" font-family=\"Times,serif\" font-size=\"14.00\" fill=\"#000000\">B</text>\n</g>\n<!-- I4&#45;&gt;B -->\n<g id=\"edge8\" class=\"edge\">\n<title>I4&#45;&gt;B</title>\n<path fill=\"none\" stroke=\"#000000\" d=\"M128.6789,-90.6911C139.8928,-88.8408 154.3314,-86.4584 166.8447,-84.3937\"/>\n<polygon fill=\"#000000\" stroke=\"#000000\" points=\"167.4932,-87.8341 176.79,-82.7528 166.3536,-80.9275 167.4932,-87.8341\"/>\n<text text-anchor=\"middle\" x=\"152.6967\" y=\"-90.5982\" font-family=\"Times,serif\" font-size=\"14.00\" fill=\"#000000\">d </text>\n</g>\n<!-- B&#45;&gt;B -->\n<g id=\"edge7\" class=\"edge\">\n<title>B&#45;&gt;B</title>\n<path fill=\"none\" stroke=\"#000000\" d=\"M187.3138,-96.4622C185.6732,-106.4232 188.1342,-115.7982 194.6967,-115.7982 198.9008,-115.7982 201.4216,-111.9507 202.2591,-106.5664\"/>\n<polygon fill=\"#000000\" stroke=\"#000000\" points=\"205.7568,-106.3984 202.0795,-96.4622 198.7579,-106.5229 205.7568,-106.3984\"/>\n<text text-anchor=\"middle\" x=\"194.6967\" y=\"-119.5982\" font-family=\"Times,serif\" font-size=\"14.00\" fill=\"#000000\">s </text>\n</g>\n<!-- F2 -->\n<g id=\"node5\" class=\"node\">\n<title>F2</title>\n<ellipse fill=\"none\" stroke=\"#000000\" cx=\"285.4948\" cy=\"-24.7982\" rx=\"20.6302\" ry=\"20.6302\"/>\n<ellipse fill=\"none\" stroke=\"#000000\" cx=\"285.4948\" cy=\"-24.7982\" rx=\"24.5979\" ry=\"24.5979\"/>\n<text text-anchor=\"middle\" x=\"285.4948\" y=\"-21.0982\" font-family=\"Times,serif\" font-size=\"14.00\" fill=\"#000000\">F2</text>\n</g>\n<!-- B&#45;&gt;F2 -->\n<g id=\"edge6\" class=\"edge\">\n<title>B&#45;&gt;F2</title>\n<path fill=\"none\" stroke=\"#000000\" d=\"M210.0279,-69.8127C216.3866,-65.721 223.8618,-60.9749 230.6967,-56.7982 238.5513,-51.9983 247.1162,-46.9227 255.0909,-42.2628\"/>\n<polygon fill=\"#000000\" stroke=\"#000000\" points=\"256.8881,-45.2665 263.7746,-37.215 253.3702,-39.2147 256.8881,-45.2665\"/>\n<text text-anchor=\"middle\" x=\"236.6967\" y=\"-60.5982\" font-family=\"Times,serif\" font-size=\"14.00\" fill=\"#000000\">b </text>\n</g>\n<!-- F1 -->\n<g id=\"node6\" class=\"node\">\n<title>F1</title>\n<ellipse fill=\"none\" stroke=\"#000000\" cx=\"381.0911\" cy=\"-55.7982\" rx=\"20.6302\" ry=\"20.6302\"/>\n<ellipse fill=\"none\" stroke=\"#000000\" cx=\"381.0911\" cy=\"-55.7982\" rx=\"24.5979\" ry=\"24.5979\"/>\n<text text-anchor=\"middle\" x=\"381.0911\" y=\"-52.0982\" font-family=\"Times,serif\" font-size=\"14.00\" fill=\"#000000\">F1</text>\n</g>\n<!-- B&#45;&gt;F1 -->\n<g id=\"edge3\" class=\"edge\">\n<title>B&#45;&gt;F1</title>\n<path fill=\"none\" stroke=\"#000000\" d=\"M212.5689,-77.4969C243.2665,-73.5443 306.5296,-65.3986 346.2114,-60.2892\"/>\n<polygon fill=\"#000000\" stroke=\"#000000\" points=\"346.7734,-63.7459 356.2445,-58.9974 345.8794,-56.8032 346.7734,-63.7459\"/>\n<text text-anchor=\"middle\" x=\"285.4948\" y=\"-74.5982\" font-family=\"Times,serif\" font-size=\"14.00\" fill=\"#000000\">&#39;&#39; </text>\n</g>\n<!-- I3&#45;&gt;B -->\n<g id=\"edge9\" class=\"edge\">\n<title>I3&#45;&gt;B</title>\n<path fill=\"none\" stroke=\"#000000\" d=\"M127.0187,-46.2975C139.0981,-52.2768 155.4722,-60.382 169.0887,-67.1222\"/>\n<polygon fill=\"#000000\" stroke=\"#000000\" points=\"167.9007,-70.4394 178.4155,-71.739 171.0061,-64.1659 167.9007,-70.4394\"/>\n<text text-anchor=\"middle\" x=\"152.6967\" y=\"-65.5982\" font-family=\"Times,serif\" font-size=\"14.00\" fill=\"#000000\">f </text>\n</g>\n<!-- I3&#45;&gt;F2 -->\n<g id=\"edge5\" class=\"edge\">\n<title>I3&#45;&gt;F2</title>\n<path fill=\"none\" stroke=\"#000000\" d=\"M128.6456,-36.4069C157.6432,-34.2607 213.7627,-30.1072 250.4148,-27.3945\"/>\n<polygon fill=\"#000000\" stroke=\"#000000\" points=\"250.9407,-30.8653 260.655,-26.6366 250.424,-23.8843 250.9407,-30.8653\"/>\n<text text-anchor=\"middle\" x=\"194.6967\" y=\"-37.5982\" font-family=\"Times,serif\" font-size=\"14.00\" fill=\"#000000\">c </text>\n</g>\n<!-- F2&#45;&gt;F1 -->\n<g id=\"edge4\" class=\"edge\">\n<title>F2&#45;&gt;F1</title>\n<path fill=\"none\" stroke=\"#000000\" d=\"M309.1254,-32.4611C320.7303,-36.2243 334.9146,-40.824 347.6132,-44.9419\"/>\n<polygon fill=\"#000000\" stroke=\"#000000\" points=\"346.8091,-48.3605 357.4011,-48.1159 348.9684,-41.7019 346.8091,-48.3605\"/>\n<text text-anchor=\"middle\" x=\"333.293\" y=\"-45.5982\" font-family=\"Times,serif\" font-size=\"14.00\" fill=\"#000000\">a </text>\n</g>\n</g>\n</svg>\n"
          },
          "metadata": {
            "tags": []
          },
          "execution_count": 9
        }
      ]
    },
    {
      "cell_type": "code",
      "metadata": {
        "id": "lNvtz_C51Faj",
        "colab": {
          "base_uri": "https://localhost:8080/",
          "height": 207
        },
        "outputId": "e0c0f36e-2bce-4a8e-9c71-562678f3e50b"
      },
      "source": [
        "dotObj_nfa(nfa1)"
      ],
      "execution_count": null,
      "outputs": [
        {
          "output_type": "execute_result",
          "data": {
            "text/plain": [
              "<graphviz.dot.Digraph at 0x7feca5fdaeb8>"
            ],
            "image/svg+xml": "<?xml version=\"1.0\" encoding=\"UTF-8\" standalone=\"no\"?>\n<!DOCTYPE svg PUBLIC \"-//W3C//DTD SVG 1.1//EN\"\n \"http://www.w3.org/Graphics/SVG/1.1/DTD/svg11.dtd\">\n<!-- Generated by graphviz version 2.40.1 (20161225.0304)\n -->\n<!-- Title: %3 Pages: 1 -->\n<svg width=\"402pt\" height=\"139pt\"\n viewBox=\"0.00 0.00 401.99 138.80\" xmlns=\"http://www.w3.org/2000/svg\" xmlns:xlink=\"http://www.w3.org/1999/xlink\">\n<g id=\"graph0\" class=\"graph\" transform=\"scale(1 1) rotate(0) translate(4 134.7982)\">\n<title>%3</title>\n<polygon fill=\"#ffffff\" stroke=\"transparent\" points=\"-4,4 -4,-134.7982 397.9896,-134.7982 397.9896,4 -4,4\"/>\n<!-- EMPTY -->\n<g id=\"node1\" class=\"node\">\n<title>EMPTY</title>\n</g>\n<!-- I1 -->\n<g id=\"node3\" class=\"node\">\n<title>I1</title>\n<ellipse fill=\"none\" stroke=\"#000000\" cx=\"109.8483\" cy=\"-69.7982\" rx=\"18.6979\" ry=\"18.6979\"/>\n<text text-anchor=\"middle\" x=\"109.8483\" y=\"-66.0982\" font-family=\"Times,serif\" font-size=\"14.00\" fill=\"#000000\">I1</text>\n</g>\n<!-- EMPTY&#45;&gt;I1 -->\n<g id=\"edge1\" class=\"edge\">\n<title>EMPTY&#45;&gt;I1</title>\n<path fill=\"none\" stroke=\"#000000\" d=\"M54.1276,-46.2585C63.2769,-50.1236 73.4867,-54.4369 82.642,-58.3046\"/>\n<polygon fill=\"#000000\" stroke=\"#000000\" points=\"81.4888,-61.6169 92.0626,-62.2844 84.2129,-55.1687 81.4888,-61.6169\"/>\n</g>\n<!-- I2 -->\n<g id=\"node4\" class=\"node\">\n<title>I2</title>\n<ellipse fill=\"none\" stroke=\"#000000\" cx=\"193.545\" cy=\"-26.7982\" rx=\"18.6979\" ry=\"18.6979\"/>\n<text text-anchor=\"middle\" x=\"193.545\" y=\"-23.0982\" font-family=\"Times,serif\" font-size=\"14.00\" fill=\"#000000\">I2</text>\n</g>\n<!-- EMPTY&#45;&gt;I2 -->\n<g id=\"edge2\" class=\"edge\">\n<title>EMPTY&#45;&gt;I2</title>\n<path fill=\"none\" stroke=\"#000000\" d=\"M54.129,-33.495C84.4711,-32.0375 133.4281,-29.6859 164.5205,-28.1923\"/>\n<polygon fill=\"#000000\" stroke=\"#000000\" points=\"164.8929,-31.6786 174.7135,-27.7027 164.557,-24.6866 164.8929,-31.6786\"/>\n</g>\n<!-- B -->\n<g id=\"node2\" class=\"node\">\n<title>B</title>\n<ellipse fill=\"none\" stroke=\"#000000\" cx=\"278.3933\" cy=\"-79.7982\" rx=\"18\" ry=\"18\"/>\n<text text-anchor=\"middle\" x=\"278.3933\" y=\"-76.0982\" font-family=\"Times,serif\" font-size=\"14.00\" fill=\"#000000\">B</text>\n</g>\n<!-- B&#45;&gt;B -->\n<g id=\"edge7\" class=\"edge\">\n<title>B&#45;&gt;B</title>\n<path fill=\"none\" stroke=\"#000000\" d=\"M271.3621,-96.4622C269.7996,-106.4232 272.1433,-115.7982 278.3933,-115.7982 282.3972,-115.7982 284.798,-111.9507 285.5956,-106.5664\"/>\n<polygon fill=\"#000000\" stroke=\"#000000\" points=\"289.0935,-106.4015 285.4246,-96.4622 282.0945,-106.5201 289.0935,-106.4015\"/>\n<text text-anchor=\"middle\" x=\"278.3933\" y=\"-119.5982\" font-family=\"Times,serif\" font-size=\"14.00\" fill=\"#000000\">s </text>\n</g>\n<!-- F4 -->\n<g id=\"node5\" class=\"node\">\n<title>F4</title>\n<ellipse fill=\"none\" stroke=\"#000000\" cx=\"369.1915\" cy=\"-93.7982\" rx=\"20.6302\" ry=\"20.6302\"/>\n<ellipse fill=\"none\" stroke=\"#000000\" cx=\"369.1915\" cy=\"-93.7982\" rx=\"24.5979\" ry=\"24.5979\"/>\n<text text-anchor=\"middle\" x=\"369.1915\" y=\"-90.0982\" font-family=\"Times,serif\" font-size=\"14.00\" fill=\"#000000\">F4</text>\n</g>\n<!-- B&#45;&gt;F4 -->\n<g id=\"edge8\" class=\"edge\">\n<title>B&#45;&gt;F4</title>\n<path fill=\"none\" stroke=\"#000000\" d=\"M296.3321,-82.5641C307.1797,-84.2367 321.3778,-86.4259 334.3563,-88.427\"/>\n<polygon fill=\"#000000\" stroke=\"#000000\" points=\"333.9995,-91.9133 344.4161,-89.9781 335.0663,-84.995 333.9995,-91.9133\"/>\n<text text-anchor=\"middle\" x=\"320.3933\" y=\"-90.5982\" font-family=\"Times,serif\" font-size=\"14.00\" fill=\"#000000\">d </text>\n</g>\n<!-- F3 -->\n<g id=\"node6\" class=\"node\">\n<title>F3</title>\n<ellipse fill=\"none\" stroke=\"#000000\" cx=\"369.1915\" cy=\"-24.7982\" rx=\"20.6302\" ry=\"20.6302\"/>\n<ellipse fill=\"none\" stroke=\"#000000\" cx=\"369.1915\" cy=\"-24.7982\" rx=\"24.5979\" ry=\"24.5979\"/>\n<text text-anchor=\"middle\" x=\"369.1915\" y=\"-21.0982\" font-family=\"Times,serif\" font-size=\"14.00\" fill=\"#000000\">F3</text>\n</g>\n<!-- B&#45;&gt;F3 -->\n<g id=\"edge9\" class=\"edge\">\n<title>B&#45;&gt;F3</title>\n<path fill=\"none\" stroke=\"#000000\" d=\"M293.796,-70.4682C306.2307,-62.9359 324.0998,-52.112 339.3209,-42.8919\"/>\n<polygon fill=\"#000000\" stroke=\"#000000\" points=\"341.176,-45.8603 347.9159,-37.6856 337.5493,-39.873 341.176,-45.8603\"/>\n<text text-anchor=\"middle\" x=\"320.3933\" y=\"-61.5982\" font-family=\"Times,serif\" font-size=\"14.00\" fill=\"#000000\">f </text>\n</g>\n<!-- I1&#45;&gt;B -->\n<g id=\"edge3\" class=\"edge\">\n<title>I1&#45;&gt;B</title>\n<path fill=\"none\" stroke=\"#000000\" d=\"M128.855,-70.9258C158.3749,-72.6773 215.4247,-76.0621 249.8904,-78.107\"/>\n<polygon fill=\"#000000\" stroke=\"#000000\" points=\"250.0337,-81.6216 260.2235,-78.7201 250.4484,-74.6339 250.0337,-81.6216\"/>\n<text text-anchor=\"middle\" x=\"193.545\" y=\"-78.5982\" font-family=\"Times,serif\" font-size=\"14.00\" fill=\"#000000\">&#39;&#39; </text>\n</g>\n<!-- I1&#45;&gt;I2 -->\n<g id=\"edge4\" class=\"edge\">\n<title>I1&#45;&gt;I2</title>\n<path fill=\"none\" stroke=\"#000000\" d=\"M126.7856,-61.0965C138.4705,-55.0932 154.2293,-46.997 167.5017,-40.1781\"/>\n<polygon fill=\"#000000\" stroke=\"#000000\" points=\"169.3376,-43.1699 176.6329,-35.4869 166.1387,-36.9436 169.3376,-43.1699\"/>\n<text text-anchor=\"middle\" x=\"151.6967\" y=\"-53.5982\" font-family=\"Times,serif\" font-size=\"14.00\" fill=\"#000000\">a </text>\n</g>\n<!-- I2&#45;&gt;B -->\n<g id=\"edge6\" class=\"edge\">\n<title>I2&#45;&gt;B</title>\n<path fill=\"none\" stroke=\"#000000\" d=\"M209.8725,-36.726C219.3857,-42.5353 231.5978,-50.0353 242.3933,-56.7982 246.3176,-59.2566 250.4692,-61.8839 254.5037,-64.4516\"/>\n<polygon fill=\"#000000\" stroke=\"#000000\" points=\"252.7036,-67.4549 263.0152,-69.8886 256.4719,-61.5557 252.7036,-67.4549\"/>\n<text text-anchor=\"middle\" x=\"236.3933\" y=\"-60.5982\" font-family=\"Times,serif\" font-size=\"14.00\" fill=\"#000000\">b </text>\n</g>\n<!-- I2&#45;&gt;F3 -->\n<g id=\"edge5\" class=\"edge\">\n<title>I2&#45;&gt;F3</title>\n<path fill=\"none\" stroke=\"#000000\" d=\"M212.6766,-26.5803C241.7287,-26.2495 297.4437,-25.6151 333.9583,-25.1993\"/>\n<polygon fill=\"#000000\" stroke=\"#000000\" points=\"334.2068,-28.6968 344.1663,-25.0831 334.1271,-21.6973 334.2068,-28.6968\"/>\n<text text-anchor=\"middle\" x=\"278.3933\" y=\"-30.5982\" font-family=\"Times,serif\" font-size=\"14.00\" fill=\"#000000\">c </text>\n</g>\n</g>\n</svg>\n"
          },
          "metadata": {
            "tags": []
          },
          "execution_count": 10
        }
      ]
    },
    {
      "cell_type": "markdown",
      "metadata": {
        "id": "h3BNQFbW1Fak"
      },
      "source": [
        "## 1.3: Inspect and conclude that rnfa1 is truly the reverse of nfa1\n",
        "### List the first six strings in numeric order and check that they have been correctly reversed. State the string in the original machine and explain (by specifying a path as a sequence of states) that this string is present in the reversed machine also.\n",
        "\n",
        "1. ac is present in nfa1 and ca is present in rnfa1\n",
        "\n",
        "2. abd is present in nfa1 and dba is present in rnfa1\n",
        "\n",
        "3. absd is present in nfa1 and dsba is present in rnfa1\n",
        "\n",
        "4. abf is present in nfa1 and fba is present in rnfa1\n",
        "\n",
        "5. absf is present in nfa1 and fsba is present in rnfa1\n",
        "\n",
        "6. bsf is present in nfa1 and fsb is present in rnfa1\n",
        "\n",
        " \n",
        " "
      ]
    },
    {
      "cell_type": "markdown",
      "metadata": {
        "id": "Pln4gmGl1Fak"
      },
      "source": [
        "# Problem 2: Extraction of RE by Inspection and other things before it\n"
      ]
    },
    {
      "cell_type": "markdown",
      "metadata": {
        "id": "KfUW_PBz1Fak"
      },
      "source": [
        "## 2.1: Totalize dfa1 to obtain the totalized machine, then explain totalize_dfa in a few sentences below, by looking at the Delta before and After"
      ]
    },
    {
      "cell_type": "code",
      "metadata": {
        "id": "Vq0a77k-1Fal"
      },
      "source": [
        "tdfa1 = totalize_dfa(dfa1)"
      ],
      "execution_count": null,
      "outputs": []
    },
    {
      "cell_type": "markdown",
      "metadata": {
        "id": "eMdiPwL01Fal"
      },
      "source": [
        "### Your explanation of totalize_dfa:\n",
        "\n",
        "* All symbols need to have a transition from each state\n",
        "\n",
        "* Totalizing puts each missing transition to the black hole state\n",
        "\n",
        "* Totalizing a DFA ensures there isn't any undefined behavior within the automata.\n",
        "\n"
      ]
    },
    {
      "cell_type": "markdown",
      "metadata": {
        "id": "27sayTkz1Fal"
      },
      "source": [
        "##  Compare the dfa with and without the black hole:"
      ]
    },
    {
      "cell_type": "code",
      "metadata": {
        "id": "rDOSZT6p1Fal",
        "colab": {
          "base_uri": "https://localhost:8080/",
          "height": 332
        },
        "outputId": "ff79348e-b477-4d48-987f-b6e37f525057"
      },
      "source": [
        "dotObj_dfa(tdfa1)"
      ],
      "execution_count": null,
      "outputs": [
        {
          "output_type": "execute_result",
          "data": {
            "text/plain": [
              "<graphviz.dot.Digraph at 0x7feca6019358>"
            ],
            "image/svg+xml": "<?xml version=\"1.0\" encoding=\"UTF-8\" standalone=\"no\"?>\n<!DOCTYPE svg PUBLIC \"-//W3C//DTD SVG 1.1//EN\"\n \"http://www.w3.org/Graphics/SVG/1.1/DTD/svg11.dtd\">\n<!-- Generated by graphviz version 2.40.1 (20161225.0304)\n -->\n<!-- Title: %3 Pages: 1 -->\n<svg width=\"476pt\" height=\"233pt\"\n viewBox=\"0.00 0.00 476.08 233.00\" xmlns=\"http://www.w3.org/2000/svg\" xmlns:xlink=\"http://www.w3.org/1999/xlink\">\n<g id=\"graph0\" class=\"graph\" transform=\"scale(1 1) rotate(0) translate(4 229.0008)\">\n<title>%3</title>\n<polygon fill=\"#ffffff\" stroke=\"transparent\" points=\"-4,4 -4,-229.0008 472.083,-229.0008 472.083,4 -4,4\"/>\n<!-- EMPTY -->\n<g id=\"node1\" class=\"node\">\n<title>EMPTY</title>\n</g>\n<!-- I1_I2_B -->\n<g id=\"node2\" class=\"node\">\n<title>I1_I2_B</title>\n<ellipse fill=\"none\" stroke=\"#000000\" cx=\"133.2463\" cy=\"-130.0008\" rx=\"42.4939\" ry=\"42.4939\"/>\n<text text-anchor=\"middle\" x=\"133.2463\" y=\"-126.3008\" font-family=\"Times,serif\" font-size=\"14.00\" fill=\"#000000\">I1_I2_B</text>\n</g>\n<!-- EMPTY&#45;&gt;I1_I2_B -->\n<g id=\"edge1\" class=\"edge\">\n<title>EMPTY&#45;&gt;I1_I2_B</title>\n<path fill=\"none\" stroke=\"#000000\" d=\"M54.0853,-130.0008C62.3026,-130.0008 71.6242,-130.0008 80.9135,-130.0008\"/>\n<polygon fill=\"#000000\" stroke=\"#000000\" points=\"80.927,-133.5009 90.927,-130.0008 80.9269,-126.5009 80.927,-133.5009\"/>\n</g>\n<!-- wasI2 -->\n<g id=\"node3\" class=\"node\">\n<title>wasI2</title>\n<ellipse fill=\"none\" stroke=\"#000000\" cx=\"253.9896\" cy=\"-79.0008\" rx=\"32.4942\" ry=\"32.4942\"/>\n<text text-anchor=\"middle\" x=\"253.9896\" y=\"-75.3008\" font-family=\"Times,serif\" font-size=\"14.00\" fill=\"#000000\">wasI2</text>\n</g>\n<!-- I1_I2_B&#45;&gt;wasI2 -->\n<g id=\"edge2\" class=\"edge\">\n<title>I1_I2_B&#45;&gt;wasI2</title>\n<path fill=\"none\" stroke=\"#000000\" d=\"M172.4482,-113.4426C185.8576,-107.7787 200.8624,-101.4409 214.3092,-95.7612\"/>\n<polygon fill=\"#000000\" stroke=\"#000000\" points=\"215.9301,-98.876 223.7802,-91.7608 213.2063,-92.4277 215.9301,-98.876\"/>\n<text text-anchor=\"middle\" x=\"198.4925\" y=\"-108.8008\" font-family=\"Times,serif\" font-size=\"14.00\" fill=\"#000000\">a </text>\n</g>\n<!-- B -->\n<g id=\"node4\" class=\"node\">\n<title>B</title>\n<ellipse fill=\"none\" stroke=\"#000000\" cx=\"352.4867\" cy=\"-147.0008\" rx=\"18\" ry=\"18\"/>\n<text text-anchor=\"middle\" x=\"352.4867\" y=\"-143.3008\" font-family=\"Times,serif\" font-size=\"14.00\" fill=\"#000000\">B</text>\n</g>\n<!-- I1_I2_B&#45;&gt;B -->\n<g id=\"edge3\" class=\"edge\">\n<title>I1_I2_B&#45;&gt;B</title>\n<path fill=\"none\" stroke=\"#000000\" d=\"M170.0891,-151.1392C177.653,-154.8515 185.6921,-158.3641 193.4925,-161.0008 245.2781,-178.5056 263.7743,-175.4771 316.4867,-161.0008 319.72,-160.1129 323.0636,-159.0378 326.351,-157.8824\"/>\n<polygon fill=\"#000000\" stroke=\"#000000\" points=\"327.761,-161.0912 335.8785,-154.2827 325.2869,-154.543 327.761,-161.0912\"/>\n<text text-anchor=\"middle\" x=\"253.9896\" y=\"-177.8008\" font-family=\"Times,serif\" font-size=\"14.00\" fill=\"#000000\">b </text>\n</g>\n<!-- I1_I2_B&#45;&gt;B -->\n<g id=\"edge4\" class=\"edge\">\n<title>I1_I2_B&#45;&gt;B</title>\n<path fill=\"none\" stroke=\"#000000\" d=\"M175.518,-133.2786C219.2332,-136.6683 286.2787,-141.8671 324.0548,-144.7962\"/>\n<polygon fill=\"#000000\" stroke=\"#000000\" points=\"324.0948,-148.3097 334.3355,-145.5934 324.636,-141.3307 324.0948,-148.3097\"/>\n<text text-anchor=\"middle\" x=\"253.9896\" y=\"-145.8008\" font-family=\"Times,serif\" font-size=\"14.00\" fill=\"#000000\">s </text>\n</g>\n<!-- F4 -->\n<g id=\"node5\" class=\"node\">\n<title>F4</title>\n<ellipse fill=\"none\" stroke=\"#000000\" cx=\"443.2849\" cy=\"-196.0008\" rx=\"20.6302\" ry=\"20.6302\"/>\n<ellipse fill=\"none\" stroke=\"#000000\" cx=\"443.2849\" cy=\"-196.0008\" rx=\"24.5979\" ry=\"24.5979\"/>\n<text text-anchor=\"middle\" x=\"443.2849\" y=\"-192.3008\" font-family=\"Times,serif\" font-size=\"14.00\" fill=\"#000000\">F4</text>\n</g>\n<!-- I1_I2_B&#45;&gt;F4 -->\n<g id=\"edge6\" class=\"edge\">\n<title>I1_I2_B&#45;&gt;F4</title>\n<path fill=\"none\" stroke=\"#000000\" d=\"M164.1559,-159.0712C180.0204,-172.055 200.4161,-185.9881 221.4925,-193.0008 284.6021,-213.9994 304.1623,-211.9835 370.4867,-207.0008 383.0068,-206.0603 396.6367,-204.222 408.6814,-202.3135\"/>\n<polygon fill=\"#000000\" stroke=\"#000000\" points=\"409.4968,-205.7262 418.7904,-200.6389 408.3528,-198.8203 409.4968,-205.7262\"/>\n<text text-anchor=\"middle\" x=\"310.4867\" y=\"-213.8008\" font-family=\"Times,serif\" font-size=\"14.00\" fill=\"#000000\">d </text>\n</g>\n<!-- F3 -->\n<g id=\"node6\" class=\"node\">\n<title>F3</title>\n<ellipse fill=\"none\" stroke=\"#000000\" cx=\"443.2849\" cy=\"-45.0008\" rx=\"20.6302\" ry=\"20.6302\"/>\n<ellipse fill=\"none\" stroke=\"#000000\" cx=\"443.2849\" cy=\"-45.0008\" rx=\"24.5979\" ry=\"24.5979\"/>\n<text text-anchor=\"middle\" x=\"443.2849\" y=\"-41.3008\" font-family=\"Times,serif\" font-size=\"14.00\" fill=\"#000000\">F3</text>\n</g>\n<!-- I1_I2_B&#45;&gt;F3 -->\n<g id=\"edge5\" class=\"edge\">\n<title>I1_I2_B&#45;&gt;F3</title>\n<path fill=\"none\" stroke=\"#000000\" d=\"M156.3872,-94.2228C171.9976,-73.5629 194.6198,-49.4611 221.4925,-38.0008 283.6281,-11.5022 364.6957,-24.5868 409.6116,-35.4625\"/>\n<polygon fill=\"#000000\" stroke=\"#000000\" points=\"408.8707,-38.8853 419.4237,-37.944 410.5871,-32.0989 408.8707,-38.8853\"/>\n<text text-anchor=\"middle\" x=\"310.4867\" y=\"-26.8008\" font-family=\"Times,serif\" font-size=\"14.00\" fill=\"#000000\">c </text>\n</g>\n<!-- I1_I2_B&#45;&gt;F3 -->\n<g id=\"edge7\" class=\"edge\">\n<title>I1_I2_B&#45;&gt;F3</title>\n<path fill=\"none\" stroke=\"#000000\" d=\"M152.261,-92.0791C167.2617,-66.6794 190.7738,-35.2071 221.4925,-20.0008 292.8596,15.3269 325.1048,-2.3321 400.4867,-28.0008 403.8428,-29.1436 407.3203,-30.4006 410.7765,-31.6979\"/>\n<polygon fill=\"#000000\" stroke=\"#000000\" points=\"409.7528,-35.0546 420.342,-35.3994 412.279,-28.5263 409.7528,-35.0546\"/>\n<text text-anchor=\"middle\" x=\"310.4867\" y=\"-5.8008\" font-family=\"Times,serif\" font-size=\"14.00\" fill=\"#000000\">f </text>\n</g>\n<!-- wasI2&#45;&gt;B -->\n<g id=\"edge8\" class=\"edge\">\n<title>wasI2&#45;&gt;B</title>\n<path fill=\"none\" stroke=\"#000000\" d=\"M282.1461,-95.5788C293.0612,-102.2609 305.5417,-110.2199 316.4867,-118.0008 321.2291,-121.3722 326.1727,-125.1599 330.8232,-128.8578\"/>\n<polygon fill=\"#000000\" stroke=\"#000000\" points=\"328.8004,-131.7238 338.7708,-135.3075 333.2114,-126.2884 328.8004,-131.7238\"/>\n<text text-anchor=\"middle\" x=\"310.4867\" y=\"-121.8008\" font-family=\"Times,serif\" font-size=\"14.00\" fill=\"#000000\">b </text>\n</g>\n<!-- wasI2&#45;&gt;F3 -->\n<g id=\"edge9\" class=\"edge\">\n<title>wasI2&#45;&gt;F3</title>\n<path fill=\"none\" stroke=\"#000000\" d=\"M286.101,-73.2332C320.1321,-67.1208 373.6868,-57.5016 408.648,-51.2221\"/>\n<polygon fill=\"#000000\" stroke=\"#000000\" points=\"409.6352,-54.6009 418.8589,-49.3881 408.3977,-47.7111 409.6352,-54.6009\"/>\n<text text-anchor=\"middle\" x=\"352.4867\" y=\"-68.8008\" font-family=\"Times,serif\" font-size=\"14.00\" fill=\"#000000\">c </text>\n</g>\n<!-- B&#45;&gt;B -->\n<g id=\"edge10\" class=\"edge\">\n<title>B&#45;&gt;B</title>\n<path fill=\"none\" stroke=\"#000000\" d=\"M345.4555,-163.6649C343.893,-173.6258 346.2367,-183.0008 352.4867,-183.0008 356.4906,-183.0008 358.8914,-179.1533 359.6891,-173.7691\"/>\n<polygon fill=\"#000000\" stroke=\"#000000\" points=\"363.1869,-173.6042 359.518,-163.6649 356.1879,-173.7228 363.1869,-173.6042\"/>\n<text text-anchor=\"middle\" x=\"352.4867\" y=\"-186.8008\" font-family=\"Times,serif\" font-size=\"14.00\" fill=\"#000000\">s </text>\n</g>\n<!-- B&#45;&gt;F4 -->\n<g id=\"edge12\" class=\"edge\">\n<title>B&#45;&gt;F4</title>\n<path fill=\"none\" stroke=\"#000000\" d=\"M368.7196,-155.7611C380.7706,-162.2645 397.5763,-171.3338 412.1829,-179.2164\"/>\n<polygon fill=\"#000000\" stroke=\"#000000\" points=\"410.9295,-182.5171 421.392,-184.1862 414.2539,-176.3568 410.9295,-182.5171\"/>\n<text text-anchor=\"middle\" x=\"394.4867\" y=\"-175.8008\" font-family=\"Times,serif\" font-size=\"14.00\" fill=\"#000000\">d </text>\n</g>\n<!-- B&#45;&gt;F3 -->\n<g id=\"edge11\" class=\"edge\">\n<title>B&#45;&gt;F3</title>\n<path fill=\"none\" stroke=\"#000000\" d=\"M364.7322,-133.2447C378.8343,-117.4028 402.3205,-91.019 419.946,-71.2191\"/>\n<polygon fill=\"#000000\" stroke=\"#000000\" points=\"422.5848,-73.5187 426.6195,-63.7222 417.3562,-68.8644 422.5848,-73.5187\"/>\n<text text-anchor=\"middle\" x=\"394.4867\" y=\"-109.8008\" font-family=\"Times,serif\" font-size=\"14.00\" fill=\"#000000\">f </text>\n</g>\n</g>\n</svg>\n"
          },
          "metadata": {
            "tags": []
          },
          "execution_count": 12
        }
      ]
    },
    {
      "cell_type": "code",
      "metadata": {
        "id": "dWbXpki11Fam",
        "colab": {
          "base_uri": "https://localhost:8080/",
          "height": 928
        },
        "outputId": "6138bb2a-ce21-4774-c829-1e774a516689"
      },
      "source": [
        "dotObj_dfa_w_bh(tdfa1)"
      ],
      "execution_count": null,
      "outputs": [
        {
          "output_type": "execute_result",
          "data": {
            "text/plain": [
              "<graphviz.dot.Digraph at 0x7feca6019320>"
            ],
            "image/svg+xml": "<?xml version=\"1.0\" encoding=\"UTF-8\" standalone=\"no\"?>\n<!DOCTYPE svg PUBLIC \"-//W3C//DTD SVG 1.1//EN\"\n \"http://www.w3.org/Graphics/SVG/1.1/DTD/svg11.dtd\">\n<!-- Generated by graphviz version 2.40.1 (20161225.0304)\n -->\n<!-- Title: %3 Pages: 1 -->\n<svg width=\"572pt\" height=\"680pt\"\n viewBox=\"0.00 0.00 572.18 679.58\" xmlns=\"http://www.w3.org/2000/svg\" xmlns:xlink=\"http://www.w3.org/1999/xlink\">\n<g id=\"graph0\" class=\"graph\" transform=\"scale(1 1) rotate(0) translate(4 675.5813)\">\n<title>%3</title>\n<polygon fill=\"#ffffff\" stroke=\"transparent\" points=\"-4,4 -4,-675.5813 568.1788,-675.5813 568.1788,4 -4,4\"/>\n<!-- EMPTY -->\n<g id=\"node1\" class=\"node\">\n<title>EMPTY</title>\n</g>\n<!-- I1_I2_B -->\n<g id=\"node2\" class=\"node\">\n<title>I1_I2_B</title>\n<ellipse fill=\"none\" stroke=\"#000000\" cx=\"133.2463\" cy=\"-325.5813\" rx=\"42.4939\" ry=\"42.4939\"/>\n<text text-anchor=\"middle\" x=\"133.2463\" y=\"-321.8813\" font-family=\"Times,serif\" font-size=\"14.00\" fill=\"#000000\">I1_I2_B</text>\n</g>\n<!-- EMPTY&#45;&gt;I1_I2_B -->\n<g id=\"edge1\" class=\"edge\">\n<title>EMPTY&#45;&gt;I1_I2_B</title>\n<path fill=\"none\" stroke=\"#000000\" d=\"M54.0853,-325.5813C62.3026,-325.5813 71.6242,-325.5813 80.9135,-325.5813\"/>\n<polygon fill=\"#000000\" stroke=\"#000000\" points=\"80.927,-329.0814 90.927,-325.5813 80.9269,-322.0814 80.927,-329.0814\"/>\n</g>\n<!-- wasI2 -->\n<g id=\"node3\" class=\"node\">\n<title>wasI2</title>\n<ellipse fill=\"none\" stroke=\"#000000\" cx=\"253.9896\" cy=\"-529.5813\" rx=\"32.4942\" ry=\"32.4942\"/>\n<text text-anchor=\"middle\" x=\"253.9896\" y=\"-525.8813\" font-family=\"Times,serif\" font-size=\"14.00\" fill=\"#000000\">wasI2</text>\n</g>\n<!-- I1_I2_B&#45;&gt;wasI2 -->\n<g id=\"edge2\" class=\"edge\">\n<title>I1_I2_B&#45;&gt;wasI2</title>\n<path fill=\"none\" stroke=\"#000000\" d=\"M154.8327,-362.0525C176.6567,-398.9247 210.207,-455.6091 232.1286,-492.6465\"/>\n<polygon fill=\"#000000\" stroke=\"#000000\" points=\"229.3317,-494.7925 237.4372,-501.6154 235.3556,-491.2271 229.3317,-494.7925\"/>\n<text text-anchor=\"middle\" x=\"198.4925\" y=\"-443.3813\" font-family=\"Times,serif\" font-size=\"14.00\" fill=\"#000000\">a </text>\n</g>\n<!-- B -->\n<g id=\"node4\" class=\"node\">\n<title>B</title>\n<ellipse fill=\"none\" stroke=\"#000000\" cx=\"352.4867\" cy=\"-396.5813\" rx=\"18\" ry=\"18\"/>\n<text text-anchor=\"middle\" x=\"352.4867\" y=\"-392.8813\" font-family=\"Times,serif\" font-size=\"14.00\" fill=\"#000000\">B</text>\n</g>\n<!-- I1_I2_B&#45;&gt;B -->\n<g id=\"edge3\" class=\"edge\">\n<title>I1_I2_B&#45;&gt;B</title>\n<path fill=\"none\" stroke=\"#000000\" d=\"M168.1921,-349.7849C176.236,-354.5685 184.9458,-359.1606 193.4925,-362.5813 237.2855,-380.1091 291.6539,-389.2413 324.1305,-393.4701\"/>\n<polygon fill=\"#000000\" stroke=\"#000000\" points=\"323.9044,-396.9687 334.2581,-394.7212 324.7627,-390.0215 323.9044,-396.9687\"/>\n<text text-anchor=\"middle\" x=\"253.9896\" y=\"-390.3813\" font-family=\"Times,serif\" font-size=\"14.00\" fill=\"#000000\">b </text>\n</g>\n<!-- I1_I2_B&#45;&gt;B -->\n<g id=\"edge4\" class=\"edge\">\n<title>I1_I2_B&#45;&gt;B</title>\n<path fill=\"none\" stroke=\"#000000\" d=\"M175.416,-329.215C206.8886,-332.9529 250.4848,-340.3318 286.4867,-354.5813 301.9329,-360.695 317.6855,-370.5542 329.9257,-379.1843\"/>\n<polygon fill=\"#000000\" stroke=\"#000000\" points=\"328.0183,-382.125 338.1631,-385.18 332.1377,-376.4654 328.0183,-382.125\"/>\n<text text-anchor=\"middle\" x=\"253.9896\" y=\"-358.3813\" font-family=\"Times,serif\" font-size=\"14.00\" fill=\"#000000\">s </text>\n</g>\n<!-- F4 -->\n<g id=\"node6\" class=\"node\">\n<title>F4</title>\n<ellipse fill=\"none\" stroke=\"#000000\" cx=\"443.2849\" cy=\"-320.5813\" rx=\"20.6302\" ry=\"20.6302\"/>\n<ellipse fill=\"none\" stroke=\"#000000\" cx=\"443.2849\" cy=\"-320.5813\" rx=\"24.5979\" ry=\"24.5979\"/>\n<text text-anchor=\"middle\" x=\"443.2849\" y=\"-316.8813\" font-family=\"Times,serif\" font-size=\"14.00\" fill=\"#000000\">F4</text>\n</g>\n<!-- I1_I2_B&#45;&gt;F4 -->\n<g id=\"edge6\" class=\"edge\">\n<title>I1_I2_B&#45;&gt;F4</title>\n<path fill=\"none\" stroke=\"#000000\" d=\"M175.7057,-324.8966C237.5316,-323.8995 351.1833,-322.0667 408.4127,-321.1437\"/>\n<polygon fill=\"#000000\" stroke=\"#000000\" points=\"408.4746,-324.6433 418.4168,-320.9824 408.3617,-317.6442 408.4746,-324.6433\"/>\n<text text-anchor=\"middle\" x=\"310.4867\" y=\"-327.3813\" font-family=\"Times,serif\" font-size=\"14.00\" fill=\"#000000\">d </text>\n</g>\n<!-- F3 -->\n<g id=\"node7\" class=\"node\">\n<title>F3</title>\n<ellipse fill=\"none\" stroke=\"#000000\" cx=\"443.2849\" cy=\"-172.5813\" rx=\"20.6302\" ry=\"20.6302\"/>\n<ellipse fill=\"none\" stroke=\"#000000\" cx=\"443.2849\" cy=\"-172.5813\" rx=\"24.5979\" ry=\"24.5979\"/>\n<text text-anchor=\"middle\" x=\"443.2849\" y=\"-168.8813\" font-family=\"Times,serif\" font-size=\"14.00\" fill=\"#000000\">F3</text>\n</g>\n<!-- I1_I2_B&#45;&gt;F3 -->\n<g id=\"edge5\" class=\"edge\">\n<title>I1_I2_B&#45;&gt;F3</title>\n<path fill=\"none\" stroke=\"#000000\" d=\"M171.2631,-306.8205C233.0165,-276.3461 353.9931,-216.6457 411.4839,-188.2747\"/>\n<polygon fill=\"#000000\" stroke=\"#000000\" points=\"413.3819,-191.2411 420.8005,-183.6771 410.2841,-184.9639 413.3819,-191.2411\"/>\n<text text-anchor=\"middle\" x=\"310.4867\" y=\"-244.3813\" font-family=\"Times,serif\" font-size=\"14.00\" fill=\"#000000\">c </text>\n</g>\n<!-- I1_I2_B&#45;&gt;F3 -->\n<g id=\"edge7\" class=\"edge\">\n<title>I1_I2_B&#45;&gt;F3</title>\n<path fill=\"none\" stroke=\"#000000\" d=\"M162.4846,-294.7653C178.7047,-279.0203 199.9191,-260.509 221.4925,-247.5813 282.4667,-211.0433 363.635,-189.4261 408.954,-179.3948\"/>\n<polygon fill=\"#000000\" stroke=\"#000000\" points=\"409.8265,-182.7873 418.8653,-177.26 408.3525,-175.9442 409.8265,-182.7873\"/>\n<text text-anchor=\"middle\" x=\"310.4867\" y=\"-213.3813\" font-family=\"Times,serif\" font-size=\"14.00\" fill=\"#000000\">f </text>\n</g>\n<!-- wasI2&#45;&gt;B -->\n<g id=\"edge8\" class=\"edge\">\n<title>wasI2&#45;&gt;B</title>\n<path fill=\"none\" stroke=\"#000000\" d=\"M273.4495,-503.3048C291.5452,-478.8703 318.2357,-442.8303 335.4933,-419.5275\"/>\n<polygon fill=\"#000000\" stroke=\"#000000\" points=\"338.4691,-421.3901 341.6079,-411.2709 332.8438,-417.2241 338.4691,-421.3901\"/>\n<text text-anchor=\"middle\" x=\"310.4867\" y=\"-462.3813\" font-family=\"Times,serif\" font-size=\"14.00\" fill=\"#000000\">b </text>\n</g>\n<!-- BH -->\n<g id=\"node5\" class=\"node\">\n<title>BH</title>\n<ellipse fill=\"none\" stroke=\"#000000\" cx=\"540.1309\" cy=\"-330.5813\" rx=\"24.0958\" ry=\"24.0958\"/>\n<text text-anchor=\"middle\" x=\"540.1309\" y=\"-326.8813\" font-family=\"Times,serif\" font-size=\"14.00\" fill=\"#000000\">BH</text>\n</g>\n<!-- wasI2&#45;&gt;BH -->\n<g id=\"edge19\" class=\"edge\">\n<title>wasI2&#45;&gt;BH</title>\n<path fill=\"none\" stroke=\"#000000\" d=\"M262.7819,-561.194C270.2824,-581.6775 283.3011,-606.8346 304.4867,-619.5813 378.2135,-663.9405 433.589,-676.5364 498.083,-619.5813 516.964,-602.9074 531.8695,-437.9681 537.5939,-365.0008\"/>\n<polygon fill=\"#000000\" stroke=\"#000000\" points=\"541.0911,-365.1708 538.3713,-354.9311 534.1119,-364.632 541.0911,-365.1708\"/>\n<text text-anchor=\"middle\" x=\"394.4867\" y=\"-660.3813\" font-family=\"Times,serif\" font-size=\"14.00\" fill=\"#000000\">a </text>\n</g>\n<!-- wasI2&#45;&gt;BH -->\n<g id=\"edge20\" class=\"edge\">\n<title>wasI2&#45;&gt;BH</title>\n<path fill=\"none\" stroke=\"#000000\" d=\"M272.8565,-556.4435C281.3021,-566.2215 292.1481,-576.1902 304.4867,-581.5813 383.332,-616.0312 432.9805,-637.8399 498.083,-581.5813 514.3127,-567.5564 530.1147,-430.3829 536.7993,-364.9601\"/>\n<polygon fill=\"#000000\" stroke=\"#000000\" points=\"540.3093,-365.035 537.8294,-354.7345 533.3446,-364.3333 540.3093,-365.035\"/>\n<text text-anchor=\"middle\" x=\"394.4867\" y=\"-618.3813\" font-family=\"Times,serif\" font-size=\"14.00\" fill=\"#000000\">f </text>\n</g>\n<!-- wasI2&#45;&gt;BH -->\n<g id=\"edge21\" class=\"edge\">\n<title>wasI2&#45;&gt;BH</title>\n<path fill=\"none\" stroke=\"#000000\" d=\"M283.9718,-543.0413C334.5154,-563.4508 437.1181,-594.7433 498.083,-543.5813 524.8807,-521.0927 534.9239,-419.2287 538.4205,-364.9229\"/>\n<polygon fill=\"#000000\" stroke=\"#000000\" points=\"541.9266,-364.9262 539.0356,-354.7334 534.9393,-364.5043 541.9266,-364.9262\"/>\n<text text-anchor=\"middle\" x=\"394.4867\" y=\"-574.3813\" font-family=\"Times,serif\" font-size=\"14.00\" fill=\"#000000\">s </text>\n</g>\n<!-- wasI2&#45;&gt;BH -->\n<g id=\"edge22\" class=\"edge\">\n<title>wasI2&#45;&gt;BH</title>\n<path fill=\"none\" stroke=\"#000000\" d=\"M286.1538,-535.9391C339.9518,-544.467 447.2767,-552.0453 498.083,-489.5813 513.58,-470.5287 527.2365,-405.2855 534.5284,-364.5326\"/>\n<polygon fill=\"#000000\" stroke=\"#000000\" points=\"538.009,-364.9472 536.285,-354.4935 531.1137,-363.7406 538.009,-364.9472\"/>\n<text text-anchor=\"middle\" x=\"394.4867\" y=\"-543.3813\" font-family=\"Times,serif\" font-size=\"14.00\" fill=\"#000000\">d </text>\n</g>\n<!-- wasI2&#45;&gt;F3 -->\n<g id=\"edge9\" class=\"edge\">\n<title>wasI2&#45;&gt;F3</title>\n<path fill=\"none\" stroke=\"#000000\" d=\"M266.7014,-499.3816C281.8133,-464.1193 308.2959,-404.2857 334.4867,-354.5813 363.5961,-299.3382 401.8961,-237.3985 424.4274,-201.8902\"/>\n<polygon fill=\"#000000\" stroke=\"#000000\" points=\"427.3814,-203.7673 429.8007,-193.4523 421.477,-200.0072 427.3814,-203.7673\"/>\n<text text-anchor=\"middle\" x=\"352.4867\" y=\"-358.3813\" font-family=\"Times,serif\" font-size=\"14.00\" fill=\"#000000\">c </text>\n</g>\n<!-- B&#45;&gt;B -->\n<g id=\"edge10\" class=\"edge\">\n<title>B&#45;&gt;B</title>\n<path fill=\"none\" stroke=\"#000000\" d=\"M345.1039,-413.2454C343.4633,-423.2063 345.9242,-432.5813 352.4867,-432.5813 356.6908,-432.5813 359.2117,-428.7338 360.0492,-423.3496\"/>\n<polygon fill=\"#000000\" stroke=\"#000000\" points=\"363.5469,-423.1816 359.8695,-413.2454 356.548,-423.3061 363.5469,-423.1816\"/>\n<text text-anchor=\"middle\" x=\"352.4867\" y=\"-436.3813\" font-family=\"Times,serif\" font-size=\"14.00\" fill=\"#000000\">s </text>\n</g>\n<!-- B&#45;&gt;BH -->\n<g id=\"edge29\" class=\"edge\">\n<title>B&#45;&gt;BH</title>\n<path fill=\"none\" stroke=\"#000000\" d=\"M370.7149,-394.9352C393.6704,-393.3086 434.2078,-391.9225 468.083,-398.5813 481.5174,-401.2221 486.2693,-412.5018 498.083,-405.5813 513.6561,-396.4587 523.8983,-379.2238 530.3713,-363.5742\"/>\n<polygon fill=\"#000000\" stroke=\"#000000\" points=\"533.6821,-364.7136 533.9286,-354.1216 527.1306,-362.248 533.6821,-364.7136\"/>\n<text text-anchor=\"middle\" x=\"443.2849\" y=\"-402.3813\" font-family=\"Times,serif\" font-size=\"14.00\" fill=\"#000000\">a </text>\n</g>\n<!-- B&#45;&gt;BH -->\n<g id=\"edge30\" class=\"edge\">\n<title>B&#45;&gt;BH</title>\n<path fill=\"none\" stroke=\"#000000\" d=\"M359.6782,-413.1733C365.6863,-425.0827 375.3838,-440.5634 388.4867,-449.5813 429.4856,-477.7984 458.2056,-502.3621 498.083,-472.5813 515.4065,-459.644 528.1165,-402.415 534.7977,-364.6761\"/>\n<polygon fill=\"#000000\" stroke=\"#000000\" points=\"538.2847,-365.0486 536.5211,-354.6016 531.385,-363.8683 538.2847,-365.0486\"/>\n<text text-anchor=\"middle\" x=\"443.2849\" y=\"-489.3813\" font-family=\"Times,serif\" font-size=\"14.00\" fill=\"#000000\">c </text>\n</g>\n<!-- B&#45;&gt;BH -->\n<g id=\"edge31\" class=\"edge\">\n<title>B&#45;&gt;BH</title>\n<path fill=\"none\" stroke=\"#000000\" d=\"M368.3413,-405.7564C396.7102,-420.8385 457.0217,-446.7192 498.083,-420.5813 517.4987,-408.2222 528.0982,-384.2908 533.7971,-364.211\"/>\n<polygon fill=\"#000000\" stroke=\"#000000\" points=\"537.2098,-364.9922 536.2848,-354.4378 530.4261,-363.2654 537.2098,-364.9922\"/>\n<text text-anchor=\"middle\" x=\"443.2849\" y=\"-435.3813\" font-family=\"Times,serif\" font-size=\"14.00\" fill=\"#000000\">b </text>\n</g>\n<!-- B&#45;&gt;F4 -->\n<g id=\"edge12\" class=\"edge\">\n<title>B&#45;&gt;F4</title>\n<path fill=\"none\" stroke=\"#000000\" d=\"M363.5864,-382.0042C370.2863,-373.7285 379.2863,-363.4785 388.4867,-355.5813 395.9095,-349.21 404.586,-343.1417 412.8169,-337.9013\"/>\n<polygon fill=\"#000000\" stroke=\"#000000\" points=\"414.809,-340.7851 421.493,-332.5647 411.1416,-334.8227 414.809,-340.7851\"/>\n<text text-anchor=\"middle\" x=\"394.4867\" y=\"-359.3813\" font-family=\"Times,serif\" font-size=\"14.00\" fill=\"#000000\">d </text>\n</g>\n<!-- B&#45;&gt;F3 -->\n<g id=\"edge11\" class=\"edge\">\n<title>B&#45;&gt;F3</title>\n<path fill=\"none\" stroke=\"#000000\" d=\"M359.3114,-379.7449C374.3206,-342.7169 410.4189,-253.6621 430.043,-205.2491\"/>\n<polygon fill=\"#000000\" stroke=\"#000000\" points=\"433.3391,-206.4345 433.8521,-195.8521 426.8518,-203.8048 433.3391,-206.4345\"/>\n<text text-anchor=\"middle\" x=\"394.4867\" y=\"-309.3813\" font-family=\"Times,serif\" font-size=\"14.00\" fill=\"#000000\">f </text>\n</g>\n<!-- BH&#45;&gt;BH -->\n<g id=\"edge32\" class=\"edge\">\n<title>BH&#45;&gt;BH</title>\n<path fill=\"none\" stroke=\"#000000\" d=\"M538.6401,-354.7786C538.5558,-364.4835 539.0528,-372.6292 540.1309,-372.6292 540.7879,-372.6292 541.2291,-369.6044 541.4544,-365.0452\"/>\n<polygon fill=\"#000000\" stroke=\"#000000\" points=\"544.9582,-364.8343 541.6218,-354.7786 537.9592,-364.7202 544.9582,-364.8343\"/>\n<text text-anchor=\"middle\" x=\"540.1309\" y=\"-376.4292\" font-family=\"Times,serif\" font-size=\"14.00\" fill=\"#000000\">a </text>\n</g>\n<!-- BH&#45;&gt;BH -->\n<g id=\"edge33\" class=\"edge\">\n<title>BH&#45;&gt;BH</title>\n<path fill=\"none\" stroke=\"#000000\" d=\"M537.4854,-354.6283C536.5616,-372.5582 537.4434,-390.6292 540.1309,-390.6292 542.2935,-390.6292 543.2869,-378.9278 543.1111,-365.0145\"/>\n<polygon fill=\"#000000\" stroke=\"#000000\" points=\"546.5967,-364.5104 542.7764,-354.6283 539.6004,-364.7359 546.5967,-364.5104\"/>\n<text text-anchor=\"middle\" x=\"540.1309\" y=\"-394.4292\" font-family=\"Times,serif\" font-size=\"14.00\" fill=\"#000000\">f </text>\n</g>\n<!-- BH&#45;&gt;BH -->\n<g id=\"edge34\" class=\"edge\">\n<title>BH&#45;&gt;BH</title>\n<path fill=\"none\" stroke=\"#000000\" d=\"M536.6867,-354.5533C534.5297,-379.9678 535.6778,-408.6292 540.1309,-408.6292 543.9926,-408.6292 545.3689,-387.0754 544.2597,-364.7764\"/>\n<polygon fill=\"#000000\" stroke=\"#000000\" points=\"547.7355,-364.297 543.5751,-354.5533 540.7511,-364.7648 547.7355,-364.297\"/>\n<text text-anchor=\"middle\" x=\"540.1309\" y=\"-412.4292\" font-family=\"Times,serif\" font-size=\"14.00\" fill=\"#000000\">s </text>\n</g>\n<!-- BH&#45;&gt;BH -->\n<g id=\"edge35\" class=\"edge\">\n<title>BH&#45;&gt;BH</title>\n<path fill=\"none\" stroke=\"#000000\" d=\"M536.0824,-354.6975C532.5002,-387.1554 533.8497,-426.6292 540.1309,-426.6292 545.7742,-426.6292 547.4367,-394.7664 545.1182,-364.7554\"/>\n<polygon fill=\"#000000\" stroke=\"#000000\" points=\"548.5937,-364.3289 544.1794,-354.6975 541.624,-364.9796 548.5937,-364.3289\"/>\n<text text-anchor=\"middle\" x=\"540.1309\" y=\"-430.4292\" font-family=\"Times,serif\" font-size=\"14.00\" fill=\"#000000\">c </text>\n</g>\n<!-- BH&#45;&gt;BH -->\n<g id=\"edge36\" class=\"edge\">\n<title>BH&#45;&gt;BH</title>\n<path fill=\"none\" stroke=\"#000000\" d=\"M535.6715,-354.3764C530.4608,-393.7097 531.9473,-444.6292 540.1309,-444.6292 547.6112,-444.6292 549.496,-402.0855 545.7853,-364.7341\"/>\n<polygon fill=\"#000000\" stroke=\"#000000\" points=\"549.2135,-363.9093 544.5903,-354.3764 542.2596,-364.7117 549.2135,-363.9093\"/>\n<text text-anchor=\"middle\" x=\"540.1309\" y=\"-448.4292\" font-family=\"Times,serif\" font-size=\"14.00\" fill=\"#000000\">b </text>\n</g>\n<!-- BH&#45;&gt;BH -->\n<g id=\"edge37\" class=\"edge\">\n<title>BH&#45;&gt;BH</title>\n<path fill=\"none\" stroke=\"#000000\" d=\"M535.3366,-354.2538C528.4313,-400.2479 530.0293,-462.6292 540.1309,-462.6292 549.5222,-462.6292 551.5638,-408.7118 546.2557,-364.1713\"/>\n<polygon fill=\"#000000\" stroke=\"#000000\" points=\"549.7238,-363.6996 544.9252,-354.2538 542.786,-364.6304 549.7238,-363.6996\"/>\n<text text-anchor=\"middle\" x=\"540.1309\" y=\"-466.4292\" font-family=\"Times,serif\" font-size=\"14.00\" fill=\"#000000\">d </text>\n</g>\n<!-- F4&#45;&gt;BH -->\n<g id=\"edge13\" class=\"edge\">\n<title>F4&#45;&gt;BH</title>\n<path fill=\"none\" stroke=\"#000000\" d=\"M467.9738,-323.1306C479.5323,-324.3241 493.4877,-325.7651 506.0333,-327.0605\"/>\n<polygon fill=\"#000000\" stroke=\"#000000\" points=\"505.8498,-330.5601 516.1565,-328.1058 506.5689,-323.5971 505.8498,-330.5601\"/>\n<text text-anchor=\"middle\" x=\"492.083\" y=\"-330.3813\" font-family=\"Times,serif\" font-size=\"14.00\" fill=\"#000000\">a </text>\n</g>\n<!-- F4&#45;&gt;BH -->\n<g id=\"edge14\" class=\"edge\">\n<title>F4&#45;&gt;BH</title>\n<path fill=\"none\" stroke=\"#000000\" d=\"M465.7046,-309.5988C475.6359,-306.0884 487.4533,-303.7613 498.083,-306.5813 502.5921,-307.7776 507.1223,-309.5832 511.4526,-311.6777\"/>\n<polygon fill=\"#000000\" stroke=\"#000000\" points=\"510.0682,-314.9084 520.5271,-316.5999 513.4058,-308.7553 510.0682,-314.9084\"/>\n<text text-anchor=\"middle\" x=\"492.083\" y=\"-310.3813\" font-family=\"Times,serif\" font-size=\"14.00\" fill=\"#000000\">f </text>\n</g>\n<!-- F4&#45;&gt;BH -->\n<g id=\"edge15\" class=\"edge\">\n<title>F4&#45;&gt;BH</title>\n<path fill=\"none\" stroke=\"#000000\" d=\"M458.8898,-301.2271C469.492,-290.5651 484.0825,-280.5952 498.083,-286.5813 506.3228,-290.1044 513.7181,-296.1225 519.924,-302.5957\"/>\n<polygon fill=\"#000000\" stroke=\"#000000\" points=\"517.4258,-305.0558 526.6422,-310.2815 522.6962,-300.4489 517.4258,-305.0558\"/>\n<text text-anchor=\"middle\" x=\"492.083\" y=\"-290.3813\" font-family=\"Times,serif\" font-size=\"14.00\" fill=\"#000000\">s </text>\n</g>\n<!-- F4&#45;&gt;BH -->\n<g id=\"edge16\" class=\"edge\">\n<title>F4&#45;&gt;BH</title>\n<path fill=\"none\" stroke=\"#000000\" d=\"M453.4427,-297.7705C463.4081,-278.9043 479.7454,-256.6879 498.083,-266.5813 510.9498,-273.5232 520.5213,-286.3107 527.2543,-298.6409\"/>\n<polygon fill=\"#000000\" stroke=\"#000000\" points=\"524.264,-300.4876 531.8573,-307.8762 530.529,-297.365 524.264,-300.4876\"/>\n<text text-anchor=\"middle\" x=\"492.083\" y=\"-270.3813\" font-family=\"Times,serif\" font-size=\"14.00\" fill=\"#000000\">c </text>\n</g>\n<!-- F4&#45;&gt;BH -->\n<g id=\"edge17\" class=\"edge\">\n<title>F4&#45;&gt;BH</title>\n<path fill=\"none\" stroke=\"#000000\" d=\"M456.3044,-342.1555C467.1671,-359.7823 481.5736,-382.1721 486.083,-384.5813 501.5807,-392.8613 515.5115,-378.1131 525.3474,-361.9519\"/>\n<polygon fill=\"#000000\" stroke=\"#000000\" points=\"528.547,-363.4014 530.3744,-352.9653 522.4378,-359.9839 528.547,-363.4014\"/>\n<text text-anchor=\"middle\" x=\"492.083\" y=\"-390.3813\" font-family=\"Times,serif\" font-size=\"14.00\" fill=\"#000000\">b </text>\n</g>\n<!-- F4&#45;&gt;BH -->\n<g id=\"edge18\" class=\"edge\">\n<title>F4&#45;&gt;BH</title>\n<path fill=\"none\" stroke=\"#000000\" d=\"M463.6297,-335.4058C470.431,-339.536 478.2753,-343.468 486.083,-345.5813 493.5992,-347.6157 501.693,-346.9158 509.2703,-344.9913\"/>\n<polygon fill=\"#000000\" stroke=\"#000000\" points=\"510.412,-348.3005 518.8419,-341.8828 508.2498,-341.6428 510.412,-348.3005\"/>\n<text text-anchor=\"middle\" x=\"492.083\" y=\"-351.3813\" font-family=\"Times,serif\" font-size=\"14.00\" fill=\"#000000\">d </text>\n</g>\n<!-- F3&#45;&gt;BH -->\n<g id=\"edge23\" class=\"edge\">\n<title>F3&#45;&gt;BH</title>\n<path fill=\"none\" stroke=\"#000000\" d=\"M444.3043,-147.4782C447.204,-97.3993 458.1021,7.2345 498.083,-27.5813 518.1242,-45.0334 532.5307,-220.4209 537.8623,-296.1084\"/>\n<polygon fill=\"#000000\" stroke=\"#000000\" points=\"534.4008,-296.7868 538.5826,-306.5213 541.3841,-296.3036 534.4008,-296.7868\"/>\n<text text-anchor=\"middle\" x=\"492.083\" y=\"-31.3813\" font-family=\"Times,serif\" font-size=\"14.00\" fill=\"#000000\">a </text>\n</g>\n<!-- F3&#45;&gt;BH -->\n<g id=\"edge24\" class=\"edge\">\n<title>F3&#45;&gt;BH</title>\n<path fill=\"none\" stroke=\"#000000\" d=\"M445.8441,-147.7159C450.8157,-104.9425 463.3389,-20.3092 486.083,-2.5813 490.2895,.6974 494.0792,.942 498.083,-2.5813 519.9182,-21.7961 533.5326,-216.1282 538.2586,-296.2887\"/>\n<polygon fill=\"#000000\" stroke=\"#000000\" points=\"534.77,-296.5879 538.8414,-306.3692 541.7583,-296.1838 534.77,-296.5879\"/>\n<text text-anchor=\"middle\" x=\"492.083\" y=\"-6.3813\" font-family=\"Times,serif\" font-size=\"14.00\" fill=\"#000000\">f </text>\n</g>\n<!-- F3&#45;&gt;BH -->\n<g id=\"edge25\" class=\"edge\">\n<title>F3&#45;&gt;BH</title>\n<path fill=\"none\" stroke=\"#000000\" d=\"M459.1906,-191.7157C470.7192,-206.0523 486.2894,-226.4166 498.083,-245.5813 508.614,-262.6942 518.6607,-282.8095 526.2913,-299.1748\"/>\n<polygon fill=\"#000000\" stroke=\"#000000\" points=\"523.1388,-300.6969 530.4903,-308.3261 529.501,-297.7776 523.1388,-300.6969\"/>\n<text text-anchor=\"middle\" x=\"492.083\" y=\"-249.3813\" font-family=\"Times,serif\" font-size=\"14.00\" fill=\"#000000\">s </text>\n</g>\n<!-- F3&#45;&gt;BH -->\n<g id=\"edge26\" class=\"edge\">\n<title>F3&#45;&gt;BH</title>\n<path fill=\"none\" stroke=\"#000000\" d=\"M465.5762,-183.6795C476.6804,-190.1868 489.5268,-199.3438 498.083,-210.5813 517.3588,-235.8978 528.2584,-270.7483 534.1033,-296.3707\"/>\n<polygon fill=\"#000000\" stroke=\"#000000\" points=\"530.7306,-297.3371 536.24,-306.3867 537.5765,-295.8766 530.7306,-297.3371\"/>\n<text text-anchor=\"middle\" x=\"492.083\" y=\"-214.3813\" font-family=\"Times,serif\" font-size=\"14.00\" fill=\"#000000\">c </text>\n</g>\n<!-- F3&#45;&gt;BH -->\n<g id=\"edge27\" class=\"edge\">\n<title>F3&#45;&gt;BH</title>\n<path fill=\"none\" stroke=\"#000000\" d=\"M468.1184,-170.5782C478.4967,-171.051 489.9962,-173.471 498.083,-180.5813 515.3762,-195.7862 528.2677,-257.1309 534.9618,-296.5065\"/>\n<polygon fill=\"#000000\" stroke=\"#000000\" points=\"531.5272,-297.1898 536.6067,-306.4876 538.434,-296.0515 531.5272,-297.1898\"/>\n<text text-anchor=\"middle\" x=\"492.083\" y=\"-184.3813\" font-family=\"Times,serif\" font-size=\"14.00\" fill=\"#000000\">b </text>\n</g>\n<!-- F3&#45;&gt;BH -->\n<g id=\"edge28\" class=\"edge\">\n<title>F3&#45;&gt;BH</title>\n<path fill=\"none\" stroke=\"#000000\" d=\"M463.4368,-158.0165C474.5839,-151.8732 488.1478,-147.7505 498.083,-155.5813 519.8823,-172.7633 531.6758,-250.3806 536.8523,-296.2753\"/>\n<polygon fill=\"#000000\" stroke=\"#000000\" points=\"533.3899,-296.8126 537.9432,-306.3791 540.3495,-296.0612 533.3899,-296.8126\"/>\n<text text-anchor=\"middle\" x=\"492.083\" y=\"-159.3813\" font-family=\"Times,serif\" font-size=\"14.00\" fill=\"#000000\">d </text>\n</g>\n</g>\n</svg>\n"
          },
          "metadata": {
            "tags": []
          },
          "execution_count": 13
        }
      ]
    },
    {
      "cell_type": "markdown",
      "metadata": {
        "id": "285Y2wis1Fam"
      },
      "source": [
        "### Was it a good idea to not always show black-holes?\n",
        "\n",
        "* In what circumstances might you still need to apply the _w_bh view option?\n",
        "An open-ended answer - anything you may think up can be a valuable piece of feedback.\n",
        "\n",
        "Answer:\n",
        "\n",
        "* You might want to use the _w_bh option when you want to see the full behavior of a DFA without any missing transitions.\n",
        "* Using the _w_bh option would also make it more obvious that there is a black hole in the graph."
      ]
    },
    {
      "cell_type": "markdown",
      "metadata": {
        "id": "b6bWV4AZ1Fan"
      },
      "source": [
        "## 2.2: Obtain an RE by looking at nfa1\n",
        "\n",
        "* Follow all paths\n",
        "\n",
        "* Summarize the paths in your head, using the Star operator suitably\n",
        "\n",
        "\n"
      ]
    },
    {
      "cell_type": "code",
      "metadata": {
        "colab": {
          "base_uri": "https://localhost:8080/",
          "height": 207
        },
        "id": "PIZmntHofIsF",
        "outputId": "f9a216a4-5790-4c0b-9f88-6768e373d76e"
      },
      "source": [
        "dotObj_nfa(nfa1)"
      ],
      "execution_count": null,
      "outputs": [
        {
          "output_type": "execute_result",
          "data": {
            "text/plain": [
              "<graphviz.dot.Digraph at 0x7feca5c8a710>"
            ],
            "image/svg+xml": "<?xml version=\"1.0\" encoding=\"UTF-8\" standalone=\"no\"?>\n<!DOCTYPE svg PUBLIC \"-//W3C//DTD SVG 1.1//EN\"\n \"http://www.w3.org/Graphics/SVG/1.1/DTD/svg11.dtd\">\n<!-- Generated by graphviz version 2.40.1 (20161225.0304)\n -->\n<!-- Title: %3 Pages: 1 -->\n<svg width=\"402pt\" height=\"139pt\"\n viewBox=\"0.00 0.00 401.99 138.80\" xmlns=\"http://www.w3.org/2000/svg\" xmlns:xlink=\"http://www.w3.org/1999/xlink\">\n<g id=\"graph0\" class=\"graph\" transform=\"scale(1 1) rotate(0) translate(4 134.7982)\">\n<title>%3</title>\n<polygon fill=\"#ffffff\" stroke=\"transparent\" points=\"-4,4 -4,-134.7982 397.9896,-134.7982 397.9896,4 -4,4\"/>\n<!-- EMPTY -->\n<g id=\"node1\" class=\"node\">\n<title>EMPTY</title>\n</g>\n<!-- I1 -->\n<g id=\"node3\" class=\"node\">\n<title>I1</title>\n<ellipse fill=\"none\" stroke=\"#000000\" cx=\"109.8483\" cy=\"-69.7982\" rx=\"18.6979\" ry=\"18.6979\"/>\n<text text-anchor=\"middle\" x=\"109.8483\" y=\"-66.0982\" font-family=\"Times,serif\" font-size=\"14.00\" fill=\"#000000\">I1</text>\n</g>\n<!-- EMPTY&#45;&gt;I1 -->\n<g id=\"edge1\" class=\"edge\">\n<title>EMPTY&#45;&gt;I1</title>\n<path fill=\"none\" stroke=\"#000000\" d=\"M54.1276,-46.2585C63.2769,-50.1236 73.4867,-54.4369 82.642,-58.3046\"/>\n<polygon fill=\"#000000\" stroke=\"#000000\" points=\"81.4888,-61.6169 92.0626,-62.2844 84.2129,-55.1687 81.4888,-61.6169\"/>\n</g>\n<!-- I2 -->\n<g id=\"node4\" class=\"node\">\n<title>I2</title>\n<ellipse fill=\"none\" stroke=\"#000000\" cx=\"193.545\" cy=\"-26.7982\" rx=\"18.6979\" ry=\"18.6979\"/>\n<text text-anchor=\"middle\" x=\"193.545\" y=\"-23.0982\" font-family=\"Times,serif\" font-size=\"14.00\" fill=\"#000000\">I2</text>\n</g>\n<!-- EMPTY&#45;&gt;I2 -->\n<g id=\"edge2\" class=\"edge\">\n<title>EMPTY&#45;&gt;I2</title>\n<path fill=\"none\" stroke=\"#000000\" d=\"M54.129,-33.495C84.4711,-32.0375 133.4281,-29.6859 164.5205,-28.1923\"/>\n<polygon fill=\"#000000\" stroke=\"#000000\" points=\"164.8929,-31.6786 174.7135,-27.7027 164.557,-24.6866 164.8929,-31.6786\"/>\n</g>\n<!-- B -->\n<g id=\"node2\" class=\"node\">\n<title>B</title>\n<ellipse fill=\"none\" stroke=\"#000000\" cx=\"278.3933\" cy=\"-79.7982\" rx=\"18\" ry=\"18\"/>\n<text text-anchor=\"middle\" x=\"278.3933\" y=\"-76.0982\" font-family=\"Times,serif\" font-size=\"14.00\" fill=\"#000000\">B</text>\n</g>\n<!-- B&#45;&gt;B -->\n<g id=\"edge7\" class=\"edge\">\n<title>B&#45;&gt;B</title>\n<path fill=\"none\" stroke=\"#000000\" d=\"M271.3621,-96.4622C269.7996,-106.4232 272.1433,-115.7982 278.3933,-115.7982 282.3972,-115.7982 284.798,-111.9507 285.5956,-106.5664\"/>\n<polygon fill=\"#000000\" stroke=\"#000000\" points=\"289.0935,-106.4015 285.4246,-96.4622 282.0945,-106.5201 289.0935,-106.4015\"/>\n<text text-anchor=\"middle\" x=\"278.3933\" y=\"-119.5982\" font-family=\"Times,serif\" font-size=\"14.00\" fill=\"#000000\">s </text>\n</g>\n<!-- F4 -->\n<g id=\"node5\" class=\"node\">\n<title>F4</title>\n<ellipse fill=\"none\" stroke=\"#000000\" cx=\"369.1915\" cy=\"-93.7982\" rx=\"20.6302\" ry=\"20.6302\"/>\n<ellipse fill=\"none\" stroke=\"#000000\" cx=\"369.1915\" cy=\"-93.7982\" rx=\"24.5979\" ry=\"24.5979\"/>\n<text text-anchor=\"middle\" x=\"369.1915\" y=\"-90.0982\" font-family=\"Times,serif\" font-size=\"14.00\" fill=\"#000000\">F4</text>\n</g>\n<!-- B&#45;&gt;F4 -->\n<g id=\"edge8\" class=\"edge\">\n<title>B&#45;&gt;F4</title>\n<path fill=\"none\" stroke=\"#000000\" d=\"M296.3321,-82.5641C307.1797,-84.2367 321.3778,-86.4259 334.3563,-88.427\"/>\n<polygon fill=\"#000000\" stroke=\"#000000\" points=\"333.9995,-91.9133 344.4161,-89.9781 335.0663,-84.995 333.9995,-91.9133\"/>\n<text text-anchor=\"middle\" x=\"320.3933\" y=\"-90.5982\" font-family=\"Times,serif\" font-size=\"14.00\" fill=\"#000000\">d </text>\n</g>\n<!-- F3 -->\n<g id=\"node6\" class=\"node\">\n<title>F3</title>\n<ellipse fill=\"none\" stroke=\"#000000\" cx=\"369.1915\" cy=\"-24.7982\" rx=\"20.6302\" ry=\"20.6302\"/>\n<ellipse fill=\"none\" stroke=\"#000000\" cx=\"369.1915\" cy=\"-24.7982\" rx=\"24.5979\" ry=\"24.5979\"/>\n<text text-anchor=\"middle\" x=\"369.1915\" y=\"-21.0982\" font-family=\"Times,serif\" font-size=\"14.00\" fill=\"#000000\">F3</text>\n</g>\n<!-- B&#45;&gt;F3 -->\n<g id=\"edge9\" class=\"edge\">\n<title>B&#45;&gt;F3</title>\n<path fill=\"none\" stroke=\"#000000\" d=\"M293.796,-70.4682C306.2307,-62.9359 324.0998,-52.112 339.3209,-42.8919\"/>\n<polygon fill=\"#000000\" stroke=\"#000000\" points=\"341.176,-45.8603 347.9159,-37.6856 337.5493,-39.873 341.176,-45.8603\"/>\n<text text-anchor=\"middle\" x=\"320.3933\" y=\"-61.5982\" font-family=\"Times,serif\" font-size=\"14.00\" fill=\"#000000\">f </text>\n</g>\n<!-- I1&#45;&gt;B -->\n<g id=\"edge3\" class=\"edge\">\n<title>I1&#45;&gt;B</title>\n<path fill=\"none\" stroke=\"#000000\" d=\"M128.855,-70.9258C158.3749,-72.6773 215.4247,-76.0621 249.8904,-78.107\"/>\n<polygon fill=\"#000000\" stroke=\"#000000\" points=\"250.0337,-81.6216 260.2235,-78.7201 250.4484,-74.6339 250.0337,-81.6216\"/>\n<text text-anchor=\"middle\" x=\"193.545\" y=\"-78.5982\" font-family=\"Times,serif\" font-size=\"14.00\" fill=\"#000000\">&#39;&#39; </text>\n</g>\n<!-- I1&#45;&gt;I2 -->\n<g id=\"edge4\" class=\"edge\">\n<title>I1&#45;&gt;I2</title>\n<path fill=\"none\" stroke=\"#000000\" d=\"M126.7856,-61.0965C138.4705,-55.0932 154.2293,-46.997 167.5017,-40.1781\"/>\n<polygon fill=\"#000000\" stroke=\"#000000\" points=\"169.3376,-43.1699 176.6329,-35.4869 166.1387,-36.9436 169.3376,-43.1699\"/>\n<text text-anchor=\"middle\" x=\"151.6967\" y=\"-53.5982\" font-family=\"Times,serif\" font-size=\"14.00\" fill=\"#000000\">a </text>\n</g>\n<!-- I2&#45;&gt;B -->\n<g id=\"edge6\" class=\"edge\">\n<title>I2&#45;&gt;B</title>\n<path fill=\"none\" stroke=\"#000000\" d=\"M209.8725,-36.726C219.3857,-42.5353 231.5978,-50.0353 242.3933,-56.7982 246.3176,-59.2566 250.4692,-61.8839 254.5037,-64.4516\"/>\n<polygon fill=\"#000000\" stroke=\"#000000\" points=\"252.7036,-67.4549 263.0152,-69.8886 256.4719,-61.5557 252.7036,-67.4549\"/>\n<text text-anchor=\"middle\" x=\"236.3933\" y=\"-60.5982\" font-family=\"Times,serif\" font-size=\"14.00\" fill=\"#000000\">b </text>\n</g>\n<!-- I2&#45;&gt;F3 -->\n<g id=\"edge5\" class=\"edge\">\n<title>I2&#45;&gt;F3</title>\n<path fill=\"none\" stroke=\"#000000\" d=\"M212.6766,-26.5803C241.7287,-26.2495 297.4437,-25.6151 333.9583,-25.1993\"/>\n<polygon fill=\"#000000\" stroke=\"#000000\" points=\"334.2068,-28.6968 344.1663,-25.0831 334.1271,-21.6973 334.2068,-28.6968\"/>\n<text text-anchor=\"middle\" x=\"278.3933\" y=\"-30.5982\" font-family=\"Times,serif\" font-size=\"14.00\" fill=\"#000000\">c </text>\n</g>\n</g>\n</svg>\n"
          },
          "metadata": {
            "tags": []
          },
          "execution_count": 14
        }
      ]
    },
    {
      "cell_type": "code",
      "metadata": {
        "id": "W2GdlsN01Fan"
      },
      "source": [
        "RE1_hand = \"c + ac + abs*d + bs*d + abs*f + bs*f + s*d + s*f\""
      ],
      "execution_count": 53,
      "outputs": []
    },
    {
      "cell_type": "markdown",
      "metadata": {
        "id": "kFsWMB9l1Fan"
      },
      "source": [
        "## 2.3: Reverse RE1 by hand to obtain Rev_RE1\n",
        "\n",
        "Once you have an RE, you can \"visually reverse it\" for simple REs"
      ]
    },
    {
      "cell_type": "code",
      "metadata": {
        "id": "OTCTyqlv1Fao"
      },
      "source": [
        "Rev_RE1_hand = \"c + ca + ds*ba + ds*b + fs*ba + fs*b + ds* + fs*\""
      ],
      "execution_count": 54,
      "outputs": []
    },
    {
      "cell_type": "markdown",
      "metadata": {
        "id": "Fqhsan3o1Fao"
      },
      "source": [
        "## 2.4: Understand del_gnfa_states via help"
      ]
    },
    {
      "cell_type": "code",
      "metadata": {
        "id": "St7Zo8AY1Fao",
        "colab": {
          "base_uri": "https://localhost:8080/"
        },
        "outputId": "d7bd08dc-086b-482c-8481-9c2cabc5e284"
      },
      "source": [
        "# help of del_gnfa_states run below\n",
        "help(del_gnfa_states)"
      ],
      "execution_count": null,
      "outputs": [
        {
          "output_type": "stream",
          "text": [
            "Help on function del_gnfa_states in module jove.Def_NFA2RE:\n",
            "\n",
            "del_gnfa_states(Gin, DelList=[])\n",
            "    Given a GNFA Gin with no unreachable states, \n",
            "    delete all states but f\n",
            "    or Real_I and Real_F.\n",
            "    If DelList is given, follow the state deletion\n",
            "    order mentioned therein; else choose order internally.\n",
            "    \n",
            "    Return a triple (Gfinal, dotObj_List, final_re_str), where\n",
            "      Gfinal       : the final GNFA\n",
            "      dotObj_List  : a list of Dot objects recording the process of\n",
            "                     deleting states and forming intermediate REs\n",
            "      final_re_str : the final RE as a string (ready to be fed to  \n",
            "                     re2nfa for converting back to an NFA)\n",
            "\n"
          ],
          "name": "stdout"
        }
      ]
    },
    {
      "cell_type": "markdown",
      "metadata": {
        "id": "2KFNXlqV1Fao"
      },
      "source": [
        "### Document what you learned from the function help of del_gnfa_states and summarize below\n",
        "\n",
        "\n",
        "* The function returns a triple (tuple with 3 elements).\n",
        "\n",
        "* One of the elements in the tuple is the final GNFA.\n",
        "\n",
        "* One of the elements is the updated dot objects after each deletion.\n",
        "\n",
        "* The final_re_string is the regular expression which is ready to be converted to an NFA."
      ]
    },
    {
      "cell_type": "markdown",
      "metadata": {
        "id": "5tn3lrpW1Fap"
      },
      "source": [
        "# Problem 3: Converting to GNFA and Attempting Two Elimination Orders\n",
        "\n",
        "Work on rnfa1 to obtain Rev_RE1 and Rev_RE2 "
      ]
    },
    {
      "cell_type": "markdown",
      "metadata": {
        "id": "eOmufZDa1Fap"
      },
      "source": [
        "## 3.1: Obtain grnfa1 below via a suitable command"
      ]
    },
    {
      "cell_type": "code",
      "metadata": {
        "id": "9jf13qhs1Faq"
      },
      "source": [
        "grnfa1 = mk_gnfa(rnfa1)"
      ],
      "execution_count": null,
      "outputs": []
    },
    {
      "cell_type": "code",
      "metadata": {
        "id": "iF-KnQi01Faq",
        "colab": {
          "base_uri": "https://localhost:8080/",
          "height": 211
        },
        "outputId": "818865e8-7cd7-4f12-dd7e-8dcdb36bcdd0"
      },
      "source": [
        "dotObj_gnfa(grnfa1)"
      ],
      "execution_count": null,
      "outputs": [
        {
          "output_type": "execute_result",
          "data": {
            "text/plain": [
              "<graphviz.dot.Digraph at 0x7feca5c8a0f0>"
            ],
            "image/svg+xml": "<?xml version=\"1.0\" encoding=\"UTF-8\" standalone=\"no\"?>\n<!DOCTYPE svg PUBLIC \"-//W3C//DTD SVG 1.1//EN\"\n \"http://www.w3.org/Graphics/SVG/1.1/DTD/svg11.dtd\">\n<!-- Generated by graphviz version 2.40.1 (20161225.0304)\n -->\n<!-- Title: %3 Pages: 1 -->\n<svg width=\"641pt\" height=\"142pt\"\n viewBox=\"0.00 0.00 641.48 141.70\" xmlns=\"http://www.w3.org/2000/svg\" xmlns:xlink=\"http://www.w3.org/1999/xlink\">\n<g id=\"graph0\" class=\"graph\" transform=\"scale(1 1) rotate(0) translate(4 137.6967)\">\n<title>%3</title>\n<polygon fill=\"#ffffff\" stroke=\"transparent\" points=\"-4,4 -4,-137.6967 637.4764,-137.6967 637.4764,4 -4,4\"/>\n<!-- EMPTY -->\n<g id=\"node1\" class=\"node\">\n<title>EMPTY</title>\n</g>\n<!-- Real_I -->\n<g id=\"node3\" class=\"node\">\n<title>Real_I</title>\n<ellipse fill=\"none\" stroke=\"#000000\" cx=\"126.0969\" cy=\"-68.6967\" rx=\"35.194\" ry=\"35.194\"/>\n<text text-anchor=\"middle\" x=\"126.0969\" y=\"-64.9967\" font-family=\"Times,serif\" font-size=\"14.00\" fill=\"#000000\">Real_I</text>\n</g>\n<!-- EMPTY&#45;&gt;Real_I -->\n<g id=\"edge1\" class=\"edge\">\n<title>EMPTY&#45;&gt;Real_I</title>\n<path fill=\"none\" stroke=\"#000000\" d=\"M54.0787,-68.6967C62.3227,-68.6967 71.6196,-68.6967 80.7269,-68.6967\"/>\n<polygon fill=\"#000000\" stroke=\"#000000\" points=\"80.8626,-72.1968 90.8626,-68.6967 80.8625,-65.1968 80.8626,-72.1968\"/>\n</g>\n<!-- I4 -->\n<g id=\"node2\" class=\"node\">\n<title>I4</title>\n<ellipse fill=\"none\" stroke=\"#000000\" cx=\"225.0421\" cy=\"-96.6967\" rx=\"18.6979\" ry=\"18.6979\"/>\n<text text-anchor=\"middle\" x=\"225.0421\" y=\"-92.9967\" font-family=\"Times,serif\" font-size=\"14.00\" fill=\"#000000\">I4</text>\n</g>\n<!-- B -->\n<g id=\"node7\" class=\"node\">\n<title>B</title>\n<ellipse fill=\"none\" stroke=\"#000000\" cx=\"309.8904\" cy=\"-82.6967\" rx=\"18\" ry=\"18\"/>\n<text text-anchor=\"middle\" x=\"309.8904\" y=\"-78.9967\" font-family=\"Times,serif\" font-size=\"14.00\" fill=\"#000000\">B</text>\n</g>\n<!-- I4&#45;&gt;B -->\n<g id=\"edge7\" class=\"edge\">\n<title>I4&#45;&gt;B</title>\n<path fill=\"none\" stroke=\"#000000\" d=\"M243.8727,-93.5896C255.0866,-91.7393 269.5252,-89.3569 282.0385,-87.2922\"/>\n<polygon fill=\"#000000\" stroke=\"#000000\" points=\"282.687,-90.7326 291.9838,-85.6513 281.5474,-83.826 282.687,-90.7326\"/>\n<text text-anchor=\"middle\" x=\"267.8904\" y=\"-93.4967\" font-family=\"Times,serif\" font-size=\"14.00\" fill=\"#000000\">d </text>\n</g>\n<!-- Real_I&#45;&gt;I4 -->\n<g id=\"edge9\" class=\"edge\">\n<title>Real_I&#45;&gt;I4</title>\n<path fill=\"none\" stroke=\"#000000\" d=\"M159.8715,-78.2544C171.873,-81.6506 185.2495,-85.436 196.7456,-88.6892\"/>\n<polygon fill=\"#000000\" stroke=\"#000000\" points=\"196.106,-92.1456 206.6812,-91.5008 198.0121,-85.4101 196.106,-92.1456\"/>\n<text text-anchor=\"middle\" x=\"183.6938\" y=\"-89.4967\" font-family=\"Times,serif\" font-size=\"14.00\" fill=\"#000000\">&#39;&#39; </text>\n</g>\n<!-- I3 -->\n<g id=\"node5\" class=\"node\">\n<title>I3</title>\n<ellipse fill=\"none\" stroke=\"#000000\" cx=\"225.0421\" cy=\"-40.6967\" rx=\"18.6979\" ry=\"18.6979\"/>\n<text text-anchor=\"middle\" x=\"225.0421\" y=\"-36.9967\" font-family=\"Times,serif\" font-size=\"14.00\" fill=\"#000000\">I3</text>\n</g>\n<!-- Real_I&#45;&gt;I3 -->\n<g id=\"edge10\" class=\"edge\">\n<title>Real_I&#45;&gt;I3</title>\n<path fill=\"none\" stroke=\"#000000\" d=\"M159.8715,-59.139C171.873,-55.7427 185.2495,-51.9574 196.7456,-48.7041\"/>\n<polygon fill=\"#000000\" stroke=\"#000000\" points=\"198.0121,-51.9833 206.6812,-45.8925 196.106,-45.2477 198.0121,-51.9833\"/>\n<text text-anchor=\"middle\" x=\"183.6938\" y=\"-57.4967\" font-family=\"Times,serif\" font-size=\"14.00\" fill=\"#000000\">&#39;&#39; </text>\n</g>\n<!-- F1 -->\n<g id=\"node4\" class=\"node\">\n<title>F1</title>\n<ellipse fill=\"none\" stroke=\"#000000\" cx=\"484.2849\" cy=\"-79.6967\" rx=\"20.5982\" ry=\"20.5982\"/>\n<text text-anchor=\"middle\" x=\"484.2849\" y=\"-75.9967\" font-family=\"Times,serif\" font-size=\"14.00\" fill=\"#000000\">F1</text>\n</g>\n<!-- Real_F -->\n<g id=\"node8\" class=\"node\">\n<title>Real_F</title>\n<ellipse fill=\"none\" stroke=\"#000000\" cx=\"591.7797\" cy=\"-41.6967\" rx=\"37.8753\" ry=\"37.8753\"/>\n<ellipse fill=\"none\" stroke=\"#000000\" cx=\"591.7797\" cy=\"-41.6967\" rx=\"41.8942\" ry=\"41.8942\"/>\n<text text-anchor=\"middle\" x=\"591.7797\" y=\"-37.9967\" font-family=\"Times,serif\" font-size=\"14.00\" fill=\"#000000\">Real_F</text>\n</g>\n<!-- F1&#45;&gt;Real_F -->\n<g id=\"edge12\" class=\"edge\">\n<title>F1&#45;&gt;Real_F</title>\n<path fill=\"none\" stroke=\"#000000\" d=\"M504.0011,-72.7269C514.8287,-68.8993 528.7865,-63.9651 542.3721,-59.1625\"/>\n<polygon fill=\"#000000\" stroke=\"#000000\" points=\"543.8869,-62.3393 552.1486,-55.7065 541.5538,-55.7396 543.8869,-62.3393\"/>\n<text text-anchor=\"middle\" x=\"527.583\" y=\"-68.4967\" font-family=\"Times,serif\" font-size=\"14.00\" fill=\"#000000\">&#39;&#39; </text>\n</g>\n<!-- F2 -->\n<g id=\"node6\" class=\"node\">\n<title>F2</title>\n<ellipse fill=\"none\" stroke=\"#000000\" cx=\"396.6886\" cy=\"-28.6967\" rx=\"20.5982\" ry=\"20.5982\"/>\n<text text-anchor=\"middle\" x=\"396.6886\" y=\"-24.9967\" font-family=\"Times,serif\" font-size=\"14.00\" fill=\"#000000\">F2</text>\n</g>\n<!-- I3&#45;&gt;F2 -->\n<g id=\"edge4\" class=\"edge\">\n<title>I3&#45;&gt;F2</title>\n<path fill=\"none\" stroke=\"#000000\" d=\"M244.0671,-39.3666C273.4142,-37.3149 330.0323,-33.3567 365.4498,-30.8806\"/>\n<polygon fill=\"#000000\" stroke=\"#000000\" points=\"365.9756,-34.3525 375.7071,-30.1635 365.4873,-27.3695 365.9756,-34.3525\"/>\n<text text-anchor=\"middle\" x=\"309.8904\" y=\"-40.4967\" font-family=\"Times,serif\" font-size=\"14.00\" fill=\"#000000\">c </text>\n</g>\n<!-- I3&#45;&gt;B -->\n<g id=\"edge8\" class=\"edge\">\n<title>I3&#45;&gt;B</title>\n<path fill=\"none\" stroke=\"#000000\" d=\"M242.2124,-49.196C254.2919,-55.1753 270.666,-63.2805 284.2825,-70.0207\"/>\n<polygon fill=\"#000000\" stroke=\"#000000\" points=\"283.0944,-73.3379 293.6093,-74.6375 286.1998,-67.0644 283.0944,-73.3379\"/>\n<text text-anchor=\"middle\" x=\"267.8904\" y=\"-67.4967\" font-family=\"Times,serif\" font-size=\"14.00\" fill=\"#000000\">f </text>\n</g>\n<!-- F2&#45;&gt;F1 -->\n<g id=\"edge3\" class=\"edge\">\n<title>F2&#45;&gt;F1</title>\n<path fill=\"none\" stroke=\"#000000\" d=\"M414.8386,-39.2639C427.0535,-46.3756 443.3777,-55.8798 457.1302,-63.8867\"/>\n<polygon fill=\"#000000\" stroke=\"#000000\" points=\"455.7551,-67.1361 466.1581,-69.143 459.2772,-61.0867 455.7551,-67.1361\"/>\n<text text-anchor=\"middle\" x=\"440.4867\" y=\"-60.4967\" font-family=\"Times,serif\" font-size=\"14.00\" fill=\"#000000\">a </text>\n</g>\n<!-- F2&#45;&gt;Real_F -->\n<g id=\"edge11\" class=\"edge\">\n<title>F2&#45;&gt;Real_F</title>\n<path fill=\"none\" stroke=\"#000000\" d=\"M417.4781,-29.6912C439.3056,-30.7719 474.6209,-32.6241 505.083,-34.6967 516.2716,-35.4579 528.2648,-36.3666 539.6542,-37.2731\"/>\n<polygon fill=\"#000000\" stroke=\"#000000\" points=\"539.6544,-40.7844 549.9036,-38.1007 540.2178,-33.8071 539.6544,-40.7844\"/>\n<text text-anchor=\"middle\" x=\"484.2849\" y=\"-38.4967\" font-family=\"Times,serif\" font-size=\"14.00\" fill=\"#000000\">&#39;&#39; </text>\n</g>\n<!-- B&#45;&gt;F1 -->\n<g id=\"edge2\" class=\"edge\">\n<title>B&#45;&gt;F1</title>\n<path fill=\"none\" stroke=\"#000000\" d=\"M327.8968,-82.3869C357.5205,-81.8773 416.8797,-80.8562 453.3416,-80.229\"/>\n<polygon fill=\"#000000\" stroke=\"#000000\" points=\"453.4811,-83.7272 463.4194,-80.0556 453.3606,-76.7282 453.4811,-83.7272\"/>\n<text text-anchor=\"middle\" x=\"396.6886\" y=\"-84.4967\" font-family=\"Times,serif\" font-size=\"14.00\" fill=\"#000000\">&#39;&#39; </text>\n</g>\n<!-- B&#45;&gt;F2 -->\n<g id=\"edge5\" class=\"edge\">\n<title>B&#45;&gt;F2</title>\n<path fill=\"none\" stroke=\"#000000\" d=\"M325.2625,-72.7774C331.6276,-68.6959 339.0964,-63.9394 345.8904,-59.6967 353.7007,-54.8193 362.2297,-49.5807 370.0304,-44.8234\"/>\n<polygon fill=\"#000000\" stroke=\"#000000\" points=\"372.0411,-47.6971 378.7664,-39.5105 368.4037,-41.7163 372.0411,-47.6971\"/>\n<text text-anchor=\"middle\" x=\"351.8904\" y=\"-63.4967\" font-family=\"Times,serif\" font-size=\"14.00\" fill=\"#000000\">b </text>\n</g>\n<!-- B&#45;&gt;B -->\n<g id=\"edge6\" class=\"edge\">\n<title>B&#45;&gt;B</title>\n<path fill=\"none\" stroke=\"#000000\" d=\"M302.5076,-99.3607C300.867,-109.3217 303.3279,-118.6967 309.8904,-118.6967 314.0945,-118.6967 316.6153,-114.8492 317.4529,-109.4649\"/>\n<polygon fill=\"#000000\" stroke=\"#000000\" points=\"320.9505,-109.2969 317.2732,-99.3607 313.9517,-109.4214 320.9505,-109.2969\"/>\n<text text-anchor=\"middle\" x=\"309.8904\" y=\"-122.4967\" font-family=\"Times,serif\" font-size=\"14.00\" fill=\"#000000\">s </text>\n</g>\n</g>\n</svg>\n"
          },
          "metadata": {
            "tags": []
          },
          "execution_count": 19
        }
      ]
    },
    {
      "cell_type": "markdown",
      "metadata": {
        "id": "VFtjQsTs1Faq"
      },
      "source": [
        "## 3.2: Apply the elimination order by supplying the second argument \n",
        "['B', 'F2', 'F1', 'I3', 'I4']\n",
        "\n",
        "as you learned in the help"
      ]
    },
    {
      "cell_type": "code",
      "metadata": {
        "id": "4XkJaoDL1Far",
        "colab": {
          "base_uri": "https://localhost:8080/"
        },
        "outputId": "71ec0648-11e7-4929-a838-3a346626d7a1"
      },
      "source": [
        "(Gfinal, DO, Rev_RE1) = del_gnfa_states(grnfa1, ['B', 'F2', 'F1', 'I3', 'I4'])"
      ],
      "execution_count": null,
      "outputs": [
        {
          "output_type": "stream",
          "text": [
            "**** Eliminating state B ****\n",
            "**** Eliminating state F2 ****\n",
            "**** Eliminating state F1 ****\n",
            "**** Eliminating state I3 ****\n",
            "**** Eliminating state I4 ****\n"
          ],
          "name": "stdout"
        }
      ]
    },
    {
      "cell_type": "code",
      "metadata": {
        "id": "zvc3WnQb1Far",
        "colab": {
          "base_uri": "https://localhost:8080/",
          "height": 35
        },
        "outputId": "6472007a-3ad9-4433-957a-e68d05782c66"
      },
      "source": [
        "Rev_RE1"
      ],
      "execution_count": null,
      "outputs": [
        {
          "output_type": "execute_result",
          "data": {
            "application/vnd.google.colaboratory.intrinsic+json": {
              "type": "string"
            },
            "text/plain": [
              "'((((((((d ((s)* b)) a) + (d (s)*)) + (d (s)*)) + (d ((s)* b))) + (d ((s)* b))) + ((((((((f ((s)* b)) + c) + c) a) + (f (s)*)) + (f (s)*)) + (((f ((s)* b)) + c) + c)) + (((f ((s)* b)) + c) + c))) + ((((((((f ((s)* b)) + c) + c) a) + (f (s)*)) + (f (s)*)) + (((f ((s)* b)) + c) + c)) + (((f ((s)* b)) + c) + c)))'"
            ]
          },
          "metadata": {
            "tags": []
          },
          "execution_count": 43
        }
      ]
    },
    {
      "cell_type": "code",
      "metadata": {
        "id": "D0dEbHik1Far",
        "colab": {
          "base_uri": "https://localhost:8080/",
          "height": 200
        },
        "outputId": "655e7db9-21a2-4420-cde9-d63661329558"
      },
      "source": [
        "dotObj_dfa(min_dfa(nfa2dfa(re2nfa(Rev_RE1))))"
      ],
      "execution_count": null,
      "outputs": [
        {
          "output_type": "stream",
          "text": [
            "Generating LALR tables\n"
          ],
          "name": "stderr"
        },
        {
          "output_type": "execute_result",
          "data": {
            "text/plain": [
              "<graphviz.dot.Digraph at 0x7fec9e407278>"
            ],
            "image/svg+xml": "<?xml version=\"1.0\" encoding=\"UTF-8\" standalone=\"no\"?>\n<!DOCTYPE svg PUBLIC \"-//W3C//DTD SVG 1.1//EN\"\n \"http://www.w3.org/Graphics/SVG/1.1/DTD/svg11.dtd\">\n<!-- Generated by graphviz version 2.40.1 (20161225.0304)\n -->\n<!-- Title: %3 Pages: 1 -->\n<svg width=\"463pt\" height=\"121pt\"\n viewBox=\"0.00 0.00 462.58 121.40\" xmlns=\"http://www.w3.org/2000/svg\" xmlns:xlink=\"http://www.w3.org/1999/xlink\">\n<g id=\"graph0\" class=\"graph\" transform=\"scale(1 1) rotate(0) translate(4 117.3979)\">\n<title>%3</title>\n<polygon fill=\"#ffffff\" stroke=\"transparent\" points=\"-4,4 -4,-117.3979 458.5825,-117.3979 458.5825,4 -4,4\"/>\n<!-- EMPTY -->\n<g id=\"node1\" class=\"node\">\n<title>EMPTY</title>\n</g>\n<!-- St1 -->\n<g id=\"node2\" class=\"node\">\n<title>St1</title>\n<ellipse fill=\"none\" stroke=\"#000000\" cx=\"114.3979\" cy=\"-65.3979\" rx=\"23.2963\" ry=\"23.2963\"/>\n<text text-anchor=\"middle\" x=\"114.3979\" y=\"-61.6979\" font-family=\"Times,serif\" font-size=\"14.00\" fill=\"#000000\">St1</text>\n</g>\n<!-- EMPTY&#45;&gt;St1 -->\n<g id=\"edge1\" class=\"edge\">\n<title>EMPTY&#45;&gt;St1</title>\n<path fill=\"none\" stroke=\"#000000\" d=\"M54.1742,-65.3979C62.5103,-65.3979 71.7873,-65.3979 80.5137,-65.3979\"/>\n<polygon fill=\"#000000\" stroke=\"#000000\" points=\"80.7846,-68.898 90.7846,-65.3979 80.7845,-61.898 80.7846,-68.898\"/>\n</g>\n<!-- St6 -->\n<g id=\"node4\" class=\"node\">\n<title>St6</title>\n<ellipse fill=\"none\" stroke=\"#000000\" cx=\"315.9896\" cy=\"-75.3979\" rx=\"23.3111\" ry=\"23.3111\"/>\n<ellipse fill=\"none\" stroke=\"#000000\" cx=\"315.9896\" cy=\"-75.3979\" rx=\"27.2962\" ry=\"27.2962\"/>\n<text text-anchor=\"middle\" x=\"315.9896\" y=\"-71.6979\" font-family=\"Times,serif\" font-size=\"14.00\" fill=\"#000000\">St6</text>\n</g>\n<!-- St1&#45;&gt;St6 -->\n<g id=\"edge3\" class=\"edge\">\n<title>St1&#45;&gt;St6</title>\n<path fill=\"none\" stroke=\"#000000\" d=\"M134.8931,-76.9828C148.7759,-84.1447 167.8017,-92.6601 185.7958,-96.3979 217.4594,-102.9753 253.8175,-95.9012 280.0501,-88.238\"/>\n<polygon fill=\"#000000\" stroke=\"#000000\" points=\"281.4061,-91.4823 289.9268,-85.1856 279.3392,-84.7944 281.4061,-91.4823\"/>\n<text text-anchor=\"middle\" x=\"213.1938\" y=\"-102.1979\" font-family=\"Times,serif\" font-size=\"14.00\" fill=\"#000000\">c </text>\n</g>\n<!-- St3 -->\n<g id=\"node5\" class=\"node\">\n<title>St3</title>\n<ellipse fill=\"none\" stroke=\"#000000\" cx=\"213.1938\" cy=\"-27.3979\" rx=\"23.3111\" ry=\"23.3111\"/>\n<ellipse fill=\"none\" stroke=\"#000000\" cx=\"213.1938\" cy=\"-27.3979\" rx=\"27.2962\" ry=\"27.2962\"/>\n<text text-anchor=\"middle\" x=\"213.1938\" y=\"-23.6979\" font-family=\"Times,serif\" font-size=\"14.00\" fill=\"#000000\">St3</text>\n</g>\n<!-- St1&#45;&gt;St3 -->\n<g id=\"edge2\" class=\"edge\">\n<title>St1&#45;&gt;St3</title>\n<path fill=\"none\" stroke=\"#000000\" d=\"M136.3239,-56.9645C148.492,-52.2843 163.921,-46.3498 177.7577,-41.0278\"/>\n<polygon fill=\"#000000\" stroke=\"#000000\" points=\"179.4052,-44.1441 187.4822,-37.2874 176.8923,-37.6107 179.4052,-44.1441\"/>\n<text text-anchor=\"middle\" x=\"161.7958\" y=\"-52.1979\" font-family=\"Times,serif\" font-size=\"14.00\" fill=\"#000000\">f </text>\n</g>\n<!-- St1&#45;&gt;St3 -->\n<g id=\"edge4\" class=\"edge\">\n<title>St1&#45;&gt;St3</title>\n<path fill=\"none\" stroke=\"#000000\" d=\"M128.3556,-46.4915C135.54,-38.3624 145.0476,-29.7423 155.7958,-25.3979 161.9838,-22.8968 168.86,-21.8404 175.6415,-21.6442\"/>\n<polygon fill=\"#000000\" stroke=\"#000000\" points=\"176.0066,-25.1567 186.1076,-21.9598 176.2177,-18.1599 176.0066,-25.1567\"/>\n<text text-anchor=\"middle\" x=\"161.7958\" y=\"-29.1979\" font-family=\"Times,serif\" font-size=\"14.00\" fill=\"#000000\">d </text>\n</g>\n<!-- St10 -->\n<g id=\"node3\" class=\"node\">\n<title>St10</title>\n<ellipse fill=\"none\" stroke=\"#000000\" cx=\"421.985\" cy=\"-75.3979\" rx=\"28.6832\" ry=\"28.6832\"/>\n<ellipse fill=\"none\" stroke=\"#000000\" cx=\"421.985\" cy=\"-75.3979\" rx=\"32.6952\" ry=\"32.6952\"/>\n<text text-anchor=\"middle\" x=\"421.985\" y=\"-71.6979\" font-family=\"Times,serif\" font-size=\"14.00\" fill=\"#000000\">St10</text>\n</g>\n<!-- St6&#45;&gt;St10 -->\n<g id=\"edge7\" class=\"edge\">\n<title>St6&#45;&gt;St10</title>\n<path fill=\"none\" stroke=\"#000000\" d=\"M343.562,-75.3979C354.3788,-75.3979 367.0476,-75.3979 379.0094,-75.3979\"/>\n<polygon fill=\"#000000\" stroke=\"#000000\" points=\"379.2751,-78.898 389.2751,-75.3979 379.275,-71.898 379.2751,-78.898\"/>\n<text text-anchor=\"middle\" x=\"366.3875\" y=\"-79.1979\" font-family=\"Times,serif\" font-size=\"14.00\" fill=\"#000000\">a </text>\n</g>\n<!-- St3&#45;&gt;St6 -->\n<g id=\"edge6\" class=\"edge\">\n<title>St3&#45;&gt;St6</title>\n<path fill=\"none\" stroke=\"#000000\" d=\"M238.0778,-39.0174C251.2382,-45.1626 267.5924,-52.7991 281.9143,-59.4866\"/>\n<polygon fill=\"#000000\" stroke=\"#000000\" points=\"280.4368,-62.6594 290.9785,-63.7191 283.3984,-56.3168 280.4368,-62.6594\"/>\n<text text-anchor=\"middle\" x=\"264.5917\" y=\"-56.1979\" font-family=\"Times,serif\" font-size=\"14.00\" fill=\"#000000\">b </text>\n</g>\n<!-- St3&#45;&gt;St3 -->\n<g id=\"edge5\" class=\"edge\">\n<title>St3&#45;&gt;St3</title>\n<path fill=\"none\" stroke=\"#000000\" d=\"M203.876,-53.523C203.3496,-64.0011 206.4555,-72.7958 213.1938,-72.7958 217.5105,-72.7958 220.3365,-69.1865 221.6717,-63.8374\"/>\n<polygon fill=\"#000000\" stroke=\"#000000\" points=\"225.1884,-63.7741 222.5116,-53.523 218.2115,-63.206 225.1884,-63.7741\"/>\n<text text-anchor=\"middle\" x=\"213.1938\" y=\"-76.5958\" font-family=\"Times,serif\" font-size=\"14.00\" fill=\"#000000\">s </text>\n</g>\n</g>\n</svg>\n"
          },
          "metadata": {
            "tags": []
          },
          "execution_count": 44
        }
      ]
    },
    {
      "cell_type": "code",
      "metadata": {
        "colab": {
          "base_uri": "https://localhost:8080/",
          "height": 163
        },
        "id": "-7ZCmVEti-dn",
        "outputId": "d9b2b70e-3897-45e4-8124-b7aed61802d1"
      },
      "source": [
        "dotObj_gnfa(Gfinal)"
      ],
      "execution_count": null,
      "outputs": [
        {
          "output_type": "execute_result",
          "data": {
            "text/plain": [
              "<graphviz.dot.Digraph at 0x7fec9e32f9b0>"
            ],
            "image/svg+xml": "<?xml version=\"1.0\" encoding=\"UTF-8\" standalone=\"no\"?>\n<!DOCTYPE svg PUBLIC \"-//W3C//DTD SVG 1.1//EN\"\n \"http://www.w3.org/Graphics/SVG/1.1/DTD/svg11.dtd\">\n<!-- Generated by graphviz version 2.40.1 (20161225.0304)\n -->\n<!-- Title: %3 Pages: 1 -->\n<svg width=\"3586pt\" height=\"91pt\"\n viewBox=\"0.00 0.00 3585.59 91.39\" xmlns=\"http://www.w3.org/2000/svg\" xmlns:xlink=\"http://www.w3.org/1999/xlink\">\n<g id=\"graph0\" class=\"graph\" transform=\"scale(1 1) rotate(0) translate(4 87.3933)\">\n<title>%3</title>\n<polygon fill=\"#ffffff\" stroke=\"transparent\" points=\"-4,4 -4,-87.3933 3581.5871,-87.3933 3581.5871,4 -4,4\"/>\n<!-- EMPTY -->\n<g id=\"node1\" class=\"node\">\n<title>EMPTY</title>\n</g>\n<!-- Real_I -->\n<g id=\"node2\" class=\"node\">\n<title>Real_I</title>\n<ellipse fill=\"none\" stroke=\"#000000\" cx=\"126.0969\" cy=\"-41.6967\" rx=\"35.194\" ry=\"35.194\"/>\n<text text-anchor=\"middle\" x=\"126.0969\" y=\"-37.9967\" font-family=\"Times,serif\" font-size=\"14.00\" fill=\"#000000\">Real_I</text>\n</g>\n<!-- EMPTY&#45;&gt;Real_I -->\n<g id=\"edge1\" class=\"edge\">\n<title>EMPTY&#45;&gt;Real_I</title>\n<path fill=\"none\" stroke=\"#000000\" d=\"M54.0787,-41.6967C62.3227,-41.6967 71.6196,-41.6967 80.7269,-41.6967\"/>\n<polygon fill=\"#000000\" stroke=\"#000000\" points=\"80.8626,-45.1968 90.8626,-41.6967 80.8625,-38.1968 80.8626,-45.1968\"/>\n</g>\n<!-- Real_F -->\n<g id=\"node3\" class=\"node\">\n<title>Real_F</title>\n<ellipse fill=\"none\" stroke=\"#000000\" cx=\"3535.8904\" cy=\"-41.6967\" rx=\"37.8753\" ry=\"37.8753\"/>\n<ellipse fill=\"none\" stroke=\"#000000\" cx=\"3535.8904\" cy=\"-41.6967\" rx=\"41.8942\" ry=\"41.8942\"/>\n<text text-anchor=\"middle\" x=\"3535.8904\" y=\"-37.9967\" font-family=\"Times,serif\" font-size=\"14.00\" fill=\"#000000\">Real_F</text>\n</g>\n<!-- Real_I&#45;&gt;Real_F -->\n<g id=\"edge2\" class=\"edge\">\n<title>Real_I&#45;&gt;Real_F</title>\n<path fill=\"none\" stroke=\"#000000\" d=\"M161.2358,-41.6967C493.7701,-41.6967 3083.1985,-41.6967 3483.8834,-41.6967\"/>\n<polygon fill=\"#000000\" stroke=\"#000000\" points=\"3484.0226,-45.1968 3494.0226,-41.6967 3484.0226,-38.1968 3484.0226,-45.1968\"/>\n<text text-anchor=\"middle\" x=\"1827.6938\" y=\"-45.4967\" font-family=\"Times,serif\" font-size=\"14.00\" fill=\"#000000\">(&#39;+&#39;, ((&#39;+&#39;, ((&#39;+&#39;, ((&#39;+&#39;, ((&#39;+&#39;, ((&#39;+&#39;, ((&#39;.&#39;, ((&#39;.&#39;, (&#39;d&#39;, (&#39;.&#39;, ((&#39;*&#39;, &#39;s&#39;), &#39;b&#39;)))), &#39;a&#39;)), (&#39;.&#39;, (&#39;d&#39;, (&#39;*&#39;, &#39;s&#39;))))), (&#39;.&#39;, (&#39;d&#39;, (&#39;*&#39;, &#39;s&#39;))))), (&#39;.&#39;, (&#39;d&#39;, (&#39;.&#39;, ((&#39;*&#39;, &#39;s&#39;), &#39;b&#39;)))))), (&#39;.&#39;, (&#39;d&#39;, (&#39;.&#39;, ((&#39;*&#39;, &#39;s&#39;), &#39;b&#39;)))))), (&#39;+&#39;, ((&#39;+&#39;, ((&#39;+&#39;, ((&#39;+&#39;, ((&#39;.&#39;, ((&#39;+&#39;, ((&#39;+&#39;, ((&#39;.&#39;, (&#39;f&#39;, (&#39;.&#39;, ((&#39;*&#39;, &#39;s&#39;), &#39;b&#39;)))), &#39;c&#39;)), &#39;c&#39;)), &#39;a&#39;)), (&#39;.&#39;, (&#39;f&#39;, (&#39;*&#39;, &#39;s&#39;))))), (&#39;.&#39;, (&#39;f&#39;, (&#39;*&#39;, &#39;s&#39;))))), (&#39;+&#39;, ((&#39;+&#39;, ((&#39;.&#39;, (&#39;f&#39;, (&#39;.&#39;, ((&#39;*&#39;, &#39;s&#39;), &#39;b&#39;)))), &#39;c&#39;)), &#39;c&#39;)))), (&#39;+&#39;, ((&#39;+&#39;, ((&#39;.&#39;, (&#39;f&#39;, (&#39;.&#39;, ((&#39;*&#39;, &#39;s&#39;), &#39;b&#39;)))), &#39;c&#39;)), &#39;c&#39;)))))), (&#39;+&#39;, ((&#39;+&#39;, ((&#39;+&#39;, ((&#39;+&#39;, ((&#39;.&#39;, ((&#39;+&#39;, ((&#39;+&#39;, ((&#39;.&#39;, (&#39;f&#39;, (&#39;.&#39;, ((&#39;*&#39;, &#39;s&#39;), &#39;b&#39;)))), &#39;c&#39;)), &#39;c&#39;)), &#39;a&#39;)), (&#39;.&#39;, (&#39;f&#39;, (&#39;*&#39;, &#39;s&#39;))))), (&#39;.&#39;, (&#39;f&#39;, (&#39;*&#39;, &#39;s&#39;))))), (&#39;+&#39;, ((&#39;+&#39;, ((&#39;.&#39;, (&#39;f&#39;, (&#39;.&#39;, ((&#39;*&#39;, &#39;s&#39;), &#39;b&#39;)))), &#39;c&#39;)), &#39;c&#39;)))), (&#39;+&#39;, ((&#39;+&#39;, ((&#39;.&#39;, (&#39;f&#39;, (&#39;.&#39;, ((&#39;*&#39;, &#39;s&#39;), &#39;b&#39;)))), &#39;c&#39;)), &#39;c&#39;)))))) </text>\n</g>\n</g>\n</svg>\n"
          },
          "metadata": {
            "tags": []
          },
          "execution_count": 45
        }
      ]
    },
    {
      "cell_type": "markdown",
      "metadata": {
        "id": "RdLm-Pc-1Fas"
      },
      "source": [
        "## Examine DO[0] through DO[Last_Legal_Item] (find out how long DO is)\n",
        "\n",
        "DO[0] is the initial GNFA machine, DO[1] is the next one, and so on. You will see each step getting\n",
        "rid of one state.\n",
        "\n",
        "### Summarize your observation of the state elimination and which REs were introduced as a result. Use one bullet per question answered below.\n",
        "\n",
        "* B\n",
        "\n",
        "  I3 -> F2 [label=\"((f ((s)* b)) + c) \"] <br />\n",
        "  I3 -> F1 [label=\"(f (s)*) \"] <br />\n",
        "  I4 -> F2 [label=\"(d ((s)* b)) \"] <br />\n",
        "  I4 -> F1 [label=\"(d (s)*) \"]\n",
        "\n",
        "* F2\n",
        "\n",
        "  I3 -> F1 [label=\"(((((f ((s)* b)) + c) + c) a) + (f (s)*)) \"]<br />\n",
        "  I3 -> Real_F [label=\"(((f ((s)* b)) + c) + c) \"]<br />\n",
        "  I4 -> F1 [label=\"(((d ((s)* b)) a) + (d (s)*)) \"]<br />\n",
        "  I4 -> Real_F [label=\"(d ((s)* b)) \"]<br />\n",
        "  I3 -> F1 [label=\"(f (s)*) \"]<br />\n",
        "  I4 -> F1 [label=\"(d (s)*) \"]\n",
        "\n",
        "* F1\n",
        "\n",
        "  I3 -> Real_F [label=\"(((((((f ((s)* b)) + c) + c) a) + (f (s)*)) + (f (s)*)) + (((f ((s)* b)) + c) + c)) \"]<br />\n",
        "  I4 -> Real_F [label=\"(((((d ((s)* b)) a) + (d (s)*)) + (d (s)*)) + (d ((s)* b))) \"]<br />\n",
        "  I3 -> Real_F [label=\"(((f ((s)* b)) + c) + c) \"]<br />\n",
        "  I4 -> Real_F [label=\"(d ((s)* b)) \"]<br />\n",
        "\n",
        "* I3\n",
        "\n",
        "  Real_I -> Real_F [label=\"((((((((f ((s)* b)) + c) + c) a) + (f (s)*)) + (f (s)*)) + (((f ((s)* b)) + c) + c)) + (((f ((s)* b)) + c) + c)) \"]<br />\n",
        "  I4 -> Real_F [label=\"(((((d ((s)* b)) a) + (d (s)*)) + (d (s)*)) + (d ((s)* b))) \"]<br />\n",
        "  I4 -> Real_F [label=\"(d ((s)* b)) \"]<br />\n",
        "\n",
        "* I4\n",
        "\n",
        "  Real_I -> Real_F [label=\"(((((((d ((s)* b)) a) + (d (s)*)) + (d (s)*)) + (d ((s)* b))) + (d ((s)* b))) + ((((((((f ((s)* b)) + c) + c) a) + (f (s)*)) + (f (s)*)) + (((f ((s)* b)) + c) + c)) + (((f ((s)* b)) + c) + c))) \"]<br />\n",
        "  Real_I -> Real_F [label=\"((((((((f ((s)* b)) + c) + c) a) + (f (s)*)) + (f (s)*)) + (((f ((s)* b)) + c) + c)) + (((f ((s)* b)) + c) + c)) \"]\n"
      ]
    },
    {
      "cell_type": "code",
      "metadata": {
        "colab": {
          "base_uri": "https://localhost:8080/"
        },
        "id": "Rr0ZtpqpmN4e",
        "outputId": "13709fba-831b-4705-e5cb-e728732f156a"
      },
      "source": [
        "[*map(print,DO)]"
      ],
      "execution_count": null,
      "outputs": [
        {
          "output_type": "stream",
          "text": [
            "// GO_St40\n",
            "digraph {\n",
            "\tgraph [rankdir=LR]\n",
            "\tEMPTY [label=\"\" shape=plaintext]\n",
            "\tI4 [label=I4 peripheries=1 shape=circle]\n",
            "\tReal_I [label=Real_I peripheries=1 shape=circle]\n",
            "\tF1 [label=F1 peripheries=1 shape=circle]\n",
            "\tI3 [label=I3 peripheries=1 shape=circle]\n",
            "\tF2 [label=F2 peripheries=1 shape=circle]\n",
            "\tB [label=B peripheries=1 shape=circle]\n",
            "\tReal_F [label=Real_F peripheries=2 shape=circle]\n",
            "\tEMPTY -> Real_I\n",
            "\tB -> F1 [label=\"'' \"]\n",
            "\tF2 -> F1 [label=\"a \"]\n",
            "\tI3 -> F2 [label=\"c \"]\n",
            "\tB -> F2 [label=\"b \"]\n",
            "\tB -> B [label=\"s \"]\n",
            "\tI4 -> B [label=\"d \"]\n",
            "\tI3 -> B [label=\"f \"]\n",
            "\tReal_I -> I4 [label=\"'' \"]\n",
            "\tReal_I -> I3 [label=\"'' \"]\n",
            "\tF2 -> Real_F [label=\"'' \"]\n",
            "\tF1 -> Real_F [label=\"'' \"]\n",
            "}\n",
            "// GO_St41\n",
            "digraph {\n",
            "\tgraph [rankdir=LR]\n",
            "\tEMPTY [label=\"\" shape=plaintext]\n",
            "\tI4 [label=I4 peripheries=1 shape=circle]\n",
            "\tReal_I [label=Real_I peripheries=1 shape=circle]\n",
            "\tF1 [label=F1 peripheries=1 shape=circle]\n",
            "\tI3 [label=I3 peripheries=1 shape=circle]\n",
            "\tF2 [label=F2 peripheries=1 shape=circle]\n",
            "\tReal_F [label=Real_F peripheries=2 shape=circle]\n",
            "\tEMPTY -> Real_I\n",
            "\tI3 -> F2 [label=\"((f ((s)* b)) + c) \"]\n",
            "\tI3 -> F1 [label=\"(f (s)*) \"]\n",
            "\tI4 -> F2 [label=\"(d ((s)* b)) \"]\n",
            "\tI4 -> F1 [label=\"(d (s)*) \"]\n",
            "\tF2 -> F1 [label=\"a \"]\n",
            "\tI3 -> F2 [label=\"c \"]\n",
            "\tReal_I -> I4 [label=\"\\\"\\\" \"]\n",
            "\tReal_I -> I3 [label=\"\\\"\\\" \"]\n",
            "\tF2 -> Real_F [label=\"\\\"\\\" \"]\n",
            "\tF1 -> Real_F [label=\"\\\"\\\" \"]\n",
            "}\n",
            "// GO_St42\n",
            "digraph {\n",
            "\tgraph [rankdir=LR]\n",
            "\tEMPTY [label=\"\" shape=plaintext]\n",
            "\tI4 [label=I4 peripheries=1 shape=circle]\n",
            "\tReal_I [label=Real_I peripheries=1 shape=circle]\n",
            "\tF1 [label=F1 peripheries=1 shape=circle]\n",
            "\tI3 [label=I3 peripheries=1 shape=circle]\n",
            "\tReal_F [label=Real_F peripheries=2 shape=circle]\n",
            "\tEMPTY -> Real_I\n",
            "\tI3 -> F1 [label=\"(((((f ((s)* b)) + c) + c) a) + (f (s)*)) \"]\n",
            "\tI3 -> Real_F [label=\"(((f ((s)* b)) + c) + c) \"]\n",
            "\tI4 -> F1 [label=\"(((d ((s)* b)) a) + (d (s)*)) \"]\n",
            "\tI4 -> Real_F [label=\"(d ((s)* b)) \"]\n",
            "\tI3 -> F1 [label=\"(f (s)*) \"]\n",
            "\tI4 -> F1 [label=\"(d (s)*) \"]\n",
            "\tReal_I -> I4 [label=\"\\\"\\\" \"]\n",
            "\tReal_I -> I3 [label=\"\\\"\\\" \"]\n",
            "\tF1 -> Real_F [label=\"\\\"\\\" \"]\n",
            "}\n",
            "// GO_St43\n",
            "digraph {\n",
            "\tgraph [rankdir=LR]\n",
            "\tEMPTY [label=\"\" shape=plaintext]\n",
            "\tI4 [label=I4 peripheries=1 shape=circle]\n",
            "\tReal_I [label=Real_I peripheries=1 shape=circle]\n",
            "\tI3 [label=I3 peripheries=1 shape=circle]\n",
            "\tReal_F [label=Real_F peripheries=2 shape=circle]\n",
            "\tEMPTY -> Real_I\n",
            "\tI3 -> Real_F [label=\"(((((((f ((s)* b)) + c) + c) a) + (f (s)*)) + (f (s)*)) + (((f ((s)* b)) + c) + c)) \"]\n",
            "\tI4 -> Real_F [label=\"(((((d ((s)* b)) a) + (d (s)*)) + (d (s)*)) + (d ((s)* b))) \"]\n",
            "\tI3 -> Real_F [label=\"(((f ((s)* b)) + c) + c) \"]\n",
            "\tI4 -> Real_F [label=\"(d ((s)* b)) \"]\n",
            "\tReal_I -> I4 [label=\"\\\"\\\" \"]\n",
            "\tReal_I -> I3 [label=\"\\\"\\\" \"]\n",
            "}\n",
            "// GO_St44\n",
            "digraph {\n",
            "\tgraph [rankdir=LR]\n",
            "\tEMPTY [label=\"\" shape=plaintext]\n",
            "\tI4 [label=I4 peripheries=1 shape=circle]\n",
            "\tReal_I [label=Real_I peripheries=1 shape=circle]\n",
            "\tReal_F [label=Real_F peripheries=2 shape=circle]\n",
            "\tEMPTY -> Real_I\n",
            "\tReal_I -> Real_F [label=\"((((((((f ((s)* b)) + c) + c) a) + (f (s)*)) + (f (s)*)) + (((f ((s)* b)) + c) + c)) + (((f ((s)* b)) + c) + c)) \"]\n",
            "\tI4 -> Real_F [label=\"(((((d ((s)* b)) a) + (d (s)*)) + (d (s)*)) + (d ((s)* b))) \"]\n",
            "\tI4 -> Real_F [label=\"(d ((s)* b)) \"]\n",
            "\tReal_I -> I4 [label=\"\\\"\\\" \"]\n",
            "}\n",
            "// GO_St45\n",
            "digraph {\n",
            "\tgraph [rankdir=LR]\n",
            "\tEMPTY [label=\"\" shape=plaintext]\n",
            "\tReal_I [label=Real_I peripheries=1 shape=circle]\n",
            "\tReal_F [label=Real_F peripheries=2 shape=circle]\n",
            "\tEMPTY -> Real_I\n",
            "\tReal_I -> Real_F [label=\"(((((((d ((s)* b)) a) + (d (s)*)) + (d (s)*)) + (d ((s)* b))) + (d ((s)* b))) + ((((((((f ((s)* b)) + c) + c) a) + (f (s)*)) + (f (s)*)) + (((f ((s)* b)) + c) + c)) + (((f ((s)* b)) + c) + c))) \"]\n",
            "\tReal_I -> Real_F [label=\"((((((((f ((s)* b)) + c) + c) a) + (f (s)*)) + (f (s)*)) + (((f ((s)* b)) + c) + c)) + (((f ((s)* b)) + c) + c)) \"]\n",
            "}\n"
          ],
          "name": "stdout"
        },
        {
          "output_type": "execute_result",
          "data": {
            "text/plain": [
              "[None, None, None, None, None, None]"
            ]
          },
          "metadata": {
            "tags": []
          },
          "execution_count": 51
        }
      ]
    },
    {
      "cell_type": "markdown",
      "metadata": {
        "id": "iQEHDBcy1Far"
      },
      "source": [
        "## 3.3: Apply the elimination order by supplying the second argument \n",
        " ['I3', 'I4', 'F1', 'B', 'F2' ]\n",
        "\n",
        "as you learned in the help"
      ]
    },
    {
      "cell_type": "code",
      "metadata": {
        "colab": {
          "base_uri": "https://localhost:8080/"
        },
        "id": "5QQdxezWjuKB",
        "outputId": "2cfadf46-b7c2-4be8-e42c-a293d39d352e"
      },
      "source": [
        "(Gfinal2, DO2, Rev_RE2) = del_gnfa_states(grnfa1, ['I3', 'I4', 'F1', 'B', 'F2' ])"
      ],
      "execution_count": null,
      "outputs": [
        {
          "output_type": "stream",
          "text": [
            "**** Eliminating state I3 ****\n",
            "**** Eliminating state I4 ****\n",
            "**** Eliminating state F1 ****\n",
            "**** Eliminating state B ****\n",
            "**** Eliminating state F2 ****\n"
          ],
          "name": "stdout"
        }
      ]
    },
    {
      "cell_type": "code",
      "metadata": {
        "colab": {
          "base_uri": "https://localhost:8080/",
          "height": 35
        },
        "id": "YwshyWg2j0d5",
        "outputId": "ff02209a-9bc2-425d-e651-6838f2060f39"
      },
      "source": [
        "Rev_RE2"
      ],
      "execution_count": null,
      "outputs": [
        {
          "output_type": "execute_result",
          "data": {
            "application/vnd.google.colaboratory.intrinsic+json": {
              "type": "string"
            },
            "text/plain": [
              "'((((((((d + f) + f) ((s)* b)) + c) + c) ((a + \"\") + \"\")) + (((d + f) + f) (s)*)) + (((d + f) + f) (s)*))'"
            ]
          },
          "metadata": {
            "tags": []
          },
          "execution_count": 39
        }
      ]
    },
    {
      "cell_type": "code",
      "metadata": {
        "colab": {
          "base_uri": "https://localhost:8080/",
          "height": 225
        },
        "id": "aLETcJX9j3Kc",
        "outputId": "2d986ffe-9ea7-433d-c4e9-ed4d3a3f023c"
      },
      "source": [
        "dotObj_dfa(min_dfa(nfa2dfa(re2nfa(Rev_RE2))))"
      ],
      "execution_count": null,
      "outputs": [
        {
          "output_type": "stream",
          "text": [
            "Generating LALR tables\n"
          ],
          "name": "stderr"
        },
        {
          "output_type": "execute_result",
          "data": {
            "text/plain": [
              "<graphviz.dot.Digraph at 0x7fec9e418cc0>"
            ],
            "image/svg+xml": "<?xml version=\"1.0\" encoding=\"UTF-8\" standalone=\"no\"?>\n<!DOCTYPE svg PUBLIC \"-//W3C//DTD SVG 1.1//EN\"\n \"http://www.w3.org/Graphics/SVG/1.1/DTD/svg11.dtd\">\n<!-- Generated by graphviz version 2.40.1 (20161225.0304)\n -->\n<!-- Title: %3 Pages: 1 -->\n<svg width=\"452pt\" height=\"140pt\"\n viewBox=\"0.00 0.00 452.18 139.80\" xmlns=\"http://www.w3.org/2000/svg\" xmlns:xlink=\"http://www.w3.org/1999/xlink\">\n<g id=\"graph0\" class=\"graph\" transform=\"scale(1 1) rotate(0) translate(4 135.7958)\">\n<title>%3</title>\n<polygon fill=\"#ffffff\" stroke=\"transparent\" points=\"-4,4 -4,-135.7958 448.1834,-135.7958 448.1834,4 -4,4\"/>\n<!-- EMPTY -->\n<g id=\"node1\" class=\"node\">\n<title>EMPTY</title>\n</g>\n<!-- St1 -->\n<g id=\"node2\" class=\"node\">\n<title>St1</title>\n<ellipse fill=\"none\" stroke=\"#000000\" cx=\"114.3979\" cy=\"-44.3979\" rx=\"23.2963\" ry=\"23.2963\"/>\n<text text-anchor=\"middle\" x=\"114.3979\" y=\"-40.6979\" font-family=\"Times,serif\" font-size=\"14.00\" fill=\"#000000\">St1</text>\n</g>\n<!-- EMPTY&#45;&gt;St1 -->\n<g id=\"edge1\" class=\"edge\">\n<title>EMPTY&#45;&gt;St1</title>\n<path fill=\"none\" stroke=\"#000000\" d=\"M54.1742,-44.3979C62.5103,-44.3979 71.7873,-44.3979 80.5137,-44.3979\"/>\n<polygon fill=\"#000000\" stroke=\"#000000\" points=\"80.7846,-47.898 90.7846,-44.3979 80.7845,-40.898 80.7846,-47.898\"/>\n</g>\n<!-- St3 -->\n<g id=\"node3\" class=\"node\">\n<title>St3</title>\n<ellipse fill=\"none\" stroke=\"#000000\" cx=\"213.1938\" cy=\"-71.3979\" rx=\"23.3111\" ry=\"23.3111\"/>\n<ellipse fill=\"none\" stroke=\"#000000\" cx=\"213.1938\" cy=\"-71.3979\" rx=\"27.2962\" ry=\"27.2962\"/>\n<text text-anchor=\"middle\" x=\"213.1938\" y=\"-67.6979\" font-family=\"Times,serif\" font-size=\"14.00\" fill=\"#000000\">St3</text>\n</g>\n<!-- St1&#45;&gt;St3 -->\n<g id=\"edge3\" class=\"edge\">\n<title>St1&#45;&gt;St3</title>\n<path fill=\"none\" stroke=\"#000000\" d=\"M136.0621,-53.6126C142.3489,-56.0557 149.2776,-58.5301 155.7958,-60.3979 162.1967,-62.2321 169.0877,-63.8488 175.797,-65.2389\"/>\n<polygon fill=\"#000000\" stroke=\"#000000\" points=\"175.6105,-68.7679 186.0939,-67.2357 176.9431,-61.8959 175.6105,-68.7679\"/>\n<text text-anchor=\"middle\" x=\"161.7958\" y=\"-66.1979\" font-family=\"Times,serif\" font-size=\"14.00\" fill=\"#000000\">d </text>\n</g>\n<!-- St1&#45;&gt;St3 -->\n<g id=\"edge4\" class=\"edge\">\n<title>St1&#45;&gt;St3</title>\n<path fill=\"none\" stroke=\"#000000\" d=\"M137.4104,-39.6847C146.9842,-38.5962 158.1034,-38.4847 167.7958,-41.3979 173.1111,-42.9955 178.3777,-45.4398 183.338,-48.2581\"/>\n<polygon fill=\"#000000\" stroke=\"#000000\" points=\"181.5522,-51.2696 191.8802,-53.6327 185.2801,-45.3448 181.5522,-51.2696\"/>\n<text text-anchor=\"middle\" x=\"161.7958\" y=\"-45.1979\" font-family=\"Times,serif\" font-size=\"14.00\" fill=\"#000000\">f </text>\n</g>\n<!-- St6 -->\n<g id=\"node4\" class=\"node\">\n<title>St6</title>\n<ellipse fill=\"none\" stroke=\"#000000\" cx=\"315.9896\" cy=\"-27.3979\" rx=\"23.3111\" ry=\"23.3111\"/>\n<ellipse fill=\"none\" stroke=\"#000000\" cx=\"315.9896\" cy=\"-27.3979\" rx=\"27.2962\" ry=\"27.2962\"/>\n<text text-anchor=\"middle\" x=\"315.9896\" y=\"-23.6979\" font-family=\"Times,serif\" font-size=\"14.00\" fill=\"#000000\">St6</text>\n</g>\n<!-- St1&#45;&gt;St6 -->\n<g id=\"edge2\" class=\"edge\">\n<title>St1&#45;&gt;St6</title>\n<path fill=\"none\" stroke=\"#000000\" d=\"M136.119,-35.0451C150.0308,-29.5738 168.6315,-23.2056 185.7958,-20.3979 216.8172,-15.3236 252.4932,-17.8142 278.646,-21.1556\"/>\n<polygon fill=\"#000000\" stroke=\"#000000\" points=\"278.4918,-24.6674 288.8764,-22.5676 279.4489,-17.7332 278.4918,-24.6674\"/>\n<text text-anchor=\"middle\" x=\"213.1938\" y=\"-24.1979\" font-family=\"Times,serif\" font-size=\"14.00\" fill=\"#000000\">c </text>\n</g>\n<!-- St3&#45;&gt;St3 -->\n<g id=\"edge6\" class=\"edge\">\n<title>St3&#45;&gt;St3</title>\n<path fill=\"none\" stroke=\"#000000\" d=\"M203.876,-97.523C203.3496,-108.0011 206.4555,-116.7958 213.1938,-116.7958 217.5105,-116.7958 220.3365,-113.1865 221.6717,-107.8374\"/>\n<polygon fill=\"#000000\" stroke=\"#000000\" points=\"225.1884,-107.7741 222.5116,-97.523 218.2115,-107.206 225.1884,-107.7741\"/>\n<text text-anchor=\"middle\" x=\"213.1938\" y=\"-120.5958\" font-family=\"Times,serif\" font-size=\"14.00\" fill=\"#000000\">s </text>\n</g>\n<!-- St3&#45;&gt;St6 -->\n<g id=\"edge7\" class=\"edge\">\n<title>St3&#45;&gt;St6</title>\n<path fill=\"none\" stroke=\"#000000\" d=\"M238.604,-60.5215C251.4536,-55.0214 267.244,-48.2626 281.2029,-42.2878\"/>\n<polygon fill=\"#000000\" stroke=\"#000000\" points=\"282.6995,-45.4544 290.5155,-38.3017 279.9449,-39.0191 282.6995,-45.4544\"/>\n<text text-anchor=\"middle\" x=\"264.5917\" y=\"-54.1979\" font-family=\"Times,serif\" font-size=\"14.00\" fill=\"#000000\">b </text>\n</g>\n<!-- St7 -->\n<g id=\"node5\" class=\"node\">\n<title>St7</title>\n<ellipse fill=\"none\" stroke=\"#000000\" cx=\"416.7855\" cy=\"-27.3979\" rx=\"23.3111\" ry=\"23.3111\"/>\n<ellipse fill=\"none\" stroke=\"#000000\" cx=\"416.7855\" cy=\"-27.3979\" rx=\"27.2962\" ry=\"27.2962\"/>\n<text text-anchor=\"middle\" x=\"416.7855\" y=\"-23.6979\" font-family=\"Times,serif\" font-size=\"14.00\" fill=\"#000000\">St7</text>\n</g>\n<!-- St6&#45;&gt;St7 -->\n<g id=\"edge5\" class=\"edge\">\n<title>St6&#45;&gt;St7</title>\n<path fill=\"none\" stroke=\"#000000\" d=\"M343.5325,-27.3979C354.5327,-27.3979 367.3758,-27.3979 379.2089,-27.3979\"/>\n<polygon fill=\"#000000\" stroke=\"#000000\" points=\"379.2759,-30.898 389.2759,-27.3979 379.2758,-23.898 379.2759,-30.898\"/>\n<text text-anchor=\"middle\" x=\"366.3875\" y=\"-31.1979\" font-family=\"Times,serif\" font-size=\"14.00\" fill=\"#000000\">a </text>\n</g>\n</g>\n</svg>\n"
          },
          "metadata": {
            "tags": []
          },
          "execution_count": 40
        }
      ]
    },
    {
      "cell_type": "code",
      "metadata": {
        "colab": {
          "base_uri": "https://localhost:8080/",
          "height": 143
        },
        "id": "FsydXmnHj6_X",
        "outputId": "62ba8225-3570-4d79-b4fa-d0ecc37c7806"
      },
      "source": [
        "dotObj_gnfa(Gfinal2)"
      ],
      "execution_count": null,
      "outputs": [
        {
          "output_type": "execute_result",
          "data": {
            "text/plain": [
              "<graphviz.dot.Digraph at 0x7fec9e40d3c8>"
            ],
            "image/svg+xml": "<?xml version=\"1.0\" encoding=\"UTF-8\" standalone=\"no\"?>\n<!DOCTYPE svg PUBLIC \"-//W3C//DTD SVG 1.1//EN\"\n \"http://www.w3.org/Graphics/SVG/1.1/DTD/svg11.dtd\">\n<!-- Generated by graphviz version 2.40.1 (20161225.0304)\n -->\n<!-- Title: %3 Pages: 1 -->\n<svg width=\"1306pt\" height=\"91pt\"\n viewBox=\"0.00 0.00 1305.59 91.39\" xmlns=\"http://www.w3.org/2000/svg\" xmlns:xlink=\"http://www.w3.org/1999/xlink\">\n<g id=\"graph0\" class=\"graph\" transform=\"scale(1 1) rotate(0) translate(4 87.3933)\">\n<title>%3</title>\n<polygon fill=\"#ffffff\" stroke=\"transparent\" points=\"-4,4 -4,-87.3933 1301.5871,-87.3933 1301.5871,4 -4,4\"/>\n<!-- EMPTY -->\n<g id=\"node1\" class=\"node\">\n<title>EMPTY</title>\n</g>\n<!-- Real_I -->\n<g id=\"node2\" class=\"node\">\n<title>Real_I</title>\n<ellipse fill=\"none\" stroke=\"#000000\" cx=\"126.0969\" cy=\"-41.6967\" rx=\"35.194\" ry=\"35.194\"/>\n<text text-anchor=\"middle\" x=\"126.0969\" y=\"-37.9967\" font-family=\"Times,serif\" font-size=\"14.00\" fill=\"#000000\">Real_I</text>\n</g>\n<!-- EMPTY&#45;&gt;Real_I -->\n<g id=\"edge1\" class=\"edge\">\n<title>EMPTY&#45;&gt;Real_I</title>\n<path fill=\"none\" stroke=\"#000000\" d=\"M54.0787,-41.6967C62.3227,-41.6967 71.6196,-41.6967 80.7269,-41.6967\"/>\n<polygon fill=\"#000000\" stroke=\"#000000\" points=\"80.8626,-45.1968 90.8626,-41.6967 80.8625,-38.1968 80.8626,-45.1968\"/>\n</g>\n<!-- Real_F -->\n<g id=\"node3\" class=\"node\">\n<title>Real_F</title>\n<ellipse fill=\"none\" stroke=\"#000000\" cx=\"1255.8904\" cy=\"-41.6967\" rx=\"37.8753\" ry=\"37.8753\"/>\n<ellipse fill=\"none\" stroke=\"#000000\" cx=\"1255.8904\" cy=\"-41.6967\" rx=\"41.8942\" ry=\"41.8942\"/>\n<text text-anchor=\"middle\" x=\"1255.8904\" y=\"-37.9967\" font-family=\"Times,serif\" font-size=\"14.00\" fill=\"#000000\">Real_F</text>\n</g>\n<!-- Real_I&#45;&gt;Real_F -->\n<g id=\"edge2\" class=\"edge\">\n<title>Real_I&#45;&gt;Real_F</title>\n<path fill=\"none\" stroke=\"#000000\" d=\"M161.4612,-41.6967C325.0596,-41.6967 1008.7696,-41.6967 1203.7685,-41.6967\"/>\n<polygon fill=\"#000000\" stroke=\"#000000\" points=\"1204.0291,-45.1968 1214.0291,-41.6967 1204.0291,-38.1968 1204.0291,-45.1968\"/>\n<text text-anchor=\"middle\" x=\"687.6938\" y=\"-45.4967\" font-family=\"Times,serif\" font-size=\"14.00\" fill=\"#000000\">(&#39;+&#39;, ((&#39;+&#39;, ((&#39;.&#39;, ((&#39;+&#39;, ((&#39;+&#39;, ((&#39;.&#39;, ((&#39;+&#39;, ((&#39;+&#39;, (&#39;d&#39;, &#39;f&#39;)), &#39;f&#39;)), (&#39;.&#39;, ((&#39;*&#39;, &#39;s&#39;), &#39;b&#39;)))), &#39;c&#39;)), &#39;c&#39;)), (&#39;+&#39;, ((&#39;+&#39;, (&#39;a&#39;, &#39;&#39;)), &#39;&#39;)))), (&#39;.&#39;, ((&#39;+&#39;, ((&#39;+&#39;, (&#39;d&#39;, &#39;f&#39;)), &#39;f&#39;)), (&#39;*&#39;, &#39;s&#39;))))), (&#39;.&#39;, ((&#39;+&#39;, ((&#39;+&#39;, (&#39;d&#39;, &#39;f&#39;)), &#39;f&#39;)), (&#39;*&#39;, &#39;s&#39;))))) </text>\n</g>\n</g>\n</svg>\n"
          },
          "metadata": {
            "tags": []
          },
          "execution_count": 41
        }
      ]
    },
    {
      "cell_type": "markdown",
      "metadata": {
        "id": "xbzVZEQY1Fat"
      },
      "source": [
        "## Examine DO[0] through DO[Last_Legal_Item] (find out how long DO is)\n",
        "\n",
        "### Summarize your observation of the state elimination and which REs were introduced as a result\n",
        "\n",
        "* I3\n",
        "\n",
        "\n",
        "\n",
        "* I4\n",
        "\n",
        "\n",
        "\n",
        "* F1\n",
        "\n",
        "\n",
        "\n",
        "* B\n",
        "\n",
        "\n",
        "\n",
        "* F2\n",
        "\n",
        "\n"
      ]
    },
    {
      "cell_type": "code",
      "metadata": {
        "colab": {
          "base_uri": "https://localhost:8080/"
        },
        "id": "-nVeHgJTp3A_",
        "outputId": "bb69e33f-bea7-4607-a794-c8266ed4e305"
      },
      "source": [
        "[*map(print,DO2)]"
      ],
      "execution_count": null,
      "outputs": [
        {
          "output_type": "stream",
          "text": [
            "// GO_St40\n",
            "digraph {\n",
            "\tgraph [rankdir=LR]\n",
            "\tEMPTY [label=\"\" shape=plaintext]\n",
            "\tI4 [label=I4 peripheries=1 shape=circle]\n",
            "\tReal_I [label=Real_I peripheries=1 shape=circle]\n",
            "\tF1 [label=F1 peripheries=1 shape=circle]\n",
            "\tI3 [label=I3 peripheries=1 shape=circle]\n",
            "\tF2 [label=F2 peripheries=1 shape=circle]\n",
            "\tB [label=B peripheries=1 shape=circle]\n",
            "\tReal_F [label=Real_F peripheries=2 shape=circle]\n",
            "\tEMPTY -> Real_I\n",
            "\tB -> F1 [label=\"'' \"]\n",
            "\tF2 -> F1 [label=\"a \"]\n",
            "\tI3 -> F2 [label=\"c \"]\n",
            "\tB -> F2 [label=\"b \"]\n",
            "\tB -> B [label=\"s \"]\n",
            "\tI4 -> B [label=\"d \"]\n",
            "\tI3 -> B [label=\"f \"]\n",
            "\tReal_I -> I4 [label=\"'' \"]\n",
            "\tReal_I -> I3 [label=\"'' \"]\n",
            "\tF2 -> Real_F [label=\"'' \"]\n",
            "\tF1 -> Real_F [label=\"'' \"]\n",
            "}\n",
            "// GO_St41\n",
            "digraph {\n",
            "\tgraph [rankdir=LR]\n",
            "\tEMPTY [label=\"\" shape=plaintext]\n",
            "\tI4 [label=I4 peripheries=1 shape=circle]\n",
            "\tReal_I [label=Real_I peripheries=1 shape=circle]\n",
            "\tF1 [label=F1 peripheries=1 shape=circle]\n",
            "\tF2 [label=F2 peripheries=1 shape=circle]\n",
            "\tB [label=B peripheries=1 shape=circle]\n",
            "\tReal_F [label=Real_F peripheries=2 shape=circle]\n",
            "\tEMPTY -> Real_I\n",
            "\tReal_I -> B [label=\"f \"]\n",
            "\tReal_I -> F2 [label=\"c \"]\n",
            "\tB -> F1 [label=\"\\\"\\\" \"]\n",
            "\tF2 -> F1 [label=\"a \"]\n",
            "\tB -> F2 [label=\"b \"]\n",
            "\tB -> B [label=\"s \"]\n",
            "\tI4 -> B [label=\"d \"]\n",
            "\tReal_I -> I4 [label=\"\\\"\\\" \"]\n",
            "\tF2 -> Real_F [label=\"\\\"\\\" \"]\n",
            "\tF1 -> Real_F [label=\"\\\"\\\" \"]\n",
            "}\n",
            "// GO_St42\n",
            "digraph {\n",
            "\tgraph [rankdir=LR]\n",
            "\tEMPTY [label=\"\" shape=plaintext]\n",
            "\tReal_I [label=Real_I peripheries=1 shape=circle]\n",
            "\tF2 [label=F2 peripheries=1 shape=circle]\n",
            "\tF1 [label=F1 peripheries=1 shape=circle]\n",
            "\tB [label=B peripheries=1 shape=circle]\n",
            "\tReal_F [label=Real_F peripheries=2 shape=circle]\n",
            "\tEMPTY -> Real_I\n",
            "\tReal_I -> B [label=\"(d + f) \"]\n",
            "\tReal_I -> B [label=\"f \"]\n",
            "\tReal_I -> F2 [label=\"c \"]\n",
            "\tB -> F1 [label=\"\\\"\\\" \"]\n",
            "\tF2 -> F1 [label=\"a \"]\n",
            "\tB -> F2 [label=\"b \"]\n",
            "\tB -> B [label=\"s \"]\n",
            "\tF2 -> Real_F [label=\"\\\"\\\" \"]\n",
            "\tF1 -> Real_F [label=\"\\\"\\\" \"]\n",
            "}\n",
            "// GO_St43\n",
            "digraph {\n",
            "\tgraph [rankdir=LR]\n",
            "\tEMPTY [label=\"\" shape=plaintext]\n",
            "\tF2 [label=F2 peripheries=1 shape=circle]\n",
            "\tB [label=B peripheries=1 shape=circle]\n",
            "\tReal_I [label=Real_I peripheries=1 shape=circle]\n",
            "\tReal_F [label=Real_F peripheries=2 shape=circle]\n",
            "\tEMPTY -> Real_I\n",
            "\tB -> Real_F [label=\"\\\"\\\" \"]\n",
            "\tF2 -> Real_F [label=\"(a + \\\"\\\") \"]\n",
            "\tReal_I -> B [label=\"(d + f) \"]\n",
            "\tReal_I -> B [label=\"f \"]\n",
            "\tReal_I -> F2 [label=\"c \"]\n",
            "\tB -> F2 [label=\"b \"]\n",
            "\tB -> B [label=\"s \"]\n",
            "\tF2 -> Real_F [label=\"\\\"\\\" \"]\n",
            "}\n",
            "// GO_St44\n",
            "digraph {\n",
            "\tgraph [rankdir=LR]\n",
            "\tEMPTY [label=\"\" shape=plaintext]\n",
            "\tF2 [label=F2 peripheries=1 shape=circle]\n",
            "\tReal_I [label=Real_I peripheries=1 shape=circle]\n",
            "\tReal_F [label=Real_F peripheries=2 shape=circle]\n",
            "\tEMPTY -> Real_I\n",
            "\tReal_I -> F2 [label=\"((((d + f) + f) ((s)* b)) + c) \"]\n",
            "\tReal_I -> Real_F [label=\"(((d + f) + f) (s)*) \"]\n",
            "\tF2 -> Real_F [label=\"(a + \\\"\\\") \"]\n",
            "\tReal_I -> F2 [label=\"c \"]\n",
            "\tF2 -> Real_F [label=\"\\\"\\\" \"]\n",
            "}\n",
            "// GO_St45\n",
            "digraph {\n",
            "\tgraph [rankdir=LR]\n",
            "\tEMPTY [label=\"\" shape=plaintext]\n",
            "\tReal_I [label=Real_I peripheries=1 shape=circle]\n",
            "\tReal_F [label=Real_F peripheries=2 shape=circle]\n",
            "\tEMPTY -> Real_I\n",
            "\tReal_I -> Real_F [label=\"(((((((d + f) + f) ((s)* b)) + c) + c) ((a + \\\"\\\") + \\\"\\\")) + (((d + f) + f) (s)*)) \"]\n",
            "\tReal_I -> Real_F [label=\"(((d + f) + f) (s)*) \"]\n",
            "}\n"
          ],
          "name": "stdout"
        },
        {
          "output_type": "execute_result",
          "data": {
            "text/plain": [
              "[None, None, None, None, None, None]"
            ]
          },
          "metadata": {
            "tags": []
          },
          "execution_count": 52
        }
      ]
    },
    {
      "cell_type": "markdown",
      "metadata": {
        "id": "1QaSXKIu1Fat"
      },
      "source": [
        "## 3.4: Check for isomorphism as requested between Rev_RE1 and Rev_RE2\n",
        "\n",
        "Apply a Jove call that is compact (and will be given in class) that checks that Rev_RE1 and Rev_RE2 are equivalent. It has to involve iso_dfa and min_dfa and other calls."
      ]
    },
    {
      "cell_type": "code",
      "metadata": {
        "id": "ft9RVqT71Fat",
        "colab": {
          "base_uri": "https://localhost:8080/"
        },
        "outputId": "e7cf4c74-c780-47a9-e0ce-67bcbde18c40"
      },
      "source": [
        "iso_dfa(min_dfa(nfa2dfa(re2nfa(Rev_RE1))), min_dfa(nfa2dfa(re2nfa(Rev_RE2))))"
      ],
      "execution_count": 57,
      "outputs": [
        {
          "output_type": "stream",
          "text": [
            "Generating LALR tables\n",
            "Generating LALR tables\n"
          ],
          "name": "stderr"
        },
        {
          "output_type": "execute_result",
          "data": {
            "text/plain": [
              "True"
            ]
          },
          "metadata": {
            "tags": []
          },
          "execution_count": 57
        }
      ]
    },
    {
      "cell_type": "markdown",
      "metadata": {
        "id": "7YPYmZWU1Fau"
      },
      "source": [
        ""
      ]
    },
    {
      "cell_type": "code",
      "metadata": {
        "id": "y8DyxZvA1Fau",
        "colab": {
          "base_uri": "https://localhost:8080/",
          "height": 35
        },
        "outputId": "6cb6ec88-3ba8-4209-ef00-831bb03a595b"
      },
      "source": [
        "# Just look at it again for comparison\n",
        "\n",
        "Rev_RE1_hand"
      ],
      "execution_count": 55,
      "outputs": [
        {
          "output_type": "execute_result",
          "data": {
            "application/vnd.google.colaboratory.intrinsic+json": {
              "type": "string"
            },
            "text/plain": [
              "'c + ca + ds*ba + ds*b + fs*ba + fs*b + ds* + fs*'"
            ]
          },
          "metadata": {
            "tags": []
          },
          "execution_count": 55
        }
      ]
    },
    {
      "cell_type": "markdown",
      "metadata": {
        "id": "SrFKBgbl1Fau"
      },
      "source": [
        "## 3.5: Check for isomorphism as requested between Rev_RE1 and Rev_RE1_hand\n",
        "\n",
        "Same methods as above."
      ]
    },
    {
      "cell_type": "code",
      "metadata": {
        "id": "ITE6hltC1Fau",
        "colab": {
          "base_uri": "https://localhost:8080/",
          "height": 267
        },
        "outputId": "a69afd93-50af-47b4-e819-a9536b5b338e"
      },
      "source": [
        "iso_dfa(min_dfa(nfa2dfa(re2nfa(Rev_RE1))), min_dfa(nfa2dfa(re2nfa(Rev_RE1_hand))))\r\n",
        "dotObj_dfa(min_dfa(nfa2dfa(re2nfa(Rev_RE1_hand))))"
      ],
      "execution_count": 56,
      "outputs": [
        {
          "output_type": "stream",
          "text": [
            "Generating LALR tables\n",
            "Generating LALR tables\n",
            "Generating LALR tables\n"
          ],
          "name": "stderr"
        },
        {
          "output_type": "execute_result",
          "data": {
            "text/plain": [
              "<graphviz.dot.Digraph at 0x7fec9e3f81d0>"
            ],
            "image/svg+xml": "<?xml version=\"1.0\" encoding=\"UTF-8\" standalone=\"no\"?>\n<!DOCTYPE svg PUBLIC \"-//W3C//DTD SVG 1.1//EN\"\n \"http://www.w3.org/Graphics/SVG/1.1/DTD/svg11.dtd\">\n<!-- Generated by graphviz version 2.40.1 (20161225.0304)\n -->\n<!-- Title: %3 Pages: 1 -->\n<svg width=\"463pt\" height=\"145pt\"\n viewBox=\"0.00 0.00 462.58 145.00\" xmlns=\"http://www.w3.org/2000/svg\" xmlns:xlink=\"http://www.w3.org/1999/xlink\">\n<g id=\"graph0\" class=\"graph\" transform=\"scale(1 1) rotate(0) translate(4 140.9954)\">\n<title>%3</title>\n<polygon fill=\"#ffffff\" stroke=\"transparent\" points=\"-4,4 -4,-140.9954 458.5825,-140.9954 458.5825,4 -4,4\"/>\n<!-- EMPTY -->\n<g id=\"node1\" class=\"node\">\n<title>EMPTY</title>\n</g>\n<!-- St1 -->\n<g id=\"node2\" class=\"node\">\n<title>St1</title>\n<ellipse fill=\"none\" stroke=\"#000000\" cx=\"114.3979\" cy=\"-49.5975\" rx=\"23.2963\" ry=\"23.2963\"/>\n<text text-anchor=\"middle\" x=\"114.3979\" y=\"-45.8975\" font-family=\"Times,serif\" font-size=\"14.00\" fill=\"#000000\">St1</text>\n</g>\n<!-- EMPTY&#45;&gt;St1 -->\n<g id=\"edge1\" class=\"edge\">\n<title>EMPTY&#45;&gt;St1</title>\n<path fill=\"none\" stroke=\"#000000\" d=\"M54.1742,-49.5975C62.5103,-49.5975 71.7873,-49.5975 80.5137,-49.5975\"/>\n<polygon fill=\"#000000\" stroke=\"#000000\" points=\"80.7846,-53.0976 90.7846,-49.5975 80.7845,-46.0976 80.7846,-53.0976\"/>\n</g>\n<!-- St3 -->\n<g id=\"node3\" class=\"node\">\n<title>St3</title>\n<ellipse fill=\"none\" stroke=\"#000000\" cx=\"213.1938\" cy=\"-76.5975\" rx=\"23.3111\" ry=\"23.3111\"/>\n<ellipse fill=\"none\" stroke=\"#000000\" cx=\"213.1938\" cy=\"-76.5975\" rx=\"27.2962\" ry=\"27.2962\"/>\n<text text-anchor=\"middle\" x=\"213.1938\" y=\"-72.8975\" font-family=\"Times,serif\" font-size=\"14.00\" fill=\"#000000\">St3</text>\n</g>\n<!-- St1&#45;&gt;St3 -->\n<g id=\"edge3\" class=\"edge\">\n<title>St1&#45;&gt;St3</title>\n<path fill=\"none\" stroke=\"#000000\" d=\"M136.0621,-58.8121C142.3489,-61.2553 149.2776,-63.7296 155.7958,-65.5975 162.1967,-67.4317 169.0877,-69.0484 175.797,-70.4385\"/>\n<polygon fill=\"#000000\" stroke=\"#000000\" points=\"175.6105,-73.9674 186.0939,-72.4352 176.9431,-67.0955 175.6105,-73.9674\"/>\n<text text-anchor=\"middle\" x=\"161.7958\" y=\"-71.3975\" font-family=\"Times,serif\" font-size=\"14.00\" fill=\"#000000\">d </text>\n</g>\n<!-- St1&#45;&gt;St3 -->\n<g id=\"edge4\" class=\"edge\">\n<title>St1&#45;&gt;St3</title>\n<path fill=\"none\" stroke=\"#000000\" d=\"M137.4104,-44.8843C146.9842,-43.7957 158.1034,-43.6843 167.7958,-46.5975 173.1111,-48.195 178.3777,-50.6393 183.338,-53.4576\"/>\n<polygon fill=\"#000000\" stroke=\"#000000\" points=\"181.5522,-56.4691 191.8802,-58.8322 185.2801,-50.5443 181.5522,-56.4691\"/>\n<text text-anchor=\"middle\" x=\"161.7958\" y=\"-50.3975\" font-family=\"Times,serif\" font-size=\"14.00\" fill=\"#000000\">f </text>\n</g>\n<!-- St6 -->\n<g id=\"node4\" class=\"node\">\n<title>St6</title>\n<ellipse fill=\"none\" stroke=\"#000000\" cx=\"315.9896\" cy=\"-32.5975\" rx=\"23.3111\" ry=\"23.3111\"/>\n<ellipse fill=\"none\" stroke=\"#000000\" cx=\"315.9896\" cy=\"-32.5975\" rx=\"27.2962\" ry=\"27.2962\"/>\n<text text-anchor=\"middle\" x=\"315.9896\" y=\"-28.8975\" font-family=\"Times,serif\" font-size=\"14.00\" fill=\"#000000\">St6</text>\n</g>\n<!-- St1&#45;&gt;St6 -->\n<g id=\"edge2\" class=\"edge\">\n<title>St1&#45;&gt;St6</title>\n<path fill=\"none\" stroke=\"#000000\" d=\"M136.119,-40.2447C150.0308,-34.7734 168.6315,-28.4051 185.7958,-25.5975 216.8172,-20.5231 252.4932,-23.0137 278.646,-26.3552\"/>\n<polygon fill=\"#000000\" stroke=\"#000000\" points=\"278.4918,-29.867 288.8764,-27.7672 279.4489,-22.9327 278.4918,-29.867\"/>\n<text text-anchor=\"middle\" x=\"213.1938\" y=\"-29.3975\" font-family=\"Times,serif\" font-size=\"14.00\" fill=\"#000000\">c </text>\n</g>\n<!-- St3&#45;&gt;St3 -->\n<g id=\"edge6\" class=\"edge\">\n<title>St3&#45;&gt;St3</title>\n<path fill=\"none\" stroke=\"#000000\" d=\"M203.876,-102.7225C203.3496,-113.2006 206.4555,-121.9954 213.1938,-121.9954 217.5105,-121.9954 220.3365,-118.386 221.6717,-113.037\"/>\n<polygon fill=\"#000000\" stroke=\"#000000\" points=\"225.1884,-112.9736 222.5116,-102.7225 218.2115,-112.4055 225.1884,-112.9736\"/>\n<text text-anchor=\"middle\" x=\"213.1938\" y=\"-125.7954\" font-family=\"Times,serif\" font-size=\"14.00\" fill=\"#000000\">s </text>\n</g>\n<!-- St3&#45;&gt;St6 -->\n<g id=\"edge7\" class=\"edge\">\n<title>St3&#45;&gt;St6</title>\n<path fill=\"none\" stroke=\"#000000\" d=\"M238.604,-65.7211C251.4536,-60.221 267.244,-53.4622 281.2029,-47.4873\"/>\n<polygon fill=\"#000000\" stroke=\"#000000\" points=\"282.6995,-50.6539 290.5155,-43.5012 279.9449,-44.2187 282.6995,-50.6539\"/>\n<text text-anchor=\"middle\" x=\"264.5917\" y=\"-59.3975\" font-family=\"Times,serif\" font-size=\"14.00\" fill=\"#000000\">b </text>\n</g>\n<!-- St10 -->\n<g id=\"node5\" class=\"node\">\n<title>St10</title>\n<ellipse fill=\"none\" stroke=\"#000000\" cx=\"421.985\" cy=\"-32.5975\" rx=\"28.6832\" ry=\"28.6832\"/>\n<ellipse fill=\"none\" stroke=\"#000000\" cx=\"421.985\" cy=\"-32.5975\" rx=\"32.6952\" ry=\"32.6952\"/>\n<text text-anchor=\"middle\" x=\"421.985\" y=\"-28.8975\" font-family=\"Times,serif\" font-size=\"14.00\" fill=\"#000000\">St10</text>\n</g>\n<!-- St6&#45;&gt;St10 -->\n<g id=\"edge5\" class=\"edge\">\n<title>St6&#45;&gt;St10</title>\n<path fill=\"none\" stroke=\"#000000\" d=\"M343.562,-32.5975C354.3788,-32.5975 367.0476,-32.5975 379.0094,-32.5975\"/>\n<polygon fill=\"#000000\" stroke=\"#000000\" points=\"379.2751,-36.0976 389.2751,-32.5975 379.275,-29.0976 379.2751,-36.0976\"/>\n<text text-anchor=\"middle\" x=\"366.3875\" y=\"-36.3975\" font-family=\"Times,serif\" font-size=\"14.00\" fill=\"#000000\">a </text>\n</g>\n</g>\n</svg>\n"
          },
          "metadata": {
            "tags": []
          },
          "execution_count": 56
        }
      ]
    },
    {
      "cell_type": "markdown",
      "metadata": {
        "id": "gAGEONPJ1Fav"
      },
      "source": [
        "# Problem 4: Chasing down the RE2NFA components\n",
        "\n",
        "Find out where the s* components are and explain the set of all strings that precede s* in Rev_RE2 and the NFA of Rev_RE2\n",
        "\n",
        "Find out where the ending \"a\" is, and find out the set of all the symbols that precede a\n",
        "\n",
        "Let's first look at the NFA and then see where the RE \"parts\" are in it."
      ]
    },
    {
      "cell_type": "code",
      "metadata": {
        "id": "reKK6EvN1Fav",
        "scrolled": true,
        "colab": {
          "base_uri": "https://localhost:8080/",
          "height": 1000
        },
        "outputId": "11bfe853-6a92-4632-a4df-17aa70baac09"
      },
      "source": [
        "dotObj_nfa(re2nfa(Rev_RE2))"
      ],
      "execution_count": 58,
      "outputs": [
        {
          "output_type": "stream",
          "text": [
            "Generating LALR tables\n"
          ],
          "name": "stderr"
        },
        {
          "output_type": "execute_result",
          "data": {
            "text/plain": [
              "<graphviz.dot.Digraph at 0x7fec9e343cf8>"
            ],
            "image/svg+xml": "<?xml version=\"1.0\" encoding=\"UTF-8\" standalone=\"no\"?>\n<!DOCTYPE svg PUBLIC \"-//W3C//DTD SVG 1.1//EN\"\n \"http://www.w3.org/Graphics/SVG/1.1/DTD/svg11.dtd\">\n<!-- Generated by graphviz version 2.40.1 (20161225.0304)\n -->\n<!-- Title: %3 Pages: 1 -->\n<svg width=\"895pt\" height=\"743pt\"\n viewBox=\"0.00 0.00 894.75 743.00\" xmlns=\"http://www.w3.org/2000/svg\" xmlns:xlink=\"http://www.w3.org/1999/xlink\">\n<g id=\"graph0\" class=\"graph\" transform=\"scale(1 1) rotate(0) translate(4 738.9954)\">\n<title>%3</title>\n<polygon fill=\"#ffffff\" stroke=\"transparent\" points=\"-4,4 -4,-738.9954 890.7543,-738.9954 890.7543,4 -4,4\"/>\n<!-- EMPTY -->\n<g id=\"node1\" class=\"node\">\n<title>EMPTY</title>\n</g>\n<!-- St1 -->\n<g id=\"node4\" class=\"node\">\n<title>St1</title>\n<ellipse fill=\"none\" stroke=\"#000000\" cx=\"119.5975\" cy=\"-552.5975\" rx=\"23.2963\" ry=\"23.2963\"/>\n<text text-anchor=\"middle\" x=\"119.5975\" y=\"-548.8975\" font-family=\"Times,serif\" font-size=\"14.00\" fill=\"#000000\">St1</text>\n</g>\n<!-- EMPTY&#45;&gt;St1 -->\n<g id=\"edge4\" class=\"edge\">\n<title>EMPTY&#45;&gt;St1</title>\n<path fill=\"none\" stroke=\"#000000\" d=\"M31.1367,-421.7482C37.1488,-445.205 50.049,-486.4832 72,-515.5975 77.3441,-522.6855 84.3714,-529.1381 91.3802,-534.5983\"/>\n<polygon fill=\"#000000\" stroke=\"#000000\" points=\"89.3585,-537.4559 99.4973,-540.5309 93.489,-531.8044 89.3585,-537.4559\"/>\n</g>\n<!-- St20 -->\n<g id=\"node5\" class=\"node\">\n<title>St20</title>\n<ellipse fill=\"none\" stroke=\"#000000\" cx=\"119.5975\" cy=\"-328.5975\" rx=\"28.6953\" ry=\"28.6953\"/>\n<text text-anchor=\"middle\" x=\"119.5975\" y=\"-324.8975\" font-family=\"Times,serif\" font-size=\"14.00\" fill=\"#000000\">St20</text>\n</g>\n<!-- EMPTY&#45;&gt;St20 -->\n<g id=\"edge6\" class=\"edge\">\n<title>EMPTY&#45;&gt;St20</title>\n<path fill=\"none\" stroke=\"#000000\" d=\"M49.4153,-385.4421C61.383,-375.7487 76.2826,-363.6807 89.2709,-353.1607\"/>\n<polygon fill=\"#000000\" stroke=\"#000000\" points=\"91.4998,-355.8595 97.0677,-346.8456 87.0939,-350.4199 91.4998,-355.8595\"/>\n</g>\n<!-- St24 -->\n<g id=\"node8\" class=\"node\">\n<title>St24</title>\n<ellipse fill=\"none\" stroke=\"#000000\" cx=\"119.5975\" cy=\"-403.5975\" rx=\"28.6953\" ry=\"28.6953\"/>\n<text text-anchor=\"middle\" x=\"119.5975\" y=\"-399.8975\" font-family=\"Times,serif\" font-size=\"14.00\" fill=\"#000000\">St24</text>\n</g>\n<!-- EMPTY&#45;&gt;St24 -->\n<g id=\"edge9\" class=\"edge\">\n<title>EMPTY&#45;&gt;St24</title>\n<path fill=\"none\" stroke=\"#000000\" d=\"M54.2815,-403.5975C62.5637,-403.5975 71.8286,-403.5975 80.7188,-403.5975\"/>\n<polygon fill=\"#000000\" stroke=\"#000000\" points=\"80.9016,-407.0976 90.9016,-403.5975 80.9015,-400.0976 80.9016,-407.0976\"/>\n</g>\n<!-- St5 -->\n<g id=\"node11\" class=\"node\">\n<title>St5</title>\n<ellipse fill=\"none\" stroke=\"#000000\" cx=\"119.5975\" cy=\"-617.5975\" rx=\"23.2963\" ry=\"23.2963\"/>\n<text text-anchor=\"middle\" x=\"119.5975\" y=\"-613.8975\" font-family=\"Times,serif\" font-size=\"14.00\" fill=\"#000000\">St5</text>\n</g>\n<!-- EMPTY&#45;&gt;St5 -->\n<g id=\"edge11\" class=\"edge\">\n<title>EMPTY&#45;&gt;St5</title>\n<path fill=\"none\" stroke=\"#000000\" d=\"M31.028,-421.7711C39.0123,-455.5148 58.9008,-529.429 91,-584.5975 92.6394,-587.4151 94.5349,-590.2172 96.5542,-592.9296\"/>\n<polygon fill=\"#000000\" stroke=\"#000000\" points=\"93.8441,-595.1444 102.8513,-600.7229 99.2888,-590.745 93.8441,-595.1444\"/>\n</g>\n<!-- St14 -->\n<g id=\"node13\" class=\"node\">\n<title>St14</title>\n<ellipse fill=\"none\" stroke=\"#000000\" cx=\"194.7924\" cy=\"-457.5975\" rx=\"28.6953\" ry=\"28.6953\"/>\n<text text-anchor=\"middle\" x=\"194.7924\" y=\"-453.8975\" font-family=\"Times,serif\" font-size=\"14.00\" fill=\"#000000\">St14</text>\n</g>\n<!-- EMPTY&#45;&gt;St14 -->\n<g id=\"edge2\" class=\"edge\">\n<title>EMPTY&#45;&gt;St14</title>\n<path fill=\"none\" stroke=\"#000000\" d=\"M52.3432,-421.6996C63.6733,-428.9676 77.4987,-436.7549 91,-441.5975 111.6572,-449.0067 135.8348,-452.9857 155.6555,-455.1221\"/>\n<polygon fill=\"#000000\" stroke=\"#000000\" points=\"155.5852,-458.6314 165.8743,-456.1047 156.2552,-451.6636 155.5852,-458.6314\"/>\n</g>\n<!-- St31 -->\n<g id=\"node17\" class=\"node\">\n<title>St31</title>\n<ellipse fill=\"none\" stroke=\"#000000\" cx=\"119.5975\" cy=\"-178.5975\" rx=\"28.6953\" ry=\"28.6953\"/>\n<text text-anchor=\"middle\" x=\"119.5975\" y=\"-174.8975\" font-family=\"Times,serif\" font-size=\"14.00\" fill=\"#000000\">St31</text>\n</g>\n<!-- EMPTY&#45;&gt;St31 -->\n<g id=\"edge8\" class=\"edge\">\n<title>EMPTY&#45;&gt;St31</title>\n<path fill=\"none\" stroke=\"#000000\" d=\"M31.0611,-385.4261C39.2276,-350.9032 59.5852,-274.0627 91,-215.5975 92.2105,-213.3447 93.556,-211.0861 94.9851,-208.8573\"/>\n<polygon fill=\"#000000\" stroke=\"#000000\" points=\"97.9714,-210.6931 100.8018,-200.4833 92.2223,-206.6996 97.9714,-210.6931\"/>\n</g>\n<!-- St3 -->\n<g id=\"node20\" class=\"node\">\n<title>St3</title>\n<ellipse fill=\"none\" stroke=\"#000000\" cx=\"119.5975\" cy=\"-682.5975\" rx=\"23.2963\" ry=\"23.2963\"/>\n<text text-anchor=\"middle\" x=\"119.5975\" y=\"-678.8975\" font-family=\"Times,serif\" font-size=\"14.00\" fill=\"#000000\">St3</text>\n</g>\n<!-- EMPTY&#45;&gt;St3 -->\n<g id=\"edge5\" class=\"edge\">\n<title>EMPTY&#45;&gt;St3</title>\n<path fill=\"none\" stroke=\"#000000\" d=\"M28.8379,-421.5981C33.7221,-463.6827 49.6002,-570.9007 91,-649.5975 92.553,-652.5496 94.417,-655.4617 96.4391,-658.2605\"/>\n<polygon fill=\"#000000\" stroke=\"#000000\" points=\"93.8464,-660.6223 102.8273,-666.2431 99.3117,-656.2485 93.8464,-660.6223\"/>\n</g>\n<!-- St12 -->\n<g id=\"node23\" class=\"node\">\n<title>St12</title>\n<ellipse fill=\"none\" stroke=\"#000000\" cx=\"345.1822\" cy=\"-504.5975\" rx=\"28.6953\" ry=\"28.6953\"/>\n<text text-anchor=\"middle\" x=\"345.1822\" y=\"-500.8975\" font-family=\"Times,serif\" font-size=\"14.00\" fill=\"#000000\">St12</text>\n</g>\n<!-- EMPTY&#45;&gt;St12 -->\n<g id=\"edge7\" class=\"edge\">\n<title>EMPTY&#45;&gt;St12</title>\n<path fill=\"none\" stroke=\"#000000\" d=\"M42.6579,-421.779C54.6715,-434.6504 72.3198,-451.378 91,-461.5975 160.059,-499.3779 254.206,-505.542 306.3702,-505.6999\"/>\n<polygon fill=\"#000000\" stroke=\"#000000\" points=\"306.5473,-509.1992 316.5318,-505.6554 306.5166,-502.1993 306.5473,-509.1992\"/>\n</g>\n<!-- St22 -->\n<g id=\"node25\" class=\"node\">\n<title>St22</title>\n<ellipse fill=\"none\" stroke=\"#000000\" cx=\"119.5975\" cy=\"-253.5975\" rx=\"28.6953\" ry=\"28.6953\"/>\n<text text-anchor=\"middle\" x=\"119.5975\" y=\"-249.8975\" font-family=\"Times,serif\" font-size=\"14.00\" fill=\"#000000\">St22</text>\n</g>\n<!-- EMPTY&#45;&gt;St22 -->\n<g id=\"edge10\" class=\"edge\">\n<title>EMPTY&#45;&gt;St22</title>\n<path fill=\"none\" stroke=\"#000000\" d=\"M36.2159,-385.514C48.0213,-362.8011 69.5324,-322.8925 91,-290.5975 92.4157,-288.4677 93.916,-286.3019 95.4587,-284.1411\"/>\n<polygon fill=\"#000000\" stroke=\"#000000\" points=\"98.4051,-286.0429 101.5289,-275.919 92.7736,-281.8851 98.4051,-286.0429\"/>\n</g>\n<!-- St29 -->\n<g id=\"node27\" class=\"node\">\n<title>St29</title>\n<ellipse fill=\"none\" stroke=\"#000000\" cx=\"119.5975\" cy=\"-103.5975\" rx=\"28.6953\" ry=\"28.6953\"/>\n<text text-anchor=\"middle\" x=\"119.5975\" y=\"-99.8975\" font-family=\"Times,serif\" font-size=\"14.00\" fill=\"#000000\">St29</text>\n</g>\n<!-- EMPTY&#45;&gt;St29 -->\n<g id=\"edge1\" class=\"edge\">\n<title>EMPTY&#45;&gt;St29</title>\n<path fill=\"none\" stroke=\"#000000\" d=\"M28.7764,-385.501C33.6347,-341.5669 49.6484,-226.5631 91,-140.5975 92.1086,-138.2929 93.3773,-135.9952 94.75,-133.7377\"/>\n<polygon fill=\"#000000\" stroke=\"#000000\" points=\"97.7511,-135.5473 100.4409,-125.2996 91.9476,-131.6333 97.7511,-135.5473\"/>\n</g>\n<!-- St33 -->\n<g id=\"node31\" class=\"node\">\n<title>St33</title>\n<ellipse fill=\"none\" stroke=\"#000000\" cx=\"119.5975\" cy=\"-28.5975\" rx=\"28.6953\" ry=\"28.6953\"/>\n<text text-anchor=\"middle\" x=\"119.5975\" y=\"-24.8975\" font-family=\"Times,serif\" font-size=\"14.00\" fill=\"#000000\">St33</text>\n</g>\n<!-- EMPTY&#45;&gt;St33 -->\n<g id=\"edge3\" class=\"edge\">\n<title>EMPTY&#45;&gt;St33</title>\n<path fill=\"none\" stroke=\"#000000\" d=\"M27.4888,-385.4885C29.4977,-333.4158 39.6879,-179.712 91,-65.5975 92.0488,-63.265 93.2725,-60.9464 94.6121,-58.6735\"/>\n<polygon fill=\"#000000\" stroke=\"#000000\" points=\"97.6205,-60.4698 100.2291,-50.2011 91.7862,-56.6018 97.6205,-60.4698\"/>\n</g>\n<!-- St4 -->\n<g id=\"node2\" class=\"node\">\n<title>St4</title>\n<ellipse fill=\"none\" stroke=\"#000000\" cx=\"269.9873\" cy=\"-682.5975\" rx=\"23.2963\" ry=\"23.2963\"/>\n<text text-anchor=\"middle\" x=\"269.9873\" y=\"-678.8975\" font-family=\"Times,serif\" font-size=\"14.00\" fill=\"#000000\">St4</text>\n</g>\n<!-- St9 -->\n<g id=\"node19\" class=\"node\">\n<title>St9</title>\n<ellipse fill=\"none\" stroke=\"#000000\" cx=\"424.3772\" cy=\"-643.5975\" rx=\"23.2963\" ry=\"23.2963\"/>\n<text text-anchor=\"middle\" x=\"424.3772\" y=\"-639.8975\" font-family=\"Times,serif\" font-size=\"14.00\" fill=\"#000000\">St9</text>\n</g>\n<!-- St4&#45;&gt;St9 -->\n<g id=\"edge22\" class=\"edge\">\n<title>St4&#45;&gt;St9</title>\n<path fill=\"none\" stroke=\"#000000\" d=\"M292.7681,-676.8429C318.8794,-670.247 361.8907,-659.382 391.599,-651.8775\"/>\n<polygon fill=\"#000000\" stroke=\"#000000\" points=\"392.6647,-655.2183 401.5029,-649.3757 390.9503,-648.4315 392.6647,-655.2183\"/>\n<text text-anchor=\"middle\" x=\"345.1822\" y=\"-673.3975\" font-family=\"Times,serif\" font-size=\"14.00\" fill=\"#000000\">&#39;&#39; </text>\n</g>\n<!-- St32 -->\n<g id=\"node3\" class=\"node\">\n<title>St32</title>\n<ellipse fill=\"none\" stroke=\"#000000\" cx=\"269.9873\" cy=\"-178.5975\" rx=\"28.6953\" ry=\"28.6953\"/>\n<text text-anchor=\"middle\" x=\"269.9873\" y=\"-174.8975\" font-family=\"Times,serif\" font-size=\"14.00\" fill=\"#000000\">St32</text>\n</g>\n<!-- St37 -->\n<g id=\"node35\" class=\"node\">\n<title>St37</title>\n<ellipse fill=\"none\" stroke=\"#000000\" cx=\"424.3772\" cy=\"-103.5975\" rx=\"28.6832\" ry=\"28.6832\"/>\n<ellipse fill=\"none\" stroke=\"#000000\" cx=\"424.3772\" cy=\"-103.5975\" rx=\"32.6952\" ry=\"32.6952\"/>\n<text text-anchor=\"middle\" x=\"424.3772\" y=\"-99.8975\" font-family=\"Times,serif\" font-size=\"14.00\" fill=\"#000000\">St37</text>\n</g>\n<!-- St32&#45;&gt;St37 -->\n<g id=\"edge51\" class=\"edge\">\n<title>St32&#45;&gt;St37</title>\n<path fill=\"none\" stroke=\"#000000\" d=\"M295.8287,-166.0441C320.4311,-154.0927 357.7697,-135.9543 385.8769,-122.3002\"/>\n<polygon fill=\"#000000\" stroke=\"#000000\" points=\"387.5578,-125.3749 395.0233,-117.8571 384.4991,-119.0785 387.5578,-125.3749\"/>\n<text text-anchor=\"middle\" x=\"345.1822\" y=\"-157.3975\" font-family=\"Times,serif\" font-size=\"14.00\" fill=\"#000000\">&#39;&#39; </text>\n</g>\n<!-- St2 -->\n<g id=\"node22\" class=\"node\">\n<title>St2</title>\n<ellipse fill=\"none\" stroke=\"#000000\" cx=\"269.9873\" cy=\"-552.5975\" rx=\"23.2963\" ry=\"23.2963\"/>\n<text text-anchor=\"middle\" x=\"269.9873\" y=\"-548.8975\" font-family=\"Times,serif\" font-size=\"14.00\" fill=\"#000000\">St2</text>\n</g>\n<!-- St1&#45;&gt;St2 -->\n<g id=\"edge12\" class=\"edge\">\n<title>St1&#45;&gt;St2</title>\n<path fill=\"none\" stroke=\"#000000\" d=\"M143.0959,-552.5975C168.002,-552.5975 207.5737,-552.5975 235.9041,-552.5975\"/>\n<polygon fill=\"#000000\" stroke=\"#000000\" points=\"236.1576,-556.0976 246.1576,-552.5975 236.1576,-549.0976 236.1576,-556.0976\"/>\n<text text-anchor=\"middle\" x=\"194.7924\" y=\"-556.3975\" font-family=\"Times,serif\" font-size=\"14.00\" fill=\"#000000\">d </text>\n</g>\n<!-- St21 -->\n<g id=\"node15\" class=\"node\">\n<title>St21</title>\n<ellipse fill=\"none\" stroke=\"#000000\" cx=\"269.9873\" cy=\"-328.5975\" rx=\"28.6953\" ry=\"28.6953\"/>\n<text text-anchor=\"middle\" x=\"269.9873\" y=\"-324.8975\" font-family=\"Times,serif\" font-size=\"14.00\" fill=\"#000000\">St21</text>\n</g>\n<!-- St20&#45;&gt;St21 -->\n<g id=\"edge35\" class=\"edge\">\n<title>St20&#45;&gt;St21</title>\n<path fill=\"none\" stroke=\"#000000\" d=\"M148.2386,-328.5975C171.6833,-328.5975 205.0821,-328.5975 230.9701,-328.5975\"/>\n<polygon fill=\"#000000\" stroke=\"#000000\" points=\"231.1971,-332.0976 241.197,-328.5975 231.197,-325.0976 231.1971,-332.0976\"/>\n<text text-anchor=\"middle\" x=\"194.7924\" y=\"-332.3975\" font-family=\"Times,serif\" font-size=\"14.00\" fill=\"#000000\">d </text>\n</g>\n<!-- St8 -->\n<g id=\"node6\" class=\"node\">\n<title>St8</title>\n<ellipse fill=\"none\" stroke=\"#000000\" cx=\"636.767\" cy=\"-694.5975\" rx=\"23.2963\" ry=\"23.2963\"/>\n<text text-anchor=\"middle\" x=\"636.767\" y=\"-690.8975\" font-family=\"Times,serif\" font-size=\"14.00\" fill=\"#000000\">St8</text>\n</g>\n<!-- St8&#45;&gt;St9 -->\n<g id=\"edge18\" class=\"edge\">\n<title>St8&#45;&gt;St9</title>\n<path fill=\"none\" stroke=\"#000000\" d=\"M615.4038,-684.7647C600.2716,-678.1658 579.3367,-669.7654 560.1696,-664.5975 525.8579,-655.3461 485.497,-649.7507 457.7456,-646.689\"/>\n<polygon fill=\"#000000\" stroke=\"#000000\" points=\"458.0777,-643.2047 447.7659,-645.6373 457.344,-650.1662 458.0777,-643.2047\"/>\n<text text-anchor=\"middle\" x=\"531.5721\" y=\"-668.3975\" font-family=\"Times,serif\" font-size=\"14.00\" fill=\"#000000\">&#39;&#39; </text>\n</g>\n<!-- St11 -->\n<g id=\"node7\" class=\"node\">\n<title>St11</title>\n<ellipse fill=\"none\" stroke=\"#000000\" cx=\"636.767\" cy=\"-599.5975\" rx=\"27.8951\" ry=\"27.8951\"/>\n<text text-anchor=\"middle\" x=\"636.767\" y=\"-595.8975\" font-family=\"Times,serif\" font-size=\"14.00\" fill=\"#000000\">St11</text>\n</g>\n<!-- St16 -->\n<g id=\"node33\" class=\"node\">\n<title>St16</title>\n<ellipse fill=\"none\" stroke=\"#000000\" cx=\"742.9619\" cy=\"-581.5975\" rx=\"28.6953\" ry=\"28.6953\"/>\n<text text-anchor=\"middle\" x=\"742.9619\" y=\"-577.8975\" font-family=\"Times,serif\" font-size=\"14.00\" fill=\"#000000\">St16</text>\n</g>\n<!-- St11&#45;&gt;St16 -->\n<g id=\"edge32\" class=\"edge\">\n<title>St11&#45;&gt;St16</title>\n<path fill=\"none\" stroke=\"#000000\" d=\"M654.4369,-621.9872C664.96,-632.4505 678.8594,-641.4505 692.3645,-635.5975 703.3963,-630.8163 713.1242,-622.3143 721.0273,-613.4507\"/>\n<polygon fill=\"#000000\" stroke=\"#000000\" points=\"723.8035,-615.5859 727.4895,-605.6529 718.4137,-611.1192 723.8035,-615.5859\"/>\n<text text-anchor=\"middle\" x=\"687.8645\" y=\"-640.3975\" font-family=\"Times,serif\" font-size=\"14.00\" fill=\"#000000\">&#39;&#39; </text>\n</g>\n<!-- St18 -->\n<g id=\"node36\" class=\"node\">\n<title>St18</title>\n<ellipse fill=\"none\" stroke=\"#000000\" cx=\"742.9619\" cy=\"-387.5975\" rx=\"28.6832\" ry=\"28.6832\"/>\n<ellipse fill=\"none\" stroke=\"#000000\" cx=\"742.9619\" cy=\"-387.5975\" rx=\"32.6952\" ry=\"32.6952\"/>\n<text text-anchor=\"middle\" x=\"742.9619\" y=\"-383.8975\" font-family=\"Times,serif\" font-size=\"14.00\" fill=\"#000000\">St18</text>\n</g>\n<!-- St11&#45;&gt;St18 -->\n<g id=\"edge34\" class=\"edge\">\n<title>St11&#45;&gt;St18</title>\n<path fill=\"none\" stroke=\"#000000\" d=\"M649.6669,-574.456C654.6635,-564.5711 660.3716,-553.0957 665.3645,-542.5975 673.7374,-524.9923 675.1913,-520.2963 683.3645,-502.5975 687.2819,-494.1144 688.9044,-492.2771 692.3645,-483.5975 701.8886,-459.7056 698.1691,-451.2426 710.3645,-428.5975 711.8264,-425.8828 713.473,-423.168 715.2295,-420.5007\"/>\n<polygon fill=\"#000000\" stroke=\"#000000\" points=\"718.1867,-422.3815 721.1233,-412.2017 712.4795,-418.3283 718.1867,-422.3815\"/>\n<text text-anchor=\"middle\" x=\"687.8645\" y=\"-506.3975\" font-family=\"Times,serif\" font-size=\"14.00\" fill=\"#000000\">&#39;&#39; </text>\n</g>\n<!-- St19 -->\n<g id=\"node38\" class=\"node\">\n<title>St19</title>\n<ellipse fill=\"none\" stroke=\"#000000\" cx=\"742.9619\" cy=\"-470.5975\" rx=\"28.6832\" ry=\"28.6832\"/>\n<ellipse fill=\"none\" stroke=\"#000000\" cx=\"742.9619\" cy=\"-470.5975\" rx=\"32.6952\" ry=\"32.6952\"/>\n<text text-anchor=\"middle\" x=\"742.9619\" y=\"-466.8975\" font-family=\"Times,serif\" font-size=\"14.00\" fill=\"#000000\">St19</text>\n</g>\n<!-- St11&#45;&gt;St19 -->\n<g id=\"edge33\" class=\"edge\">\n<title>St11&#45;&gt;St19</title>\n<path fill=\"none\" stroke=\"#000000\" d=\"M664.8067,-596.4184C674.4347,-594.1419 684.7045,-590.2484 692.3645,-583.5975 692.5601,-583.4276 710.8946,-542.426 725.4352,-509.8667\"/>\n<polygon fill=\"#000000\" stroke=\"#000000\" points=\"728.7278,-511.0769 729.6092,-500.5188 722.3361,-508.2228 728.7278,-511.0769\"/>\n<text text-anchor=\"middle\" x=\"687.8645\" y=\"-593.3975\" font-family=\"Times,serif\" font-size=\"14.00\" fill=\"#000000\">&#39;&#39; </text>\n</g>\n<!-- St25 -->\n<g id=\"node9\" class=\"node\">\n<title>St25</title>\n<ellipse fill=\"none\" stroke=\"#000000\" cx=\"269.9873\" cy=\"-403.5975\" rx=\"28.6953\" ry=\"28.6953\"/>\n<text text-anchor=\"middle\" x=\"269.9873\" y=\"-399.8975\" font-family=\"Times,serif\" font-size=\"14.00\" fill=\"#000000\">St25</text>\n</g>\n<!-- St24&#45;&gt;St25 -->\n<g id=\"edge37\" class=\"edge\">\n<title>St24&#45;&gt;St25</title>\n<path fill=\"none\" stroke=\"#000000\" d=\"M148.2386,-403.5975C171.6833,-403.5975 205.0821,-403.5975 230.9701,-403.5975\"/>\n<polygon fill=\"#000000\" stroke=\"#000000\" points=\"231.1971,-407.0976 241.197,-403.5975 231.197,-400.0976 231.1971,-407.0976\"/>\n<text text-anchor=\"middle\" x=\"194.7924\" y=\"-407.3975\" font-family=\"Times,serif\" font-size=\"14.00\" fill=\"#000000\">f </text>\n</g>\n<!-- St28 -->\n<g id=\"node37\" class=\"node\">\n<title>St28</title>\n<ellipse fill=\"none\" stroke=\"#000000\" cx=\"424.3772\" cy=\"-328.5975\" rx=\"28.6832\" ry=\"28.6832\"/>\n<ellipse fill=\"none\" stroke=\"#000000\" cx=\"424.3772\" cy=\"-328.5975\" rx=\"32.6952\" ry=\"32.6952\"/>\n<text text-anchor=\"middle\" x=\"424.3772\" y=\"-324.8975\" font-family=\"Times,serif\" font-size=\"14.00\" fill=\"#000000\">St28</text>\n</g>\n<!-- St25&#45;&gt;St28 -->\n<g id=\"edge42\" class=\"edge\">\n<title>St25&#45;&gt;St28</title>\n<path fill=\"none\" stroke=\"#000000\" d=\"M295.8287,-391.0441C320.4311,-379.0927 357.7697,-360.9543 385.8769,-347.3002\"/>\n<polygon fill=\"#000000\" stroke=\"#000000\" points=\"387.5578,-350.3749 395.0233,-342.8571 384.4991,-344.0785 387.5578,-350.3749\"/>\n<text text-anchor=\"middle\" x=\"345.1822\" y=\"-382.3975\" font-family=\"Times,serif\" font-size=\"14.00\" fill=\"#000000\">&#39;&#39; </text>\n</g>\n<!-- St13 -->\n<g id=\"node10\" class=\"node\">\n<title>St13</title>\n<ellipse fill=\"none\" stroke=\"#000000\" cx=\"636.767\" cy=\"-504.5975\" rx=\"28.6953\" ry=\"28.6953\"/>\n<text text-anchor=\"middle\" x=\"636.767\" y=\"-500.8975\" font-family=\"Times,serif\" font-size=\"14.00\" fill=\"#000000\">St13</text>\n</g>\n<!-- St13&#45;&gt;St16 -->\n<g id=\"edge29\" class=\"edge\">\n<title>St13&#45;&gt;St16</title>\n<path fill=\"none\" stroke=\"#000000\" d=\"M652.6623,-528.4834C660.7894,-539.1986 671.4719,-551.2719 683.3645,-559.5975 690.035,-564.2673 697.8148,-568.0734 705.5092,-571.1255\"/>\n<polygon fill=\"#000000\" stroke=\"#000000\" points=\"704.5257,-574.4915 715.12,-574.5966 706.9035,-567.9077 704.5257,-574.4915\"/>\n<text text-anchor=\"middle\" x=\"687.8645\" y=\"-568.3975\" font-family=\"Times,serif\" font-size=\"14.00\" fill=\"#000000\">&#39;&#39; </text>\n</g>\n<!-- St13&#45;&gt;St18 -->\n<g id=\"edge31\" class=\"edge\">\n<title>St13&#45;&gt;St18</title>\n<path fill=\"none\" stroke=\"#000000\" d=\"M655.3244,-482.579C658.9042,-477.8031 662.444,-472.661 665.3645,-467.5975 675.9208,-449.2949 669.6264,-439.6501 683.3645,-423.5975 689.1266,-416.8645 696.4762,-411.0355 704.0314,-406.1448\"/>\n<polygon fill=\"#000000\" stroke=\"#000000\" points=\"706.1242,-408.9715 712.9122,-400.8367 702.5329,-402.963 706.1242,-408.9715\"/>\n<text text-anchor=\"middle\" x=\"687.8645\" y=\"-427.3975\" font-family=\"Times,serif\" font-size=\"14.00\" fill=\"#000000\">&#39;&#39; </text>\n</g>\n<!-- St13&#45;&gt;St19 -->\n<g id=\"edge30\" class=\"edge\">\n<title>St13&#45;&gt;St19</title>\n<path fill=\"none\" stroke=\"#000000\" d=\"M657.2717,-484.0831C664.8322,-477.8675 673.883,-471.8334 683.3645,-468.5975 688.7532,-466.7583 694.5774,-465.8018 700.4011,-465.4334\"/>\n<polygon fill=\"#000000\" stroke=\"#000000\" points=\"700.8204,-468.93 710.7893,-465.3421 700.7589,-461.9302 700.8204,-468.93\"/>\n<text text-anchor=\"middle\" x=\"687.8645\" y=\"-472.3975\" font-family=\"Times,serif\" font-size=\"14.00\" fill=\"#000000\">&#39;&#39; </text>\n</g>\n<!-- St6 -->\n<g id=\"node14\" class=\"node\">\n<title>St6</title>\n<ellipse fill=\"none\" stroke=\"#000000\" cx=\"269.9873\" cy=\"-617.5975\" rx=\"23.2963\" ry=\"23.2963\"/>\n<text text-anchor=\"middle\" x=\"269.9873\" y=\"-613.8975\" font-family=\"Times,serif\" font-size=\"14.00\" fill=\"#000000\">St6</text>\n</g>\n<!-- St5&#45;&gt;St6 -->\n<g id=\"edge14\" class=\"edge\">\n<title>St5&#45;&gt;St6</title>\n<path fill=\"none\" stroke=\"#000000\" d=\"M143.0959,-617.5975C168.002,-617.5975 207.5737,-617.5975 235.9041,-617.5975\"/>\n<polygon fill=\"#000000\" stroke=\"#000000\" points=\"236.1576,-621.0976 246.1576,-617.5975 236.1576,-614.0976 236.1576,-621.0976\"/>\n<text text-anchor=\"middle\" x=\"194.7924\" y=\"-621.3975\" font-family=\"Times,serif\" font-size=\"14.00\" fill=\"#000000\">f </text>\n</g>\n<!-- St36 -->\n<g id=\"node12\" class=\"node\">\n<title>St36</title>\n<ellipse fill=\"none\" stroke=\"#000000\" cx=\"636.767\" cy=\"-97.5975\" rx=\"28.6953\" ry=\"28.6953\"/>\n<text text-anchor=\"middle\" x=\"636.767\" y=\"-93.8975\" font-family=\"Times,serif\" font-size=\"14.00\" fill=\"#000000\">St36</text>\n</g>\n<!-- St36&#45;&gt;St37 -->\n<g id=\"edge49\" class=\"edge\">\n<title>St36&#45;&gt;St37</title>\n<path fill=\"none\" stroke=\"#000000\" d=\"M608.0982,-98.4074C571.8764,-99.4306 509.2162,-101.2008 467.2832,-102.3854\"/>\n<polygon fill=\"#000000\" stroke=\"#000000\" points=\"466.9948,-98.892 457.0976,-102.6731 467.1925,-105.8892 466.9948,-98.892\"/>\n<text text-anchor=\"middle\" x=\"531.5721\" y=\"-104.3975\" font-family=\"Times,serif\" font-size=\"14.00\" fill=\"#000000\">&#39;&#39; </text>\n</g>\n<!-- St15 -->\n<g id=\"node26\" class=\"node\">\n<title>St15</title>\n<ellipse fill=\"none\" stroke=\"#000000\" cx=\"636.767\" cy=\"-429.5975\" rx=\"28.6953\" ry=\"28.6953\"/>\n<text text-anchor=\"middle\" x=\"636.767\" y=\"-425.8975\" font-family=\"Times,serif\" font-size=\"14.00\" fill=\"#000000\">St15</text>\n</g>\n<!-- St14&#45;&gt;St15 -->\n<g id=\"edge24\" class=\"edge\">\n<title>St14&#45;&gt;St15</title>\n<path fill=\"none\" stroke=\"#000000\" d=\"M223.6197,-458.5139C253.8902,-459.3961 302.8767,-460.5975 345.1822,-460.5975 345.1822,-460.5975 345.1822,-460.5975 531.5721,-460.5975 555.4607,-460.5975 581.202,-453.151 601.2416,-445.5572\"/>\n<polygon fill=\"#000000\" stroke=\"#000000\" points=\"602.5834,-448.7903 610.5882,-441.8495 600.0022,-442.2836 602.5834,-448.7903\"/>\n<text text-anchor=\"middle\" x=\"424.3772\" y=\"-464.3975\" font-family=\"Times,serif\" font-size=\"14.00\" fill=\"#000000\">c </text>\n</g>\n<!-- St6&#45;&gt;St9 -->\n<g id=\"edge20\" class=\"edge\">\n<title>St6&#45;&gt;St9</title>\n<path fill=\"none\" stroke=\"#000000\" d=\"M293.101,-621.4899C319.1369,-625.8745 361.6672,-633.0368 391.2356,-638.0163\"/>\n<polygon fill=\"#000000\" stroke=\"#000000\" points=\"390.663,-641.469 401.1054,-639.6784 391.8255,-634.5662 390.663,-641.469\"/>\n<text text-anchor=\"middle\" x=\"345.1822\" y=\"-637.3975\" font-family=\"Times,serif\" font-size=\"14.00\" fill=\"#000000\">&#39;&#39; </text>\n</g>\n<!-- St21&#45;&gt;St28 -->\n<g id=\"edge41\" class=\"edge\">\n<title>St21&#45;&gt;St28</title>\n<path fill=\"none\" stroke=\"#000000\" d=\"M298.665,-328.5975C321.9144,-328.5975 355.0378,-328.5975 381.448,-328.5975\"/>\n<polygon fill=\"#000000\" stroke=\"#000000\" points=\"381.5716,-332.0976 391.5716,-328.5975 381.5716,-325.0976 381.5716,-332.0976\"/>\n<text text-anchor=\"middle\" x=\"345.1822\" y=\"-332.3975\" font-family=\"Times,serif\" font-size=\"14.00\" fill=\"#000000\">&#39;&#39; </text>\n</g>\n<!-- St27 -->\n<g id=\"node16\" class=\"node\">\n<title>St27</title>\n<ellipse fill=\"none\" stroke=\"#000000\" cx=\"636.767\" cy=\"-339.5975\" rx=\"28.6953\" ry=\"28.6953\"/>\n<text text-anchor=\"middle\" x=\"636.767\" y=\"-335.8975\" font-family=\"Times,serif\" font-size=\"14.00\" fill=\"#000000\">St27</text>\n</g>\n<!-- St27&#45;&gt;St28 -->\n<g id=\"edge40\" class=\"edge\">\n<title>St27&#45;&gt;St28</title>\n<path fill=\"none\" stroke=\"#000000\" d=\"M608.0982,-338.1127C571.8764,-336.2367 509.2162,-332.9914 467.2832,-330.8196\"/>\n<polygon fill=\"#000000\" stroke=\"#000000\" points=\"467.2653,-327.3141 457.0976,-330.2921 466.9032,-334.3047 467.2653,-327.3141\"/>\n<text text-anchor=\"middle\" x=\"531.5721\" y=\"-338.3975\" font-family=\"Times,serif\" font-size=\"14.00\" fill=\"#000000\">&#39;&#39; </text>\n</g>\n<!-- St31&#45;&gt;St32 -->\n<g id=\"edge45\" class=\"edge\">\n<title>St31&#45;&gt;St32</title>\n<path fill=\"none\" stroke=\"#000000\" d=\"M148.2386,-178.5975C171.6833,-178.5975 205.0821,-178.5975 230.9701,-178.5975\"/>\n<polygon fill=\"#000000\" stroke=\"#000000\" points=\"231.1971,-182.0976 241.197,-178.5975 231.197,-175.0976 231.1971,-182.0976\"/>\n<text text-anchor=\"middle\" x=\"194.7924\" y=\"-182.3975\" font-family=\"Times,serif\" font-size=\"14.00\" fill=\"#000000\">f </text>\n</g>\n<!-- St7 -->\n<g id=\"node18\" class=\"node\">\n<title>St7</title>\n<ellipse fill=\"none\" stroke=\"#000000\" cx=\"531.5721\" cy=\"-711.5975\" rx=\"23.2963\" ry=\"23.2963\"/>\n<text text-anchor=\"middle\" x=\"531.5721\" y=\"-707.8975\" font-family=\"Times,serif\" font-size=\"14.00\" fill=\"#000000\">St7</text>\n</g>\n<!-- St7&#45;&gt;St8 -->\n<g id=\"edge17\" class=\"edge\">\n<title>St7&#45;&gt;St8</title>\n<path fill=\"none\" stroke=\"#000000\" d=\"M554.9183,-707.8246C569.2184,-705.5136 587.7484,-702.5191 603.56,-699.9639\"/>\n<polygon fill=\"#000000\" stroke=\"#000000\" points=\"604.1726,-703.4104 613.4861,-698.3598 603.0558,-696.5 604.1726,-703.4104\"/>\n<text text-anchor=\"middle\" x=\"584.1696\" y=\"-707.3975\" font-family=\"Times,serif\" font-size=\"14.00\" fill=\"#000000\">s </text>\n</g>\n<!-- St9&#45;&gt;St7 -->\n<g id=\"edge16\" class=\"edge\">\n<title>St9&#45;&gt;St7</title>\n<path fill=\"none\" stroke=\"#000000\" d=\"M444.2885,-656.2284C460.8348,-666.7247 484.5842,-681.7903 503.1335,-693.5572\"/>\n<polygon fill=\"#000000\" stroke=\"#000000\" points=\"501.4482,-696.633 511.7674,-699.0342 505.198,-690.7219 501.4482,-696.633\"/>\n<text text-anchor=\"middle\" x=\"479.9746\" y=\"-685.3975\" font-family=\"Times,serif\" font-size=\"14.00\" fill=\"#000000\">&#39;&#39; </text>\n</g>\n<!-- St10 -->\n<g id=\"node24\" class=\"node\">\n<title>St10</title>\n<ellipse fill=\"none\" stroke=\"#000000\" cx=\"531.5721\" cy=\"-590.5975\" rx=\"28.6953\" ry=\"28.6953\"/>\n<text text-anchor=\"middle\" x=\"531.5721\" y=\"-586.8975\" font-family=\"Times,serif\" font-size=\"14.00\" fill=\"#000000\">St10</text>\n</g>\n<!-- St9&#45;&gt;St10 -->\n<g id=\"edge15\" class=\"edge\">\n<title>St9&#45;&gt;St10</title>\n<path fill=\"none\" stroke=\"#000000\" d=\"M445.5554,-633.1264C460.1762,-625.8975 479.9526,-616.1195 496.8562,-607.7619\"/>\n<polygon fill=\"#000000\" stroke=\"#000000\" points=\"498.4876,-610.8598 505.9005,-603.2902 495.3851,-604.5849 498.4876,-610.8598\"/>\n<text text-anchor=\"middle\" x=\"479.9746\" y=\"-620.3975\" font-family=\"Times,serif\" font-size=\"14.00\" fill=\"#000000\">&#39;&#39; </text>\n</g>\n<!-- St3&#45;&gt;St4 -->\n<g id=\"edge13\" class=\"edge\">\n<title>St3&#45;&gt;St4</title>\n<path fill=\"none\" stroke=\"#000000\" d=\"M143.0959,-682.5975C168.002,-682.5975 207.5737,-682.5975 235.9041,-682.5975\"/>\n<polygon fill=\"#000000\" stroke=\"#000000\" points=\"236.1576,-686.0976 246.1576,-682.5975 236.1576,-679.0976 236.1576,-686.0976\"/>\n<text text-anchor=\"middle\" x=\"194.7924\" y=\"-686.3975\" font-family=\"Times,serif\" font-size=\"14.00\" fill=\"#000000\">f </text>\n</g>\n<!-- St23 -->\n<g id=\"node21\" class=\"node\">\n<title>St23</title>\n<ellipse fill=\"none\" stroke=\"#000000\" cx=\"269.9873\" cy=\"-253.5975\" rx=\"28.6953\" ry=\"28.6953\"/>\n<text text-anchor=\"middle\" x=\"269.9873\" y=\"-249.8975\" font-family=\"Times,serif\" font-size=\"14.00\" fill=\"#000000\">St23</text>\n</g>\n<!-- St23&#45;&gt;St28 -->\n<g id=\"edge43\" class=\"edge\">\n<title>St23&#45;&gt;St28</title>\n<path fill=\"none\" stroke=\"#000000\" d=\"M295.8287,-266.1508C320.4311,-278.1022 357.7697,-296.2407 385.8769,-309.8947\"/>\n<polygon fill=\"#000000\" stroke=\"#000000\" points=\"384.4991,-313.1164 395.0233,-314.3378 387.5578,-306.82 384.4991,-313.1164\"/>\n<text text-anchor=\"middle\" x=\"345.1822\" y=\"-305.3975\" font-family=\"Times,serif\" font-size=\"14.00\" fill=\"#000000\">&#39;&#39; </text>\n</g>\n<!-- St2&#45;&gt;St9 -->\n<g id=\"edge21\" class=\"edge\">\n<title>St2&#45;&gt;St9</title>\n<path fill=\"none\" stroke=\"#000000\" d=\"M291.5808,-562.6439C312.9471,-572.8579 346.3403,-589.5634 373.7797,-606.5975 381.6212,-611.4654 389.8205,-617.1689 397.2798,-622.6201\"/>\n<polygon fill=\"#000000\" stroke=\"#000000\" points=\"395.5196,-625.6731 405.6307,-628.8382 399.7002,-620.0586 395.5196,-625.6731\"/>\n<text text-anchor=\"middle\" x=\"345.1822\" y=\"-610.3975\" font-family=\"Times,serif\" font-size=\"14.00\" fill=\"#000000\">&#39;&#39; </text>\n</g>\n<!-- St12&#45;&gt;St13 -->\n<g id=\"edge23\" class=\"edge\">\n<title>St12&#45;&gt;St13</title>\n<path fill=\"none\" stroke=\"#000000\" d=\"M373.9385,-504.5975C426.5275,-504.5975 538.2488,-504.5975 597.6798,-504.5975\"/>\n<polygon fill=\"#000000\" stroke=\"#000000\" points=\"597.7952,-508.0976 607.7952,-504.5975 597.7951,-501.0976 597.7952,-508.0976\"/>\n<text text-anchor=\"middle\" x=\"479.9746\" y=\"-508.3975\" font-family=\"Times,serif\" font-size=\"14.00\" fill=\"#000000\">c </text>\n</g>\n<!-- St10&#45;&gt;St11 -->\n<g id=\"edge19\" class=\"edge\">\n<title>St10&#45;&gt;St11</title>\n<path fill=\"none\" stroke=\"#000000\" d=\"M560.3171,-593.0568C572.1034,-594.0651 585.917,-595.247 598.5359,-596.3266\"/>\n<polygon fill=\"#000000\" stroke=\"#000000\" points=\"598.5219,-599.8381 608.7839,-597.2034 599.1187,-592.8636 598.5219,-599.8381\"/>\n<text text-anchor=\"middle\" x=\"584.1696\" y=\"-598.3975\" font-family=\"Times,serif\" font-size=\"14.00\" fill=\"#000000\">b </text>\n</g>\n<!-- St22&#45;&gt;St23 -->\n<g id=\"edge36\" class=\"edge\">\n<title>St22&#45;&gt;St23</title>\n<path fill=\"none\" stroke=\"#000000\" d=\"M148.2386,-253.5975C171.6833,-253.5975 205.0821,-253.5975 230.9701,-253.5975\"/>\n<polygon fill=\"#000000\" stroke=\"#000000\" points=\"231.1971,-257.0976 241.197,-253.5975 231.197,-250.0976 231.1971,-257.0976\"/>\n<text text-anchor=\"middle\" x=\"194.7924\" y=\"-257.3975\" font-family=\"Times,serif\" font-size=\"14.00\" fill=\"#000000\">f </text>\n</g>\n<!-- St15&#45;&gt;St16 -->\n<g id=\"edge26\" class=\"edge\">\n<title>St15&#45;&gt;St16</title>\n<path fill=\"none\" stroke=\"#000000\" d=\"M655.6099,-451.4581C659.169,-456.2454 662.6282,-461.432 665.3645,-466.5975 677.4042,-489.3258 669.9393,-499.659 683.3645,-521.5975 691.258,-534.4964 702.4473,-546.7286 713.0026,-556.7424\"/>\n<polygon fill=\"#000000\" stroke=\"#000000\" points=\"710.7795,-559.4523 720.5203,-563.6198 715.5044,-554.2875 710.7795,-559.4523\"/>\n<text text-anchor=\"middle\" x=\"687.8645\" y=\"-536.3975\" font-family=\"Times,serif\" font-size=\"14.00\" fill=\"#000000\">&#39;&#39; </text>\n</g>\n<!-- St15&#45;&gt;St18 -->\n<g id=\"edge28\" class=\"edge\">\n<title>St15&#45;&gt;St18</title>\n<path fill=\"none\" stroke=\"#000000\" d=\"M650.838,-404.3278C662.5965,-383.6797 678.2398,-357.4467 683.3645,-354.5975 692.7823,-349.3613 703.0453,-352.032 712.359,-357.6448\"/>\n<polygon fill=\"#000000\" stroke=\"#000000\" points=\"710.4122,-360.5549 720.5941,-363.4841 714.4612,-354.8447 710.4122,-360.5549\"/>\n<text text-anchor=\"middle\" x=\"687.8645\" y=\"-358.3975\" font-family=\"Times,serif\" font-size=\"14.00\" fill=\"#000000\">&#39;&#39; </text>\n</g>\n<!-- St15&#45;&gt;St19 -->\n<g id=\"edge27\" class=\"edge\">\n<title>St15&#45;&gt;St19</title>\n<path fill=\"none\" stroke=\"#000000\" d=\"M664.4693,-437.1992C673.4626,-439.897 683.424,-443.1316 692.3645,-446.5975 696.3418,-448.1393 700.442,-449.8576 704.5061,-451.6466\"/>\n<polygon fill=\"#000000\" stroke=\"#000000\" points=\"703.2975,-454.9419 713.849,-455.8994 706.1976,-448.5709 703.2975,-454.9419\"/>\n<text text-anchor=\"middle\" x=\"687.8645\" y=\"-450.3975\" font-family=\"Times,serif\" font-size=\"14.00\" fill=\"#000000\">&#39;&#39; </text>\n</g>\n<!-- St30 -->\n<g id=\"node29\" class=\"node\">\n<title>St30</title>\n<ellipse fill=\"none\" stroke=\"#000000\" cx=\"269.9873\" cy=\"-103.5975\" rx=\"28.6953\" ry=\"28.6953\"/>\n<text text-anchor=\"middle\" x=\"269.9873\" y=\"-99.8975\" font-family=\"Times,serif\" font-size=\"14.00\" fill=\"#000000\">St30</text>\n</g>\n<!-- St29&#45;&gt;St30 -->\n<g id=\"edge44\" class=\"edge\">\n<title>St29&#45;&gt;St30</title>\n<path fill=\"none\" stroke=\"#000000\" d=\"M148.2386,-103.5975C171.6833,-103.5975 205.0821,-103.5975 230.9701,-103.5975\"/>\n<polygon fill=\"#000000\" stroke=\"#000000\" points=\"231.1971,-107.0976 241.197,-103.5975 231.197,-100.0976 231.1971,-107.0976\"/>\n<text text-anchor=\"middle\" x=\"194.7924\" y=\"-107.3975\" font-family=\"Times,serif\" font-size=\"14.00\" fill=\"#000000\">d </text>\n</g>\n<!-- St26 -->\n<g id=\"node28\" class=\"node\">\n<title>St26</title>\n<ellipse fill=\"none\" stroke=\"#000000\" cx=\"531.5721\" cy=\"-292.5975\" rx=\"28.6953\" ry=\"28.6953\"/>\n<text text-anchor=\"middle\" x=\"531.5721\" y=\"-288.8975\" font-family=\"Times,serif\" font-size=\"14.00\" fill=\"#000000\">St26</text>\n</g>\n<!-- St26&#45;&gt;St27 -->\n<g id=\"edge39\" class=\"edge\">\n<title>St26&#45;&gt;St27</title>\n<path fill=\"none\" stroke=\"#000000\" d=\"M557.8459,-304.3363C570.8994,-310.1685 586.8673,-317.3028 601.0166,-323.6246\"/>\n<polygon fill=\"#000000\" stroke=\"#000000\" points=\"599.9057,-326.9616 610.4636,-327.8454 602.7612,-320.5705 599.9057,-326.9616\"/>\n<text text-anchor=\"middle\" x=\"584.1696\" y=\"-320.3975\" font-family=\"Times,serif\" font-size=\"14.00\" fill=\"#000000\">s </text>\n</g>\n<!-- St30&#45;&gt;St37 -->\n<g id=\"edge50\" class=\"edge\">\n<title>St30&#45;&gt;St37</title>\n<path fill=\"none\" stroke=\"#000000\" d=\"M298.665,-103.5975C321.9144,-103.5975 355.0378,-103.5975 381.448,-103.5975\"/>\n<polygon fill=\"#000000\" stroke=\"#000000\" points=\"381.5716,-107.0976 391.5716,-103.5975 381.5716,-100.0976 381.5716,-107.0976\"/>\n<text text-anchor=\"middle\" x=\"345.1822\" y=\"-107.3975\" font-family=\"Times,serif\" font-size=\"14.00\" fill=\"#000000\">&#39;&#39; </text>\n</g>\n<!-- St35 -->\n<g id=\"node30\" class=\"node\">\n<title>St35</title>\n<ellipse fill=\"none\" stroke=\"#000000\" cx=\"531.5721\" cy=\"-55.5975\" rx=\"28.6953\" ry=\"28.6953\"/>\n<text text-anchor=\"middle\" x=\"531.5721\" y=\"-51.8975\" font-family=\"Times,serif\" font-size=\"14.00\" fill=\"#000000\">St35</text>\n</g>\n<!-- St35&#45;&gt;St36 -->\n<g id=\"edge48\" class=\"edge\">\n<title>St35&#45;&gt;St36</title>\n<path fill=\"none\" stroke=\"#000000\" d=\"M558.3894,-66.3045C571.125,-71.3893 586.5397,-77.5438 600.3174,-83.0446\"/>\n<polygon fill=\"#000000\" stroke=\"#000000\" points=\"599.4137,-86.4524 609.9987,-86.91 602.0093,-79.9514 599.4137,-86.4524\"/>\n<text text-anchor=\"middle\" x=\"584.1696\" y=\"-81.3975\" font-family=\"Times,serif\" font-size=\"14.00\" fill=\"#000000\">s </text>\n</g>\n<!-- St34 -->\n<g id=\"node32\" class=\"node\">\n<title>St34</title>\n<ellipse fill=\"none\" stroke=\"#000000\" cx=\"269.9873\" cy=\"-28.5975\" rx=\"28.6953\" ry=\"28.6953\"/>\n<text text-anchor=\"middle\" x=\"269.9873\" y=\"-24.8975\" font-family=\"Times,serif\" font-size=\"14.00\" fill=\"#000000\">St34</text>\n</g>\n<!-- St33&#45;&gt;St34 -->\n<g id=\"edge46\" class=\"edge\">\n<title>St33&#45;&gt;St34</title>\n<path fill=\"none\" stroke=\"#000000\" d=\"M148.2386,-28.5975C171.6833,-28.5975 205.0821,-28.5975 230.9701,-28.5975\"/>\n<polygon fill=\"#000000\" stroke=\"#000000\" points=\"231.1971,-32.0976 241.197,-28.5975 231.197,-25.0976 231.1971,-32.0976\"/>\n<text text-anchor=\"middle\" x=\"194.7924\" y=\"-32.3975\" font-family=\"Times,serif\" font-size=\"14.00\" fill=\"#000000\">f </text>\n</g>\n<!-- St34&#45;&gt;St37 -->\n<g id=\"edge52\" class=\"edge\">\n<title>St34&#45;&gt;St37</title>\n<path fill=\"none\" stroke=\"#000000\" d=\"M295.8287,-41.1508C320.4311,-53.1022 357.7697,-71.2407 385.8769,-84.8947\"/>\n<polygon fill=\"#000000\" stroke=\"#000000\" points=\"384.4991,-88.1164 395.0233,-89.3378 387.5578,-81.82 384.4991,-88.1164\"/>\n<text text-anchor=\"middle\" x=\"345.1822\" y=\"-80.3975\" font-family=\"Times,serif\" font-size=\"14.00\" fill=\"#000000\">&#39;&#39; </text>\n</g>\n<!-- St17 -->\n<g id=\"node34\" class=\"node\">\n<title>St17</title>\n<ellipse fill=\"none\" stroke=\"#000000\" cx=\"854.1569\" cy=\"-581.5975\" rx=\"28.6832\" ry=\"28.6832\"/>\n<ellipse fill=\"none\" stroke=\"#000000\" cx=\"854.1569\" cy=\"-581.5975\" rx=\"32.6952\" ry=\"32.6952\"/>\n<text text-anchor=\"middle\" x=\"854.1569\" y=\"-577.8975\" font-family=\"Times,serif\" font-size=\"14.00\" fill=\"#000000\">St17</text>\n</g>\n<!-- St16&#45;&gt;St17 -->\n<g id=\"edge25\" class=\"edge\">\n<title>St16&#45;&gt;St17</title>\n<path fill=\"none\" stroke=\"#000000\" d=\"M771.5974,-581.5975C783.5802,-581.5975 797.7678,-581.5975 810.9713,-581.5975\"/>\n<polygon fill=\"#000000\" stroke=\"#000000\" points=\"811.2883,-585.0976 821.2883,-581.5975 811.2882,-578.0976 811.2883,-585.0976\"/>\n<text text-anchor=\"middle\" x=\"798.5594\" y=\"-585.3975\" font-family=\"Times,serif\" font-size=\"14.00\" fill=\"#000000\">a </text>\n</g>\n<!-- St37&#45;&gt;St35 -->\n<g id=\"edge47\" class=\"edge\">\n<title>St37&#45;&gt;St35</title>\n<path fill=\"none\" stroke=\"#000000\" d=\"M454.2369,-90.2268C467.0982,-84.4677 482.2448,-77.6854 495.7086,-71.6565\"/>\n<polygon fill=\"#000000\" stroke=\"#000000\" points=\"497.4619,-74.7063 505.1583,-67.4251 494.6011,-68.3176 497.4619,-74.7063\"/>\n<text text-anchor=\"middle\" x=\"479.9746\" y=\"-83.3975\" font-family=\"Times,serif\" font-size=\"14.00\" fill=\"#000000\">&#39;&#39; </text>\n</g>\n<!-- St28&#45;&gt;St26 -->\n<g id=\"edge38\" class=\"edge\">\n<title>St28&#45;&gt;St26</title>\n<path fill=\"none\" stroke=\"#000000\" d=\"M455.3824,-318.1848C467.58,-314.0884 481.6884,-309.3502 494.4246,-305.073\"/>\n<polygon fill=\"#000000\" stroke=\"#000000\" points=\"495.9164,-308.2641 504.2818,-301.7625 493.6878,-301.6283 495.9164,-308.2641\"/>\n<text text-anchor=\"middle\" x=\"479.9746\" y=\"-314.3975\" font-family=\"Times,serif\" font-size=\"14.00\" fill=\"#000000\">&#39;&#39; </text>\n</g>\n</g>\n</svg>\n"
          },
          "metadata": {
            "tags": []
          },
          "execution_count": 58
        }
      ]
    },
    {
      "cell_type": "markdown",
      "metadata": {
        "id": "rViHZD9k1Fav"
      },
      "source": [
        "\n",
        "This is an exercise in explaining how Rev_RE2 got translated to an NFA. You are to pick these cases and find an example of each, and explain below. What you pick does not matter.\n",
        "\n",
        "* Find a case where a Star is used, and explain the construction, pointing to the states involved. Use up to 6 bullets below. More or less based on how you explain (clarity not length emphasized).\n",
        "  - **St9 -('')-> St7 -(s)-> St8 -('')-> St9**\n",
        "  - **St28 -('')-> St26 -(s)-> St27 -('')-> St28**\n",
        "  - **St37 -('')-> St35 -(s)-> St36 -('')-> St37**\n",
        "  - All of these have a \"base\" state, an $\\varepsilon$ transition, a 's' transition, and another $\\varepsilon$ transition back to the base state.\n",
        "\n",
        "* Find a case where the Star follows something (I.e. a concatenation of the form \"X\" followed by \"Star\" is used). Show how that concatenation construction is accomplished in the same manner (up to 6 bullets roughly) as above. More or less based on how you explain.\n",
        "  - St3 -(f)-> St4 -('')-> **St9 -('')-> St7 -(s)-> St8 -('')-> St9**\n",
        "  - St5 -(f)-> St6 -('')-> **St9 -('')-> St7 -(s)-> St8 -('')-> St9**\n",
        "  - St1 -(d)-> St2 -('')-> **St9 -('')-> St7 -(s)-> St8 -('')-> St9**\n",
        "  - These just have states leading to the base state (mentioned in the earlier answer).\n",
        "  \n",
        "* Find a case where something follows Star (I.e. a concatenation of the form \"Star\" followed by \"X\"). Explain how the concatenation is accomplished.\n",
        "  - Anything that happens after St10\n",
        "  - An $\\varepsilon$ transition takes place after the base state that leads to other transitions than the \"s\" loop."
      ]
    },
    {
      "cell_type": "markdown",
      "metadata": {
        "id": "fmY0Ky9A1Faw"
      },
      "source": [
        "## Repeat finding out the aforesaid paths in your own Rev_RE1_hand"
      ]
    },
    {
      "cell_type": "code",
      "metadata": {
        "colab": {
          "base_uri": "https://localhost:8080/",
          "height": 1000
        },
        "id": "10VU-pjy4DXt",
        "outputId": "9838d12d-621a-42b1-ff36-79de28fc76c3"
      },
      "source": [
        "dotObj_nfa(re2nfa(Rev_RE1_hand))"
      ],
      "execution_count": 59,
      "outputs": [
        {
          "output_type": "stream",
          "text": [
            "Generating LALR tables\n"
          ],
          "name": "stderr"
        },
        {
          "output_type": "execute_result",
          "data": {
            "text/plain": [
              "<graphviz.dot.Digraph at 0x7fec9e33b198>"
            ],
            "image/svg+xml": "<?xml version=\"1.0\" encoding=\"UTF-8\" standalone=\"no\"?>\n<!DOCTYPE svg PUBLIC \"-//W3C//DTD SVG 1.1//EN\"\n \"http://www.w3.org/Graphics/SVG/1.1/DTD/svg11.dtd\">\n<!-- Generated by graphviz version 2.40.1 (20161225.0304)\n -->\n<!-- Title: %3 Pages: 1 -->\n<svg width=\"801pt\" height=\"1097pt\"\n viewBox=\"0.00 0.00 801.36 1097.19\" xmlns=\"http://www.w3.org/2000/svg\" xmlns:xlink=\"http://www.w3.org/1999/xlink\">\n<g id=\"graph0\" class=\"graph\" transform=\"scale(1 1) rotate(0) translate(4 1093.1949)\">\n<title>%3</title>\n<polygon fill=\"#ffffff\" stroke=\"transparent\" points=\"-4,4 -4,-1093.1949 797.3645,-1093.1949 797.3645,4 -4,4\"/>\n<!-- EMPTY -->\n<g id=\"node1\" class=\"node\">\n<title>EMPTY</title>\n</g>\n<!-- St32 -->\n<g id=\"node3\" class=\"node\">\n<title>St32</title>\n<ellipse fill=\"none\" stroke=\"#000000\" cx=\"119.5975\" cy=\"-805.5975\" rx=\"28.6953\" ry=\"28.6953\"/>\n<text text-anchor=\"middle\" x=\"119.5975\" y=\"-801.8975\" font-family=\"Times,serif\" font-size=\"14.00\" fill=\"#000000\">St32</text>\n</g>\n<!-- EMPTY&#45;&gt;St32 -->\n<g id=\"edge2\" class=\"edge\">\n<title>EMPTY&#45;&gt;St32</title>\n<path fill=\"none\" stroke=\"#000000\" d=\"M30.5011,-571.8122C38.1307,-609.2718 58.2454,-697.096 91,-764.5975 92.6102,-767.9158 94.4739,-771.2623 96.4626,-774.5363\"/>\n<polygon fill=\"#000000\" stroke=\"#000000\" points=\"93.5514,-776.4798 101.9305,-782.9637 99.4237,-772.6697 93.5514,-776.4798\"/>\n</g>\n<!-- St1 -->\n<g id=\"node4\" class=\"node\">\n<title>St1</title>\n<ellipse fill=\"none\" stroke=\"#000000\" cx=\"119.5975\" cy=\"-732.5975\" rx=\"23.2963\" ry=\"23.2963\"/>\n<text text-anchor=\"middle\" x=\"119.5975\" y=\"-728.8975\" font-family=\"Times,serif\" font-size=\"14.00\" fill=\"#000000\">St1</text>\n</g>\n<!-- EMPTY&#45;&gt;St1 -->\n<g id=\"edge3\" class=\"edge\">\n<title>EMPTY&#45;&gt;St1</title>\n<path fill=\"none\" stroke=\"#000000\" d=\"M33.2437,-571.6459C43.3318,-599.6959 64.7615,-654.9589 91,-697.5975 92.9662,-700.7927 95.1956,-704.0153 97.5211,-707.1435\"/>\n<polygon fill=\"#000000\" stroke=\"#000000\" points=\"94.8574,-709.4184 103.7871,-715.1203 100.3621,-705.0943 94.8574,-709.4184\"/>\n</g>\n<!-- St7 -->\n<g id=\"node17\" class=\"node\">\n<title>St7</title>\n<ellipse fill=\"none\" stroke=\"#000000\" cx=\"119.5975\" cy=\"-665.5975\" rx=\"23.2963\" ry=\"23.2963\"/>\n<text text-anchor=\"middle\" x=\"119.5975\" y=\"-661.8975\" font-family=\"Times,serif\" font-size=\"14.00\" fill=\"#000000\">St7</text>\n</g>\n<!-- EMPTY&#45;&gt;St7 -->\n<g id=\"edge5\" class=\"edge\">\n<title>EMPTY&#45;&gt;St7</title>\n<path fill=\"none\" stroke=\"#000000\" d=\"M41.3205,-571.6197C54.1819,-587.7225 73.6544,-611.8978 91,-632.5975 93.0937,-635.0961 95.291,-637.6863 97.4978,-640.267\"/>\n<polygon fill=\"#000000\" stroke=\"#000000\" points=\"94.8756,-642.5856 104.0534,-647.8788 100.1796,-638.0175 94.8756,-642.5856\"/>\n</g>\n<!-- St3 -->\n<g id=\"node22\" class=\"node\">\n<title>St3</title>\n<ellipse fill=\"none\" stroke=\"#000000\" cx=\"119.5975\" cy=\"-600.5975\" rx=\"23.2963\" ry=\"23.2963\"/>\n<text text-anchor=\"middle\" x=\"119.5975\" y=\"-596.8975\" font-family=\"Times,serif\" font-size=\"14.00\" fill=\"#000000\">St3</text>\n</g>\n<!-- EMPTY&#45;&gt;St3 -->\n<g id=\"edge4\" class=\"edge\">\n<title>EMPTY&#45;&gt;St3</title>\n<path fill=\"none\" stroke=\"#000000\" d=\"M54.2815,-567.4448C65.3678,-573.0719 78.2148,-579.5927 89.567,-585.3548\"/>\n<polygon fill=\"#000000\" stroke=\"#000000\" points=\"88.1784,-588.575 98.6797,-589.9801 91.3467,-582.333 88.1784,-588.575\"/>\n</g>\n<!-- St23 -->\n<g id=\"node24\" class=\"node\">\n<title>St23</title>\n<ellipse fill=\"none\" stroke=\"#000000\" cx=\"119.5975\" cy=\"-530.5975\" rx=\"28.6953\" ry=\"28.6953\"/>\n<text text-anchor=\"middle\" x=\"119.5975\" y=\"-526.8975\" font-family=\"Times,serif\" font-size=\"14.00\" fill=\"#000000\">St23</text>\n</g>\n<!-- EMPTY&#45;&gt;St23 -->\n<g id=\"edge8\" class=\"edge\">\n<title>EMPTY&#45;&gt;St23</title>\n<path fill=\"none\" stroke=\"#000000\" d=\"M54.2815,-546.8211C62.9004,-544.6803 72.5836,-542.2751 81.8012,-539.9856\"/>\n<polygon fill=\"#000000\" stroke=\"#000000\" points=\"82.6868,-543.372 91.5482,-537.5645 80.9993,-536.5785 82.6868,-543.372\"/>\n</g>\n<!-- St39 -->\n<g id=\"node38\" class=\"node\">\n<title>St39</title>\n<ellipse fill=\"none\" stroke=\"#000000\" cx=\"119.5975\" cy=\"-451.5975\" rx=\"28.6953\" ry=\"28.6953\"/>\n<text text-anchor=\"middle\" x=\"119.5975\" y=\"-447.8975\" font-family=\"Times,serif\" font-size=\"14.00\" fill=\"#000000\">St39</text>\n</g>\n<!-- EMPTY&#45;&gt;St39 -->\n<g id=\"edge6\" class=\"edge\">\n<title>EMPTY&#45;&gt;St39</title>\n<path fill=\"none\" stroke=\"#000000\" d=\"M43.5546,-535.3619C57.3586,-520.1562 77.2801,-498.2118 93.27,-480.5982\"/>\n<polygon fill=\"#000000\" stroke=\"#000000\" points=\"96.1738,-482.6067 100.304,-472.85 90.991,-477.9016 96.1738,-482.6067\"/>\n</g>\n<!-- St16 -->\n<g id=\"node39\" class=\"node\">\n<title>St16</title>\n<ellipse fill=\"none\" stroke=\"#000000\" cx=\"119.5975\" cy=\"-368.5975\" rx=\"28.6953\" ry=\"28.6953\"/>\n<text text-anchor=\"middle\" x=\"119.5975\" y=\"-364.8975\" font-family=\"Times,serif\" font-size=\"14.00\" fill=\"#000000\">St16</text>\n</g>\n<!-- EMPTY&#45;&gt;St16 -->\n<g id=\"edge1\" class=\"edge\">\n<title>EMPTY&#45;&gt;St16</title>\n<path fill=\"none\" stroke=\"#000000\" d=\"M34.3173,-535.5352C45.4821,-508.4904 67.9178,-456.1069 91,-413.5975 93.1961,-409.553 95.6179,-405.3821 98.0948,-401.2865\"/>\n<polygon fill=\"#000000\" stroke=\"#000000\" points=\"101.2371,-402.8609 103.5391,-392.5191 95.2903,-399.1681 101.2371,-402.8609\"/>\n</g>\n<!-- St44 -->\n<g id=\"node41\" class=\"node\">\n<title>St44</title>\n<ellipse fill=\"none\" stroke=\"#000000\" cx=\"119.5975\" cy=\"-277.5975\" rx=\"28.6953\" ry=\"28.6953\"/>\n<text text-anchor=\"middle\" x=\"119.5975\" y=\"-273.8975\" font-family=\"Times,serif\" font-size=\"14.00\" fill=\"#000000\">St44</text>\n</g>\n<!-- EMPTY&#45;&gt;St44 -->\n<g id=\"edge7\" class=\"edge\">\n<title>EMPTY&#45;&gt;St44</title>\n<path fill=\"none\" stroke=\"#000000\" d=\"M30.7937,-535.5245C39.1817,-496.9903 60.9665,-404.2595 91,-330.5975 93.5991,-324.2227 96.753,-317.6211 100.0044,-311.331\"/>\n<polygon fill=\"#000000\" stroke=\"#000000\" points=\"103.151,-312.869 104.7846,-302.4008 96.9795,-309.5654 103.151,-312.869\"/>\n</g>\n<!-- St4 -->\n<g id=\"node2\" class=\"node\">\n<title>St4</title>\n<ellipse fill=\"none\" stroke=\"#000000\" cx=\"224.7924\" cy=\"-600.5975\" rx=\"23.2963\" ry=\"23.2963\"/>\n<text text-anchor=\"middle\" x=\"224.7924\" y=\"-596.8975\" font-family=\"Times,serif\" font-size=\"14.00\" fill=\"#000000\">St4</text>\n</g>\n<!-- St5 -->\n<g id=\"node11\" class=\"node\">\n<title>St5</title>\n<ellipse fill=\"none\" stroke=\"#000000\" cx=\"330.9873\" cy=\"-633.5975\" rx=\"23.2963\" ry=\"23.2963\"/>\n<text text-anchor=\"middle\" x=\"330.9873\" y=\"-629.8975\" font-family=\"Times,serif\" font-size=\"14.00\" fill=\"#000000\">St5</text>\n</g>\n<!-- St4&#45;&gt;St5 -->\n<g id=\"edge12\" class=\"edge\">\n<title>St4&#45;&gt;St5</title>\n<path fill=\"none\" stroke=\"#000000\" d=\"M247.3136,-607.5959C262.2378,-612.2336 282.0507,-618.3904 298.6505,-623.5488\"/>\n<polygon fill=\"#000000\" stroke=\"#000000\" points=\"297.9104,-626.9839 308.4986,-626.6091 299.9877,-620.2992 297.9104,-626.9839\"/>\n<text text-anchor=\"middle\" x=\"275.8899\" y=\"-620.3975\" font-family=\"Times,serif\" font-size=\"14.00\" fill=\"#000000\">&#39;&#39; </text>\n</g>\n<!-- St33 -->\n<g id=\"node35\" class=\"node\">\n<title>St33</title>\n<ellipse fill=\"none\" stroke=\"#000000\" cx=\"224.7924\" cy=\"-820.5975\" rx=\"28.6953\" ry=\"28.6953\"/>\n<text text-anchor=\"middle\" x=\"224.7924\" y=\"-816.8975\" font-family=\"Times,serif\" font-size=\"14.00\" fill=\"#000000\">St33</text>\n</g>\n<!-- St32&#45;&gt;St33 -->\n<g id=\"edge38\" class=\"edge\">\n<title>St32&#45;&gt;St33</title>\n<path fill=\"none\" stroke=\"#000000\" d=\"M148.0647,-809.6567C159.7589,-811.3242 173.4847,-813.2814 186.0694,-815.0759\"/>\n<polygon fill=\"#000000\" stroke=\"#000000\" points=\"185.9084,-818.5882 196.3024,-816.535 186.8966,-811.6583 185.9084,-818.5882\"/>\n<text text-anchor=\"middle\" x=\"172.1949\" y=\"-816.3975\" font-family=\"Times,serif\" font-size=\"14.00\" fill=\"#000000\">f </text>\n</g>\n<!-- St2 -->\n<g id=\"node42\" class=\"node\">\n<title>St2</title>\n<ellipse fill=\"none\" stroke=\"#000000\" cx=\"224.7924\" cy=\"-734.5975\" rx=\"23.3111\" ry=\"23.3111\"/>\n<ellipse fill=\"none\" stroke=\"#000000\" cx=\"224.7924\" cy=\"-734.5975\" rx=\"27.2962\" ry=\"27.2962\"/>\n<text text-anchor=\"middle\" x=\"224.7924\" y=\"-730.8975\" font-family=\"Times,serif\" font-size=\"14.00\" fill=\"#000000\">St2</text>\n</g>\n<!-- St1&#45;&gt;St2 -->\n<g id=\"edge9\" class=\"edge\">\n<title>St1&#45;&gt;St2</title>\n<path fill=\"none\" stroke=\"#000000\" d=\"M143.2053,-733.0463C156.0739,-733.291 172.3094,-733.5996 186.9025,-733.8771\"/>\n<polygon fill=\"#000000\" stroke=\"#000000\" points=\"187.1018,-737.3814 197.1665,-734.0722 187.2349,-730.3827 187.1018,-737.3814\"/>\n<text text-anchor=\"middle\" x=\"172.1949\" y=\"-737.3975\" font-family=\"Times,serif\" font-size=\"14.00\" fill=\"#000000\">c </text>\n</g>\n<!-- St20 -->\n<g id=\"node5\" class=\"node\">\n<title>St20</title>\n<ellipse fill=\"none\" stroke=\"#000000\" cx=\"330.9873\" cy=\"-225.5975\" rx=\"28.6953\" ry=\"28.6953\"/>\n<text text-anchor=\"middle\" x=\"330.9873\" y=\"-221.8975\" font-family=\"Times,serif\" font-size=\"14.00\" fill=\"#000000\">St20</text>\n</g>\n<!-- St21 -->\n<g id=\"node15\" class=\"node\">\n<title>St21</title>\n<ellipse fill=\"none\" stroke=\"#000000\" cx=\"438.1822\" cy=\"-136.5975\" rx=\"28.6953\" ry=\"28.6953\"/>\n<text text-anchor=\"middle\" x=\"438.1822\" y=\"-132.8975\" font-family=\"Times,serif\" font-size=\"14.00\" fill=\"#000000\">St21</text>\n</g>\n<!-- St20&#45;&gt;St21 -->\n<g id=\"edge23\" class=\"edge\">\n<title>St20&#45;&gt;St21</title>\n<path fill=\"none\" stroke=\"#000000\" d=\"M349.6015,-203.7845C358.7229,-193.7228 370.1809,-181.9627 381.5848,-172.5975 388.6465,-166.7981 396.6967,-161.1717 404.4659,-156.157\"/>\n<polygon fill=\"#000000\" stroke=\"#000000\" points=\"406.4345,-159.0538 413.0505,-150.7786 402.718,-153.1219 406.4345,-159.0538\"/>\n<text text-anchor=\"middle\" x=\"386.5848\" y=\"-176.3975\" font-family=\"Times,serif\" font-size=\"14.00\" fill=\"#000000\">&#39;&#39; </text>\n</g>\n<!-- St18 -->\n<g id=\"node21\" class=\"node\">\n<title>St18</title>\n<ellipse fill=\"none\" stroke=\"#000000\" cx=\"438.1822\" cy=\"-263.5975\" rx=\"28.6953\" ry=\"28.6953\"/>\n<text text-anchor=\"middle\" x=\"438.1822\" y=\"-259.8975\" font-family=\"Times,serif\" font-size=\"14.00\" fill=\"#000000\">St18</text>\n</g>\n<!-- St20&#45;&gt;St18 -->\n<g id=\"edge24\" class=\"edge\">\n<title>St20&#45;&gt;St18</title>\n<path fill=\"none\" stroke=\"#000000\" d=\"M358.0371,-235.1865C371.2402,-239.8669 387.3187,-245.5666 401.5992,-250.629\"/>\n<polygon fill=\"#000000\" stroke=\"#000000\" points=\"400.5463,-253.9691 411.1411,-254.0115 402.8852,-247.3714 400.5463,-253.9691\"/>\n<text text-anchor=\"middle\" x=\"386.5848\" y=\"-250.3975\" font-family=\"Times,serif\" font-size=\"14.00\" fill=\"#000000\">&#39;&#39; </text>\n</g>\n<!-- St8 -->\n<g id=\"node6\" class=\"node\">\n<title>St8</title>\n<ellipse fill=\"none\" stroke=\"#000000\" cx=\"224.7924\" cy=\"-665.5975\" rx=\"23.2963\" ry=\"23.2963\"/>\n<text text-anchor=\"middle\" x=\"224.7924\" y=\"-661.8975\" font-family=\"Times,serif\" font-size=\"14.00\" fill=\"#000000\">St8</text>\n</g>\n<!-- St11 -->\n<g id=\"node7\" class=\"node\">\n<title>St11</title>\n<ellipse fill=\"none\" stroke=\"#000000\" cx=\"330.9873\" cy=\"-788.5975\" rx=\"27.8951\" ry=\"27.8951\"/>\n<text text-anchor=\"middle\" x=\"330.9873\" y=\"-784.8975\" font-family=\"Times,serif\" font-size=\"14.00\" fill=\"#000000\">St11</text>\n</g>\n<!-- St8&#45;&gt;St11 -->\n<g id=\"edge18\" class=\"edge\">\n<title>St8&#45;&gt;St11</title>\n<path fill=\"none\" stroke=\"#000000\" d=\"M240.2358,-683.4018C244.5,-688.3224 249.1263,-693.665 253.3899,-698.5975 270.9392,-718.9001 290.6887,-741.807 305.8715,-759.4298\"/>\n<polygon fill=\"#000000\" stroke=\"#000000\" points=\"303.3233,-761.8344 312.5017,-767.1266 308.6269,-757.2658 303.3233,-761.8344\"/>\n<text text-anchor=\"middle\" x=\"275.8899\" y=\"-731.3975\" font-family=\"Times,serif\" font-size=\"14.00\" fill=\"#000000\">&#39;&#39; </text>\n</g>\n<!-- St9 -->\n<g id=\"node20\" class=\"node\">\n<title>St9</title>\n<ellipse fill=\"none\" stroke=\"#000000\" cx=\"438.1822\" cy=\"-735.5975\" rx=\"23.2963\" ry=\"23.2963\"/>\n<text text-anchor=\"middle\" x=\"438.1822\" y=\"-731.8975\" font-family=\"Times,serif\" font-size=\"14.00\" fill=\"#000000\">St9</text>\n</g>\n<!-- St11&#45;&gt;St9 -->\n<g id=\"edge14\" class=\"edge\">\n<title>St11&#45;&gt;St9</title>\n<path fill=\"none\" stroke=\"#000000\" d=\"M356.1198,-776.1713C371.6386,-768.4984 391.6427,-758.6079 408.015,-750.5129\"/>\n<polygon fill=\"#000000\" stroke=\"#000000\" points=\"409.7609,-753.5542 417.1738,-745.9846 406.6583,-747.2793 409.7609,-753.5542\"/>\n<text text-anchor=\"middle\" x=\"386.5848\" y=\"-765.3975\" font-family=\"Times,serif\" font-size=\"14.00\" fill=\"#000000\">&#39;&#39; </text>\n</g>\n<!-- St12 -->\n<g id=\"node26\" class=\"node\">\n<title>St12</title>\n<ellipse fill=\"none\" stroke=\"#000000\" cx=\"438.1822\" cy=\"-856.5975\" rx=\"28.6953\" ry=\"28.6953\"/>\n<text text-anchor=\"middle\" x=\"438.1822\" y=\"-852.8975\" font-family=\"Times,serif\" font-size=\"14.00\" fill=\"#000000\">St12</text>\n</g>\n<!-- St11&#45;&gt;St12 -->\n<g id=\"edge15\" class=\"edge\">\n<title>St11&#45;&gt;St12</title>\n<path fill=\"none\" stroke=\"#000000\" d=\"M354.7773,-803.6889C369.5576,-813.0648 388.772,-825.2537 405.0327,-835.5687\"/>\n<polygon fill=\"#000000\" stroke=\"#000000\" points=\"403.3964,-838.6756 413.7155,-841.0768 407.1461,-832.7646 403.3964,-838.6756\"/>\n<text text-anchor=\"middle\" x=\"386.5848\" y=\"-830.3975\" font-family=\"Times,serif\" font-size=\"14.00\" fill=\"#000000\">&#39;&#39; </text>\n</g>\n<!-- St24 -->\n<g id=\"node8\" class=\"node\">\n<title>St24</title>\n<ellipse fill=\"none\" stroke=\"#000000\" cx=\"224.7924\" cy=\"-530.5975\" rx=\"28.6953\" ry=\"28.6953\"/>\n<text text-anchor=\"middle\" x=\"224.7924\" y=\"-526.8975\" font-family=\"Times,serif\" font-size=\"14.00\" fill=\"#000000\">St24</text>\n</g>\n<!-- St27 -->\n<g id=\"node16\" class=\"node\">\n<title>St27</title>\n<ellipse fill=\"none\" stroke=\"#000000\" cx=\"330.9873\" cy=\"-530.5975\" rx=\"28.6953\" ry=\"28.6953\"/>\n<text text-anchor=\"middle\" x=\"330.9873\" y=\"-526.8975\" font-family=\"Times,serif\" font-size=\"14.00\" fill=\"#000000\">St27</text>\n</g>\n<!-- St24&#45;&gt;St27 -->\n<g id=\"edge34\" class=\"edge\">\n<title>St24&#45;&gt;St27</title>\n<path fill=\"none\" stroke=\"#000000\" d=\"M253.5303,-530.5975C265.3356,-530.5975 279.1919,-530.5975 291.8962,-530.5975\"/>\n<polygon fill=\"#000000\" stroke=\"#000000\" points=\"292.2265,-534.0976 302.2265,-530.5975 292.2264,-527.0976 292.2265,-534.0976\"/>\n<text text-anchor=\"middle\" x=\"275.8899\" y=\"-534.3975\" font-family=\"Times,serif\" font-size=\"14.00\" fill=\"#000000\">&#39;&#39; </text>\n</g>\n<!-- St25 -->\n<g id=\"node9\" class=\"node\">\n<title>St25</title>\n<ellipse fill=\"none\" stroke=\"#000000\" cx=\"438.1822\" cy=\"-465.5975\" rx=\"28.6953\" ry=\"28.6953\"/>\n<text text-anchor=\"middle\" x=\"438.1822\" y=\"-461.8975\" font-family=\"Times,serif\" font-size=\"14.00\" fill=\"#000000\">St25</text>\n</g>\n<!-- St26 -->\n<g id=\"node33\" class=\"node\">\n<title>St26</title>\n<ellipse fill=\"none\" stroke=\"#000000\" cx=\"547.3772\" cy=\"-491.5975\" rx=\"28.6953\" ry=\"28.6953\"/>\n<text text-anchor=\"middle\" x=\"547.3772\" y=\"-487.8975\" font-family=\"Times,serif\" font-size=\"14.00\" fill=\"#000000\">St26</text>\n</g>\n<!-- St25&#45;&gt;St26 -->\n<g id=\"edge32\" class=\"edge\">\n<title>St25&#45;&gt;St26</title>\n<path fill=\"none\" stroke=\"#000000\" d=\"M466.0193,-472.2256C479.1375,-475.3492 494.994,-479.1247 509.2112,-482.5099\"/>\n<polygon fill=\"#000000\" stroke=\"#000000\" points=\"508.6725,-485.9794 519.2113,-484.891 510.294,-479.1698 508.6725,-485.9794\"/>\n<text text-anchor=\"middle\" x=\"490.7797\" y=\"-482.3975\" font-family=\"Times,serif\" font-size=\"14.00\" fill=\"#000000\">s </text>\n</g>\n<!-- St13 -->\n<g id=\"node10\" class=\"node\">\n<title>St13</title>\n<ellipse fill=\"none\" stroke=\"#000000\" cx=\"547.3772\" cy=\"-855.5975\" rx=\"28.6953\" ry=\"28.6953\"/>\n<text text-anchor=\"middle\" x=\"547.3772\" y=\"-851.8975\" font-family=\"Times,serif\" font-size=\"14.00\" fill=\"#000000\">St13</text>\n</g>\n<!-- St14 -->\n<g id=\"node14\" class=\"node\">\n<title>St14</title>\n<ellipse fill=\"none\" stroke=\"#000000\" cx=\"653.5721\" cy=\"-855.5975\" rx=\"28.6953\" ry=\"28.6953\"/>\n<text text-anchor=\"middle\" x=\"653.5721\" y=\"-851.8975\" font-family=\"Times,serif\" font-size=\"14.00\" fill=\"#000000\">St14</text>\n</g>\n<!-- St13&#45;&gt;St14 -->\n<g id=\"edge21\" class=\"edge\">\n<title>St13&#45;&gt;St14</title>\n<path fill=\"none\" stroke=\"#000000\" d=\"M576.115,-855.5975C587.9203,-855.5975 601.7767,-855.5975 614.481,-855.5975\"/>\n<polygon fill=\"#000000\" stroke=\"#000000\" points=\"614.8113,-859.0976 624.8112,-855.5975 614.8112,-852.0976 614.8113,-859.0976\"/>\n<text text-anchor=\"middle\" x=\"602.4746\" y=\"-859.3975\" font-family=\"Times,serif\" font-size=\"14.00\" fill=\"#000000\">&#39;&#39; </text>\n</g>\n<!-- St6 -->\n<g id=\"node46\" class=\"node\">\n<title>St6</title>\n<ellipse fill=\"none\" stroke=\"#000000\" cx=\"438.1822\" cy=\"-666.5975\" rx=\"23.3111\" ry=\"23.3111\"/>\n<ellipse fill=\"none\" stroke=\"#000000\" cx=\"438.1822\" cy=\"-666.5975\" rx=\"27.2962\" ry=\"27.2962\"/>\n<text text-anchor=\"middle\" x=\"438.1822\" y=\"-662.8975\" font-family=\"Times,serif\" font-size=\"14.00\" fill=\"#000000\">St6</text>\n</g>\n<!-- St5&#45;&gt;St6 -->\n<g id=\"edge11\" class=\"edge\">\n<title>St5&#45;&gt;St6</title>\n<path fill=\"none\" stroke=\"#000000\" d=\"M353.4589,-640.5153C367.5926,-644.8664 386.1455,-650.5779 402.2858,-655.5467\"/>\n<polygon fill=\"#000000\" stroke=\"#000000\" points=\"401.3754,-658.9285 411.9626,-658.5257 403.4351,-652.2384 401.3754,-658.9285\"/>\n<text text-anchor=\"middle\" x=\"386.5848\" y=\"-655.3975\" font-family=\"Times,serif\" font-size=\"14.00\" fill=\"#000000\">a </text>\n</g>\n<!-- St36 -->\n<g id=\"node12\" class=\"node\">\n<title>St36</title>\n<ellipse fill=\"none\" stroke=\"#000000\" cx=\"330.9873\" cy=\"-981.5975\" rx=\"28.6953\" ry=\"28.6953\"/>\n<text text-anchor=\"middle\" x=\"330.9873\" y=\"-977.8975\" font-family=\"Times,serif\" font-size=\"14.00\" fill=\"#000000\">St36</text>\n</g>\n<!-- St37 -->\n<g id=\"node28\" class=\"node\">\n<title>St37</title>\n<ellipse fill=\"none\" stroke=\"#000000\" cx=\"438.1822\" cy=\"-933.5975\" rx=\"28.6953\" ry=\"28.6953\"/>\n<text text-anchor=\"middle\" x=\"438.1822\" y=\"-929.8975\" font-family=\"Times,serif\" font-size=\"14.00\" fill=\"#000000\">St37</text>\n</g>\n<!-- St36&#45;&gt;St37 -->\n<g id=\"edge39\" class=\"edge\">\n<title>St36&#45;&gt;St37</title>\n<path fill=\"none\" stroke=\"#000000\" d=\"M357.2101,-969.8553C370.8365,-963.7537 387.6898,-956.2071 402.4866,-949.5813\"/>\n<polygon fill=\"#000000\" stroke=\"#000000\" points=\"404.1622,-952.666 411.8586,-945.3847 401.3014,-946.2772 404.1622,-952.666\"/>\n<text text-anchor=\"middle\" x=\"386.5848\" y=\"-961.3975\" font-family=\"Times,serif\" font-size=\"14.00\" fill=\"#000000\">&#39;&#39; </text>\n</g>\n<!-- St34 -->\n<g id=\"node36\" class=\"node\">\n<title>St34</title>\n<ellipse fill=\"none\" stroke=\"#000000\" cx=\"438.1822\" cy=\"-1060.5975\" rx=\"28.6953\" ry=\"28.6953\"/>\n<text text-anchor=\"middle\" x=\"438.1822\" y=\"-1056.8975\" font-family=\"Times,serif\" font-size=\"14.00\" fill=\"#000000\">St34</text>\n</g>\n<!-- St36&#45;&gt;St34 -->\n<g id=\"edge40\" class=\"edge\">\n<title>St36&#45;&gt;St34</title>\n<path fill=\"none\" stroke=\"#000000\" d=\"M354.247,-998.7393C369.5583,-1010.0233 389.7947,-1024.937 406.561,-1037.2934\"/>\n<polygon fill=\"#000000\" stroke=\"#000000\" points=\"404.8414,-1040.3739 414.9679,-1043.4891 408.9943,-1034.7388 404.8414,-1040.3739\"/>\n<text text-anchor=\"middle\" x=\"386.5848\" y=\"-1029.3975\" font-family=\"Times,serif\" font-size=\"14.00\" fill=\"#000000\">&#39;&#39; </text>\n</g>\n<!-- St47 -->\n<g id=\"node13\" class=\"node\">\n<title>St47</title>\n<ellipse fill=\"none\" stroke=\"#000000\" cx=\"547.3772\" cy=\"-28.5975\" rx=\"28.6953\" ry=\"28.6953\"/>\n<text text-anchor=\"middle\" x=\"547.3772\" y=\"-24.8975\" font-family=\"Times,serif\" font-size=\"14.00\" fill=\"#000000\">St47</text>\n</g>\n<!-- St48 -->\n<g id=\"node49\" class=\"node\">\n<title>St48</title>\n<ellipse fill=\"none\" stroke=\"#000000\" cx=\"330.9873\" cy=\"-61.5975\" rx=\"28.6832\" ry=\"28.6832\"/>\n<ellipse fill=\"none\" stroke=\"#000000\" cx=\"330.9873\" cy=\"-61.5975\" rx=\"32.6952\" ry=\"32.6952\"/>\n<text text-anchor=\"middle\" x=\"330.9873\" y=\"-57.8975\" font-family=\"Times,serif\" font-size=\"14.00\" fill=\"#000000\">St48</text>\n</g>\n<!-- St47&#45;&gt;St48 -->\n<g id=\"edge53\" class=\"edge\">\n<title>St47&#45;&gt;St48</title>\n<path fill=\"none\" stroke=\"#000000\" d=\"M520.6942,-17.9475C492.5455,-8.2686 447.1502,2.8848 409.5848,-8.5975 392.9014,-13.6969 376.5585,-23.6601 363.1346,-33.585\"/>\n<polygon fill=\"#000000\" stroke=\"#000000\" points=\"360.9623,-30.8403 355.1765,-39.7158 365.2344,-36.3855 360.9623,-30.8403\"/>\n<text text-anchor=\"middle\" x=\"438.1822\" y=\"-12.3975\" font-family=\"Times,serif\" font-size=\"14.00\" fill=\"#000000\">&#39;&#39; </text>\n</g>\n<!-- St15 -->\n<g id=\"node48\" class=\"node\">\n<title>St15</title>\n<ellipse fill=\"none\" stroke=\"#000000\" cx=\"760.767\" cy=\"-855.5975\" rx=\"28.6832\" ry=\"28.6832\"/>\n<ellipse fill=\"none\" stroke=\"#000000\" cx=\"760.767\" cy=\"-855.5975\" rx=\"32.6952\" ry=\"32.6952\"/>\n<text text-anchor=\"middle\" x=\"760.767\" y=\"-851.8975\" font-family=\"Times,serif\" font-size=\"14.00\" fill=\"#000000\">St15</text>\n</g>\n<!-- St14&#45;&gt;St15 -->\n<g id=\"edge20\" class=\"edge\">\n<title>St14&#45;&gt;St15</title>\n<path fill=\"none\" stroke=\"#000000\" d=\"M682.2984,-855.5975C693.1386,-855.5975 705.723,-855.5975 717.5971,-855.5975\"/>\n<polygon fill=\"#000000\" stroke=\"#000000\" points=\"717.7875,-859.0976 727.7874,-855.5975 717.7874,-852.0976 717.7875,-859.0976\"/>\n<text text-anchor=\"middle\" x=\"705.1696\" y=\"-859.3975\" font-family=\"Times,serif\" font-size=\"14.00\" fill=\"#000000\">a </text>\n</g>\n<!-- St22 -->\n<g id=\"node47\" class=\"node\">\n<title>St22</title>\n<ellipse fill=\"none\" stroke=\"#000000\" cx=\"547.3772\" cy=\"-136.5975\" rx=\"28.6832\" ry=\"28.6832\"/>\n<ellipse fill=\"none\" stroke=\"#000000\" cx=\"547.3772\" cy=\"-136.5975\" rx=\"32.6952\" ry=\"32.6952\"/>\n<text text-anchor=\"middle\" x=\"547.3772\" y=\"-132.8975\" font-family=\"Times,serif\" font-size=\"14.00\" fill=\"#000000\">St22</text>\n</g>\n<!-- St21&#45;&gt;St22 -->\n<g id=\"edge28\" class=\"edge\">\n<title>St21&#45;&gt;St22</title>\n<path fill=\"none\" stroke=\"#000000\" d=\"M466.8719,-136.5975C478.3249,-136.5975 491.7578,-136.5975 504.3337,-136.5975\"/>\n<polygon fill=\"#000000\" stroke=\"#000000\" points=\"504.6336,-140.0976 514.6336,-136.5975 504.6335,-133.0976 504.6336,-140.0976\"/>\n<text text-anchor=\"middle\" x=\"490.7797\" y=\"-140.3975\" font-family=\"Times,serif\" font-size=\"14.00\" fill=\"#000000\">b </text>\n</g>\n<!-- St27&#45;&gt;St25 -->\n<g id=\"edge30\" class=\"edge\">\n<title>St27&#45;&gt;St25</title>\n<path fill=\"none\" stroke=\"#000000\" d=\"M355.58,-515.6851C370.1511,-506.8496 388.8151,-495.5323 404.7142,-485.8916\"/>\n<polygon fill=\"#000000\" stroke=\"#000000\" points=\"406.9679,-488.6182 413.704,-480.4404 403.3384,-482.6326 406.9679,-488.6182\"/>\n<text text-anchor=\"middle\" x=\"386.5848\" y=\"-501.3975\" font-family=\"Times,serif\" font-size=\"14.00\" fill=\"#000000\">&#39;&#39; </text>\n</g>\n<!-- St28 -->\n<g id=\"node29\" class=\"node\">\n<title>St28</title>\n<ellipse fill=\"none\" stroke=\"#000000\" cx=\"438.1822\" cy=\"-592.5975\" rx=\"28.6953\" ry=\"28.6953\"/>\n<text text-anchor=\"middle\" x=\"438.1822\" y=\"-588.8975\" font-family=\"Times,serif\" font-size=\"14.00\" fill=\"#000000\">St28</text>\n</g>\n<!-- St27&#45;&gt;St28 -->\n<g id=\"edge31\" class=\"edge\">\n<title>St27&#45;&gt;St28</title>\n<path fill=\"none\" stroke=\"#000000\" d=\"M355.8494,-544.9773C370.2224,-553.2905 388.5097,-563.8676 404.1969,-572.9409\"/>\n<polygon fill=\"#000000\" stroke=\"#000000\" points=\"402.6749,-576.1038 413.0836,-578.0808 406.1796,-570.0443 402.6749,-576.1038\"/>\n<text text-anchor=\"middle\" x=\"386.5848\" y=\"-568.3975\" font-family=\"Times,serif\" font-size=\"14.00\" fill=\"#000000\">&#39;&#39; </text>\n</g>\n<!-- St7&#45;&gt;St8 -->\n<g id=\"edge13\" class=\"edge\">\n<title>St7&#45;&gt;St8</title>\n<path fill=\"none\" stroke=\"#000000\" d=\"M143.2053,-665.5975C157.2816,-665.5975 175.3865,-665.5975 190.9636,-665.5975\"/>\n<polygon fill=\"#000000\" stroke=\"#000000\" points=\"191.2634,-669.0976 201.2634,-665.5975 191.2634,-662.0976 191.2634,-669.0976\"/>\n<text text-anchor=\"middle\" x=\"172.1949\" y=\"-669.3975\" font-family=\"Times,serif\" font-size=\"14.00\" fill=\"#000000\">d </text>\n</g>\n<!-- St42 -->\n<g id=\"node18\" class=\"node\">\n<title>St42</title>\n<ellipse fill=\"none\" stroke=\"#000000\" cx=\"547.3772\" cy=\"-337.5975\" rx=\"28.6953\" ry=\"28.6953\"/>\n<text text-anchor=\"middle\" x=\"547.3772\" y=\"-333.8975\" font-family=\"Times,serif\" font-size=\"14.00\" fill=\"#000000\">St42</text>\n</g>\n<!-- St43 -->\n<g id=\"node43\" class=\"node\">\n<title>St43</title>\n<ellipse fill=\"none\" stroke=\"#000000\" cx=\"330.9873\" cy=\"-390.5975\" rx=\"28.6832\" ry=\"28.6832\"/>\n<ellipse fill=\"none\" stroke=\"#000000\" cx=\"330.9873\" cy=\"-390.5975\" rx=\"32.6952\" ry=\"32.6952\"/>\n<text text-anchor=\"middle\" x=\"330.9873\" y=\"-386.8975\" font-family=\"Times,serif\" font-size=\"14.00\" fill=\"#000000\">St43</text>\n</g>\n<!-- St42&#45;&gt;St43 -->\n<g id=\"edge48\" class=\"edge\">\n<title>St42&#45;&gt;St43</title>\n<path fill=\"none\" stroke=\"#000000\" d=\"M518.9547,-332.843C490.5837,-329.1888 446.0743,-326.4441 409.5848,-337.5975 392.9014,-342.6969 376.5585,-352.6601 363.1346,-362.585\"/>\n<polygon fill=\"#000000\" stroke=\"#000000\" points=\"360.9623,-359.8403 355.1765,-368.7158 365.2344,-365.3855 360.9623,-359.8403\"/>\n<text text-anchor=\"middle\" x=\"438.1822\" y=\"-341.3975\" font-family=\"Times,serif\" font-size=\"14.00\" fill=\"#000000\">&#39;&#39; </text>\n</g>\n<!-- St19 -->\n<g id=\"node19\" class=\"node\">\n<title>St19</title>\n<ellipse fill=\"none\" stroke=\"#000000\" cx=\"547.3772\" cy=\"-253.5975\" rx=\"28.6953\" ry=\"28.6953\"/>\n<text text-anchor=\"middle\" x=\"547.3772\" y=\"-249.8975\" font-family=\"Times,serif\" font-size=\"14.00\" fill=\"#000000\">St19</text>\n</g>\n<!-- St19&#45;&gt;St20 -->\n<g id=\"edge26\" class=\"edge\">\n<title>St19&#45;&gt;St20</title>\n<path fill=\"none\" stroke=\"#000000\" d=\"M523.9568,-237.1209C508.5128,-227.293 487.3965,-215.7532 466.7797,-210.5975 434.1344,-202.4337 395.9663,-207.9257 368.4234,-214.4448\"/>\n<polygon fill=\"#000000\" stroke=\"#000000\" points=\"367.2617,-211.1281 358.4212,-216.9673 368.9735,-217.9156 367.2617,-211.1281\"/>\n<text text-anchor=\"middle\" x=\"438.1822\" y=\"-214.3975\" font-family=\"Times,serif\" font-size=\"14.00\" fill=\"#000000\">&#39;&#39; </text>\n</g>\n<!-- St10 -->\n<g id=\"node27\" class=\"node\">\n<title>St10</title>\n<ellipse fill=\"none\" stroke=\"#000000\" cx=\"547.3772\" cy=\"-765.5975\" rx=\"28.6953\" ry=\"28.6953\"/>\n<text text-anchor=\"middle\" x=\"547.3772\" y=\"-761.8975\" font-family=\"Times,serif\" font-size=\"14.00\" fill=\"#000000\">St10</text>\n</g>\n<!-- St9&#45;&gt;St10 -->\n<g id=\"edge16\" class=\"edge\">\n<title>St9&#45;&gt;St10</title>\n<path fill=\"none\" stroke=\"#000000\" d=\"M460.8075,-741.8135C474.982,-745.7078 493.5956,-750.8216 509.9298,-755.3092\"/>\n<polygon fill=\"#000000\" stroke=\"#000000\" points=\"509.1755,-758.7317 519.7455,-758.006 511.0301,-751.9818 509.1755,-758.7317\"/>\n<text text-anchor=\"middle\" x=\"490.7797\" y=\"-754.3975\" font-family=\"Times,serif\" font-size=\"14.00\" fill=\"#000000\">s </text>\n</g>\n<!-- St18&#45;&gt;St19 -->\n<g id=\"edge25\" class=\"edge\">\n<title>St18&#45;&gt;St19</title>\n<path fill=\"none\" stroke=\"#000000\" d=\"M466.8719,-260.9701C479.6617,-259.7988 494.9207,-258.4014 508.6979,-257.1397\"/>\n<polygon fill=\"#000000\" stroke=\"#000000\" points=\"509.24,-260.6048 518.8791,-256.2073 508.6015,-253.6339 509.24,-260.6048\"/>\n<text text-anchor=\"middle\" x=\"490.7797\" y=\"-262.3975\" font-family=\"Times,serif\" font-size=\"14.00\" fill=\"#000000\">s </text>\n</g>\n<!-- St3&#45;&gt;St4 -->\n<g id=\"edge10\" class=\"edge\">\n<title>St3&#45;&gt;St4</title>\n<path fill=\"none\" stroke=\"#000000\" d=\"M143.2053,-600.5975C157.2816,-600.5975 175.3865,-600.5975 190.9636,-600.5975\"/>\n<polygon fill=\"#000000\" stroke=\"#000000\" points=\"191.2634,-604.0976 201.2634,-600.5975 191.2634,-597.0976 191.2634,-604.0976\"/>\n<text text-anchor=\"middle\" x=\"172.1949\" y=\"-604.3975\" font-family=\"Times,serif\" font-size=\"14.00\" fill=\"#000000\">c </text>\n</g>\n<!-- St41 -->\n<g id=\"node23\" class=\"node\">\n<title>St41</title>\n<ellipse fill=\"none\" stroke=\"#000000\" cx=\"438.1822\" cy=\"-390.5975\" rx=\"28.6953\" ry=\"28.6953\"/>\n<text text-anchor=\"middle\" x=\"438.1822\" y=\"-386.8975\" font-family=\"Times,serif\" font-size=\"14.00\" fill=\"#000000\">St41</text>\n</g>\n<!-- St41&#45;&gt;St42 -->\n<g id=\"edge47\" class=\"edge\">\n<title>St41&#45;&gt;St42</title>\n<path fill=\"none\" stroke=\"#000000\" d=\"M464.0599,-378.0372C478.3703,-371.0914 496.3605,-362.3594 511.9584,-354.7887\"/>\n<polygon fill=\"#000000\" stroke=\"#000000\" points=\"513.8388,-357.7665 521.3068,-350.2512 510.7822,-351.4691 513.8388,-357.7665\"/>\n<text text-anchor=\"middle\" x=\"490.7797\" y=\"-370.3975\" font-family=\"Times,serif\" font-size=\"14.00\" fill=\"#000000\">s </text>\n</g>\n<!-- St23&#45;&gt;St24 -->\n<g id=\"edge29\" class=\"edge\">\n<title>St23&#45;&gt;St24</title>\n<path fill=\"none\" stroke=\"#000000\" d=\"M148.3424,-530.5975C159.9386,-530.5975 173.4973,-530.5975 185.9497,-530.5975\"/>\n<polygon fill=\"#000000\" stroke=\"#000000\" points=\"186.0822,-534.0976 196.0822,-530.5975 186.0821,-527.0976 186.0822,-534.0976\"/>\n<text text-anchor=\"middle\" x=\"172.1949\" y=\"-534.3975\" font-family=\"Times,serif\" font-size=\"14.00\" fill=\"#000000\">f </text>\n</g>\n<!-- St45 -->\n<g id=\"node25\" class=\"node\">\n<title>St45</title>\n<ellipse fill=\"none\" stroke=\"#000000\" cx=\"224.7924\" cy=\"-196.5975\" rx=\"28.6953\" ry=\"28.6953\"/>\n<text text-anchor=\"middle\" x=\"224.7924\" y=\"-192.8975\" font-family=\"Times,serif\" font-size=\"14.00\" fill=\"#000000\">St45</text>\n</g>\n<!-- St45&#45;&gt;St48 -->\n<g id=\"edge54\" class=\"edge\">\n<title>St45&#45;&gt;St48</title>\n<path fill=\"none\" stroke=\"#000000\" d=\"M242.567,-174.0015C259.4364,-152.5564 285.0114,-120.0443 304.3234,-95.4938\"/>\n<polygon fill=\"#000000\" stroke=\"#000000\" points=\"307.1792,-97.5244 310.611,-87.5008 301.6774,-93.1965 307.1792,-97.5244\"/>\n<text text-anchor=\"middle\" x=\"275.8899\" y=\"-140.3975\" font-family=\"Times,serif\" font-size=\"14.00\" fill=\"#000000\">&#39;&#39; </text>\n</g>\n<!-- St12&#45;&gt;St13 -->\n<g id=\"edge19\" class=\"edge\">\n<title>St12&#45;&gt;St13</title>\n<path fill=\"none\" stroke=\"#000000\" d=\"M466.8719,-856.3347C479.561,-856.2185 494.6806,-856.0801 508.3722,-855.9547\"/>\n<polygon fill=\"#000000\" stroke=\"#000000\" points=\"508.5325,-859.4534 518.5,-855.8619 508.4683,-852.4537 508.5325,-859.4534\"/>\n<text text-anchor=\"middle\" x=\"490.7797\" y=\"-859.3975\" font-family=\"Times,serif\" font-size=\"14.00\" fill=\"#000000\">b </text>\n</g>\n<!-- St10&#45;&gt;St11 -->\n<g id=\"edge17\" class=\"edge\">\n<title>St10&#45;&gt;St11</title>\n<path fill=\"none\" stroke=\"#000000\" d=\"M518.6047,-768.6557C480.0499,-772.7536 411.5417,-780.0354 368.8388,-784.5742\"/>\n<polygon fill=\"#000000\" stroke=\"#000000\" points=\"368.4075,-781.1003 358.8335,-785.6377 369.1475,-788.0611 368.4075,-781.1003\"/>\n<text text-anchor=\"middle\" x=\"438.1822\" y=\"-783.3975\" font-family=\"Times,serif\" font-size=\"14.00\" fill=\"#000000\">&#39;&#39; </text>\n</g>\n<!-- St38 -->\n<g id=\"node45\" class=\"node\">\n<title>St38</title>\n<ellipse fill=\"none\" stroke=\"#000000\" cx=\"547.3772\" cy=\"-934.5975\" rx=\"28.6832\" ry=\"28.6832\"/>\n<ellipse fill=\"none\" stroke=\"#000000\" cx=\"547.3772\" cy=\"-934.5975\" rx=\"32.6952\" ry=\"32.6952\"/>\n<text text-anchor=\"middle\" x=\"547.3772\" y=\"-930.8975\" font-family=\"Times,serif\" font-size=\"14.00\" fill=\"#000000\">St38</text>\n</g>\n<!-- St37&#45;&gt;St38 -->\n<g id=\"edge44\" class=\"edge\">\n<title>St37&#45;&gt;St38</title>\n<path fill=\"none\" stroke=\"#000000\" d=\"M466.8719,-933.8602C478.3249,-933.9651 491.7578,-934.0881 504.3337,-934.2033\"/>\n<polygon fill=\"#000000\" stroke=\"#000000\" points=\"504.6019,-937.7058 514.6336,-934.2976 504.6661,-930.7061 504.6019,-937.7058\"/>\n<text text-anchor=\"middle\" x=\"490.7797\" y=\"-937.3975\" font-family=\"Times,serif\" font-size=\"14.00\" fill=\"#000000\">b </text>\n</g>\n<!-- St29 -->\n<g id=\"node31\" class=\"node\">\n<title>St29</title>\n<ellipse fill=\"none\" stroke=\"#000000\" cx=\"547.3772\" cy=\"-592.5975\" rx=\"28.6953\" ry=\"28.6953\"/>\n<text text-anchor=\"middle\" x=\"547.3772\" y=\"-588.8975\" font-family=\"Times,serif\" font-size=\"14.00\" fill=\"#000000\">St29</text>\n</g>\n<!-- St28&#45;&gt;St29 -->\n<g id=\"edge35\" class=\"edge\">\n<title>St28&#45;&gt;St29</title>\n<path fill=\"none\" stroke=\"#000000\" d=\"M466.8719,-592.5975C479.561,-592.5975 494.6806,-592.5975 508.3722,-592.5975\"/>\n<polygon fill=\"#000000\" stroke=\"#000000\" points=\"508.5,-596.0976 518.5,-592.5975 508.4999,-589.0976 508.5,-596.0976\"/>\n<text text-anchor=\"middle\" x=\"490.7797\" y=\"-596.3975\" font-family=\"Times,serif\" font-size=\"14.00\" fill=\"#000000\">b </text>\n</g>\n<!-- St17 -->\n<g id=\"node30\" class=\"node\">\n<title>St17</title>\n<ellipse fill=\"none\" stroke=\"#000000\" cx=\"224.7924\" cy=\"-316.5975\" rx=\"28.6953\" ry=\"28.6953\"/>\n<text text-anchor=\"middle\" x=\"224.7924\" y=\"-312.8975\" font-family=\"Times,serif\" font-size=\"14.00\" fill=\"#000000\">St17</text>\n</g>\n<!-- St17&#45;&gt;St20 -->\n<g id=\"edge27\" class=\"edge\">\n<title>St17&#45;&gt;St20</title>\n<path fill=\"none\" stroke=\"#000000\" d=\"M246.5388,-297.9627C262.4306,-284.3447 284.1598,-265.7246 301.5968,-250.7826\"/>\n<polygon fill=\"#000000\" stroke=\"#000000\" points=\"303.954,-253.372 309.27,-244.2073 299.3991,-248.0566 303.954,-253.372\"/>\n<text text-anchor=\"middle\" x=\"275.8899\" y=\"-279.3975\" font-family=\"Times,serif\" font-size=\"14.00\" fill=\"#000000\">&#39;&#39; </text>\n</g>\n<!-- St30 -->\n<g id=\"node32\" class=\"node\">\n<title>St30</title>\n<ellipse fill=\"none\" stroke=\"#000000\" cx=\"653.5721\" cy=\"-592.5975\" rx=\"28.6953\" ry=\"28.6953\"/>\n<text text-anchor=\"middle\" x=\"653.5721\" y=\"-588.8975\" font-family=\"Times,serif\" font-size=\"14.00\" fill=\"#000000\">St30</text>\n</g>\n<!-- St29&#45;&gt;St30 -->\n<g id=\"edge37\" class=\"edge\">\n<title>St29&#45;&gt;St30</title>\n<path fill=\"none\" stroke=\"#000000\" d=\"M576.115,-592.5975C587.9203,-592.5975 601.7767,-592.5975 614.481,-592.5975\"/>\n<polygon fill=\"#000000\" stroke=\"#000000\" points=\"614.8113,-596.0976 624.8112,-592.5975 614.8112,-589.0976 614.8113,-596.0976\"/>\n<text text-anchor=\"middle\" x=\"602.4746\" y=\"-596.3975\" font-family=\"Times,serif\" font-size=\"14.00\" fill=\"#000000\">&#39;&#39; </text>\n</g>\n<!-- St31 -->\n<g id=\"node44\" class=\"node\">\n<title>St31</title>\n<ellipse fill=\"none\" stroke=\"#000000\" cx=\"760.767\" cy=\"-592.5975\" rx=\"28.6832\" ry=\"28.6832\"/>\n<ellipse fill=\"none\" stroke=\"#000000\" cx=\"760.767\" cy=\"-592.5975\" rx=\"32.6952\" ry=\"32.6952\"/>\n<text text-anchor=\"middle\" x=\"760.767\" y=\"-588.8975\" font-family=\"Times,serif\" font-size=\"14.00\" fill=\"#000000\">St31</text>\n</g>\n<!-- St30&#45;&gt;St31 -->\n<g id=\"edge36\" class=\"edge\">\n<title>St30&#45;&gt;St31</title>\n<path fill=\"none\" stroke=\"#000000\" d=\"M682.2984,-592.5975C693.1386,-592.5975 705.723,-592.5975 717.5971,-592.5975\"/>\n<polygon fill=\"#000000\" stroke=\"#000000\" points=\"717.7875,-596.0976 727.7874,-592.5975 717.7874,-589.0976 717.7875,-596.0976\"/>\n<text text-anchor=\"middle\" x=\"705.1696\" y=\"-596.3975\" font-family=\"Times,serif\" font-size=\"14.00\" fill=\"#000000\">a </text>\n</g>\n<!-- St26&#45;&gt;St27 -->\n<g id=\"edge33\" class=\"edge\">\n<title>St26&#45;&gt;St27</title>\n<path fill=\"none\" stroke=\"#000000\" d=\"M519.081,-496.6973C480.7653,-503.6029 412.2511,-515.9513 369.338,-523.6855\"/>\n<polygon fill=\"#000000\" stroke=\"#000000\" points=\"368.4971,-520.2806 359.2765,-525.4989 369.7388,-527.1696 368.4971,-520.2806\"/>\n<text text-anchor=\"middle\" x=\"438.1822\" y=\"-519.3975\" font-family=\"Times,serif\" font-size=\"14.00\" fill=\"#000000\">&#39;&#39; </text>\n</g>\n<!-- St35 -->\n<g id=\"node34\" class=\"node\">\n<title>St35</title>\n<ellipse fill=\"none\" stroke=\"#000000\" cx=\"547.3772\" cy=\"-1029.5975\" rx=\"28.6953\" ry=\"28.6953\"/>\n<text text-anchor=\"middle\" x=\"547.3772\" y=\"-1025.8975\" font-family=\"Times,serif\" font-size=\"14.00\" fill=\"#000000\">St35</text>\n</g>\n<!-- St35&#45;&gt;St36 -->\n<g id=\"edge42\" class=\"edge\">\n<title>St35&#45;&gt;St36</title>\n<path fill=\"none\" stroke=\"#000000\" d=\"M519.9071,-1021.533C504.386,-1017.1192 484.5832,-1011.7252 466.7797,-1007.5975 434.0197,-1000.0021 396.4462,-992.933 369.1397,-988.089\"/>\n<polygon fill=\"#000000\" stroke=\"#000000\" points=\"369.663,-984.6274 359.2084,-986.345 368.4523,-991.5219 369.663,-984.6274\"/>\n<text text-anchor=\"middle\" x=\"438.1822\" y=\"-1011.3975\" font-family=\"Times,serif\" font-size=\"14.00\" fill=\"#000000\">&#39;&#39; </text>\n</g>\n<!-- St33&#45;&gt;St36 -->\n<g id=\"edge43\" class=\"edge\">\n<title>St33&#45;&gt;St36</title>\n<path fill=\"none\" stroke=\"#000000\" d=\"M240.6908,-844.7008C258.9647,-872.4055 289.0519,-918.02 309.4252,-948.9076\"/>\n<polygon fill=\"#000000\" stroke=\"#000000\" points=\"306.7261,-951.1721 315.1538,-957.5927 312.5694,-947.3179 306.7261,-951.1721\"/>\n<text text-anchor=\"middle\" x=\"275.8899\" y=\"-904.3975\" font-family=\"Times,serif\" font-size=\"14.00\" fill=\"#000000\">&#39;&#39; </text>\n</g>\n<!-- St34&#45;&gt;St35 -->\n<g id=\"edge41\" class=\"edge\">\n<title>St34&#45;&gt;St35</title>\n<path fill=\"none\" stroke=\"#000000\" d=\"M465.7367,-1052.7749C479.1861,-1048.9566 495.5646,-1044.3068 510.1116,-1040.177\"/>\n<polygon fill=\"#000000\" stroke=\"#000000\" points=\"511.1675,-1043.5156 519.8315,-1037.4176 509.2558,-1036.7817 511.1675,-1043.5156\"/>\n<text text-anchor=\"middle\" x=\"490.7797\" y=\"-1050.3975\" font-family=\"Times,serif\" font-size=\"14.00\" fill=\"#000000\">s </text>\n</g>\n<!-- St46 -->\n<g id=\"node37\" class=\"node\">\n<title>St46</title>\n<ellipse fill=\"none\" stroke=\"#000000\" cx=\"438.1822\" cy=\"-61.5975\" rx=\"28.6953\" ry=\"28.6953\"/>\n<text text-anchor=\"middle\" x=\"438.1822\" y=\"-57.8975\" font-family=\"Times,serif\" font-size=\"14.00\" fill=\"#000000\">St46</text>\n</g>\n<!-- St46&#45;&gt;St47 -->\n<g id=\"edge52\" class=\"edge\">\n<title>St46&#45;&gt;St47</title>\n<path fill=\"none\" stroke=\"#000000\" d=\"M465.7367,-53.2702C479.1861,-49.2056 495.5646,-44.2558 510.1116,-39.8596\"/>\n<polygon fill=\"#000000\" stroke=\"#000000\" points=\"511.2716,-43.1654 519.8315,-36.9221 509.2465,-36.4647 511.2716,-43.1654\"/>\n<text text-anchor=\"middle\" x=\"490.7797\" y=\"-51.3975\" font-family=\"Times,serif\" font-size=\"14.00\" fill=\"#000000\">s </text>\n</g>\n<!-- St40 -->\n<g id=\"node40\" class=\"node\">\n<title>St40</title>\n<ellipse fill=\"none\" stroke=\"#000000\" cx=\"224.7924\" cy=\"-413.5975\" rx=\"28.6953\" ry=\"28.6953\"/>\n<text text-anchor=\"middle\" x=\"224.7924\" y=\"-409.8975\" font-family=\"Times,serif\" font-size=\"14.00\" fill=\"#000000\">St40</text>\n</g>\n<!-- St39&#45;&gt;St40 -->\n<g id=\"edge45\" class=\"edge\">\n<title>St39&#45;&gt;St40</title>\n<path fill=\"none\" stroke=\"#000000\" d=\"M146.6878,-441.8115C159.3262,-437.2461 174.5571,-431.7442 188.2001,-426.8158\"/>\n<polygon fill=\"#000000\" stroke=\"#000000\" points=\"189.5778,-430.0396 197.7939,-423.3502 187.1996,-423.456 189.5778,-430.0396\"/>\n<text text-anchor=\"middle\" x=\"172.1949\" y=\"-437.3975\" font-family=\"Times,serif\" font-size=\"14.00\" fill=\"#000000\">d </text>\n</g>\n<!-- St16&#45;&gt;St17 -->\n<g id=\"edge22\" class=\"edge\">\n<title>St16&#45;&gt;St17</title>\n<path fill=\"none\" stroke=\"#000000\" d=\"M145.331,-355.8768C158.7032,-349.2667 175.2421,-341.0912 189.7627,-333.9133\"/>\n<polygon fill=\"#000000\" stroke=\"#000000\" points=\"191.5463,-336.936 198.9599,-329.367 188.4443,-330.6608 191.5463,-336.936\"/>\n<text text-anchor=\"middle\" x=\"172.1949\" y=\"-347.3975\" font-family=\"Times,serif\" font-size=\"14.00\" fill=\"#000000\">d </text>\n</g>\n<!-- St40&#45;&gt;St43 -->\n<g id=\"edge49\" class=\"edge\">\n<title>St40&#45;&gt;St43</title>\n<path fill=\"none\" stroke=\"#000000\" d=\"M252.9719,-407.4943C264.0131,-405.1029 276.9134,-402.3089 289.008,-399.6895\"/>\n<polygon fill=\"#000000\" stroke=\"#000000\" points=\"289.8869,-403.0803 298.9194,-397.5428 288.4051,-396.239 289.8869,-403.0803\"/>\n<text text-anchor=\"middle\" x=\"275.8899\" y=\"-406.3975\" font-family=\"Times,serif\" font-size=\"14.00\" fill=\"#000000\">&#39;&#39; </text>\n</g>\n<!-- St44&#45;&gt;St45 -->\n<g id=\"edge50\" class=\"edge\">\n<title>St44&#45;&gt;St45</title>\n<path fill=\"none\" stroke=\"#000000\" d=\"M142.4232,-260.0217C157.4488,-248.452 177.3076,-233.1607 193.7611,-220.4915\"/>\n<polygon fill=\"#000000\" stroke=\"#000000\" points=\"196.2232,-223.0131 202.0112,-214.139 191.9525,-217.4668 196.2232,-223.0131\"/>\n<text text-anchor=\"middle\" x=\"172.1949\" y=\"-242.3975\" font-family=\"Times,serif\" font-size=\"14.00\" fill=\"#000000\">f </text>\n</g>\n<!-- St43&#45;&gt;St41 -->\n<g id=\"edge46\" class=\"edge\">\n<title>St43&#45;&gt;St41</title>\n<path fill=\"none\" stroke=\"#000000\" d=\"M363.7318,-390.5975C374.8568,-390.5975 387.4019,-390.5975 398.9792,-390.5975\"/>\n<polygon fill=\"#000000\" stroke=\"#000000\" points=\"399.2709,-394.0976 409.2708,-390.5975 399.2708,-387.0976 399.2709,-394.0976\"/>\n<text text-anchor=\"middle\" x=\"386.5848\" y=\"-394.3975\" font-family=\"Times,serif\" font-size=\"14.00\" fill=\"#000000\">&#39;&#39; </text>\n</g>\n<!-- St48&#45;&gt;St46 -->\n<g id=\"edge51\" class=\"edge\">\n<title>St48&#45;&gt;St46</title>\n<path fill=\"none\" stroke=\"#000000\" d=\"M363.7318,-61.5975C374.8568,-61.5975 387.4019,-61.5975 398.9792,-61.5975\"/>\n<polygon fill=\"#000000\" stroke=\"#000000\" points=\"399.2709,-65.0976 409.2708,-61.5975 399.2708,-58.0976 399.2709,-65.0976\"/>\n<text text-anchor=\"middle\" x=\"386.5848\" y=\"-65.3975\" font-family=\"Times,serif\" font-size=\"14.00\" fill=\"#000000\">&#39;&#39; </text>\n</g>\n</g>\n</svg>\n"
          },
          "metadata": {
            "tags": []
          },
          "execution_count": 59
        }
      ]
    },
    {
      "cell_type": "markdown",
      "metadata": {
        "id": "cmAoBNG81Faw"
      },
      "source": [
        "\n",
        "This is an exercise in explaining how Rev_RE1_hand got translated to an NFA. You are to pick these cases and find an example of each, and explain below. What you pick does not matter.\n",
        "\n",
        "* Find a case where a Star is used, and explain the construction, pointing to the states involved. Use up to 6 bullets below. More or less based on how you explain (clarity not length emphasized).\n",
        "  - **St48 -('')-> St46 -(s)-> St47 -('')-> St48**\n",
        "  - **St20 -('')-> St18 -(s)-> St19 -('')-> St20**\n",
        "  - **St43 -('')-> St41 -(s)-> St42 -('')-> St43**\n",
        "  - All of these have a \"base\" state, an $\\varepsilon$ transition, a 's' transition, and another $\\varepsilon$ transition back to the base state.\n",
        "\n",
        "* Find a case where the Star follows something (I.e. a concatenation of the form \"X\" followed by \"Star\" is used). If such a case does not arise in your RE, skip this part. Show how that concatenation construction is accomplished in the same manner (up to 6 bullets roughly) as above. More or less based on how you explain. \n",
        "  - St44 -(f)-> St45 -('')-> **St48 -('')-> St46 -(s)-> St47 -('')-> St48**\n",
        "  - St16 -(d)-> St17 -('')-> **St20 -('')-> St18 -(s)-> St19 -('')-> St20**\n",
        "  - St39 -(d)-> St40 -('')-> **St43 -('')-> St41 -(s)-> St42 -('')-> St43**\n",
        "  - These just have states leading to the base state (mentioned in the earlier answer).\n",
        "  \n",
        "* Find a case where something follows Star (I.e. a concatenation of the form \"Star\" followed by \"X\"). If such a case does not arise in your RE, skip this part. Explain how the concatenation is accomplished.\n",
        "  - 36 -('')-> 37\n",
        "  - 11 -('')-> 12\n",
        "  - 27 -('')-> 28\n",
        "  - An $\\varepsilon$ transition takes place after the base state that leads to other transitions than the \"s\" loop."
      ]
    },
    {
      "cell_type": "markdown",
      "metadata": {
        "id": "V9nRzOHS1Fax"
      },
      "source": [
        "# END\n"
      ]
    }
  ]
}