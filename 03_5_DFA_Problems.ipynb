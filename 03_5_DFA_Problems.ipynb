{
  "nbformat": 4,
  "nbformat_minor": 0,
  "metadata": {
    "kernelspec": {
      "display_name": "Python 3",
      "language": "python",
      "name": "python3"
    },
    "language_info": {
      "codemirror_mode": {
        "name": "ipython",
        "version": 3
      },
      "file_extension": ".py",
      "mimetype": "text/x-python",
      "name": "python",
      "nbconvert_exporter": "python",
      "pygments_lexer": "ipython3",
      "version": "3.9.0"
    },
    "colab": {
      "name": "03_5_DFA_Problems.ipynb",
      "provenance": [],
      "collapsed_sections": [],
      "include_colab_link": true
    }
  },
  "cells": [
    {
      "cell_type": "markdown",
      "metadata": {
        "id": "view-in-github",
        "colab_type": "text"
      },
      "source": [
        "<a href=\"https://colab.research.google.com/github/mueller14003/cse480-notebooks/blob/master/03_5_DFA_Problems.ipynb\" target=\"_parent\"><img src=\"https://colab.research.google.com/assets/colab-badge.svg\" alt=\"Open In Colab\"/></a>"
      ]
    },
    {
      "cell_type": "markdown",
      "metadata": {
        "id": "WaJNQHnCFOV-"
      },
      "source": [
        "# First let's import, then look for the assignment below"
      ]
    },
    {
      "cell_type": "code",
      "metadata": {
        "colab": {
          "base_uri": "https://localhost:8080/"
        },
        "id": "uj8pDhPZFOWD",
        "outputId": "4079c642-82ca-491a-eada-cdc561d3ff02"
      },
      "source": [
        "#~~~~~~~~~~~~~~~~~~~~~~~~~~~~~~~~~~~~~~~~~~~~~~~~~~~~~~~\n",
        "import sys\n",
        "\n",
        "# -- Detect if in Own Install or in Colab\n",
        "try:\n",
        "    import google.colab\n",
        "    OWN_INSTALL = False\n",
        "except:\n",
        "    OWN_INSTALL = True\n",
        "    \n",
        "if OWN_INSTALL:\n",
        "\n",
        "  sys.path[0:0] = ['../../../../..',  '../../../../../3rdparty',  \n",
        "                   '../../../..',  '../../../../3rdparty',  \n",
        "                   '../../..',     '../../../3rdparty', \n",
        "                   '../..',        '../../3rdparty',\n",
        "                   '..',           '../3rdparty' ]\n",
        "\n",
        "else: # In colab\n",
        "  ! if [ ! -d Jove ]; then git clone https://github.com/ganeshutah/Jove Jove; fi\n",
        "  sys.path.append('./Jove')\n",
        "  sys.path.append('./Jove/jove')\n",
        "\n",
        "# -- common imports --\n",
        "from jove.LangDef   import *  #-- mainly for nthnumeric\n",
        "from jove.Def_md2mc import *  #-- for md2mc\n",
        "from jove.Def_DFA   import *  #-- for all DFA functions\n",
        "from jove.DotBashers import * #-- for dotObj_dfa\n",
        "#~~~~~~~~~~~~~~~~~~~~~~~~~~~~~~~~~~~~~~~~~~~~~~~~~~~~~~~"
      ],
      "execution_count": 2,
      "outputs": [
        {
          "output_type": "stream",
          "text": [
            "Cloning into 'Jove'...\n",
            "remote: Enumerating objects: 4634, done.\u001b[K\n",
            "remote: Total 4634 (delta 0), reused 0 (delta 0), pack-reused 4634\u001b[K\n",
            "Receiving objects: 100% (4634/4634), 7.38 MiB | 23.60 MiB/s, done.\n",
            "Resolving deltas: 100% (3005/3005), done.\n",
            "You may use any of these help commands:\n",
            "help(lphi)\n",
            "help(lunit)\n",
            "help(lcat)\n",
            "help(lexp)\n",
            "help(lunion)\n",
            "help(lstar)\n",
            "help(srev)\n",
            "help(lrev)\n",
            "help(shomo)\n",
            "help(lhomo)\n",
            "help(powset)\n",
            "help(lint)\n",
            "help(lsymdiff)\n",
            "help(lminus)\n",
            "help(lissubset)\n",
            "help(lissuperset)\n",
            "help(lcomplem)\n",
            "help(product)\n",
            "help(nthnumeric)\n",
            "\n",
            "You may use any of these help commands:\n",
            "help(md2mc)\n",
            ".. and if you want to dig more, then ..\n",
            "help(default_line_attr)\n",
            "help(length_ok_input_items)\n",
            "help(union_line_attr_list_fld)\n",
            "help(extend_rsltdict)\n",
            "help(form_delta)\n",
            "help(get_machine_components)\n",
            "\n",
            "You may use any of these help commands:\n",
            "help(ResetStNum)\n",
            "help(NxtStateStr)\n",
            "\n",
            "You may use any of these help commands:\n",
            "help(mkp_dfa)\n",
            "help(mk_dfa)\n",
            "help(totalize_dfa)\n",
            "help(addtosigma_delta)\n",
            "help(step_dfa)\n",
            "help(run_dfa)\n",
            "help(accepts_dfa)\n",
            "help(comp_dfa)\n",
            "help(union_dfa)\n",
            "help(intersect_dfa)\n",
            "help(pruneUnreach)\n",
            "help(iso_dfa)\n",
            "help(langeq_dfa)\n",
            "help(same_status)\n",
            "help(h_langeq_dfa)\n",
            "help(fixptDist)\n",
            "help(min_dfa)\n",
            "help(pairFR)\n",
            "help(state_combos)\n",
            "help(sepFinNonFin)\n",
            "help(bash_eql_classes)\n",
            "help(listminus)\n",
            "help(bash_1)\n",
            "help(mk_rep_eqc)\n",
            "help(F_of)\n",
            "help(rep_of_s)\n",
            "help(q0_of)\n",
            "help(Delta_of)\n",
            "help(mk_state_eqc_name)\n",
            "\n"
          ],
          "name": "stdout"
        }
      ]
    },
    {
      "cell_type": "markdown",
      "metadata": {
        "id": "UMNEZgOCFOWD"
      },
      "source": [
        "# Task 1: Define DFA Even010\n",
        "\n",
        "<font size=\"4\">    \n",
        "Using Jove's markdown, define a DFA for the language of strings over alphabet $\\{0,1\\}$ that accepts an even number of NON-OVERLAPPING occurrences of $010$s. Thoroughly document your construction!\n",
        "    \n",
        "HERE ARE EXAMPLES :\n",
        "\n",
        "* 01010 - does NOT have an even number of 0's because we wanted NON-OVERLAPPING\n",
        "\n",
        "* 0101010 - has two NON-OVERLAPPING occurrences of 010 -- that is what we want!\n",
        "\n",
        "* 0101111010 - has two NON-OVERLAPPING occurrences of 010\n",
        "\n",
        "* 111111 - has ZERO occurrences of 010\n",
        "    \n",
        "</font>"
      ]
    },
    {
      "cell_type": "markdown",
      "metadata": {
        "id": "vNSdAbORFOWE"
      },
      "source": [
        "### Hint: Name states to remember the essence of the history of inputs so far. If you do so, and also keep the sense of where the machine is (in an I state, an IF state or an F state), then you'll have the solution fall out automatically!\n",
        "\n",
        "Please read the Jove_User_Manual and heed the advice given there regarding how to write your automaton markdowns, how to place comments, how to group the lines of a DFA per state, and how to order which transition you may first consider.\n"
      ]
    },
    {
      "cell_type": "code",
      "metadata": {
        "id": "rNGa9GysFOWE"
      },
      "source": [
        "Even010 = md2mc('''\n",
        "DFA \n",
        "\n",
        "!! Put comments describing overall plan here\n",
        "!! I am going to improvise and think it through as I am figuring it out, making revisions as I go.\n",
        "\n",
        "IF : 1 -> IF\n",
        "IF : 0 -> F0 !! 010 starts with 0 so move to new state\n",
        "F0 : 1 -> F01 !! Getting close\n",
        "F0 : 0 -> F0\n",
        "F01 : 1 -> IF !! Reset since there wasn't a 0\n",
        "F01 : 0 -> S !! Another 010, but now odd number of 010s\n",
        "S : 1 -> S1\n",
        "S : 0 -> S0 \n",
        "S0 : 1 -> S01 !! Getting close\n",
        "S0 : 0 -> S0\n",
        "S1 : 1 -> S1\n",
        "S1 : 0 -> S0\n",
        "S01 : 1 -> S1 !! Reset since input was not 0\n",
        "S01 : 0 -> IF !! Another 010, now even number of 010s\n",
        " \n",
        "''')"
      ],
      "execution_count": 5,
      "outputs": []
    },
    {
      "cell_type": "code",
      "metadata": {
        "colab": {
          "base_uri": "https://localhost:8080/",
          "height": 268
        },
        "id": "KbLGMS9EFOWE",
        "outputId": "06719c2e-fe69-40b2-a55f-286398d03b8b"
      },
      "source": [
        "dotObj_dfa(Even010)"
      ],
      "execution_count": 6,
      "outputs": [
        {
          "output_type": "execute_result",
          "data": {
            "text/plain": [
              "<graphviz.dot.Digraph at 0x7efcbebd6668>"
            ],
            "image/svg+xml": "<?xml version=\"1.0\" encoding=\"UTF-8\" standalone=\"no\"?>\n<!DOCTYPE svg PUBLIC \"-//W3C//DTD SVG 1.1//EN\"\n \"http://www.w3.org/Graphics/SVG/1.1/DTD/svg11.dtd\">\n<!-- Generated by graphviz version 2.40.1 (20161225.0304)\n -->\n<!-- Title: %3 Pages: 1 -->\n<svg width=\"713pt\" height=\"185pt\"\n viewBox=\"0.00 0.00 713.48 184.80\" xmlns=\"http://www.w3.org/2000/svg\" xmlns:xlink=\"http://www.w3.org/1999/xlink\">\n<g id=\"graph0\" class=\"graph\" transform=\"scale(1 1) rotate(0) translate(4 180.7982)\">\n<title>%3</title>\n<polygon fill=\"#ffffff\" stroke=\"transparent\" points=\"-4,4 -4,-180.7982 709.4764,-180.7982 709.4764,4 -4,4\"/>\n<!-- EMPTY -->\n<g id=\"node1\" class=\"node\">\n<title>EMPTY</title>\n</g>\n<!-- IF -->\n<g id=\"node6\" class=\"node\">\n<title>IF</title>\n<ellipse fill=\"none\" stroke=\"#000000\" cx=\"113.8483\" cy=\"-118.7982\" rx=\"18.724\" ry=\"18.724\"/>\n<ellipse fill=\"none\" stroke=\"#000000\" cx=\"113.8483\" cy=\"-118.7982\" rx=\"22.6977\" ry=\"22.6977\"/>\n<text text-anchor=\"middle\" x=\"113.8483\" y=\"-115.0982\" font-family=\"Times,serif\" font-size=\"14.00\" fill=\"#000000\">IF</text>\n</g>\n<!-- EMPTY&#45;&gt;IF -->\n<g id=\"edge1\" class=\"edge\">\n<title>EMPTY&#45;&gt;IF</title>\n<path fill=\"none\" stroke=\"#000000\" d=\"M54.0033,-118.7982C62.5212,-118.7982 72.0276,-118.7982 80.9112,-118.7982\"/>\n<polygon fill=\"#000000\" stroke=\"#000000\" points=\"80.9572,-122.2983 90.9572,-118.7982 80.9572,-115.2983 80.9572,-122.2983\"/>\n</g>\n<!-- S1 -->\n<g id=\"node2\" class=\"node\">\n<title>S1</title>\n<ellipse fill=\"none\" stroke=\"#000000\" cx=\"495.0865\" cy=\"-79.7982\" rx=\"20.5982\" ry=\"20.5982\"/>\n<text text-anchor=\"middle\" x=\"495.0865\" y=\"-76.0982\" font-family=\"Times,serif\" font-size=\"14.00\" fill=\"#000000\">S1</text>\n</g>\n<!-- S1&#45;&gt;S1 -->\n<g id=\"edge12\" class=\"edge\">\n<title>S1&#45;&gt;S1</title>\n<path fill=\"none\" stroke=\"#000000\" d=\"M487.1265,-99.3618C485.9019,-109.4777 488.5553,-118.5963 495.0865,-118.5963 499.2706,-118.5963 501.8632,-114.854 502.8642,-109.5047\"/>\n<polygon fill=\"#000000\" stroke=\"#000000\" points=\"506.3662,-109.4231 503.0465,-99.3618 499.3673,-109.2973 506.3662,-109.4231\"/>\n<text text-anchor=\"middle\" x=\"495.0865\" y=\"-122.3963\" font-family=\"Times,serif\" font-size=\"14.00\" fill=\"#000000\">1 </text>\n</g>\n<!-- S0 -->\n<g id=\"node5\" class=\"node\">\n<title>S0</title>\n<ellipse fill=\"none\" stroke=\"#000000\" cx=\"584.6828\" cy=\"-27.7982\" rx=\"20.5982\" ry=\"20.5982\"/>\n<text text-anchor=\"middle\" x=\"584.6828\" y=\"-24.0982\" font-family=\"Times,serif\" font-size=\"14.00\" fill=\"#000000\">S0</text>\n</g>\n<!-- S1&#45;&gt;S0 -->\n<g id=\"edge13\" class=\"edge\">\n<title>S1&#45;&gt;S0</title>\n<path fill=\"none\" stroke=\"#000000\" d=\"M513.2177,-69.2752C525.969,-61.8745 543.2526,-51.8435 557.6284,-43.5\"/>\n<polygon fill=\"#000000\" stroke=\"#000000\" points=\"559.6866,-46.3523 566.5786,-38.3055 556.1728,-40.2981 559.6866,-46.3523\"/>\n<text text-anchor=\"middle\" x=\"539.8847\" y=\"-60.5982\" font-family=\"Times,serif\" font-size=\"14.00\" fill=\"#000000\">0 </text>\n</g>\n<!-- S -->\n<g id=\"node3\" class=\"node\">\n<title>S</title>\n<ellipse fill=\"none\" stroke=\"#000000\" cx=\"408.2884\" cy=\"-52.7982\" rx=\"18\" ry=\"18\"/>\n<text text-anchor=\"middle\" x=\"408.2884\" y=\"-49.0982\" font-family=\"Times,serif\" font-size=\"14.00\" fill=\"#000000\">S</text>\n</g>\n<!-- S&#45;&gt;S1 -->\n<g id=\"edge8\" class=\"edge\">\n<title>S&#45;&gt;S1</title>\n<path fill=\"none\" stroke=\"#000000\" d=\"M425.8533,-58.262C437.2219,-61.7984 452.3091,-66.4915 465.4971,-70.5939\"/>\n<polygon fill=\"#000000\" stroke=\"#000000\" points=\"464.5305,-73.9586 475.1188,-73.5869 466.6097,-67.2745 464.5305,-73.9586\"/>\n<text text-anchor=\"middle\" x=\"450.2884\" y=\"-70.5982\" font-family=\"Times,serif\" font-size=\"14.00\" fill=\"#000000\">1 </text>\n</g>\n<!-- S&#45;&gt;S0 -->\n<g id=\"edge9\" class=\"edge\">\n<title>S&#45;&gt;S0</title>\n<path fill=\"none\" stroke=\"#000000\" d=\"M425.4455,-47.0879C438.6435,-42.9483 457.4174,-37.6037 474.2884,-34.7982 500.8248,-30.3852 531.3736,-28.7058 553.5986,-28.0897\"/>\n<polygon fill=\"#000000\" stroke=\"#000000\" points=\"553.8659,-31.5847 563.7864,-27.8653 553.7117,-24.5864 553.8659,-31.5847\"/>\n<text text-anchor=\"middle\" x=\"495.0865\" y=\"-38.5982\" font-family=\"Times,serif\" font-size=\"14.00\" fill=\"#000000\">0 </text>\n</g>\n<!-- S01 -->\n<g id=\"node4\" class=\"node\">\n<title>S01</title>\n<ellipse fill=\"none\" stroke=\"#000000\" cx=\"679.4787\" cy=\"-117.7982\" rx=\"25.9954\" ry=\"25.9954\"/>\n<text text-anchor=\"middle\" x=\"679.4787\" y=\"-114.0982\" font-family=\"Times,serif\" font-size=\"14.00\" fill=\"#000000\">S01</text>\n</g>\n<!-- S01&#45;&gt;S1 -->\n<g id=\"edge14\" class=\"edge\">\n<title>S01&#45;&gt;S1</title>\n<path fill=\"none\" stroke=\"#000000\" d=\"M653.9411,-112.5353C620.317,-105.606 561.2776,-93.439 525.4189,-86.0491\"/>\n<polygon fill=\"#000000\" stroke=\"#000000\" points=\"526.0249,-82.6005 515.5242,-84.01 524.6119,-89.4565 526.0249,-82.6005\"/>\n<text text-anchor=\"middle\" x=\"584.6828\" y=\"-105.5982\" font-family=\"Times,serif\" font-size=\"14.00\" fill=\"#000000\">1 </text>\n</g>\n<!-- S01&#45;&gt;IF -->\n<g id=\"edge15\" class=\"edge\">\n<title>S01&#45;&gt;IF</title>\n<path fill=\"none\" stroke=\"#000000\" d=\"M658.5455,-133.9323C640.1383,-146.4899 612.0803,-161.7982 584.6828,-161.7982 209.4948,-161.7982 209.4948,-161.7982 209.4948,-161.7982 184.6177,-161.7982 159.0482,-149.5478 140.6126,-138.1244\"/>\n<polygon fill=\"#000000\" stroke=\"#000000\" points=\"142.4625,-135.1525 132.1698,-132.6403 138.6494,-141.0228 142.4625,-135.1525\"/>\n<text text-anchor=\"middle\" x=\"408.2884\" y=\"-165.5982\" font-family=\"Times,serif\" font-size=\"14.00\" fill=\"#000000\">0 </text>\n</g>\n<!-- S0&#45;&gt;S01 -->\n<g id=\"edge10\" class=\"edge\">\n<title>S0&#45;&gt;S01</title>\n<path fill=\"none\" stroke=\"#000000\" d=\"M599.9134,-42.2582C614.1646,-55.7884 635.7619,-76.2931 652.8606,-92.5268\"/>\n<polygon fill=\"#000000\" stroke=\"#000000\" points=\"650.6957,-95.2975 660.3577,-99.6445 655.5154,-90.221 650.6957,-95.2975\"/>\n<text text-anchor=\"middle\" x=\"629.481\" y=\"-78.5982\" font-family=\"Times,serif\" font-size=\"14.00\" fill=\"#000000\">1 </text>\n</g>\n<!-- S0&#45;&gt;S0 -->\n<g id=\"edge11\" class=\"edge\">\n<title>S0&#45;&gt;S0</title>\n<path fill=\"none\" stroke=\"#000000\" d=\"M576.7229,-47.3618C575.4982,-57.4777 578.1516,-66.5963 584.6828,-66.5963 588.8669,-66.5963 591.4595,-62.854 592.4605,-57.5047\"/>\n<polygon fill=\"#000000\" stroke=\"#000000\" points=\"595.9625,-57.4231 592.6428,-47.3618 588.9636,-57.2973 595.9625,-57.4231\"/>\n<text text-anchor=\"middle\" x=\"584.6828\" y=\"-70.3963\" font-family=\"Times,serif\" font-size=\"14.00\" fill=\"#000000\">0 </text>\n</g>\n<!-- IF&#45;&gt;IF -->\n<g id=\"edge2\" class=\"edge\">\n<title>IF&#45;&gt;IF</title>\n<path fill=\"none\" stroke=\"#000000\" d=\"M106.4966,-140.6514C105.6946,-150.789 108.1452,-159.6465 113.8483,-159.6465 117.5019,-159.6465 119.8206,-156.0114 120.8045,-150.7333\"/>\n<polygon fill=\"#000000\" stroke=\"#000000\" points=\"124.3052,-150.781 121.2,-140.6514 117.3106,-150.5065 124.3052,-150.781\"/>\n<text text-anchor=\"middle\" x=\"113.8483\" y=\"-163.4465\" font-family=\"Times,serif\" font-size=\"14.00\" fill=\"#000000\">1 </text>\n</g>\n<!-- F0 -->\n<g id=\"node8\" class=\"node\">\n<title>F0</title>\n<ellipse fill=\"none\" stroke=\"#000000\" cx=\"209.4948\" cy=\"-24.7982\" rx=\"20.6302\" ry=\"20.6302\"/>\n<ellipse fill=\"none\" stroke=\"#000000\" cx=\"209.4948\" cy=\"-24.7982\" rx=\"24.5979\" ry=\"24.5979\"/>\n<text text-anchor=\"middle\" x=\"209.4948\" y=\"-21.0982\" font-family=\"Times,serif\" font-size=\"14.00\" fill=\"#000000\">F0</text>\n</g>\n<!-- IF&#45;&gt;F0 -->\n<g id=\"edge3\" class=\"edge\">\n<title>IF&#45;&gt;F0</title>\n<path fill=\"none\" stroke=\"#000000\" d=\"M130.5087,-102.4246C145.3611,-87.8279 167.3163,-66.2506 184.3121,-49.5474\"/>\n<polygon fill=\"#000000\" stroke=\"#000000\" points=\"187.0497,-51.7643 191.7286,-42.2585 182.1431,-46.7717 187.0497,-51.7643\"/>\n<text text-anchor=\"middle\" x=\"160.6967\" y=\"-80.5982\" font-family=\"Times,serif\" font-size=\"14.00\" fill=\"#000000\">0 </text>\n</g>\n<!-- F01 -->\n<g id=\"node7\" class=\"node\">\n<title>F01</title>\n<ellipse fill=\"none\" stroke=\"#000000\" cx=\"312.2907\" cy=\"-52.7982\" rx=\"25.9957\" ry=\"25.9957\"/>\n<ellipse fill=\"none\" stroke=\"#000000\" cx=\"312.2907\" cy=\"-52.7982\" rx=\"29.9954\" ry=\"29.9954\"/>\n<text text-anchor=\"middle\" x=\"312.2907\" y=\"-49.0982\" font-family=\"Times,serif\" font-size=\"14.00\" fill=\"#000000\">F01</text>\n</g>\n<!-- F01&#45;&gt;S -->\n<g id=\"edge7\" class=\"edge\">\n<title>F01&#45;&gt;S</title>\n<path fill=\"none\" stroke=\"#000000\" d=\"M342.4015,-52.7982C354.3576,-52.7982 368.0417,-52.7982 379.8296,-52.7982\"/>\n<polygon fill=\"#000000\" stroke=\"#000000\" points=\"380.0184,-56.2983 390.0183,-52.7982 380.0183,-49.2983 380.0184,-56.2983\"/>\n<text text-anchor=\"middle\" x=\"366.2884\" y=\"-56.5982\" font-family=\"Times,serif\" font-size=\"14.00\" fill=\"#000000\">0 </text>\n</g>\n<!-- F01&#45;&gt;IF -->\n<g id=\"edge6\" class=\"edge\">\n<title>F01&#45;&gt;IF</title>\n<path fill=\"none\" stroke=\"#000000\" d=\"M286.2803,-67.8046C271.4392,-75.8513 252.2636,-85.399 234.293,-91.7982 205.3235,-102.1139 170.9863,-109.3485 146.4016,-113.7148\"/>\n<polygon fill=\"#000000\" stroke=\"#000000\" points=\"145.7714,-110.2717 136.5065,-115.4111 146.9542,-117.1711 145.7714,-110.2717\"/>\n<text text-anchor=\"middle\" x=\"209.4948\" y=\"-108.5982\" font-family=\"Times,serif\" font-size=\"14.00\" fill=\"#000000\">1 </text>\n</g>\n<!-- F0&#45;&gt;F01 -->\n<g id=\"edge4\" class=\"edge\">\n<title>F0&#45;&gt;F01</title>\n<path fill=\"none\" stroke=\"#000000\" d=\"M233.5959,-31.3629C245.418,-34.5831 259.9544,-38.5426 273.303,-42.1785\"/>\n<polygon fill=\"#000000\" stroke=\"#000000\" points=\"272.6463,-45.6271 283.2146,-44.8783 274.486,-38.8732 272.6463,-45.6271\"/>\n<text text-anchor=\"middle\" x=\"258.293\" y=\"-43.5982\" font-family=\"Times,serif\" font-size=\"14.00\" fill=\"#000000\">1 </text>\n</g>\n<!-- F0&#45;&gt;F0 -->\n<g id=\"edge5\" class=\"edge\">\n<title>F0&#45;&gt;F0</title>\n<path fill=\"none\" stroke=\"#000000\" d=\"M200.6354,-48.1303C199.7917,-58.5686 202.7448,-67.5963 209.4948,-67.5963 213.819,-67.5963 216.585,-63.8913 217.7927,-58.484\"/>\n<polygon fill=\"#000000\" stroke=\"#000000\" points=\"221.3075,-58.3051 218.3542,-48.1303 214.3178,-57.926 221.3075,-58.3051\"/>\n<text text-anchor=\"middle\" x=\"209.4948\" y=\"-71.3963\" font-family=\"Times,serif\" font-size=\"14.00\" fill=\"#000000\">0 </text>\n</g>\n</g>\n</svg>\n"
          },
          "metadata": {
            "tags": []
          },
          "execution_count": 6
        }
      ]
    },
    {
      "cell_type": "markdown",
      "metadata": {
        "id": "V9ObAQVAFOWE"
      },
      "source": [
        "# Task 2: Define DFA Ends010\n",
        "\n",
        "<font size=\"4\">    \n",
        "3. Using Jove's markdown, define a DFA for the language of strings over alphabet $\\{0,1\\}$ that ends in a $010$, calling it Ends010. Then obtain the intersection with the Even010 machine using intersect_dfa. \n",
        "    \n",
        "    Call the intersection Even010_Ends010.\n",
        "    \n",
        "    Next, minimize Even010_Ends010, storing it in min_Even010_Ends010 .\n",
        "    \n",
        "    Again, document the construction thoroughly.\n",
        "    \n",
        "</font>"
      ]
    },
    {
      "cell_type": "markdown",
      "metadata": {
        "id": "DhnD-hquFOWF"
      },
      "source": [
        "### Hint: Define a machine for \"ends $010$\" as illustrated by DFA Even010, and negate."
      ]
    },
    {
      "cell_type": "code",
      "metadata": {
        "id": "hszG3ki1FOWF"
      },
      "source": [
        "Ends010 =  md2mc('''\n",
        "DFA\n",
        "\n",
        "!! Put comments describing overall plan here\n",
        "!! I am going to improvise and think it through as I am figuring it out, making revisions as I go.\n",
        "\n",
        "I : 1 -> I\n",
        "I : 0 -> S0\n",
        "S0 : 1 -> S01\n",
        "S0 : 0 -> S0\n",
        "S01 : 1 -> I\n",
        "S01 : 0 -> F\n",
        "F : 0 -> S0\n",
        "F : 1 -> S01\n",
        "\n",
        "''')"
      ],
      "execution_count": 9,
      "outputs": []
    },
    {
      "cell_type": "code",
      "metadata": {
        "colab": {
          "base_uri": "https://localhost:8080/",
          "height": 210
        },
        "id": "qk-qp_CYFOWF",
        "outputId": "afb64376-2a88-4628-ace5-d6fcbe5e0138"
      },
      "source": [
        "# Let's see the \"Ends010\" machine\n",
        "dotObj_dfa(Ends010, FuseEdges=True)"
      ],
      "execution_count": 10,
      "outputs": [
        {
          "output_type": "execute_result",
          "data": {
            "text/plain": [
              "<graphviz.dot.Digraph at 0x7efcbec684a8>"
            ],
            "image/svg+xml": "<?xml version=\"1.0\" encoding=\"UTF-8\" standalone=\"no\"?>\n<!DOCTYPE svg PUBLIC \"-//W3C//DTD SVG 1.1//EN\"\n \"http://www.w3.org/Graphics/SVG/1.1/DTD/svg11.dtd\">\n<!-- Generated by graphviz version 2.40.1 (20161225.0304)\n -->\n<!-- Title: %3 Pages: 1 -->\n<svg width=\"417pt\" height=\"142pt\"\n viewBox=\"0.00 0.00 416.59 141.80\" xmlns=\"http://www.w3.org/2000/svg\" xmlns:xlink=\"http://www.w3.org/1999/xlink\">\n<g id=\"graph0\" class=\"graph\" transform=\"scale(1 1) rotate(0) translate(4 137.7958)\">\n<title>%3</title>\n<polygon fill=\"#ffffff\" stroke=\"transparent\" points=\"-4,4 -4,-137.7958 412.5917,-137.7958 412.5917,4 -4,4\"/>\n<!-- EMPTY -->\n<g id=\"node1\" class=\"node\">\n<title>EMPTY</title>\n</g>\n<!-- I -->\n<g id=\"node2\" class=\"node\">\n<title>I</title>\n<ellipse fill=\"none\" stroke=\"#000000\" cx=\"109\" cy=\"-41.9977\" rx=\"18\" ry=\"18\"/>\n<text text-anchor=\"middle\" x=\"109\" y=\"-38.2977\" font-family=\"Times,serif\" font-size=\"14.00\" fill=\"#000000\">I</text>\n</g>\n<!-- EMPTY&#45;&gt;I -->\n<g id=\"edge1\" class=\"edge\">\n<title>EMPTY&#45;&gt;I</title>\n<path fill=\"none\" stroke=\"#000000\" d=\"M54.3048,-41.9977C62.6909,-41.9977 71.9407,-41.9977 80.4103,-41.9977\"/>\n<polygon fill=\"#000000\" stroke=\"#000000\" points=\"80.5976,-45.4978 90.5976,-41.9977 80.5976,-38.4978 80.5976,-45.4978\"/>\n</g>\n<!-- I&#45;&gt;I -->\n<g id=\"edge2\" class=\"edge\">\n<title>I&#45;&gt;I</title>\n<path fill=\"none\" stroke=\"#000000\" d=\"M102.6208,-59.035C101.3189,-68.8556 103.4453,-77.9977 109,-77.9977 112.4717,-77.9977 114.6042,-74.4266 115.3975,-69.3506\"/>\n<polygon fill=\"#000000\" stroke=\"#000000\" points=\"118.8971,-69.0287 115.3792,-59.035 111.8971,-69.0412 118.8971,-69.0287\"/>\n<text text-anchor=\"middle\" x=\"109\" y=\"-81.7977\" font-family=\"Times,serif\" font-size=\"14.00\" fill=\"#000000\">1 </text>\n</g>\n<!-- S0 -->\n<g id=\"node4\" class=\"node\">\n<title>S0</title>\n<ellipse fill=\"none\" stroke=\"#000000\" cx=\"195.7982\" cy=\"-79.9977\" rx=\"20.5982\" ry=\"20.5982\"/>\n<text text-anchor=\"middle\" x=\"195.7982\" y=\"-76.2977\" font-family=\"Times,serif\" font-size=\"14.00\" fill=\"#000000\">S0</text>\n</g>\n<!-- I&#45;&gt;S0 -->\n<g id=\"edge3\" class=\"edge\">\n<title>I&#45;&gt;S0</title>\n<path fill=\"none\" stroke=\"#000000\" d=\"M125.7356,-49.3245C137.4693,-54.4615 153.4487,-61.4572 167.1841,-67.4705\"/>\n<polygon fill=\"#000000\" stroke=\"#000000\" points=\"166.132,-70.8306 176.6962,-71.6349 168.9393,-64.4182 166.132,-70.8306\"/>\n<text text-anchor=\"middle\" x=\"151\" y=\"-66.7977\" font-family=\"Times,serif\" font-size=\"14.00\" fill=\"#000000\">0 </text>\n</g>\n<!-- S01 -->\n<g id=\"node3\" class=\"node\">\n<title>S01</title>\n<ellipse fill=\"none\" stroke=\"#000000\" cx=\"290.594\" cy=\"-25.9977\" rx=\"25.9954\" ry=\"25.9954\"/>\n<text text-anchor=\"middle\" x=\"290.594\" y=\"-22.2977\" font-family=\"Times,serif\" font-size=\"14.00\" fill=\"#000000\">S01</text>\n</g>\n<!-- S01&#45;&gt;I -->\n<g id=\"edge6\" class=\"edge\">\n<title>S01&#45;&gt;I</title>\n<path fill=\"none\" stroke=\"#000000\" d=\"M264.4082,-27.8267C240.9677,-29.514 205.6682,-32.178 175,-34.9977 162.5254,-36.1446 148.7428,-37.5799 137.0131,-38.8517\"/>\n<polygon fill=\"#000000\" stroke=\"#000000\" points=\"136.4725,-35.3899 126.9144,-39.9608 137.2368,-42.3481 136.4725,-35.3899\"/>\n<text text-anchor=\"middle\" x=\"195.7982\" y=\"-38.7977\" font-family=\"Times,serif\" font-size=\"14.00\" fill=\"#000000\">1 </text>\n</g>\n<!-- F -->\n<g id=\"node5\" class=\"node\">\n<title>F</title>\n<ellipse fill=\"none\" stroke=\"#000000\" cx=\"386.5917\" cy=\"-58.9977\" rx=\"18\" ry=\"18\"/>\n<ellipse fill=\"none\" stroke=\"#000000\" cx=\"386.5917\" cy=\"-58.9977\" rx=\"22\" ry=\"22\"/>\n<text text-anchor=\"middle\" x=\"386.5917\" y=\"-55.2977\" font-family=\"Times,serif\" font-size=\"14.00\" fill=\"#000000\">F</text>\n</g>\n<!-- S01&#45;&gt;F -->\n<g id=\"edge7\" class=\"edge\">\n<title>S01&#45;&gt;F</title>\n<path fill=\"none\" stroke=\"#000000\" d=\"M315.3158,-34.496C327.7112,-38.757 342.8393,-43.9574 355.9642,-48.4692\"/>\n<polygon fill=\"#000000\" stroke=\"#000000\" points=\"354.9373,-51.8172 365.532,-51.7583 357.213,-45.1974 354.9373,-51.8172\"/>\n<text text-anchor=\"middle\" x=\"340.5917\" y=\"-48.7977\" font-family=\"Times,serif\" font-size=\"14.00\" fill=\"#000000\">0 </text>\n</g>\n<!-- S0&#45;&gt;S01 -->\n<g id=\"edge4\" class=\"edge\">\n<title>S0&#45;&gt;S01</title>\n<path fill=\"none\" stroke=\"#000000\" d=\"M214.0757,-69.586C226.7293,-62.3779 243.9036,-52.5947 258.7755,-44.123\"/>\n<polygon fill=\"#000000\" stroke=\"#000000\" points=\"260.7201,-47.0433 267.6768,-39.0524 257.2553,-40.9609 260.7201,-47.0433\"/>\n<text text-anchor=\"middle\" x=\"240.5963\" y=\"-61.7977\" font-family=\"Times,serif\" font-size=\"14.00\" fill=\"#000000\">1 </text>\n</g>\n<!-- S0&#45;&gt;S0 -->\n<g id=\"edge5\" class=\"edge\">\n<title>S0&#45;&gt;S0</title>\n<path fill=\"none\" stroke=\"#000000\" d=\"M187.8382,-99.5614C186.6136,-109.6773 189.2669,-118.7958 195.7982,-118.7958 199.9822,-118.7958 202.5748,-115.0536 203.5759,-109.7042\"/>\n<polygon fill=\"#000000\" stroke=\"#000000\" points=\"207.0778,-109.6226 203.7581,-99.5614 200.079,-109.4968 207.0778,-109.6226\"/>\n<text text-anchor=\"middle\" x=\"195.7982\" y=\"-122.5958\" font-family=\"Times,serif\" font-size=\"14.00\" fill=\"#000000\">0 </text>\n</g>\n<!-- F&#45;&gt;S01 -->\n<g id=\"edge9\" class=\"edge\">\n<title>F&#45;&gt;S01</title>\n<path fill=\"none\" stroke=\"#000000\" d=\"M372.502,-41.5785C365.5552,-34.3698 356.5355,-26.8135 346.5917,-22.9977 340.1793,-20.537 333.0486,-19.6604 326.0824,-19.6816\"/>\n<polygon fill=\"#000000\" stroke=\"#000000\" points=\"325.8714,-16.1879 316.0967,-20.2752 326.2868,-23.1755 325.8714,-16.1879\"/>\n<text text-anchor=\"middle\" x=\"340.5917\" y=\"-26.7977\" font-family=\"Times,serif\" font-size=\"14.00\" fill=\"#000000\">1 </text>\n</g>\n<!-- F&#45;&gt;S0 -->\n<g id=\"edge8\" class=\"edge\">\n<title>F&#45;&gt;S0</title>\n<path fill=\"none\" stroke=\"#000000\" d=\"M364.5923,-61.807C358.7439,-62.5375 352.4303,-63.3117 346.5917,-63.9977 302.1867,-69.2151 291.066,-70.3634 246.5963,-74.9977 240.118,-75.6728 233.1723,-76.3724 226.5616,-77.0268\"/>\n<polygon fill=\"#000000\" stroke=\"#000000\" points=\"226.1747,-73.5479 216.5644,-78.0079 226.8584,-80.5144 226.1747,-73.5479\"/>\n<text text-anchor=\"middle\" x=\"290.594\" y=\"-77.7977\" font-family=\"Times,serif\" font-size=\"14.00\" fill=\"#000000\">0 </text>\n</g>\n</g>\n</svg>\n"
          },
          "metadata": {
            "tags": []
          },
          "execution_count": 10
        }
      ]
    },
    {
      "cell_type": "markdown",
      "metadata": {
        "id": "w-LFluCuFOWF"
      },
      "source": [
        "## Obtain the intersection of Even010 and Ends010"
      ]
    },
    {
      "cell_type": "code",
      "metadata": {
        "scrolled": true,
        "colab": {
          "base_uri": "https://localhost:8080/",
          "height": 568
        },
        "id": "VRhFikm8FOWF",
        "outputId": "dc00ab30-6bfa-4898-e8cd-4d02204c768e"
      },
      "source": [
        "Even010_Ends010 = intersect_dfa(Even010, Ends010)\n",
        "dotObj_dfa(Even010_Ends010)"
      ],
      "execution_count": 11,
      "outputs": [
        {
          "output_type": "execute_result",
          "data": {
            "text/plain": [
              "<graphviz.dot.Digraph at 0x7efcbec68978>"
            ],
            "image/svg+xml": "<?xml version=\"1.0\" encoding=\"UTF-8\" standalone=\"no\"?>\n<!DOCTYPE svg PUBLIC \"-//W3C//DTD SVG 1.1//EN\"\n \"http://www.w3.org/Graphics/SVG/1.1/DTD/svg11.dtd\">\n<!-- Generated by graphviz version 2.40.1 (20161225.0304)\n -->\n<!-- Title: %3 Pages: 1 -->\n<svg width=\"1504pt\" height=\"395pt\"\n viewBox=\"0.00 0.00 1503.62 395.00\" xmlns=\"http://www.w3.org/2000/svg\" xmlns:xlink=\"http://www.w3.org/1999/xlink\">\n<g id=\"graph0\" class=\"graph\" transform=\"scale(1 1) rotate(0) translate(4 391)\">\n<title>%3</title>\n<polygon fill=\"#ffffff\" stroke=\"transparent\" points=\"-4,4 -4,-391 1499.6194,-391 1499.6194,4 -4,4\"/>\n<!-- EMPTY -->\n<g id=\"node1\" class=\"node\">\n<title>EMPTY</title>\n</g>\n<!-- \\(IF_I\\) -->\n<g id=\"node9\" class=\"node\">\n<title>\\(IF_I\\)</title>\n<ellipse fill=\"none\" stroke=\"#000000\" cx=\"123.4971\" cy=\"-278\" rx=\"32.4942\" ry=\"32.4942\"/>\n<text text-anchor=\"middle\" x=\"123.4971\" y=\"-274.3\" font-family=\"Times,serif\" font-size=\"14.00\" fill=\"#000000\">(IF_I)</text>\n</g>\n<!-- EMPTY&#45;&gt;\\(IF_I\\) -->\n<g id=\"edge1\" class=\"edge\">\n<title>EMPTY&#45;&gt;\\(IF_I\\)</title>\n<path fill=\"none\" stroke=\"#000000\" d=\"M54.1366,-278C62.3991,-278 71.6905,-278 80.7226,-278\"/>\n<polygon fill=\"#000000\" stroke=\"#000000\" points=\"80.7414,-281.5001 90.7413,-278 80.7413,-274.5001 80.7414,-281.5001\"/>\n</g>\n<!-- \\(S0_S0\\) -->\n<g id=\"node2\" class=\"node\">\n<title>\\(S0_S0\\)</title>\n<ellipse fill=\"none\" stroke=\"#000000\" cx=\"907.4031\" cy=\"-210\" rx=\"42.4939\" ry=\"42.4939\"/>\n<text text-anchor=\"middle\" x=\"907.4031\" y=\"-206.3\" font-family=\"Times,serif\" font-size=\"14.00\" fill=\"#000000\">(S0_S0)</text>\n</g>\n<!-- \\(S0_S0\\)&#45;&gt;\\(S0_S0\\) -->\n<g id=\"edge10\" class=\"edge\">\n<title>\\(S0_S0\\)&#45;&gt;\\(S0_S0\\)</title>\n<path fill=\"none\" stroke=\"#000000\" d=\"M895.1036,-250.5461C895.6978,-261.7128 899.7976,-270.2463 907.4031,-270.2463 912.513,-270.2463 916.0405,-266.3941 917.9854,-260.4793\"/>\n<polygon fill=\"#000000\" stroke=\"#000000\" points=\"921.4479,-260.9962 919.7026,-250.5461 914.5502,-259.8037 921.4479,-260.9962\"/>\n<text text-anchor=\"middle\" x=\"907.4031\" y=\"-274.0463\" font-family=\"Times,serif\" font-size=\"14.00\" fill=\"#000000\">0 </text>\n</g>\n<!-- \\(S01_S01\\) -->\n<g id=\"node3\" class=\"node\">\n<title>\\(S01_S01\\)</title>\n<ellipse fill=\"none\" stroke=\"#000000\" cx=\"1049.6448\" cy=\"-164\" rx=\"51.9908\" ry=\"51.9908\"/>\n<text text-anchor=\"middle\" x=\"1049.6448\" y=\"-160.3\" font-family=\"Times,serif\" font-size=\"14.00\" fill=\"#000000\">(S01_S01)</text>\n</g>\n<!-- \\(S0_S0\\)&#45;&gt;\\(S01_S01\\) -->\n<g id=\"edge16\" class=\"edge\">\n<title>\\(S0_S0\\)&#45;&gt;\\(S01_S01\\)</title>\n<path fill=\"none\" stroke=\"#000000\" d=\"M947.7834,-196.9413C960.9968,-192.6682 975.9631,-187.8281 990.2763,-183.1994\"/>\n<polygon fill=\"#000000\" stroke=\"#000000\" points=\"991.6137,-186.4454 1000.0515,-180.0381 989.4597,-179.785 991.6137,-186.4454\"/>\n<text text-anchor=\"middle\" x=\"973.6494\" y=\"-192.8\" font-family=\"Times,serif\" font-size=\"14.00\" fill=\"#000000\">1 </text>\n</g>\n<!-- \\(S1_I\\) -->\n<g id=\"node5\" class=\"node\">\n<title>\\(S1_I\\)</title>\n<ellipse fill=\"none\" stroke=\"#000000\" cx=\"1188.737\" cy=\"-164\" rx=\"34.394\" ry=\"34.394\"/>\n<text text-anchor=\"middle\" x=\"1188.737\" y=\"-160.3\" font-family=\"Times,serif\" font-size=\"14.00\" fill=\"#000000\">(S1_I)</text>\n</g>\n<!-- \\(S01_S01\\)&#45;&gt;\\(S1_I\\) -->\n<g id=\"edge13\" class=\"edge\">\n<title>\\(S01_S01\\)&#45;&gt;\\(S1_I\\)</title>\n<path fill=\"none\" stroke=\"#000000\" d=\"M1101.8333,-164C1115.5799,-164 1130.2931,-164 1143.6319,-164\"/>\n<polygon fill=\"#000000\" stroke=\"#000000\" points=\"1143.99,-167.5001 1153.99,-164 1143.9899,-160.5001 1143.99,-167.5001\"/>\n<text text-anchor=\"middle\" x=\"1125.6401\" y=\"-167.8\" font-family=\"Times,serif\" font-size=\"14.00\" fill=\"#000000\">1 </text>\n</g>\n<!-- \\(IF_F\\) -->\n<g id=\"node13\" class=\"node\">\n<title>\\(IF_F\\)</title>\n<ellipse fill=\"none\" stroke=\"#000000\" cx=\"1188.737\" cy=\"-70\" rx=\"35.1841\" ry=\"35.1841\"/>\n<ellipse fill=\"none\" stroke=\"#000000\" cx=\"1188.737\" cy=\"-70\" rx=\"39.194\" ry=\"39.194\"/>\n<text text-anchor=\"middle\" x=\"1188.737\" y=\"-66.3\" font-family=\"Times,serif\" font-size=\"14.00\" fill=\"#000000\">(IF_F)</text>\n</g>\n<!-- \\(S01_S01\\)&#45;&gt;\\(IF_F\\) -->\n<g id=\"edge6\" class=\"edge\">\n<title>\\(S01_S01\\)&#45;&gt;\\(IF_F\\)</title>\n<path fill=\"none\" stroke=\"#000000\" d=\"M1092.892,-134.7731C1110.277,-123.0241 1130.2333,-109.5374 1147.4195,-97.9228\"/>\n<polygon fill=\"#000000\" stroke=\"#000000\" points=\"1149.8005,-100.5381 1156.1261,-92.0388 1145.8809,-94.7383 1149.8005,-100.5381\"/>\n<text text-anchor=\"middle\" x=\"1125.6401\" y=\"-117.8\" font-family=\"Times,serif\" font-size=\"14.00\" fill=\"#000000\">0 </text>\n</g>\n<!-- \\(S1_S01\\) -->\n<g id=\"node4\" class=\"node\">\n<title>\\(S1_S01\\)</title>\n<ellipse fill=\"none\" stroke=\"#000000\" cx=\"648.2676\" cy=\"-142\" rx=\"46.5926\" ry=\"46.5926\"/>\n<text text-anchor=\"middle\" x=\"648.2676\" y=\"-138.3\" font-family=\"Times,serif\" font-size=\"14.00\" fill=\"#000000\">(S1_S01)</text>\n</g>\n<!-- \\(S1_S01\\)&#45;&gt;\\(S1_I\\) -->\n<g id=\"edge7\" class=\"edge\">\n<title>\\(S1_S01\\)&#45;&gt;\\(S1_I\\)</title>\n<path fill=\"none\" stroke=\"#000000\" d=\"M686.7267,-115.0376C712.0493,-99.8912 746.6017,-84 780.1102,-84 780.1102,-84 780.1102,-84 1049.6448,-84 1087.4937,-84 1098.9649,-87.8984 1131.6401,-107 1141.9279,-113.0141 1151.6838,-121.3263 1160.1252,-129.7449\"/>\n<polygon fill=\"#000000\" stroke=\"#000000\" points=\"1157.7404,-132.3149 1167.1853,-137.1153 1162.7954,-127.4727 1157.7404,-132.3149\"/>\n<text text-anchor=\"middle\" x=\"907.4031\" y=\"-87.8\" font-family=\"Times,serif\" font-size=\"14.00\" fill=\"#000000\">1 </text>\n</g>\n<!-- \\(S0_F\\) -->\n<g id=\"node7\" class=\"node\">\n<title>\\(S0_F\\)</title>\n<ellipse fill=\"none\" stroke=\"#000000\" cx=\"780.1102\" cy=\"-149\" rx=\"37.0935\" ry=\"37.0935\"/>\n<text text-anchor=\"middle\" x=\"780.1102\" y=\"-145.3\" font-family=\"Times,serif\" font-size=\"14.00\" fill=\"#000000\">(S0_F)</text>\n</g>\n<!-- \\(S1_S01\\)&#45;&gt;\\(S0_F\\) -->\n<g id=\"edge14\" class=\"edge\">\n<title>\\(S1_S01\\)&#45;&gt;\\(S0_F\\)</title>\n<path fill=\"none\" stroke=\"#000000\" d=\"M695.1216,-144.4876C707.3802,-145.1385 720.6013,-145.8405 732.8794,-146.4924\"/>\n<polygon fill=\"#000000\" stroke=\"#000000\" points=\"732.7579,-149.9907 742.9295,-147.0259 733.1291,-143.0006 732.7579,-149.9907\"/>\n<text text-anchor=\"middle\" x=\"719.0634\" y=\"-148.8\" font-family=\"Times,serif\" font-size=\"14.00\" fill=\"#000000\">0 </text>\n</g>\n<!-- \\(S1_I\\)&#45;&gt;\\(S0_S0\\) -->\n<g id=\"edge9\" class=\"edge\">\n<title>\\(S1_I\\)&#45;&gt;\\(S0_S0\\)</title>\n<path fill=\"none\" stroke=\"#000000\" d=\"M1163.5868,-187.9123C1147.3102,-201.6821 1124.8801,-217.6711 1101.6401,-225 1054.5083,-239.8634 997.9011,-232.873 957.9896,-224.1335\"/>\n<polygon fill=\"#000000\" stroke=\"#000000\" points=\"958.7483,-220.7167 948.2182,-221.8862 957.1793,-227.5386 958.7483,-220.7167\"/>\n<text text-anchor=\"middle\" x=\"1049.6448\" y=\"-236.8\" font-family=\"Times,serif\" font-size=\"14.00\" fill=\"#000000\">0 </text>\n</g>\n<!-- \\(S1_I\\)&#45;&gt;\\(S1_I\\) -->\n<g id=\"edge5\" class=\"edge\">\n<title>\\(S1_I\\)&#45;&gt;\\(S1_I\\)</title>\n<path fill=\"none\" stroke=\"#000000\" d=\"M1177.1127,-196.5229C1177.0517,-207.5687 1180.9265,-216.4469 1188.737,-216.4469 1193.9847,-216.4469 1197.4558,-212.4391 1199.1501,-206.4589\"/>\n<polygon fill=\"#000000\" stroke=\"#000000\" points=\"1202.6255,-206.8729 1200.3613,-196.5229 1195.6769,-206.0258 1202.6255,-206.8729\"/>\n<text text-anchor=\"middle\" x=\"1188.737\" y=\"-220.2469\" font-family=\"Times,serif\" font-size=\"14.00\" fill=\"#000000\">1 </text>\n</g>\n<!-- \\(F01_S01\\) -->\n<g id=\"node6\" class=\"node\">\n<title>\\(F01_S01\\)</title>\n<ellipse fill=\"none\" stroke=\"#000000\" cx=\"388.4821\" cy=\"-281\" rx=\"51.9908\" ry=\"51.9908\"/>\n<text text-anchor=\"middle\" x=\"388.4821\" y=\"-277.3\" font-family=\"Times,serif\" font-size=\"14.00\" fill=\"#000000\">(F01_S01)</text>\n</g>\n<!-- \\(S_F\\) -->\n<g id=\"node8\" class=\"node\">\n<title>\\(S_F\\)</title>\n<ellipse fill=\"none\" stroke=\"#000000\" cx=\"520.9746\" cy=\"-217\" rx=\"32.4942\" ry=\"32.4942\"/>\n<text text-anchor=\"middle\" x=\"520.9746\" y=\"-213.3\" font-family=\"Times,serif\" font-size=\"14.00\" fill=\"#000000\">(S_F)</text>\n</g>\n<!-- \\(F01_S01\\)&#45;&gt;\\(S_F\\) -->\n<g id=\"edge21\" class=\"edge\">\n<title>\\(F01_S01\\)&#45;&gt;\\(S_F\\)</title>\n<path fill=\"none\" stroke=\"#000000\" d=\"M435.5671,-258.2558C450.8206,-250.8876 467.5571,-242.8031 482.1414,-235.7583\"/>\n<polygon fill=\"#000000\" stroke=\"#000000\" points=\"483.8952,-238.7981 491.3773,-231.2969 480.8504,-232.4949 483.8952,-238.7981\"/>\n<text text-anchor=\"middle\" x=\"464.4775\" y=\"-250.8\" font-family=\"Times,serif\" font-size=\"14.00\" fill=\"#000000\">0 </text>\n</g>\n<!-- \\(F01_S01\\)&#45;&gt;\\(IF_I\\) -->\n<g id=\"edge2\" class=\"edge\">\n<title>\\(F01_S01\\)&#45;&gt;\\(IF_I\\)</title>\n<path fill=\"none\" stroke=\"#000000\" d=\"M353.392,-319.4152C335.737,-335.9049 312.9155,-353.3472 288.4867,-362 253.0894,-374.5379 238.533,-376.7391 203.9942,-362 180.7954,-352.1001 161.0754,-331.8713 146.9603,-313.7459\"/>\n<polygon fill=\"#000000\" stroke=\"#000000\" points=\"149.6686,-311.5232 140.877,-305.6107 144.0626,-315.7153 149.6686,-311.5232\"/>\n<text text-anchor=\"middle\" x=\"246.2405\" y=\"-375.8\" font-family=\"Times,serif\" font-size=\"14.00\" fill=\"#000000\">1 </text>\n</g>\n<!-- \\(S0_F\\)&#45;&gt;\\(S0_S0\\) -->\n<g id=\"edge15\" class=\"edge\">\n<title>\\(S0_F\\)&#45;&gt;\\(S0_S0\\)</title>\n<path fill=\"none\" stroke=\"#000000\" d=\"M813.5549,-165.027C827.7071,-171.8089 844.4528,-179.8336 859.853,-187.2135\"/>\n<polygon fill=\"#000000\" stroke=\"#000000\" points=\"858.702,-190.5431 869.2326,-191.7083 861.7271,-184.2304 858.702,-190.5431\"/>\n<text text-anchor=\"middle\" x=\"841.1569\" y=\"-182.8\" font-family=\"Times,serif\" font-size=\"14.00\" fill=\"#000000\">0 </text>\n</g>\n<!-- \\(S0_F\\)&#45;&gt;\\(S01_S01\\) -->\n<g id=\"edge11\" class=\"edge\">\n<title>\\(S0_F\\)&#45;&gt;\\(S01_S01\\)</title>\n<path fill=\"none\" stroke=\"#000000\" d=\"M817.3477,-146.3359C832.2111,-145.3966 849.4856,-144.4603 865.1569,-144 902.6929,-142.8976 912.2799,-140.2995 949.6494,-144 962.4389,-145.2665 976.0158,-147.4229 988.9051,-149.8627\"/>\n<polygon fill=\"#000000\" stroke=\"#000000\" points=\"988.5779,-153.3656 999.0664,-151.8686 989.9336,-146.4981 988.5779,-153.3656\"/>\n<text text-anchor=\"middle\" x=\"907.4031\" y=\"-147.8\" font-family=\"Times,serif\" font-size=\"14.00\" fill=\"#000000\">1 </text>\n</g>\n<!-- \\(S_F\\)&#45;&gt;\\(S0_S0\\) -->\n<g id=\"edge24\" class=\"edge\">\n<title>\\(S_F\\)&#45;&gt;\\(S0_S0\\)</title>\n<path fill=\"none\" stroke=\"#000000\" d=\"M553.5883,-216.4092C620.3709,-215.1995 773.2194,-212.4307 854.4262,-210.9597\"/>\n<polygon fill=\"#000000\" stroke=\"#000000\" points=\"854.9818,-214.4503 864.9167,-210.7696 854.8549,-207.4514 854.9818,-214.4503\"/>\n<text text-anchor=\"middle\" x=\"719.0634\" y=\"-216.8\" font-family=\"Times,serif\" font-size=\"14.00\" fill=\"#000000\">0 </text>\n</g>\n<!-- \\(S_F\\)&#45;&gt;\\(S1_S01\\) -->\n<g id=\"edge12\" class=\"edge\">\n<title>\\(S_F\\)&#45;&gt;\\(S1_S01\\)</title>\n<path fill=\"none\" stroke=\"#000000\" d=\"M549.2251,-200.3551C563.8203,-191.7557 582.0568,-181.0109 598.8895,-171.0932\"/>\n<polygon fill=\"#000000\" stroke=\"#000000\" points=\"600.6983,-174.0899 607.5373,-165.998 597.1448,-168.0588 600.6983,-174.0899\"/>\n<text text-anchor=\"middle\" x=\"577.4717\" y=\"-189.8\" font-family=\"Times,serif\" font-size=\"14.00\" fill=\"#000000\">1 </text>\n</g>\n<!-- \\(IF_I\\)&#45;&gt;\\(IF_I\\) -->\n<g id=\"edge3\" class=\"edge\">\n<title>\\(IF_I\\)&#45;&gt;\\(IF_I\\)</title>\n<path fill=\"none\" stroke=\"#000000\" d=\"M114.1221,-309.5607C114.1221,-320.0809 117.2471,-328.4971 123.4971,-328.4971 127.501,-328.4971 130.2224,-325.0431 131.6613,-319.7946\"/>\n<polygon fill=\"#000000\" stroke=\"#000000\" points=\"135.1729,-319.9027 132.8721,-309.5607 128.2214,-319.0802 135.1729,-319.9027\"/>\n<text text-anchor=\"middle\" x=\"123.4971\" y=\"-332.2971\" font-family=\"Times,serif\" font-size=\"14.00\" fill=\"#000000\">1 </text>\n</g>\n<!-- \\(F0_S0\\) -->\n<g id=\"node10\" class=\"node\">\n<title>\\(F0_S0\\)</title>\n<ellipse fill=\"none\" stroke=\"#000000\" cx=\"246.2405\" cy=\"-278\" rx=\"42.4939\" ry=\"42.4939\"/>\n<text text-anchor=\"middle\" x=\"246.2405\" y=\"-274.3\" font-family=\"Times,serif\" font-size=\"14.00\" fill=\"#000000\">(F0_S0)</text>\n</g>\n<!-- \\(IF_I\\)&#45;&gt;\\(F0_S0\\) -->\n<g id=\"edge22\" class=\"edge\">\n<title>\\(IF_I\\)&#45;&gt;\\(F0_S0\\)</title>\n<path fill=\"none\" stroke=\"#000000\" d=\"M156.0678,-278C167.6123,-278 180.9151,-278 193.6962,-278\"/>\n<polygon fill=\"#000000\" stroke=\"#000000\" points=\"193.7911,-281.5001 203.791,-278 193.791,-274.5001 193.7911,-281.5001\"/>\n<text text-anchor=\"middle\" x=\"179.9942\" y=\"-281.8\" font-family=\"Times,serif\" font-size=\"14.00\" fill=\"#000000\">0 </text>\n</g>\n<!-- \\(F0_S0\\)&#45;&gt;\\(F01_S01\\) -->\n<g id=\"edge23\" class=\"edge\">\n<title>\\(F0_S0\\)&#45;&gt;\\(F01_S01\\)</title>\n<path fill=\"none\" stroke=\"#000000\" d=\"M288.5325,-278.892C300.3577,-279.1414 313.4628,-279.4178 326.1853,-279.6861\"/>\n<polygon fill=\"#000000\" stroke=\"#000000\" points=\"326.203,-283.1872 336.2747,-279.8989 326.3507,-276.1887 326.203,-283.1872\"/>\n<text text-anchor=\"middle\" x=\"312.4867\" y=\"-282.8\" font-family=\"Times,serif\" font-size=\"14.00\" fill=\"#000000\">1 </text>\n</g>\n<!-- \\(F0_S0\\)&#45;&gt;\\(F0_S0\\) -->\n<g id=\"edge17\" class=\"edge\">\n<title>\\(F0_S0\\)&#45;&gt;\\(F0_S0\\)</title>\n<path fill=\"none\" stroke=\"#000000\" d=\"M233.941,-318.5461C234.5352,-329.7128 238.635,-338.2463 246.2405,-338.2463 251.3504,-338.2463 254.8778,-334.3941 256.8227,-328.4793\"/>\n<polygon fill=\"#000000\" stroke=\"#000000\" points=\"260.2852,-328.9962 258.54,-318.5461 253.3876,-327.8037 260.2852,-328.9962\"/>\n<text text-anchor=\"middle\" x=\"246.2405\" y=\"-342.0463\" font-family=\"Times,serif\" font-size=\"14.00\" fill=\"#000000\">0 </text>\n</g>\n<!-- \\(IF_S01\\) -->\n<g id=\"node11\" class=\"node\">\n<title>\\(IF_S01\\)</title>\n<ellipse fill=\"none\" stroke=\"#000000\" cx=\"1320.6799\" cy=\"-70\" rx=\"44.6926\" ry=\"44.6926\"/>\n<text text-anchor=\"middle\" x=\"1320.6799\" y=\"-66.3\" font-family=\"Times,serif\" font-size=\"14.00\" fill=\"#000000\">(IF_S01)</text>\n</g>\n<!-- \\(IF_S01\\)&#45;&gt;\\(IF_I\\) -->\n<g id=\"edge4\" class=\"edge\">\n<title>\\(IF_S01\\)&#45;&gt;\\(IF_I\\)</title>\n<path fill=\"none\" stroke=\"#000000\" d=\"M1286.8589,-40.3137C1261.6124,-21.2352 1225.2995,0 1188.737,0 246.2405,0 246.2405,0 246.2405,0 195.2436,0 151.2721,-158.5331 132.7971,-236.1643\"/>\n<polygon fill=\"#000000\" stroke=\"#000000\" points=\"129.3404,-235.5748 130.4645,-246.1099 136.1555,-237.1733 129.3404,-235.5748\"/>\n<text text-anchor=\"middle\" x=\"719.0634\" y=\"-3.8\" font-family=\"Times,serif\" font-size=\"14.00\" fill=\"#000000\">1 </text>\n</g>\n<!-- \\(F0_F\\) -->\n<g id=\"node12\" class=\"node\">\n<title>\\(F0_F\\)</title>\n<ellipse fill=\"none\" stroke=\"#000000\" cx=\"1454.5727\" cy=\"-321\" rx=\"37.0889\" ry=\"37.0889\"/>\n<ellipse fill=\"none\" stroke=\"#000000\" cx=\"1454.5727\" cy=\"-321\" rx=\"41.0935\" ry=\"41.0935\"/>\n<text text-anchor=\"middle\" x=\"1454.5727\" y=\"-317.3\" font-family=\"Times,serif\" font-size=\"14.00\" fill=\"#000000\">(F0_F)</text>\n</g>\n<!-- \\(IF_S01\\)&#45;&gt;\\(F0_F\\) -->\n<g id=\"edge19\" class=\"edge\">\n<title>\\(IF_S01\\)&#45;&gt;\\(F0_F\\)</title>\n<path fill=\"none\" stroke=\"#000000\" d=\"M1341.8956,-109.7717C1365.9528,-154.8701 1405.1018,-228.2601 1430.3413,-275.575\"/>\n<polygon fill=\"#000000\" stroke=\"#000000\" points=\"1427.4004,-277.4984 1435.1952,-284.6743 1433.5766,-274.2038 1427.4004,-277.4984\"/>\n<text text-anchor=\"middle\" x=\"1389.526\" y=\"-206.8\" font-family=\"Times,serif\" font-size=\"14.00\" fill=\"#000000\">0 </text>\n</g>\n<!-- \\(F0_F\\)&#45;&gt;\\(F01_S01\\) -->\n<g id=\"edge18\" class=\"edge\">\n<title>\\(F0_F\\)&#45;&gt;\\(F01_S01\\)</title>\n<path fill=\"none\" stroke=\"#000000\" d=\"M1413.2557,-321C1386.7905,-321 1351.7124,-321 1320.6799,-321 520.9746,-321 520.9746,-321 520.9746,-321 495.5354,-321 468.4762,-314.1583 445.4882,-306.1339\"/>\n<polygon fill=\"#000000\" stroke=\"#000000\" points=\"446.496,-302.776 435.902,-302.639 444.0983,-309.3526 446.496,-302.776\"/>\n<text text-anchor=\"middle\" x=\"907.4031\" y=\"-324.8\" font-family=\"Times,serif\" font-size=\"14.00\" fill=\"#000000\">1 </text>\n</g>\n<!-- \\(F0_F\\)&#45;&gt;\\(F0_S0\\) -->\n<g id=\"edge25\" class=\"edge\">\n<title>\\(F0_F\\)&#45;&gt;\\(F0_S0\\)</title>\n<path fill=\"none\" stroke=\"#000000\" d=\"M1417.7842,-339.6103C1391.4365,-351.2316 1354.7383,-364 1320.6799,-364 388.4821,-364 388.4821,-364 388.4821,-364 348.4284,-364 309.9938,-338.7192 283.197,-315.5713\"/>\n<polygon fill=\"#000000\" stroke=\"#000000\" points=\"285.4038,-312.8496 275.6113,-308.8051 280.7442,-318.0735 285.4038,-312.8496\"/>\n<text text-anchor=\"middle\" x=\"841.1569\" y=\"-367.8\" font-family=\"Times,serif\" font-size=\"14.00\" fill=\"#000000\">0 </text>\n</g>\n<!-- \\(IF_F\\)&#45;&gt;\\(F0_S0\\) -->\n<g id=\"edge8\" class=\"edge\">\n<title>\\(IF_F\\)&#45;&gt;\\(F0_S0\\)</title>\n<path fill=\"none\" stroke=\"#000000\" d=\"M1151.78,-56.7071C1124.0522,-47.9152 1084.9545,-38 1049.6448,-38 388.4821,-38 388.4821,-38 388.4821,-38 301.8082,-38 266.8045,-155.2711 253.5854,-225.8635\"/>\n<polygon fill=\"#000000\" stroke=\"#000000\" points=\"250.102,-225.461 251.7895,-235.9206 256.993,-226.6915 250.102,-225.461\"/>\n<text text-anchor=\"middle\" x=\"719.0634\" y=\"-41.8\" font-family=\"Times,serif\" font-size=\"14.00\" fill=\"#000000\">0 </text>\n</g>\n<!-- \\(IF_F\\)&#45;&gt;\\(IF_S01\\) -->\n<g id=\"edge20\" class=\"edge\">\n<title>\\(IF_F\\)&#45;&gt;\\(IF_S01\\)</title>\n<path fill=\"none\" stroke=\"#000000\" d=\"M1227.967,-70C1239.8351,-70 1253.093,-70 1265.7875,-70\"/>\n<polygon fill=\"#000000\" stroke=\"#000000\" points=\"1265.8102,-73.5001 1275.8101,-70 1265.8101,-66.5001 1265.8102,-73.5001\"/>\n<text text-anchor=\"middle\" x=\"1251.8339\" y=\"-73.8\" font-family=\"Times,serif\" font-size=\"14.00\" fill=\"#000000\">1 </text>\n</g>\n</g>\n</svg>\n"
          },
          "metadata": {
            "tags": []
          },
          "execution_count": 11
        }
      ]
    },
    {
      "cell_type": "markdown",
      "metadata": {
        "id": "Gv8VS5GXFOWG"
      },
      "source": [
        "## Minimize the intersection of Even010 and Ends010"
      ]
    },
    {
      "cell_type": "code",
      "metadata": {
        "colab": {
          "base_uri": "https://localhost:8080/",
          "height": 472
        },
        "id": "dx-4d26xFOWG",
        "outputId": "59048c97-3a84-412f-95e8-683e5d714785"
      },
      "source": [
        "min_Even010_Ends010 = min_dfa(Even010_Ends010)\n",
        "dotObj_dfa(min_Even010_Ends010)"
      ],
      "execution_count": 12,
      "outputs": [
        {
          "output_type": "execute_result",
          "data": {
            "text/plain": [
              "<graphviz.dot.Digraph at 0x7efcbebe6f98>"
            ],
            "image/svg+xml": "<?xml version=\"1.0\" encoding=\"UTF-8\" standalone=\"no\"?>\n<!DOCTYPE svg PUBLIC \"-//W3C//DTD SVG 1.1//EN\"\n \"http://www.w3.org/Graphics/SVG/1.1/DTD/svg11.dtd\">\n<!-- Generated by graphviz version 2.40.1 (20161225.0304)\n -->\n<!-- Title: %3 Pages: 1 -->\n<svg width=\"1269pt\" height=\"323pt\"\n viewBox=\"0.00 0.00 1268.53 323.00\" xmlns=\"http://www.w3.org/2000/svg\" xmlns:xlink=\"http://www.w3.org/1999/xlink\">\n<g id=\"graph0\" class=\"graph\" transform=\"scale(1 1) rotate(0) translate(4 319)\">\n<title>%3</title>\n<polygon fill=\"#ffffff\" stroke=\"transparent\" points=\"-4,4 -4,-319 1264.5317,-319 1264.5317,4 -4,4\"/>\n<!-- EMPTY -->\n<g id=\"node1\" class=\"node\">\n<title>EMPTY</title>\n</g>\n<!-- \\(IF_I\\) -->\n<g id=\"node6\" class=\"node\">\n<title>\\(IF_I\\)</title>\n<ellipse fill=\"none\" stroke=\"#000000\" cx=\"123.4971\" cy=\"-73\" rx=\"32.4942\" ry=\"32.4942\"/>\n<text text-anchor=\"middle\" x=\"123.4971\" y=\"-69.3\" font-family=\"Times,serif\" font-size=\"14.00\" fill=\"#000000\">(IF_I)</text>\n</g>\n<!-- EMPTY&#45;&gt;\\(IF_I\\) -->\n<g id=\"edge1\" class=\"edge\">\n<title>EMPTY&#45;&gt;\\(IF_I\\)</title>\n<path fill=\"none\" stroke=\"#000000\" d=\"M54.1366,-73C62.3991,-73 71.6905,-73 80.7226,-73\"/>\n<polygon fill=\"#000000\" stroke=\"#000000\" points=\"80.7414,-76.5001 90.7413,-73 80.7413,-69.5001 80.7414,-76.5001\"/>\n</g>\n<!-- \\(S0_S0\\) -->\n<g id=\"node2\" class=\"node\">\n<title>\\(S0_S0\\)</title>\n<ellipse fill=\"none\" stroke=\"#000000\" cx=\"672.3155\" cy=\"-146\" rx=\"42.4939\" ry=\"42.4939\"/>\n<text text-anchor=\"middle\" x=\"672.3155\" y=\"-142.3\" font-family=\"Times,serif\" font-size=\"14.00\" fill=\"#000000\">(S0_S0)</text>\n</g>\n<!-- \\(S0_S0\\)&#45;&gt;\\(S0_S0\\) -->\n<g id=\"edge9\" class=\"edge\">\n<title>\\(S0_S0\\)&#45;&gt;\\(S0_S0\\)</title>\n<path fill=\"none\" stroke=\"#000000\" d=\"M660.016,-186.5461C660.6102,-197.7128 664.71,-206.2463 672.3155,-206.2463 677.4254,-206.2463 680.9528,-202.3941 682.8977,-196.4793\"/>\n<polygon fill=\"#000000\" stroke=\"#000000\" points=\"686.3602,-196.9962 684.6149,-186.5461 679.4625,-195.8037 686.3602,-196.9962\"/>\n<text text-anchor=\"middle\" x=\"672.3155\" y=\"-210.0463\" font-family=\"Times,serif\" font-size=\"14.00\" fill=\"#000000\">0 </text>\n</g>\n<!-- \\(S01_S01\\) -->\n<g id=\"node3\" class=\"node\">\n<title>\\(S01_S01\\)</title>\n<ellipse fill=\"none\" stroke=\"#000000\" cx=\"814.5571\" cy=\"-156\" rx=\"51.9908\" ry=\"51.9908\"/>\n<text text-anchor=\"middle\" x=\"814.5571\" y=\"-152.3\" font-family=\"Times,serif\" font-size=\"14.00\" fill=\"#000000\">(S01_S01)</text>\n</g>\n<!-- \\(S0_S0\\)&#45;&gt;\\(S01_S01\\) -->\n<g id=\"edge10\" class=\"edge\">\n<title>\\(S0_S0\\)&#45;&gt;\\(S01_S01\\)</title>\n<path fill=\"none\" stroke=\"#000000\" d=\"M714.6075,-148.9733C726.4973,-149.8091 739.681,-150.736 752.4688,-151.635\"/>\n<polygon fill=\"#000000\" stroke=\"#000000\" points=\"752.3862,-155.1378 762.6071,-152.3478 752.8772,-148.155 752.3862,-155.1378\"/>\n<text text-anchor=\"middle\" x=\"738.5617\" y=\"-154.8\" font-family=\"Times,serif\" font-size=\"14.00\" fill=\"#000000\">1 </text>\n</g>\n<!-- \\(S1_S01\\) -->\n<g id=\"node4\" class=\"node\">\n<title>\\(S1_S01\\)</title>\n<ellipse fill=\"none\" stroke=\"#000000\" cx=\"535.2734\" cy=\"-184\" rx=\"46.5926\" ry=\"46.5926\"/>\n<text text-anchor=\"middle\" x=\"535.2734\" y=\"-180.3\" font-family=\"Times,serif\" font-size=\"14.00\" fill=\"#000000\">(S1_S01)</text>\n</g>\n<!-- \\(S01_S01\\)&#45;&gt;\\(S1_S01\\) -->\n<g id=\"edge11\" class=\"edge\">\n<title>\\(S01_S01\\)&#45;&gt;\\(S1_S01\\)</title>\n<path fill=\"none\" stroke=\"#000000\" d=\"M777.0389,-192.7105C759.5447,-207.3134 737.5335,-222.4244 714.5617,-230 678.8987,-241.7608 666.6674,-238.4107 630.0692,-230 614.567,-226.4374 598.6593,-219.988 584.4099,-213.0238\"/>\n<polygon fill=\"#000000\" stroke=\"#000000\" points=\"585.8072,-209.8079 575.3065,-208.3982 582.6362,-216.0485 585.8072,-209.8079\"/>\n<text text-anchor=\"middle\" x=\"672.3155\" y=\"-240.8\" font-family=\"Times,serif\" font-size=\"14.00\" fill=\"#000000\">1 </text>\n</g>\n<!-- \\(IF_F\\) -->\n<g id=\"node10\" class=\"node\">\n<title>\\(IF_F\\)</title>\n<ellipse fill=\"none\" stroke=\"#000000\" cx=\"953.6494\" cy=\"-111\" rx=\"35.1841\" ry=\"35.1841\"/>\n<ellipse fill=\"none\" stroke=\"#000000\" cx=\"953.6494\" cy=\"-111\" rx=\"39.194\" ry=\"39.194\"/>\n<text text-anchor=\"middle\" x=\"953.6494\" y=\"-107.3\" font-family=\"Times,serif\" font-size=\"14.00\" fill=\"#000000\">(IF_F)</text>\n</g>\n<!-- \\(S01_S01\\)&#45;&gt;\\(IF_F\\) -->\n<g id=\"edge6\" class=\"edge\">\n<title>\\(S01_S01\\)&#45;&gt;\\(IF_F\\)</title>\n<path fill=\"none\" stroke=\"#000000\" d=\"M864.3797,-139.8811C878.1795,-135.4165 893.1088,-130.5865 906.7367,-126.1775\"/>\n<polygon fill=\"#000000\" stroke=\"#000000\" points=\"907.9581,-129.461 916.3952,-123.0527 905.8033,-122.8009 907.9581,-129.461\"/>\n<text text-anchor=\"middle\" x=\"890.5525\" y=\"-136.8\" font-family=\"Times,serif\" font-size=\"14.00\" fill=\"#000000\">0 </text>\n</g>\n<!-- \\(S1_S01\\)&#45;&gt;\\(S0_S0\\) -->\n<g id=\"edge8\" class=\"edge\">\n<title>\\(S1_S01\\)&#45;&gt;\\(S0_S0\\)</title>\n<path fill=\"none\" stroke=\"#000000\" d=\"M580.5259,-171.4521C593.5726,-167.8344 607.8964,-163.8626 621.2687,-160.1546\"/>\n<polygon fill=\"#000000\" stroke=\"#000000\" points=\"622.5711,-163.4256 631.2723,-157.3807 620.7007,-156.6801 622.5711,-163.4256\"/>\n<text text-anchor=\"middle\" x=\"606.0692\" y=\"-168.8\" font-family=\"Times,serif\" font-size=\"14.00\" fill=\"#000000\">0 </text>\n</g>\n<!-- \\(S1_S01\\)&#45;&gt;\\(S1_S01\\) -->\n<g id=\"edge5\" class=\"edge\">\n<title>\\(S1_S01\\)&#45;&gt;\\(S1_S01\\)</title>\n<path fill=\"none\" stroke=\"#000000\" d=\"M522.3286,-229.1189C523.2338,-240.3793 527.5487,-248.7958 535.2734,-248.7958 540.4633,-248.7958 544.1141,-244.9965 546.2257,-239.0879\"/>\n<polygon fill=\"#000000\" stroke=\"#000000\" points=\"549.6903,-239.611 548.2181,-229.1189 542.8261,-238.239 549.6903,-239.611\"/>\n<text text-anchor=\"middle\" x=\"535.2734\" y=\"-252.5958\" font-family=\"Times,serif\" font-size=\"14.00\" fill=\"#000000\">1 </text>\n</g>\n<!-- \\(F01_S01\\) -->\n<g id=\"node5\" class=\"node\">\n<title>\\(F01_S01\\)</title>\n<ellipse fill=\"none\" stroke=\"#000000\" cx=\"388.4821\" cy=\"-184\" rx=\"51.9908\" ry=\"51.9908\"/>\n<text text-anchor=\"middle\" x=\"388.4821\" y=\"-180.3\" font-family=\"Times,serif\" font-size=\"14.00\" fill=\"#000000\">(F01_S01)</text>\n</g>\n<!-- \\(F01_S01\\)&#45;&gt;\\(S1_S01\\) -->\n<g id=\"edge16\" class=\"edge\">\n<title>\\(F01_S01\\)&#45;&gt;\\(S1_S01\\)</title>\n<path fill=\"none\" stroke=\"#000000\" d=\"M440.6485,-184C452.752,-184 465.6981,-184 478.0075,-184\"/>\n<polygon fill=\"#000000\" stroke=\"#000000\" points=\"478.1651,-187.5001 488.1651,-184 478.1651,-180.5001 478.1651,-187.5001\"/>\n<text text-anchor=\"middle\" x=\"464.4775\" y=\"-187.8\" font-family=\"Times,serif\" font-size=\"14.00\" fill=\"#000000\">0 </text>\n</g>\n<!-- \\(F01_S01\\)&#45;&gt;\\(IF_I\\) -->\n<g id=\"edge2\" class=\"edge\">\n<title>\\(F01_S01\\)&#45;&gt;\\(IF_I\\)</title>\n<path fill=\"none\" stroke=\"#000000\" d=\"M336.428,-185.2606C297.8816,-184.1504 245.1379,-178.2113 203.9942,-157 182.0858,-145.7053 162.773,-126.0914 148.5594,-108.6561\"/>\n<polygon fill=\"#000000\" stroke=\"#000000\" points=\"150.9352,-106.0151 142.0025,-100.318 145.4327,-110.3422 150.9352,-106.0151\"/>\n<text text-anchor=\"middle\" x=\"246.2405\" y=\"-184.8\" font-family=\"Times,serif\" font-size=\"14.00\" fill=\"#000000\">1 </text>\n</g>\n<!-- \\(IF_I\\)&#45;&gt;\\(IF_I\\) -->\n<g id=\"edge3\" class=\"edge\">\n<title>\\(IF_I\\)&#45;&gt;\\(IF_I\\)</title>\n<path fill=\"none\" stroke=\"#000000\" d=\"M114.1221,-104.5607C114.1221,-115.0809 117.2471,-123.4971 123.4971,-123.4971 127.501,-123.4971 130.2224,-120.0431 131.6613,-114.7946\"/>\n<polygon fill=\"#000000\" stroke=\"#000000\" points=\"135.1729,-114.9027 132.8721,-104.5607 128.2214,-114.0802 135.1729,-114.9027\"/>\n<text text-anchor=\"middle\" x=\"123.4971\" y=\"-127.2971\" font-family=\"Times,serif\" font-size=\"14.00\" fill=\"#000000\">1 </text>\n</g>\n<!-- \\(F0_S0\\) -->\n<g id=\"node7\" class=\"node\">\n<title>\\(F0_S0\\)</title>\n<ellipse fill=\"none\" stroke=\"#000000\" cx=\"246.2405\" cy=\"-73\" rx=\"42.4939\" ry=\"42.4939\"/>\n<text text-anchor=\"middle\" x=\"246.2405\" y=\"-69.3\" font-family=\"Times,serif\" font-size=\"14.00\" fill=\"#000000\">(F0_S0)</text>\n</g>\n<!-- \\(IF_I\\)&#45;&gt;\\(F0_S0\\) -->\n<g id=\"edge17\" class=\"edge\">\n<title>\\(IF_I\\)&#45;&gt;\\(F0_S0\\)</title>\n<path fill=\"none\" stroke=\"#000000\" d=\"M156.0678,-73C167.6123,-73 180.9151,-73 193.6962,-73\"/>\n<polygon fill=\"#000000\" stroke=\"#000000\" points=\"193.7911,-76.5001 203.791,-73 193.791,-69.5001 193.7911,-76.5001\"/>\n<text text-anchor=\"middle\" x=\"179.9942\" y=\"-76.8\" font-family=\"Times,serif\" font-size=\"14.00\" fill=\"#000000\">0 </text>\n</g>\n<!-- \\(F0_S0\\)&#45;&gt;\\(F01_S01\\) -->\n<g id=\"edge18\" class=\"edge\">\n<title>\\(F0_S0\\)&#45;&gt;\\(F01_S01\\)</title>\n<path fill=\"none\" stroke=\"#000000\" d=\"M279.5898,-99.0246C297.4159,-112.9354 319.7019,-130.3265 339.461,-145.7458\"/>\n<polygon fill=\"#000000\" stroke=\"#000000\" points=\"337.429,-148.5997 347.466,-151.9925 341.7355,-143.0811 337.429,-148.5997\"/>\n<text text-anchor=\"middle\" x=\"312.4867\" y=\"-132.8\" font-family=\"Times,serif\" font-size=\"14.00\" fill=\"#000000\">1 </text>\n</g>\n<!-- \\(F0_S0\\)&#45;&gt;\\(F0_S0\\) -->\n<g id=\"edge12\" class=\"edge\">\n<title>\\(F0_S0\\)&#45;&gt;\\(F0_S0\\)</title>\n<path fill=\"none\" stroke=\"#000000\" d=\"M233.941,-113.5461C234.5352,-124.7128 238.635,-133.2463 246.2405,-133.2463 251.3504,-133.2463 254.8778,-129.3941 256.8227,-123.4793\"/>\n<polygon fill=\"#000000\" stroke=\"#000000\" points=\"260.2852,-123.9962 258.54,-113.5461 253.3876,-122.8037 260.2852,-123.9962\"/>\n<text text-anchor=\"middle\" x=\"246.2405\" y=\"-137.0463\" font-family=\"Times,serif\" font-size=\"14.00\" fill=\"#000000\">0 </text>\n</g>\n<!-- \\(IF_S01\\) -->\n<g id=\"node8\" class=\"node\">\n<title>\\(IF_S01\\)</title>\n<ellipse fill=\"none\" stroke=\"#000000\" cx=\"1085.5923\" cy=\"-111\" rx=\"44.6926\" ry=\"44.6926\"/>\n<text text-anchor=\"middle\" x=\"1085.5923\" y=\"-107.3\" font-family=\"Times,serif\" font-size=\"14.00\" fill=\"#000000\">(IF_S01)</text>\n</g>\n<!-- \\(IF_S01\\)&#45;&gt;\\(IF_I\\) -->\n<g id=\"edge4\" class=\"edge\">\n<title>\\(IF_S01\\)&#45;&gt;\\(IF_I\\)</title>\n<path fill=\"none\" stroke=\"#000000\" d=\"M1061.8516,-72.8001C1038.6301,-40.6918 1000.0481,0 953.6494,0 246.2405,0 246.2405,0 246.2405,0 210.8225,0 176.7122,-22.7307 153.4786,-42.824\"/>\n<polygon fill=\"#000000\" stroke=\"#000000\" points=\"151.1405,-40.2196 146.0302,-49.5005 155.8128,-45.4321 151.1405,-40.2196\"/>\n<text text-anchor=\"middle\" x=\"606.0692\" y=\"-3.8\" font-family=\"Times,serif\" font-size=\"14.00\" fill=\"#000000\">1 </text>\n</g>\n<!-- \\(F0_F\\) -->\n<g id=\"node9\" class=\"node\">\n<title>\\(F0_F\\)</title>\n<ellipse fill=\"none\" stroke=\"#000000\" cx=\"1219.485\" cy=\"-111\" rx=\"37.0889\" ry=\"37.0889\"/>\n<ellipse fill=\"none\" stroke=\"#000000\" cx=\"1219.485\" cy=\"-111\" rx=\"41.0935\" ry=\"41.0935\"/>\n<text text-anchor=\"middle\" x=\"1219.485\" y=\"-107.3\" font-family=\"Times,serif\" font-size=\"14.00\" fill=\"#000000\">(F0_F)</text>\n</g>\n<!-- \\(IF_S01\\)&#45;&gt;\\(F0_F\\) -->\n<g id=\"edge14\" class=\"edge\">\n<title>\\(IF_S01\\)&#45;&gt;\\(F0_F\\)</title>\n<path fill=\"none\" stroke=\"#000000\" d=\"M1130.5491,-111C1142.5383,-111 1155.586,-111 1167.9006,-111\"/>\n<polygon fill=\"#000000\" stroke=\"#000000\" points=\"1168.0332,-114.5001 1178.0332,-111 1168.0331,-107.5001 1168.0332,-114.5001\"/>\n<text text-anchor=\"middle\" x=\"1154.4383\" y=\"-114.8\" font-family=\"Times,serif\" font-size=\"14.00\" fill=\"#000000\">0 </text>\n</g>\n<!-- \\(F0_F\\)&#45;&gt;\\(F01_S01\\) -->\n<g id=\"edge13\" class=\"edge\">\n<title>\\(F0_F\\)&#45;&gt;\\(F01_S01\\)</title>\n<path fill=\"none\" stroke=\"#000000\" d=\"M1210.2278,-151.082C1194.7633,-206.5613 1157.9738,-300 1085.5923,-300 535.2734,-300 535.2734,-300 535.2734,-300 490.3577,-300 451.1356,-266.1542 424.5613,-235.027\"/>\n<polygon fill=\"#000000\" stroke=\"#000000\" points=\"427.1528,-232.6686 418.0819,-227.1941 421.759,-237.1304 427.1528,-232.6686\"/>\n<text text-anchor=\"middle\" x=\"814.5571\" y=\"-303.8\" font-family=\"Times,serif\" font-size=\"14.00\" fill=\"#000000\">1 </text>\n</g>\n<!-- \\(F0_F\\)&#45;&gt;\\(F0_S0\\) -->\n<g id=\"edge19\" class=\"edge\">\n<title>\\(F0_F\\)&#45;&gt;\\(F0_S0\\)</title>\n<path fill=\"none\" stroke=\"#000000\" d=\"M1189.2825,-83.1936C1163.6656,-62.5638 1124.9087,-38 1085.5923,-38 388.4821,-38 388.4821,-38 388.4821,-38 356.8857,-38 322.455,-46.2438 295.3832,-54.7296\"/>\n<polygon fill=\"#000000\" stroke=\"#000000\" points=\"294.1925,-51.4362 285.7612,-57.8521 296.3533,-58.0944 294.1925,-51.4362\"/>\n<text text-anchor=\"middle\" x=\"738.5617\" y=\"-41.8\" font-family=\"Times,serif\" font-size=\"14.00\" fill=\"#000000\">0 </text>\n</g>\n<!-- \\(IF_F\\)&#45;&gt;\\(F0_S0\\) -->\n<g id=\"edge7\" class=\"edge\">\n<title>\\(IF_F\\)&#45;&gt;\\(F0_S0\\)</title>\n<path fill=\"none\" stroke=\"#000000\" d=\"M917.0857,-96.5621C889.3929,-86.9209 850.1651,-76 814.5571,-76 388.4821,-76 388.4821,-76 388.4821,-76 358.8264,-76 325.7006,-75.3401 298.8825,-74.6393\"/>\n<polygon fill=\"#000000\" stroke=\"#000000\" points=\"298.6502,-71.1319 288.559,-74.3596 298.4605,-78.1293 298.6502,-71.1319\"/>\n<text text-anchor=\"middle\" x=\"606.0692\" y=\"-79.8\" font-family=\"Times,serif\" font-size=\"14.00\" fill=\"#000000\">0 </text>\n</g>\n<!-- \\(IF_F\\)&#45;&gt;\\(IF_S01\\) -->\n<g id=\"edge15\" class=\"edge\">\n<title>\\(IF_F\\)&#45;&gt;\\(IF_S01\\)</title>\n<path fill=\"none\" stroke=\"#000000\" d=\"M992.8794,-111C1004.7474,-111 1018.0054,-111 1030.6999,-111\"/>\n<polygon fill=\"#000000\" stroke=\"#000000\" points=\"1030.7225,-114.5001 1040.7225,-111 1030.7224,-107.5001 1030.7225,-114.5001\"/>\n<text text-anchor=\"middle\" x=\"1016.7463\" y=\"-114.8\" font-family=\"Times,serif\" font-size=\"14.00\" fill=\"#000000\">1 </text>\n</g>\n</g>\n</svg>\n"
          },
          "metadata": {
            "tags": []
          },
          "execution_count": 12
        }
      ]
    },
    {
      "cell_type": "markdown",
      "metadata": {
        "id": "WCTZMe10FOWG"
      },
      "source": [
        "# Task 3: Examine Why Minimization Implies Elimination\n",
        "<font size=\"4\">    \n",
        "    \n",
        "Find out which states were eliminated in the Minimization Process. Explain why it was OK to leave these states out. Test the constructed machine using the template given to you. Finally use the Python \"filter\" function that filters out the accepted strings.\n",
        "    \n",
        "</font>"
      ]
    },
    {
      "cell_type": "markdown",
      "metadata": {
        "id": "r4Z9DZtQFOWG"
      },
      "source": [
        "## Find out which states were eliminated"
      ]
    },
    {
      "cell_type": "code",
      "metadata": {
        "id": "HcizEPcqFOWG"
      },
      "source": [
        "# Hint: You can obtain the components of a DFA D by using the notation D[\"Q\"] where\n",
        "# D is a DFA created using the md2mc command. Basically, \"D\" is a dictionary and \n",
        "# D[\"Q\"] obtains the value of the key at \"Q\". See the lecture slides for Lec-3."
      ],
      "execution_count": null,
      "outputs": []
    },
    {
      "cell_type": "markdown",
      "metadata": {
        "id": "QUQeT3l5FOWG"
      },
      "source": [
        "## Explain why it is OK to leave these states out\n",
        "\n",
        "A template to guide your answer is below."
      ]
    },
    {
      "cell_type": "markdown",
      "metadata": {
        "id": "atS1FltLFOWG"
      },
      "source": [
        "<font size=\"4\"> \n",
        "... Your explanations here - a template of your answer is as follows ...\n",
        "    \n",
        "**This template tries to limit the number of cases you have to list**\n",
        " \n",
        " \n",
        " * I find that state SOMESTATE1 is present in DFA1 but SOMESTATE1 is absent in DFA2 \n",
        " \n",
        " \n",
        "   - I can obtain this info by doing DFA1[\"Q\"] - DFA2[\"Q\"]\n",
        "   - I can also eye-ball the diagrams and spot the missing state\n",
        "   - But I recall that in the diagram, a state may show up P_Q while in the DFA1[\"Q\"] - DFA2[\"Q\"] printout, it may show up as ('P','Q')\n",
        " \n",
        " \n",
        " \n",
        " * If there are multiple *SOMESTATE1* that are missing in DFA2, please pick the one that involves state letter 'I'  and call that the *SOMESTATE1* for the remaining questions BELOW\n",
        " \n",
        " \n",
        " **IMPORTANT CHANGE:** __Due to some non-reproducibility lurking in Jove, some people may not get a state containing \"I\". In that case, pick any one state that is missing, and answer the remaining questions.__\n",
        " \n",
        " * But I find that THIS STRING (pick the shortest string in numeric order) that reached SOMESTATE1 in DFA1 is now reaching state SOMESTATE2 in DFA2\n",
        " \n",
        " * Thus I conclude that state SOMESTATE1 and SOMESTATE2 are equivalent\n",
        " \n",
        " * This is further confirmed by the fact that (**here I am limiting your checks to 3 cases**)\n",
        "   - upon 0, SOMESTATE1 goes to THIS STATE while SOMESTATE2 goes to THIS STATE and they are  BOTH ACCEPTING / BOTH NON-ACCEPTING (pick on)\n",
        "   - upon 1, SOMESTATE1 goes to THIS STATE while SOMESTATE2 goes to THIS STATE and they are  BOTH ACCEPTING / BOTH NON-ACCEPTING (pick on)\n",
        "   upon 01, SOMESTATE1 goes to THIS STATE while SOMESTATE2 goes to THIS STATE and they are  BOTH ACCEPTING / BOTH NON-ACCEPTING (pick on)\n",
        " \n",
        " \n",
        "\n",
        " \n",
        " \n",
        "    \n",
        "</font>"
      ]
    },
    {
      "cell_type": "markdown",
      "metadata": {
        "id": "FniehKe_FOWH"
      },
      "source": [
        "# Testing the machine"
      ]
    },
    {
      "cell_type": "code",
      "metadata": {
        "id": "j-fktyPtFOWH"
      },
      "source": [
        "help(nthnumeric)"
      ],
      "execution_count": null,
      "outputs": []
    },
    {
      "cell_type": "markdown",
      "metadata": {
        "id": "f6arEKx9FOWI"
      },
      "source": [
        "## Test the constructed machine the \"direct\" way"
      ]
    },
    {
      "cell_type": "code",
      "metadata": {
        "id": "JuqaEbN3FOWI"
      },
      "source": [
        "TestList = [ nthnumeric(i, ['0','1']) for i in range(256) ]"
      ],
      "execution_count": null,
      "outputs": []
    },
    {
      "cell_type": "code",
      "metadata": {
        "id": "6gxH5VlVFOWI"
      },
      "source": [
        "TestList"
      ],
      "execution_count": null,
      "outputs": []
    },
    {
      "cell_type": "code",
      "metadata": {
        "id": "RgRHtwlEFOWI"
      },
      "source": [
        "help(accepts_dfa)"
      ],
      "execution_count": null,
      "outputs": []
    },
    {
      "cell_type": "code",
      "metadata": {
        "id": "qB_mGFUoFOWI"
      },
      "source": [
        "for test in TestList:\n",
        "    if accepts_dfa(min_Even010_Ends010, test):\n",
        "        print(\" min_Even010_Ends010 : accepts \", test)\n",
        "    else:\n",
        "        print(\" min_Even010_Ends010 : does not accept \", test)"
      ],
      "execution_count": null,
      "outputs": []
    },
    {
      "cell_type": "markdown",
      "metadata": {
        "id": "YvlGKpo6FOWI"
      },
      "source": [
        "## Use Python's \"filter\" function to filter out the accepted strings directly"
      ]
    },
    {
      "cell_type": "code",
      "metadata": {
        "scrolled": true,
        "id": "mq_otcjjFOWI"
      },
      "source": [
        "list(filter(lambda x: accepts_dfa(min_Even010_Ends010, x), TestList))"
      ],
      "execution_count": null,
      "outputs": []
    },
    {
      "cell_type": "markdown",
      "metadata": {
        "id": "pemorFkwFOWI"
      },
      "source": [
        "## Doubled the testing range; now finding at least ten strings!"
      ]
    },
    {
      "cell_type": "code",
      "metadata": {
        "id": "KFZrgAFgFOWJ"
      },
      "source": [
        "...Your doubled list of filtered items here..."
      ],
      "execution_count": null,
      "outputs": []
    },
    {
      "cell_type": "markdown",
      "metadata": {
        "id": "hLXOjdHRFOWJ"
      },
      "source": [
        "# END"
      ]
    }
  ]
}