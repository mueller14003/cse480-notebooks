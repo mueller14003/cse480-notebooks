{
  "nbformat": 4,
  "nbformat_minor": 0,
  "metadata": {
    "kernelspec": {
      "display_name": "Python 3",
      "language": "python",
      "name": "python3"
    },
    "language_info": {
      "codemirror_mode": {
        "name": "ipython",
        "version": 3
      },
      "file_extension": ".py",
      "mimetype": "text/x-python",
      "name": "python",
      "nbconvert_exporter": "python",
      "pygments_lexer": "ipython3",
      "version": "3.9.0"
    },
    "colab": {
      "name": "03_5_DFA_Problems.ipynb",
      "provenance": [],
      "include_colab_link": true
    }
  },
  "cells": [
    {
      "cell_type": "markdown",
      "metadata": {
        "id": "view-in-github",
        "colab_type": "text"
      },
      "source": [
        "<a href=\"https://colab.research.google.com/github/mueller14003/cse480-notebooks/blob/master/03_5_DFA_Problems.ipynb\" target=\"_parent\"><img src=\"https://colab.research.google.com/assets/colab-badge.svg\" alt=\"Open In Colab\"/></a>"
      ]
    },
    {
      "cell_type": "markdown",
      "metadata": {
        "id": "WaJNQHnCFOV-"
      },
      "source": [
        "# First let's import, then look for the assignment below"
      ]
    },
    {
      "cell_type": "code",
      "metadata": {
        "colab": {
          "base_uri": "https://localhost:8080/"
        },
        "id": "uj8pDhPZFOWD",
        "outputId": "4079c642-82ca-491a-eada-cdc561d3ff02"
      },
      "source": [
        "#~~~~~~~~~~~~~~~~~~~~~~~~~~~~~~~~~~~~~~~~~~~~~~~~~~~~~~~\n",
        "import sys\n",
        "\n",
        "# -- Detect if in Own Install or in Colab\n",
        "try:\n",
        "    import google.colab\n",
        "    OWN_INSTALL = False\n",
        "except:\n",
        "    OWN_INSTALL = True\n",
        "    \n",
        "if OWN_INSTALL:\n",
        "\n",
        "  sys.path[0:0] = ['../../../../..',  '../../../../../3rdparty',  \n",
        "                   '../../../..',  '../../../../3rdparty',  \n",
        "                   '../../..',     '../../../3rdparty', \n",
        "                   '../..',        '../../3rdparty',\n",
        "                   '..',           '../3rdparty' ]\n",
        "\n",
        "else: # In colab\n",
        "  ! if [ ! -d Jove ]; then git clone https://github.com/ganeshutah/Jove Jove; fi\n",
        "  sys.path.append('./Jove')\n",
        "  sys.path.append('./Jove/jove')\n",
        "\n",
        "# -- common imports --\n",
        "from jove.LangDef   import *  #-- mainly for nthnumeric\n",
        "from jove.Def_md2mc import *  #-- for md2mc\n",
        "from jove.Def_DFA   import *  #-- for all DFA functions\n",
        "from jove.DotBashers import * #-- for dotObj_dfa\n",
        "#~~~~~~~~~~~~~~~~~~~~~~~~~~~~~~~~~~~~~~~~~~~~~~~~~~~~~~~"
      ],
      "execution_count": 2,
      "outputs": [
        {
          "output_type": "stream",
          "text": [
            "Cloning into 'Jove'...\n",
            "remote: Enumerating objects: 4634, done.\u001b[K\n",
            "remote: Total 4634 (delta 0), reused 0 (delta 0), pack-reused 4634\u001b[K\n",
            "Receiving objects: 100% (4634/4634), 7.38 MiB | 23.60 MiB/s, done.\n",
            "Resolving deltas: 100% (3005/3005), done.\n",
            "You may use any of these help commands:\n",
            "help(lphi)\n",
            "help(lunit)\n",
            "help(lcat)\n",
            "help(lexp)\n",
            "help(lunion)\n",
            "help(lstar)\n",
            "help(srev)\n",
            "help(lrev)\n",
            "help(shomo)\n",
            "help(lhomo)\n",
            "help(powset)\n",
            "help(lint)\n",
            "help(lsymdiff)\n",
            "help(lminus)\n",
            "help(lissubset)\n",
            "help(lissuperset)\n",
            "help(lcomplem)\n",
            "help(product)\n",
            "help(nthnumeric)\n",
            "\n",
            "You may use any of these help commands:\n",
            "help(md2mc)\n",
            ".. and if you want to dig more, then ..\n",
            "help(default_line_attr)\n",
            "help(length_ok_input_items)\n",
            "help(union_line_attr_list_fld)\n",
            "help(extend_rsltdict)\n",
            "help(form_delta)\n",
            "help(get_machine_components)\n",
            "\n",
            "You may use any of these help commands:\n",
            "help(ResetStNum)\n",
            "help(NxtStateStr)\n",
            "\n",
            "You may use any of these help commands:\n",
            "help(mkp_dfa)\n",
            "help(mk_dfa)\n",
            "help(totalize_dfa)\n",
            "help(addtosigma_delta)\n",
            "help(step_dfa)\n",
            "help(run_dfa)\n",
            "help(accepts_dfa)\n",
            "help(comp_dfa)\n",
            "help(union_dfa)\n",
            "help(intersect_dfa)\n",
            "help(pruneUnreach)\n",
            "help(iso_dfa)\n",
            "help(langeq_dfa)\n",
            "help(same_status)\n",
            "help(h_langeq_dfa)\n",
            "help(fixptDist)\n",
            "help(min_dfa)\n",
            "help(pairFR)\n",
            "help(state_combos)\n",
            "help(sepFinNonFin)\n",
            "help(bash_eql_classes)\n",
            "help(listminus)\n",
            "help(bash_1)\n",
            "help(mk_rep_eqc)\n",
            "help(F_of)\n",
            "help(rep_of_s)\n",
            "help(q0_of)\n",
            "help(Delta_of)\n",
            "help(mk_state_eqc_name)\n",
            "\n"
          ],
          "name": "stdout"
        }
      ]
    },
    {
      "cell_type": "markdown",
      "metadata": {
        "id": "UMNEZgOCFOWD"
      },
      "source": [
        "# Task 1: Define DFA Even010\n",
        "\n",
        "<font size=\"4\">    \n",
        "Using Jove's markdown, define a DFA for the language of strings over alphabet $\\{0,1\\}$ that accepts an even number of NON-OVERLAPPING occurrences of $010$s. Thoroughly document your construction!\n",
        "    \n",
        "HERE ARE EXAMPLES :\n",
        "\n",
        "* 01010 - does NOT have an even number of 0's because we wanted NON-OVERLAPPING\n",
        "\n",
        "* 0101010 - has two NON-OVERLAPPING occurrences of 010 -- that is what we want!\n",
        "\n",
        "* 0101111010 - has two NON-OVERLAPPING occurrences of 010\n",
        "\n",
        "* 111111 - has ZERO occurrences of 010\n",
        "    \n",
        "</font>"
      ]
    },
    {
      "cell_type": "markdown",
      "metadata": {
        "id": "vNSdAbORFOWE"
      },
      "source": [
        "### Hint: Name states to remember the essence of the history of inputs so far. If you do so, and also keep the sense of where the machine is (in an I state, an IF state or an F state), then you'll have the solution fall out automatically!\n",
        "\n",
        "Please read the Jove_User_Manual and heed the advice given there regarding how to write your automaton markdowns, how to place comments, how to group the lines of a DFA per state, and how to order which transition you may first consider.\n"
      ]
    },
    {
      "cell_type": "code",
      "metadata": {
        "id": "rNGa9GysFOWE"
      },
      "source": [
        "Even010 = md2mc('''\n",
        "DFA \n",
        "\n",
        "!! Put comments describing overall plan here\n",
        "!! I am going to improvise and think it through as I am figuring it out, making revisions as I go.\n",
        "\n",
        "IF : 1 -> IF\n",
        "IF : 0 -> F0 !! 010 starts with 0 so move to new state\n",
        "F0 : 1 -> F01 !! Getting close\n",
        "F0 : 0 -> F0\n",
        "F01 : 1 -> IF !! Reset since there wasn't a 0\n",
        "F01 : 0 -> S !! Another 010, but now odd number of 010s\n",
        "S : 1 -> S1\n",
        "S : 0 -> S0 \n",
        "S0 : 1 -> S01 !! Getting close\n",
        "S0 : 0 -> S0\n",
        "S1 : 1 -> S1\n",
        "S1 : 0 -> S0\n",
        "S01 : 1 -> S1 !! Reset since input was not 0\n",
        "S01 : 0 -> IF !! Another 010, now even number of 010s\n",
        " \n",
        "''')"
      ],
      "execution_count": 5,
      "outputs": []
    },
    {
      "cell_type": "code",
      "metadata": {
        "colab": {
          "base_uri": "https://localhost:8080/",
          "height": 268
        },
        "id": "KbLGMS9EFOWE",
        "outputId": "06719c2e-fe69-40b2-a55f-286398d03b8b"
      },
      "source": [
        "dotObj_dfa(Even010)"
      ],
      "execution_count": 6,
      "outputs": [
        {
          "output_type": "execute_result",
          "data": {
            "text/plain": [
              "<graphviz.dot.Digraph at 0x7efcbebd6668>"
            ],
            "image/svg+xml": "<?xml version=\"1.0\" encoding=\"UTF-8\" standalone=\"no\"?>\n<!DOCTYPE svg PUBLIC \"-//W3C//DTD SVG 1.1//EN\"\n \"http://www.w3.org/Graphics/SVG/1.1/DTD/svg11.dtd\">\n<!-- Generated by graphviz version 2.40.1 (20161225.0304)\n -->\n<!-- Title: %3 Pages: 1 -->\n<svg width=\"713pt\" height=\"185pt\"\n viewBox=\"0.00 0.00 713.48 184.80\" xmlns=\"http://www.w3.org/2000/svg\" xmlns:xlink=\"http://www.w3.org/1999/xlink\">\n<g id=\"graph0\" class=\"graph\" transform=\"scale(1 1) rotate(0) translate(4 180.7982)\">\n<title>%3</title>\n<polygon fill=\"#ffffff\" stroke=\"transparent\" points=\"-4,4 -4,-180.7982 709.4764,-180.7982 709.4764,4 -4,4\"/>\n<!-- EMPTY -->\n<g id=\"node1\" class=\"node\">\n<title>EMPTY</title>\n</g>\n<!-- IF -->\n<g id=\"node6\" class=\"node\">\n<title>IF</title>\n<ellipse fill=\"none\" stroke=\"#000000\" cx=\"113.8483\" cy=\"-118.7982\" rx=\"18.724\" ry=\"18.724\"/>\n<ellipse fill=\"none\" stroke=\"#000000\" cx=\"113.8483\" cy=\"-118.7982\" rx=\"22.6977\" ry=\"22.6977\"/>\n<text text-anchor=\"middle\" x=\"113.8483\" y=\"-115.0982\" font-family=\"Times,serif\" font-size=\"14.00\" fill=\"#000000\">IF</text>\n</g>\n<!-- EMPTY&#45;&gt;IF -->\n<g id=\"edge1\" class=\"edge\">\n<title>EMPTY&#45;&gt;IF</title>\n<path fill=\"none\" stroke=\"#000000\" d=\"M54.0033,-118.7982C62.5212,-118.7982 72.0276,-118.7982 80.9112,-118.7982\"/>\n<polygon fill=\"#000000\" stroke=\"#000000\" points=\"80.9572,-122.2983 90.9572,-118.7982 80.9572,-115.2983 80.9572,-122.2983\"/>\n</g>\n<!-- S1 -->\n<g id=\"node2\" class=\"node\">\n<title>S1</title>\n<ellipse fill=\"none\" stroke=\"#000000\" cx=\"495.0865\" cy=\"-79.7982\" rx=\"20.5982\" ry=\"20.5982\"/>\n<text text-anchor=\"middle\" x=\"495.0865\" y=\"-76.0982\" font-family=\"Times,serif\" font-size=\"14.00\" fill=\"#000000\">S1</text>\n</g>\n<!-- S1&#45;&gt;S1 -->\n<g id=\"edge12\" class=\"edge\">\n<title>S1&#45;&gt;S1</title>\n<path fill=\"none\" stroke=\"#000000\" d=\"M487.1265,-99.3618C485.9019,-109.4777 488.5553,-118.5963 495.0865,-118.5963 499.2706,-118.5963 501.8632,-114.854 502.8642,-109.5047\"/>\n<polygon fill=\"#000000\" stroke=\"#000000\" points=\"506.3662,-109.4231 503.0465,-99.3618 499.3673,-109.2973 506.3662,-109.4231\"/>\n<text text-anchor=\"middle\" x=\"495.0865\" y=\"-122.3963\" font-family=\"Times,serif\" font-size=\"14.00\" fill=\"#000000\">1 </text>\n</g>\n<!-- S0 -->\n<g id=\"node5\" class=\"node\">\n<title>S0</title>\n<ellipse fill=\"none\" stroke=\"#000000\" cx=\"584.6828\" cy=\"-27.7982\" rx=\"20.5982\" ry=\"20.5982\"/>\n<text text-anchor=\"middle\" x=\"584.6828\" y=\"-24.0982\" font-family=\"Times,serif\" font-size=\"14.00\" fill=\"#000000\">S0</text>\n</g>\n<!-- S1&#45;&gt;S0 -->\n<g id=\"edge13\" class=\"edge\">\n<title>S1&#45;&gt;S0</title>\n<path fill=\"none\" stroke=\"#000000\" d=\"M513.2177,-69.2752C525.969,-61.8745 543.2526,-51.8435 557.6284,-43.5\"/>\n<polygon fill=\"#000000\" stroke=\"#000000\" points=\"559.6866,-46.3523 566.5786,-38.3055 556.1728,-40.2981 559.6866,-46.3523\"/>\n<text text-anchor=\"middle\" x=\"539.8847\" y=\"-60.5982\" font-family=\"Times,serif\" font-size=\"14.00\" fill=\"#000000\">0 </text>\n</g>\n<!-- S -->\n<g id=\"node3\" class=\"node\">\n<title>S</title>\n<ellipse fill=\"none\" stroke=\"#000000\" cx=\"408.2884\" cy=\"-52.7982\" rx=\"18\" ry=\"18\"/>\n<text text-anchor=\"middle\" x=\"408.2884\" y=\"-49.0982\" font-family=\"Times,serif\" font-size=\"14.00\" fill=\"#000000\">S</text>\n</g>\n<!-- S&#45;&gt;S1 -->\n<g id=\"edge8\" class=\"edge\">\n<title>S&#45;&gt;S1</title>\n<path fill=\"none\" stroke=\"#000000\" d=\"M425.8533,-58.262C437.2219,-61.7984 452.3091,-66.4915 465.4971,-70.5939\"/>\n<polygon fill=\"#000000\" stroke=\"#000000\" points=\"464.5305,-73.9586 475.1188,-73.5869 466.6097,-67.2745 464.5305,-73.9586\"/>\n<text text-anchor=\"middle\" x=\"450.2884\" y=\"-70.5982\" font-family=\"Times,serif\" font-size=\"14.00\" fill=\"#000000\">1 </text>\n</g>\n<!-- S&#45;&gt;S0 -->\n<g id=\"edge9\" class=\"edge\">\n<title>S&#45;&gt;S0</title>\n<path fill=\"none\" stroke=\"#000000\" d=\"M425.4455,-47.0879C438.6435,-42.9483 457.4174,-37.6037 474.2884,-34.7982 500.8248,-30.3852 531.3736,-28.7058 553.5986,-28.0897\"/>\n<polygon fill=\"#000000\" stroke=\"#000000\" points=\"553.8659,-31.5847 563.7864,-27.8653 553.7117,-24.5864 553.8659,-31.5847\"/>\n<text text-anchor=\"middle\" x=\"495.0865\" y=\"-38.5982\" font-family=\"Times,serif\" font-size=\"14.00\" fill=\"#000000\">0 </text>\n</g>\n<!-- S01 -->\n<g id=\"node4\" class=\"node\">\n<title>S01</title>\n<ellipse fill=\"none\" stroke=\"#000000\" cx=\"679.4787\" cy=\"-117.7982\" rx=\"25.9954\" ry=\"25.9954\"/>\n<text text-anchor=\"middle\" x=\"679.4787\" y=\"-114.0982\" font-family=\"Times,serif\" font-size=\"14.00\" fill=\"#000000\">S01</text>\n</g>\n<!-- S01&#45;&gt;S1 -->\n<g id=\"edge14\" class=\"edge\">\n<title>S01&#45;&gt;S1</title>\n<path fill=\"none\" stroke=\"#000000\" d=\"M653.9411,-112.5353C620.317,-105.606 561.2776,-93.439 525.4189,-86.0491\"/>\n<polygon fill=\"#000000\" stroke=\"#000000\" points=\"526.0249,-82.6005 515.5242,-84.01 524.6119,-89.4565 526.0249,-82.6005\"/>\n<text text-anchor=\"middle\" x=\"584.6828\" y=\"-105.5982\" font-family=\"Times,serif\" font-size=\"14.00\" fill=\"#000000\">1 </text>\n</g>\n<!-- S01&#45;&gt;IF -->\n<g id=\"edge15\" class=\"edge\">\n<title>S01&#45;&gt;IF</title>\n<path fill=\"none\" stroke=\"#000000\" d=\"M658.5455,-133.9323C640.1383,-146.4899 612.0803,-161.7982 584.6828,-161.7982 209.4948,-161.7982 209.4948,-161.7982 209.4948,-161.7982 184.6177,-161.7982 159.0482,-149.5478 140.6126,-138.1244\"/>\n<polygon fill=\"#000000\" stroke=\"#000000\" points=\"142.4625,-135.1525 132.1698,-132.6403 138.6494,-141.0228 142.4625,-135.1525\"/>\n<text text-anchor=\"middle\" x=\"408.2884\" y=\"-165.5982\" font-family=\"Times,serif\" font-size=\"14.00\" fill=\"#000000\">0 </text>\n</g>\n<!-- S0&#45;&gt;S01 -->\n<g id=\"edge10\" class=\"edge\">\n<title>S0&#45;&gt;S01</title>\n<path fill=\"none\" stroke=\"#000000\" d=\"M599.9134,-42.2582C614.1646,-55.7884 635.7619,-76.2931 652.8606,-92.5268\"/>\n<polygon fill=\"#000000\" stroke=\"#000000\" points=\"650.6957,-95.2975 660.3577,-99.6445 655.5154,-90.221 650.6957,-95.2975\"/>\n<text text-anchor=\"middle\" x=\"629.481\" y=\"-78.5982\" font-family=\"Times,serif\" font-size=\"14.00\" fill=\"#000000\">1 </text>\n</g>\n<!-- S0&#45;&gt;S0 -->\n<g id=\"edge11\" class=\"edge\">\n<title>S0&#45;&gt;S0</title>\n<path fill=\"none\" stroke=\"#000000\" d=\"M576.7229,-47.3618C575.4982,-57.4777 578.1516,-66.5963 584.6828,-66.5963 588.8669,-66.5963 591.4595,-62.854 592.4605,-57.5047\"/>\n<polygon fill=\"#000000\" stroke=\"#000000\" points=\"595.9625,-57.4231 592.6428,-47.3618 588.9636,-57.2973 595.9625,-57.4231\"/>\n<text text-anchor=\"middle\" x=\"584.6828\" y=\"-70.3963\" font-family=\"Times,serif\" font-size=\"14.00\" fill=\"#000000\">0 </text>\n</g>\n<!-- IF&#45;&gt;IF -->\n<g id=\"edge2\" class=\"edge\">\n<title>IF&#45;&gt;IF</title>\n<path fill=\"none\" stroke=\"#000000\" d=\"M106.4966,-140.6514C105.6946,-150.789 108.1452,-159.6465 113.8483,-159.6465 117.5019,-159.6465 119.8206,-156.0114 120.8045,-150.7333\"/>\n<polygon fill=\"#000000\" stroke=\"#000000\" points=\"124.3052,-150.781 121.2,-140.6514 117.3106,-150.5065 124.3052,-150.781\"/>\n<text text-anchor=\"middle\" x=\"113.8483\" y=\"-163.4465\" font-family=\"Times,serif\" font-size=\"14.00\" fill=\"#000000\">1 </text>\n</g>\n<!-- F0 -->\n<g id=\"node8\" class=\"node\">\n<title>F0</title>\n<ellipse fill=\"none\" stroke=\"#000000\" cx=\"209.4948\" cy=\"-24.7982\" rx=\"20.6302\" ry=\"20.6302\"/>\n<ellipse fill=\"none\" stroke=\"#000000\" cx=\"209.4948\" cy=\"-24.7982\" rx=\"24.5979\" ry=\"24.5979\"/>\n<text text-anchor=\"middle\" x=\"209.4948\" y=\"-21.0982\" font-family=\"Times,serif\" font-size=\"14.00\" fill=\"#000000\">F0</text>\n</g>\n<!-- IF&#45;&gt;F0 -->\n<g id=\"edge3\" class=\"edge\">\n<title>IF&#45;&gt;F0</title>\n<path fill=\"none\" stroke=\"#000000\" d=\"M130.5087,-102.4246C145.3611,-87.8279 167.3163,-66.2506 184.3121,-49.5474\"/>\n<polygon fill=\"#000000\" stroke=\"#000000\" points=\"187.0497,-51.7643 191.7286,-42.2585 182.1431,-46.7717 187.0497,-51.7643\"/>\n<text text-anchor=\"middle\" x=\"160.6967\" y=\"-80.5982\" font-family=\"Times,serif\" font-size=\"14.00\" fill=\"#000000\">0 </text>\n</g>\n<!-- F01 -->\n<g id=\"node7\" class=\"node\">\n<title>F01</title>\n<ellipse fill=\"none\" stroke=\"#000000\" cx=\"312.2907\" cy=\"-52.7982\" rx=\"25.9957\" ry=\"25.9957\"/>\n<ellipse fill=\"none\" stroke=\"#000000\" cx=\"312.2907\" cy=\"-52.7982\" rx=\"29.9954\" ry=\"29.9954\"/>\n<text text-anchor=\"middle\" x=\"312.2907\" y=\"-49.0982\" font-family=\"Times,serif\" font-size=\"14.00\" fill=\"#000000\">F01</text>\n</g>\n<!-- F01&#45;&gt;S -->\n<g id=\"edge7\" class=\"edge\">\n<title>F01&#45;&gt;S</title>\n<path fill=\"none\" stroke=\"#000000\" d=\"M342.4015,-52.7982C354.3576,-52.7982 368.0417,-52.7982 379.8296,-52.7982\"/>\n<polygon fill=\"#000000\" stroke=\"#000000\" points=\"380.0184,-56.2983 390.0183,-52.7982 380.0183,-49.2983 380.0184,-56.2983\"/>\n<text text-anchor=\"middle\" x=\"366.2884\" y=\"-56.5982\" font-family=\"Times,serif\" font-size=\"14.00\" fill=\"#000000\">0 </text>\n</g>\n<!-- F01&#45;&gt;IF -->\n<g id=\"edge6\" class=\"edge\">\n<title>F01&#45;&gt;IF</title>\n<path fill=\"none\" stroke=\"#000000\" d=\"M286.2803,-67.8046C271.4392,-75.8513 252.2636,-85.399 234.293,-91.7982 205.3235,-102.1139 170.9863,-109.3485 146.4016,-113.7148\"/>\n<polygon fill=\"#000000\" stroke=\"#000000\" points=\"145.7714,-110.2717 136.5065,-115.4111 146.9542,-117.1711 145.7714,-110.2717\"/>\n<text text-anchor=\"middle\" x=\"209.4948\" y=\"-108.5982\" font-family=\"Times,serif\" font-size=\"14.00\" fill=\"#000000\">1 </text>\n</g>\n<!-- F0&#45;&gt;F01 -->\n<g id=\"edge4\" class=\"edge\">\n<title>F0&#45;&gt;F01</title>\n<path fill=\"none\" stroke=\"#000000\" d=\"M233.5959,-31.3629C245.418,-34.5831 259.9544,-38.5426 273.303,-42.1785\"/>\n<polygon fill=\"#000000\" stroke=\"#000000\" points=\"272.6463,-45.6271 283.2146,-44.8783 274.486,-38.8732 272.6463,-45.6271\"/>\n<text text-anchor=\"middle\" x=\"258.293\" y=\"-43.5982\" font-family=\"Times,serif\" font-size=\"14.00\" fill=\"#000000\">1 </text>\n</g>\n<!-- F0&#45;&gt;F0 -->\n<g id=\"edge5\" class=\"edge\">\n<title>F0&#45;&gt;F0</title>\n<path fill=\"none\" stroke=\"#000000\" d=\"M200.6354,-48.1303C199.7917,-58.5686 202.7448,-67.5963 209.4948,-67.5963 213.819,-67.5963 216.585,-63.8913 217.7927,-58.484\"/>\n<polygon fill=\"#000000\" stroke=\"#000000\" points=\"221.3075,-58.3051 218.3542,-48.1303 214.3178,-57.926 221.3075,-58.3051\"/>\n<text text-anchor=\"middle\" x=\"209.4948\" y=\"-71.3963\" font-family=\"Times,serif\" font-size=\"14.00\" fill=\"#000000\">0 </text>\n</g>\n</g>\n</svg>\n"
          },
          "metadata": {
            "tags": []
          },
          "execution_count": 6
        }
      ]
    },
    {
      "cell_type": "markdown",
      "metadata": {
        "id": "V9ObAQVAFOWE"
      },
      "source": [
        "# Task 2: Define DFA Ends010\n",
        "\n",
        "<font size=\"4\">    \n",
        "3. Using Jove's markdown, define a DFA for the language of strings over alphabet $\\{0,1\\}$ that ends in a $010$, calling it Ends010. Then obtain the intersection with the Even010 machine using intersect_dfa. \n",
        "    \n",
        "    Call the intersection Even010_Ends010.\n",
        "    \n",
        "    Next, minimize Even010_Ends010, storing it in min_Even010_Ends010 .\n",
        "    \n",
        "    Again, document the construction thoroughly.\n",
        "    \n",
        "</font>"
      ]
    },
    {
      "cell_type": "markdown",
      "metadata": {
        "id": "DhnD-hquFOWF"
      },
      "source": [
        "### Hint: Define a machine for \"ends $010$\" as illustrated by DFA Even010, and negate."
      ]
    },
    {
      "cell_type": "code",
      "metadata": {
        "id": "hszG3ki1FOWF"
      },
      "source": [
        "Ends010 =  md2mc('''\n",
        "DFA\n",
        "\n",
        "!! Again, follow the commenting plans and write the \"DFA code\" in neat bunches\n",
        "\n",
        "''')"
      ],
      "execution_count": null,
      "outputs": []
    },
    {
      "cell_type": "code",
      "metadata": {
        "id": "qk-qp_CYFOWF"
      },
      "source": [
        "# Let's see the \"Ends010\" machine\n",
        "dotObj_dfa(Ends010, FuseEdges=True)"
      ],
      "execution_count": null,
      "outputs": []
    },
    {
      "cell_type": "markdown",
      "metadata": {
        "id": "w-LFluCuFOWF"
      },
      "source": [
        "## Obtain the intersection of Even010 and Ends010"
      ]
    },
    {
      "cell_type": "code",
      "metadata": {
        "scrolled": true,
        "id": "VRhFikm8FOWF"
      },
      "source": [
        "Even010_Ends010 = ... Use intersect_dfa here - help(intersect_dfa) for guidance...\n",
        "dotObj_dfa(Even010_Ends010)"
      ],
      "execution_count": null,
      "outputs": []
    },
    {
      "cell_type": "markdown",
      "metadata": {
        "id": "Gv8VS5GXFOWG"
      },
      "source": [
        "## Minimize the intersection of Even010 and Ends010"
      ]
    },
    {
      "cell_type": "code",
      "metadata": {
        "id": "dx-4d26xFOWG"
      },
      "source": [
        "min_Even010_Ends010 = ... Use min_dfa - help(min_dfa) for guidance ...\n",
        "dotObj_dfa(min_Even010_Ends010)"
      ],
      "execution_count": null,
      "outputs": []
    },
    {
      "cell_type": "markdown",
      "metadata": {
        "id": "WCTZMe10FOWG"
      },
      "source": [
        "# Task 3: Examine Why Minimization Implies Elimination\n",
        "<font size=\"4\">    \n",
        "    \n",
        "Find out which states were eliminated in the Minimization Process. Explain why it was OK to leave these states out. Test the constructed machine using the template given to you. Finally use the Python \"filter\" function that filters out the accepted strings.\n",
        "    \n",
        "</font>"
      ]
    },
    {
      "cell_type": "markdown",
      "metadata": {
        "id": "r4Z9DZtQFOWG"
      },
      "source": [
        "## Find out which states were eliminated"
      ]
    },
    {
      "cell_type": "code",
      "metadata": {
        "id": "HcizEPcqFOWG"
      },
      "source": [
        "# Hint: You can obtain the components of a DFA D by using the notation D[\"Q\"] where\n",
        "# D is a DFA created using the md2mc command. Basically, \"D\" is a dictionary and \n",
        "# D[\"Q\"] obtains the value of the key at \"Q\". See the lecture slides for Lec-3."
      ],
      "execution_count": null,
      "outputs": []
    },
    {
      "cell_type": "markdown",
      "metadata": {
        "id": "QUQeT3l5FOWG"
      },
      "source": [
        "## Explain why it is OK to leave these states out\n",
        "\n",
        "A template to guide your answer is below."
      ]
    },
    {
      "cell_type": "markdown",
      "metadata": {
        "id": "atS1FltLFOWG"
      },
      "source": [
        "<font size=\"4\"> \n",
        "... Your explanations here - a template of your answer is as follows ...\n",
        "    \n",
        "**This template tries to limit the number of cases you have to list**\n",
        " \n",
        " \n",
        " * I find that state SOMESTATE1 is present in DFA1 but SOMESTATE1 is absent in DFA2 \n",
        " \n",
        " \n",
        "   - I can obtain this info by doing DFA1[\"Q\"] - DFA2[\"Q\"]\n",
        "   - I can also eye-ball the diagrams and spot the missing state\n",
        "   - But I recall that in the diagram, a state may show up P_Q while in the DFA1[\"Q\"] - DFA2[\"Q\"] printout, it may show up as ('P','Q')\n",
        " \n",
        " \n",
        " \n",
        " * If there are multiple *SOMESTATE1* that are missing in DFA2, please pick the one that involves state letter 'I'  and call that the *SOMESTATE1* for the remaining questions BELOW\n",
        " \n",
        " \n",
        " **IMPORTANT CHANGE:** __Due to some non-reproducibility lurking in Jove, some people may not get a state containing \"I\". In that case, pick any one state that is missing, and answer the remaining questions.__\n",
        " \n",
        " * But I find that THIS STRING (pick the shortest string in numeric order) that reached SOMESTATE1 in DFA1 is now reaching state SOMESTATE2 in DFA2\n",
        " \n",
        " * Thus I conclude that state SOMESTATE1 and SOMESTATE2 are equivalent\n",
        " \n",
        " * This is further confirmed by the fact that (**here I am limiting your checks to 3 cases**)\n",
        "   - upon 0, SOMESTATE1 goes to THIS STATE while SOMESTATE2 goes to THIS STATE and they are  BOTH ACCEPTING / BOTH NON-ACCEPTING (pick on)\n",
        "   - upon 1, SOMESTATE1 goes to THIS STATE while SOMESTATE2 goes to THIS STATE and they are  BOTH ACCEPTING / BOTH NON-ACCEPTING (pick on)\n",
        "   upon 01, SOMESTATE1 goes to THIS STATE while SOMESTATE2 goes to THIS STATE and they are  BOTH ACCEPTING / BOTH NON-ACCEPTING (pick on)\n",
        " \n",
        " \n",
        "\n",
        " \n",
        " \n",
        "    \n",
        "</font>"
      ]
    },
    {
      "cell_type": "markdown",
      "metadata": {
        "id": "FniehKe_FOWH"
      },
      "source": [
        "# Testing the machine"
      ]
    },
    {
      "cell_type": "code",
      "metadata": {
        "id": "j-fktyPtFOWH"
      },
      "source": [
        "help(nthnumeric)"
      ],
      "execution_count": null,
      "outputs": []
    },
    {
      "cell_type": "markdown",
      "metadata": {
        "id": "f6arEKx9FOWI"
      },
      "source": [
        "## Test the constructed machine the \"direct\" way"
      ]
    },
    {
      "cell_type": "code",
      "metadata": {
        "id": "JuqaEbN3FOWI"
      },
      "source": [
        "TestList = [ nthnumeric(i, ['0','1']) for i in range(256) ]"
      ],
      "execution_count": null,
      "outputs": []
    },
    {
      "cell_type": "code",
      "metadata": {
        "id": "6gxH5VlVFOWI"
      },
      "source": [
        "TestList"
      ],
      "execution_count": null,
      "outputs": []
    },
    {
      "cell_type": "code",
      "metadata": {
        "id": "RgRHtwlEFOWI"
      },
      "source": [
        "help(accepts_dfa)"
      ],
      "execution_count": null,
      "outputs": []
    },
    {
      "cell_type": "code",
      "metadata": {
        "id": "qB_mGFUoFOWI"
      },
      "source": [
        "for test in TestList:\n",
        "    if accepts_dfa(min_Even010_Ends010, test):\n",
        "        print(\" min_Even010_Ends010 : accepts \", test)\n",
        "    else:\n",
        "        print(\" min_Even010_Ends010 : does not accept \", test)"
      ],
      "execution_count": null,
      "outputs": []
    },
    {
      "cell_type": "markdown",
      "metadata": {
        "id": "YvlGKpo6FOWI"
      },
      "source": [
        "## Use Python's \"filter\" function to filter out the accepted strings directly"
      ]
    },
    {
      "cell_type": "code",
      "metadata": {
        "scrolled": true,
        "id": "mq_otcjjFOWI"
      },
      "source": [
        "list(filter(lambda x: accepts_dfa(min_Even010_Ends010, x), TestList))"
      ],
      "execution_count": null,
      "outputs": []
    },
    {
      "cell_type": "markdown",
      "metadata": {
        "id": "pemorFkwFOWI"
      },
      "source": [
        "## Doubled the testing range; now finding at least ten strings!"
      ]
    },
    {
      "cell_type": "code",
      "metadata": {
        "id": "KFZrgAFgFOWJ"
      },
      "source": [
        "...Your doubled list of filtered items here..."
      ],
      "execution_count": null,
      "outputs": []
    },
    {
      "cell_type": "markdown",
      "metadata": {
        "id": "hLXOjdHRFOWJ"
      },
      "source": [
        "# END"
      ]
    }
  ]
}