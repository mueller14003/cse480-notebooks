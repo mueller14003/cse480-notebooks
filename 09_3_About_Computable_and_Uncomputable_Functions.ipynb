{
  "nbformat": 4,
  "nbformat_minor": 0,
  "metadata": {
    "colab": {
      "name": "09_3_About_Computable_and_Uncomputable_Functions.ipynb",
      "provenance": [],
      "authorship_tag": "ABX9TyOwXPyn8pswhbPg/Md7Wjtf",
      "include_colab_link": true
    },
    "kernelspec": {
      "name": "python3",
      "display_name": "Python 3"
    }
  },
  "cells": [
    {
      "cell_type": "markdown",
      "metadata": {
        "id": "view-in-github",
        "colab_type": "text"
      },
      "source": [
        "<a href=\"https://colab.research.google.com/github/byui-cse/cse480-notebooks/blob/master/09_3_About_Computable_and_Uncomputable_Functions.ipynb\" target=\"_parent\"><img src=\"https://colab.research.google.com/assets/colab-badge.svg\" alt=\"Open In Colab\"/></a>"
      ]
    },
    {
      "cell_type": "markdown",
      "metadata": {
        "id": "93CBtDW8o7jL"
      },
      "source": [
        "# About Computable and Uncomputable Functions"
      ]
    },
    {
      "cell_type": "markdown",
      "metadata": {
        "id": "m0oKcJHMpAM6"
      },
      "source": [
        "## Consider the following definition:"
      ]
    },
    {
      "cell_type": "markdown",
      "metadata": {
        "id": "HU4F7zh-pFI8"
      },
      "source": [
        "A number $x$ between 0 and 1 is defined to be **computable** if there is a Python program that when given the input $i$, will produce the $i^{th}$ digit in the decimal expansion of $x$."
      ]
    },
    {
      "cell_type": "markdown",
      "metadata": {
        "id": "7Hg8f5N1pk1Z"
      },
      "source": [
        "For a trivial example, the number 1/3 is computable, because the Python program that always outputs the digit 3, regardless of its input, computes this number.\n"
      ]
    },
    {
      "cell_type": "markdown",
      "metadata": {
        "id": "rcMOEmi8pu7t"
      },
      "source": [
        "## How about this one?"
      ]
    },
    {
      "cell_type": "markdown",
      "metadata": {
        "id": "zXf7ow6cp18T"
      },
      "source": [
        "The doubly infinite sum of an exponential scaled and squared:"
      ]
    },
    {
      "cell_type": "markdown",
      "metadata": {
        "id": "Bpk7lEsAp6oA"
      },
      "source": [
        "$$\\left( \\frac{1}{10^5} \\sum_{n = - \\infty}^{\\infty} e^{-(n^2/10^{10})} \\right)^2$$"
      ]
    },
    {
      "cell_type": "markdown",
      "metadata": {
        "id": "JXUliNIlv5K0"
      },
      "source": [
        "https://www.desmos.com/calculator/qtecy5otdy"
      ]
    },
    {
      "cell_type": "markdown",
      "metadata": {
        "id": "CRuGNeLrqDwo"
      },
      "source": [
        "## What about this one?"
      ]
    },
    {
      "cell_type": "markdown",
      "metadata": {
        "id": "ZcmDylftr7FV"
      },
      "source": [
        "Calculating the base of natural logarithms. Not a number between 0 and 1, but if you divide it by 10 it is. To compute it exactly you must evaluate\n",
        "$$e = lim_{n \\rightarrow \\infty}\\left(1 + \\frac{1}{n}\\right)^n.$$"
      ]
    },
    {
      "cell_type": "code",
      "metadata": {
        "colab": {
          "base_uri": "https://localhost:8080/"
        },
        "id": "Uqd38qB6s5bz",
        "outputId": "4fe26150-6a72-4916-baed-cbc1d24b5d9a"
      },
      "source": [
        "from decimal import *\n",
        "getcontext().prec = 2000\n",
        "Decimal(1).exp()"
      ],
      "execution_count": 4,
      "outputs": [
        {
          "output_type": "execute_result",
          "data": {
            "text/plain": [
              "Decimal('2.7182818284590452353602874713526624977572470936999595749669676277240766303535475945713821785251664274274663919320030599218174135966290435729003342952605956307381323286279434907632338298807531952510190115738341879307021540891499348841675092447614606680822648001684774118537423454424371075390777449920695517027618386062613313845830007520449338265602976067371132007093287091274437470472306969772093101416928368190255151086574637721112523897844250569536967707854499699679468644549059879316368892300987931277361782154249992295763514822082698951936680331825288693984964651058209392398294887933203625094431173012381970684161403970198376793206832823764648042953118023287825098194558153017567173613320698112509961818815930416903515988885193458072738667385894228792284998920868058257492796104841984443634632449684875602336248270419786232090021609902353043699418491463140934317381436405462531520961836908887070167683964243781405927145635490613031072085103837505101157477041718986106873969655212671546889570350354021234078498193343210681701210056278802351930332247450158539047304199577770935036604169973297250886876966403555707162268447162560798826517871341951246652010305921236677194325278675398558944896970964097545918569563802363701621120477427228364896134225164450781824423529486363721417402388934412479635743702637552944483379980161254922785092577825620926226483262779333865664816277251640191059004916449982893150566047258027786318641551956532442586982946959308019152987211725563475463964479101459040905862984967912874068705048958586717479854667757573205681288459205413340539220001137863009455606881667400169842055804033637953764520304024322566135278369511778838638744396625322498506549958862342818997077332761717839280349465014345588970719425863987727547109629537415211151368350627526023264847287039207643100595841166120545297030236472549296669381151373227536450988890313602057248176585118063036442812314965507047510254465011727211555194866850800368532281831521960037356252794495158284188294787610852639814')"
            ]
          },
          "metadata": {
            "tags": []
          },
          "execution_count": 4
        }
      ]
    },
    {
      "cell_type": "code",
      "metadata": {
        "colab": {
          "base_uri": "https://localhost:8080/"
        },
        "id": "FAoqAhmGsTxC",
        "outputId": "373f4607-e728-4843-e4f0-64ad4c5ace58"
      },
      "source": [
        "# Up to 2000 decimal digits\n",
        "\n",
        "\n",
        "# Using a series sum you could calculate it:\n",
        "import math\n",
        "getcontext().prec = 2000\n",
        "e = Decimal(0)\n",
        "i = 0\n",
        "while True:\n",
        "    fact = math.factorial(i)\n",
        "    e += Decimal(1)/fact\n",
        "    i += 1\n",
        "    if fact > 10**2000: break\n",
        "e"
      ],
      "execution_count": 7,
      "outputs": [
        {
          "output_type": "execute_result",
          "data": {
            "text/plain": [
              "Decimal('2.7182818284590452353602874713526624977572470936999595749669676277240766303535475945713821785251664274274663919320030599218174135966290435729003342952605956307381323286279434907632338298807531952510190115738341879307021540891499348841675092447614606680822648001684774118537423454424371075390777449920695517027618386062613313845830007520449338265602976067371132007093287091274437470472306969772093101416928368190255151086574637721112523897844250569536967707854499699679468644549059879316368892300987931277361782154249992295763514822082698951936680331825288693984964651058209392398294887933203625094431173012381970684161403970198376793206832823764648042953118023287825098194558153017567173613320698112509961818815930416903515988885193458072738667385894228792284998920868058257492796104841984443634632449684875602336248270419786232090021609902353043699418491463140934317381436405462531520961836908887070167683964243781405927145635490613031072085103837505101157477041718986106873969655212671546889570350354021234078498193343210681701210056278802351930332247450158539047304199577770935036604169973297250886876966403555707162268447162560798826517871341951246652010305921236677194325278675398558944896970964097545918569563802363701621120477427228364896134225164450781824423529486363721417402388934412479635743702637552944483379980161254922785092577825620926226483262779333865664816277251640191059004916449982893150566047258027786318641551956532442586982946959308019152987211725563475463964479101459040905862984967912874068705048958586717479854667757573205681288459205413340539220001137863009455606881667400169842055804033637953764520304024322566135278369511778838638744396625322498506549958862342818997077332761717839280349465014345588970719425863987727547109629537415211151368350627526023264847287039207643100595841166120545297030236472549296669381151373227536450988890313602057248176585118063036442812314965507047510254465011727211555194866850800368532281831521960037356252794495158284188294787610852639810')"
            ]
          },
          "metadata": {
            "tags": []
          },
          "execution_count": 7
        }
      ]
    },
    {
      "cell_type": "markdown",
      "metadata": {
        "id": "h7A0xN2BqI4-"
      },
      "source": [
        "Here is an amazing **pandigital** approximation to $e$ that is correct to 18457734525360901453873570 decimal digits:"
      ]
    },
    {
      "cell_type": "markdown",
      "metadata": {
        "id": "qorrmmG_qaQP"
      },
      "source": [
        "### Found by"
      ]
    },
    {
      "cell_type": "markdown",
      "metadata": {
        "id": "3CO3AJbLqdsM"
      },
      "source": [
        "R. Sabey in 2004 (http://mathworld.wolfram.com/eApproximations.html)\n"
      ]
    },
    {
      "cell_type": "markdown",
      "metadata": {
        "id": "fVMdVRowq9bi"
      },
      "source": [
        "$$\\left(1 + 9^{-4^{6\\cdot7}}\\right)^{3^{2^{85}}}$$\n",
        "\n",
        "$$\\left(1 + \\frac{1}{9^{4^{42}}}\\right)^{3^{2^{85}}}$$\n",
        "\n",
        "$$\\left(1 + \\frac{1}{3^{2 \\cdot 4^{42}}}\\right)^{3^{2^{85}}}$$\n",
        "\n",
        "$$\\left(1 + \\frac{1}{3^{2 \\cdot 2^{2 \\cdot 42}}}\\right)^{3^{2^{85}}}$$\n",
        "\n",
        "$$\\left(1 + \\frac{1}{3^{2 \\cdot 2^{84}}}\\right)^{3^{2^{85}}}$$\n",
        "\n",
        "$$\\left(1 + \\frac{1}{3^{2^{85}}}\\right)^{3^{2^{85}}}$$"
      ]
    }
  ]
}