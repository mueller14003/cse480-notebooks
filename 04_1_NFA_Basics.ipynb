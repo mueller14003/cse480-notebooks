{
  "nbformat": 4,
  "nbformat_minor": 0,
  "metadata": {
    "kernelspec": {
      "display_name": "Python 3",
      "language": "python",
      "name": "python3"
    },
    "language_info": {
      "codemirror_mode": {
        "name": "ipython",
        "version": 3
      },
      "file_extension": ".py",
      "mimetype": "text/x-python",
      "name": "python",
      "nbconvert_exporter": "python",
      "pygments_lexer": "ipython3",
      "version": "3.9.0"
    },
    "toc": {
      "colors": {
        "hover_highlight": "#DAA520",
        "running_highlight": "#FF0000",
        "selected_highlight": "#FFD700"
      },
      "moveMenuLeft": true,
      "nav_menu": {
        "height": "121px",
        "width": "252px"
      },
      "navigate_menu": true,
      "number_sections": true,
      "sideBar": true,
      "threshold": 4,
      "toc_cell": false,
      "toc_section_display": "block",
      "toc_window_display": false,
      "widenNotebook": false
    },
    "widgets": {
      "application/vnd.jupyter.widget-state+json": {
        "4ac37ea0ddbc4ae59546b85ab91d9a4e": {
          "model_module": "@jupyter-widgets/controls",
          "model_name": "VBoxModel",
          "state": {
            "_view_name": "VBoxView",
            "_dom_classes": [],
            "_model_name": "VBoxModel",
            "_view_module": "@jupyter-widgets/controls",
            "_model_module_version": "1.5.0",
            "_view_count": null,
            "_view_module_version": "1.5.0",
            "box_style": "",
            "layout": "IPY_MODEL_525e378195204ea089d596ad2bdc7b8d",
            "_model_module": "@jupyter-widgets/controls",
            "children": [
              "IPY_MODEL_c6d2a54a3afa4e3e808f19fb59ed3b65",
              "IPY_MODEL_2a8881ffc5474997a8604d521a0015d8",
              "IPY_MODEL_d43a425d95f64c9481f58acf172a739f",
              "IPY_MODEL_982b495026e145c2be8cd6df6be88538"
            ]
          }
        },
        "525e378195204ea089d596ad2bdc7b8d": {
          "model_module": "@jupyter-widgets/base",
          "model_name": "LayoutModel",
          "state": {
            "_view_name": "LayoutView",
            "grid_template_rows": null,
            "right": null,
            "justify_content": null,
            "_view_module": "@jupyter-widgets/base",
            "overflow": null,
            "_model_module_version": "1.2.0",
            "_view_count": null,
            "flex_flow": null,
            "width": null,
            "min_width": null,
            "border": null,
            "align_items": null,
            "bottom": null,
            "_model_module": "@jupyter-widgets/base",
            "top": null,
            "grid_column": null,
            "overflow_y": null,
            "overflow_x": null,
            "grid_auto_flow": null,
            "grid_area": null,
            "grid_template_columns": null,
            "flex": null,
            "_model_name": "LayoutModel",
            "justify_items": null,
            "grid_row": null,
            "max_height": null,
            "align_content": null,
            "visibility": null,
            "align_self": null,
            "height": null,
            "min_height": null,
            "padding": null,
            "grid_auto_rows": null,
            "grid_gap": null,
            "max_width": null,
            "order": null,
            "_view_module_version": "1.2.0",
            "grid_template_areas": null,
            "object_position": null,
            "object_fit": null,
            "grid_auto_columns": null,
            "margin": null,
            "display": null,
            "left": null
          }
        },
        "c6d2a54a3afa4e3e808f19fb59ed3b65": {
          "model_module": "@jupyter-widgets/controls",
          "model_name": "HBoxModel",
          "state": {
            "_view_name": "HBoxView",
            "_dom_classes": [],
            "_model_name": "HBoxModel",
            "_view_module": "@jupyter-widgets/controls",
            "_model_module_version": "1.5.0",
            "_view_count": null,
            "_view_module_version": "1.5.0",
            "box_style": "",
            "layout": "IPY_MODEL_9b28532d76aa451d9d0cd4a934e0c455",
            "_model_module": "@jupyter-widgets/controls",
            "children": [
              "IPY_MODEL_39f930f70c05480c8e7659dde1769a32",
              "IPY_MODEL_9a635eefed9640a9b60e3f84388e48c1"
            ]
          }
        },
        "2a8881ffc5474997a8604d521a0015d8": {
          "model_module": "@jupyter-widgets/output",
          "model_name": "OutputModel",
          "state": {
            "_view_name": "OutputView",
            "msg_id": "",
            "_dom_classes": [],
            "_model_name": "OutputModel",
            "outputs": [
              {
                "output_type": "display_data",
                "metadata": {
                  "tags": []
                },
                "text/plain": "<graphviz.files.Source at 0x7f2583a6bcf8>",
                "image/svg+xml": "<?xml version=\"1.0\" encoding=\"UTF-8\" standalone=\"no\"?>\n<!DOCTYPE svg PUBLIC \"-//W3C//DTD SVG 1.1//EN\"\n \"http://www.w3.org/Graphics/SVG/1.1/DTD/svg11.dtd\">\n<!-- Generated by graphviz version 2.40.1 (20161225.0304)\n -->\n<!-- Title: %3 Pages: 1 -->\n<svg width=\"473pt\" height=\"114pt\"\n viewBox=\"0.00 0.00 473.00 114.00\" xmlns=\"http://www.w3.org/2000/svg\" xmlns:xlink=\"http://www.w3.org/1999/xlink\">\n<g id=\"graph0\" class=\"graph\" transform=\"scale(1 1) rotate(0) translate(4 110)\">\n<title>%3</title>\n<polygon fill=\"#ffffff\" stroke=\"transparent\" points=\"-4,4 -4,-110 469,-110 469,4 -4,4\"/>\n<!-- EMPTY -->\n<g id=\"node1\" class=\"node\">\n<title>EMPTY</title>\n</g>\n<!-- I -->\n<g id=\"node5\" class=\"node\">\n<title>I</title>\n<ellipse fill=\"#1c86ee\" stroke=\"#000000\" cx=\"109\" cy=\"-22\" rx=\"18\" ry=\"18\"/>\n<text text-anchor=\"middle\" x=\"109\" y=\"-18.3\" font-family=\"Times,serif\" font-size=\"14.00\" fill=\"#ffffff\">I</text>\n</g>\n<!-- EMPTY&#45;&gt;I -->\n<g id=\"edge1\" class=\"edge\">\n<title>EMPTY&#45;&gt;I</title>\n<path fill=\"none\" stroke=\"#000000\" d=\"M54.3048,-22C62.6909,-22 71.9407,-22 80.4103,-22\"/>\n<polygon fill=\"#000000\" stroke=\"#000000\" points=\"80.5976,-25.5001 90.5976,-22 80.5976,-18.5001 80.5976,-25.5001\"/>\n</g>\n<!-- B -->\n<g id=\"node2\" class=\"node\">\n<title>B</title>\n<ellipse fill=\"none\" stroke=\"#000000\" cx=\"274\" cy=\"-22\" rx=\"18\" ry=\"18\"/>\n<text text-anchor=\"middle\" x=\"274\" y=\"-18.3\" font-family=\"Times,serif\" font-size=\"14.00\" fill=\"#000000\">B</text>\n</g>\n<!-- C -->\n<g id=\"node3\" class=\"node\">\n<title>C</title>\n<ellipse fill=\"none\" stroke=\"#000000\" cx=\"358\" cy=\"-22\" rx=\"18\" ry=\"18\"/>\n<text text-anchor=\"middle\" x=\"358\" y=\"-18.3\" font-family=\"Times,serif\" font-size=\"14.00\" fill=\"#000000\">C</text>\n</g>\n<!-- B&#45;&gt;C -->\n<g id=\"edge6\" class=\"edge\">\n<title>B&#45;&gt;C</title>\n<path fill=\"none\" stroke=\"#000000\" d=\"M292.2267,-22C303.1242,-22 317.2054,-22 329.5413,-22\"/>\n<polygon fill=\"#000000\" stroke=\"#000000\" points=\"329.8089,-25.5001 339.8088,-22 329.8088,-18.5001 329.8089,-25.5001\"/>\n<text text-anchor=\"start\" x=\"310\" y=\"-25.8\" font-family=\"Times,serif\" font-size=\"14.00\" fill=\"#000000\"> 1</text>\n</g>\n<!-- C&#45;&gt;C -->\n<g id=\"edge7\" class=\"edge\">\n<title>C&#45;&gt;C</title>\n<path fill=\"none\" stroke=\"#000000\" d=\"M354.4047,-39.7817C353.7938,-49.3149 354.9922,-58 358,-58 359.8329,-58 360.9939,-54.7749 361.483,-50.0981\"/>\n<polygon fill=\"#000000\" stroke=\"#000000\" points=\"364.9861,-49.8193 361.5953,-39.7817 357.9865,-49.743 364.9861,-49.8193\"/>\n<text text-anchor=\"start\" x=\"352\" y=\"-61.8\" font-family=\"Times,serif\" font-size=\"14.00\" fill=\"#000000\"> 0</text>\n</g>\n<!-- C&#45;&gt;C -->\n<g id=\"edge8\" class=\"edge\">\n<title>C&#45;&gt;C</title>\n<path fill=\"none\" stroke=\"#000000\" d=\"M352.1479,-39.1418C348.7056,-56.585 350.6563,-76 358,-76 363.9094,-76 366.3267,-63.4283 365.2519,-49.4287\"/>\n<polygon fill=\"#000000\" stroke=\"#000000\" points=\"368.6685,-48.5785 363.8521,-39.1418 361.7325,-49.5224 368.6685,-48.5785\"/>\n<text text-anchor=\"start\" x=\"352\" y=\"-79.8\" font-family=\"Times,serif\" font-size=\"14.00\" fill=\"#000000\"> 1</text>\n</g>\n<!-- F -->\n<g id=\"node6\" class=\"node\">\n<title>F</title>\n<ellipse fill=\"none\" stroke=\"#000000\" cx=\"443\" cy=\"-22\" rx=\"18\" ry=\"18\"/>\n<ellipse fill=\"none\" stroke=\"#000000\" cx=\"443\" cy=\"-22\" rx=\"22\" ry=\"22\"/>\n<text text-anchor=\"middle\" x=\"443\" y=\"-18.3\" font-family=\"Times,serif\" font-size=\"14.00\" fill=\"#000000\">F</text>\n</g>\n<!-- C&#45;&gt;F -->\n<g id=\"edge9\" class=\"edge\">\n<title>C&#45;&gt;F</title>\n<path fill=\"none\" stroke=\"#000000\" d=\"M376.0263,-22C386.0256,-22 398.7667,-22 410.4461,-22\"/>\n<polygon fill=\"#000000\" stroke=\"#000000\" points=\"410.7644,-25.5001 420.7644,-22 410.7644,-18.5001 410.7644,-25.5001\"/>\n<text text-anchor=\"start\" x=\"394\" y=\"-25.8\" font-family=\"Times,serif\" font-size=\"14.00\" fill=\"#000000\"> &#39;&#39;</text>\n</g>\n<!-- A -->\n<g id=\"node4\" class=\"node\">\n<title>A</title>\n<ellipse fill=\"#ffffff\" stroke=\"#1c86ee\" stroke-width=\"2\" cx=\"190\" cy=\"-22\" rx=\"18\" ry=\"18\"/>\n<text text-anchor=\"middle\" x=\"190\" y=\"-18.3\" font-family=\"Times,serif\" font-size=\"14.00\" fill=\"#1c86ee\">A</text>\n</g>\n<!-- A&#45;&gt;B -->\n<g id=\"edge5\" class=\"edge\">\n<title>A&#45;&gt;B</title>\n<path fill=\"none\" stroke=\"#000000\" d=\"M208.2267,-22C219.1242,-22 233.2054,-22 245.5413,-22\"/>\n<polygon fill=\"#000000\" stroke=\"#000000\" points=\"245.8089,-25.5001 255.8088,-22 245.8088,-18.5001 245.8089,-25.5001\"/>\n<text text-anchor=\"start\" x=\"226\" y=\"-25.8\" font-family=\"Times,serif\" font-size=\"14.00\" fill=\"#000000\"> 0</text>\n</g>\n<!-- I&#45;&gt;A -->\n<g id=\"edge4\" class=\"edge\">\n<title>I&#45;&gt;A</title>\n<path fill=\"none\" stroke=\"#1c86ee\" stroke-width=\"2\" d=\"M127.3802,-22C136.0365,-22 146.6375,-22 156.6388,-22\"/>\n<polygon fill=\"#1c86ee\" stroke=\"#1c86ee\" stroke-width=\"2\" points=\"156.9716,-27.2501 171.9716,-22 156.9716,-16.7501 156.9716,-27.2501\"/>\n<text text-anchor=\"start\" x=\"145\" y=\"-25.8\" font-family=\"Times,serif\" font-size=\"14.00\" fill=\"#1c86ee\"> &#39;&#39;</text>\n</g>\n<!-- I&#45;&gt;I -->\n<g id=\"edge2\" class=\"edge\">\n<title>I&#45;&gt;I</title>\n<path fill=\"none\" stroke=\"#000000\" d=\"M105.7643,-39.7817C105.2144,-49.3149 106.293,-58 109,-58 110.6496,-58 111.6945,-54.7749 112.1347,-50.0981\"/>\n<polygon fill=\"#000000\" stroke=\"#000000\" points=\"115.6375,-49.8156 112.2357,-39.7817 108.6379,-49.7469 115.6375,-49.8156\"/>\n<text text-anchor=\"start\" x=\"103\" y=\"-61.8\" font-family=\"Times,serif\" font-size=\"14.00\" fill=\"#000000\"> 0</text>\n</g>\n<!-- I&#45;&gt;I -->\n<g id=\"edge3\" class=\"edge\">\n<title>I&#45;&gt;I</title>\n<path fill=\"none\" stroke=\"#000000\" d=\"M103.6841,-39.4203C100.6538,-56.791 102.4258,-76 109,-76 114.2902,-76 116.4708,-63.5617 115.5419,-49.652\"/>\n<polygon fill=\"#000000\" stroke=\"#000000\" points=\"118.9808,-48.9328 114.3159,-39.4203 112.0305,-49.7657 118.9808,-48.9328\"/>\n<text text-anchor=\"start\" x=\"103\" y=\"-79.8\" font-family=\"Times,serif\" font-size=\"14.00\" fill=\"#000000\"> 1</text>\n</g>\n</g>\n</svg>\n"
              }
            ],
            "_view_module": "@jupyter-widgets/output",
            "_model_module_version": "1.0.0",
            "_view_count": null,
            "_view_module_version": "1.0.0",
            "layout": "IPY_MODEL_28d2a4557ecc4090af67521b10c5023e",
            "_model_module": "@jupyter-widgets/output"
          }
        },
        "d43a425d95f64c9481f58acf172a739f": {
          "model_module": "@jupyter-widgets/output",
          "model_name": "OutputModel",
          "state": {
            "_view_name": "OutputView",
            "msg_id": "",
            "_dom_classes": [],
            "_model_name": "OutputModel",
            "outputs": [
              {
                "output_type": "display_data",
                "metadata": {
                  "tags": []
                },
                "text/plain": "<graphviz.files.Source at 0x7f2583a6bcf8>",
                "image/svg+xml": "<?xml version=\"1.0\" encoding=\"UTF-8\" standalone=\"no\"?>\n<!DOCTYPE svg PUBLIC \"-//W3C//DTD SVG 1.1//EN\"\n \"http://www.w3.org/Graphics/SVG/1.1/DTD/svg11.dtd\">\n<!-- Generated by graphviz version 2.40.1 (20161225.0304)\n -->\n<!-- Title: %3 Pages: 1 -->\n<svg width=\"144pt\" height=\"47pt\"\n viewBox=\"0.00 0.00 144.00 47.00\" xmlns=\"http://www.w3.org/2000/svg\" xmlns:xlink=\"http://www.w3.org/1999/xlink\">\n<g id=\"graph0\" class=\"graph\" transform=\"scale(1 1) rotate(0) translate(4 43)\">\n<title>%3</title>\n<polygon fill=\"#ffffff\" stroke=\"transparent\" points=\"-4,4 -4,-43 140,-43 140,4 -4,4\"/>\n<!-- feed -->\n<g id=\"node1\" class=\"node\">\n<title>feed</title>\n<polygon fill=\"none\" stroke=\"#000000\" points=\"8,-3.5 8,-34.5 26,-34.5 26,-3.5 8,-3.5\"/>\n<polygon fill=\"none\" stroke=\"#000000\" points=\"26,-3.5 26,-34.5 51,-34.5 51,-3.5 26,-3.5\"/>\n<text text-anchor=\"start\" x=\"35\" y=\"-15.9\" font-family=\"Times,serif\" font-size=\"12.00\" fill=\"#000000\"> &#160;</text>\n<polygon fill=\"none\" stroke=\"#000000\" points=\"51,-3.5 51,-34.5 128,-34.5 128,-3.5 51,-3.5\"/>\n<text text-anchor=\"start\" x=\"60\" y=\"-15.9\" font-family=\"Times,serif\" font-size=\"12.00\" fill=\"#000000\">1110010101</text>\n</g>\n</g>\n</svg>\n"
              }
            ],
            "_view_module": "@jupyter-widgets/output",
            "_model_module_version": "1.0.0",
            "_view_count": null,
            "_view_module_version": "1.0.0",
            "layout": "IPY_MODEL_042c773e61804062ae7388ceac680b01",
            "_model_module": "@jupyter-widgets/output"
          }
        },
        "982b495026e145c2be8cd6df6be88538": {
          "model_module": "@jupyter-widgets/controls",
          "model_name": "HBoxModel",
          "state": {
            "_view_name": "HBoxView",
            "_dom_classes": [],
            "_model_name": "HBoxModel",
            "_view_module": "@jupyter-widgets/controls",
            "_model_module_version": "1.5.0",
            "_view_count": null,
            "_view_module_version": "1.5.0",
            "box_style": "",
            "layout": "IPY_MODEL_1d42938688bc4d79b3fbf1db689d9aaa",
            "_model_module": "@jupyter-widgets/controls",
            "children": [
              "IPY_MODEL_a791c26b34d84dbb9554ae16b67ecdca",
              "IPY_MODEL_21cd75afddc44f3c81cbf5e40b6fd0b6",
              "IPY_MODEL_37a29a056c6a474aa56d91a82189ca1c",
              "IPY_MODEL_f1820886ac0540f9a62b96f2507939a8"
            ]
          }
        },
        "9b28532d76aa451d9d0cd4a934e0c455": {
          "model_module": "@jupyter-widgets/base",
          "model_name": "LayoutModel",
          "state": {
            "_view_name": "LayoutView",
            "grid_template_rows": null,
            "right": null,
            "justify_content": null,
            "_view_module": "@jupyter-widgets/base",
            "overflow": null,
            "_model_module_version": "1.2.0",
            "_view_count": null,
            "flex_flow": null,
            "width": null,
            "min_width": null,
            "border": null,
            "align_items": null,
            "bottom": null,
            "_model_module": "@jupyter-widgets/base",
            "top": null,
            "grid_column": null,
            "overflow_y": null,
            "overflow_x": null,
            "grid_auto_flow": null,
            "grid_area": null,
            "grid_template_columns": null,
            "flex": null,
            "_model_name": "LayoutModel",
            "justify_items": null,
            "grid_row": null,
            "max_height": null,
            "align_content": null,
            "visibility": null,
            "align_self": null,
            "height": null,
            "min_height": null,
            "padding": null,
            "grid_auto_rows": null,
            "grid_gap": null,
            "max_width": null,
            "order": null,
            "_view_module_version": "1.2.0",
            "grid_template_areas": null,
            "object_position": null,
            "object_fit": null,
            "grid_auto_columns": null,
            "margin": null,
            "display": null,
            "left": null
          }
        },
        "39f930f70c05480c8e7659dde1769a32": {
          "model_module": "@jupyter-widgets/controls",
          "model_name": "TextModel",
          "state": {
            "_view_name": "TextView",
            "style": "IPY_MODEL_d0c07912fcdb4c539f266f459928ecad",
            "_dom_classes": [],
            "description": "Input:",
            "_model_name": "TextModel",
            "placeholder": "Sigma: {0,1}",
            "_view_module": "@jupyter-widgets/controls",
            "_model_module_version": "1.5.0",
            "value": "1110010101",
            "_view_count": null,
            "disabled": true,
            "_view_module_version": "1.5.0",
            "continuous_update": true,
            "description_tooltip": null,
            "_model_module": "@jupyter-widgets/controls",
            "layout": "IPY_MODEL_d0effb233b8f431398c7fc5a4e201aa9"
          }
        },
        "9a635eefed9640a9b60e3f84388e48c1": {
          "model_module": "@jupyter-widgets/controls",
          "model_name": "ButtonModel",
          "state": {
            "_view_name": "ButtonView",
            "style": "IPY_MODEL_c34438e45fd74789ae2ca42bf6feb395",
            "_dom_classes": [],
            "description": "Change Input",
            "_model_name": "ButtonModel",
            "button_style": "primary",
            "_view_module": "@jupyter-widgets/controls",
            "_model_module_version": "1.5.0",
            "tooltip": "",
            "_view_count": null,
            "disabled": false,
            "_view_module_version": "1.5.0",
            "layout": "IPY_MODEL_b80b0215d1ca4d14ab123d69c0ad4fee",
            "_model_module": "@jupyter-widgets/controls",
            "icon": ""
          }
        },
        "1d42938688bc4d79b3fbf1db689d9aaa": {
          "model_module": "@jupyter-widgets/base",
          "model_name": "LayoutModel",
          "state": {
            "_view_name": "LayoutView",
            "grid_template_rows": null,
            "right": null,
            "justify_content": null,
            "_view_module": "@jupyter-widgets/base",
            "overflow": null,
            "_model_module_version": "1.2.0",
            "_view_count": null,
            "flex_flow": null,
            "width": null,
            "min_width": null,
            "border": null,
            "align_items": null,
            "bottom": null,
            "_model_module": "@jupyter-widgets/base",
            "top": null,
            "grid_column": null,
            "overflow_y": null,
            "overflow_x": null,
            "grid_auto_flow": null,
            "grid_area": null,
            "grid_template_columns": null,
            "flex": null,
            "_model_name": "LayoutModel",
            "justify_items": null,
            "grid_row": null,
            "max_height": null,
            "align_content": null,
            "visibility": null,
            "align_self": null,
            "height": null,
            "min_height": null,
            "padding": null,
            "grid_auto_rows": null,
            "grid_gap": null,
            "max_width": null,
            "order": null,
            "_view_module_version": "1.2.0",
            "grid_template_areas": null,
            "object_position": null,
            "object_fit": null,
            "grid_auto_columns": null,
            "margin": null,
            "display": null,
            "left": null
          }
        },
        "a791c26b34d84dbb9554ae16b67ecdca": {
          "model_module": "@jupyter-widgets/controls",
          "model_name": "PlayModel",
          "state": {
            "_view_name": "PlayView",
            "style": "IPY_MODEL_6cf0092d80124308b1e5bc0f50709b1c",
            "interval": 950,
            "_dom_classes": [],
            "description": "Press play",
            "_model_name": "PlayModel",
            "max": 30,
            "_view_module": "@jupyter-widgets/controls",
            "_model_module_version": "1.5.0",
            "value": 0,
            "_view_count": null,
            "disabled": false,
            "_repeat": true,
            "_view_module_version": "1.5.0",
            "show_repeat": true,
            "min": 0,
            "_playing": false,
            "step": 1,
            "description_tooltip": null,
            "_model_module": "@jupyter-widgets/controls",
            "layout": "IPY_MODEL_8797eabfc1fb4544bc5eee77bb125350"
          }
        },
        "21cd75afddc44f3c81cbf5e40b6fd0b6": {
          "model_module": "@jupyter-widgets/controls",
          "model_name": "ButtonModel",
          "state": {
            "_view_name": "ButtonView",
            "style": "IPY_MODEL_10a70cb229644e4dae7635d3649a8b95",
            "_dom_classes": [],
            "description": "",
            "_model_name": "ButtonModel",
            "button_style": "",
            "_view_module": "@jupyter-widgets/controls",
            "_model_module_version": "1.5.0",
            "tooltip": "",
            "_view_count": null,
            "disabled": true,
            "_view_module_version": "1.5.0",
            "layout": "IPY_MODEL_177d5bf49d484f5ba0dd3d5a0ea39d7b",
            "_model_module": "@jupyter-widgets/controls",
            "icon": "step-backward"
          }
        },
        "37a29a056c6a474aa56d91a82189ca1c": {
          "model_module": "@jupyter-widgets/controls",
          "model_name": "ButtonModel",
          "state": {
            "_view_name": "ButtonView",
            "style": "IPY_MODEL_da12d52125784b81bea5867c35f33c27",
            "_dom_classes": [],
            "description": "",
            "_model_name": "ButtonModel",
            "button_style": "",
            "_view_module": "@jupyter-widgets/controls",
            "_model_module_version": "1.5.0",
            "tooltip": "",
            "_view_count": null,
            "disabled": false,
            "_view_module_version": "1.5.0",
            "layout": "IPY_MODEL_a3f76b56da1a4c4583298c38ec34d183",
            "_model_module": "@jupyter-widgets/controls",
            "icon": "step-forward"
          }
        },
        "f1820886ac0540f9a62b96f2507939a8": {
          "model_module": "@jupyter-widgets/controls",
          "model_name": "IntSliderModel",
          "state": {
            "_view_name": "IntSliderView",
            "style": "IPY_MODEL_ff2651ff3a7843569564e049aab37de9",
            "_dom_classes": [],
            "description": "Speed:",
            "step": 1,
            "_model_name": "IntSliderModel",
            "orientation": "horizontal",
            "max": 10,
            "_view_module": "@jupyter-widgets/controls",
            "_model_module_version": "1.5.0",
            "value": 1,
            "_view_count": null,
            "disabled": false,
            "_view_module_version": "1.5.0",
            "min": 1,
            "continuous_update": false,
            "readout_format": "d",
            "description_tooltip": null,
            "readout": true,
            "_model_module": "@jupyter-widgets/controls",
            "layout": "IPY_MODEL_85179dea4e764376aef4f5e4a0a9ab50"
          }
        },
        "d0c07912fcdb4c539f266f459928ecad": {
          "model_module": "@jupyter-widgets/controls",
          "model_name": "DescriptionStyleModel",
          "state": {
            "_view_name": "StyleView",
            "_model_name": "DescriptionStyleModel",
            "description_width": "",
            "_view_module": "@jupyter-widgets/base",
            "_model_module_version": "1.5.0",
            "_view_count": null,
            "_view_module_version": "1.2.0",
            "_model_module": "@jupyter-widgets/controls"
          }
        },
        "d0effb233b8f431398c7fc5a4e201aa9": {
          "model_module": "@jupyter-widgets/base",
          "model_name": "LayoutModel",
          "state": {
            "_view_name": "LayoutView",
            "grid_template_rows": null,
            "right": null,
            "justify_content": null,
            "_view_module": "@jupyter-widgets/base",
            "overflow": null,
            "_model_module_version": "1.2.0",
            "_view_count": null,
            "flex_flow": null,
            "width": "500px",
            "min_width": null,
            "border": null,
            "align_items": null,
            "bottom": null,
            "_model_module": "@jupyter-widgets/base",
            "top": null,
            "grid_column": null,
            "overflow_y": null,
            "overflow_x": null,
            "grid_auto_flow": null,
            "grid_area": null,
            "grid_template_columns": null,
            "flex": null,
            "_model_name": "LayoutModel",
            "justify_items": null,
            "grid_row": null,
            "max_height": null,
            "align_content": null,
            "visibility": null,
            "align_self": null,
            "height": null,
            "min_height": null,
            "padding": null,
            "grid_auto_rows": null,
            "grid_gap": null,
            "max_width": null,
            "order": null,
            "_view_module_version": "1.2.0",
            "grid_template_areas": null,
            "object_position": null,
            "object_fit": null,
            "grid_auto_columns": null,
            "margin": null,
            "display": null,
            "left": null
          }
        },
        "c34438e45fd74789ae2ca42bf6feb395": {
          "model_module": "@jupyter-widgets/controls",
          "model_name": "ButtonStyleModel",
          "state": {
            "_view_name": "StyleView",
            "_model_name": "ButtonStyleModel",
            "_view_module": "@jupyter-widgets/base",
            "_model_module_version": "1.5.0",
            "_view_count": null,
            "button_color": null,
            "font_weight": "",
            "_view_module_version": "1.2.0",
            "_model_module": "@jupyter-widgets/controls"
          }
        },
        "b80b0215d1ca4d14ab123d69c0ad4fee": {
          "model_module": "@jupyter-widgets/base",
          "model_name": "LayoutModel",
          "state": {
            "_view_name": "LayoutView",
            "grid_template_rows": null,
            "right": null,
            "justify_content": null,
            "_view_module": "@jupyter-widgets/base",
            "overflow": null,
            "_model_module_version": "1.2.0",
            "_view_count": null,
            "flex_flow": null,
            "width": null,
            "min_width": null,
            "border": null,
            "align_items": null,
            "bottom": null,
            "_model_module": "@jupyter-widgets/base",
            "top": null,
            "grid_column": null,
            "overflow_y": null,
            "overflow_x": null,
            "grid_auto_flow": null,
            "grid_area": null,
            "grid_template_columns": null,
            "flex": null,
            "_model_name": "LayoutModel",
            "justify_items": null,
            "grid_row": null,
            "max_height": null,
            "align_content": null,
            "visibility": null,
            "align_self": null,
            "height": null,
            "min_height": null,
            "padding": null,
            "grid_auto_rows": null,
            "grid_gap": null,
            "max_width": null,
            "order": null,
            "_view_module_version": "1.2.0",
            "grid_template_areas": null,
            "object_position": null,
            "object_fit": null,
            "grid_auto_columns": null,
            "margin": null,
            "display": null,
            "left": null
          }
        },
        "6cf0092d80124308b1e5bc0f50709b1c": {
          "model_module": "@jupyter-widgets/controls",
          "model_name": "DescriptionStyleModel",
          "state": {
            "_view_name": "StyleView",
            "_model_name": "DescriptionStyleModel",
            "description_width": "",
            "_view_module": "@jupyter-widgets/base",
            "_model_module_version": "1.5.0",
            "_view_count": null,
            "_view_module_version": "1.2.0",
            "_model_module": "@jupyter-widgets/controls"
          }
        },
        "8797eabfc1fb4544bc5eee77bb125350": {
          "model_module": "@jupyter-widgets/base",
          "model_name": "LayoutModel",
          "state": {
            "_view_name": "LayoutView",
            "grid_template_rows": null,
            "right": null,
            "justify_content": null,
            "_view_module": "@jupyter-widgets/base",
            "overflow": null,
            "_model_module_version": "1.2.0",
            "_view_count": null,
            "flex_flow": null,
            "width": null,
            "min_width": null,
            "border": null,
            "align_items": null,
            "bottom": null,
            "_model_module": "@jupyter-widgets/base",
            "top": null,
            "grid_column": null,
            "overflow_y": null,
            "overflow_x": null,
            "grid_auto_flow": null,
            "grid_area": null,
            "grid_template_columns": null,
            "flex": null,
            "_model_name": "LayoutModel",
            "justify_items": null,
            "grid_row": null,
            "max_height": null,
            "align_content": null,
            "visibility": null,
            "align_self": null,
            "height": null,
            "min_height": null,
            "padding": null,
            "grid_auto_rows": null,
            "grid_gap": null,
            "max_width": null,
            "order": null,
            "_view_module_version": "1.2.0",
            "grid_template_areas": null,
            "object_position": null,
            "object_fit": null,
            "grid_auto_columns": null,
            "margin": null,
            "display": null,
            "left": null
          }
        },
        "10a70cb229644e4dae7635d3649a8b95": {
          "model_module": "@jupyter-widgets/controls",
          "model_name": "ButtonStyleModel",
          "state": {
            "_view_name": "StyleView",
            "_model_name": "ButtonStyleModel",
            "_view_module": "@jupyter-widgets/base",
            "_model_module_version": "1.5.0",
            "_view_count": null,
            "button_color": null,
            "font_weight": "",
            "_view_module_version": "1.2.0",
            "_model_module": "@jupyter-widgets/controls"
          }
        },
        "177d5bf49d484f5ba0dd3d5a0ea39d7b": {
          "model_module": "@jupyter-widgets/base",
          "model_name": "LayoutModel",
          "state": {
            "_view_name": "LayoutView",
            "grid_template_rows": null,
            "right": null,
            "justify_content": null,
            "_view_module": "@jupyter-widgets/base",
            "overflow": null,
            "_model_module_version": "1.2.0",
            "_view_count": null,
            "flex_flow": null,
            "width": "40px",
            "min_width": null,
            "border": null,
            "align_items": null,
            "bottom": null,
            "_model_module": "@jupyter-widgets/base",
            "top": null,
            "grid_column": null,
            "overflow_y": null,
            "overflow_x": null,
            "grid_auto_flow": null,
            "grid_area": null,
            "grid_template_columns": null,
            "flex": null,
            "_model_name": "LayoutModel",
            "justify_items": null,
            "grid_row": null,
            "max_height": null,
            "align_content": null,
            "visibility": null,
            "align_self": null,
            "height": null,
            "min_height": null,
            "padding": null,
            "grid_auto_rows": null,
            "grid_gap": null,
            "max_width": null,
            "order": null,
            "_view_module_version": "1.2.0",
            "grid_template_areas": null,
            "object_position": null,
            "object_fit": null,
            "grid_auto_columns": null,
            "margin": null,
            "display": null,
            "left": null
          }
        },
        "da12d52125784b81bea5867c35f33c27": {
          "model_module": "@jupyter-widgets/controls",
          "model_name": "ButtonStyleModel",
          "state": {
            "_view_name": "StyleView",
            "_model_name": "ButtonStyleModel",
            "_view_module": "@jupyter-widgets/base",
            "_model_module_version": "1.5.0",
            "_view_count": null,
            "button_color": null,
            "font_weight": "",
            "_view_module_version": "1.2.0",
            "_model_module": "@jupyter-widgets/controls"
          }
        },
        "a3f76b56da1a4c4583298c38ec34d183": {
          "model_module": "@jupyter-widgets/base",
          "model_name": "LayoutModel",
          "state": {
            "_view_name": "LayoutView",
            "grid_template_rows": null,
            "right": null,
            "justify_content": null,
            "_view_module": "@jupyter-widgets/base",
            "overflow": null,
            "_model_module_version": "1.2.0",
            "_view_count": null,
            "flex_flow": null,
            "width": "40px",
            "min_width": null,
            "border": null,
            "align_items": null,
            "bottom": null,
            "_model_module": "@jupyter-widgets/base",
            "top": null,
            "grid_column": null,
            "overflow_y": null,
            "overflow_x": null,
            "grid_auto_flow": null,
            "grid_area": null,
            "grid_template_columns": null,
            "flex": null,
            "_model_name": "LayoutModel",
            "justify_items": null,
            "grid_row": null,
            "max_height": null,
            "align_content": null,
            "visibility": null,
            "align_self": null,
            "height": null,
            "min_height": null,
            "padding": null,
            "grid_auto_rows": null,
            "grid_gap": null,
            "max_width": null,
            "order": null,
            "_view_module_version": "1.2.0",
            "grid_template_areas": null,
            "object_position": null,
            "object_fit": null,
            "grid_auto_columns": null,
            "margin": null,
            "display": null,
            "left": null
          }
        },
        "ff2651ff3a7843569564e049aab37de9": {
          "model_module": "@jupyter-widgets/controls",
          "model_name": "SliderStyleModel",
          "state": {
            "_view_name": "StyleView",
            "handle_color": null,
            "_model_name": "SliderStyleModel",
            "description_width": "",
            "_view_module": "@jupyter-widgets/base",
            "_model_module_version": "1.5.0",
            "_view_count": null,
            "_view_module_version": "1.2.0",
            "_model_module": "@jupyter-widgets/controls"
          }
        },
        "85179dea4e764376aef4f5e4a0a9ab50": {
          "model_module": "@jupyter-widgets/base",
          "model_name": "LayoutModel",
          "state": {
            "_view_name": "LayoutView",
            "grid_template_rows": null,
            "right": null,
            "justify_content": null,
            "_view_module": "@jupyter-widgets/base",
            "overflow": null,
            "_model_module_version": "1.2.0",
            "_view_count": null,
            "flex_flow": null,
            "width": null,
            "min_width": null,
            "border": null,
            "align_items": null,
            "bottom": null,
            "_model_module": "@jupyter-widgets/base",
            "top": null,
            "grid_column": null,
            "overflow_y": null,
            "overflow_x": null,
            "grid_auto_flow": null,
            "grid_area": null,
            "grid_template_columns": null,
            "flex": null,
            "_model_name": "LayoutModel",
            "justify_items": null,
            "grid_row": null,
            "max_height": null,
            "align_content": null,
            "visibility": null,
            "align_self": null,
            "height": null,
            "min_height": null,
            "padding": null,
            "grid_auto_rows": null,
            "grid_gap": null,
            "max_width": null,
            "order": null,
            "_view_module_version": "1.2.0",
            "grid_template_areas": null,
            "object_position": null,
            "object_fit": null,
            "grid_auto_columns": null,
            "margin": null,
            "display": null,
            "left": null
          }
        },
        "28d2a4557ecc4090af67521b10c5023e": {
          "model_module": "@jupyter-widgets/base",
          "model_name": "LayoutModel",
          "state": {
            "_view_name": "LayoutView",
            "grid_template_rows": null,
            "right": null,
            "justify_content": null,
            "_view_module": "@jupyter-widgets/base",
            "overflow": null,
            "_model_module_version": "1.2.0",
            "_view_count": null,
            "flex_flow": null,
            "width": null,
            "min_width": null,
            "border": null,
            "align_items": null,
            "bottom": null,
            "_model_module": "@jupyter-widgets/base",
            "top": null,
            "grid_column": null,
            "overflow_y": null,
            "overflow_x": null,
            "grid_auto_flow": null,
            "grid_area": null,
            "grid_template_columns": null,
            "flex": null,
            "_model_name": "LayoutModel",
            "justify_items": null,
            "grid_row": null,
            "max_height": null,
            "align_content": null,
            "visibility": null,
            "align_self": null,
            "height": null,
            "min_height": null,
            "padding": null,
            "grid_auto_rows": null,
            "grid_gap": null,
            "max_width": null,
            "order": null,
            "_view_module_version": "1.2.0",
            "grid_template_areas": null,
            "object_position": null,
            "object_fit": null,
            "grid_auto_columns": null,
            "margin": null,
            "display": null,
            "left": null
          }
        },
        "042c773e61804062ae7388ceac680b01": {
          "model_module": "@jupyter-widgets/base",
          "model_name": "LayoutModel",
          "state": {
            "_view_name": "LayoutView",
            "grid_template_rows": null,
            "right": null,
            "justify_content": null,
            "_view_module": "@jupyter-widgets/base",
            "overflow": null,
            "_model_module_version": "1.2.0",
            "_view_count": null,
            "flex_flow": null,
            "width": null,
            "min_width": null,
            "border": null,
            "align_items": null,
            "bottom": null,
            "_model_module": "@jupyter-widgets/base",
            "top": null,
            "grid_column": null,
            "overflow_y": null,
            "overflow_x": null,
            "grid_auto_flow": null,
            "grid_area": null,
            "grid_template_columns": null,
            "flex": null,
            "_model_name": "LayoutModel",
            "justify_items": null,
            "grid_row": null,
            "max_height": null,
            "align_content": null,
            "visibility": null,
            "align_self": null,
            "height": null,
            "min_height": null,
            "padding": null,
            "grid_auto_rows": null,
            "grid_gap": null,
            "max_width": null,
            "order": null,
            "_view_module_version": "1.2.0",
            "grid_template_areas": null,
            "object_position": null,
            "object_fit": null,
            "grid_auto_columns": null,
            "margin": null,
            "display": null,
            "left": null
          }
        },
        "0d41e681ed5044cc8f381bb0d3970055": {
          "model_module": "@jupyter-widgets/controls",
          "model_name": "VBoxModel",
          "state": {
            "_view_name": "VBoxView",
            "_dom_classes": [],
            "_model_name": "VBoxModel",
            "_view_module": "@jupyter-widgets/controls",
            "_model_module_version": "1.5.0",
            "_view_count": null,
            "_view_module_version": "1.5.0",
            "box_style": "",
            "layout": "IPY_MODEL_b0862fd6d07b4f61a58cb53025f3b45d",
            "_model_module": "@jupyter-widgets/controls",
            "children": [
              "IPY_MODEL_f757ada7456248e3a0fb16192ff80c2e",
              "IPY_MODEL_78b681996d6f406ea6d16cb64761fa51",
              "IPY_MODEL_7b6e62aa1ee54e14aa0367b1594bcf87",
              "IPY_MODEL_8870b174584a42598c2e91201d2eb89f"
            ]
          }
        },
        "b0862fd6d07b4f61a58cb53025f3b45d": {
          "model_module": "@jupyter-widgets/base",
          "model_name": "LayoutModel",
          "state": {
            "_view_name": "LayoutView",
            "grid_template_rows": null,
            "right": null,
            "justify_content": null,
            "_view_module": "@jupyter-widgets/base",
            "overflow": null,
            "_model_module_version": "1.2.0",
            "_view_count": null,
            "flex_flow": null,
            "width": null,
            "min_width": null,
            "border": null,
            "align_items": null,
            "bottom": null,
            "_model_module": "@jupyter-widgets/base",
            "top": null,
            "grid_column": null,
            "overflow_y": null,
            "overflow_x": null,
            "grid_auto_flow": null,
            "grid_area": null,
            "grid_template_columns": null,
            "flex": null,
            "_model_name": "LayoutModel",
            "justify_items": null,
            "grid_row": null,
            "max_height": null,
            "align_content": null,
            "visibility": null,
            "align_self": null,
            "height": null,
            "min_height": null,
            "padding": null,
            "grid_auto_rows": null,
            "grid_gap": null,
            "max_width": null,
            "order": null,
            "_view_module_version": "1.2.0",
            "grid_template_areas": null,
            "object_position": null,
            "object_fit": null,
            "grid_auto_columns": null,
            "margin": null,
            "display": null,
            "left": null
          }
        },
        "f757ada7456248e3a0fb16192ff80c2e": {
          "model_module": "@jupyter-widgets/controls",
          "model_name": "HBoxModel",
          "state": {
            "_view_name": "HBoxView",
            "_dom_classes": [],
            "_model_name": "HBoxModel",
            "_view_module": "@jupyter-widgets/controls",
            "_model_module_version": "1.5.0",
            "_view_count": null,
            "_view_module_version": "1.5.0",
            "box_style": "",
            "layout": "IPY_MODEL_4f8098efcc9f4845ba8cf1fa691bbcc8",
            "_model_module": "@jupyter-widgets/controls",
            "children": [
              "IPY_MODEL_fa56f94e968b4229afba041b935dad86",
              "IPY_MODEL_4ffc05c4e8094ac8bedf2c505d47a43c"
            ]
          }
        },
        "78b681996d6f406ea6d16cb64761fa51": {
          "model_module": "@jupyter-widgets/output",
          "model_name": "OutputModel",
          "state": {
            "_view_name": "OutputView",
            "msg_id": "",
            "_dom_classes": [],
            "_model_name": "OutputModel",
            "outputs": [
              {
                "output_type": "display_data",
                "metadata": {
                  "tags": []
                },
                "text/plain": "<graphviz.files.Source at 0x7f2583e35940>",
                "image/svg+xml": "<?xml version=\"1.0\" encoding=\"UTF-8\" standalone=\"no\"?>\n<!DOCTYPE svg PUBLIC \"-//W3C//DTD SVG 1.1//EN\"\n \"http://www.w3.org/Graphics/SVG/1.1/DTD/svg11.dtd\">\n<!-- Generated by graphviz version 2.40.1 (20161225.0304)\n -->\n<!-- Title: %3 Pages: 1 -->\n<svg width=\"554pt\" height=\"251pt\"\n viewBox=\"0.00 0.00 554.00 251.00\" xmlns=\"http://www.w3.org/2000/svg\" xmlns:xlink=\"http://www.w3.org/1999/xlink\">\n<g id=\"graph0\" class=\"graph\" transform=\"scale(1 1) rotate(0) translate(4 247)\">\n<title>%3</title>\n<polygon fill=\"#ffffff\" stroke=\"transparent\" points=\"-4,4 -4,-247 550,-247 550,4 -4,4\"/>\n<!-- EMPTY -->\n<g id=\"node1\" class=\"node\">\n<title>EMPTY</title>\n</g>\n<!-- I -->\n<g id=\"node6\" class=\"node\">\n<title>I</title>\n<ellipse fill=\"none\" stroke=\"#000000\" cx=\"109\" cy=\"-176\" rx=\"18\" ry=\"18\"/>\n<text text-anchor=\"middle\" x=\"109\" y=\"-172.3\" font-family=\"Times,serif\" font-size=\"14.00\" fill=\"#000000\">I</text>\n</g>\n<!-- EMPTY&#45;&gt;I -->\n<g id=\"edge1\" class=\"edge\">\n<title>EMPTY&#45;&gt;I</title>\n<path fill=\"none\" stroke=\"#000000\" d=\"M54.3048,-176C62.6909,-176 71.9407,-176 80.4103,-176\"/>\n<polygon fill=\"#000000\" stroke=\"#000000\" points=\"80.5976,-179.5001 90.5976,-176 80.5976,-172.5001 80.5976,-179.5001\"/>\n</g>\n<!-- E -->\n<g id=\"node2\" class=\"node\">\n<title>E</title>\n<ellipse fill=\"none\" stroke=\"#000000\" cx=\"355\" cy=\"-72\" rx=\"18\" ry=\"18\"/>\n<text text-anchor=\"middle\" x=\"355\" y=\"-68.3\" font-family=\"Times,serif\" font-size=\"14.00\" fill=\"#000000\">E</text>\n</g>\n<!-- G -->\n<g id=\"node5\" class=\"node\">\n<title>G</title>\n<ellipse fill=\"#66cd00\" stroke=\"#000000\" cx=\"436\" cy=\"-150\" rx=\"18\" ry=\"18\"/>\n<text text-anchor=\"middle\" x=\"436\" y=\"-146.3\" font-family=\"Times,serif\" font-size=\"14.00\" fill=\"#ffffff\">G</text>\n</g>\n<!-- E&#45;&gt;G -->\n<g id=\"edge12\" class=\"edge\">\n<title>E&#45;&gt;G</title>\n<path fill=\"none\" stroke=\"#000000\" d=\"M368.0141,-84.532C380.8858,-96.9271 400.771,-116.0758 415.7164,-130.4676\"/>\n<polygon fill=\"#000000\" stroke=\"#000000\" points=\"413.3873,-133.0837 423.0182,-137.4991 418.2428,-128.0415 413.3873,-133.0837\"/>\n<text text-anchor=\"start\" x=\"391\" y=\"-117.8\" font-family=\"Times,serif\" font-size=\"14.00\" fill=\"#000000\"> &#39;&#39;</text>\n</g>\n<!-- A -->\n<g id=\"node7\" class=\"node\">\n<title>A</title>\n<ellipse fill=\"#66cd00\" stroke=\"#000000\" cx=\"190\" cy=\"-123\" rx=\"18\" ry=\"18\"/>\n<text text-anchor=\"middle\" x=\"190\" y=\"-119.3\" font-family=\"Times,serif\" font-size=\"14.00\" fill=\"#ffffff\">A</text>\n</g>\n<!-- E&#45;&gt;A -->\n<g id=\"edge11\" class=\"edge\">\n<title>E&#45;&gt;A</title>\n<path fill=\"none\" stroke=\"#000000\" d=\"M336.7429,-70.9374C315.8807,-70.3249 281.008,-71.1554 253,-81 238.1764,-86.2104 223.4608,-95.7117 211.9841,-104.3609\"/>\n<polygon fill=\"#000000\" stroke=\"#000000\" points=\"209.5891,-101.7917 203.891,-110.7238 213.9155,-107.2946 209.5891,-101.7917\"/>\n<text text-anchor=\"start\" x=\"266.5\" y=\"-84.8\" font-family=\"Times,serif\" font-size=\"14.00\" fill=\"#000000\"> &#39;&#39;</text>\n</g>\n<!-- C -->\n<g id=\"node3\" class=\"node\">\n<title>C</title>\n<ellipse fill=\"#66cd00\" stroke=\"#000000\" cx=\"271\" cy=\"-18\" rx=\"18\" ry=\"18\"/>\n<text text-anchor=\"middle\" x=\"271\" y=\"-14.3\" font-family=\"Times,serif\" font-size=\"14.00\" fill=\"#ffffff\">C</text>\n</g>\n<!-- C&#45;&gt;E -->\n<g id=\"edge8\" class=\"edge\">\n<title>C&#45;&gt;E</title>\n<path fill=\"none\" stroke=\"#000000\" d=\"M287.4509,-25.5632C296.9345,-30.1677 308.9345,-36.4177 319,-43 323.8698,-46.1846 328.8686,-49.8913 333.5328,-53.569\"/>\n<polygon fill=\"#000000\" stroke=\"#000000\" points=\"331.505,-56.4316 341.4669,-60.0385 335.9286,-51.0065 331.505,-56.4316\"/>\n<text text-anchor=\"start\" x=\"307\" y=\"-46.8\" font-family=\"Times,serif\" font-size=\"14.00\" fill=\"#000000\"> 0</text>\n</g>\n<!-- D -->\n<g id=\"node4\" class=\"node\">\n<title>D</title>\n<ellipse fill=\"#66cd00\" stroke=\"#000000\" cx=\"355\" cy=\"-150\" rx=\"18\" ry=\"18\"/>\n<text text-anchor=\"middle\" x=\"355\" y=\"-146.3\" font-family=\"Times,serif\" font-size=\"14.00\" fill=\"#ffffff\">D</text>\n</g>\n<!-- D&#45;&gt;G -->\n<g id=\"edge10\" class=\"edge\">\n<title>D&#45;&gt;G</title>\n<path fill=\"none\" stroke=\"#000000\" d=\"M373.3802,-150C383.4966,-150 396.2691,-150 407.6363,-150\"/>\n<polygon fill=\"#000000\" stroke=\"#000000\" points=\"407.9716,-153.5001 417.9716,-150 407.9716,-146.5001 407.9716,-153.5001\"/>\n<text text-anchor=\"start\" x=\"391\" y=\"-153.8\" font-family=\"Times,serif\" font-size=\"14.00\" fill=\"#000000\"> &#39;&#39;</text>\n</g>\n<!-- D&#45;&gt;A -->\n<g id=\"edge9\" class=\"edge\">\n<title>D&#45;&gt;A</title>\n<path fill=\"none\" stroke=\"#000000\" d=\"M337.1538,-154.1724C331.3937,-155.33 324.9575,-156.4262 319,-157 313.6912,-157.5113 312.3223,-157.3435 307,-157 270.4639,-154.6418 259.9067,-155.8124 226,-142 222.2776,-140.4836 218.4323,-138.7032 214.7024,-136.851\"/>\n<polygon fill=\"#000000\" stroke=\"#000000\" points=\"216.2891,-133.7311 205.8044,-132.208 213.0509,-139.9371 216.2891,-133.7311\"/>\n<text text-anchor=\"start\" x=\"266.5\" y=\"-158.8\" font-family=\"Times,serif\" font-size=\"14.00\" fill=\"#000000\"> &#39;&#39;</text>\n</g>\n<!-- F -->\n<g id=\"node9\" class=\"node\">\n<title>F</title>\n<ellipse fill=\"#66cd00\" stroke=\"#000000\" cx=\"524\" cy=\"-150\" rx=\"18\" ry=\"18\"/>\n<ellipse fill=\"none\" stroke=\"#000000\" cx=\"524\" cy=\"-150\" rx=\"22\" ry=\"22\"/>\n<text text-anchor=\"middle\" x=\"524\" y=\"-146.3\" font-family=\"Times,serif\" font-size=\"14.00\" fill=\"#ffffff\">F</text>\n</g>\n<!-- G&#45;&gt;F -->\n<g id=\"edge6\" class=\"edge\">\n<title>G&#45;&gt;F</title>\n<path fill=\"none\" stroke=\"#000000\" d=\"M454.2337,-150C465.0103,-150 478.9708,-150 491.5692,-150\"/>\n<polygon fill=\"#000000\" stroke=\"#000000\" points=\"491.7317,-153.5001 501.7317,-150 491.7317,-146.5001 491.7317,-153.5001\"/>\n<text text-anchor=\"start\" x=\"472\" y=\"-153.8\" font-family=\"Times,serif\" font-size=\"14.00\" fill=\"#000000\"> 1</text>\n</g>\n<!-- I&#45;&gt;G -->\n<g id=\"edge3\" class=\"edge\">\n<title>I&#45;&gt;G</title>\n<path fill=\"none\" stroke=\"#000000\" d=\"M120.9214,-189.935C135.5043,-205.3381 161.7586,-228 190,-228 190,-228 190,-228 355,-228 385.8853,-228 409.5315,-198.2118 423.0907,-175.4524\"/>\n<polygon fill=\"#000000\" stroke=\"#000000\" points=\"426.252,-176.9719 428.1133,-166.5418 420.154,-173.5346 426.252,-176.9719\"/>\n<text text-anchor=\"start\" x=\"266.5\" y=\"-231.8\" font-family=\"Times,serif\" font-size=\"14.00\" fill=\"#000000\"> &#39;&#39;</text>\n</g>\n<!-- I&#45;&gt;A -->\n<g id=\"edge2\" class=\"edge\">\n<title>I&#45;&gt;A</title>\n<path fill=\"none\" stroke=\"#000000\" d=\"M124.2355,-166.0311C136.1148,-158.2582 152.8227,-147.3259 166.4248,-138.4258\"/>\n<polygon fill=\"#000000\" stroke=\"#000000\" points=\"168.3813,-141.3283 174.8328,-132.9242 164.5486,-135.4708 168.3813,-141.3283\"/>\n<text text-anchor=\"start\" x=\"145\" y=\"-154.8\" font-family=\"Times,serif\" font-size=\"14.00\" fill=\"#000000\"> &#39;&#39;</text>\n</g>\n<!-- A&#45;&gt;C -->\n<g id=\"edge5\" class=\"edge\">\n<title>A&#45;&gt;C</title>\n<path fill=\"none\" stroke=\"#000000\" d=\"M194.4338,-105.2566C199.5698,-87.7061 209.5097,-60.9415 226,-43 231.2389,-37.3 238.0849,-32.5951 244.8504,-28.8643\"/>\n<polygon fill=\"#000000\" stroke=\"#000000\" points=\"246.4731,-31.9663 253.8679,-24.379 243.3556,-25.6989 246.4731,-31.9663\"/>\n<text text-anchor=\"start\" x=\"226\" y=\"-46.8\" font-family=\"Times,serif\" font-size=\"14.00\" fill=\"#000000\"> &#39;&#39;</text>\n</g>\n<!-- B -->\n<g id=\"node8\" class=\"node\">\n<title>B</title>\n<ellipse fill=\"#66cd00\" stroke=\"#000000\" cx=\"271\" cy=\"-123\" rx=\"18\" ry=\"18\"/>\n<text text-anchor=\"middle\" x=\"271\" y=\"-119.3\" font-family=\"Times,serif\" font-size=\"14.00\" fill=\"#ffffff\">B</text>\n</g>\n<!-- A&#45;&gt;B -->\n<g id=\"edge4\" class=\"edge\">\n<title>A&#45;&gt;B</title>\n<path fill=\"none\" stroke=\"#000000\" d=\"M208.3802,-123C218.4966,-123 231.2691,-123 242.6363,-123\"/>\n<polygon fill=\"#000000\" stroke=\"#000000\" points=\"242.9716,-126.5001 252.9716,-123 242.9716,-119.5001 242.9716,-126.5001\"/>\n<text text-anchor=\"start\" x=\"226\" y=\"-126.8\" font-family=\"Times,serif\" font-size=\"14.00\" fill=\"#000000\"> &#39;&#39;</text>\n</g>\n<!-- B&#45;&gt;D -->\n<g id=\"edge7\" class=\"edge\">\n<title>B&#45;&gt;D</title>\n<path fill=\"none\" stroke=\"#000000\" d=\"M288.4049,-128.5944C299.7804,-132.2508 314.8725,-137.1019 327.8129,-141.2613\"/>\n<polygon fill=\"#000000\" stroke=\"#000000\" points=\"327.0261,-144.6847 337.6174,-144.4127 329.1682,-138.0205 327.0261,-144.6847\"/>\n<text text-anchor=\"start\" x=\"307\" y=\"-141.8\" font-family=\"Times,serif\" font-size=\"14.00\" fill=\"#000000\"> 1</text>\n</g>\n</g>\n</svg>\n"
              }
            ],
            "_view_module": "@jupyter-widgets/output",
            "_model_module_version": "1.0.0",
            "_view_count": null,
            "_view_module_version": "1.0.0",
            "layout": "IPY_MODEL_7239b8663ebc448a8200e6a28b882a2a",
            "_model_module": "@jupyter-widgets/output"
          }
        },
        "7b6e62aa1ee54e14aa0367b1594bcf87": {
          "model_module": "@jupyter-widgets/output",
          "model_name": "OutputModel",
          "state": {
            "_view_name": "OutputView",
            "msg_id": "",
            "_dom_classes": [],
            "_model_name": "OutputModel",
            "outputs": [
              {
                "output_type": "display_data",
                "metadata": {
                  "tags": []
                },
                "text/plain": "<graphviz.files.Source at 0x7f2583e35978>",
                "image/svg+xml": "<?xml version=\"1.0\" encoding=\"UTF-8\" standalone=\"no\"?>\n<!DOCTYPE svg PUBLIC \"-//W3C//DTD SVG 1.1//EN\"\n \"http://www.w3.org/Graphics/SVG/1.1/DTD/svg11.dtd\">\n<!-- Generated by graphviz version 2.40.1 (20161225.0304)\n -->\n<!-- Title: %3 Pages: 1 -->\n<svg width=\"133pt\" height=\"47pt\"\n viewBox=\"0.00 0.00 133.00 47.00\" xmlns=\"http://www.w3.org/2000/svg\" xmlns:xlink=\"http://www.w3.org/1999/xlink\">\n<g id=\"graph0\" class=\"graph\" transform=\"scale(1 1) rotate(0) translate(4 43)\">\n<title>%3</title>\n<polygon fill=\"#ffffff\" stroke=\"transparent\" points=\"-4,4 -4,-43 129,-43 129,4 -4,4\"/>\n<!-- feed -->\n<g id=\"node1\" class=\"node\">\n<title>feed</title>\n<polygon fill=\"none\" stroke=\"#000000\" points=\"8.5,-3.5 8.5,-34.5 74.5,-34.5 74.5,-3.5 8.5,-3.5\"/>\n<text text-anchor=\"start\" x=\"17.5\" y=\"-15.9\" font-family=\"Times,serif\" font-size=\"12.00\" fill=\"#000000\">11010001</text>\n<polygon fill=\"none\" stroke=\"#000000\" points=\"74.5,-3.5 74.5,-34.5 99.5,-34.5 99.5,-3.5 74.5,-3.5\"/>\n<text text-anchor=\"start\" x=\"83.5\" y=\"-15.9\" font-family=\"Times,serif\" font-size=\"12.00\" fill=\"#000000\"> &#160;</text>\n<polygon fill=\"none\" stroke=\"#000000\" points=\"99.5,-3.5 99.5,-34.5 117.5,-34.5 117.5,-3.5 99.5,-3.5\"/>\n</g>\n</g>\n</svg>\n"
              }
            ],
            "_view_module": "@jupyter-widgets/output",
            "_model_module_version": "1.0.0",
            "_view_count": null,
            "_view_module_version": "1.0.0",
            "layout": "IPY_MODEL_fe51c1f2e36b49c7be43f18bab03e8ec",
            "_model_module": "@jupyter-widgets/output"
          }
        },
        "8870b174584a42598c2e91201d2eb89f": {
          "model_module": "@jupyter-widgets/controls",
          "model_name": "HBoxModel",
          "state": {
            "_view_name": "HBoxView",
            "_dom_classes": [],
            "_model_name": "HBoxModel",
            "_view_module": "@jupyter-widgets/controls",
            "_model_module_version": "1.5.0",
            "_view_count": null,
            "_view_module_version": "1.5.0",
            "box_style": "",
            "layout": "IPY_MODEL_db3b9d6474a24b5ba9b9e7833ce92a9a",
            "_model_module": "@jupyter-widgets/controls",
            "children": [
              "IPY_MODEL_8206abcf13134e8e9bf3c4c6d66c4b81",
              "IPY_MODEL_fdc05072863c43babe386de84cbf6940",
              "IPY_MODEL_2e06738c54344561a6438c21de587507",
              "IPY_MODEL_33750c318a3a4110b1bffcdc3d92c2fe"
            ]
          }
        },
        "4f8098efcc9f4845ba8cf1fa691bbcc8": {
          "model_module": "@jupyter-widgets/base",
          "model_name": "LayoutModel",
          "state": {
            "_view_name": "LayoutView",
            "grid_template_rows": null,
            "right": null,
            "justify_content": null,
            "_view_module": "@jupyter-widgets/base",
            "overflow": null,
            "_model_module_version": "1.2.0",
            "_view_count": null,
            "flex_flow": null,
            "width": null,
            "min_width": null,
            "border": null,
            "align_items": null,
            "bottom": null,
            "_model_module": "@jupyter-widgets/base",
            "top": null,
            "grid_column": null,
            "overflow_y": null,
            "overflow_x": null,
            "grid_auto_flow": null,
            "grid_area": null,
            "grid_template_columns": null,
            "flex": null,
            "_model_name": "LayoutModel",
            "justify_items": null,
            "grid_row": null,
            "max_height": null,
            "align_content": null,
            "visibility": null,
            "align_self": null,
            "height": null,
            "min_height": null,
            "padding": null,
            "grid_auto_rows": null,
            "grid_gap": null,
            "max_width": null,
            "order": null,
            "_view_module_version": "1.2.0",
            "grid_template_areas": null,
            "object_position": null,
            "object_fit": null,
            "grid_auto_columns": null,
            "margin": null,
            "display": null,
            "left": null
          }
        },
        "fa56f94e968b4229afba041b935dad86": {
          "model_module": "@jupyter-widgets/controls",
          "model_name": "TextModel",
          "state": {
            "_view_name": "TextView",
            "style": "IPY_MODEL_3fbb1d284ed2431b9867ec94d28d1892",
            "_dom_classes": [],
            "description": "Input:",
            "_model_name": "TextModel",
            "placeholder": "Sigma: {0,1}",
            "_view_module": "@jupyter-widgets/controls",
            "_model_module_version": "1.5.0",
            "value": "11010001",
            "_view_count": null,
            "disabled": true,
            "_view_module_version": "1.5.0",
            "continuous_update": true,
            "description_tooltip": null,
            "_model_module": "@jupyter-widgets/controls",
            "layout": "IPY_MODEL_54b91de4aa6e40f48316985fefe88718"
          }
        },
        "4ffc05c4e8094ac8bedf2c505d47a43c": {
          "model_module": "@jupyter-widgets/controls",
          "model_name": "ButtonModel",
          "state": {
            "_view_name": "ButtonView",
            "style": "IPY_MODEL_55f0eb3311cb46f98f1f8dba2714ab37",
            "_dom_classes": [],
            "description": "Change Input",
            "_model_name": "ButtonModel",
            "button_style": "primary",
            "_view_module": "@jupyter-widgets/controls",
            "_model_module_version": "1.5.0",
            "tooltip": "",
            "_view_count": null,
            "disabled": false,
            "_view_module_version": "1.5.0",
            "layout": "IPY_MODEL_c304baab7e5f4ab7ad8585d2d685198f",
            "_model_module": "@jupyter-widgets/controls",
            "icon": ""
          }
        },
        "db3b9d6474a24b5ba9b9e7833ce92a9a": {
          "model_module": "@jupyter-widgets/base",
          "model_name": "LayoutModel",
          "state": {
            "_view_name": "LayoutView",
            "grid_template_rows": null,
            "right": null,
            "justify_content": null,
            "_view_module": "@jupyter-widgets/base",
            "overflow": null,
            "_model_module_version": "1.2.0",
            "_view_count": null,
            "flex_flow": null,
            "width": null,
            "min_width": null,
            "border": null,
            "align_items": null,
            "bottom": null,
            "_model_module": "@jupyter-widgets/base",
            "top": null,
            "grid_column": null,
            "overflow_y": null,
            "overflow_x": null,
            "grid_auto_flow": null,
            "grid_area": null,
            "grid_template_columns": null,
            "flex": null,
            "_model_name": "LayoutModel",
            "justify_items": null,
            "grid_row": null,
            "max_height": null,
            "align_content": null,
            "visibility": null,
            "align_self": null,
            "height": null,
            "min_height": null,
            "padding": null,
            "grid_auto_rows": null,
            "grid_gap": null,
            "max_width": null,
            "order": null,
            "_view_module_version": "1.2.0",
            "grid_template_areas": null,
            "object_position": null,
            "object_fit": null,
            "grid_auto_columns": null,
            "margin": null,
            "display": null,
            "left": null
          }
        },
        "8206abcf13134e8e9bf3c4c6d66c4b81": {
          "model_module": "@jupyter-widgets/controls",
          "model_name": "PlayModel",
          "state": {
            "_view_name": "PlayView",
            "style": "IPY_MODEL_064d77c46f1b44d9a1e1811d8f9cc954",
            "interval": 950,
            "_dom_classes": [],
            "description": "Press play",
            "_model_name": "PlayModel",
            "max": 24,
            "_view_module": "@jupyter-widgets/controls",
            "_model_module_version": "1.5.0",
            "value": 24,
            "_view_count": null,
            "disabled": false,
            "_repeat": false,
            "_view_module_version": "1.5.0",
            "show_repeat": true,
            "min": 0,
            "_playing": false,
            "step": 1,
            "description_tooltip": null,
            "_model_module": "@jupyter-widgets/controls",
            "layout": "IPY_MODEL_e69106b4cd9646f790b429cd1eb10b83"
          }
        },
        "fdc05072863c43babe386de84cbf6940": {
          "model_module": "@jupyter-widgets/controls",
          "model_name": "ButtonModel",
          "state": {
            "_view_name": "ButtonView",
            "style": "IPY_MODEL_21dbe1c2d25c4547aef172635543fd2c",
            "_dom_classes": [],
            "description": "",
            "_model_name": "ButtonModel",
            "button_style": "",
            "_view_module": "@jupyter-widgets/controls",
            "_model_module_version": "1.5.0",
            "tooltip": "",
            "_view_count": null,
            "disabled": false,
            "_view_module_version": "1.5.0",
            "layout": "IPY_MODEL_17eda2db31fc4691963462bba16ecaae",
            "_model_module": "@jupyter-widgets/controls",
            "icon": "step-backward"
          }
        },
        "2e06738c54344561a6438c21de587507": {
          "model_module": "@jupyter-widgets/controls",
          "model_name": "ButtonModel",
          "state": {
            "_view_name": "ButtonView",
            "style": "IPY_MODEL_de86d62ef9aa42d9951a524a88e5794e",
            "_dom_classes": [],
            "description": "",
            "_model_name": "ButtonModel",
            "button_style": "",
            "_view_module": "@jupyter-widgets/controls",
            "_model_module_version": "1.5.0",
            "tooltip": "",
            "_view_count": null,
            "disabled": true,
            "_view_module_version": "1.5.0",
            "layout": "IPY_MODEL_433d424c8ce7494ca9402607ffcd7aad",
            "_model_module": "@jupyter-widgets/controls",
            "icon": "step-forward"
          }
        },
        "33750c318a3a4110b1bffcdc3d92c2fe": {
          "model_module": "@jupyter-widgets/controls",
          "model_name": "IntSliderModel",
          "state": {
            "_view_name": "IntSliderView",
            "style": "IPY_MODEL_2530584a77114857a34a2db4cfa63e71",
            "_dom_classes": [],
            "description": "Speed:",
            "step": 1,
            "_model_name": "IntSliderModel",
            "orientation": "horizontal",
            "max": 10,
            "_view_module": "@jupyter-widgets/controls",
            "_model_module_version": "1.5.0",
            "value": 1,
            "_view_count": null,
            "disabled": false,
            "_view_module_version": "1.5.0",
            "min": 1,
            "continuous_update": false,
            "readout_format": "d",
            "description_tooltip": null,
            "readout": true,
            "_model_module": "@jupyter-widgets/controls",
            "layout": "IPY_MODEL_cf1bd41442aa450686a223fcd6f00c18"
          }
        },
        "3fbb1d284ed2431b9867ec94d28d1892": {
          "model_module": "@jupyter-widgets/controls",
          "model_name": "DescriptionStyleModel",
          "state": {
            "_view_name": "StyleView",
            "_model_name": "DescriptionStyleModel",
            "description_width": "",
            "_view_module": "@jupyter-widgets/base",
            "_model_module_version": "1.5.0",
            "_view_count": null,
            "_view_module_version": "1.2.0",
            "_model_module": "@jupyter-widgets/controls"
          }
        },
        "54b91de4aa6e40f48316985fefe88718": {
          "model_module": "@jupyter-widgets/base",
          "model_name": "LayoutModel",
          "state": {
            "_view_name": "LayoutView",
            "grid_template_rows": null,
            "right": null,
            "justify_content": null,
            "_view_module": "@jupyter-widgets/base",
            "overflow": null,
            "_model_module_version": "1.2.0",
            "_view_count": null,
            "flex_flow": null,
            "width": "500px",
            "min_width": null,
            "border": null,
            "align_items": null,
            "bottom": null,
            "_model_module": "@jupyter-widgets/base",
            "top": null,
            "grid_column": null,
            "overflow_y": null,
            "overflow_x": null,
            "grid_auto_flow": null,
            "grid_area": null,
            "grid_template_columns": null,
            "flex": null,
            "_model_name": "LayoutModel",
            "justify_items": null,
            "grid_row": null,
            "max_height": null,
            "align_content": null,
            "visibility": null,
            "align_self": null,
            "height": null,
            "min_height": null,
            "padding": null,
            "grid_auto_rows": null,
            "grid_gap": null,
            "max_width": null,
            "order": null,
            "_view_module_version": "1.2.0",
            "grid_template_areas": null,
            "object_position": null,
            "object_fit": null,
            "grid_auto_columns": null,
            "margin": null,
            "display": null,
            "left": null
          }
        },
        "55f0eb3311cb46f98f1f8dba2714ab37": {
          "model_module": "@jupyter-widgets/controls",
          "model_name": "ButtonStyleModel",
          "state": {
            "_view_name": "StyleView",
            "_model_name": "ButtonStyleModel",
            "_view_module": "@jupyter-widgets/base",
            "_model_module_version": "1.5.0",
            "_view_count": null,
            "button_color": null,
            "font_weight": "",
            "_view_module_version": "1.2.0",
            "_model_module": "@jupyter-widgets/controls"
          }
        },
        "c304baab7e5f4ab7ad8585d2d685198f": {
          "model_module": "@jupyter-widgets/base",
          "model_name": "LayoutModel",
          "state": {
            "_view_name": "LayoutView",
            "grid_template_rows": null,
            "right": null,
            "justify_content": null,
            "_view_module": "@jupyter-widgets/base",
            "overflow": null,
            "_model_module_version": "1.2.0",
            "_view_count": null,
            "flex_flow": null,
            "width": null,
            "min_width": null,
            "border": null,
            "align_items": null,
            "bottom": null,
            "_model_module": "@jupyter-widgets/base",
            "top": null,
            "grid_column": null,
            "overflow_y": null,
            "overflow_x": null,
            "grid_auto_flow": null,
            "grid_area": null,
            "grid_template_columns": null,
            "flex": null,
            "_model_name": "LayoutModel",
            "justify_items": null,
            "grid_row": null,
            "max_height": null,
            "align_content": null,
            "visibility": null,
            "align_self": null,
            "height": null,
            "min_height": null,
            "padding": null,
            "grid_auto_rows": null,
            "grid_gap": null,
            "max_width": null,
            "order": null,
            "_view_module_version": "1.2.0",
            "grid_template_areas": null,
            "object_position": null,
            "object_fit": null,
            "grid_auto_columns": null,
            "margin": null,
            "display": null,
            "left": null
          }
        },
        "064d77c46f1b44d9a1e1811d8f9cc954": {
          "model_module": "@jupyter-widgets/controls",
          "model_name": "DescriptionStyleModel",
          "state": {
            "_view_name": "StyleView",
            "_model_name": "DescriptionStyleModel",
            "description_width": "",
            "_view_module": "@jupyter-widgets/base",
            "_model_module_version": "1.5.0",
            "_view_count": null,
            "_view_module_version": "1.2.0",
            "_model_module": "@jupyter-widgets/controls"
          }
        },
        "e69106b4cd9646f790b429cd1eb10b83": {
          "model_module": "@jupyter-widgets/base",
          "model_name": "LayoutModel",
          "state": {
            "_view_name": "LayoutView",
            "grid_template_rows": null,
            "right": null,
            "justify_content": null,
            "_view_module": "@jupyter-widgets/base",
            "overflow": null,
            "_model_module_version": "1.2.0",
            "_view_count": null,
            "flex_flow": null,
            "width": null,
            "min_width": null,
            "border": null,
            "align_items": null,
            "bottom": null,
            "_model_module": "@jupyter-widgets/base",
            "top": null,
            "grid_column": null,
            "overflow_y": null,
            "overflow_x": null,
            "grid_auto_flow": null,
            "grid_area": null,
            "grid_template_columns": null,
            "flex": null,
            "_model_name": "LayoutModel",
            "justify_items": null,
            "grid_row": null,
            "max_height": null,
            "align_content": null,
            "visibility": null,
            "align_self": null,
            "height": null,
            "min_height": null,
            "padding": null,
            "grid_auto_rows": null,
            "grid_gap": null,
            "max_width": null,
            "order": null,
            "_view_module_version": "1.2.0",
            "grid_template_areas": null,
            "object_position": null,
            "object_fit": null,
            "grid_auto_columns": null,
            "margin": null,
            "display": null,
            "left": null
          }
        },
        "21dbe1c2d25c4547aef172635543fd2c": {
          "model_module": "@jupyter-widgets/controls",
          "model_name": "ButtonStyleModel",
          "state": {
            "_view_name": "StyleView",
            "_model_name": "ButtonStyleModel",
            "_view_module": "@jupyter-widgets/base",
            "_model_module_version": "1.5.0",
            "_view_count": null,
            "button_color": null,
            "font_weight": "",
            "_view_module_version": "1.2.0",
            "_model_module": "@jupyter-widgets/controls"
          }
        },
        "17eda2db31fc4691963462bba16ecaae": {
          "model_module": "@jupyter-widgets/base",
          "model_name": "LayoutModel",
          "state": {
            "_view_name": "LayoutView",
            "grid_template_rows": null,
            "right": null,
            "justify_content": null,
            "_view_module": "@jupyter-widgets/base",
            "overflow": null,
            "_model_module_version": "1.2.0",
            "_view_count": null,
            "flex_flow": null,
            "width": "40px",
            "min_width": null,
            "border": null,
            "align_items": null,
            "bottom": null,
            "_model_module": "@jupyter-widgets/base",
            "top": null,
            "grid_column": null,
            "overflow_y": null,
            "overflow_x": null,
            "grid_auto_flow": null,
            "grid_area": null,
            "grid_template_columns": null,
            "flex": null,
            "_model_name": "LayoutModel",
            "justify_items": null,
            "grid_row": null,
            "max_height": null,
            "align_content": null,
            "visibility": null,
            "align_self": null,
            "height": null,
            "min_height": null,
            "padding": null,
            "grid_auto_rows": null,
            "grid_gap": null,
            "max_width": null,
            "order": null,
            "_view_module_version": "1.2.0",
            "grid_template_areas": null,
            "object_position": null,
            "object_fit": null,
            "grid_auto_columns": null,
            "margin": null,
            "display": null,
            "left": null
          }
        },
        "de86d62ef9aa42d9951a524a88e5794e": {
          "model_module": "@jupyter-widgets/controls",
          "model_name": "ButtonStyleModel",
          "state": {
            "_view_name": "StyleView",
            "_model_name": "ButtonStyleModel",
            "_view_module": "@jupyter-widgets/base",
            "_model_module_version": "1.5.0",
            "_view_count": null,
            "button_color": null,
            "font_weight": "",
            "_view_module_version": "1.2.0",
            "_model_module": "@jupyter-widgets/controls"
          }
        },
        "433d424c8ce7494ca9402607ffcd7aad": {
          "model_module": "@jupyter-widgets/base",
          "model_name": "LayoutModel",
          "state": {
            "_view_name": "LayoutView",
            "grid_template_rows": null,
            "right": null,
            "justify_content": null,
            "_view_module": "@jupyter-widgets/base",
            "overflow": null,
            "_model_module_version": "1.2.0",
            "_view_count": null,
            "flex_flow": null,
            "width": "40px",
            "min_width": null,
            "border": null,
            "align_items": null,
            "bottom": null,
            "_model_module": "@jupyter-widgets/base",
            "top": null,
            "grid_column": null,
            "overflow_y": null,
            "overflow_x": null,
            "grid_auto_flow": null,
            "grid_area": null,
            "grid_template_columns": null,
            "flex": null,
            "_model_name": "LayoutModel",
            "justify_items": null,
            "grid_row": null,
            "max_height": null,
            "align_content": null,
            "visibility": null,
            "align_self": null,
            "height": null,
            "min_height": null,
            "padding": null,
            "grid_auto_rows": null,
            "grid_gap": null,
            "max_width": null,
            "order": null,
            "_view_module_version": "1.2.0",
            "grid_template_areas": null,
            "object_position": null,
            "object_fit": null,
            "grid_auto_columns": null,
            "margin": null,
            "display": null,
            "left": null
          }
        },
        "2530584a77114857a34a2db4cfa63e71": {
          "model_module": "@jupyter-widgets/controls",
          "model_name": "SliderStyleModel",
          "state": {
            "_view_name": "StyleView",
            "handle_color": null,
            "_model_name": "SliderStyleModel",
            "description_width": "",
            "_view_module": "@jupyter-widgets/base",
            "_model_module_version": "1.5.0",
            "_view_count": null,
            "_view_module_version": "1.2.0",
            "_model_module": "@jupyter-widgets/controls"
          }
        },
        "cf1bd41442aa450686a223fcd6f00c18": {
          "model_module": "@jupyter-widgets/base",
          "model_name": "LayoutModel",
          "state": {
            "_view_name": "LayoutView",
            "grid_template_rows": null,
            "right": null,
            "justify_content": null,
            "_view_module": "@jupyter-widgets/base",
            "overflow": null,
            "_model_module_version": "1.2.0",
            "_view_count": null,
            "flex_flow": null,
            "width": null,
            "min_width": null,
            "border": null,
            "align_items": null,
            "bottom": null,
            "_model_module": "@jupyter-widgets/base",
            "top": null,
            "grid_column": null,
            "overflow_y": null,
            "overflow_x": null,
            "grid_auto_flow": null,
            "grid_area": null,
            "grid_template_columns": null,
            "flex": null,
            "_model_name": "LayoutModel",
            "justify_items": null,
            "grid_row": null,
            "max_height": null,
            "align_content": null,
            "visibility": null,
            "align_self": null,
            "height": null,
            "min_height": null,
            "padding": null,
            "grid_auto_rows": null,
            "grid_gap": null,
            "max_width": null,
            "order": null,
            "_view_module_version": "1.2.0",
            "grid_template_areas": null,
            "object_position": null,
            "object_fit": null,
            "grid_auto_columns": null,
            "margin": null,
            "display": null,
            "left": null
          }
        },
        "7239b8663ebc448a8200e6a28b882a2a": {
          "model_module": "@jupyter-widgets/base",
          "model_name": "LayoutModel",
          "state": {
            "_view_name": "LayoutView",
            "grid_template_rows": null,
            "right": null,
            "justify_content": null,
            "_view_module": "@jupyter-widgets/base",
            "overflow": null,
            "_model_module_version": "1.2.0",
            "_view_count": null,
            "flex_flow": null,
            "width": null,
            "min_width": null,
            "border": null,
            "align_items": null,
            "bottom": null,
            "_model_module": "@jupyter-widgets/base",
            "top": null,
            "grid_column": null,
            "overflow_y": null,
            "overflow_x": null,
            "grid_auto_flow": null,
            "grid_area": null,
            "grid_template_columns": null,
            "flex": null,
            "_model_name": "LayoutModel",
            "justify_items": null,
            "grid_row": null,
            "max_height": null,
            "align_content": null,
            "visibility": null,
            "align_self": null,
            "height": null,
            "min_height": null,
            "padding": null,
            "grid_auto_rows": null,
            "grid_gap": null,
            "max_width": null,
            "order": null,
            "_view_module_version": "1.2.0",
            "grid_template_areas": null,
            "object_position": null,
            "object_fit": null,
            "grid_auto_columns": null,
            "margin": null,
            "display": null,
            "left": null
          }
        },
        "fe51c1f2e36b49c7be43f18bab03e8ec": {
          "model_module": "@jupyter-widgets/base",
          "model_name": "LayoutModel",
          "state": {
            "_view_name": "LayoutView",
            "grid_template_rows": null,
            "right": null,
            "justify_content": null,
            "_view_module": "@jupyter-widgets/base",
            "overflow": null,
            "_model_module_version": "1.2.0",
            "_view_count": null,
            "flex_flow": null,
            "width": null,
            "min_width": null,
            "border": null,
            "align_items": null,
            "bottom": null,
            "_model_module": "@jupyter-widgets/base",
            "top": null,
            "grid_column": null,
            "overflow_y": null,
            "overflow_x": null,
            "grid_auto_flow": null,
            "grid_area": null,
            "grid_template_columns": null,
            "flex": null,
            "_model_name": "LayoutModel",
            "justify_items": null,
            "grid_row": null,
            "max_height": null,
            "align_content": null,
            "visibility": null,
            "align_self": null,
            "height": null,
            "min_height": null,
            "padding": null,
            "grid_auto_rows": null,
            "grid_gap": null,
            "max_width": null,
            "order": null,
            "_view_module_version": "1.2.0",
            "grid_template_areas": null,
            "object_position": null,
            "object_fit": null,
            "grid_auto_columns": null,
            "margin": null,
            "display": null,
            "left": null
          }
        },
        "079c03596ea5420fa8f79693ec1967d8": {
          "model_module": "@jupyter-widgets/controls",
          "model_name": "VBoxModel",
          "state": {
            "_view_name": "VBoxView",
            "_dom_classes": [
              "widget-interact"
            ],
            "_model_name": "VBoxModel",
            "_view_module": "@jupyter-widgets/controls",
            "_model_module_version": "1.5.0",
            "_view_count": null,
            "_view_module_version": "1.5.0",
            "box_style": "",
            "layout": "IPY_MODEL_9e54e0b0996a4b3c8ebd020b94e3b880",
            "_model_module": "@jupyter-widgets/controls",
            "children": [
              "IPY_MODEL_91d94e3233d747909ff88bfd12149cab",
              "IPY_MODEL_0d25d33d53bb4c9d8338f60afeeec6c5",
              "IPY_MODEL_68b7818ddedb47e5964801263ff8fb42",
              "IPY_MODEL_19317f110f004889910bc4e4870c2bcd"
            ]
          }
        },
        "9e54e0b0996a4b3c8ebd020b94e3b880": {
          "model_module": "@jupyter-widgets/base",
          "model_name": "LayoutModel",
          "state": {
            "_view_name": "LayoutView",
            "grid_template_rows": null,
            "right": null,
            "justify_content": null,
            "_view_module": "@jupyter-widgets/base",
            "overflow": null,
            "_model_module_version": "1.2.0",
            "_view_count": null,
            "flex_flow": null,
            "width": null,
            "min_width": null,
            "border": null,
            "align_items": null,
            "bottom": null,
            "_model_module": "@jupyter-widgets/base",
            "top": null,
            "grid_column": null,
            "overflow_y": null,
            "overflow_x": null,
            "grid_auto_flow": null,
            "grid_area": null,
            "grid_template_columns": null,
            "flex": null,
            "_model_name": "LayoutModel",
            "justify_items": null,
            "grid_row": null,
            "max_height": null,
            "align_content": null,
            "visibility": null,
            "align_self": null,
            "height": null,
            "min_height": null,
            "padding": null,
            "grid_auto_rows": null,
            "grid_gap": null,
            "max_width": null,
            "order": null,
            "_view_module_version": "1.2.0",
            "grid_template_areas": null,
            "object_position": null,
            "object_fit": null,
            "grid_auto_columns": null,
            "margin": null,
            "display": null,
            "left": null
          }
        },
        "91d94e3233d747909ff88bfd12149cab": {
          "model_module": "@jupyter-widgets/controls",
          "model_name": "DropdownModel",
          "state": {
            "_options_labels": [
              "N1",
              "N2"
            ],
            "_view_name": "DropdownView",
            "style": "IPY_MODEL_b2b2e18a439e4c649ea35db02a1c32de",
            "_dom_classes": [],
            "description": "N",
            "_model_name": "DropdownModel",
            "index": 1,
            "_view_module": "@jupyter-widgets/controls",
            "_model_module_version": "1.5.0",
            "_view_count": null,
            "disabled": false,
            "_view_module_version": "1.5.0",
            "description_tooltip": null,
            "_model_module": "@jupyter-widgets/controls",
            "layout": "IPY_MODEL_0a613333f13846ed886ee481123abc84"
          }
        },
        "0d25d33d53bb4c9d8338f60afeeec6c5": {
          "model_module": "@jupyter-widgets/controls",
          "model_name": "TextModel",
          "state": {
            "_view_name": "TextView",
            "style": "IPY_MODEL_92e108abcc4a49e091c441b7821764aa",
            "_dom_classes": [],
            "description": "s",
            "_model_name": "TextModel",
            "placeholder": "​",
            "_view_module": "@jupyter-widgets/controls",
            "_model_module_version": "1.5.0",
            "value": "00010101000100",
            "_view_count": null,
            "disabled": false,
            "_view_module_version": "1.5.0",
            "continuous_update": true,
            "description_tooltip": null,
            "_model_module": "@jupyter-widgets/controls",
            "layout": "IPY_MODEL_2e6946a0e12049759d4aff71660d0609"
          }
        },
        "68b7818ddedb47e5964801263ff8fb42": {
          "model_module": "@jupyter-widgets/controls",
          "model_name": "IntSliderModel",
          "state": {
            "_view_name": "IntSliderView",
            "style": "IPY_MODEL_8d239a2e260e4a25bc3c6b757b060e3e",
            "_dom_classes": [],
            "description": "n",
            "step": 1,
            "_model_name": "IntSliderModel",
            "orientation": "horizontal",
            "max": 32,
            "_view_module": "@jupyter-widgets/controls",
            "_model_module_version": "1.5.0",
            "value": 14,
            "_view_count": null,
            "disabled": false,
            "_view_module_version": "1.5.0",
            "min": 0,
            "continuous_update": true,
            "readout_format": "d",
            "description_tooltip": null,
            "readout": true,
            "_model_module": "@jupyter-widgets/controls",
            "layout": "IPY_MODEL_70eaf2ad210241bc8cff5ccf640f78d7"
          }
        },
        "19317f110f004889910bc4e4870c2bcd": {
          "model_module": "@jupyter-widgets/output",
          "model_name": "OutputModel",
          "state": {
            "_view_name": "OutputView",
            "msg_id": "",
            "_dom_classes": [],
            "_model_name": "OutputModel",
            "outputs": [
              {
                "output_type": "stream",
                "metadata": {
                  "tags": []
                },
                "text": "string =  00010101000100\nStates reached =  {'I', 'S0'}\nStates reached =  {'I', 'S0'}\nStates reached =  {'I', 'S0'}\nStates reached =  {'I', 'S1', 'S0'}\nStates reached =  {'S2', 'I', 'S0'}\nStates reached =  {'F', 'S0', 'S1', 'I'}\nStates reached =  {'S2', 'I', 'S0'}\nStates reached =  {'F', 'S0', 'S1', 'I'}\nStates reached =  {'S2', 'I', 'S0'}\nStates reached =  {'I', 'F', 'S0'}\nStates reached =  {'I', 'S0'}\nStates reached =  {'I', 'S1', 'S0'}\nStates reached =  {'S2', 'I', 'S0'}\nStates reached =  {'I', 'F', 'S0'}\n",
                "stream": "stdout"
              }
            ],
            "_view_module": "@jupyter-widgets/output",
            "_model_module_version": "1.0.0",
            "_view_count": null,
            "_view_module_version": "1.0.0",
            "layout": "IPY_MODEL_4ee201a64f3f4c24ae881f177e4ed6eb",
            "_model_module": "@jupyter-widgets/output"
          }
        },
        "b2b2e18a439e4c649ea35db02a1c32de": {
          "model_module": "@jupyter-widgets/controls",
          "model_name": "DescriptionStyleModel",
          "state": {
            "_view_name": "StyleView",
            "_model_name": "DescriptionStyleModel",
            "description_width": "",
            "_view_module": "@jupyter-widgets/base",
            "_model_module_version": "1.5.0",
            "_view_count": null,
            "_view_module_version": "1.2.0",
            "_model_module": "@jupyter-widgets/controls"
          }
        },
        "0a613333f13846ed886ee481123abc84": {
          "model_module": "@jupyter-widgets/base",
          "model_name": "LayoutModel",
          "state": {
            "_view_name": "LayoutView",
            "grid_template_rows": null,
            "right": null,
            "justify_content": null,
            "_view_module": "@jupyter-widgets/base",
            "overflow": null,
            "_model_module_version": "1.2.0",
            "_view_count": null,
            "flex_flow": null,
            "width": null,
            "min_width": null,
            "border": null,
            "align_items": null,
            "bottom": null,
            "_model_module": "@jupyter-widgets/base",
            "top": null,
            "grid_column": null,
            "overflow_y": null,
            "overflow_x": null,
            "grid_auto_flow": null,
            "grid_area": null,
            "grid_template_columns": null,
            "flex": null,
            "_model_name": "LayoutModel",
            "justify_items": null,
            "grid_row": null,
            "max_height": null,
            "align_content": null,
            "visibility": null,
            "align_self": null,
            "height": null,
            "min_height": null,
            "padding": null,
            "grid_auto_rows": null,
            "grid_gap": null,
            "max_width": null,
            "order": null,
            "_view_module_version": "1.2.0",
            "grid_template_areas": null,
            "object_position": null,
            "object_fit": null,
            "grid_auto_columns": null,
            "margin": null,
            "display": null,
            "left": null
          }
        },
        "92e108abcc4a49e091c441b7821764aa": {
          "model_module": "@jupyter-widgets/controls",
          "model_name": "DescriptionStyleModel",
          "state": {
            "_view_name": "StyleView",
            "_model_name": "DescriptionStyleModel",
            "description_width": "",
            "_view_module": "@jupyter-widgets/base",
            "_model_module_version": "1.5.0",
            "_view_count": null,
            "_view_module_version": "1.2.0",
            "_model_module": "@jupyter-widgets/controls"
          }
        },
        "2e6946a0e12049759d4aff71660d0609": {
          "model_module": "@jupyter-widgets/base",
          "model_name": "LayoutModel",
          "state": {
            "_view_name": "LayoutView",
            "grid_template_rows": null,
            "right": null,
            "justify_content": null,
            "_view_module": "@jupyter-widgets/base",
            "overflow": null,
            "_model_module_version": "1.2.0",
            "_view_count": null,
            "flex_flow": null,
            "width": null,
            "min_width": null,
            "border": null,
            "align_items": null,
            "bottom": null,
            "_model_module": "@jupyter-widgets/base",
            "top": null,
            "grid_column": null,
            "overflow_y": null,
            "overflow_x": null,
            "grid_auto_flow": null,
            "grid_area": null,
            "grid_template_columns": null,
            "flex": null,
            "_model_name": "LayoutModel",
            "justify_items": null,
            "grid_row": null,
            "max_height": null,
            "align_content": null,
            "visibility": null,
            "align_self": null,
            "height": null,
            "min_height": null,
            "padding": null,
            "grid_auto_rows": null,
            "grid_gap": null,
            "max_width": null,
            "order": null,
            "_view_module_version": "1.2.0",
            "grid_template_areas": null,
            "object_position": null,
            "object_fit": null,
            "grid_auto_columns": null,
            "margin": null,
            "display": null,
            "left": null
          }
        },
        "8d239a2e260e4a25bc3c6b757b060e3e": {
          "model_module": "@jupyter-widgets/controls",
          "model_name": "SliderStyleModel",
          "state": {
            "_view_name": "StyleView",
            "handle_color": null,
            "_model_name": "SliderStyleModel",
            "description_width": "",
            "_view_module": "@jupyter-widgets/base",
            "_model_module_version": "1.5.0",
            "_view_count": null,
            "_view_module_version": "1.2.0",
            "_model_module": "@jupyter-widgets/controls"
          }
        },
        "70eaf2ad210241bc8cff5ccf640f78d7": {
          "model_module": "@jupyter-widgets/base",
          "model_name": "LayoutModel",
          "state": {
            "_view_name": "LayoutView",
            "grid_template_rows": null,
            "right": null,
            "justify_content": null,
            "_view_module": "@jupyter-widgets/base",
            "overflow": null,
            "_model_module_version": "1.2.0",
            "_view_count": null,
            "flex_flow": null,
            "width": null,
            "min_width": null,
            "border": null,
            "align_items": null,
            "bottom": null,
            "_model_module": "@jupyter-widgets/base",
            "top": null,
            "grid_column": null,
            "overflow_y": null,
            "overflow_x": null,
            "grid_auto_flow": null,
            "grid_area": null,
            "grid_template_columns": null,
            "flex": null,
            "_model_name": "LayoutModel",
            "justify_items": null,
            "grid_row": null,
            "max_height": null,
            "align_content": null,
            "visibility": null,
            "align_self": null,
            "height": null,
            "min_height": null,
            "padding": null,
            "grid_auto_rows": null,
            "grid_gap": null,
            "max_width": null,
            "order": null,
            "_view_module_version": "1.2.0",
            "grid_template_areas": null,
            "object_position": null,
            "object_fit": null,
            "grid_auto_columns": null,
            "margin": null,
            "display": null,
            "left": null
          }
        },
        "4ee201a64f3f4c24ae881f177e4ed6eb": {
          "model_module": "@jupyter-widgets/base",
          "model_name": "LayoutModel",
          "state": {
            "_view_name": "LayoutView",
            "grid_template_rows": null,
            "right": null,
            "justify_content": null,
            "_view_module": "@jupyter-widgets/base",
            "overflow": null,
            "_model_module_version": "1.2.0",
            "_view_count": null,
            "flex_flow": null,
            "width": null,
            "min_width": null,
            "border": null,
            "align_items": null,
            "bottom": null,
            "_model_module": "@jupyter-widgets/base",
            "top": null,
            "grid_column": null,
            "overflow_y": null,
            "overflow_x": null,
            "grid_auto_flow": null,
            "grid_area": null,
            "grid_template_columns": null,
            "flex": null,
            "_model_name": "LayoutModel",
            "justify_items": null,
            "grid_row": null,
            "max_height": null,
            "align_content": null,
            "visibility": null,
            "align_self": null,
            "height": null,
            "min_height": null,
            "padding": null,
            "grid_auto_rows": null,
            "grid_gap": null,
            "max_width": null,
            "order": null,
            "_view_module_version": "1.2.0",
            "grid_template_areas": null,
            "object_position": null,
            "object_fit": null,
            "grid_auto_columns": null,
            "margin": null,
            "display": null,
            "left": null
          }
        }
      }
    },
    "colab": {
      "name": "04_1_NFA_Basics.ipynb",
      "provenance": [],
      "include_colab_link": true
    }
  },
  "cells": [
    {
      "cell_type": "markdown",
      "metadata": {
        "id": "view-in-github",
        "colab_type": "text"
      },
      "source": [
        "<a href=\"https://colab.research.google.com/github/mueller14003/cse480-notebooks/blob/master/04_1_NFA_Basics.ipynb\" target=\"_parent\"><img src=\"https://colab.research.google.com/assets/colab-badge.svg\" alt=\"Open In Colab\"/></a>"
      ]
    },
    {
      "cell_type": "markdown",
      "metadata": {
        "run_control": {
          "frozen": false,
          "read_only": false
        },
        "id": "l55tlEvfzJAX"
      },
      "source": [
        "# NFA Basics\n",
        "\n",
        "You may wish to watch Ganesh's lecture on NFA a little, then play with the\n",
        "code below, and then finish watching."
      ]
    },
    {
      "cell_type": "code",
      "metadata": {
        "run_control": {
          "frozen": false,
          "read_only": false
        },
        "colab": {
          "base_uri": "https://localhost:8080/",
          "height": 321
        },
        "id": "Rd4rQfLmzJAc",
        "outputId": "6c9bdf82-1ccb-460c-912c-29e9b43ba820"
      },
      "source": [
        "# This Youtube video walks through this notebook\n",
        "from IPython.display import YouTubeVideo\n",
        "YouTubeVideo('xjFtLF95uBc')"
      ],
      "execution_count": 1,
      "outputs": [
        {
          "output_type": "execute_result",
          "data": {
            "text/html": [
              "\n",
              "        <iframe\n",
              "            width=\"400\"\n",
              "            height=\"300\"\n",
              "            src=\"https://www.youtube.com/embed/xjFtLF95uBc\"\n",
              "            frameborder=\"0\"\n",
              "            allowfullscreen\n",
              "        ></iframe>\n",
              "        "
            ],
            "text/plain": [
              "<IPython.lib.display.YouTubeVideo at 0x7f25851baf60>"
            ],
            "image/jpeg": "[encoded data removed]"
          },
          "metadata": {
            "tags": []
          },
          "execution_count": 1
        }
      ]
    },
    {
      "cell_type": "code",
      "metadata": {
        "run_control": {
          "frozen": false,
          "read_only": false
        },
        "colab": {
          "base_uri": "https://localhost:8080/"
        },
        "id": "q2FUTgPEzJAc",
        "outputId": "e85e4161-9cc2-44dc-f2d1-2b5d1508d4a3"
      },
      "source": [
        "#~~~~~~~~~~~~~~~~~~~~~~~~~~~~~~~~~~~~~~~~~~~~~~~~~~~~~~~\n",
        "import sys\n",
        "\n",
        "# -- Detect if in Own Install or in Colab\n",
        "try:\n",
        "    import google.colab\n",
        "    OWN_INSTALL = False\n",
        "except:\n",
        "    OWN_INSTALL = True\n",
        "    \n",
        "if OWN_INSTALL:\n",
        "    \n",
        "  #---- Leave these definitions ON if running on laptop\n",
        "  #---- Else turn OFF by putting them between ''' ... '''\n",
        "\n",
        "  sys.path[0:0] = ['../../../../..',  '../../../../../3rdparty',  \n",
        "                   '../../../..',  '../../../../3rdparty',  \n",
        "                   '../../..',     '../../../3rdparty', \n",
        "                   '../..',        '../../3rdparty',\n",
        "                   '..',           '../3rdparty' ]\n",
        "\n",
        "else: # In colab\n",
        "  ! if [ ! -d Jove ]; then git clone https://github.com/ganeshutah/Jove Jove; fi\n",
        "  sys.path.append('./Jove')\n",
        "  sys.path.append('./Jove/jove')\n",
        "\n",
        "# -- common imports --\n",
        "from jove.DotBashers import *\n",
        "from jove.Def_md2mc  import *\n",
        "from jove.Def_NFA    import *\n",
        "from jove.Def_DFA    import *\n",
        "from jove.AnimateNFA import *\n",
        "#~~~~~~~~~~~~~~~~~~~~~~~~~~~~~~~~~~~~~~~~~~~~~~~~~~~~~~~"
      ],
      "execution_count": 2,
      "outputs": [
        {
          "output_type": "stream",
          "text": [
            "Cloning into 'Jove'...\n",
            "remote: Enumerating objects: 4634, done.\u001b[K\n",
            "remote: Total 4634 (delta 0), reused 0 (delta 0), pack-reused 4634\u001b[K\n",
            "Receiving objects: 100% (4634/4634), 7.38 MiB | 17.77 MiB/s, done.\n",
            "Resolving deltas: 100% (3005/3005), done.\n",
            "You may use any of these help commands:\n",
            "help(ResetStNum)\n",
            "help(NxtStateStr)\n",
            "\n",
            "You may use any of these help commands:\n",
            "help(md2mc)\n",
            ".. and if you want to dig more, then ..\n",
            "help(default_line_attr)\n",
            "help(length_ok_input_items)\n",
            "help(union_line_attr_list_fld)\n",
            "help(extend_rsltdict)\n",
            "help(form_delta)\n",
            "help(get_machine_components)\n",
            "\n",
            "You may use any of these help commands:\n",
            "help(mkp_dfa)\n",
            "help(mk_dfa)\n",
            "help(totalize_dfa)\n",
            "help(addtosigma_delta)\n",
            "help(step_dfa)\n",
            "help(run_dfa)\n",
            "help(accepts_dfa)\n",
            "help(comp_dfa)\n",
            "help(union_dfa)\n",
            "help(intersect_dfa)\n",
            "help(pruneUnreach)\n",
            "help(iso_dfa)\n",
            "help(langeq_dfa)\n",
            "help(same_status)\n",
            "help(h_langeq_dfa)\n",
            "help(fixptDist)\n",
            "help(min_dfa)\n",
            "help(pairFR)\n",
            "help(state_combos)\n",
            "help(sepFinNonFin)\n",
            "help(bash_eql_classes)\n",
            "help(listminus)\n",
            "help(bash_1)\n",
            "help(mk_rep_eqc)\n",
            "help(F_of)\n",
            "help(rep_of_s)\n",
            "help(q0_of)\n",
            "help(Delta_of)\n",
            "help(mk_state_eqc_name)\n",
            "\n",
            "You may use any of these help commands:\n",
            "help(mk_nfa)\n",
            "help(totalize_nfa)\n",
            "help(step_nfa)\n",
            "help(run_nfa)\n",
            "help(ec_step_nfa)\n",
            "help(Eclosure)\n",
            "help(Echelp)\n",
            "help(accepts_nfa)\n",
            "help(nfa2dfa)\n",
            "help(n2d)\n",
            "help(inSets)\n",
            "help(rev_dfa)\n",
            "help(min_dfa_brz)\n",
            "\n",
            " \"help(AnimateNFA)\" gives you info on how to use animations with NFA \n"
          ],
          "name": "stdout"
        }
      ]
    },
    {
      "cell_type": "markdown",
      "metadata": {
        "id": "qUWChPYXzJAd"
      },
      "source": [
        "# This NFA checks whether a string has \"01\" in it."
      ]
    },
    {
      "cell_type": "code",
      "metadata": {
        "colab": {
          "base_uri": "https://localhost:8080/"
        },
        "id": "46R2ZoX0zJAd",
        "outputId": "9bf8facd-1abf-4250-a232-33e52a937ec6"
      },
      "source": [
        "nfahas01 = md2mc('''\n",
        "NFA \n",
        "I : 0 | 1 -> I\n",
        "I : '' -> A\n",
        "A : 0  -> B\n",
        "B : 1  -> C\n",
        "C : 0 | 1 -> C\n",
        "C : '' -> F\n",
        "''')"
      ],
      "execution_count": 3,
      "outputs": [
        {
          "output_type": "stream",
          "text": [
            "Generating LALR tables\n"
          ],
          "name": "stderr"
        }
      ]
    },
    {
      "cell_type": "markdown",
      "metadata": {
        "id": "4_tRFSZOzJAd"
      },
      "source": [
        "## This example is highly worth studying via animations.\n",
        "\n",
        "Put it in animate mode, and then single-step to see the EClosure of states"
      ]
    },
    {
      "cell_type": "code",
      "metadata": {
        "colab": {
          "base_uri": "https://localhost:8080/",
          "height": 304,
          "referenced_widgets": [
            "4ac37ea0ddbc4ae59546b85ab91d9a4e",
            "525e378195204ea089d596ad2bdc7b8d",
            "c6d2a54a3afa4e3e808f19fb59ed3b65",
            "2a8881ffc5474997a8604d521a0015d8",
            "d43a425d95f64c9481f58acf172a739f",
            "982b495026e145c2be8cd6df6be88538",
            "9b28532d76aa451d9d0cd4a934e0c455",
            "39f930f70c05480c8e7659dde1769a32",
            "9a635eefed9640a9b60e3f84388e48c1",
            "1d42938688bc4d79b3fbf1db689d9aaa",
            "a791c26b34d84dbb9554ae16b67ecdca",
            "21cd75afddc44f3c81cbf5e40b6fd0b6",
            "37a29a056c6a474aa56d91a82189ca1c",
            "f1820886ac0540f9a62b96f2507939a8",
            "d0c07912fcdb4c539f266f459928ecad",
            "d0effb233b8f431398c7fc5a4e201aa9",
            "c34438e45fd74789ae2ca42bf6feb395",
            "b80b0215d1ca4d14ab123d69c0ad4fee",
            "6cf0092d80124308b1e5bc0f50709b1c",
            "8797eabfc1fb4544bc5eee77bb125350",
            "10a70cb229644e4dae7635d3649a8b95",
            "177d5bf49d484f5ba0dd3d5a0ea39d7b",
            "da12d52125784b81bea5867c35f33c27",
            "a3f76b56da1a4c4583298c38ec34d183",
            "ff2651ff3a7843569564e049aab37de9",
            "85179dea4e764376aef4f5e4a0a9ab50",
            "28d2a4557ecc4090af67521b10c5023e",
            "042c773e61804062ae7388ceac680b01"
          ]
        },
        "id": "3qZZNYYjzJAd",
        "outputId": "560d2b97-00a7-4927-e219-0aa0826392ca"
      },
      "source": [
        "AnimateNFA(nfahas01, FuseEdges=False)\n",
        "display(HTML('<link rel=\\\"stylesheet\\\" href=\\\"//stackpath.bootstrapcdn.com/font-awesome/4.7.0/css/font-awesome.min.css\\\"/>'))"
      ],
      "execution_count": 4,
      "outputs": [
        {
          "output_type": "display_data",
          "data": {
            "application/vnd.jupyter.widget-view+json": {
              "model_id": "4ac37ea0ddbc4ae59546b85ab91d9a4e",
              "version_minor": 0,
              "version_major": 2
            },
            "text/plain": [
              "VBox(children=(HBox(children=(Text(value='', description='Input:', layout=Layout(width='500px'), placeholder='…"
            ]
          },
          "metadata": {
            "tags": []
          }
        },
        {
          "output_type": "display_data",
          "data": {
            "text/html": [
              "<link rel=\"stylesheet\" href=\"//stackpath.bootstrapcdn.com/font-awesome/4.7.0/css/font-awesome.min.css\"/>"
            ],
            "text/plain": [
              "<IPython.core.display.HTML object>"
            ]
          },
          "metadata": {
            "tags": []
          }
        }
      ]
    },
    {
      "cell_type": "markdown",
      "metadata": {
        "id": "43mjXu34zJAe"
      },
      "source": [
        "# This is an example from Figure 7.7 of the book.\n",
        "\n",
        "Presented in two different ways: one with a single initial state, and \n",
        "another with multiple initial states. Fig77 is the single initial state version, and\n",
        "Fig77a is with multiple initial states."
      ]
    },
    {
      "cell_type": "code",
      "metadata": {
        "id": "r2wxXvJYzJAe"
      },
      "source": [
        "Fig77 = md2mc('''NFA\n",
        "I : '' -> A, G\n",
        "A : '' -> B, C\n",
        "G : 1  -> F\n",
        "B : 1  -> D\n",
        "C : 0  -> E\n",
        "D : '' -> A, G\n",
        "E : '' -> A, G\n",
        "''')"
      ],
      "execution_count": 5,
      "outputs": []
    },
    {
      "cell_type": "code",
      "metadata": {
        "scrolled": true,
        "colab": {
          "base_uri": "https://localhost:8080/",
          "height": 487,
          "referenced_widgets": [
            "0d41e681ed5044cc8f381bb0d3970055",
            "b0862fd6d07b4f61a58cb53025f3b45d",
            "f757ada7456248e3a0fb16192ff80c2e",
            "78b681996d6f406ea6d16cb64761fa51",
            "7b6e62aa1ee54e14aa0367b1594bcf87",
            "8870b174584a42598c2e91201d2eb89f",
            "4f8098efcc9f4845ba8cf1fa691bbcc8",
            "fa56f94e968b4229afba041b935dad86",
            "4ffc05c4e8094ac8bedf2c505d47a43c",
            "db3b9d6474a24b5ba9b9e7833ce92a9a",
            "8206abcf13134e8e9bf3c4c6d66c4b81",
            "fdc05072863c43babe386de84cbf6940",
            "2e06738c54344561a6438c21de587507",
            "33750c318a3a4110b1bffcdc3d92c2fe",
            "3fbb1d284ed2431b9867ec94d28d1892",
            "54b91de4aa6e40f48316985fefe88718",
            "55f0eb3311cb46f98f1f8dba2714ab37",
            "c304baab7e5f4ab7ad8585d2d685198f",
            "064d77c46f1b44d9a1e1811d8f9cc954",
            "e69106b4cd9646f790b429cd1eb10b83",
            "21dbe1c2d25c4547aef172635543fd2c",
            "17eda2db31fc4691963462bba16ecaae",
            "de86d62ef9aa42d9951a524a88e5794e",
            "433d424c8ce7494ca9402607ffcd7aad",
            "2530584a77114857a34a2db4cfa63e71",
            "cf1bd41442aa450686a223fcd6f00c18",
            "7239b8663ebc448a8200e6a28b882a2a",
            "fe51c1f2e36b49c7be43f18bab03e8ec"
          ]
        },
        "id": "ETPe-5anzJAe",
        "outputId": "adbdaf97-8085-4f5f-d6c1-8a8c27832f32"
      },
      "source": [
        "AnimateNFA(Fig77, FuseEdges=False)\n",
        "display(HTML('<link rel=\\\"stylesheet\\\" href=\\\"//stackpath.bootstrapcdn.com/font-awesome/4.7.0/css/font-awesome.min.css\\\"/>'))"
      ],
      "execution_count": 6,
      "outputs": [
        {
          "output_type": "display_data",
          "data": {
            "application/vnd.jupyter.widget-view+json": {
              "model_id": "0d41e681ed5044cc8f381bb0d3970055",
              "version_minor": 0,
              "version_major": 2
            },
            "text/plain": [
              "VBox(children=(HBox(children=(Text(value='', description='Input:', layout=Layout(width='500px'), placeholder='…"
            ]
          },
          "metadata": {
            "tags": []
          }
        },
        {
          "output_type": "display_data",
          "data": {
            "text/html": [
              "<link rel=\"stylesheet\" href=\"//stackpath.bootstrapcdn.com/font-awesome/4.7.0/css/font-awesome.min.css\"/>"
            ],
            "text/plain": [
              "<IPython.core.display.HTML object>"
            ]
          },
          "metadata": {
            "tags": []
          }
        }
      ]
    },
    {
      "cell_type": "code",
      "metadata": {
        "id": "MgG404bhzJAe"
      },
      "source": [
        "Fig77a = md2mc('''NFA\n",
        "IA : '' -> B, C\n",
        "IG : 1  -> F\n",
        "B : 1  -> D\n",
        "C : 0  -> E\n",
        "D : '' -> IA, IG\n",
        "E : '' -> IA, IG\n",
        "''')"
      ],
      "execution_count": 7,
      "outputs": []
    },
    {
      "cell_type": "code",
      "metadata": {
        "colab": {
          "base_uri": "https://localhost:8080/",
          "height": 325
        },
        "id": "IZuSYME5zJAe",
        "outputId": "75ae034b-6bfe-439b-ccc5-86c6368ed28d"
      },
      "source": [
        "dotObj_nfa(Fig77a)"
      ],
      "execution_count": 8,
      "outputs": [
        {
          "output_type": "execute_result",
          "data": {
            "text/plain": [
              "<graphviz.dot.Digraph at 0x7f2583e5be80>"
            ],
            "image/svg+xml": "<?xml version=\"1.0\" encoding=\"UTF-8\" standalone=\"no\"?>\n<!DOCTYPE svg PUBLIC \"-//W3C//DTD SVG 1.1//EN\"\n \"http://www.w3.org/Graphics/SVG/1.1/DTD/svg11.dtd\">\n<!-- Generated by graphviz version 2.40.1 (20161225.0304)\n -->\n<!-- Title: %3 Pages: 1 -->\n<svg width=\"484pt\" height=\"228pt\"\n viewBox=\"0.00 0.00 484.19 228.00\" xmlns=\"http://www.w3.org/2000/svg\" xmlns:xlink=\"http://www.w3.org/1999/xlink\">\n<g id=\"graph0\" class=\"graph\" transform=\"scale(1 1) rotate(0) translate(4 224)\">\n<title>%3</title>\n<polygon fill=\"#ffffff\" stroke=\"transparent\" points=\"-4,4 -4,-224 480.1926,-224 480.1926,4 -4,4\"/>\n<!-- EMPTY -->\n<g id=\"node1\" class=\"node\">\n<title>EMPTY</title>\n</g>\n<!-- IG -->\n<g id=\"node5\" class=\"node\">\n<title>IG</title>\n<ellipse fill=\"none\" stroke=\"#000000\" cx=\"363.3945\" cy=\"-156\" rx=\"20.5982\" ry=\"20.5982\"/>\n<text text-anchor=\"middle\" x=\"363.3945\" y=\"-152.3\" font-family=\"Times,serif\" font-size=\"14.00\" fill=\"#000000\">IG</text>\n</g>\n<!-- EMPTY&#45;&gt;IG -->\n<g id=\"edge1\" class=\"edge\">\n<title>EMPTY&#45;&gt;IG</title>\n<path fill=\"none\" stroke=\"#000000\" d=\"M45.4576,-189.2458C61.5641,-203.1772 86.2936,-220 111.7982,-220 111.7982,-220 111.7982,-220 279.5963,-220 306.2659,-220 329.7199,-199.2726 344.9809,-181.4094\"/>\n<polygon fill=\"#000000\" stroke=\"#000000\" points=\"347.8228,-183.4616 351.3983,-173.4883 342.3838,-179.0551 347.8228,-183.4616\"/>\n</g>\n<!-- IA -->\n<g id=\"node7\" class=\"node\">\n<title>IA</title>\n<ellipse fill=\"none\" stroke=\"#000000\" cx=\"111.7982\" cy=\"-123\" rx=\"20.5982\" ry=\"20.5982\"/>\n<text text-anchor=\"middle\" x=\"111.7982\" y=\"-119.3\" font-family=\"Times,serif\" font-size=\"14.00\" fill=\"#000000\">IA</text>\n</g>\n<!-- EMPTY&#45;&gt;IA -->\n<g id=\"edge2\" class=\"edge\">\n<title>EMPTY&#45;&gt;IA</title>\n<path fill=\"none\" stroke=\"#000000\" d=\"M54.2974,-155.5483C64.0571,-150.0238 75.0448,-143.8042 84.7808,-138.2932\"/>\n<polygon fill=\"#000000\" stroke=\"#000000\" points=\"86.6723,-141.2444 93.6507,-133.2724 83.2241,-135.1526 86.6723,-141.2444\"/>\n</g>\n<!-- E -->\n<g id=\"node2\" class=\"node\">\n<title>E</title>\n<ellipse fill=\"none\" stroke=\"#000000\" cx=\"279.5963\" cy=\"-72\" rx=\"18\" ry=\"18\"/>\n<text text-anchor=\"middle\" x=\"279.5963\" y=\"-68.3\" font-family=\"Times,serif\" font-size=\"14.00\" fill=\"#000000\">E</text>\n</g>\n<!-- E&#45;&gt;IG -->\n<g id=\"edge10\" class=\"edge\">\n<title>E&#45;&gt;IG</title>\n<path fill=\"none\" stroke=\"#000000\" d=\"M292.3234,-84.7578C305.308,-97.7736 325.7129,-118.2277 341.3343,-133.8867\"/>\n<polygon fill=\"#000000\" stroke=\"#000000\" points=\"339.0249,-136.5274 348.5653,-141.1351 343.9806,-131.5836 339.0249,-136.5274\"/>\n<text text-anchor=\"middle\" x=\"320.0963\" y=\"-120.8\" font-family=\"Times,serif\" font-size=\"14.00\" fill=\"#000000\">&#39;&#39; </text>\n</g>\n<!-- E&#45;&gt;IA -->\n<g id=\"edge11\" class=\"edge\">\n<title>E&#45;&gt;IA</title>\n<path fill=\"none\" stroke=\"#000000\" d=\"M261.3742,-71.0385C240.5441,-70.5189 205.7008,-71.4343 177.5963,-81 162.7303,-86.0598 147.8413,-95.1441 135.996,-103.5729\"/>\n<polygon fill=\"#000000\" stroke=\"#000000\" points=\"133.9072,-100.7645 127.9525,-109.5276 138.0723,-106.3906 133.9072,-100.7645\"/>\n<text text-anchor=\"middle\" x=\"195.5963\" y=\"-84.8\" font-family=\"Times,serif\" font-size=\"14.00\" fill=\"#000000\">&#39;&#39; </text>\n</g>\n<!-- C -->\n<g id=\"node3\" class=\"node\">\n<title>C</title>\n<ellipse fill=\"none\" stroke=\"#000000\" cx=\"195.5963\" cy=\"-18\" rx=\"18\" ry=\"18\"/>\n<text text-anchor=\"middle\" x=\"195.5963\" y=\"-14.3\" font-family=\"Times,serif\" font-size=\"14.00\" fill=\"#000000\">C</text>\n</g>\n<!-- C&#45;&gt;E -->\n<g id=\"edge7\" class=\"edge\">\n<title>C&#45;&gt;E</title>\n<path fill=\"none\" stroke=\"#000000\" d=\"M212.0472,-25.5632C221.5308,-30.1677 233.5308,-36.4177 243.5963,-43 248.4661,-46.1846 253.4649,-49.8913 258.1291,-53.569\"/>\n<polygon fill=\"#000000\" stroke=\"#000000\" points=\"256.1013,-56.4316 266.0632,-60.0385 260.5249,-51.0065 256.1013,-56.4316\"/>\n<text text-anchor=\"middle\" x=\"237.5963\" y=\"-46.8\" font-family=\"Times,serif\" font-size=\"14.00\" fill=\"#000000\">0 </text>\n</g>\n<!-- D -->\n<g id=\"node4\" class=\"node\">\n<title>D</title>\n<ellipse fill=\"none\" stroke=\"#000000\" cx=\"279.5963\" cy=\"-156\" rx=\"18\" ry=\"18\"/>\n<text text-anchor=\"middle\" x=\"279.5963\" y=\"-152.3\" font-family=\"Times,serif\" font-size=\"14.00\" fill=\"#000000\">D</text>\n</g>\n<!-- D&#45;&gt;IG -->\n<g id=\"edge8\" class=\"edge\">\n<title>D&#45;&gt;IG</title>\n<path fill=\"none\" stroke=\"#000000\" d=\"M297.7793,-156C307.8773,-156 320.7158,-156 332.3538,-156\"/>\n<polygon fill=\"#000000\" stroke=\"#000000\" points=\"332.5912,-159.5001 342.5912,-156 332.5911,-152.5001 332.5912,-159.5001\"/>\n<text text-anchor=\"middle\" x=\"320.0963\" y=\"-159.8\" font-family=\"Times,serif\" font-size=\"14.00\" fill=\"#000000\">&#39;&#39; </text>\n</g>\n<!-- D&#45;&gt;IA -->\n<g id=\"edge9\" class=\"edge\">\n<title>D&#45;&gt;IA</title>\n<path fill=\"none\" stroke=\"#000000\" d=\"M261.8189,-159.588C252.7718,-160.9729 241.5997,-162.0085 231.5963,-161 194.8057,-157.2909 185.0481,-155.4308 150.5963,-142 147.0325,-140.6107 143.3488,-139.0208 139.7344,-137.3655\"/>\n<polygon fill=\"#000000\" stroke=\"#000000\" points=\"140.9898,-134.0861 130.459,-132.9236 137.9664,-140.3995 140.9898,-134.0861\"/>\n<text text-anchor=\"middle\" x=\"195.5963\" y=\"-163.8\" font-family=\"Times,serif\" font-size=\"14.00\" fill=\"#000000\">&#39;&#39; </text>\n</g>\n<!-- F -->\n<g id=\"node8\" class=\"node\">\n<title>F</title>\n<ellipse fill=\"none\" stroke=\"#000000\" cx=\"454.1926\" cy=\"-156\" rx=\"18\" ry=\"18\"/>\n<ellipse fill=\"none\" stroke=\"#000000\" cx=\"454.1926\" cy=\"-156\" rx=\"22\" ry=\"22\"/>\n<text text-anchor=\"middle\" x=\"454.1926\" y=\"-152.3\" font-family=\"Times,serif\" font-size=\"14.00\" fill=\"#000000\">F</text>\n</g>\n<!-- IG&#45;&gt;F -->\n<g id=\"edge5\" class=\"edge\">\n<title>IG&#45;&gt;F</title>\n<path fill=\"none\" stroke=\"#000000\" d=\"M384.4536,-156C395.5861,-156 409.4908,-156 421.9489,-156\"/>\n<polygon fill=\"#000000\" stroke=\"#000000\" points=\"421.9809,-159.5001 431.9809,-156 421.9809,-152.5001 421.9809,-159.5001\"/>\n<text text-anchor=\"middle\" x=\"408.1926\" y=\"-159.8\" font-family=\"Times,serif\" font-size=\"14.00\" fill=\"#000000\">1 </text>\n</g>\n<!-- B -->\n<g id=\"node6\" class=\"node\">\n<title>B</title>\n<ellipse fill=\"none\" stroke=\"#000000\" cx=\"195.5963\" cy=\"-123\" rx=\"18\" ry=\"18\"/>\n<text text-anchor=\"middle\" x=\"195.5963\" y=\"-119.3\" font-family=\"Times,serif\" font-size=\"14.00\" fill=\"#000000\">B</text>\n</g>\n<!-- B&#45;&gt;D -->\n<g id=\"edge6\" class=\"edge\">\n<title>B&#45;&gt;D</title>\n<path fill=\"none\" stroke=\"#000000\" d=\"M212.595,-129.678C224.2083,-134.2404 239.8314,-140.3781 253.07,-145.5789\"/>\n<polygon fill=\"#000000\" stroke=\"#000000\" points=\"252.0356,-148.9329 262.6229,-149.3319 254.5952,-142.4177 252.0356,-148.9329\"/>\n<text text-anchor=\"middle\" x=\"237.5963\" y=\"-145.8\" font-family=\"Times,serif\" font-size=\"14.00\" fill=\"#000000\">1 </text>\n</g>\n<!-- IA&#45;&gt;C -->\n<g id=\"edge4\" class=\"edge\">\n<title>IA&#45;&gt;C</title>\n<path fill=\"none\" stroke=\"#000000\" d=\"M117.7043,-102.902C123.678,-85.3816 134.3666,-60.1571 150.5963,-43 155.9165,-37.3758 162.7887,-32.6953 169.5535,-28.9639\"/>\n<polygon fill=\"#000000\" stroke=\"#000000\" points=\"171.1756,-32.066 178.5556,-24.4642 168.0459,-25.8046 171.1756,-32.066\"/>\n<text text-anchor=\"middle\" x=\"155.0963\" y=\"-46.8\" font-family=\"Times,serif\" font-size=\"14.00\" fill=\"#000000\">&#39;&#39; </text>\n</g>\n<!-- IA&#45;&gt;B -->\n<g id=\"edge3\" class=\"edge\">\n<title>IA&#45;&gt;B</title>\n<path fill=\"none\" stroke=\"#000000\" d=\"M132.944,-123C143.3789,-123 156.1115,-123 167.3663,-123\"/>\n<polygon fill=\"#000000\" stroke=\"#000000\" points=\"167.5809,-126.5001 177.5809,-123 167.5809,-119.5001 167.5809,-126.5001\"/>\n<text text-anchor=\"middle\" x=\"155.0963\" y=\"-126.8\" font-family=\"Times,serif\" font-size=\"14.00\" fill=\"#000000\">&#39;&#39; </text>\n</g>\n</g>\n</svg>\n"
          },
          "metadata": {
            "tags": []
          },
          "execution_count": 8
        }
      ]
    },
    {
      "cell_type": "code",
      "metadata": {
        "colab": {
          "base_uri": "https://localhost:8080/",
          "height": 357
        },
        "id": "1tntl--azJAe",
        "outputId": "70437a8b-8b32-415e-d0b2-6ebfa780ce00"
      },
      "source": [
        "dotObj_dfa(nfa2dfa(Fig77a, STATENAME_MAXSIZE=50), STATENAME_MAXSIZE=50)"
      ],
      "execution_count": 9,
      "outputs": [
        {
          "output_type": "execute_result",
          "data": {
            "text/plain": [
              "<graphviz.dot.Digraph at 0x7f2583e5bf28>"
            ],
            "image/svg+xml": "<?xml version=\"1.0\" encoding=\"UTF-8\" standalone=\"no\"?>\n<!DOCTYPE svg PUBLIC \"-//W3C//DTD SVG 1.1//EN\"\n \"http://www.w3.org/Graphics/SVG/1.1/DTD/svg11.dtd\">\n<!-- Generated by graphviz version 2.40.1 (20161225.0304)\n -->\n<!-- Title: %3 Pages: 1 -->\n<svg width=\"614pt\" height=\"252pt\"\n viewBox=\"0.00 0.00 613.76 252.09\" xmlns=\"http://www.w3.org/2000/svg\" xmlns:xlink=\"http://www.w3.org/1999/xlink\">\n<g id=\"graph0\" class=\"graph\" transform=\"scale(1 1) rotate(0) translate(4 248.0888)\">\n<title>%3</title>\n<polygon fill=\"#ffffff\" stroke=\"transparent\" points=\"-4,4 -4,-248.0888 609.7636,-248.0888 609.7636,4 -4,4\"/>\n<!-- EMPTY -->\n<g id=\"node1\" class=\"node\">\n<title>EMPTY</title>\n</g>\n<!-- B_C_IA_IG -->\n<g id=\"node2\" class=\"node\">\n<title>B_C_IA_IG</title>\n<ellipse fill=\"none\" stroke=\"#000000\" cx=\"148.8449\" cy=\"-57.8449\" rx=\"57.6901\" ry=\"57.6901\"/>\n<text text-anchor=\"middle\" x=\"148.8449\" y=\"-54.1449\" font-family=\"Times,serif\" font-size=\"14.00\" fill=\"#000000\">B_C_IA_IG</text>\n</g>\n<!-- EMPTY&#45;&gt;B_C_IA_IG -->\n<g id=\"edge1\" class=\"edge\">\n<title>EMPTY&#45;&gt;B_C_IA_IG</title>\n<path fill=\"none\" stroke=\"#000000\" d=\"M54.0413,-57.8449C62.0733,-57.8449 71.2574,-57.8449 80.6758,-57.8449\"/>\n<polygon fill=\"#000000\" stroke=\"#000000\" points=\"80.9444,-61.345 90.9444,-57.8449 80.9444,-54.345 80.9444,-61.345\"/>\n</g>\n<!-- B_C_E_IA_IG -->\n<g id=\"node3\" class=\"node\">\n<title>B_C_E_IA_IG</title>\n<ellipse fill=\"none\" stroke=\"#000000\" cx=\"322.9337\" cy=\"-142.8449\" rx=\"68.4888\" ry=\"68.4888\"/>\n<text text-anchor=\"middle\" x=\"322.9337\" y=\"-139.1449\" font-family=\"Times,serif\" font-size=\"14.00\" fill=\"#000000\">B_C_E_IA_IG</text>\n</g>\n<!-- B_C_IA_IG&#45;&gt;B_C_E_IA_IG -->\n<g id=\"edge3\" class=\"edge\">\n<title>B_C_IA_IG&#45;&gt;B_C_E_IA_IG</title>\n<path fill=\"none\" stroke=\"#000000\" d=\"M201.0773,-83.3477C217.1332,-91.1871 235.0812,-99.9503 252.1622,-108.2902\"/>\n<polygon fill=\"#000000\" stroke=\"#000000\" points=\"251.0233,-111.629 261.545,-112.8714 254.0946,-105.3387 251.0233,-111.629\"/>\n<text text-anchor=\"middle\" x=\"230.6897\" y=\"-104.6449\" font-family=\"Times,serif\" font-size=\"14.00\" fill=\"#000000\">0 </text>\n</g>\n<!-- B_C_D_F_IA_IG -->\n<g id=\"node4\" class=\"node\">\n<title>B_C_D_F_IA_IG</title>\n<ellipse fill=\"none\" stroke=\"#000000\" cx=\"522.4706\" cy=\"-104.8449\" rx=\"79.0964\" ry=\"79.0964\"/>\n<ellipse fill=\"none\" stroke=\"#000000\" cx=\"522.4706\" cy=\"-104.8449\" rx=\"83.0864\" ry=\"83.0864\"/>\n<text text-anchor=\"middle\" x=\"522.4706\" y=\"-101.1449\" font-family=\"Times,serif\" font-size=\"14.00\" fill=\"#000000\">B_C_D_F_IA_IG</text>\n</g>\n<!-- B_C_IA_IG&#45;&gt;B_C_D_F_IA_IG -->\n<g id=\"edge2\" class=\"edge\">\n<title>B_C_IA_IG&#45;&gt;B_C_D_F_IA_IG</title>\n<path fill=\"none\" stroke=\"#000000\" d=\"M206.2381,-49.0598C255.7207,-43.1731 328.8287,-38.5237 391.1776,-50.8449 406.6956,-53.9115 422.6848,-58.8344 437.9335,-64.4903\"/>\n<polygon fill=\"#000000\" stroke=\"#000000\" points=\"436.7315,-67.7778 447.3215,-68.0965 439.2416,-61.2433 436.7315,-67.7778\"/>\n<text text-anchor=\"middle\" x=\"322.9337\" y=\"-54.6449\" font-family=\"Times,serif\" font-size=\"14.00\" fill=\"#000000\">1 </text>\n</g>\n<!-- B_C_E_IA_IG&#45;&gt;B_C_E_IA_IG -->\n<g id=\"edge7\" class=\"edge\">\n<title>B_C_E_IA_IG&#45;&gt;B_C_E_IA_IG</title>\n<path fill=\"none\" stroke=\"#000000\" d=\"M306.7618,-209.3807C308.9181,-221.0034 314.3087,-229.0888 322.9337,-229.0888 328.8634,-229.0888 333.2643,-225.2672 336.1365,-219.1019\"/>\n<polygon fill=\"#000000\" stroke=\"#000000\" points=\"339.5318,-219.967 339.1056,-209.3807 332.8371,-217.9222 339.5318,-219.967\"/>\n<text text-anchor=\"middle\" x=\"322.9337\" y=\"-232.8888\" font-family=\"Times,serif\" font-size=\"14.00\" fill=\"#000000\">0 </text>\n</g>\n<!-- B_C_E_IA_IG&#45;&gt;B_C_D_F_IA_IG -->\n<g id=\"edge6\" class=\"edge\">\n<title>B_C_E_IA_IG&#45;&gt;B_C_D_F_IA_IG</title>\n<path fill=\"none\" stroke=\"#000000\" d=\"M390.2096,-130.0328C403.2287,-127.5534 417.0764,-124.9162 430.7227,-122.3174\"/>\n<polygon fill=\"#000000\" stroke=\"#000000\" points=\"431.4403,-125.7437 440.609,-120.4347 430.1307,-118.8673 431.4403,-125.7437\"/>\n<text text-anchor=\"middle\" x=\"415.1776\" y=\"-129.6449\" font-family=\"Times,serif\" font-size=\"14.00\" fill=\"#000000\">1 </text>\n</g>\n<!-- B_C_D_F_IA_IG&#45;&gt;B_C_E_IA_IG -->\n<g id=\"edge5\" class=\"edge\">\n<title>B_C_D_F_IA_IG&#45;&gt;B_C_E_IA_IG</title>\n<path fill=\"none\" stroke=\"#000000\" d=\"M439.1516,-101.8179C428.9893,-102.553 418.8024,-103.8231 409.1776,-105.8449 404.2223,-106.8858 399.1991,-108.2192 394.1975,-109.7589\"/>\n<polygon fill=\"#000000\" stroke=\"#000000\" points=\"393.0075,-106.4662 384.6293,-112.9512 395.223,-113.1063 393.0075,-106.4662\"/>\n<text text-anchor=\"middle\" x=\"415.1776\" y=\"-109.6449\" font-family=\"Times,serif\" font-size=\"14.00\" fill=\"#000000\">0 </text>\n</g>\n<!-- B_C_D_F_IA_IG&#45;&gt;B_C_D_F_IA_IG -->\n<g id=\"edge4\" class=\"edge\">\n<title>B_C_D_F_IA_IG&#45;&gt;B_C_D_F_IA_IG</title>\n<path fill=\"none\" stroke=\"#000000\" d=\"M504.5365,-186.3139C507.3832,-198.1584 513.3612,-206.1378 522.4706,-206.1378 528.8756,-206.1378 533.7326,-202.1929 537.0414,-195.7333\"/>\n<polygon fill=\"#000000\" stroke=\"#000000\" points=\"540.3382,-196.9085 540.4047,-186.3139 533.7458,-194.5546 540.3382,-196.9085\"/>\n<text text-anchor=\"middle\" x=\"522.4706\" y=\"-209.9378\" font-family=\"Times,serif\" font-size=\"14.00\" fill=\"#000000\">1 </text>\n</g>\n</g>\n</svg>\n"
          },
          "metadata": {
            "tags": []
          },
          "execution_count": 9
        }
      ]
    },
    {
      "cell_type": "code",
      "metadata": {
        "run_control": {
          "frozen": false,
          "read_only": false
        },
        "id": "9gg8XJB5zJAf"
      },
      "source": [
        "# Our automd markdown works for NFA also. Here is the NFA for\n",
        "# the language \"ends in 0101\"\n",
        "\n",
        "NFA_ends0101 = md2mc(''' \n",
        "!!---------------------------------------------------------------------------\n",
        "!! This NFA looks for patterns of the form \n",
        "!!\n",
        "!!     ......<some 0's and 1's>.....0101\n",
        "!!\n",
        "!! i.e., all strings that end in 0101.\n",
        "!!\n",
        "!! This example (over and above thirdlastis1.nfa) also illustrates\n",
        "!! the power of nondeterminism. Anytime we see a 0 from state I, we\n",
        "!! can have the NFA speculate that it is seeing the beginning of a\n",
        "!! 0101 pattern! If the NFA fails in its guess, it pays no price\n",
        "!! (because another guess is soon coming from behind).\n",
        "!!\n",
        "!! * We take 4 states in the NFA solution. The DFA solution takes\n",
        "!!   5 states.\n",
        "!!\n",
        "!! * This shows how burden is shifted from the\n",
        "!!   human to the computer doing the NFA simulation.\n",
        "!!   Even though the savings in states is not dramatic,\n",
        "!!   the effort to build this NFA is much lower than building\n",
        "!!   the corresponding DFA.\n",
        "!! \n",
        "!!-----------------------------------------------------------------\n",
        "!! For NFA, each line can be as follows:\n",
        "!!\n",
        "!! State : in1 | in2 ...  ->  COmma, Separated, State, List  !! comment\n",
        "!!-----------------------------------------------------------------\n",
        "\n",
        "NFA\n",
        "\n",
        "I    : 1   -> I      !! I goes to I upon 1\n",
        "\n",
        "I    : 0   -> S0, I  !! I goes to S0 and I upon 0\n",
        "\n",
        "S0   : 1   -> S01    !! S0 goes to S01 upon 1\n",
        "\n",
        "S01  : 0   -> S010   !! S01 goes to S010 upon 0\n",
        "\n",
        "S010 : 1   -> F      !! S010 goes to F upon F\n",
        "\n",
        "!!---\n",
        "''')"
      ],
      "execution_count": 10,
      "outputs": []
    },
    {
      "cell_type": "code",
      "metadata": {
        "run_control": {
          "frozen": false,
          "read_only": false
        },
        "colab": {
          "base_uri": "https://localhost:8080/"
        },
        "id": "J2D0bmuNzJAf",
        "outputId": "2b69ac87-5a6b-4243-f288-3c4f4805b38f"
      },
      "source": [
        "# Now let us see the dict version of the NFA\n",
        "NFA_ends0101 "
      ],
      "execution_count": 11,
      "outputs": [
        {
          "output_type": "execute_result",
          "data": {
            "text/plain": [
              "{'Delta': {('I', '0'): {'I', 'S0'},\n",
              "  ('I', '1'): {'I'},\n",
              "  ('S0', '1'): {'S01'},\n",
              "  ('S01', '0'): {'S010'},\n",
              "  ('S010', '1'): {'F'}},\n",
              " 'F': {'F'},\n",
              " 'Q': {'F', 'I', 'S0', 'S01', 'S010'},\n",
              " 'Q0': {'I'},\n",
              " 'Sigma': {'0', '1'}}"
            ]
          },
          "metadata": {
            "tags": []
          },
          "execution_count": 11
        }
      ]
    },
    {
      "cell_type": "code",
      "metadata": {
        "run_control": {
          "frozen": false,
          "read_only": false
        },
        "colab": {
          "base_uri": "https://localhost:8080/",
          "height": 185
        },
        "id": "w51Lw1tuzJAf",
        "outputId": "43eafbc3-f798-413c-ebd7-9b8723e6ab14"
      },
      "source": [
        "# Let's see the drawing of this NFA\n",
        "dotObj_nfa(NFA_ends0101)  "
      ],
      "execution_count": 12,
      "outputs": [
        {
          "output_type": "execute_result",
          "data": {
            "text/plain": [
              "<graphviz.dot.Digraph at 0x7f2583e6e518>"
            ],
            "image/svg+xml": "<?xml version=\"1.0\" encoding=\"UTF-8\" standalone=\"no\"?>\n<!DOCTYPE svg PUBLIC \"-//W3C//DTD SVG 1.1//EN\"\n \"http://www.w3.org/Graphics/SVG/1.1/DTD/svg11.dtd\">\n<!-- Generated by graphviz version 2.40.1 (20161225.0304)\n -->\n<!-- Title: %3 Pages: 1 -->\n<svg width=\"526pt\" height=\"123pt\"\n viewBox=\"0.00 0.00 525.69 122.55\" xmlns=\"http://www.w3.org/2000/svg\" xmlns:xlink=\"http://www.w3.org/1999/xlink\">\n<g id=\"graph0\" class=\"graph\" transform=\"scale(1 1) rotate(0) translate(4 118.5473)\">\n<title>%3</title>\n<polygon fill=\"#ffffff\" stroke=\"transparent\" points=\"-4,4 -4,-118.5473 521.6863,-118.5473 521.6863,4 -4,4\"/>\n<!-- EMPTY -->\n<g id=\"node1\" class=\"node\">\n<title>EMPTY</title>\n</g>\n<!-- I -->\n<g id=\"node5\" class=\"node\">\n<title>I</title>\n<ellipse fill=\"none\" stroke=\"#000000\" cx=\"109\" cy=\"-30.5473\" rx=\"18\" ry=\"18\"/>\n<text text-anchor=\"middle\" x=\"109\" y=\"-26.8473\" font-family=\"Times,serif\" font-size=\"14.00\" fill=\"#000000\">I</text>\n</g>\n<!-- EMPTY&#45;&gt;I -->\n<g id=\"edge1\" class=\"edge\">\n<title>EMPTY&#45;&gt;I</title>\n<path fill=\"none\" stroke=\"#000000\" d=\"M54.3048,-30.5473C62.6909,-30.5473 71.9407,-30.5473 80.4103,-30.5473\"/>\n<polygon fill=\"#000000\" stroke=\"#000000\" points=\"80.5976,-34.0474 90.5976,-30.5473 80.5976,-27.0474 80.5976,-34.0474\"/>\n</g>\n<!-- S010 -->\n<g id=\"node2\" class=\"node\">\n<title>S010</title>\n<ellipse fill=\"none\" stroke=\"#000000\" cx=\"395.139\" cy=\"-30.5473\" rx=\"30.5947\" ry=\"30.5947\"/>\n<text text-anchor=\"middle\" x=\"395.139\" y=\"-26.8473\" font-family=\"Times,serif\" font-size=\"14.00\" fill=\"#000000\">S010</text>\n</g>\n<!-- F -->\n<g id=\"node6\" class=\"node\">\n<title>F</title>\n<ellipse fill=\"none\" stroke=\"#000000\" cx=\"495.6863\" cy=\"-30.5473\" rx=\"18\" ry=\"18\"/>\n<ellipse fill=\"none\" stroke=\"#000000\" cx=\"495.6863\" cy=\"-30.5473\" rx=\"22\" ry=\"22\"/>\n<text text-anchor=\"middle\" x=\"495.6863\" y=\"-26.8473\" font-family=\"Times,serif\" font-size=\"14.00\" fill=\"#000000\">F</text>\n</g>\n<!-- S010&#45;&gt;F -->\n<g id=\"edge7\" class=\"edge\">\n<title>S010&#45;&gt;F</title>\n<path fill=\"none\" stroke=\"#000000\" d=\"M425.8528,-30.5473C437.7344,-30.5473 451.3429,-30.5473 463.3721,-30.5473\"/>\n<polygon fill=\"#000000\" stroke=\"#000000\" points=\"463.4535,-34.0474 473.4534,-30.5473 463.4534,-27.0474 463.4535,-34.0474\"/>\n<text text-anchor=\"middle\" x=\"449.6863\" y=\"-34.3473\" font-family=\"Times,serif\" font-size=\"14.00\" fill=\"#000000\">1 </text>\n</g>\n<!-- S0 -->\n<g id=\"node3\" class=\"node\">\n<title>S0</title>\n<ellipse fill=\"none\" stroke=\"#000000\" cx=\"195.7982\" cy=\"-30.5473\" rx=\"20.5982\" ry=\"20.5982\"/>\n<text text-anchor=\"middle\" x=\"195.7982\" y=\"-26.8473\" font-family=\"Times,serif\" font-size=\"14.00\" fill=\"#000000\">S0</text>\n</g>\n<!-- S01 -->\n<g id=\"node4\" class=\"node\">\n<title>S01</title>\n<ellipse fill=\"none\" stroke=\"#000000\" cx=\"290.594\" cy=\"-30.5473\" rx=\"25.9954\" ry=\"25.9954\"/>\n<text text-anchor=\"middle\" x=\"290.594\" y=\"-26.8473\" font-family=\"Times,serif\" font-size=\"14.00\" fill=\"#000000\">S01</text>\n</g>\n<!-- S0&#45;&gt;S01 -->\n<g id=\"edge5\" class=\"edge\">\n<title>S0&#45;&gt;S01</title>\n<path fill=\"none\" stroke=\"#000000\" d=\"M216.8364,-30.5473C227.8309,-30.5473 241.5999,-30.5473 254.2549,-30.5473\"/>\n<polygon fill=\"#000000\" stroke=\"#000000\" points=\"254.5378,-34.0474 264.5378,-30.5473 254.5378,-27.0474 254.5378,-34.0474\"/>\n<text text-anchor=\"middle\" x=\"240.5963\" y=\"-34.3473\" font-family=\"Times,serif\" font-size=\"14.00\" fill=\"#000000\">1 </text>\n</g>\n<!-- S01&#45;&gt;S010 -->\n<g id=\"edge6\" class=\"edge\">\n<title>S01&#45;&gt;S010</title>\n<path fill=\"none\" stroke=\"#000000\" d=\"M316.7054,-30.5473C328.0453,-30.5473 341.5984,-30.5473 354.2229,-30.5473\"/>\n<polygon fill=\"#000000\" stroke=\"#000000\" points=\"354.5401,-34.0474 364.54,-30.5473 354.54,-27.0474 354.5401,-34.0474\"/>\n<text text-anchor=\"middle\" x=\"340.5917\" y=\"-34.3473\" font-family=\"Times,serif\" font-size=\"14.00\" fill=\"#000000\">0 </text>\n</g>\n<!-- I&#45;&gt;S0 -->\n<g id=\"edge4\" class=\"edge\">\n<title>I&#45;&gt;S0</title>\n<path fill=\"none\" stroke=\"#000000\" d=\"M127.4077,-30.5473C138.2934,-30.5473 152.3613,-30.5473 164.9052,-30.5473\"/>\n<polygon fill=\"#000000\" stroke=\"#000000\" points=\"164.9803,-34.0474 174.9802,-30.5473 164.9802,-27.0474 164.9803,-34.0474\"/>\n<text text-anchor=\"middle\" x=\"151\" y=\"-34.3473\" font-family=\"Times,serif\" font-size=\"14.00\" fill=\"#000000\">0 </text>\n</g>\n<!-- I&#45;&gt;I -->\n<g id=\"edge2\" class=\"edge\">\n<title>I&#45;&gt;I</title>\n<path fill=\"none\" stroke=\"#000000\" d=\"M105.7643,-48.329C105.2144,-57.8622 106.293,-66.5473 109,-66.5473 110.6496,-66.5473 111.6945,-63.3222 112.1347,-58.6454\"/>\n<polygon fill=\"#000000\" stroke=\"#000000\" points=\"115.6375,-58.3629 112.2357,-48.329 108.6379,-58.2942 115.6375,-58.3629\"/>\n<text text-anchor=\"middle\" x=\"109\" y=\"-70.3473\" font-family=\"Times,serif\" font-size=\"14.00\" fill=\"#000000\">1 </text>\n</g>\n<!-- I&#45;&gt;I -->\n<g id=\"edge3\" class=\"edge\">\n<title>I&#45;&gt;I</title>\n<path fill=\"none\" stroke=\"#000000\" d=\"M103.6841,-47.9676C100.6538,-65.3382 102.4258,-84.5473 109,-84.5473 114.2902,-84.5473 116.4708,-72.109 115.5419,-58.1993\"/>\n<polygon fill=\"#000000\" stroke=\"#000000\" points=\"118.9808,-57.4801 114.3159,-47.9676 112.0305,-58.313 118.9808,-57.4801\"/>\n<text text-anchor=\"middle\" x=\"109\" y=\"-88.3473\" font-family=\"Times,serif\" font-size=\"14.00\" fill=\"#000000\">0 </text>\n</g>\n</g>\n</svg>\n"
          },
          "metadata": {
            "tags": []
          },
          "execution_count": 12
        }
      ]
    },
    {
      "cell_type": "code",
      "metadata": {
        "run_control": {
          "frozen": false,
          "read_only": false
        },
        "colab": {
          "base_uri": "https://localhost:8080/",
          "height": 161
        },
        "id": "6G3jFbf8zJAf",
        "outputId": "c8e65ad7-aec2-45a8-bdcb-f9e747d7a687"
      },
      "source": [
        "# The drawing produces separated self-loops. Let's fuse 'em.\n",
        "\n",
        "# Now we are going to fuse the separate self-loops into one.\n",
        "\n",
        "dotObj_nfa(NFA_ends0101, FuseEdges=True) "
      ],
      "execution_count": 13,
      "outputs": [
        {
          "output_type": "execute_result",
          "data": {
            "text/plain": [
              "<graphviz.dot.Digraph at 0x7f2583e6e9e8>"
            ],
            "image/svg+xml": "<?xml version=\"1.0\" encoding=\"UTF-8\" standalone=\"no\"?>\n<!DOCTYPE svg PUBLIC \"-//W3C//DTD SVG 1.1//EN\"\n \"http://www.w3.org/Graphics/SVG/1.1/DTD/svg11.dtd\">\n<!-- Generated by graphviz version 2.40.1 (20161225.0304)\n -->\n<!-- Title: %3 Pages: 1 -->\n<svg width=\"526pt\" height=\"105pt\"\n viewBox=\"0.00 0.00 525.69 104.55\" xmlns=\"http://www.w3.org/2000/svg\" xmlns:xlink=\"http://www.w3.org/1999/xlink\">\n<g id=\"graph0\" class=\"graph\" transform=\"scale(1 1) rotate(0) translate(4 100.5473)\">\n<title>%3</title>\n<polygon fill=\"#ffffff\" stroke=\"transparent\" points=\"-4,4 -4,-100.5473 521.6863,-100.5473 521.6863,4 -4,4\"/>\n<!-- EMPTY -->\n<g id=\"node1\" class=\"node\">\n<title>EMPTY</title>\n</g>\n<!-- I -->\n<g id=\"node5\" class=\"node\">\n<title>I</title>\n<ellipse fill=\"none\" stroke=\"#000000\" cx=\"109\" cy=\"-30.5473\" rx=\"18\" ry=\"18\"/>\n<text text-anchor=\"middle\" x=\"109\" y=\"-26.8473\" font-family=\"Times,serif\" font-size=\"14.00\" fill=\"#000000\">I</text>\n</g>\n<!-- EMPTY&#45;&gt;I -->\n<g id=\"edge1\" class=\"edge\">\n<title>EMPTY&#45;&gt;I</title>\n<path fill=\"none\" stroke=\"#000000\" d=\"M54.3048,-30.5473C62.6909,-30.5473 71.9407,-30.5473 80.4103,-30.5473\"/>\n<polygon fill=\"#000000\" stroke=\"#000000\" points=\"80.5976,-34.0474 90.5976,-30.5473 80.5976,-27.0474 80.5976,-34.0474\"/>\n</g>\n<!-- S010 -->\n<g id=\"node2\" class=\"node\">\n<title>S010</title>\n<ellipse fill=\"none\" stroke=\"#000000\" cx=\"395.139\" cy=\"-30.5473\" rx=\"30.5947\" ry=\"30.5947\"/>\n<text text-anchor=\"middle\" x=\"395.139\" y=\"-26.8473\" font-family=\"Times,serif\" font-size=\"14.00\" fill=\"#000000\">S010</text>\n</g>\n<!-- F -->\n<g id=\"node6\" class=\"node\">\n<title>F</title>\n<ellipse fill=\"none\" stroke=\"#000000\" cx=\"495.6863\" cy=\"-30.5473\" rx=\"18\" ry=\"18\"/>\n<ellipse fill=\"none\" stroke=\"#000000\" cx=\"495.6863\" cy=\"-30.5473\" rx=\"22\" ry=\"22\"/>\n<text text-anchor=\"middle\" x=\"495.6863\" y=\"-26.8473\" font-family=\"Times,serif\" font-size=\"14.00\" fill=\"#000000\">F</text>\n</g>\n<!-- S010&#45;&gt;F -->\n<g id=\"edge6\" class=\"edge\">\n<title>S010&#45;&gt;F</title>\n<path fill=\"none\" stroke=\"#000000\" d=\"M425.8528,-30.5473C437.7344,-30.5473 451.3429,-30.5473 463.3721,-30.5473\"/>\n<polygon fill=\"#000000\" stroke=\"#000000\" points=\"463.4535,-34.0474 473.4534,-30.5473 463.4534,-27.0474 463.4535,-34.0474\"/>\n<text text-anchor=\"middle\" x=\"449.6863\" y=\"-34.3473\" font-family=\"Times,serif\" font-size=\"14.00\" fill=\"#000000\">1 </text>\n</g>\n<!-- S0 -->\n<g id=\"node3\" class=\"node\">\n<title>S0</title>\n<ellipse fill=\"none\" stroke=\"#000000\" cx=\"195.7982\" cy=\"-30.5473\" rx=\"20.5982\" ry=\"20.5982\"/>\n<text text-anchor=\"middle\" x=\"195.7982\" y=\"-26.8473\" font-family=\"Times,serif\" font-size=\"14.00\" fill=\"#000000\">S0</text>\n</g>\n<!-- S01 -->\n<g id=\"node4\" class=\"node\">\n<title>S01</title>\n<ellipse fill=\"none\" stroke=\"#000000\" cx=\"290.594\" cy=\"-30.5473\" rx=\"25.9954\" ry=\"25.9954\"/>\n<text text-anchor=\"middle\" x=\"290.594\" y=\"-26.8473\" font-family=\"Times,serif\" font-size=\"14.00\" fill=\"#000000\">S01</text>\n</g>\n<!-- S0&#45;&gt;S01 -->\n<g id=\"edge4\" class=\"edge\">\n<title>S0&#45;&gt;S01</title>\n<path fill=\"none\" stroke=\"#000000\" d=\"M216.8364,-30.5473C227.8309,-30.5473 241.5999,-30.5473 254.2549,-30.5473\"/>\n<polygon fill=\"#000000\" stroke=\"#000000\" points=\"254.5378,-34.0474 264.5378,-30.5473 254.5378,-27.0474 254.5378,-34.0474\"/>\n<text text-anchor=\"middle\" x=\"240.5963\" y=\"-34.3473\" font-family=\"Times,serif\" font-size=\"14.00\" fill=\"#000000\">1 </text>\n</g>\n<!-- S01&#45;&gt;S010 -->\n<g id=\"edge5\" class=\"edge\">\n<title>S01&#45;&gt;S010</title>\n<path fill=\"none\" stroke=\"#000000\" d=\"M316.7054,-30.5473C328.0453,-30.5473 341.5984,-30.5473 354.2229,-30.5473\"/>\n<polygon fill=\"#000000\" stroke=\"#000000\" points=\"354.5401,-34.0474 364.54,-30.5473 354.54,-27.0474 354.5401,-34.0474\"/>\n<text text-anchor=\"middle\" x=\"340.5917\" y=\"-34.3473\" font-family=\"Times,serif\" font-size=\"14.00\" fill=\"#000000\">0 </text>\n</g>\n<!-- I&#45;&gt;S0 -->\n<g id=\"edge3\" class=\"edge\">\n<title>I&#45;&gt;S0</title>\n<path fill=\"none\" stroke=\"#000000\" d=\"M127.4077,-30.5473C138.2934,-30.5473 152.3613,-30.5473 164.9052,-30.5473\"/>\n<polygon fill=\"#000000\" stroke=\"#000000\" points=\"164.9803,-34.0474 174.9802,-30.5473 164.9802,-27.0474 164.9803,-34.0474\"/>\n<text text-anchor=\"middle\" x=\"151\" y=\"-34.3473\" font-family=\"Times,serif\" font-size=\"14.00\" fill=\"#000000\">0 </text>\n</g>\n<!-- I&#45;&gt;I -->\n<g id=\"edge2\" class=\"edge\">\n<title>I&#45;&gt;I</title>\n<path fill=\"none\" stroke=\"#000000\" d=\"M102.6208,-47.5846C101.3189,-57.4052 103.4453,-66.5473 109,-66.5473 112.4717,-66.5473 114.6042,-62.9762 115.3975,-57.9002\"/>\n<polygon fill=\"#000000\" stroke=\"#000000\" points=\"118.8971,-57.5783 115.3792,-47.5846 111.8971,-57.5908 118.8971,-57.5783\"/>\n<text text-anchor=\"middle\" x=\"109\" y=\"-85.3473\" font-family=\"Times,serif\" font-size=\"14.00\" fill=\"#000000\">1 </text>\n<text text-anchor=\"middle\" x=\"109\" y=\"-70.3473\" font-family=\"Times,serif\" font-size=\"14.00\" fill=\"#000000\"> 0 </text>\n</g>\n</g>\n</svg>\n"
          },
          "metadata": {
            "tags": []
          },
          "execution_count": 13
        }
      ]
    },
    {
      "cell_type": "code",
      "metadata": {
        "colab": {
          "base_uri": "https://localhost:8080/"
        },
        "id": "APeI8cRvzJAf",
        "outputId": "90f14a33-232f-4978-b549-133c7f560eb8"
      },
      "source": [
        "step_nfa(NFA_ends0101, 'F', '1')"
      ],
      "execution_count": 14,
      "outputs": [
        {
          "output_type": "execute_result",
          "data": {
            "text/plain": [
              "set()"
            ]
          },
          "metadata": {
            "tags": []
          },
          "execution_count": 14
        }
      ]
    },
    {
      "cell_type": "markdown",
      "metadata": {
        "run_control": {
          "frozen": false,
          "read_only": false
        },
        "id": "wZI6EJHbzJAg"
      },
      "source": [
        "# NFA for 3rd-last is 1"
      ]
    },
    {
      "cell_type": "code",
      "metadata": {
        "run_control": {
          "frozen": false,
          "read_only": false
        },
        "id": "zEE_-PdRzJAg"
      },
      "source": [
        "# Here is the automd (markdown) for an NF whose third-last symbol is a 1\n",
        "\n",
        "NFA_3rdlast_1 = md2mc('''\n",
        "NFA\n",
        "\n",
        "I : 0  | 1  -> I  !! Upon a 0 or a 1, continue to stay in state I\n",
        "\n",
        "I : ''      -> S0 !! Nondeterministically transition to state S0\n",
        "\n",
        "S0 : 1      -> S1 !! This is the key \"1\" (third-last being 1) seen\n",
        "\n",
        "S1 : 0 | 1  -> S2 !! One 0/1 takes the NFA to S2\n",
        "\n",
        "S2 : 0 | 1  -> F  !! One more 0/1 takes the NFA to F\n",
        "\n",
        "''')"
      ],
      "execution_count": 15,
      "outputs": []
    },
    {
      "cell_type": "code",
      "metadata": {
        "run_control": {
          "frozen": false,
          "read_only": false
        },
        "colab": {
          "base_uri": "https://localhost:8080/"
        },
        "id": "Uirs-La_zJAg",
        "outputId": "acf7fe23-d714-4684-99d1-dc11a93dc382"
      },
      "source": [
        "# Let us see its internal representation:\n",
        "NFA_3rdlast_1"
      ],
      "execution_count": 16,
      "outputs": [
        {
          "output_type": "execute_result",
          "data": {
            "text/plain": [
              "{'Delta': {('I', ''): {'S0'},\n",
              "  ('I', '0'): {'I'},\n",
              "  ('I', '1'): {'I'},\n",
              "  ('S0', '1'): {'S1'},\n",
              "  ('S1', '0'): {'S2'},\n",
              "  ('S1', '1'): {'S2'},\n",
              "  ('S2', '0'): {'F'},\n",
              "  ('S2', '1'): {'F'}},\n",
              " 'F': {'F'},\n",
              " 'Q': {'F', 'I', 'S0', 'S1', 'S2'},\n",
              " 'Q0': {'I'},\n",
              " 'Sigma': {'0', '1'}}"
            ]
          },
          "metadata": {
            "tags": []
          },
          "execution_count": 16
        }
      ]
    },
    {
      "cell_type": "code",
      "metadata": {
        "run_control": {
          "frozen": false,
          "read_only": false
        },
        "colab": {
          "base_uri": "https://localhost:8080/",
          "height": 149
        },
        "id": "J97xoRKtzJAg",
        "outputId": "ca5f0202-cdf4-4008-de8c-c8e6c6a51d8a"
      },
      "source": [
        "# Let us see this NFA drawn out:\n",
        "dotObj_nfa(NFA_3rdlast_1, FuseEdges=True)"
      ],
      "execution_count": 17,
      "outputs": [
        {
          "output_type": "execute_result",
          "data": {
            "text/plain": [
              "<graphviz.dot.Digraph at 0x7f2583e79898>"
            ],
            "image/svg+xml": "<?xml version=\"1.0\" encoding=\"UTF-8\" standalone=\"no\"?>\n<!DOCTYPE svg PUBLIC \"-//W3C//DTD SVG 1.1//EN\"\n \"http://www.w3.org/Graphics/SVG/1.1/DTD/svg11.dtd\">\n<!-- Generated by graphviz version 2.40.1 (20161225.0304)\n -->\n<!-- Title: %3 Pages: 1 -->\n<svg width=\"501pt\" height=\"96pt\"\n viewBox=\"0.00 0.00 500.79 96.00\" xmlns=\"http://www.w3.org/2000/svg\" xmlns:xlink=\"http://www.w3.org/1999/xlink\">\n<g id=\"graph0\" class=\"graph\" transform=\"scale(1 1) rotate(0) translate(4 92)\">\n<title>%3</title>\n<polygon fill=\"#ffffff\" stroke=\"transparent\" points=\"-4,4 -4,-92 496.7889,-92 496.7889,4 -4,4\"/>\n<!-- EMPTY -->\n<g id=\"node1\" class=\"node\">\n<title>EMPTY</title>\n</g>\n<!-- I -->\n<g id=\"node5\" class=\"node\">\n<title>I</title>\n<ellipse fill=\"none\" stroke=\"#000000\" cx=\"109\" cy=\"-22\" rx=\"18\" ry=\"18\"/>\n<text text-anchor=\"middle\" x=\"109\" y=\"-18.3\" font-family=\"Times,serif\" font-size=\"14.00\" fill=\"#000000\">I</text>\n</g>\n<!-- EMPTY&#45;&gt;I -->\n<g id=\"edge1\" class=\"edge\">\n<title>EMPTY&#45;&gt;I</title>\n<path fill=\"none\" stroke=\"#000000\" d=\"M54.3048,-22C62.6909,-22 71.9407,-22 80.4103,-22\"/>\n<polygon fill=\"#000000\" stroke=\"#000000\" points=\"80.5976,-25.5001 90.5976,-22 80.5976,-18.5001 80.5976,-25.5001\"/>\n</g>\n<!-- S2 -->\n<g id=\"node2\" class=\"node\">\n<title>S2</title>\n<ellipse fill=\"none\" stroke=\"#000000\" cx=\"375.9908\" cy=\"-22\" rx=\"20.5982\" ry=\"20.5982\"/>\n<text text-anchor=\"middle\" x=\"375.9908\" y=\"-18.3\" font-family=\"Times,serif\" font-size=\"14.00\" fill=\"#000000\">S2</text>\n</g>\n<!-- F -->\n<g id=\"node6\" class=\"node\">\n<title>F</title>\n<ellipse fill=\"none\" stroke=\"#000000\" cx=\"470.7889\" cy=\"-22\" rx=\"18\" ry=\"18\"/>\n<ellipse fill=\"none\" stroke=\"#000000\" cx=\"470.7889\" cy=\"-22\" rx=\"22\" ry=\"22\"/>\n<text text-anchor=\"middle\" x=\"470.7889\" y=\"-18.3\" font-family=\"Times,serif\" font-size=\"14.00\" fill=\"#000000\">F</text>\n</g>\n<!-- S2&#45;&gt;F -->\n<g id=\"edge6\" class=\"edge\">\n<title>S2&#45;&gt;F</title>\n<path fill=\"none\" stroke=\"#000000\" d=\"M397.0296,-22C409.2005,-22 424.7713,-22 438.4674,-22\"/>\n<polygon fill=\"#000000\" stroke=\"#000000\" points=\"438.4881,-25.5001 448.4881,-22 438.4881,-18.5001 438.4881,-25.5001\"/>\n<text text-anchor=\"middle\" x=\"422.7889\" y=\"-40.8\" font-family=\"Times,serif\" font-size=\"14.00\" fill=\"#000000\">1 </text>\n<text text-anchor=\"middle\" x=\"422.7889\" y=\"-25.8\" font-family=\"Times,serif\" font-size=\"14.00\" fill=\"#000000\"> 0 </text>\n</g>\n<!-- S1 -->\n<g id=\"node3\" class=\"node\">\n<title>S1</title>\n<ellipse fill=\"none\" stroke=\"#000000\" cx=\"282.3945\" cy=\"-22\" rx=\"20.5982\" ry=\"20.5982\"/>\n<text text-anchor=\"middle\" x=\"282.3945\" y=\"-18.3\" font-family=\"Times,serif\" font-size=\"14.00\" fill=\"#000000\">S1</text>\n</g>\n<!-- S1&#45;&gt;S2 -->\n<g id=\"edge5\" class=\"edge\">\n<title>S1&#45;&gt;S2</title>\n<path fill=\"none\" stroke=\"#000000\" d=\"M303.6329,-22C315.8046,-22 331.3038,-22 344.8326,-22\"/>\n<polygon fill=\"#000000\" stroke=\"#000000\" points=\"345.1588,-25.5001 355.1588,-22 345.1587,-18.5001 345.1588,-25.5001\"/>\n<text text-anchor=\"middle\" x=\"329.1926\" y=\"-40.8\" font-family=\"Times,serif\" font-size=\"14.00\" fill=\"#000000\">1 </text>\n<text text-anchor=\"middle\" x=\"329.1926\" y=\"-25.8\" font-family=\"Times,serif\" font-size=\"14.00\" fill=\"#000000\"> 0 </text>\n</g>\n<!-- S0 -->\n<g id=\"node4\" class=\"node\">\n<title>S0</title>\n<ellipse fill=\"none\" stroke=\"#000000\" cx=\"192.7982\" cy=\"-22\" rx=\"20.5982\" ry=\"20.5982\"/>\n<text text-anchor=\"middle\" x=\"192.7982\" y=\"-18.3\" font-family=\"Times,serif\" font-size=\"14.00\" fill=\"#000000\">S0</text>\n</g>\n<!-- S0&#45;&gt;S1 -->\n<g id=\"edge4\" class=\"edge\">\n<title>S0&#45;&gt;S1</title>\n<path fill=\"none\" stroke=\"#000000\" d=\"M214.0312,-22C225.0778,-22 238.7967,-22 251.0394,-22\"/>\n<polygon fill=\"#000000\" stroke=\"#000000\" points=\"251.3138,-25.5001 261.3138,-22 251.3138,-18.5001 251.3138,-25.5001\"/>\n<text text-anchor=\"middle\" x=\"237.5963\" y=\"-25.8\" font-family=\"Times,serif\" font-size=\"14.00\" fill=\"#000000\">1 </text>\n</g>\n<!-- I&#45;&gt;S0 -->\n<g id=\"edge3\" class=\"edge\">\n<title>I&#45;&gt;S0</title>\n<path fill=\"none\" stroke=\"#000000\" d=\"M127.183,-22C137.281,-22 150.1195,-22 161.7575,-22\"/>\n<polygon fill=\"#000000\" stroke=\"#000000\" points=\"161.9949,-25.5001 171.9949,-22 161.9948,-18.5001 161.9949,-25.5001\"/>\n<text text-anchor=\"middle\" x=\"149.5\" y=\"-25.8\" font-family=\"Times,serif\" font-size=\"14.00\" fill=\"#000000\">&#39;&#39; </text>\n</g>\n<!-- I&#45;&gt;I -->\n<g id=\"edge2\" class=\"edge\">\n<title>I&#45;&gt;I</title>\n<path fill=\"none\" stroke=\"#000000\" d=\"M102.6208,-39.0373C101.3189,-48.8579 103.4453,-58 109,-58 112.4717,-58 114.6042,-54.4289 115.3975,-49.3529\"/>\n<polygon fill=\"#000000\" stroke=\"#000000\" points=\"118.8971,-49.031 115.3792,-39.0373 111.8971,-49.0435 118.8971,-49.031\"/>\n<text text-anchor=\"middle\" x=\"109\" y=\"-76.8\" font-family=\"Times,serif\" font-size=\"14.00\" fill=\"#000000\">1 </text>\n<text text-anchor=\"middle\" x=\"109\" y=\"-61.8\" font-family=\"Times,serif\" font-size=\"14.00\" fill=\"#000000\"> 0 </text>\n</g>\n</g>\n</svg>\n"
          },
          "metadata": {
            "tags": []
          },
          "execution_count": 17
        }
      ]
    },
    {
      "cell_type": "code",
      "metadata": {
        "run_control": {
          "frozen": false,
          "read_only": false
        },
        "colab": {
          "base_uri": "https://localhost:8080/"
        },
        "id": "lBt_nwlPzJAg",
        "outputId": "d32fc87b-c96c-4e10-ad70-43affc03aea5"
      },
      "source": [
        "# Let's step the NFA on epsilon:   \n",
        "step_nfa(NFA_3rdlast_1, \"I\", \"\")"
      ],
      "execution_count": 18,
      "outputs": [
        {
          "output_type": "execute_result",
          "data": {
            "text/plain": [
              "{'S0'}"
            ]
          },
          "metadata": {
            "tags": []
          },
          "execution_count": 18
        }
      ]
    },
    {
      "cell_type": "code",
      "metadata": {
        "run_control": {
          "frozen": false,
          "read_only": false
        },
        "colab": {
          "base_uri": "https://localhost:8080/"
        },
        "id": "ZzPN6wVtzJAg",
        "outputId": "ece268b4-589d-4af6-8330-c2ecf4196238"
      },
      "source": [
        "# Let's step it on '0': \n",
        "step_nfa(NFA_3rdlast_1, \"I\", \"0\")"
      ],
      "execution_count": 19,
      "outputs": [
        {
          "output_type": "execute_result",
          "data": {
            "text/plain": [
              "{'I'}"
            ]
          },
          "metadata": {
            "tags": []
          },
          "execution_count": 19
        }
      ]
    },
    {
      "cell_type": "code",
      "metadata": {
        "run_control": {
          "frozen": false,
          "read_only": false
        },
        "colab": {
          "base_uri": "https://localhost:8080/"
        },
        "id": "62H5cNDXzJAg",
        "outputId": "eddeb742-9510-48a1-ccad-bec6bae53277"
      },
      "source": [
        "# Step it on a \"1\" to see two next states. That shows nondeterminism!\n",
        "step_nfa(NFA_3rdlast_1, \"I\", \"1\")  "
      ],
      "execution_count": 20,
      "outputs": [
        {
          "output_type": "execute_result",
          "data": {
            "text/plain": [
              "{'I'}"
            ]
          },
          "metadata": {
            "tags": []
          },
          "execution_count": 20
        }
      ]
    },
    {
      "cell_type": "code",
      "metadata": {
        "run_control": {
          "frozen": false,
          "read_only": false
        },
        "colab": {
          "base_uri": "https://localhost:8080/"
        },
        "id": "49eSGlnYzJAh",
        "outputId": "bec92138-0a32-4b8f-a931-db448b39e1a2"
      },
      "source": [
        "# What is the Eclosure of the set of states {I} ?\n",
        "Eclosure(NFA_3rdlast_1, {\"I\"})"
      ],
      "execution_count": 21,
      "outputs": [
        {
          "output_type": "execute_result",
          "data": {
            "text/plain": [
              "{'I', 'S0'}"
            ]
          },
          "metadata": {
            "tags": []
          },
          "execution_count": 21
        }
      ]
    },
    {
      "cell_type": "code",
      "metadata": {
        "run_control": {
          "frozen": false,
          "read_only": false
        },
        "colab": {
          "base_uri": "https://localhost:8080/"
        },
        "id": "e0IrUW1_zJAh",
        "outputId": "cbb77396-2f46-47b4-d3b4-f651aac38221"
      },
      "source": [
        "help(accepts_nfa)"
      ],
      "execution_count": 22,
      "outputs": [
        {
          "output_type": "stream",
          "text": [
            "Help on function accepts_nfa in module jove.Def_NFA:\n",
            "\n",
            "accepts_nfa(N, s, chatty=False)\n",
            "    NFA acceptance.\n",
            "    Input : N : given NFA\n",
            "            s : given string\n",
            "            chatty : Boolean (prints accepting path,\n",
            "                     which is the state-sets encountered).\n",
            "\n"
          ],
          "name": "stdout"
        }
      ]
    },
    {
      "cell_type": "code",
      "metadata": {
        "run_control": {
          "frozen": false,
          "read_only": false
        },
        "colab": {
          "base_uri": "https://localhost:8080/"
        },
        "id": "6rbXwrIvzJAh",
        "outputId": "b549d239-8a97-4267-cb11-1d3cef301745"
      },
      "source": [
        "accepts_nfa(NFA_3rdlast_1, \"0100100\", chatty=True)"
      ],
      "execution_count": 23,
      "outputs": [
        {
          "output_type": "stream",
          "text": [
            "States reached =  {'I', 'S0'}\n",
            "States reached =  {'I', 'S1', 'S0'}\n",
            "States reached =  {'S2', 'I', 'S0'}\n",
            "States reached =  {'I', 'F', 'S0'}\n",
            "States reached =  {'I', 'S1', 'S0'}\n",
            "States reached =  {'S2', 'I', 'S0'}\n",
            "States reached =  {'I', 'F', 'S0'}\n",
            "NFA accepts '0100100' by reaching {'I', 'F', 'S0'}\n"
          ],
          "name": "stdout"
        },
        {
          "output_type": "execute_result",
          "data": {
            "text/plain": [
              "True"
            ]
          },
          "metadata": {
            "tags": []
          },
          "execution_count": 23
        }
      ]
    },
    {
      "cell_type": "markdown",
      "metadata": {
        "run_control": {
          "frozen": false,
          "read_only": false
        },
        "id": "j2Kk3vltzJAh"
      },
      "source": [
        "# Let us run NFA interactively via widgets\n",
        "\n",
        "We have two NFA to play with, namely nfa_ends0101 and NFA_3rdlast_1\n"
      ]
    },
    {
      "cell_type": "code",
      "metadata": {
        "run_control": {
          "frozen": false,
          "read_only": false
        },
        "id": "FHrAUBX9zJAh"
      },
      "source": [
        "import ipywidgets as wdg\n",
        "def run_nfa_slider(N, s, n):\n",
        "    \"\"\"Run NFA N from N[\"Q0\"] (which is a set..) on substring s[0:n]\n",
        "    \"\"\"\n",
        "    S = N[\"Q0\"] \n",
        "    if (n > len(s)):\n",
        "        n = len(s)\n",
        "    print(\"string = \", s[0:n])\n",
        "    run_nfa(N, S, s[0:n], True)\n",
        "    \n",
        "def run_nfa_int(N1, N2):\n",
        "    \"\"\"Run interactively from the given NFA .. from {q0} \n",
        "       on input string's substring\n",
        "       as picked by slider.\n",
        "    \"\"\"\n",
        "    inp = input(\"Please provide string: \")\n",
        "    wdg.interact(run_nfa_slider, N = {'N1': N1, 'N2': N2}, \n",
        "                 s = inp, n=(0,32))\n",
        "    \n",
        "def test_run_nfa_int(N1, N2):\n",
        "    \"\"\"Test the interactive run of NFA.\n",
        "    \"\"\"\n",
        "    run_nfa_int(N1, N2)\n",
        "\n",
        "#-- enable this later. test_run_nfa_int()"
      ],
      "execution_count": 24,
      "outputs": []
    },
    {
      "cell_type": "markdown",
      "metadata": {
        "run_control": {
          "frozen": false,
          "read_only": false
        },
        "id": "3ZEmtmQpzJAh"
      },
      "source": [
        "## Once you run the command below, provide a string\n",
        "\n",
        "Provide a string of 0's and 1's. Then you can use the pull-down to pick the NFA\n",
        "to test, and the slider to incrementally consume more of the input string.\n"
      ]
    },
    {
      "cell_type": "code",
      "metadata": {
        "run_control": {
          "frozen": false,
          "read_only": false
        },
        "colab": {
          "base_uri": "https://localhost:8080/",
          "height": 391,
          "referenced_widgets": [
            "079c03596ea5420fa8f79693ec1967d8",
            "9e54e0b0996a4b3c8ebd020b94e3b880",
            "91d94e3233d747909ff88bfd12149cab",
            "0d25d33d53bb4c9d8338f60afeeec6c5",
            "68b7818ddedb47e5964801263ff8fb42",
            "19317f110f004889910bc4e4870c2bcd",
            "b2b2e18a439e4c649ea35db02a1c32de",
            "0a613333f13846ed886ee481123abc84",
            "92e108abcc4a49e091c441b7821764aa",
            "2e6946a0e12049759d4aff71660d0609",
            "8d239a2e260e4a25bc3c6b757b060e3e",
            "70eaf2ad210241bc8cff5ccf640f78d7",
            "4ee201a64f3f4c24ae881f177e4ed6eb"
          ]
        },
        "id": "au2u03mdzJAi",
        "outputId": "38f8b8dd-cdac-425a-f939-8bf37a3e9891"
      },
      "source": [
        "test_run_nfa_int(NFA_ends0101, NFA_3rdlast_1)"
      ],
      "execution_count": 25,
      "outputs": [
        {
          "output_type": "stream",
          "text": [
            "Please provide string: 00010101000100\n"
          ],
          "name": "stdout"
        },
        {
          "output_type": "display_data",
          "data": {
            "application/vnd.jupyter.widget-view+json": {
              "model_id": "079c03596ea5420fa8f79693ec1967d8",
              "version_minor": 0,
              "version_major": 2
            },
            "text/plain": [
              "interactive(children=(Dropdown(description='N', options={'N1': {'Q': {'S010', 'I', 'F', 'S0', 'S01'}, 'Sigma':…"
            ]
          },
          "metadata": {
            "tags": []
          }
        }
      ]
    },
    {
      "cell_type": "markdown",
      "metadata": {
        "id": "horyMpJ64dGG"
      },
      "source": [
        "Very cool!"
      ]
    },
    {
      "cell_type": "markdown",
      "metadata": {
        "id": "w6LNGKNq4ewN"
      },
      "source": [
        "I watched, read, studied, understood, evaluated, and tested all the sections of this document."
      ]
    }
  ]
}