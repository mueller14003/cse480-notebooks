{
  "nbformat": 4,
  "nbformat_minor": 0,
  "metadata": {
    "colab": {
      "name": "11_2_Ponder_and_Prove_NP_Completeness.ipynb",
      "provenance": [],
      "include_colab_link": true
    },
    "kernelspec": {
      "name": "python3",
      "display_name": "Python 3"
    }
  },
  "cells": [
    {
      "cell_type": "markdown",
      "metadata": {
        "id": "view-in-github",
        "colab_type": "text"
      },
      "source": [
        "<a href=\"https://colab.research.google.com/github/mueller14003/cse480-notebooks/blob/master/11_2_Ponder_and_Prove_NP_Completeness.ipynb\" target=\"_parent\"><img src=\"https://colab.research.google.com/assets/colab-badge.svg\" alt=\"Open In Colab\"/></a>"
      ]
    },
    {
      "cell_type": "markdown",
      "metadata": {
        "id": "G0Ig-dqAHa5l"
      },
      "source": [
        "# Ponder and Prove NP-Completeness\n",
        "## Due: Saturday, 20 March 2021, 11:59 pm"
      ]
    },
    {
      "cell_type": "markdown",
      "metadata": {
        "id": "-ZTHg3i2Hg4j"
      },
      "source": [
        "## TODO Watch and Learn"
      ]
    },
    {
      "cell_type": "markdown",
      "metadata": {
        "id": "eA7uftrYb4Ln"
      },
      "source": [
        "Watch each of the following videos:\n",
        "\n",
        "* [P vs. NP - The Biggest Unsolved Problem in Computer Science](https://www.youtube.com/watch?v=EHp4FPyajKQ)\n",
        "* [What is complexity theory? (P vs. NP explained visually)](https://www.youtube.com/watch?v=u2DLlNQiPB4)\n",
        "* [P vs. NP and the Computational Complexity Zoo](https://www.youtube.com/watch?v=YX40hbAHx3s&t=3s)\n",
        "\n",
        "For each video, state two things that interested you (theoretical or practical). Just a couple of sentences that summarize each point of interest."
      ]
    },
    {
      "cell_type": "markdown",
      "metadata": {
        "id": "EsRshRnZhRFa"
      },
      "source": [
        "## TODO Exercises"
      ]
    },
    {
      "cell_type": "markdown",
      "metadata": {
        "id": "F3724sGjhTPo"
      },
      "source": [
        "Do the following Chapter 16 Exercises:"
      ]
    },
    {
      "cell_type": "markdown",
      "metadata": {
        "id": "XZ7ygErThWjn"
      },
      "source": [
        "### 16.7.2.1"
      ]
    },
    {
      "cell_type": "markdown",
      "metadata": {
        "id": "Pa4kb0x6OfVh"
      },
      "source": [
        "A SAT instance is given in the DIMACS format.\n",
        "\n",
        "(a) What is the CNF formula captured by this instance?\n",
        "\n",
        "(b) By inspection, answer whether the instance is satisfiable, and why.\n",
        "\n",
        "(c) If it is not satisfiable, then what is the minimal number of rows that must be deleted before the instance becomes satisfiable? If these rows are not unique, list the first two possible such omissions (of sets of rows), starting from the top of the given listing.\n",
        "\n",
        "(d) Check your answer using CryptoMiniSat."
      ]
    },
    {
      "cell_type": "code",
      "metadata": {
        "id": "wUt6JXFVTTZs"
      },
      "source": [
        "# c A SAT instance in DIMACS format  \n",
        "# c Your task is to determine whether this instance is satisfiable  \n",
        "# c  \n",
        "# p cnf 5 32  \n",
        "# 1 2 3 4 5 0  \n",
        "# 1 2 3 4 -5 0 \n",
        "# 1 2 3 -4 5 0  \n",
        "# 1 2 3 -4 -5 0  \n",
        "# 1 2 -3 4 5 0  \n",
        "# 1 2 -3 4 -5 0  \n",
        "# 1 2 -3 -4 5 0  \n",
        "# 1 2 -3 -4 -5 0  \n",
        "# 1 -2 3 4 5 0  \n",
        "# 1 -2 3 4 -5 0  \n",
        "# 1 -2 3 -4 5 0  \n",
        "# 1 -2 3 -4 -5 0  \n",
        "# 1 -2 -3 4 5 0  \n",
        "# 1 -2 -3 4 -5 0  \n",
        "# 1 -2 -3 -4 5 0  \n",
        "# 1 -2 -3 -4 -5 0  \n",
        "# -1 2 3 4 5 0  \n",
        "# -1 2 3 4 -5 0  \n",
        "# -1 2 3 -4 5 0  \n",
        "# -1 2 3 -4 -5 0  \n",
        "# -1 2 -3 4 5 0  \n",
        "# -1 2 -3 4 -5 0  \n",
        "# -1 2 -3 -4 5 0  \n",
        "# -1 2 -3 -4 -5 0  \n",
        "# -1 -2 3 4 5 0  \n",
        "# -1 -2 3 4 -5 0  \n",
        "# -1 -2 3 -4 5 0  \n",
        "# -1 -2 3 -4 -5 0  \n",
        "# -1 -2 -3 4 5 0  \n",
        "# -1 -2 -3 4 -5 0  \n",
        "# -1 -2 -3 -4 5 0  \n",
        "# -1 -2 -3 -4 -5 0"
      ],
      "execution_count": null,
      "outputs": []
    },
    {
      "cell_type": "code",
      "metadata": {
        "id": "PKW149p0EniD",
        "outputId": "228625ed-d957-4935-e1fb-a6d751a0fd78",
        "colab": {
          "base_uri": "https://localhost:8080/",
          "height": 53
        }
      },
      "source": [
        "'.'.join([*map(lambda b:f\"({'!'*int(b[0])}a+{'!'*int(b[1])}b+{'!'*int(b[2])}c+{'!'*int(b[3])}d+{'!'*int(b[4])}e)\",[*map(lambda n:bin(n)[2::].zfill(5),range(32))])])"
      ],
      "execution_count": 8,
      "outputs": [
        {
          "output_type": "execute_result",
          "data": {
            "application/vnd.google.colaboratory.intrinsic+json": {
              "type": "string"
            },
            "text/plain": [
              "'(a+b+c+d+e).(a+b+c+d+!e).(a+b+c+!d+e).(a+b+c+!d+!e).(a+b+!c+d+e).(a+b+!c+d+!e).(a+b+!c+!d+e).(a+b+!c+!d+!e).(a+!b+c+d+e).(a+!b+c+d+!e).(a+!b+c+!d+e).(a+!b+c+!d+!e).(a+!b+!c+d+e).(a+!b+!c+d+!e).(a+!b+!c+!d+e).(a+!b+!c+!d+!e).(!a+b+c+d+e).(!a+b+c+d+!e).(!a+b+c+!d+e).(!a+b+c+!d+!e).(!a+b+!c+d+e).(!a+b+!c+d+!e).(!a+b+!c+!d+e).(!a+b+!c+!d+!e).(!a+!b+c+d+e).(!a+!b+c+d+!e).(!a+!b+c+!d+e).(!a+!b+c+!d+!e).(!a+!b+!c+d+e).(!a+!b+!c+d+!e).(!a+!b+!c+!d+e).(!a+!b+!c+!d+!e)'"
            ]
          },
          "metadata": {
            "tags": []
          },
          "execution_count": 8
        }
      ]
    },
    {
      "cell_type": "markdown",
      "metadata": {
        "id": "psJ_6GxWhtsK"
      },
      "source": [
        "(a) The CNF formula is shown in the output from the code above.\n",
        "\n",
        "(b) No, for every combination of boolean variables there is a clause that is the \"opposite\" (as in mutually exclusive) which will reject it.\n",
        "\n",
        "(c) Only one row needs to be deleted. It does not matter which as all, if removed, would allow whatever the \"opposite\" of it to be consistent with the formula.\n",
        "\n",
        "(d) Done. Every row that I removed made it satisfiable."
      ]
    },
    {
      "cell_type": "markdown",
      "metadata": {
        "id": "0IRR9xZ7hums"
      },
      "source": [
        "### 16.7.2.2"
      ]
    },
    {
      "cell_type": "markdown",
      "metadata": {
        "id": "sN5KdexVOfz3"
      },
      "source": [
        "Consider the set of undirected graphs $\\langle G \\rangle$ with a set of nodes $N$ and a set of edges $E \\subseteq N \\times N$ such that we can two-color the graph (meaning no two nodes connected by an edge  have the same color)."
      ]
    },
    {
      "cell_type": "markdown",
      "metadata": {
        "id": "MjW37Ew9hvi_"
      },
      "source": [
        "We can use a breadth-first search to color the graph by choosing a starting color for the first node then make every node connected to it the opposite color. Then go to those nodes and make every node connected to them the original color. From there switch colors back and forth but continue to branch out to uncolored nodes making them the opposite of what they are adjacent to."
      ]
    },
    {
      "cell_type": "markdown",
      "metadata": {
        "id": "IdS-nwwRhv5W"
      },
      "source": [
        "### 16.7.2.8"
      ]
    },
    {
      "cell_type": "markdown",
      "metadata": {
        "id": "nABKUcLLOgcR"
      },
      "source": [
        "A Hamiltonian cycle in a graph with respect to a given node $n$ is a tour that begins at $n$ and visits all other nodes exactly once, returning to $n$. In a 5-clique, how many distinct Hamiltonian cycles exist? How about in an $n$-clique?"
      ]
    },
    {
      "cell_type": "markdown",
      "metadata": {
        "id": "o8MUWcafhwnM"
      },
      "source": [
        "If the nodes are labeled, then there are $5!$ distinct Hamiltonian cycles in a 5-clique graph. If the nodes are not labeled, then there are only $4!$ distinct Hamiltonian cycles in a 5-clique graph. The same goes for an n-clique graph: There are $n!$ distinct Hamiltonian cycles in an $n$-clique graph if the nodes are labeled, and there are $(n-1)!$ distinct Hamiltonian cycles if they are not."
      ]
    },
    {
      "cell_type": "markdown",
      "metadata": {
        "id": "Sdyg1GB3hxKu"
      },
      "source": [
        "### 16.7.2.9"
      ]
    },
    {
      "cell_type": "markdown",
      "metadata": {
        "id": "we7MJbAROg8x"
      },
      "source": [
        "Define the language $HalfClique$ to be the set of input encodings $\\langle G \\rangle$ such that $G$ is an undirected graph having a clique with at least $n/2$ nodes, where $n$ is the number of nodes in $G$. Show that $HalfClique$ is NPC. $\\textit{Hint: Mapping reduction from Clique.}$"
      ]
    },
    {
      "cell_type": "markdown",
      "metadata": {
        "id": "NuRLP4a_hx82"
      },
      "source": [
        "Your answer goes here."
      ]
    },
    {
      "cell_type": "markdown",
      "metadata": {
        "id": "npHvn-zchyV8"
      },
      "source": [
        "### 16.7.2.10"
      ]
    },
    {
      "cell_type": "markdown",
      "metadata": {
        "id": "E54Kh6c3OhjW"
      },
      "source": [
        "The game of Sudoku has been shown to be in NPC. In practice,  one can encode and solve Sudoku using SAT solvers. This is also a  good way to understand the power of modern SAT solvers. Study  the Sudoku solver (MIT license) written by Nicholas Pilkington at  https://gist.github.com/nickponline/9c91fe65fef5b58ae1b0.  Test it on the instance provided as well as a few that you create. Note: This solver will need Python2 (or you may adapt it for  Python3)."
      ]
    },
    {
      "cell_type": "markdown",
      "metadata": {
        "id": "M_-j59EZh0xJ"
      },
      "source": [
        "Your answer goes here."
      ]
    },
    {
      "cell_type": "markdown",
      "metadata": {
        "id": "0FEjXwMpiZF-"
      },
      "source": [
        "### 16.7.2.12"
      ]
    },
    {
      "cell_type": "markdown",
      "metadata": {
        "id": "AqGYpo_rOiGr"
      },
      "source": [
        "Show that a 3-CNF formula\n",
        "\n",
        "$$\\Phi = \\phi_0 \\land \\phi_1 \\land ... \\phi_i \\land \\phi_{(N-1)}$$\n",
        "\n",
        "is unsatisfiable *if and only if* **for any variable assignment**, there  is one clause $\\phi_j$ with all the literals true and another clause $\\phi_k$  with all the literals false.\n",
        "\n",
        "**Illustration:** Consider  \n",
        "\n",
        "$$\\Phi = (x+y+y) \\cdot (x+!y+!y) \\cdot (!x+y+y) \\cdot (!x+!y+!y)$$\n",
        "\n",
        "For any assignment (say $x = 0$, $y = 1$), we have one clause whose  literals are all true, and one clause whose literals are all false  (these are respectively ($!x + y + y$) and ($x+!y+!y$)). If we leave out  any one clause, that is not the case, as $\\Phi$ becomes satisfiable. Now  finish the proof."
      ]
    },
    {
      "cell_type": "code",
      "metadata": {
        "id": "pwgYnGCgT77r"
      },
      "source": [
        "# c CryptoMiniSat demo, NOT the full solver  \n",
        "# c This is uum8.smt2-stp212.cnf from SAT Competition 2016  \n",
        "# c It should solve in about 30 seconds  \n",
        "# c You can edit...  \n",
        "# p cnf 1006 3359       <-- problem CNF with 1006 vars, 3359 clauses  \n",
        "# 2 -3 -159 -214 -374 0 <-- Clause (v2 + !v3 + !v159 + !v214 + !v374)  \n",
        "# -2 374 0              <-- Clause (!v2 + v374)  \n",
        "# ...3354 CLAUSES OMITTED...  \n",
        "# -681 -942 -950 0      <-- Each clause ends with 0  \n",
        "# 1006 0                <-- All clauses are implicitly conjoined  \n",
        "# 2 0                   <-- This is the 3359th clause (last one)  \n",
        "# UNSATISFIABLE <<-- Make last line \"-2 0\" to get SAT instantly! "
      ],
      "execution_count": null,
      "outputs": []
    },
    {
      "cell_type": "markdown",
      "metadata": {
        "id": "fUWY-FGXiZF_"
      },
      "source": [
        "Your answer goes here."
      ]
    },
    {
      "cell_type": "markdown",
      "metadata": {
        "id": "Ua6BlQDSicB_"
      },
      "source": [
        "## TODO Explore a Powerful Tool"
      ]
    },
    {
      "cell_type": "markdown",
      "metadata": {
        "id": "CzhO3COaikyu"
      },
      "source": [
        "Do the following NON-book exercise:"
      ]
    },
    {
      "cell_type": "markdown",
      "metadata": {
        "id": "PhRWte2iiw4I"
      },
      "source": [
        "SAT, while being NP-Complete, is a \"workhorse of a tool.\" This exercise asks you to get a taste of running the CryptoMinisat tool on a non-trivial SAT formula. Click on https://msoos.github.io/cryptominisat_web/ to access this tool. When it comes up, it has a prefilled formula. There is a Play button that you can click, whereupon it solves the SAT instance.\n",
        "\n",
        "This exercise asks you to replace this SAT instance with something bigger: specifically, the Pigeonhole problem (hole6.cnf) from: https://people.sc.fsu.edu/~jburkardt/data/cnf/cnf.html\n",
        "\n",
        "Just click the above link, get the hole6.cnf file, and plunk the CNF into the buffer.\n",
        "\n",
        "Hit Play and report on the execution time (you can just look at your phone's clock). If under 2 seconds, say \"negligible\" for your answer!\n",
        "\n",
        "How much time would such a problem take through brute-force enumeration of $2^n$ combinations on a computer that takes a microsecond per variable combination (the $n$ is the number of variables used in the Pigeonhole problem)? HINT: Here is how you read the contents of a CNF file:\n",
        "\n",
        "```\n",
        "c File:  hole6.cnf <--- these are comment lines - starts wth a \"C\"\n",
        "c...\n",
        "c\n",
        "p cnf 42 133\n",
        "-1     -7\n",
        "-1     -13\n",
        "...\n",
        "0 0\n",
        "<--- CRUCIAL !! Tells you there are 42 variables and 133 clauses\n",
        "<--- This line says (!x1 + !x7). The \"0\" is just end-of-a-clause marker!\n",
        "<--- This line says (!x1 + !x13)\n",
        " 12     11     10     9      8      7    0 <--- This clause reads\n",
        "                                          (x12 + x11 + x10 + x9 + x8 + x7)\n",
        "```\n",
        "\n",
        "Okay, now you have all the info you need to calculate the time it takes to enumerate $2^n$ combinations!!\n",
        "\n"
      ]
    },
    {
      "cell_type": "markdown",
      "metadata": {
        "id": "MVUe4b9dkd5n"
      },
      "source": [
        "Your (two-part) answer goes here.\n",
        "\n",
        "1. CryptoMinisat runtime:\n",
        "2. $2^n$ runtime estimation:"
      ]
    },
    {
      "cell_type": "markdown",
      "metadata": {
        "id": "8Q8t6FsUkxwS"
      },
      "source": [
        "## TODO Read and Learn"
      ]
    },
    {
      "cell_type": "markdown",
      "metadata": {
        "id": "K5LVir0Yk0Ed"
      },
      "source": [
        "List six facts that you found interesting about Boolean SAT in these articles:\n",
        "\n",
        "https://cacm.acm.org/magazines/2009/8/34498-boolean-satisfiability-from-theoretical-hardness-to-practical-success/fulltext\n",
        "\n",
        "and\n",
        "\n",
        "https://en.wikipedia.org/wiki/Boolean_satisfiability_problem\n",
        "\n",
        "Anything that interested you is fine – theoretical or practical. Please write 1-2 sentences per point that interested you."
      ]
    },
    {
      "cell_type": "markdown",
      "metadata": {
        "id": "6j3A7t_5lMIF"
      },
      "source": [
        "1. a\n",
        "2. b\n",
        "3. c\n",
        "4. d\n",
        "5. e\n",
        "6. f"
      ]
    }
  ]
}