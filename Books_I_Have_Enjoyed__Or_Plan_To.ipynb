{
  "nbformat": 4,
  "nbformat_minor": 0,
  "metadata": {
    "colab": {
      "name": "Books_I_Have_Enjoyed__Or_Plan_To.ipynb",
      "provenance": [],
      "toc_visible": true,
      "authorship_tag": "ABX9TyP8DSNpV+CG69FAePVRbvLc",
      "include_colab_link": true
    },
    "kernelspec": {
      "name": "python3",
      "display_name": "Python 3"
    },
    "language_info": {
      "name": "python"
    }
  },
  "cells": [
    {
      "cell_type": "markdown",
      "metadata": {
        "id": "view-in-github",
        "colab_type": "text"
      },
      "source": [
        "<a href=\"https://colab.research.google.com/github/byui-cse/cse480-notebooks/blob/master/Books_I_Have_Enjoyed__Or_Plan_To.ipynb\" target=\"_parent\"><img src=\"https://colab.research.google.com/assets/colab-badge.svg\" alt=\"Open In Colab\"/></a>"
      ]
    },
    {
      "cell_type": "markdown",
      "metadata": {
        "id": "h8FZ6GSkl6Ep"
      },
      "source": [
        "# Books I Have Enjoyed\n",
        "## Or Plan To!\n",
        "### 1 April 2021"
      ]
    },
    {
      "cell_type": "markdown",
      "metadata": {
        "id": "Nklx1l3B5jZ6"
      },
      "source": [
        "## In No Particular Order\n"
      ]
    },
    {
      "cell_type": "markdown",
      "metadata": {
        "id": "PqEtBHIr6Dtp"
      },
      "source": [
        "### There's Something About G&ouml;del"
      ]
    },
    {
      "cell_type": "markdown",
      "metadata": {
        "id": "GqIdbjBq6JQv"
      },
      "source": [
        "#### The Complete Guide to the Incompleteness Theorem\n"
      ]
    },
    {
      "cell_type": "markdown",
      "metadata": {
        "id": "OGlHxW1H6LWe"
      },
      "source": [
        "##### Francesco Berto\n"
      ]
    },
    {
      "cell_type": "markdown",
      "metadata": {
        "id": "8vwO55LJ6NdT"
      },
      "source": [
        "[ISBN:978-1405197670](https://www.amazon.com/Theres-Something-About-Godel-Incompleteness/dp/1405197676)\n"
      ]
    },
    {
      "cell_type": "markdown",
      "metadata": {
        "id": "F01wgGbD8Yr6"
      },
      "source": [
        "### Logicomix\n"
      ]
    },
    {
      "cell_type": "markdown",
      "metadata": {
        "id": "syJ4h8cO8kFg"
      },
      "source": [
        "#### An Epic Search For Truth\n"
      ]
    },
    {
      "cell_type": "markdown",
      "metadata": {
        "id": "QLCVgNRc8mEx"
      },
      "source": [
        "##### Apostolos Doxiadis and Christos Papadimitriou\n"
      ]
    },
    {
      "cell_type": "markdown",
      "metadata": {
        "id": "6Rg3_oLe9EIx"
      },
      "source": [
        "[ISBN:978-1596914520](https://www.amazon.com/Logicomix-search-truth-Apostolos-Doxiadis/dp/1596914521)\n"
      ]
    },
    {
      "cell_type": "markdown",
      "metadata": {
        "id": "Pj3Gsbay9a9Q"
      },
      "source": [
        "### Thinking About G&ouml;del and Turing"
      ]
    },
    {
      "cell_type": "markdown",
      "metadata": {
        "id": "8A4IdbAh9f_1"
      },
      "source": [
        "#### Essays on Complexity, 1970-2007"
      ]
    },
    {
      "cell_type": "markdown",
      "metadata": {
        "id": "TL12Cnwe9iU3"
      },
      "source": [
        "##### Gregory J. Chaitin"
      ]
    },
    {
      "cell_type": "markdown",
      "metadata": {
        "id": "-ejyS4Ln9joX"
      },
      "source": [
        "[ASIN:B01FKUUO8M](https://www.amazon.com/THINKING-ABOUT-DEL-TURING-Complexity/dp/B01FKUUO8M)\n",
        "\n",
        "[Descriptive Complexity](https://rickneff.github.io/descriptive-complexity.pdf)\n",
        "\n",
        "[Specified Complexity](https://rickneff.github.io/specified-complexity.pdf)\n"
      ]
    },
    {
      "cell_type": "markdown",
      "metadata": {
        "id": "b6HLMGtf9lXI"
      },
      "source": [
        "### Quantum Computing Since Democritus\n"
      ]
    },
    {
      "cell_type": "markdown",
      "metadata": {
        "id": "8aAOqk749mzj"
      },
      "source": [
        "#### No subtitle"
      ]
    },
    {
      "cell_type": "markdown",
      "metadata": {
        "id": "VxzpTWzP9oE7"
      },
      "source": [
        "##### Scott Aaronson"
      ]
    },
    {
      "cell_type": "markdown",
      "metadata": {
        "id": "ja5Ufy-Z9qrX"
      },
      "source": [
        "[ISBN:978-0521199568](https://www.amazon.com/Quantum-Computing-since-Democritus-Aaronson/dp/0521199565)\n",
        "\n",
        "[Transcript of Lecture One of Scott Aaronson's MIT course Great Ideas in Theoretical Computer Science](https://stellar.mit.edu/S/course/6/sp08/6.080/courseMaterial/topics/topic1/lectureNotes/lec1/lec1.pdf)\n"
      ]
    },
    {
      "cell_type": "markdown",
      "metadata": {
        "id": "nY1x3hkX9v5t"
      },
      "source": [
        "### One Eternal Round"
      ]
    },
    {
      "cell_type": "markdown",
      "metadata": {
        "id": "CifemdsK9xhy"
      },
      "source": [
        "#### No subtitle"
      ]
    },
    {
      "cell_type": "markdown",
      "metadata": {
        "id": "1pgBMaxu9zey"
      },
      "source": [
        "##### Hugh Nibley and Michael D. Rhodes"
      ]
    },
    {
      "cell_type": "markdown",
      "metadata": {
        "id": "OdLTmQpq91Eq"
      },
      "source": [
        "[ISBN:978-1606412374](https://www.amazon.com/One-Eternal-Round-Hugh-Nibley/dp/160641237X)\n",
        "\n",
        "Note that the final groundbreaking chapter delves into geometry and mathematical relationships depicted on [Facsimile 2](https://www.churchofjesuschrist.org/study/scriptures/pgp/abr/fac-2?lang=eng).\n",
        "\n",
        "[What Makes People Engage With Math?](https://www.youtube.com/watch?v=s_L-fp8gDzY)\n",
        "\n",
        "> If you have a soul --- you have to know why!\n",
        "\n",
        "So exclaimed Grant Sanderson at just after 13 minutes into his talk.\n",
        "\n",
        "Are you curious enough to learn what he's talking about?\n",
        "\n",
        "A commenter on this video said:\n",
        "\n",
        "> I think this quote by Paul Lockhart perfectly conveys his point.\n",
        "\n",
        "> Also, as I said before, just because a subject happens to have some mundane practical use does not mean that we have to make that use the focus of our teaching and learning. It may be true that you have to be able to read in order to fill out forms at the DMV, but that's not why we teach children to read. We teach them to read for the higher purpose of allowing them access to beautiful and meaningful ideas. Not only would it be cruel to teach reading in such a way --- to force third graders to fill out purchase orders and tax forms --- it wouldn't work! We learn things because they interest us now, not because they might be useful later. But this is exactly what we are asking children to do with math."
      ]
    },
    {
      "cell_type": "code",
      "metadata": {
        "id": "BsLKA3VBsbPs"
      },
      "source": [
        "from IPython.display import YouTubeVideo\n",
        "YouTubeVideo('s_L-fp8gDzY') # 19 minutes 2 seconds"
      ],
      "execution_count": null,
      "outputs": []
    },
    {
      "cell_type": "markdown",
      "metadata": {
        "id": "YZvR1Pun-OXp"
      },
      "source": [
        "### The Organized Mind"
      ]
    },
    {
      "cell_type": "markdown",
      "metadata": {
        "id": "UnmArspH-Qzd"
      },
      "source": [
        "#### Thinking Straight in the Age of Information Overload"
      ]
    },
    {
      "cell_type": "markdown",
      "metadata": {
        "id": "poDh3Sya-TgC"
      },
      "source": [
        "##### Daniel J. Levitin"
      ]
    },
    {
      "cell_type": "markdown",
      "metadata": {
        "id": "MYQ2b9Cb-WMp"
      },
      "source": [
        "[ISBN:978-0147516312](https://www.amazon.com/Organized-Mind-Thinking-Straight-Information/dp/0147516315)"
      ]
    },
    {
      "cell_type": "markdown",
      "metadata": {
        "id": "xB-ghw90-YqJ"
      },
      "source": [
        "### The World in Six Songs"
      ]
    },
    {
      "cell_type": "markdown",
      "metadata": {
        "id": "qShmS6h--aoh"
      },
      "source": [
        "#### How the Musical Brain Created Human Nature"
      ]
    },
    {
      "cell_type": "markdown",
      "metadata": {
        "id": "mweKjOL7-b86"
      },
      "source": [
        "##### Daniel J. Levitin"
      ]
    },
    {
      "cell_type": "markdown",
      "metadata": {
        "id": "aL47FejC-dPK"
      },
      "source": [
        "[ISBN:978-0452295483](https://www.amazon.com/World-Six-Songs-Musical-Created/dp/0452295483)\n",
        "\n",
        "[NCTM article on Music and Mathematics](http://byui.idm.oclc.org/login?url=https://www.jstor.org/stable/27957839)"
      ]
    },
    {
      "cell_type": "markdown",
      "metadata": {
        "id": "m79O71vW-fN4"
      },
      "source": [
        "### This Is Your Brain on Music"
      ]
    },
    {
      "cell_type": "markdown",
      "metadata": {
        "id": "nPFua-iO-gnd"
      },
      "source": [
        "#### The Science of a Human Obsession"
      ]
    },
    {
      "cell_type": "markdown",
      "metadata": {
        "id": "o7rqYdp0-id7"
      },
      "source": [
        "##### Daniel J. Levitin"
      ]
    },
    {
      "cell_type": "markdown",
      "metadata": {
        "id": "eggjkD1I-jrl"
      },
      "source": [
        "[ISBN:978-0525949695](https://www.amazon.com/This-Your-Brain-Music-Obsession-dp-0525949690/dp/0525949690)\n",
        "\n",
        "Meet a very mathy and musical man: [David Wright](https://www.math.wustl.edu/~wright/new_mathmusic_class.html)\n",
        "\n",
        "Another very mathy man connects music to math: [Grant Sanderson](https://www.youtube.com/watch?v=cyW5z-M2yzw) --- see video embedded below.\n",
        "\n",
        "For more math/music via computer programming, have a look at [ChucK](http://chuck.cs.princeton.edu).\n"
      ]
    },
    {
      "cell_type": "code",
      "metadata": {
        "id": "PCiG2hnArXbD"
      },
      "source": [
        "from IPython.display import YouTubeVideo\n",
        "YouTubeVideo('cyW5z-M2yzw') # 13 minutes 13 seconds"
      ],
      "execution_count": null,
      "outputs": []
    },
    {
      "cell_type": "markdown",
      "metadata": {
        "id": "CS1Z5F3X-k9g"
      },
      "source": [
        "### Intuition Pumps"
      ]
    },
    {
      "cell_type": "markdown",
      "metadata": {
        "id": "Z1kTQTsD-mQS"
      },
      "source": [
        "#### and Other Tools for Thinking"
      ]
    },
    {
      "cell_type": "markdown",
      "metadata": {
        "id": "MY25tfxM-nYi"
      },
      "source": [
        "##### Daniel C. Dennett\n"
      ]
    },
    {
      "cell_type": "markdown",
      "metadata": {
        "id": "SJlWnPe4-os5"
      },
      "source": [
        "[ISBN:978-0393348781](https://www.amazon.com/Intuition-Pumps-Other-Tools-Thinking/dp/0393348784)"
      ]
    },
    {
      "cell_type": "markdown",
      "metadata": {
        "id": "18QGbtDL-p8h"
      },
      "source": [
        "### Everything and More"
      ]
    },
    {
      "cell_type": "markdown",
      "metadata": {
        "id": "l7_6qr0p-rQA"
      },
      "source": [
        "#### A Compact History of Infinity"
      ]
    },
    {
      "cell_type": "markdown",
      "metadata": {
        "id": "IFGLeZGO-sSH"
      },
      "source": [
        "##### David Foster Wallace"
      ]
    },
    {
      "cell_type": "markdown",
      "metadata": {
        "id": "250HSdbD-tPz"
      },
      "source": [
        "[ISBN:978-0393003383](https://www.amazon.com/Everything-More-Compact-Infinity-Discoveries/dp/0393003388)"
      ]
    },
    {
      "cell_type": "markdown",
      "metadata": {
        "id": "LvSX_7lk-u6I"
      },
      "source": [
        "### The Inexhaustible Gospel\n"
      ]
    },
    {
      "cell_type": "markdown",
      "metadata": {
        "id": "xxAtNjFn-yGO"
      },
      "source": [
        "#### A Retrospective of Twenty-one Firesides and Devotionals\n"
      ]
    },
    {
      "cell_type": "markdown",
      "metadata": {
        "id": "1KSt_PfY-zIT"
      },
      "source": [
        "##### Neal A. Maxwell"
      ]
    },
    {
      "cell_type": "markdown",
      "metadata": {
        "id": "0HAu_atB-0Qv"
      },
      "source": [
        "[ISBN:978-0842525930](https://www.amazon.com/INEXHAUSTIBLE-GOSPEL-RETROSPECTIVE-TWENTY-ONE-DEVOTIONALS/dp/0842525939)"
      ]
    },
    {
      "cell_type": "markdown",
      "metadata": {
        "id": "atpB6rXw-1vn"
      },
      "source": [
        "### People of Paradox\n"
      ]
    },
    {
      "cell_type": "markdown",
      "metadata": {
        "id": "J8g7YK4Y-25_"
      },
      "source": [
        "#### A History of Mormon Culture"
      ]
    },
    {
      "cell_type": "markdown",
      "metadata": {
        "id": "V_GJEADc-4Xg"
      },
      "source": [
        "##### Terryl L. Givens\n"
      ]
    },
    {
      "cell_type": "markdown",
      "metadata": {
        "id": "FXYBwHli-5XH"
      },
      "source": [
        "[ISBN:978-0199915989](https://www.amazon.com/People-Paradox-History-Mormon-Culture/dp/0199915989)"
      ]
    },
    {
      "cell_type": "markdown",
      "metadata": {
        "id": "4Lc3FrmS-6pO"
      },
      "source": [
        "### The Language Instinct"
      ]
    },
    {
      "cell_type": "markdown",
      "metadata": {
        "id": "wwQN0p7X-7vr"
      },
      "source": [
        "#### How the Mind Creates Language\n"
      ]
    },
    {
      "cell_type": "markdown",
      "metadata": {
        "id": "NF3Oh9Mj-86Z"
      },
      "source": [
        "##### Steven Pinker"
      ]
    },
    {
      "cell_type": "markdown",
      "metadata": {
        "id": "Qs_pOIbG--A5"
      },
      "source": [
        "[ISBN:978-0688121419](https://www.amazon.com/Language-Instinct-How-Mind-Creates/dp/0688121411)"
      ]
    },
    {
      "cell_type": "markdown",
      "metadata": {
        "id": "6oT9tRg1_AUL"
      },
      "source": [
        "### The Stuff of Thought"
      ]
    },
    {
      "cell_type": "markdown",
      "metadata": {
        "id": "Yg1kqEEh_BRs"
      },
      "source": [
        "#### Language as a Window into Human Nature\n"
      ]
    },
    {
      "cell_type": "markdown",
      "metadata": {
        "id": "nBpWZ85r_CWy"
      },
      "source": [
        "##### Steven Pinker\n"
      ]
    },
    {
      "cell_type": "markdown",
      "metadata": {
        "id": "Pzel53qs_DS5"
      },
      "source": [
        "[ISBN:978-0143114246](https://www.amazon.com/Stuff-Thought-Language-Window-Nature/dp/0143114247)"
      ]
    },
    {
      "cell_type": "markdown",
      "metadata": {
        "id": "vi7jVv3y_FCK"
      },
      "source": [
        "### Words and Rules\n"
      ]
    },
    {
      "cell_type": "markdown",
      "metadata": {
        "id": "Kal9txbD_GH8"
      },
      "source": [
        "#### The Ingredients of Language\n"
      ]
    },
    {
      "cell_type": "markdown",
      "metadata": {
        "id": "t3ObU91S_G_5"
      },
      "source": [
        "##### Steven Pinker\n"
      ]
    },
    {
      "cell_type": "markdown",
      "metadata": {
        "id": "OwMXTEKs_HxY"
      },
      "source": [
        "[ISBN:978-0465072699](https://www.amazon.com/Words-Rules-Ingredients-Language-Science/dp/0465072690)\n",
        "\n",
        "[At least read Chapter 1: The Infinite Library](http://monoskop.org/images/9/9e/Pinker_Steven_Words_and_rules_the_ingredients_of_language_1999.Pdf)\n",
        "\n",
        "[See also the Library of Babel](https://libraryofbabel.info/).\n",
        "\n",
        "Excerpt from [the About page](https://libraryofbabel.info/About.html):\n",
        "\n",
        "> This library isn't infinite, but \"[I]f completed, it would contain every possible combination of 1,312,000 characters, including lower case letters, space, comma, and period. Thus, it would contain every book that ever has been written, and every book that ever could be --- including every play, every song, every scientific paper, every legal decision, every constitution, every piece of scripture, and so on. At present it contains all possible pages of 3200 characters, about 104677 books.\""
      ]
    },
    {
      "cell_type": "markdown",
      "metadata": {
        "id": "iw3vLC-c_Pmt"
      },
      "source": [
        "### How The Mind Works\n"
      ]
    },
    {
      "cell_type": "markdown",
      "metadata": {
        "id": "Feiau3fR_RQ4"
      },
      "source": [
        "#### No subtitle\n"
      ]
    },
    {
      "cell_type": "markdown",
      "metadata": {
        "id": "BGcgU_-e_SO6"
      },
      "source": [
        "##### Steven Pinker\n"
      ]
    },
    {
      "cell_type": "markdown",
      "metadata": {
        "id": "QMrg-aP3_TJS"
      },
      "source": [
        "[ISBN:978-0393334777](https://www.amazon.com/How-Mind-Works-Steven-Pinker/dp/0393334775)\n",
        "\n",
        "[See this website too](https://stevenpinker.com/publications/how-mind-works)\n"
      ]
    },
    {
      "cell_type": "markdown",
      "metadata": {
        "id": "Wlz0YHsO_Vs6"
      },
      "source": [
        "### Make It Stick\n"
      ]
    },
    {
      "cell_type": "markdown",
      "metadata": {
        "id": "71AT3sYX_XD9"
      },
      "source": [
        "#### The Science of Successful Learning\n"
      ]
    },
    {
      "cell_type": "markdown",
      "metadata": {
        "id": "aqOznkJT_YI_"
      },
      "source": [
        "##### Peter C. Brown, Henry L. Roediger III, Mark A. McDaniel\n"
      ]
    },
    {
      "cell_type": "markdown",
      "metadata": {
        "id": "M1vQiwu1_ZEF"
      },
      "source": [
        "[ISBN:978-0674729018](https://www.amazon.com/Make-It-Stick-Successful-Learning/dp/0674729013)\n",
        "\n",
        "[See this website too](http://makeitstick.net/)\n"
      ]
    },
    {
      "cell_type": "markdown",
      "metadata": {
        "id": "IRfRiwel_foL"
      },
      "source": [
        "### Why Information Grows\n"
      ]
    },
    {
      "cell_type": "markdown",
      "metadata": {
        "id": "ks2EMpnN_j-8"
      },
      "source": [
        "#### The Evolution of Order, from Atoms to Economies\n"
      ]
    },
    {
      "cell_type": "markdown",
      "metadata": {
        "id": "ADrGJFRH_kxD"
      },
      "source": [
        "##### C&eacute;sar Hidalgo\n"
      ]
    },
    {
      "cell_type": "markdown",
      "metadata": {
        "id": "pOu_uOMy_mB5"
      },
      "source": [
        "[ISBN:978-0465096848](https://www.amazon.com/Why-Information-Grows-Evolution-Economies/dp/0465096840)\n",
        "\n",
        "[Review by Paul Romer](https://paulromer.net/why-information-grows/)"
      ]
    },
    {
      "cell_type": "markdown",
      "metadata": {
        "id": "nCC5wzxA_pqa"
      },
      "source": [
        "### An Introduction to the Theory of Numbers\n"
      ]
    },
    {
      "cell_type": "markdown",
      "metadata": {
        "id": "ZoYThOtZ_rDN"
      },
      "source": [
        "#### No subtitle\n"
      ]
    },
    {
      "cell_type": "markdown",
      "metadata": {
        "id": "K3eK9P3V_r7Q"
      },
      "source": [
        "##### G. H. Hardy and E. M. Wright\n"
      ]
    },
    {
      "cell_type": "markdown",
      "metadata": {
        "id": "XPubdtiE_s_d"
      },
      "source": [
        "[ISBN:978-0199219865](https://www.amazon.com/Introduction-Theory-Numbers-G-Hardy/dp/0199219869)\n"
      ]
    },
    {
      "cell_type": "markdown",
      "metadata": {
        "id": "w2RdMxYH_uEu"
      },
      "source": [
        "### Infinity and The Mind\n"
      ]
    },
    {
      "cell_type": "markdown",
      "metadata": {
        "id": "s2QRZafS_vFk"
      },
      "source": [
        "#### The Science and Philosophy of the Infinite\n"
      ]
    },
    {
      "cell_type": "markdown",
      "metadata": {
        "id": "c0Px707Y_aH5"
      },
      "source": [
        "##### Rudy Rucker\n"
      ]
    },
    {
      "cell_type": "markdown",
      "metadata": {
        "id": "SXWKWC1N_xy5"
      },
      "source": [
        "[ISBN:978-0691001722](https://www.amazon.com/Infinity-Mind-Rudy-Rucker/dp/3764330341)\n"
      ]
    },
    {
      "cell_type": "markdown",
      "metadata": {
        "id": "3rNM-St4_zHm"
      },
      "source": [
        "### Mind Tools\n"
      ]
    },
    {
      "cell_type": "markdown",
      "metadata": {
        "id": "NfTZHoCW_0Bo"
      },
      "source": [
        "#### The Five Levels of Mathematical Reality\n"
      ]
    },
    {
      "cell_type": "markdown",
      "metadata": {
        "id": "GgKuLsWu_00y"
      },
      "source": [
        "##### Rudy Rucker\n"
      ]
    },
    {
      "cell_type": "markdown",
      "metadata": {
        "id": "9mmI0YiW_1n7"
      },
      "source": [
        "[ISBN:978-0486492285](https://www.amazon.com/gp/product/B00I17XVA0)\n",
        "\n",
        "[Sample Definition of Information](https://rickneff.github.io/a-definition-of-information.pdf)\n",
        "\n",
        "[Sample Explanation of G&ouml;del's Theorem](https://colab.research.google.com/github/byui-cse/cse380-notebooks/blob/master/13_4_KG_Incompleteness.ipynb#scrollTo=hY2NP9PAS56H)\n",
        "\n",
        "\n",
        "\n",
        "\n"
      ]
    },
    {
      "cell_type": "markdown",
      "metadata": {
        "id": "nGBkZY4J_5EK"
      },
      "source": [
        "### The Lifebox, the Seashell, and the Soul\n"
      ]
    },
    {
      "cell_type": "markdown",
      "metadata": {
        "id": "sFPjqBZ7_8FU"
      },
      "source": [
        "#### What Gnarly Computation Taught Me About Ultimate Reality, The Meaning of Life, And How to Be Happy\n"
      ]
    },
    {
      "cell_type": "markdown",
      "metadata": {
        "id": "qyw9eGgJ_8_4"
      },
      "source": [
        "##### Rudy Rucker\n"
      ]
    },
    {
      "cell_type": "markdown",
      "metadata": {
        "id": "o_O7gbPy_9sK"
      },
      "source": [
        "[ISBN:978-1940948256](https://www.amazon.com/Lifebox-Seashell-Soul-Computation-Ultimate-ebook/dp/B01MXD8PQ8)"
      ]
    },
    {
      "cell_type": "markdown",
      "metadata": {
        "id": "5EaiDmo-_-rG"
      },
      "source": [
        "### How Mathematicians Think\n"
      ]
    },
    {
      "cell_type": "markdown",
      "metadata": {
        "id": "yhoPemwaAASc"
      },
      "source": [
        "#### Using Ambiguity, Paradox and Contradiction to Create Mathematics\n"
      ]
    },
    {
      "cell_type": "markdown",
      "metadata": {
        "id": "MxrWxkwYAF4V"
      },
      "source": [
        "##### William Byers\n"
      ]
    },
    {
      "cell_type": "markdown",
      "metadata": {
        "id": "RH4GznN5AHRn"
      },
      "source": [
        "[ISBN:978-0691145990](http://www.amazon.com/How-Mathematicians-Think-Contradiction-Mathematics/dp/0691145997)\n",
        "\n",
        "[Sample](https://rickneff.github.io/is-creativity-algorithmic.pdf)"
      ]
    },
    {
      "cell_type": "markdown",
      "metadata": {
        "id": "iZKOzfhHAJkv"
      },
      "source": [
        "### G&ouml;del's Proof\n"
      ]
    },
    {
      "cell_type": "markdown",
      "metadata": {
        "id": "Pvs4d5FmALJo"
      },
      "source": [
        "#### No subtitle\n"
      ]
    },
    {
      "cell_type": "markdown",
      "metadata": {
        "id": "_IgbUYOYAM9W"
      },
      "source": [
        "##### Ernest Nagel and James R. Newman\n"
      ]
    },
    {
      "cell_type": "markdown",
      "metadata": {
        "id": "uPVuncUKANyW"
      },
      "source": [
        "[ISBN:978-0814758373](https://www.amazon.com/G%25C3%25B6dels-Proof-Ernest-Nagel/dp/0814758371)\n"
      ]
    },
    {
      "cell_type": "markdown",
      "metadata": {
        "id": "0Ii1OAkyAOit"
      },
      "source": [
        "### The Emperor's New Mind\n"
      ]
    },
    {
      "cell_type": "markdown",
      "metadata": {
        "id": "1riK8Nl4APfL"
      },
      "source": [
        "#### Concerning Computers, Minds, and the Laws of Physics\n"
      ]
    },
    {
      "cell_type": "markdown",
      "metadata": {
        "id": "Clkb8kPUAQph"
      },
      "source": [
        "##### Roger Penrose\n"
      ]
    },
    {
      "cell_type": "markdown",
      "metadata": {
        "id": "eM5ZNF4BARpc"
      },
      "source": [
        "[ISBN:978-0198784920](https://www.amazon.com/Emperors-New-Mind-Concerning-Computers/dp/0198784929)\n",
        "\n",
        "[Sample](https://colab.research.google.com/github/byui-cse/cse380-notebooks/blob/master/13_3_About_The_Word_Problem.ipynb#scrollTo=OKTH2yDFSLDU)"
      ]
    },
    {
      "cell_type": "markdown",
      "metadata": {
        "id": "zmCawcagAS1m"
      },
      "source": [
        "### Shadows of the Mind\n"
      ]
    },
    {
      "cell_type": "markdown",
      "metadata": {
        "id": "-5bruz8FATuY"
      },
      "source": [
        "#### A Search for the Missing Science of Consciousness\n"
      ]
    },
    {
      "cell_type": "markdown",
      "metadata": {
        "id": "MWVcBuW3AU1D"
      },
      "source": [
        "##### Roger Penrose\n"
      ]
    },
    {
      "cell_type": "markdown",
      "metadata": {
        "id": "XWKoEewUAWZz"
      },
      "source": [
        "[ISBN:978-0195106466](https://www.amazon.com/Shadows-Mind-Missing-Science-Consciousness/dp/0195106466)\n"
      ]
    },
    {
      "cell_type": "markdown",
      "metadata": {
        "id": "GDzfaKHXAXWl"
      },
      "source": [
        "### The Road to Reality\n"
      ]
    },
    {
      "cell_type": "markdown",
      "metadata": {
        "id": "koZVgt1zAYVh"
      },
      "source": [
        "#### A Complete Guide to the Laws of the Universe\n"
      ]
    },
    {
      "cell_type": "markdown",
      "metadata": {
        "id": "YJYrasnsAZIT"
      },
      "source": [
        "##### Roger Penrose\n"
      ]
    },
    {
      "cell_type": "markdown",
      "metadata": {
        "id": "U7DPGOMIAaFI"
      },
      "source": [
        "[ISBN:978-0679776314](https://www.amazon.com/Road-Reality-Complete-Guide-Universe/dp/0679776311)"
      ]
    },
    {
      "cell_type": "markdown",
      "metadata": {
        "id": "74CQzwgdAa8r"
      },
      "source": [
        "### Fashion, Faith, and Fantasy"
      ]
    },
    {
      "cell_type": "markdown",
      "metadata": {
        "id": "QssAYXDpAbsp"
      },
      "source": [
        "#### in the New Physics of the Universe\n"
      ]
    },
    {
      "cell_type": "markdown",
      "metadata": {
        "id": "20d1H7rtAc5_"
      },
      "source": [
        "##### Roger Penrose\n"
      ]
    },
    {
      "cell_type": "markdown",
      "metadata": {
        "id": "3ulqHOX8Advb"
      },
      "source": [
        "[ISBN:978-0691178530](https://www.amazon.com/Fashion-Faith-Fantasy-Physics-Universe/dp/0691178534)\n"
      ]
    },
    {
      "cell_type": "markdown",
      "metadata": {
        "id": "T7gizaYLAekC"
      },
      "source": [
        "### Prime Numbers\n"
      ]
    },
    {
      "cell_type": "markdown",
      "metadata": {
        "id": "o3-oDY2NAfUq"
      },
      "source": [
        "#### The Most Mysterious Figures in Math\n"
      ]
    },
    {
      "cell_type": "markdown",
      "metadata": {
        "id": "A_klVBPIAgZk"
      },
      "source": [
        "##### David Wells\n"
      ]
    },
    {
      "cell_type": "markdown",
      "metadata": {
        "id": "snBxv9DbAjRm"
      },
      "source": [
        "[ISBN:978-1620458242](http://www.amazon.com/Prime-Numbers-Most-Mysterious-Figures/dp/1620458241)\n"
      ]
    },
    {
      "cell_type": "markdown",
      "metadata": {
        "id": "Hps52YyzAkEv"
      },
      "source": [
        "### The Mathematical Experience\n"
      ]
    },
    {
      "cell_type": "markdown",
      "metadata": {
        "id": "hBpIvjEQAk__"
      },
      "source": [
        "#### No subtitle\n"
      ]
    },
    {
      "cell_type": "markdown",
      "metadata": {
        "id": "Uvf2i1kBAl7v"
      },
      "source": [
        "##### Philip J. Davis and Reuben Hersh\n"
      ]
    },
    {
      "cell_type": "markdown",
      "metadata": {
        "id": "ilS40h9eAm16"
      },
      "source": [
        "[ISBN:978-0395929681](https://www.amazon.com/Mathematical-Experience-Phillip-J-Davis/dp/0395929687)\n"
      ]
    },
    {
      "cell_type": "markdown",
      "metadata": {
        "id": "MA57Rg_nAnol"
      },
      "source": [
        "### Incompleteness\n"
      ]
    },
    {
      "cell_type": "markdown",
      "metadata": {
        "id": "P6nMBA58Aoe2"
      },
      "source": [
        "#### The Proof and Paradox of Kurt G&ouml;del\n"
      ]
    },
    {
      "cell_type": "markdown",
      "metadata": {
        "id": "L9MeBbTFApi6"
      },
      "source": [
        "##### Rebecca Goldstein\n"
      ]
    },
    {
      "cell_type": "markdown",
      "metadata": {
        "id": "tOC0cHgVAq0c"
      },
      "source": [
        "[ISBN:978-0393327601](https://www.amazon.com/Incompleteness-Proof-Paradox-G%C3%B6del-Discoveries/dp/0393327604)\n"
      ]
    },
    {
      "cell_type": "markdown",
      "metadata": {
        "id": "Y8Rw7yeuAsuF"
      },
      "source": [
        "### Coincidences, Chaos, and All That Math Jazz\n"
      ]
    },
    {
      "cell_type": "markdown",
      "metadata": {
        "id": "SGewCNKrAtp1"
      },
      "source": [
        "#### Making Light of Weighty Ideas\n"
      ]
    },
    {
      "cell_type": "markdown",
      "metadata": {
        "id": "j3wGqypOAurP"
      },
      "source": [
        "##### Edward B. Burger and Michael Starbird\n"
      ]
    },
    {
      "cell_type": "markdown",
      "metadata": {
        "id": "OIPn2vE2Av1E"
      },
      "source": [
        "[ISBN:978-0393329315](https://www.amazon.com/Coincidences-Chaos-That-Math-Jazz/dp/0393329313)\n"
      ]
    },
    {
      "cell_type": "markdown",
      "metadata": {
        "id": "DH0hUrDHAx0U"
      },
      "source": [
        "### The Infamous Boundary\n"
      ]
    },
    {
      "cell_type": "markdown",
      "metadata": {
        "id": "ucXeO96PAy6d"
      },
      "source": [
        "#### Seven Decades of Controversy in Quantum Physics\n"
      ]
    },
    {
      "cell_type": "markdown",
      "metadata": {
        "id": "l1Niic6OAzrq"
      },
      "source": [
        "##### David Wick\n"
      ]
    },
    {
      "cell_type": "markdown",
      "metadata": {
        "id": "Brx0w3CtA0lg"
      },
      "source": [
        "[ISBN:978-0817637859](https://www.amazon.com/Infamous-Boundary-Decades-Controversy-Quantum/dp/0817637850)\n",
        "\n",
        "[Sample](https://rickneff.github.io/philosophical-computation.pdf)"
      ]
    },
    {
      "cell_type": "markdown",
      "metadata": {
        "id": "ELHYAQGgA5v-"
      },
      "source": [
        "### Concrete Mathematics\n"
      ]
    },
    {
      "cell_type": "markdown",
      "metadata": {
        "id": "aA86a8RMA6yu"
      },
      "source": [
        "#### A Foundation for Computer Science\n"
      ]
    },
    {
      "cell_type": "markdown",
      "metadata": {
        "id": "375JsuXsA7kq"
      },
      "source": [
        "##### Ron Graham, Donald Knuth, Oren Patashnik\n"
      ]
    },
    {
      "cell_type": "markdown",
      "metadata": {
        "id": "jqJTKhn0A8cN"
      },
      "source": [
        "[ISBN:978-0201558029](https://www.amazon.com/Concrete-Mathematics-Foundation-Computer-Science/dp/0201558025)\n"
      ]
    },
    {
      "cell_type": "markdown",
      "metadata": {
        "id": "M6tKVOckA9IW"
      },
      "source": [
        "### G&ouml;del, Escher, Bach\n"
      ]
    },
    {
      "cell_type": "markdown",
      "metadata": {
        "id": "RqYz-qe1A-Dv"
      },
      "source": [
        "#### An Eternal Golden Braid\n"
      ]
    },
    {
      "cell_type": "markdown",
      "metadata": {
        "id": "D1fXRcgRA-7o"
      },
      "source": [
        "##### Douglas Hofstadter\n"
      ]
    },
    {
      "cell_type": "markdown",
      "metadata": {
        "id": "DiCpzv0bBAaj"
      },
      "source": [
        "[ISBN:978-0465026562](https://www.amazon.com/G%C3%B6del-Escher-Bach-Eternal-Golden/dp/0465026567)\n"
      ]
    },
    {
      "cell_type": "markdown",
      "metadata": {
        "id": "IwoGiRQJBBwK"
      },
      "source": [
        "### I Am a Strange Loop\n"
      ]
    },
    {
      "cell_type": "markdown",
      "metadata": {
        "id": "3puuDzUkBDiP"
      },
      "source": [
        "#### No subtitle\n"
      ]
    },
    {
      "cell_type": "markdown",
      "metadata": {
        "id": "zLOTNSrdBETo"
      },
      "source": [
        "##### Douglas Hofstadter\n"
      ]
    },
    {
      "cell_type": "markdown",
      "metadata": {
        "id": "Dc9NMGbIBFGP"
      },
      "source": [
        "[ISBN:978-0465030798](https://www.amazon.com/Am-Strange-Loop-Douglas-Hofstadter/dp/0465030793)\n",
        "\n",
        "[Sample](https://rickneff.github.io/excerpts-from-i-am-a-strange-loop.pdf)\n",
        "\n",
        "[A Review by Martin Gardner](http://www.ams.org/notices/200707/tx070700852p.pdf)"
      ]
    },
    {
      "cell_type": "markdown",
      "metadata": {
        "id": "Gc2QplStA2LG"
      },
      "source": [
        "### Surfaces and Essences\n"
      ]
    },
    {
      "cell_type": "markdown",
      "metadata": {
        "id": "faLUJWrVBLN4"
      },
      "source": [
        "#### Analogy as the Fuel and Fire of Thinking\n"
      ]
    },
    {
      "cell_type": "markdown",
      "metadata": {
        "id": "WPzTSdW3BL_z"
      },
      "source": [
        "##### Douglas Hofstadter\n"
      ]
    },
    {
      "cell_type": "markdown",
      "metadata": {
        "id": "AEflqRAhBM9f"
      },
      "source": [
        "[ISBN:978-0465018475](https://www.amazon.com/Surfaces-Essences-Analogy-Fuel-Thinking/dp/0465018475)"
      ]
    },
    {
      "cell_type": "markdown",
      "metadata": {
        "id": "535S1VTpBNs8"
      },
      "source": [
        "### Love and Math\n"
      ]
    },
    {
      "cell_type": "markdown",
      "metadata": {
        "id": "iVrbSyzfBOfj"
      },
      "source": [
        "#### The Heart of Hidden Reality\n"
      ]
    },
    {
      "cell_type": "markdown",
      "metadata": {
        "id": "p_P4P3h7BPfA"
      },
      "source": [
        "##### Edward Frenkel\n"
      ]
    },
    {
      "cell_type": "markdown",
      "metadata": {
        "id": "g4wgzgBZBQNz"
      },
      "source": [
        "[ISBN:978-0465050741](https://www.amazon.com/Love-Math-Heart-Hidden-Reality/dp/0465050743)\n",
        "\n",
        "[See this website too](https://www.edwardfrenkel.com/lovemath/)\n"
      ]
    },
    {
      "cell_type": "markdown",
      "metadata": {
        "id": "KD5bYF3QmU_7"
      },
      "source": [
        "## Alphabetical by Last Name of First Author"
      ]
    },
    {
      "cell_type": "markdown",
      "metadata": {
        "id": "x8GLXvfimjmC"
      },
      "source": [
        "| Author                                         | Title                                                                 |\n",
        "|------------------------------------------------|-----------------------------------------------------------------------|\n",
        "| [Scott Aaronson](#scrollTo=ja5Ufy-Z9qrX)       | [Quantum Computing Since Democritus](#scrollTo=b6HLMGtf9lXI)          |\n",
        "| [Francesco Berto](#scrollTo=8vwO55LJ6NdT)      | [There's Something About G&ouml;del](#scrollTo=PqEtBHIr6Dtp)               |\n",
        "| [Peter C. Brown](#scrollTo=M1vQiwu1_ZEF)        | [Make It Stick](#scrollTo=Wlz0YHsO_Vs6)                                |\n",
        "| [Edward B. Burger ](#scrollTo=OIPn2vE2Av1E)    | [Coincidences, Chaos, and All That Math Jazz](#scrollTo=Y8Rw7yeuAsuF) |\n",
        "| [William Byers](#scrollTo=RH4GznN5AHRn)        | [How Mathematicians Think](#scrollTo=5EaiDmo-_-rG)                     |\n",
        "| [Gregory J. Chaitin](#scrollTo=-ejyS4Ln9joX)   | [Thinking About G&ouml;del and Turing](#scrollTo=Pj3Gsbay9a9Q)             |\n",
        "| [Philip J. Davis ](#scrollTo=ilS40h9eAm16)     | [The Mathematical Experience](#scrollTo=Hps52YyzAkEv)                 |\n",
        "| [Daniel C. Dennett](#scrollTo=SJlWnPe4-os5)    | [Intuition Pumps](#scrollTo=CS1Z5F3X-k9g)                             |\n",
        "| [Apostolos Doxiadis ](#scrollTo=6Rg3_oLe9EIx)   | [Logicomix](#scrollTo=F01wgGbD8Yr6)                                   |\n",
        "| [Edward Frenkel](#scrollTo=g4wgzgBZBQNz)       | [Love and Math](#scrollTo=535S1VTpBNs8)                               |\n",
        "| [Terryl L. Givens](#scrollTo=FXYBwHli-5XH)     | [People of Paradox](#scrollTo=atpB6rXw-1vn)                           |\n",
        "| [Rebecca Goldstein](#scrollTo=tOC0cHgVAq0c)    | [Incompleteness](#scrollTo=MA57Rg_nAnol)                               |\n",
        "| [Ron Graham](#scrollTo=jqJTKhn0A8cN)           | [Concrete Mathematics](#scrollTo=ELHYAQGgA5v-)                        |\n",
        "| [G. H. Hardy ](#scrollTo=XPubdtiE_s_d)           | [An Introduction to the Theory of Numbers](#scrollTo=nCC5wzxA_pqa)     |\n",
        "| [C&eacute;sar Hidalgo](#scrollTo=pOu_uOMy_mB5)          | [Why Information Grows](#scrollTo=IRfRiwel_foL)                        |\n",
        "| [Douglas Hofstadter](#scrollTo=DiCpzv0bBAaj)   | [G&ouml;del, Escher, Bach](#scrollTo=M6tKVOckA9IW)                         |\n",
        "| [Douglas Hofstadter](#scrollTo=Dc9NMGbIBFGP)   | [I Am a Strange Loop](#scrollTo=IwoGiRQJBBwK)                         |\n",
        "| [Douglas Hofstadter](#scrollTo=AEflqRAhBM9f)   | [Surfaces and Essences](#scrollTo=Gc2QplStA2LG)                       |\n",
        "| [Daniel J. Levitin](#scrollTo=MYQ2b9Cb-WMp)    | [The Organized Mind](#scrollTo=YZvR1Pun-OXp)                          |\n",
        "| [Daniel J. Levitin](#scrollTo=aL47FejC-dPK)    | [The World in Six Songs](#scrollTo=xB-ghw90-YqJ)                      |\n",
        "| [Daniel J. Levitin](#scrollTo=eggjkD1I-jrl)    | [This Is Your Brain on Music](#scrollTo=m79O71vW-fN4)                 |\n",
        "| [Neal A. Maxwell](#scrollTo=0HAu_atB-0Qv)       | [The Inexhaustible Gospel](#scrollTo=LvSX_7lk-u6I)                     |\n",
        "| [Ernest Nagel ](#scrollTo=uPVuncUKANyW)        | [G&ouml;del's Proof](#scrollTo=iZKOzfhHAJkv)                               |\n",
        "| [Hugh Nibley ](#scrollTo=OdLTmQpq91Eq)         | [One Eternal Round](#scrollTo=nY1x3hkX9v5t)                           |\n",
        "| [Roger Penrose](#scrollTo=eM5ZNF4BARpc)        | [The Emperor's New Mind](#scrollTo=0Ii1OAkyAOit)                      |\n",
        "| [Roger Penrose](#scrollTo=XWKoEewUAWZz)        | [Shadows of the Mind](#scrollTo=zmCawcagAS1m)                         |\n",
        "| [Roger Penrose](#scrollTo=U7DPGOMIAaFI)        | [The Road to Reality](#scrollTo=GDzfaKHXAXWl)                         |\n",
        "| [Roger Penrose](#scrollTo=3ulqHOX8Advb)        | [Fashion, Faith, and Fantasy](#scrollTo=74CQzwgdAa8r)                 |\n",
        "| [Steven Pinker](#scrollTo=Qs_pOIbG--A5)         | [The Language Instinct](#scrollTo=4Lc3FrmS-6pO)                       |\n",
        "| [Steven Pinker](#scrollTo=Pzel53qs_DS5)         | [The Stuff of Thought](#scrollTo=6oT9tRg1_AUL)                         |\n",
        "| [Steven Pinker](#scrollTo=OwMXTEKs_HxY)         | [Words and Rules](#scrollTo=vi7jVv3y_FCK)                              |\n",
        "| [Steven Pinker](#scrollTo=QMrg-aP3_TJS)         | [How The Mind Works](#scrollTo=iw3vLC-c_Pmt)                           |\n",
        "| [Rudy Rucker](#scrollTo=SXWKWC1N_xy5)           | [Infinity and The Mind](#scrollTo=w2RdMxYH_uEu)                        |\n",
        "| [Rudy Rucker](#scrollTo=9mmI0YiW_1n7)           | [Mind Tools](#scrollTo=3rNM-St4_zHm)                                   |\n",
        "| [Rudy Rucker](#scrollTo=o_O7gbPy_9sK)            | [The Lifebox, the Seashell, and the Soul](#scrollTo=nGBkZY4J_5EK)      |\n",
        "| [David Foster Wallace](#scrollTo=250HSdbD-tPz) | [Everything and More](#scrollTo=18QGbtDL-p8h)                         |\n",
        "| [David Wells](#scrollTo=snBxv9DbAjRm)          | [Prime Numbers](#scrollTo=T7gizaYLAekC)                               |\n",
        "| [David Wick](#scrollTo=Brx0w3CtA0lg)           | [The Infamous Boundary](#scrollTo=DH0hUrDHAx0U)                       |"
      ]
    }
  ]
}