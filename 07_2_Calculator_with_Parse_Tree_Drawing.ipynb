{
  "nbformat": 4,
  "nbformat_minor": 0,
  "metadata": {
    "colab": {
      "name": "07_2_Calculator_with_Parse_Tree_Drawing.ipynb",
      "provenance": [],
      "collapsed_sections": [],
      "include_colab_link": true
    },
    "kernelspec": {
      "name": "python3",
      "display_name": "Python 3"
    }
  },
  "cells": [
    {
      "cell_type": "markdown",
      "metadata": {
        "id": "view-in-github",
        "colab_type": "text"
      },
      "source": [
        "<a href=\"https://colab.research.google.com/github/mueller14003/cse480-notebooks/blob/master/07_2_Calculator_with_Parse_Tree_Drawing.ipynb\" target=\"_parent\"><img src=\"https://colab.research.google.com/assets/colab-badge.svg\" alt=\"Open In Colab\"/></a>"
      ]
    },
    {
      "cell_type": "markdown",
      "metadata": {
        "id": "rWL5ElBILfn7"
      },
      "source": [
        "# Calculator with Parse Tree Drawing\n",
        "## Class Directed Learning\n",
        "### Due: Thursday, 18 February 2021, 11:59 pm"
      ]
    },
    {
      "cell_type": "markdown",
      "metadata": {
        "id": "rpO-5K7KZ1DR"
      },
      "source": [
        "## Imports first, then assignment"
      ]
    },
    {
      "cell_type": "code",
      "metadata": {
        "id": "3aTAiJlvM-v_",
        "colab": {
          "base_uri": "https://localhost:8080/"
        },
        "outputId": "0796620d-99a7-43de-dc28-8ce9ff2cc0a8"
      },
      "source": [
        "#~~~~~~~~~~~~~~~~~~~~~~~~~~~~~~~~~~~~~~~~~~~~~~~~~~~~~~~\n",
        "import sys\n",
        "\n",
        "# -- Detect if in Own Install or in Colab\n",
        "try:\n",
        "    import google.colab\n",
        "    OWN_INSTALL = False\n",
        "except:\n",
        "    OWN_INSTALL = True\n",
        "    \n",
        "if OWN_INSTALL:\n",
        "\n",
        "  sys.path[0:0] = ['../../../../..',  '../../../../../3rdparty',  \n",
        "                   '../../../..',  '../../../../3rdparty',  \n",
        "                   '../../..',     '../../../3rdparty', \n",
        "                   '../..',        '../../3rdparty',\n",
        "                   '..',           '../3rdparty',\n",
        "                   '../Jove',      '../Jove/jove']\n",
        "\n",
        "else: # In colab\n",
        "  ! if [ ! -d Jove ]; then git clone https://github.com/ganeshutah/Jove Jove; fi\n",
        "  sys.path.append('./Jove')\n",
        "  sys.path.append('./Jove/jove')\n",
        "\n",
        "# -- common imports --\n",
        "from jove.SystemImports import *\n",
        "from jove.lex           import lex\n",
        "from jove.yacc          import yacc\n",
        "\n",
        "from jove.StateNameSanitizers import ResetStNum, NxtStateStr\n",
        "from IPython.display          import YouTubeVideo\n",
        "#~~~~~~~~~~~~~~~~~~~~~~~~~~~~~~~~~~~~~~~~~~~~~~~~~~~~~~~"
      ],
      "execution_count": 1,
      "outputs": [
        {
          "output_type": "stream",
          "text": [
            "Cloning into 'Jove'...\n",
            "remote: Enumerating objects: 4634, done.\u001b[K\n",
            "remote: Total 4634 (delta 0), reused 0 (delta 0), pack-reused 4634\u001b[K\n",
            "Receiving objects: 100% (4634/4634), 7.38 MiB | 17.98 MiB/s, done.\n",
            "Resolving deltas: 100% (3005/3005), done.\n",
            "You may use any of these help commands:\n",
            "help(ResetStNum)\n",
            "help(NxtStateStr)\n",
            "\n"
          ],
          "name": "stdout"
        }
      ]
    },
    {
      "cell_type": "markdown",
      "metadata": {
        "id": "KsTHyaLSTDFF"
      },
      "source": [
        "## Investigate PLY\n",
        " "
      ]
    },
    {
      "cell_type": "markdown",
      "metadata": {
        "id": "4G5JUGcVTI96"
      },
      "source": [
        "Refer to the documentation for detailed information:\n",
        "\n",
        "https://www.dabeaz.com/ply/ply.html"
      ]
    },
    {
      "cell_type": "markdown",
      "metadata": {
        "id": "rb64nThwTNDz"
      },
      "source": [
        "### TODO Watch this YouTube video of a talk by David Beazley, the author of PLY."
      ]
    },
    {
      "cell_type": "markdown",
      "metadata": {
        "id": "g101b0eoTyqs"
      },
      "source": [
        "Direct path is https://youtu.be/zJ9z6Ge-vXs"
      ]
    },
    {
      "cell_type": "code",
      "metadata": {
        "id": "7V40qoNSTZ7J",
        "colab": {
          "base_uri": "https://localhost:8080/",
          "height": 320
        },
        "outputId": "99049d8f-5a76-4955-8448-13ca11157d18"
      },
      "source": [
        "YouTubeVideo('zJ9z6Ge-vXs')"
      ],
      "execution_count": 2,
      "outputs": [
        {
          "output_type": "execute_result",
          "data": {
            "text/html": [
              "\n",
              "        <iframe\n",
              "            width=\"400\"\n",
              "            height=\"300\"\n",
              "            src=\"https://www.youtube.com/embed/zJ9z6Ge-vXs\"\n",
              "            frameborder=\"0\"\n",
              "            allowfullscreen\n",
              "        ></iframe>\n",
              "        "
            ],
            "text/plain": [
              "<IPython.lib.display.YouTubeVideo at 0x7fd8f20c60b8>"
            ],
            "image/jpeg": "[encoded data removed]"
          },
          "metadata": {
            "tags": []
          },
          "execution_count": 2
        }
      ]
    },
    {
      "cell_type": "markdown",
      "metadata": {
        "id": "Nz2djtp1TgLY"
      },
      "source": [
        "### TODO Watch this Youtube video sequence (total 5 segments)\n",
        "that talks about designing a calculator."
      ]
    },
    {
      "cell_type": "markdown",
      "metadata": {
        "id": "kMB6KoB8T3RI"
      },
      "source": [
        "Direct path is https://youtu.be/Hh49BXmHxX8"
      ]
    },
    {
      "cell_type": "code",
      "metadata": {
        "id": "STC_LCgVTq7M",
        "colab": {
          "base_uri": "https://localhost:8080/",
          "height": 320
        },
        "outputId": "65d6de4b-4d1a-4560-9c7a-cd8a91c8ba15"
      },
      "source": [
        "YouTubeVideo('Hh49BXmHxX8')"
      ],
      "execution_count": 3,
      "outputs": [
        {
          "output_type": "execute_result",
          "data": {
            "text/html": [
              "\n",
              "        <iframe\n",
              "            width=\"400\"\n",
              "            height=\"300\"\n",
              "            src=\"https://www.youtube.com/embed/Hh49BXmHxX8\"\n",
              "            frameborder=\"0\"\n",
              "            allowfullscreen\n",
              "        ></iframe>\n",
              "        "
            ],
            "text/plain": [
              "<IPython.lib.display.YouTubeVideo at 0x7fd8ed401cf8>"
            ],
            "image/jpeg": "[encoded data removed]"
          },
          "metadata": {
            "tags": []
          },
          "execution_count": 3
        }
      ]
    },
    {
      "cell_type": "markdown",
      "metadata": {
        "id": "mK6o1AmBTwMT"
      },
      "source": [
        "### TODO Study this Arithmetic Expression Parser"
      ]
    },
    {
      "cell_type": "markdown",
      "metadata": {
        "id": "y9NhXDzcT26m"
      },
      "source": [
        "The goal is to discover differences with real parsers in the field."
      ]
    },
    {
      "cell_type": "markdown",
      "metadata": {
        "id": "_rdKyJUvWS5t"
      },
      "source": [
        "Background information about a calculator following these CFG rules:\n",
        "\n",
        "```\n",
        "Rule 0     S -> expression\n",
        "Rule 1     expression -> expression PLUS term\n",
        "Rule 2     expression -> expression MINUS term\n",
        "Rule 3     expression -> term\n",
        "Rule 4     term -> term TIMES factor\n",
        "Rule 5     term -> term DIVIDE factor\n",
        "Rule 6     term -> factor\n",
        "Rule 7     factor -> innerfactor EXP factor\n",
        "Rule 8     factor -> innerfactor\n",
        "Rule 9     innerfactor -> UMINUS innerfactor\n",
        "Rule 10    innerfactor -> LPAREN expression RPAREN\n",
        "Rule 11    innerfactor -> NUMBER\n",
        "```\n",
        "\n",
        "These rules are implemented in the following parser.\n",
        "\n",
        "Note the use of:\n",
        "* \"~\" (tilde) for unary minus,\n",
        "* \"-\" (regular minus) for binary infix minus, and\n",
        "* \"^\" for exponentiation."
      ]
    },
    {
      "cell_type": "code",
      "metadata": {
        "id": "sUF7KuveUXtN"
      },
      "source": [
        "# Following ideas from http://www.dabeaz.com/ply/example.html heavily\n",
        "tokens = ('NUMBER','LPAREN','RPAREN','PLUS','MINUS','TIMES','DIVIDE','UMINUS','EXP') \n",
        "\n",
        "# Tokens\n",
        "t_PLUS    = r'\\+'\n",
        "t_MINUS   = r'\\-'\n",
        "t_TIMES   = r'\\*'\n",
        "t_DIVIDE  = r'\\/'\n",
        "t_LPAREN  = r'\\('\n",
        "t_RPAREN  = r'\\)' \n",
        "t_UMINUS  = r'\\~' \n",
        "t_EXP     = r'\\^'\n",
        "\n",
        "# parsing + semantic actions in one place!\n",
        "def t_NUMBER(t):\n",
        "    r'\\d+'\n",
        "    try:\n",
        "        t.value = int(t.value)\n",
        "    except ValueError:\n",
        "        print(\"Integer value too large %d\", t.value)\n",
        "        t.value = 0\n",
        "    return t\n",
        "\n",
        "# Ignored characters\n",
        "t_ignore = \" \\t\"\n",
        "\n",
        "def t_newline(t):\n",
        "    r'\\n+'\n",
        "    t.lexer.lineno += t.value.count(\"\\n\")\n",
        "    \n",
        "def t_error(t):\n",
        "    print(\"Illegal character '%s'\" % t.value[0])\n",
        "    t.lexer.skip(1)"
      ],
      "execution_count": 5,
      "outputs": []
    },
    {
      "cell_type": "code",
      "metadata": {
        "id": "wOf0k2AxUagr"
      },
      "source": [
        "\n",
        "def p_expression_1(t):\n",
        "    'expression : expression PLUS term'\n",
        "    #\n",
        "    t[0] = (t[1][0] + t[3][0],\n",
        "            attrDyadicInfix(\"+\", t[1][1], t[3][1]))   \n",
        "    \n",
        "def p_expression_2(t):\n",
        "    'expression : expression MINUS term'\n",
        "    #\n",
        "    t[0] = (t[1][0] - t[3][0],\n",
        "            attrDyadicInfix(\"-\", t[1][1], t[3][1]))   \n",
        "    \n",
        "def p_expression_3(t):\n",
        "    'expression : term'\n",
        "    #\n",
        "    t[0] = t[1]  \n",
        "    \n",
        "# Consult this excellent reference for info on precedences\n",
        "# https://www.cs.utah.edu/~zachary/isp/worksheets/operprec/operprec.html\n",
        "    \n",
        "    \n",
        "def p_term_1(t):\n",
        "    'term :  term TIMES factor'\n",
        "    #\n",
        "    t[0] = (t[1][0] * t[3][0],\n",
        "            attrDyadicInfix(\"*\", t[1][1], t[3][1])) \n",
        "\n",
        "    \n",
        "def p_term_2(t):\n",
        "    'term :  term DIVIDE factor'\n",
        "    #\n",
        "    if (t[3][0] == 0):\n",
        "        print(\"Error, divide by zero!\")\n",
        "        t[3][0] = 1 # fix it\n",
        "    t[0] = (t[1][0] / t[3][0],\n",
        "            attrDyadicInfix(\"/\", t[1][1], t[3][1]))\n",
        "\n",
        "\n",
        "def p_term_3(t):\n",
        "    'term :  factor'\n",
        "    #\n",
        "    t[0] = t[1]  \n",
        "\n",
        "def p_factor_1(t):\n",
        "    'factor : innerfactor EXP factor'\n",
        "    #\n",
        "    t[0] = (t[1][0] ** t[3][0],\n",
        "            attrDyadicInfix(\"^\", t[1][1], t[3][1])) \n",
        "\n",
        "def p_factor_2(t):\n",
        "    'factor : innerfactor'\n",
        "    #\n",
        "    t[0] = t[1]\n",
        "    \n",
        "def p_innerfactor_1(t):\n",
        "    'innerfactor : UMINUS innerfactor'\n",
        "    #\n",
        "    ast  = ('~', t[2][1]['ast'])\n",
        "    \n",
        "    nlin = t[2][1]['dig']['nl']\n",
        "    elin = t[2][1]['dig']['el']\n",
        "    \n",
        "    rootin = nlin[0]\n",
        "\n",
        "    root = NxtStateStr(\"~E_\") \n",
        "    left = NxtStateStr(\"~_\")\n",
        "\n",
        "    t[0] =(-t[2][0], \n",
        "           {'ast' : ast,\n",
        "            'dig' : {'nl' : [ root, left ] + nlin, # this order important for proper layout!\n",
        "                     'el' : elin + [ (root, left),\n",
        "                                     (root, rootin) ]\n",
        "                    }})\n",
        "\n",
        "    \n",
        "def p_innerfactor_2(t):\n",
        "    'innerfactor : LPAREN expression RPAREN'\n",
        "    #\n",
        "    ast  = t[2][1]['ast']\n",
        "    \n",
        "    nlin = t[2][1]['dig']['nl']\n",
        "    elin = t[2][1]['dig']['el']\n",
        "    \n",
        "    rootin = nlin[0]\n",
        "    \n",
        "    root = NxtStateStr(\"(E)_\")\n",
        "    left = NxtStateStr(\"(_\")\n",
        "    right= NxtStateStr(\")_\")\n",
        "    \n",
        "    t[0] =(t[2][0],\n",
        "           {'ast' : ast,\n",
        "            'dig' : {'nl' : [root, left] + nlin + [right], #order important f. proper layout!\n",
        "                     'el' : elin + [ (root, left),\n",
        "                                     (root, rootin),\n",
        "                                     (root, right) ]\n",
        "                    }})\n",
        "\n",
        "def p_innerfactor_3(t):\n",
        "    'innerfactor : NUMBER'\n",
        "    #\n",
        "    strn = str(t[1])\n",
        "    ast  = ('NUMBER', strn)           \n",
        "    t[0] =(t[1],\n",
        "           { 'ast' : ast,\n",
        "             'dig' : {'nl' : [ strn + NxtStateStr(\"_\") ],\n",
        "                      'el' : []\n",
        "                     }})\n",
        "\n",
        "\n",
        "def p_error(t):\n",
        "    print(\"Syntax error at '%s'\" % t.value)\n",
        "\n",
        "#--\n",
        "    \n",
        "def attrDyadicInfix(op, attr1, attr3):\n",
        "    ast  = (op, (attr1['ast'], attr3['ast']))\n",
        "    \n",
        "    nlin1 = attr1['dig']['nl']\n",
        "    nlin3 = attr3['dig']['nl']\n",
        "    nlin  = nlin1 + nlin3\n",
        "    \n",
        "    elin1 = attr1['dig']['el']\n",
        "    elin3 = attr3['dig']['el']\n",
        "    elin  = elin1 + elin3\n",
        "    \n",
        "    rootin1 = nlin1[0]\n",
        "    rootin3 = nlin3[0]    \n",
        "    \n",
        "    root   = NxtStateStr(\"E1\"+op+\"E2\"+\"_\") # NxtStateStr(\"$_\")\n",
        "    left   = rootin1\n",
        "    middle = NxtStateStr(op+\"_\")\n",
        "    right  = rootin3\n",
        "    \n",
        "    return {'ast' : ast,\n",
        "            'dig' : {'nl' : [ root, left, middle, right ] + nlin,\n",
        "                     'el' : elin + [ (root, left),\n",
        "                                     (root, middle),\n",
        "                                     (root, right) ]\n",
        "                     }}\n",
        "\n",
        "#===\n",
        "# This is the main function in this Jove file.  \n",
        "#===\n",
        "\n",
        "def parseExp(s):\n",
        "    \"\"\"In: a string s containing a regular expression.\n",
        "       Out: An attribute triple consisting of\n",
        "            1) An abstract syntax tree suitable for processing in the derivative-based scanner\n",
        "            2) A node-list for the parse-tree digraph generated. Good for drawing a parse tree \n",
        "               using the drawPT function below\n",
        "            3) An edge list for the parse-tree generated (again good for drawing using the\n",
        "               drawPT function below)\n",
        "    \"\"\"\n",
        "    mylexer  = lex()\n",
        "    myparser = yacc()\n",
        "    pt = myparser.parse(s, lexer = mylexer)\n",
        "    \n",
        "    # print('parsed result  is ', pt)\n",
        "    # (result, ast, nodes, edges)\n",
        "    return (pt[0], pt[1]['ast'], pt[1]['dig']['nl'], pt[1]['dig']['el'])\n",
        "\n",
        "def drawPT(ast_rslt_nl_el, comment=\"PT\"):\n",
        "    \"\"\"Given an (ast, nl, el) triple where nl is the node and el the edge-list,\n",
        "       draw the Parse Tree by returning a dot object.\n",
        "    \"\"\"\n",
        "    (rslt, ast, nl, el) = ast_rslt_nl_el\n",
        "    \n",
        "    print(\"Result calculated = \", rslt)\n",
        "    print(\"Drawing AST for \", ast)\n",
        "    \n",
        "    dotObj_pt = Digraph(comment)\n",
        "    dotObj_pt.graph_attr['rankdir'] = 'TB'\n",
        "    for n in nl:\n",
        "        prNam = n.split('_')[0]\n",
        "        dotObj_pt.node(n, prNam, shape=\"oval\", peripheries=\"1\")\n",
        "    for e in el:\n",
        "        dotObj_pt.edge(e[0], e[1])\n",
        "    return dotObj_pt"
      ],
      "execution_count": 6,
      "outputs": []
    },
    {
      "cell_type": "markdown",
      "metadata": {
        "id": "MPqnSFFeUl7t"
      },
      "source": [
        "#### TODO Answer the question"
      ]
    },
    {
      "cell_type": "markdown",
      "metadata": {
        "id": "rdAZeAOsXD2_"
      },
      "source": [
        "How does the above calculator parse ```~2^2```?"
      ]
    },
    {
      "cell_type": "code",
      "metadata": {
        "id": "N-_B_smbUtTU",
        "colab": {
          "base_uri": "https://localhost:8080/",
          "height": 323
        },
        "outputId": "bb0ffd28-477d-44e6-98ac-82ffa984855e"
      },
      "source": [
        "drawPT(parseExp('~2^2'))"
      ],
      "execution_count": 7,
      "outputs": [
        {
          "output_type": "stream",
          "text": [
            "Generating LALR tables\n"
          ],
          "name": "stderr"
        },
        {
          "output_type": "stream",
          "text": [
            "Result calculated =  4\n",
            "Drawing AST for  ('^', (('~', ('NUMBER', '2')), ('NUMBER', '2')))\n"
          ],
          "name": "stdout"
        },
        {
          "output_type": "execute_result",
          "data": {
            "text/plain": [
              "<graphviz.dot.Digraph at 0x7fd8ed6b8e10>"
            ],
            "image/svg+xml": "<?xml version=\"1.0\" encoding=\"UTF-8\" standalone=\"no\"?>\n<!DOCTYPE svg PUBLIC \"-//W3C//DTD SVG 1.1//EN\"\n \"http://www.w3.org/Graphics/SVG/1.1/DTD/svg11.dtd\">\n<!-- Generated by graphviz version 2.40.1 (20161225.0304)\n -->\n<!-- Title: PT Pages: 1 -->\n<svg width=\"242pt\" height=\"188pt\"\n viewBox=\"0.00 0.00 242.00 188.00\" xmlns=\"http://www.w3.org/2000/svg\" xmlns:xlink=\"http://www.w3.org/1999/xlink\">\n<g id=\"graph0\" class=\"graph\" transform=\"scale(1 1) rotate(0) translate(4 184)\">\n<title>PT</title>\n<polygon fill=\"#ffffff\" stroke=\"transparent\" points=\"-4,4 -4,-184 238,-184 238,4 -4,4\"/>\n<!-- E1^E2_5 -->\n<g id=\"node1\" class=\"node\">\n<title>E1^E2_5</title>\n<ellipse fill=\"none\" stroke=\"#000000\" cx=\"135\" cy=\"-162\" rx=\"36.2938\" ry=\"18\"/>\n<text text-anchor=\"middle\" x=\"135\" y=\"-158.3\" font-family=\"Times,serif\" font-size=\"14.00\" fill=\"#000000\">E1^E2</text>\n</g>\n<!-- ~E_2 -->\n<g id=\"node2\" class=\"node\">\n<title>~E_2</title>\n<ellipse fill=\"none\" stroke=\"#000000\" cx=\"63\" cy=\"-90\" rx=\"27\" ry=\"18\"/>\n<text text-anchor=\"middle\" x=\"63\" y=\"-86.3\" font-family=\"Times,serif\" font-size=\"14.00\" fill=\"#000000\">~E</text>\n</g>\n<!-- E1^E2_5&#45;&gt;~E_2 -->\n<g id=\"edge3\" class=\"edge\">\n<title>E1^E2_5&#45;&gt;~E_2</title>\n<path fill=\"none\" stroke=\"#000000\" d=\"M118.6621,-145.6621C108.8185,-135.8185 96.1458,-123.1458 85.3795,-112.3795\"/>\n<polygon fill=\"#000000\" stroke=\"#000000\" points=\"87.8346,-109.8848 78.2886,-105.2886 82.8848,-114.8346 87.8346,-109.8848\"/>\n</g>\n<!-- ^_6 -->\n<g id=\"node3\" class=\"node\">\n<title>^_6</title>\n<ellipse fill=\"none\" stroke=\"#000000\" cx=\"135\" cy=\"-90\" rx=\"27\" ry=\"18\"/>\n<text text-anchor=\"middle\" x=\"135\" y=\"-86.3\" font-family=\"Times,serif\" font-size=\"14.00\" fill=\"#000000\">^</text>\n</g>\n<!-- E1^E2_5&#45;&gt;^_6 -->\n<g id=\"edge4\" class=\"edge\">\n<title>E1^E2_5&#45;&gt;^_6</title>\n<path fill=\"none\" stroke=\"#000000\" d=\"M135,-143.8314C135,-136.131 135,-126.9743 135,-118.4166\"/>\n<polygon fill=\"#000000\" stroke=\"#000000\" points=\"138.5001,-118.4132 135,-108.4133 131.5001,-118.4133 138.5001,-118.4132\"/>\n</g>\n<!-- 2_4 -->\n<g id=\"node4\" class=\"node\">\n<title>2_4</title>\n<ellipse fill=\"none\" stroke=\"#000000\" cx=\"207\" cy=\"-90\" rx=\"27\" ry=\"18\"/>\n<text text-anchor=\"middle\" x=\"207\" y=\"-86.3\" font-family=\"Times,serif\" font-size=\"14.00\" fill=\"#000000\">2</text>\n</g>\n<!-- E1^E2_5&#45;&gt;2_4 -->\n<g id=\"edge5\" class=\"edge\">\n<title>E1^E2_5&#45;&gt;2_4</title>\n<path fill=\"none\" stroke=\"#000000\" d=\"M151.3379,-145.6621C161.1815,-135.8185 173.8542,-123.1458 184.6205,-112.3795\"/>\n<polygon fill=\"#000000\" stroke=\"#000000\" points=\"187.1152,-114.8346 191.7114,-105.2886 182.1654,-109.8848 187.1152,-114.8346\"/>\n</g>\n<!-- ~_3 -->\n<g id=\"node5\" class=\"node\">\n<title>~_3</title>\n<ellipse fill=\"none\" stroke=\"#000000\" cx=\"27\" cy=\"-18\" rx=\"27\" ry=\"18\"/>\n<text text-anchor=\"middle\" x=\"27\" y=\"-14.3\" font-family=\"Times,serif\" font-size=\"14.00\" fill=\"#000000\">~</text>\n</g>\n<!-- ~E_2&#45;&gt;~_3 -->\n<g id=\"edge1\" class=\"edge\">\n<title>~E_2&#45;&gt;~_3</title>\n<path fill=\"none\" stroke=\"#000000\" d=\"M54.2854,-72.5708C50.0403,-64.0807 44.8464,-53.6929 40.1337,-44.2674\"/>\n<polygon fill=\"#000000\" stroke=\"#000000\" points=\"43.237,-42.6477 35.6343,-35.2687 36.976,-45.7782 43.237,-42.6477\"/>\n</g>\n<!-- 2_1 -->\n<g id=\"node6\" class=\"node\">\n<title>2_1</title>\n<ellipse fill=\"none\" stroke=\"#000000\" cx=\"99\" cy=\"-18\" rx=\"27\" ry=\"18\"/>\n<text text-anchor=\"middle\" x=\"99\" y=\"-14.3\" font-family=\"Times,serif\" font-size=\"14.00\" fill=\"#000000\">2</text>\n</g>\n<!-- ~E_2&#45;&gt;2_1 -->\n<g id=\"edge2\" class=\"edge\">\n<title>~E_2&#45;&gt;2_1</title>\n<path fill=\"none\" stroke=\"#000000\" d=\"M71.7146,-72.5708C75.9597,-64.0807 81.1536,-53.6929 85.8663,-44.2674\"/>\n<polygon fill=\"#000000\" stroke=\"#000000\" points=\"89.024,-45.7782 90.3657,-35.2687 82.763,-42.6477 89.024,-45.7782\"/>\n</g>\n</g>\n</svg>\n"
          },
          "metadata": {
            "tags": []
          },
          "execution_count": 7
        }
      ]
    },
    {
      "cell_type": "markdown",
      "metadata": {
        "id": "Ii0ng5Z9UwZa"
      },
      "source": [
        "#### TODO Answer the question"
      ]
    },
    {
      "cell_type": "markdown",
      "metadata": {
        "id": "3RfEqNgVXIOo"
      },
      "source": [
        "How does this calculator differ from Python?"
      ]
    },
    {
      "cell_type": "code",
      "metadata": {
        "id": "Ol3JrlmvU7W-",
        "colab": {
          "base_uri": "https://localhost:8080/"
        },
        "outputId": "dea7e6da-9c8a-411e-837c-ed584baa982e"
      },
      "source": [
        "# Python evaluation\n",
        "-2 ** 2"
      ],
      "execution_count": 8,
      "outputs": [
        {
          "output_type": "execute_result",
          "data": {
            "text/plain": [
              "-4"
            ]
          },
          "metadata": {
            "tags": []
          },
          "execution_count": 8
        }
      ]
    },
    {
      "cell_type": "markdown",
      "metadata": {
        "id": "A9NGbdhBukbY"
      },
      "source": [
        "The calculator squares the number `-2` instead of squaring the number `2` and then negating the result (like Python)."
      ]
    },
    {
      "cell_type": "markdown",
      "metadata": {
        "id": "egsPFIIGSkw7"
      },
      "source": [
        "#### TODO Answer the question"
      ]
    },
    {
      "cell_type": "markdown",
      "metadata": {
        "id": "ZS7-ammzW44j"
      },
      "source": [
        "How would you parenthesize the ```-2 ** 2``` expression so that Python would give the same answer?"
      ]
    },
    {
      "cell_type": "code",
      "metadata": {
        "id": "AxR0txTqSx9J",
        "colab": {
          "base_uri": "https://localhost:8080/"
        },
        "outputId": "79a7c36b-a2b2-4c32-c017-f6c2a0bba6ec"
      },
      "source": [
        "# Put your answer here\r\n",
        "(-2) ** 2"
      ],
      "execution_count": 9,
      "outputs": [
        {
          "output_type": "execute_result",
          "data": {
            "text/plain": [
              "4"
            ]
          },
          "metadata": {
            "tags": []
          },
          "execution_count": 9
        }
      ]
    },
    {
      "cell_type": "markdown",
      "metadata": {
        "id": "kZHrKCgETLr4"
      },
      "source": [
        "#### Now look at how ```2^~3^~4``` is parsed."
      ]
    },
    {
      "cell_type": "code",
      "metadata": {
        "id": "hvv0k_tiTSIv",
        "colab": {
          "base_uri": "https://localhost:8080/",
          "height": 402
        },
        "outputId": "6c92276e-a161-4040-90a3-d5657afcaaf5"
      },
      "source": [
        "drawPT(parseExp(\"2^~3^~4\"))"
      ],
      "execution_count": 10,
      "outputs": [
        {
          "output_type": "stream",
          "text": [
            "Result calculated =  1.008594091576999\n",
            "Drawing AST for  ('^', (('NUMBER', '2'), ('^', (('~', ('NUMBER', '3')), ('~', ('NUMBER', '4'))))))\n"
          ],
          "name": "stdout"
        },
        {
          "output_type": "execute_result",
          "data": {
            "text/plain": [
              "<graphviz.dot.Digraph at 0x7fd8f1a7b240>"
            ],
            "image/svg+xml": "<?xml version=\"1.0\" encoding=\"UTF-8\" standalone=\"no\"?>\n<!DOCTYPE svg PUBLIC \"-//W3C//DTD SVG 1.1//EN\"\n \"http://www.w3.org/Graphics/SVG/1.1/DTD/svg11.dtd\">\n<!-- Generated by graphviz version 2.40.1 (20161225.0304)\n -->\n<!-- Title: PT Pages: 1 -->\n<svg width=\"341pt\" height=\"260pt\"\n viewBox=\"0.00 0.00 341.00 260.00\" xmlns=\"http://www.w3.org/2000/svg\" xmlns:xlink=\"http://www.w3.org/1999/xlink\">\n<g id=\"graph0\" class=\"graph\" transform=\"scale(1 1) rotate(0) translate(4 256)\">\n<title>PT</title>\n<polygon fill=\"#ffffff\" stroke=\"transparent\" points=\"-4,4 -4,-256 337,-256 337,4 -4,4\"/>\n<!-- E1^E2_16 -->\n<g id=\"node1\" class=\"node\">\n<title>E1^E2_16</title>\n<ellipse fill=\"none\" stroke=\"#000000\" cx=\"99\" cy=\"-234\" rx=\"36.2938\" ry=\"18\"/>\n<text text-anchor=\"middle\" x=\"99\" y=\"-230.3\" font-family=\"Times,serif\" font-size=\"14.00\" fill=\"#000000\">E1^E2</text>\n</g>\n<!-- 2_7 -->\n<g id=\"node2\" class=\"node\">\n<title>2_7</title>\n<ellipse fill=\"none\" stroke=\"#000000\" cx=\"27\" cy=\"-162\" rx=\"27\" ry=\"18\"/>\n<text text-anchor=\"middle\" x=\"27\" y=\"-158.3\" font-family=\"Times,serif\" font-size=\"14.00\" fill=\"#000000\">2</text>\n</g>\n<!-- E1^E2_16&#45;&gt;2_7 -->\n<g id=\"edge8\" class=\"edge\">\n<title>E1^E2_16&#45;&gt;2_7</title>\n<path fill=\"none\" stroke=\"#000000\" d=\"M82.6621,-217.6621C72.8185,-207.8185 60.1458,-195.1458 49.3795,-184.3795\"/>\n<polygon fill=\"#000000\" stroke=\"#000000\" points=\"51.8346,-181.8848 42.2886,-177.2886 46.8848,-186.8346 51.8346,-181.8848\"/>\n</g>\n<!-- ^_17 -->\n<g id=\"node3\" class=\"node\">\n<title>^_17</title>\n<ellipse fill=\"none\" stroke=\"#000000\" cx=\"99\" cy=\"-162\" rx=\"27\" ry=\"18\"/>\n<text text-anchor=\"middle\" x=\"99\" y=\"-158.3\" font-family=\"Times,serif\" font-size=\"14.00\" fill=\"#000000\">^</text>\n</g>\n<!-- E1^E2_16&#45;&gt;^_17 -->\n<g id=\"edge9\" class=\"edge\">\n<title>E1^E2_16&#45;&gt;^_17</title>\n<path fill=\"none\" stroke=\"#000000\" d=\"M99,-215.8314C99,-208.131 99,-198.9743 99,-190.4166\"/>\n<polygon fill=\"#000000\" stroke=\"#000000\" points=\"102.5001,-190.4132 99,-180.4133 95.5001,-190.4133 102.5001,-190.4132\"/>\n</g>\n<!-- E1^E2_14 -->\n<g id=\"node4\" class=\"node\">\n<title>E1^E2_14</title>\n<ellipse fill=\"none\" stroke=\"#000000\" cx=\"180\" cy=\"-162\" rx=\"36.2938\" ry=\"18\"/>\n<text text-anchor=\"middle\" x=\"180\" y=\"-158.3\" font-family=\"Times,serif\" font-size=\"14.00\" fill=\"#000000\">E1^E2</text>\n</g>\n<!-- E1^E2_16&#45;&gt;E1^E2_14 -->\n<g id=\"edge10\" class=\"edge\">\n<title>E1^E2_16&#45;&gt;E1^E2_14</title>\n<path fill=\"none\" stroke=\"#000000\" d=\"M116.9765,-218.0209C127.9876,-208.2332 142.2557,-195.5505 154.4306,-184.7284\"/>\n<polygon fill=\"#000000\" stroke=\"#000000\" points=\"156.9249,-187.1941 162.0737,-177.9345 152.2743,-181.9622 156.9249,-187.1941\"/>\n</g>\n<!-- ~E_9 -->\n<g id=\"node5\" class=\"node\">\n<title>~E_9</title>\n<ellipse fill=\"none\" stroke=\"#000000\" cx=\"108\" cy=\"-90\" rx=\"27\" ry=\"18\"/>\n<text text-anchor=\"middle\" x=\"108\" y=\"-86.3\" font-family=\"Times,serif\" font-size=\"14.00\" fill=\"#000000\">~E</text>\n</g>\n<!-- E1^E2_14&#45;&gt;~E_9 -->\n<g id=\"edge5\" class=\"edge\">\n<title>E1^E2_14&#45;&gt;~E_9</title>\n<path fill=\"none\" stroke=\"#000000\" d=\"M163.6621,-145.6621C153.8185,-135.8185 141.1458,-123.1458 130.3795,-112.3795\"/>\n<polygon fill=\"#000000\" stroke=\"#000000\" points=\"132.8346,-109.8848 123.2886,-105.2886 127.8848,-114.8346 132.8346,-109.8848\"/>\n</g>\n<!-- ^_15 -->\n<g id=\"node6\" class=\"node\">\n<title>^_15</title>\n<ellipse fill=\"none\" stroke=\"#000000\" cx=\"180\" cy=\"-90\" rx=\"27\" ry=\"18\"/>\n<text text-anchor=\"middle\" x=\"180\" y=\"-86.3\" font-family=\"Times,serif\" font-size=\"14.00\" fill=\"#000000\">^</text>\n</g>\n<!-- E1^E2_14&#45;&gt;^_15 -->\n<g id=\"edge6\" class=\"edge\">\n<title>E1^E2_14&#45;&gt;^_15</title>\n<path fill=\"none\" stroke=\"#000000\" d=\"M180,-143.8314C180,-136.131 180,-126.9743 180,-118.4166\"/>\n<polygon fill=\"#000000\" stroke=\"#000000\" points=\"183.5001,-118.4132 180,-108.4133 176.5001,-118.4133 183.5001,-118.4132\"/>\n</g>\n<!-- ~E_12 -->\n<g id=\"node7\" class=\"node\">\n<title>~E_12</title>\n<ellipse fill=\"none\" stroke=\"#000000\" cx=\"252\" cy=\"-90\" rx=\"27\" ry=\"18\"/>\n<text text-anchor=\"middle\" x=\"252\" y=\"-86.3\" font-family=\"Times,serif\" font-size=\"14.00\" fill=\"#000000\">~E</text>\n</g>\n<!-- E1^E2_14&#45;&gt;~E_12 -->\n<g id=\"edge7\" class=\"edge\">\n<title>E1^E2_14&#45;&gt;~E_12</title>\n<path fill=\"none\" stroke=\"#000000\" d=\"M196.3379,-145.6621C206.1815,-135.8185 218.8542,-123.1458 229.6205,-112.3795\"/>\n<polygon fill=\"#000000\" stroke=\"#000000\" points=\"232.1152,-114.8346 236.7114,-105.2886 227.1654,-109.8848 232.1152,-114.8346\"/>\n</g>\n<!-- ~_10 -->\n<g id=\"node8\" class=\"node\">\n<title>~_10</title>\n<ellipse fill=\"none\" stroke=\"#000000\" cx=\"72\" cy=\"-18\" rx=\"27\" ry=\"18\"/>\n<text text-anchor=\"middle\" x=\"72\" y=\"-14.3\" font-family=\"Times,serif\" font-size=\"14.00\" fill=\"#000000\">~</text>\n</g>\n<!-- ~E_9&#45;&gt;~_10 -->\n<g id=\"edge1\" class=\"edge\">\n<title>~E_9&#45;&gt;~_10</title>\n<path fill=\"none\" stroke=\"#000000\" d=\"M99.2854,-72.5708C95.0403,-64.0807 89.8464,-53.6929 85.1337,-44.2674\"/>\n<polygon fill=\"#000000\" stroke=\"#000000\" points=\"88.237,-42.6477 80.6343,-35.2687 81.976,-45.7782 88.237,-42.6477\"/>\n</g>\n<!-- 3_8 -->\n<g id=\"node9\" class=\"node\">\n<title>3_8</title>\n<ellipse fill=\"none\" stroke=\"#000000\" cx=\"144\" cy=\"-18\" rx=\"27\" ry=\"18\"/>\n<text text-anchor=\"middle\" x=\"144\" y=\"-14.3\" font-family=\"Times,serif\" font-size=\"14.00\" fill=\"#000000\">3</text>\n</g>\n<!-- ~E_9&#45;&gt;3_8 -->\n<g id=\"edge2\" class=\"edge\">\n<title>~E_9&#45;&gt;3_8</title>\n<path fill=\"none\" stroke=\"#000000\" d=\"M116.7146,-72.5708C120.9597,-64.0807 126.1536,-53.6929 130.8663,-44.2674\"/>\n<polygon fill=\"#000000\" stroke=\"#000000\" points=\"134.024,-45.7782 135.3657,-35.2687 127.763,-42.6477 134.024,-45.7782\"/>\n</g>\n<!-- ~_13 -->\n<g id=\"node10\" class=\"node\">\n<title>~_13</title>\n<ellipse fill=\"none\" stroke=\"#000000\" cx=\"234\" cy=\"-18\" rx=\"27\" ry=\"18\"/>\n<text text-anchor=\"middle\" x=\"234\" y=\"-14.3\" font-family=\"Times,serif\" font-size=\"14.00\" fill=\"#000000\">~</text>\n</g>\n<!-- ~E_12&#45;&gt;~_13 -->\n<g id=\"edge3\" class=\"edge\">\n<title>~E_12&#45;&gt;~_13</title>\n<path fill=\"none\" stroke=\"#000000\" d=\"M247.5506,-72.2022C245.5602,-64.2406 243.1668,-54.6671 240.9489,-45.7957\"/>\n<polygon fill=\"#000000\" stroke=\"#000000\" points=\"244.2816,-44.6951 238.4606,-35.8425 237.4906,-46.3929 244.2816,-44.6951\"/>\n</g>\n<!-- 4_11 -->\n<g id=\"node11\" class=\"node\">\n<title>4_11</title>\n<ellipse fill=\"none\" stroke=\"#000000\" cx=\"306\" cy=\"-18\" rx=\"27\" ry=\"18\"/>\n<text text-anchor=\"middle\" x=\"306\" y=\"-14.3\" font-family=\"Times,serif\" font-size=\"14.00\" fill=\"#000000\">4</text>\n</g>\n<!-- ~E_12&#45;&gt;4_11 -->\n<g id=\"edge4\" class=\"edge\">\n<title>~E_12&#45;&gt;4_11</title>\n<path fill=\"none\" stroke=\"#000000\" d=\"M264.2534,-73.6621C271.1577,-64.4564 279.9177,-52.7764 287.6285,-42.4953\"/>\n<polygon fill=\"#000000\" stroke=\"#000000\" points=\"290.595,-44.3733 293.7951,-34.2733 284.995,-40.1733 290.595,-44.3733\"/>\n</g>\n</g>\n</svg>\n"
          },
          "metadata": {
            "tags": []
          },
          "execution_count": 10
        }
      ]
    },
    {
      "cell_type": "markdown",
      "metadata": {
        "id": "tBZvtkBeT3DZ"
      },
      "source": [
        "#### Do the same compare/contrast exercise for this longer expression."
      ]
    },
    {
      "cell_type": "markdown",
      "metadata": {
        "id": "OEzM2ggBUvu3"
      },
      "source": [
        "I.e., parse it, draw its parse tree, parenthesize the Python version so they match."
      ]
    },
    {
      "cell_type": "code",
      "metadata": {
        "id": "6GYuRfEVT7tr",
        "colab": {
          "base_uri": "https://localhost:8080/"
        },
        "outputId": "357c5420-5887-43fe-ec4b-2de9b0481649"
      },
      "source": [
        " # The above expression in Python's syntax is below. See what it produces!\n",
        "2**-3**-4"
      ],
      "execution_count": 11,
      "outputs": [
        {
          "output_type": "execute_result",
          "data": {
            "text/plain": [
              "0.9914791374956781"
            ]
          },
          "metadata": {
            "tags": []
          },
          "execution_count": 11
        }
      ]
    },
    {
      "cell_type": "code",
      "metadata": {
        "colab": {
          "base_uri": "https://localhost:8080/"
        },
        "id": "9cdOkBQl6W-3",
        "outputId": "cb000731-3b57-44be-96ab-e64a11ed404c"
      },
      "source": [
        "2**(-3)**(-4)"
      ],
      "execution_count": 12,
      "outputs": [
        {
          "output_type": "execute_result",
          "data": {
            "text/plain": [
              "1.008594091576999"
            ]
          },
          "metadata": {
            "tags": []
          },
          "execution_count": 12
        }
      ]
    },
    {
      "cell_type": "code",
      "metadata": {
        "colab": {
          "base_uri": "https://localhost:8080/"
        },
        "id": "h3ZR7r1D9cCw",
        "outputId": "1b159d06-6f1a-4044-ffe0-3a99e966c2fe"
      },
      "source": [
        "2**(-3**-4)"
      ],
      "execution_count": 33,
      "outputs": [
        {
          "output_type": "execute_result",
          "data": {
            "text/plain": [
              "0.9914791374956781"
            ]
          },
          "metadata": {
            "tags": []
          },
          "execution_count": 33
        }
      ]
    },
    {
      "cell_type": "code",
      "metadata": {
        "colab": {
          "base_uri": "https://localhost:8080/"
        },
        "id": "cUV90umZ-Tl_",
        "outputId": "c8556114-c1df-40f7-dba2-31ba5667d67d"
      },
      "source": [
        "2**((-3)**(-4))"
      ],
      "execution_count": 39,
      "outputs": [
        {
          "output_type": "execute_result",
          "data": {
            "text/plain": [
              "1.008594091576999"
            ]
          },
          "metadata": {
            "tags": []
          },
          "execution_count": 39
        }
      ]
    },
    {
      "cell_type": "code",
      "metadata": {
        "colab": {
          "base_uri": "https://localhost:8080/"
        },
        "id": "GebxsxWF-Ba0",
        "outputId": "89f7f773-9560-44f1-b06e-cb3eae743f6c"
      },
      "source": [
        "(2**-3)**-4"
      ],
      "execution_count": 35,
      "outputs": [
        {
          "output_type": "execute_result",
          "data": {
            "text/plain": [
              "4096.0"
            ]
          },
          "metadata": {
            "tags": []
          },
          "execution_count": 35
        }
      ]
    },
    {
      "cell_type": "code",
      "metadata": {
        "colab": {
          "base_uri": "https://localhost:8080/"
        },
        "id": "BgezbpqK-Jes",
        "outputId": "440870e0-37e9-4e52-fe0c-1c8249c6ecc5"
      },
      "source": [
        "2**-3"
      ],
      "execution_count": 36,
      "outputs": [
        {
          "output_type": "execute_result",
          "data": {
            "text/plain": [
              "0.125"
            ]
          },
          "metadata": {
            "tags": []
          },
          "execution_count": 36
        }
      ]
    },
    {
      "cell_type": "code",
      "metadata": {
        "colab": {
          "base_uri": "https://localhost:8080/"
        },
        "id": "--u72iWj-Mq0",
        "outputId": "092d2d70-5a38-4fd4-ba94-14a592bb1f85"
      },
      "source": [
        "0.125**-4"
      ],
      "execution_count": 38,
      "outputs": [
        {
          "output_type": "execute_result",
          "data": {
            "text/plain": [
              "4096.0"
            ]
          },
          "metadata": {
            "tags": []
          },
          "execution_count": 38
        }
      ]
    },
    {
      "cell_type": "markdown",
      "metadata": {
        "id": "ybzKjlWyURX-"
      },
      "source": [
        "#### Do the same compare/contrast exercise for this even longer expression."
      ]
    },
    {
      "cell_type": "code",
      "metadata": {
        "colab": {
          "base_uri": "https://localhost:8080/",
          "height": 806
        },
        "id": "GaOZJNxN6gf-",
        "outputId": "c2ed7dcf-c62d-4c1f-99b9-0aeae7980e61"
      },
      "source": [
        "drawPT(parseExp(\"6*3/4*~5/(2+3-4-5-6/7*~8)-~9\"))"
      ],
      "execution_count": 13,
      "outputs": [
        {
          "output_type": "stream",
          "text": [
            "Result calculated =  1.1249999999999991\n",
            "Drawing AST for  ('-', (('/', (('*', (('/', (('*', (('NUMBER', '6'), ('NUMBER', '3'))), ('NUMBER', '4'))), ('~', ('NUMBER', '5')))), ('-', (('-', (('-', (('+', (('NUMBER', '2'), ('NUMBER', '3'))), ('NUMBER', '4'))), ('NUMBER', '5'))), ('*', (('/', (('NUMBER', '6'), ('NUMBER', '7'))), ('~', ('NUMBER', '8')))))))), ('~', ('NUMBER', '9'))))\n"
          ],
          "name": "stdout"
        },
        {
          "output_type": "execute_result",
          "data": {
            "text/plain": [
              "<graphviz.dot.Digraph at 0x7fd8ed745d30>"
            ],
            "image/svg+xml": "<?xml version=\"1.0\" encoding=\"UTF-8\" standalone=\"no\"?>\n<!DOCTYPE svg PUBLIC \"-//W3C//DTD SVG 1.1//EN\"\n \"http://www.w3.org/Graphics/SVG/1.1/DTD/svg11.dtd\">\n<!-- Generated by graphviz version 2.40.1 (20161225.0304)\n -->\n<!-- Title: PT Pages: 1 -->\n<svg width=\"865pt\" height=\"548pt\"\n viewBox=\"0.00 0.00 865.00 548.00\" xmlns=\"http://www.w3.org/2000/svg\" xmlns:xlink=\"http://www.w3.org/1999/xlink\">\n<g id=\"graph0\" class=\"graph\" transform=\"scale(1 1) rotate(0) translate(4 544)\">\n<title>PT</title>\n<polygon fill=\"#ffffff\" stroke=\"transparent\" points=\"-4,4 -4,-544 861,-544 861,4 -4,4\"/>\n<!-- E1&#45;E2_59 -->\n<g id=\"node1\" class=\"node\">\n<title>E1&#45;E2_59</title>\n<ellipse fill=\"none\" stroke=\"#000000\" cx=\"516\" cy=\"-522\" rx=\"35.194\" ry=\"18\"/>\n<text text-anchor=\"middle\" x=\"516\" y=\"-518.3\" font-family=\"Times,serif\" font-size=\"14.00\" fill=\"#000000\">E1&#45;E2</text>\n</g>\n<!-- E1/E2_54 -->\n<g id=\"node2\" class=\"node\">\n<title>E1/E2_54</title>\n<ellipse fill=\"none\" stroke=\"#000000\" cx=\"437\" cy=\"-450\" rx=\"34.394\" ry=\"18\"/>\n<text text-anchor=\"middle\" x=\"437\" y=\"-446.3\" font-family=\"Times,serif\" font-size=\"14.00\" fill=\"#000000\">E1/E2</text>\n</g>\n<!-- E1&#45;E2_59&#45;&gt;E1/E2_54 -->\n<g id=\"edge40\" class=\"edge\">\n<title>E1&#45;E2_59&#45;&gt;E1/E2_54</title>\n<path fill=\"none\" stroke=\"#000000\" d=\"M498.4673,-506.0209C487.6535,-496.1652 473.6189,-483.3742 461.691,-472.5032\"/>\n<polygon fill=\"#000000\" stroke=\"#000000\" points=\"463.9604,-469.836 454.2118,-465.6867 459.2452,-475.0096 463.9604,-469.836\"/>\n</g>\n<!-- &#45;_60 -->\n<g id=\"node3\" class=\"node\">\n<title>&#45;_60</title>\n<ellipse fill=\"none\" stroke=\"#000000\" cx=\"516\" cy=\"-450\" rx=\"27\" ry=\"18\"/>\n<text text-anchor=\"middle\" x=\"516\" y=\"-446.3\" font-family=\"Times,serif\" font-size=\"14.00\" fill=\"#000000\">&#45;</text>\n</g>\n<!-- E1&#45;E2_59&#45;&gt;&#45;_60 -->\n<g id=\"edge41\" class=\"edge\">\n<title>E1&#45;E2_59&#45;&gt;&#45;_60</title>\n<path fill=\"none\" stroke=\"#000000\" d=\"M516,-503.8314C516,-496.131 516,-486.9743 516,-478.4166\"/>\n<polygon fill=\"#000000\" stroke=\"#000000\" points=\"519.5001,-478.4132 516,-468.4133 512.5001,-478.4133 519.5001,-478.4132\"/>\n</g>\n<!-- ~E_57 -->\n<g id=\"node4\" class=\"node\">\n<title>~E_57</title>\n<ellipse fill=\"none\" stroke=\"#000000\" cx=\"588\" cy=\"-450\" rx=\"27\" ry=\"18\"/>\n<text text-anchor=\"middle\" x=\"588\" y=\"-446.3\" font-family=\"Times,serif\" font-size=\"14.00\" fill=\"#000000\">~E</text>\n</g>\n<!-- E1&#45;E2_59&#45;&gt;~E_57 -->\n<g id=\"edge42\" class=\"edge\">\n<title>E1&#45;E2_59&#45;&gt;~E_57</title>\n<path fill=\"none\" stroke=\"#000000\" d=\"M532.3379,-505.6621C542.1815,-495.8185 554.8542,-483.1458 565.6205,-472.3795\"/>\n<polygon fill=\"#000000\" stroke=\"#000000\" points=\"568.1152,-474.8346 572.7114,-465.2886 563.1654,-469.8848 568.1152,-474.8346\"/>\n</g>\n<!-- E1*E2_28 -->\n<g id=\"node5\" class=\"node\">\n<title>E1*E2_28</title>\n<ellipse fill=\"none\" stroke=\"#000000\" cx=\"339\" cy=\"-378\" rx=\"37.0935\" ry=\"18\"/>\n<text text-anchor=\"middle\" x=\"339\" y=\"-374.3\" font-family=\"Times,serif\" font-size=\"14.00\" fill=\"#000000\">E1*E2</text>\n</g>\n<!-- E1/E2_54&#45;&gt;E1*E2_28 -->\n<g id=\"edge35\" class=\"edge\">\n<title>E1/E2_54&#45;&gt;E1*E2_28</title>\n<path fill=\"none\" stroke=\"#000000\" d=\"M416.6943,-435.0816C402.5977,-424.7249 383.6091,-410.774 367.9329,-399.2568\"/>\n<polygon fill=\"#000000\" stroke=\"#000000\" points=\"369.7479,-396.2473 359.6168,-393.147 365.6034,-401.8884 369.7479,-396.2473\"/>\n</g>\n<!-- /_55 -->\n<g id=\"node6\" class=\"node\">\n<title>/_55</title>\n<ellipse fill=\"none\" stroke=\"#000000\" cx=\"437\" cy=\"-378\" rx=\"27\" ry=\"18\"/>\n<text text-anchor=\"middle\" x=\"437\" y=\"-374.3\" font-family=\"Times,serif\" font-size=\"14.00\" fill=\"#000000\">/</text>\n</g>\n<!-- E1/E2_54&#45;&gt;/_55 -->\n<g id=\"edge36\" class=\"edge\">\n<title>E1/E2_54&#45;&gt;/_55</title>\n<path fill=\"none\" stroke=\"#000000\" d=\"M437,-431.8314C437,-424.131 437,-414.9743 437,-406.4166\"/>\n<polygon fill=\"#000000\" stroke=\"#000000\" points=\"440.5001,-406.4132 437,-396.4133 433.5001,-406.4133 440.5001,-406.4132\"/>\n</g>\n<!-- (E)_51 -->\n<g id=\"node7\" class=\"node\">\n<title>(E)_51</title>\n<ellipse fill=\"none\" stroke=\"#000000\" cx=\"511\" cy=\"-378\" rx=\"27\" ry=\"18\"/>\n<text text-anchor=\"middle\" x=\"511\" y=\"-374.3\" font-family=\"Times,serif\" font-size=\"14.00\" fill=\"#000000\">(E)</text>\n</g>\n<!-- E1/E2_54&#45;&gt;(E)_51 -->\n<g id=\"edge37\" class=\"edge\">\n<title>E1/E2_54&#45;&gt;(E)_51</title>\n<path fill=\"none\" stroke=\"#000000\" d=\"M453.423,-434.0209C463.6635,-424.0571 476.9875,-411.0932 488.2387,-400.1461\"/>\n<polygon fill=\"#000000\" stroke=\"#000000\" points=\"490.9069,-402.4334 495.6335,-392.9512 486.0254,-397.4163 490.9069,-402.4334\"/>\n</g>\n<!-- ~_58 -->\n<g id=\"node42\" class=\"node\">\n<title>~_58</title>\n<ellipse fill=\"none\" stroke=\"#000000\" cx=\"586\" cy=\"-378\" rx=\"27\" ry=\"18\"/>\n<text text-anchor=\"middle\" x=\"586\" y=\"-374.3\" font-family=\"Times,serif\" font-size=\"14.00\" fill=\"#000000\">~</text>\n</g>\n<!-- ~E_57&#45;&gt;~_58 -->\n<g id=\"edge38\" class=\"edge\">\n<title>~E_57&#45;&gt;~_58</title>\n<path fill=\"none\" stroke=\"#000000\" d=\"M587.4953,-431.8314C587.2814,-424.131 587.0271,-414.9743 586.7894,-406.4166\"/>\n<polygon fill=\"#000000\" stroke=\"#000000\" points=\"590.2879,-406.3122 586.5115,-396.4133 583.2906,-406.5066 590.2879,-406.3122\"/>\n</g>\n<!-- 9_56 -->\n<g id=\"node43\" class=\"node\">\n<title>9_56</title>\n<ellipse fill=\"none\" stroke=\"#000000\" cx=\"658\" cy=\"-378\" rx=\"27\" ry=\"18\"/>\n<text text-anchor=\"middle\" x=\"658\" y=\"-374.3\" font-family=\"Times,serif\" font-size=\"14.00\" fill=\"#000000\">9</text>\n</g>\n<!-- ~E_57&#45;&gt;9_56 -->\n<g id=\"edge39\" class=\"edge\">\n<title>~E_57&#45;&gt;9_56</title>\n<path fill=\"none\" stroke=\"#000000\" d=\"M602.8452,-434.7307C612.4971,-424.803 625.251,-411.6847 636.0631,-400.5637\"/>\n<polygon fill=\"#000000\" stroke=\"#000000\" points=\"638.7149,-402.8571 643.1762,-393.2473 633.6959,-397.9775 638.7149,-402.8571\"/>\n</g>\n<!-- E1/E2_23 -->\n<g id=\"node8\" class=\"node\">\n<title>E1/E2_23</title>\n<ellipse fill=\"none\" stroke=\"#000000\" cx=\"213\" cy=\"-306\" rx=\"34.394\" ry=\"18\"/>\n<text text-anchor=\"middle\" x=\"213\" y=\"-302.3\" font-family=\"Times,serif\" font-size=\"14.00\" fill=\"#000000\">E1/E2</text>\n</g>\n<!-- E1*E2_28&#45;&gt;E1/E2_23 -->\n<g id=\"edge9\" class=\"edge\">\n<title>E1*E2_28&#45;&gt;E1/E2_23</title>\n<path fill=\"none\" stroke=\"#000000\" d=\"M314.7059,-364.1177C294.9329,-352.8188 266.8545,-336.774 245.2079,-324.4045\"/>\n<polygon fill=\"#000000\" stroke=\"#000000\" points=\"246.7865,-321.2755 236.3675,-319.3529 243.3135,-327.3532 246.7865,-321.2755\"/>\n</g>\n<!-- *_29 -->\n<g id=\"node9\" class=\"node\">\n<title>*_29</title>\n<ellipse fill=\"none\" stroke=\"#000000\" cx=\"308\" cy=\"-306\" rx=\"27\" ry=\"18\"/>\n<text text-anchor=\"middle\" x=\"308\" y=\"-302.3\" font-family=\"Times,serif\" font-size=\"14.00\" fill=\"#000000\">*</text>\n</g>\n<!-- E1*E2_28&#45;&gt;*_29 -->\n<g id=\"edge10\" class=\"edge\">\n<title>E1*E2_28&#45;&gt;*_29</title>\n<path fill=\"none\" stroke=\"#000000\" d=\"M331.3371,-360.2022C327.782,-351.9452 323.4804,-341.9545 319.5437,-332.8112\"/>\n<polygon fill=\"#000000\" stroke=\"#000000\" points=\"322.6371,-331.1453 315.4678,-323.3446 316.2078,-333.9136 322.6371,-331.1453\"/>\n</g>\n<!-- ~E_26 -->\n<g id=\"node10\" class=\"node\">\n<title>~E_26</title>\n<ellipse fill=\"none\" stroke=\"#000000\" cx=\"380\" cy=\"-306\" rx=\"27\" ry=\"18\"/>\n<text text-anchor=\"middle\" x=\"380\" y=\"-302.3\" font-family=\"Times,serif\" font-size=\"14.00\" fill=\"#000000\">~E</text>\n</g>\n<!-- E1*E2_28&#45;&gt;~E_26 -->\n<g id=\"edge11\" class=\"edge\">\n<title>E1*E2_28&#45;&gt;~E_26</title>\n<path fill=\"none\" stroke=\"#000000\" d=\"M348.925,-360.5708C353.81,-351.9922 359.7983,-341.4762 365.2097,-331.9732\"/>\n<polygon fill=\"#000000\" stroke=\"#000000\" points=\"368.2595,-333.6905 370.1664,-323.2687 362.1766,-330.2266 368.2595,-333.6905\"/>\n</g>\n<!-- (_52 -->\n<g id=\"node19\" class=\"node\">\n<title>(_52</title>\n<ellipse fill=\"none\" stroke=\"#000000\" cx=\"464\" cy=\"-306\" rx=\"27\" ry=\"18\"/>\n<text text-anchor=\"middle\" x=\"464\" y=\"-302.3\" font-family=\"Times,serif\" font-size=\"14.00\" fill=\"#000000\">(</text>\n</g>\n<!-- (E)_51&#45;&gt;(_52 -->\n<g id=\"edge32\" class=\"edge\">\n<title>(E)_51&#45;&gt;(_52</title>\n<path fill=\"none\" stroke=\"#000000\" d=\"M500.0991,-361.3008C494.2264,-352.3043 486.8634,-341.0247 480.3213,-331.0029\"/>\n<polygon fill=\"#000000\" stroke=\"#000000\" points=\"483.2389,-329.0693 474.8418,-322.6087 477.3772,-332.8957 483.2389,-329.0693\"/>\n</g>\n<!-- E1&#45;E2_49 -->\n<g id=\"node20\" class=\"node\">\n<title>E1&#45;E2_49</title>\n<ellipse fill=\"none\" stroke=\"#000000\" cx=\"544\" cy=\"-306\" rx=\"35.194\" ry=\"18\"/>\n<text text-anchor=\"middle\" x=\"544\" y=\"-302.3\" font-family=\"Times,serif\" font-size=\"14.00\" fill=\"#000000\">E1&#45;E2</text>\n</g>\n<!-- (E)_51&#45;&gt;E1&#45;E2_49 -->\n<g id=\"edge33\" class=\"edge\">\n<title>(E)_51&#45;&gt;E1&#45;E2_49</title>\n<path fill=\"none\" stroke=\"#000000\" d=\"M518.9884,-360.5708C522.7825,-352.2927 527.4036,-342.2104 531.6364,-332.9752\"/>\n<polygon fill=\"#000000\" stroke=\"#000000\" points=\"534.8711,-334.3178 535.8559,-323.7689 528.5076,-331.4012 534.8711,-334.3178\"/>\n</g>\n<!-- )_53 -->\n<g id=\"node41\" class=\"node\">\n<title>)_53</title>\n<ellipse fill=\"none\" stroke=\"#000000\" cx=\"624\" cy=\"-306\" rx=\"27\" ry=\"18\"/>\n<text text-anchor=\"middle\" x=\"624\" y=\"-302.3\" font-family=\"Times,serif\" font-size=\"14.00\" fill=\"#000000\">)</text>\n</g>\n<!-- (E)_51&#45;&gt;)_53 -->\n<g id=\"edge34\" class=\"edge\">\n<title>(E)_51&#45;&gt;)_53</title>\n<path fill=\"none\" stroke=\"#000000\" d=\"M530.6831,-365.4586C548.6398,-354.0171 575.3842,-336.9764 595.6444,-324.0673\"/>\n<polygon fill=\"#000000\" stroke=\"#000000\" points=\"597.6105,-326.9647 604.1633,-318.6393 593.849,-321.0612 597.6105,-326.9647\"/>\n</g>\n<!-- E1*E2_20 -->\n<g id=\"node11\" class=\"node\">\n<title>E1*E2_20</title>\n<ellipse fill=\"none\" stroke=\"#000000\" cx=\"99\" cy=\"-234\" rx=\"37.0935\" ry=\"18\"/>\n<text text-anchor=\"middle\" x=\"99\" y=\"-230.3\" font-family=\"Times,serif\" font-size=\"14.00\" fill=\"#000000\">E1*E2</text>\n</g>\n<!-- E1/E2_23&#45;&gt;E1*E2_20 -->\n<g id=\"edge4\" class=\"edge\">\n<title>E1/E2_23&#45;&gt;E1*E2_20</title>\n<path fill=\"none\" stroke=\"#000000\" d=\"M191.0197,-292.1177C173.7383,-281.2032 149.4453,-265.8602 130.1589,-253.6793\"/>\n<polygon fill=\"#000000\" stroke=\"#000000\" points=\"132.017,-250.7133 121.6932,-248.3325 128.2791,-256.6317 132.017,-250.7133\"/>\n</g>\n<!-- /_24 -->\n<g id=\"node12\" class=\"node\">\n<title>/_24</title>\n<ellipse fill=\"none\" stroke=\"#000000\" cx=\"181\" cy=\"-234\" rx=\"27\" ry=\"18\"/>\n<text text-anchor=\"middle\" x=\"181\" y=\"-230.3\" font-family=\"Times,serif\" font-size=\"14.00\" fill=\"#000000\">/</text>\n</g>\n<!-- E1/E2_23&#45;&gt;/_24 -->\n<g id=\"edge5\" class=\"edge\">\n<title>E1/E2_23&#45;&gt;/_24</title>\n<path fill=\"none\" stroke=\"#000000\" d=\"M205.0899,-288.2022C201.381,-279.8574 196.8852,-269.7417 192.7865,-260.5197\"/>\n<polygon fill=\"#000000\" stroke=\"#000000\" points=\"195.9685,-259.0612 188.7087,-251.3446 189.5718,-261.9042 195.9685,-259.0612\"/>\n</g>\n<!-- 4_22 -->\n<g id=\"node13\" class=\"node\">\n<title>4_22</title>\n<ellipse fill=\"none\" stroke=\"#000000\" cx=\"253\" cy=\"-234\" rx=\"27\" ry=\"18\"/>\n<text text-anchor=\"middle\" x=\"253\" y=\"-230.3\" font-family=\"Times,serif\" font-size=\"14.00\" fill=\"#000000\">4</text>\n</g>\n<!-- E1/E2_23&#45;&gt;4_22 -->\n<g id=\"edge6\" class=\"edge\">\n<title>E1/E2_23&#45;&gt;4_22</title>\n<path fill=\"none\" stroke=\"#000000\" d=\"M222.6829,-288.5708C227.3996,-280.0807 233.1706,-269.6929 238.407,-260.2674\"/>\n<polygon fill=\"#000000\" stroke=\"#000000\" points=\"241.6094,-261.71 243.4063,-251.2687 235.4903,-258.3105 241.6094,-261.71\"/>\n</g>\n<!-- ~_27 -->\n<g id=\"node17\" class=\"node\">\n<title>~_27</title>\n<ellipse fill=\"none\" stroke=\"#000000\" cx=\"325\" cy=\"-234\" rx=\"27\" ry=\"18\"/>\n<text text-anchor=\"middle\" x=\"325\" y=\"-230.3\" font-family=\"Times,serif\" font-size=\"14.00\" fill=\"#000000\">~</text>\n</g>\n<!-- ~E_26&#45;&gt;~_27 -->\n<g id=\"edge7\" class=\"edge\">\n<title>~E_26&#45;&gt;~_27</title>\n<path fill=\"none\" stroke=\"#000000\" d=\"M367.5196,-289.6621C360.4876,-280.4564 351.5653,-268.7764 343.7117,-258.4953\"/>\n<polygon fill=\"#000000\" stroke=\"#000000\" points=\"346.2828,-256.0953 337.431,-250.2733 340.72,-260.3446 346.2828,-256.0953\"/>\n</g>\n<!-- 5_25 -->\n<g id=\"node18\" class=\"node\">\n<title>5_25</title>\n<ellipse fill=\"none\" stroke=\"#000000\" cx=\"397\" cy=\"-234\" rx=\"27\" ry=\"18\"/>\n<text text-anchor=\"middle\" x=\"397\" y=\"-230.3\" font-family=\"Times,serif\" font-size=\"14.00\" fill=\"#000000\">5</text>\n</g>\n<!-- ~E_26&#45;&gt;5_25 -->\n<g id=\"edge8\" class=\"edge\">\n<title>~E_26&#45;&gt;5_25</title>\n<path fill=\"none\" stroke=\"#000000\" d=\"M384.2022,-288.2022C386.0821,-280.2406 388.3425,-270.6671 390.4371,-261.7957\"/>\n<polygon fill=\"#000000\" stroke=\"#000000\" points=\"393.8955,-262.3792 392.7872,-251.8425 387.0828,-260.7706 393.8955,-262.3792\"/>\n</g>\n<!-- 6_18 -->\n<g id=\"node14\" class=\"node\">\n<title>6_18</title>\n<ellipse fill=\"none\" stroke=\"#000000\" cx=\"27\" cy=\"-162\" rx=\"27\" ry=\"18\"/>\n<text text-anchor=\"middle\" x=\"27\" y=\"-158.3\" font-family=\"Times,serif\" font-size=\"14.00\" fill=\"#000000\">6</text>\n</g>\n<!-- E1*E2_20&#45;&gt;6_18 -->\n<g id=\"edge1\" class=\"edge\">\n<title>E1*E2_20&#45;&gt;6_18</title>\n<path fill=\"none\" stroke=\"#000000\" d=\"M82.6621,-217.6621C72.8185,-207.8185 60.1458,-195.1458 49.3795,-184.3795\"/>\n<polygon fill=\"#000000\" stroke=\"#000000\" points=\"51.8346,-181.8848 42.2886,-177.2886 46.8848,-186.8346 51.8346,-181.8848\"/>\n</g>\n<!-- *_21 -->\n<g id=\"node15\" class=\"node\">\n<title>*_21</title>\n<ellipse fill=\"none\" stroke=\"#000000\" cx=\"99\" cy=\"-162\" rx=\"27\" ry=\"18\"/>\n<text text-anchor=\"middle\" x=\"99\" y=\"-158.3\" font-family=\"Times,serif\" font-size=\"14.00\" fill=\"#000000\">*</text>\n</g>\n<!-- E1*E2_20&#45;&gt;*_21 -->\n<g id=\"edge2\" class=\"edge\">\n<title>E1*E2_20&#45;&gt;*_21</title>\n<path fill=\"none\" stroke=\"#000000\" d=\"M99,-215.8314C99,-208.131 99,-198.9743 99,-190.4166\"/>\n<polygon fill=\"#000000\" stroke=\"#000000\" points=\"102.5001,-190.4132 99,-180.4133 95.5001,-190.4133 102.5001,-190.4132\"/>\n</g>\n<!-- 3_19 -->\n<g id=\"node16\" class=\"node\">\n<title>3_19</title>\n<ellipse fill=\"none\" stroke=\"#000000\" cx=\"171\" cy=\"-162\" rx=\"27\" ry=\"18\"/>\n<text text-anchor=\"middle\" x=\"171\" y=\"-158.3\" font-family=\"Times,serif\" font-size=\"14.00\" fill=\"#000000\">3</text>\n</g>\n<!-- E1*E2_20&#45;&gt;3_19 -->\n<g id=\"edge3\" class=\"edge\">\n<title>E1*E2_20&#45;&gt;3_19</title>\n<path fill=\"none\" stroke=\"#000000\" d=\"M115.3379,-217.6621C125.1815,-207.8185 137.8542,-195.1458 148.6205,-184.3795\"/>\n<polygon fill=\"#000000\" stroke=\"#000000\" points=\"151.1152,-186.8346 155.7114,-177.2886 146.1654,-181.8848 151.1152,-186.8346\"/>\n</g>\n<!-- E1&#45;E2_38 -->\n<g id=\"node21\" class=\"node\">\n<title>E1&#45;E2_38</title>\n<ellipse fill=\"none\" stroke=\"#000000\" cx=\"477\" cy=\"-234\" rx=\"35.194\" ry=\"18\"/>\n<text text-anchor=\"middle\" x=\"477\" y=\"-230.3\" font-family=\"Times,serif\" font-size=\"14.00\" fill=\"#000000\">E1&#45;E2</text>\n</g>\n<!-- E1&#45;E2_49&#45;&gt;E1&#45;E2_38 -->\n<g id=\"edge29\" class=\"edge\">\n<title>E1&#45;E2_49&#45;&gt;E1&#45;E2_38</title>\n<path fill=\"none\" stroke=\"#000000\" d=\"M528.7967,-289.6621C520.059,-280.2723 508.9257,-268.3082 499.2218,-257.8802\"/>\n<polygon fill=\"#000000\" stroke=\"#000000\" points=\"501.5178,-255.2097 492.1432,-250.2733 496.3933,-259.9783 501.5178,-255.2097\"/>\n</g>\n<!-- &#45;_50 -->\n<g id=\"node22\" class=\"node\">\n<title>&#45;_50</title>\n<ellipse fill=\"none\" stroke=\"#000000\" cx=\"557\" cy=\"-234\" rx=\"27\" ry=\"18\"/>\n<text text-anchor=\"middle\" x=\"557\" y=\"-230.3\" font-family=\"Times,serif\" font-size=\"14.00\" fill=\"#000000\">&#45;</text>\n</g>\n<!-- E1&#45;E2_49&#45;&gt;&#45;_50 -->\n<g id=\"edge30\" class=\"edge\">\n<title>E1&#45;E2_49&#45;&gt;&#45;_50</title>\n<path fill=\"none\" stroke=\"#000000\" d=\"M547.2804,-287.8314C548.6922,-280.0125 550.375,-270.6923 551.9405,-262.0221\"/>\n<polygon fill=\"#000000\" stroke=\"#000000\" points=\"555.433,-262.3762 553.7656,-251.9134 548.5444,-261.1324 555.433,-262.3762\"/>\n</g>\n<!-- E1*E2_47 -->\n<g id=\"node23\" class=\"node\">\n<title>E1*E2_47</title>\n<ellipse fill=\"none\" stroke=\"#000000\" cx=\"673\" cy=\"-234\" rx=\"37.0935\" ry=\"18\"/>\n<text text-anchor=\"middle\" x=\"673\" y=\"-230.3\" font-family=\"Times,serif\" font-size=\"14.00\" fill=\"#000000\">E1*E2</text>\n</g>\n<!-- E1&#45;E2_49&#45;&gt;E1*E2_47 -->\n<g id=\"edge31\" class=\"edge\">\n<title>E1&#45;E2_49&#45;&gt;E1*E2_47</title>\n<path fill=\"none\" stroke=\"#000000\" d=\"M567.9616,-292.6261C588.0701,-281.4028 617.0187,-265.2454 639.4352,-252.7339\"/>\n<polygon fill=\"#000000\" stroke=\"#000000\" points=\"641.2623,-255.7224 648.2885,-247.7925 637.8507,-249.61 641.2623,-255.7224\"/>\n</g>\n<!-- E1&#45;E2_35 -->\n<g id=\"node24\" class=\"node\">\n<title>E1&#45;E2_35</title>\n<ellipse fill=\"none\" stroke=\"#000000\" cx=\"380\" cy=\"-162\" rx=\"35.194\" ry=\"18\"/>\n<text text-anchor=\"middle\" x=\"380\" y=\"-158.3\" font-family=\"Times,serif\" font-size=\"14.00\" fill=\"#000000\">E1&#45;E2</text>\n</g>\n<!-- E1&#45;E2_38&#45;&gt;E1&#45;E2_35 -->\n<g id=\"edge18\" class=\"edge\">\n<title>E1&#45;E2_38&#45;&gt;E1&#45;E2_35</title>\n<path fill=\"none\" stroke=\"#000000\" d=\"M456.9015,-219.0816C442.8551,-208.6554 423.9014,-194.5866 408.3257,-183.0253\"/>\n<polygon fill=\"#000000\" stroke=\"#000000\" points=\"410.1885,-180.0492 400.0727,-176.8993 406.0164,-185.67 410.1885,-180.0492\"/>\n</g>\n<!-- &#45;_39 -->\n<g id=\"node25\" class=\"node\">\n<title>&#45;_39</title>\n<ellipse fill=\"none\" stroke=\"#000000\" cx=\"460\" cy=\"-162\" rx=\"27\" ry=\"18\"/>\n<text text-anchor=\"middle\" x=\"460\" y=\"-158.3\" font-family=\"Times,serif\" font-size=\"14.00\" fill=\"#000000\">&#45;</text>\n</g>\n<!-- E1&#45;E2_38&#45;&gt;&#45;_39 -->\n<g id=\"edge19\" class=\"edge\">\n<title>E1&#45;E2_38&#45;&gt;&#45;_39</title>\n<path fill=\"none\" stroke=\"#000000\" d=\"M472.7102,-215.8314C470.8438,-207.9266 468.615,-198.4872 466.5489,-189.7365\"/>\n<polygon fill=\"#000000\" stroke=\"#000000\" points=\"469.9339,-188.8415 464.2296,-179.9134 463.1212,-190.4501 469.9339,-188.8415\"/>\n</g>\n<!-- 5_37 -->\n<g id=\"node26\" class=\"node\">\n<title>5_37</title>\n<ellipse fill=\"none\" stroke=\"#000000\" cx=\"532\" cy=\"-162\" rx=\"27\" ry=\"18\"/>\n<text text-anchor=\"middle\" x=\"532\" y=\"-158.3\" font-family=\"Times,serif\" font-size=\"14.00\" fill=\"#000000\">5</text>\n</g>\n<!-- E1&#45;E2_38&#45;&gt;5_37 -->\n<g id=\"edge20\" class=\"edge\">\n<title>E1&#45;E2_38&#45;&gt;5_37</title>\n<path fill=\"none\" stroke=\"#000000\" d=\"M490.0342,-216.937C496.9831,-207.8403 505.6546,-196.4886 513.3083,-186.4691\"/>\n<polygon fill=\"#000000\" stroke=\"#000000\" points=\"516.1488,-188.5163 519.4379,-178.4449 510.5861,-184.267 516.1488,-188.5163\"/>\n</g>\n<!-- E1/E2_42 -->\n<g id=\"node33\" class=\"node\">\n<title>E1/E2_42</title>\n<ellipse fill=\"none\" stroke=\"#000000\" cx=\"611\" cy=\"-162\" rx=\"34.394\" ry=\"18\"/>\n<text text-anchor=\"middle\" x=\"611\" y=\"-158.3\" font-family=\"Times,serif\" font-size=\"14.00\" fill=\"#000000\">E1/E2</text>\n</g>\n<!-- E1*E2_47&#45;&gt;E1/E2_42 -->\n<g id=\"edge26\" class=\"edge\">\n<title>E1*E2_47&#45;&gt;E1/E2_42</title>\n<path fill=\"none\" stroke=\"#000000\" d=\"M658.6201,-217.3008C650.7167,-208.1226 640.7669,-196.568 632.0086,-186.3971\"/>\n<polygon fill=\"#000000\" stroke=\"#000000\" points=\"634.4794,-183.9025 625.3019,-178.6087 629.175,-188.4702 634.4794,-183.9025\"/>\n</g>\n<!-- *_48 -->\n<g id=\"node34\" class=\"node\">\n<title>*_48</title>\n<ellipse fill=\"none\" stroke=\"#000000\" cx=\"690\" cy=\"-162\" rx=\"27\" ry=\"18\"/>\n<text text-anchor=\"middle\" x=\"690\" y=\"-158.3\" font-family=\"Times,serif\" font-size=\"14.00\" fill=\"#000000\">*</text>\n</g>\n<!-- E1*E2_47&#45;&gt;*_48 -->\n<g id=\"edge27\" class=\"edge\">\n<title>E1*E2_47&#45;&gt;*_48</title>\n<path fill=\"none\" stroke=\"#000000\" d=\"M677.2898,-215.8314C679.1562,-207.9266 681.385,-198.4872 683.4511,-189.7365\"/>\n<polygon fill=\"#000000\" stroke=\"#000000\" points=\"686.8788,-190.4501 685.7704,-179.9134 680.0661,-188.8415 686.8788,-190.4501\"/>\n</g>\n<!-- ~E_45 -->\n<g id=\"node35\" class=\"node\">\n<title>~E_45</title>\n<ellipse fill=\"none\" stroke=\"#000000\" cx=\"762\" cy=\"-162\" rx=\"27\" ry=\"18\"/>\n<text text-anchor=\"middle\" x=\"762\" y=\"-158.3\" font-family=\"Times,serif\" font-size=\"14.00\" fill=\"#000000\">~E</text>\n</g>\n<!-- E1*E2_47&#45;&gt;~E_45 -->\n<g id=\"edge28\" class=\"edge\">\n<title>E1*E2_47&#45;&gt;~E_45</title>\n<path fill=\"none\" stroke=\"#000000\" d=\"M692.3117,-218.3771C705.3036,-207.8667 722.5666,-193.9012 736.6603,-182.4996\"/>\n<polygon fill=\"#000000\" stroke=\"#000000\" points=\"738.9627,-185.1388 744.5359,-176.1282 734.5601,-179.6967 738.9627,-185.1388\"/>\n</g>\n<!-- E1+E2_32 -->\n<g id=\"node27\" class=\"node\">\n<title>E1+E2_32</title>\n<ellipse fill=\"none\" stroke=\"#000000\" cx=\"297\" cy=\"-90\" rx=\"37.8943\" ry=\"18\"/>\n<text text-anchor=\"middle\" x=\"297\" y=\"-86.3\" font-family=\"Times,serif\" font-size=\"14.00\" fill=\"#000000\">E1+E2</text>\n</g>\n<!-- E1&#45;E2_35&#45;&gt;E1+E2_32 -->\n<g id=\"edge15\" class=\"edge\">\n<title>E1&#45;E2_35&#45;&gt;E1+E2_32</title>\n<path fill=\"none\" stroke=\"#000000\" d=\"M361.9902,-146.3771C350.5401,-136.4445 335.5328,-123.4261 322.8245,-112.402\"/>\n<polygon fill=\"#000000\" stroke=\"#000000\" points=\"325.1086,-109.75 315.2612,-105.8411 320.5217,-115.0377 325.1086,-109.75\"/>\n</g>\n<!-- &#45;_36 -->\n<g id=\"node28\" class=\"node\">\n<title>&#45;_36</title>\n<ellipse fill=\"none\" stroke=\"#000000\" cx=\"380\" cy=\"-90\" rx=\"27\" ry=\"18\"/>\n<text text-anchor=\"middle\" x=\"380\" y=\"-86.3\" font-family=\"Times,serif\" font-size=\"14.00\" fill=\"#000000\">&#45;</text>\n</g>\n<!-- E1&#45;E2_35&#45;&gt;&#45;_36 -->\n<g id=\"edge16\" class=\"edge\">\n<title>E1&#45;E2_35&#45;&gt;&#45;_36</title>\n<path fill=\"none\" stroke=\"#000000\" d=\"M380,-143.8314C380,-136.131 380,-126.9743 380,-118.4166\"/>\n<polygon fill=\"#000000\" stroke=\"#000000\" points=\"383.5001,-118.4132 380,-108.4133 376.5001,-118.4133 383.5001,-118.4132\"/>\n</g>\n<!-- 4_34 -->\n<g id=\"node29\" class=\"node\">\n<title>4_34</title>\n<ellipse fill=\"none\" stroke=\"#000000\" cx=\"452\" cy=\"-90\" rx=\"27\" ry=\"18\"/>\n<text text-anchor=\"middle\" x=\"452\" y=\"-86.3\" font-family=\"Times,serif\" font-size=\"14.00\" fill=\"#000000\">4</text>\n</g>\n<!-- E1&#45;E2_35&#45;&gt;4_34 -->\n<g id=\"edge17\" class=\"edge\">\n<title>E1&#45;E2_35&#45;&gt;4_34</title>\n<path fill=\"none\" stroke=\"#000000\" d=\"M396.3379,-145.6621C406.1815,-135.8185 418.8542,-123.1458 429.6205,-112.3795\"/>\n<polygon fill=\"#000000\" stroke=\"#000000\" points=\"432.1152,-114.8346 436.7114,-105.2886 427.1654,-109.8848 432.1152,-114.8346\"/>\n</g>\n<!-- 2_30 -->\n<g id=\"node30\" class=\"node\">\n<title>2_30</title>\n<ellipse fill=\"none\" stroke=\"#000000\" cx=\"225\" cy=\"-18\" rx=\"27\" ry=\"18\"/>\n<text text-anchor=\"middle\" x=\"225\" y=\"-14.3\" font-family=\"Times,serif\" font-size=\"14.00\" fill=\"#000000\">2</text>\n</g>\n<!-- E1+E2_32&#45;&gt;2_30 -->\n<g id=\"edge12\" class=\"edge\">\n<title>E1+E2_32&#45;&gt;2_30</title>\n<path fill=\"none\" stroke=\"#000000\" d=\"M280.6621,-73.6621C270.8185,-63.8185 258.1458,-51.1458 247.3795,-40.3795\"/>\n<polygon fill=\"#000000\" stroke=\"#000000\" points=\"249.8346,-37.8848 240.2886,-33.2886 244.8848,-42.8346 249.8346,-37.8848\"/>\n</g>\n<!-- +_33 -->\n<g id=\"node31\" class=\"node\">\n<title>+_33</title>\n<ellipse fill=\"none\" stroke=\"#000000\" cx=\"297\" cy=\"-18\" rx=\"27\" ry=\"18\"/>\n<text text-anchor=\"middle\" x=\"297\" y=\"-14.3\" font-family=\"Times,serif\" font-size=\"14.00\" fill=\"#000000\">+</text>\n</g>\n<!-- E1+E2_32&#45;&gt;+_33 -->\n<g id=\"edge13\" class=\"edge\">\n<title>E1+E2_32&#45;&gt;+_33</title>\n<path fill=\"none\" stroke=\"#000000\" d=\"M297,-71.8314C297,-64.131 297,-54.9743 297,-46.4166\"/>\n<polygon fill=\"#000000\" stroke=\"#000000\" points=\"300.5001,-46.4132 297,-36.4133 293.5001,-46.4133 300.5001,-46.4132\"/>\n</g>\n<!-- 3_31 -->\n<g id=\"node32\" class=\"node\">\n<title>3_31</title>\n<ellipse fill=\"none\" stroke=\"#000000\" cx=\"369\" cy=\"-18\" rx=\"27\" ry=\"18\"/>\n<text text-anchor=\"middle\" x=\"369\" y=\"-14.3\" font-family=\"Times,serif\" font-size=\"14.00\" fill=\"#000000\">3</text>\n</g>\n<!-- E1+E2_32&#45;&gt;3_31 -->\n<g id=\"edge14\" class=\"edge\">\n<title>E1+E2_32&#45;&gt;3_31</title>\n<path fill=\"none\" stroke=\"#000000\" d=\"M313.3379,-73.6621C323.1815,-63.8185 335.8542,-51.1458 346.6205,-40.3795\"/>\n<polygon fill=\"#000000\" stroke=\"#000000\" points=\"349.1152,-42.8346 353.7114,-33.2886 344.1654,-37.8848 349.1152,-42.8346\"/>\n</g>\n<!-- 6_40 -->\n<g id=\"node36\" class=\"node\">\n<title>6_40</title>\n<ellipse fill=\"none\" stroke=\"#000000\" cx=\"539\" cy=\"-90\" rx=\"27\" ry=\"18\"/>\n<text text-anchor=\"middle\" x=\"539\" y=\"-86.3\" font-family=\"Times,serif\" font-size=\"14.00\" fill=\"#000000\">6</text>\n</g>\n<!-- E1/E2_42&#45;&gt;6_40 -->\n<g id=\"edge21\" class=\"edge\">\n<title>E1/E2_42&#45;&gt;6_40</title>\n<path fill=\"none\" stroke=\"#000000\" d=\"M595.0209,-146.0209C585.1918,-136.1918 572.4431,-123.4431 561.591,-112.591\"/>\n<polygon fill=\"#000000\" stroke=\"#000000\" points=\"563.9863,-110.0365 554.4403,-105.4403 559.0365,-114.9863 563.9863,-110.0365\"/>\n</g>\n<!-- /_43 -->\n<g id=\"node37\" class=\"node\">\n<title>/_43</title>\n<ellipse fill=\"none\" stroke=\"#000000\" cx=\"611\" cy=\"-90\" rx=\"27\" ry=\"18\"/>\n<text text-anchor=\"middle\" x=\"611\" y=\"-86.3\" font-family=\"Times,serif\" font-size=\"14.00\" fill=\"#000000\">/</text>\n</g>\n<!-- E1/E2_42&#45;&gt;/_43 -->\n<g id=\"edge22\" class=\"edge\">\n<title>E1/E2_42&#45;&gt;/_43</title>\n<path fill=\"none\" stroke=\"#000000\" d=\"M611,-143.8314C611,-136.131 611,-126.9743 611,-118.4166\"/>\n<polygon fill=\"#000000\" stroke=\"#000000\" points=\"614.5001,-118.4132 611,-108.4133 607.5001,-118.4133 614.5001,-118.4132\"/>\n</g>\n<!-- 7_41 -->\n<g id=\"node38\" class=\"node\">\n<title>7_41</title>\n<ellipse fill=\"none\" stroke=\"#000000\" cx=\"683\" cy=\"-90\" rx=\"27\" ry=\"18\"/>\n<text text-anchor=\"middle\" x=\"683\" y=\"-86.3\" font-family=\"Times,serif\" font-size=\"14.00\" fill=\"#000000\">7</text>\n</g>\n<!-- E1/E2_42&#45;&gt;7_41 -->\n<g id=\"edge23\" class=\"edge\">\n<title>E1/E2_42&#45;&gt;7_41</title>\n<path fill=\"none\" stroke=\"#000000\" d=\"M626.9791,-146.0209C636.8082,-136.1918 649.5569,-123.4431 660.409,-112.591\"/>\n<polygon fill=\"#000000\" stroke=\"#000000\" points=\"662.9635,-114.9863 667.5597,-105.4403 658.0137,-110.0365 662.9635,-114.9863\"/>\n</g>\n<!-- ~_46 -->\n<g id=\"node39\" class=\"node\">\n<title>~_46</title>\n<ellipse fill=\"none\" stroke=\"#000000\" cx=\"758\" cy=\"-90\" rx=\"27\" ry=\"18\"/>\n<text text-anchor=\"middle\" x=\"758\" y=\"-86.3\" font-family=\"Times,serif\" font-size=\"14.00\" fill=\"#000000\">~</text>\n</g>\n<!-- ~E_45&#45;&gt;~_46 -->\n<g id=\"edge24\" class=\"edge\">\n<title>~E_45&#45;&gt;~_46</title>\n<path fill=\"none\" stroke=\"#000000\" d=\"M760.9906,-143.8314C760.5628,-136.131 760.0541,-126.9743 759.5787,-118.4166\"/>\n<polygon fill=\"#000000\" stroke=\"#000000\" points=\"763.0724,-118.2037 759.023,-108.4133 756.0831,-118.592 763.0724,-118.2037\"/>\n</g>\n<!-- 8_44 -->\n<g id=\"node40\" class=\"node\">\n<title>8_44</title>\n<ellipse fill=\"none\" stroke=\"#000000\" cx=\"830\" cy=\"-90\" rx=\"27\" ry=\"18\"/>\n<text text-anchor=\"middle\" x=\"830\" y=\"-86.3\" font-family=\"Times,serif\" font-size=\"14.00\" fill=\"#000000\">8</text>\n</g>\n<!-- ~E_45&#45;&gt;8_44 -->\n<g id=\"edge25\" class=\"edge\">\n<title>~E_45&#45;&gt;8_44</title>\n<path fill=\"none\" stroke=\"#000000\" d=\"M776.4211,-146.7307C785.7972,-136.803 798.1867,-123.6847 808.6899,-112.5637\"/>\n<polygon fill=\"#000000\" stroke=\"#000000\" points=\"811.278,-114.9207 815.5997,-105.2473 806.1889,-110.1143 811.278,-114.9207\"/>\n</g>\n</g>\n</svg>\n"
          },
          "metadata": {
            "tags": []
          },
          "execution_count": 13
        }
      ]
    },
    {
      "cell_type": "code",
      "metadata": {
        "id": "Ja9ENeMfUV3N",
        "colab": {
          "base_uri": "https://localhost:8080/"
        },
        "outputId": "cadfd956-b2ac-435d-e621-840e48bdd008"
      },
      "source": [
        "(((6*3)/4)*(-5))/(2+3-4-5-((6/7)*-8)) - (-9)"
      ],
      "execution_count": 26,
      "outputs": [
        {
          "output_type": "execute_result",
          "data": {
            "text/plain": [
              "1.1249999999999991"
            ]
          },
          "metadata": {
            "tags": []
          },
          "execution_count": 26
        }
      ]
    },
    {
      "cell_type": "markdown",
      "metadata": {
        "id": "hbELM_NqVDzK"
      },
      "source": [
        "#### TODO Answer the question"
      ]
    },
    {
      "cell_type": "markdown",
      "metadata": {
        "id": "Ep8g7T7lVIZM"
      },
      "source": [
        "Except for expressions with unary minus and exponentiation, are the two parsers in complete agreement?"
      ]
    },
    {
      "cell_type": "markdown",
      "metadata": {
        "id": "3wsa96-f8MpK"
      },
      "source": [
        "Yes, they should parse strings the same besides unary minus and exponentiation."
      ]
    },
    {
      "cell_type": "markdown",
      "metadata": {
        "id": "TiBiqonfVWMe"
      },
      "source": [
        "#### TODO Answer the question"
      ]
    },
    {
      "cell_type": "markdown",
      "metadata": {
        "id": "1IbXemg6VmFD"
      },
      "source": [
        "With regard to parsing arithmetic expressions, how does Python differ from C++ and Google Sheets?"
      ]
    },
    {
      "cell_type": "markdown",
      "metadata": {
        "id": "LgGoy9ZtrPel"
      },
      "source": [
        "Google sheets works exactly the same as PLY (left-to-right). \r\n",
        "<br/>\r\n",
        "Python is also left-to-right, but you need to use parenthesis around negated numbers for them to function normally sometimes. \r\n",
        "<br/>\r\n",
        "C++ is completely different, and works right-to-left."
      ]
    },
    {
      "cell_type": "markdown",
      "metadata": {
        "id": "NjNYVWZuV3FE"
      },
      "source": [
        "Point out the similarities and differences between C++, Python, and Google Sheets when it comes to handling these expressions. Write a few sentences talking about similarities and a few sentences about the differences.\n",
        "\n",
        "Specifically, answer these two questions for each of C++, Python, and Google Sheets:\n",
        "1. What is the associativity of exponentiation, left-associative or right-associative?\n",
        "2. Which is handled first, unary minus or exponentiation?\n"
      ]
    },
    {
      "cell_type": "markdown",
      "metadata": {
        "id": "tfcEJspMsHsb"
      },
      "source": [
        "##### Python"
      ]
    },
    {
      "cell_type": "markdown",
      "metadata": {
        "id": "D58vjsTcsREJ"
      },
      "source": [
        "1. The associativity of exponentiation for Python is right-associative.\r\n",
        "2. Exponentiation is handled before unary minus in Python."
      ]
    },
    {
      "cell_type": "markdown",
      "metadata": {
        "id": "qAeWHRNhsH-T"
      },
      "source": [
        "##### C++"
      ]
    },
    {
      "cell_type": "markdown",
      "metadata": {
        "id": "pX_oIsW0sRw0"
      },
      "source": [
        "1. C++ does not have an exponential operator. The pow() function must be used instead. Due to this, it is not left-associative or right-associative.\r\n",
        "2. Since there is no exponential operator, the unary minus is not a problem. Numbers are simply passed into the pow() function."
      ]
    },
    {
      "cell_type": "markdown",
      "metadata": {
        "id": "oG321jBWsIMp"
      },
      "source": [
        "##### Google Sheets"
      ]
    },
    {
      "cell_type": "markdown",
      "metadata": {
        "id": "UYwSSRNMsSOZ"
      },
      "source": [
        "1. The associativity of exponentiation for Google Sheets is right-associative.\r\n",
        "2. Unary minus is handled before unary exponentiation in Google Sheets."
      ]
    },
    {
      "cell_type": "markdown",
      "metadata": {
        "id": "Tl41LK9ov0rX"
      },
      "source": [
        "# This was a TON of fun!"
      ]
    }
  ]
}