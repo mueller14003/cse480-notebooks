{
  "nbformat": 4,
  "nbformat_minor": 0,
  "metadata": {
    "kernelspec": {
      "display_name": "Python 3",
      "language": "python",
      "name": "python3"
    },
    "language_info": {
      "codemirror_mode": {
        "name": "ipython",
        "version": 3
      },
      "file_extension": ".py",
      "mimetype": "text/x-python",
      "name": "python",
      "nbconvert_exporter": "python",
      "pygments_lexer": "ipython3",
      "version": "3.9.0"
    },
    "colab": {
      "name": "03_4_DFA_Examples.ipynb",
      "provenance": [],
      "include_colab_link": true
    }
  },
  "cells": [
    {
      "cell_type": "markdown",
      "metadata": {
        "id": "view-in-github",
        "colab_type": "text"
      },
      "source": [
        "<a href=\"https://colab.research.google.com/github/mueller14003/cse480-notebooks/blob/master/03_4_DFA_Examples.ipynb\" target=\"_parent\"><img src=\"https://colab.research.google.com/assets/colab-badge.svg\" alt=\"Open In Colab\"/></a>"
      ]
    },
    {
      "cell_type": "markdown",
      "metadata": {
        "id": "cGkwDn4G-aF1"
      },
      "source": [
        "# First let's import, then look for DFA Examples/Tasks below"
      ]
    },
    {
      "cell_type": "code",
      "metadata": {
        "colab": {
          "base_uri": "https://localhost:8080/"
        },
        "id": "ptWLRXDE-aF5",
        "outputId": "81349a34-869d-4b26-bbbe-2efcbe850ff5"
      },
      "source": [
        "#~~~~~~~~~~~~~~~~~~~~~~~~~~~~~~~~~~~~~~~~~~~~~~~~~~~~~~~\n",
        "import sys\n",
        "\n",
        "# -- Detect if in Own Install or in Colab\n",
        "try:\n",
        "    import google.colab\n",
        "    OWN_INSTALL = False\n",
        "except:\n",
        "    OWN_INSTALL = True\n",
        "    \n",
        "if OWN_INSTALL:\n",
        "\n",
        "  sys.path[0:0] = ['../../../../..',  '../../../../../3rdparty',  \n",
        "                   '../../../..',  '../../../../3rdparty',  \n",
        "                   '../../..',     '../../../3rdparty', \n",
        "                   '../..',        '../../3rdparty',\n",
        "                   '..',           '../3rdparty' ]\n",
        "\n",
        "else: # In colab\n",
        "  ! if [ ! -d Jove ]; then git clone https://github.com/ganeshutah/Jove Jove; fi\n",
        "  sys.path.append('./Jove')\n",
        "  sys.path.append('./Jove/jove')\n",
        "\n",
        "# -- common imports --\n",
        "from jove.LangDef   import *  #-- mainly for nthnumeric\n",
        "from jove.Def_md2mc import *  #-- for md2mc\n",
        "from jove.Def_DFA   import *  #-- for all DFA functions\n",
        "from jove.DotBashers import * #-- for dotObj_dfa\n",
        "#~~~~~~~~~~~~~~~~~~~~~~~~~~~~~~~~~~~~~~~~~~~~~~~~~~~~~~~"
      ],
      "execution_count": 1,
      "outputs": [
        {
          "output_type": "stream",
          "text": [
            "Cloning into 'Jove'...\n",
            "remote: Enumerating objects: 4634, done.\u001b[K\n",
            "remote: Total 4634 (delta 0), reused 0 (delta 0), pack-reused 4634\u001b[K\n",
            "Receiving objects: 100% (4634/4634), 7.38 MiB | 17.28 MiB/s, done.\n",
            "Resolving deltas: 100% (3005/3005), done.\n",
            "You may use any of these help commands:\n",
            "help(lphi)\n",
            "help(lunit)\n",
            "help(lcat)\n",
            "help(lexp)\n",
            "help(lunion)\n",
            "help(lstar)\n",
            "help(srev)\n",
            "help(lrev)\n",
            "help(shomo)\n",
            "help(lhomo)\n",
            "help(powset)\n",
            "help(lint)\n",
            "help(lsymdiff)\n",
            "help(lminus)\n",
            "help(lissubset)\n",
            "help(lissuperset)\n",
            "help(lcomplem)\n",
            "help(product)\n",
            "help(nthnumeric)\n",
            "\n",
            "You may use any of these help commands:\n",
            "help(md2mc)\n",
            ".. and if you want to dig more, then ..\n",
            "help(default_line_attr)\n",
            "help(length_ok_input_items)\n",
            "help(union_line_attr_list_fld)\n",
            "help(extend_rsltdict)\n",
            "help(form_delta)\n",
            "help(get_machine_components)\n",
            "\n",
            "You may use any of these help commands:\n",
            "help(ResetStNum)\n",
            "help(NxtStateStr)\n",
            "\n",
            "You may use any of these help commands:\n",
            "help(mkp_dfa)\n",
            "help(mk_dfa)\n",
            "help(totalize_dfa)\n",
            "help(addtosigma_delta)\n",
            "help(step_dfa)\n",
            "help(run_dfa)\n",
            "help(accepts_dfa)\n",
            "help(comp_dfa)\n",
            "help(union_dfa)\n",
            "help(intersect_dfa)\n",
            "help(pruneUnreach)\n",
            "help(iso_dfa)\n",
            "help(langeq_dfa)\n",
            "help(same_status)\n",
            "help(h_langeq_dfa)\n",
            "help(fixptDist)\n",
            "help(min_dfa)\n",
            "help(pairFR)\n",
            "help(state_combos)\n",
            "help(sepFinNonFin)\n",
            "help(bash_eql_classes)\n",
            "help(listminus)\n",
            "help(bash_1)\n",
            "help(mk_rep_eqc)\n",
            "help(F_of)\n",
            "help(rep_of_s)\n",
            "help(q0_of)\n",
            "help(Delta_of)\n",
            "help(mk_state_eqc_name)\n",
            "\n"
          ],
          "name": "stdout"
        }
      ]
    },
    {
      "cell_type": "code",
      "metadata": {
        "colab": {
          "base_uri": "https://localhost:8080/"
        },
        "id": "GTIxtxdo-aF6",
        "outputId": "fc10a2d6-a525-400c-ec0b-b95602ca0c29"
      },
      "source": [
        "odd0Even1 = md2mc('''\n",
        "DFA\n",
        "\n",
        "!! DFA that accepts so long as the string seen so far \n",
        "!! has odd0s and even1s (in any order)\n",
        "\n",
        "!! State design: I'll tag along letters \"EO, OE, etc.\"\n",
        "!! to indicate parity of 0's and 1's\n",
        "\n",
        "I_EE : 0 -> F_OE\n",
        "I_EE : 1 -> S_EO\n",
        "\n",
        "S_EO : 0 -> S_OO\n",
        "S_EO : 1 -> I_EE\n",
        "\n",
        "F_OE : 0 -> I_EE\n",
        "F_OE : 1 -> S_OO\n",
        "\n",
        "S_OO : 0 -> S_EO\n",
        "S_OO : 1 -> F_OE\n",
        "\n",
        "''')"
      ],
      "execution_count": 2,
      "outputs": [
        {
          "output_type": "stream",
          "text": [
            "Generating LALR tables\n"
          ],
          "name": "stderr"
        }
      ]
    },
    {
      "cell_type": "code",
      "metadata": {
        "colab": {
          "base_uri": "https://localhost:8080/",
          "height": 196
        },
        "id": "udLFtBZC-aF6",
        "outputId": "0a4b21dd-d69d-41e6-ae6d-443b09eabac9"
      },
      "source": [
        "dotObj_dfa(odd0Even1)"
      ],
      "execution_count": 3,
      "outputs": [
        {
          "output_type": "execute_result",
          "data": {
            "text/plain": [
              "<graphviz.dot.Digraph at 0x7fd87bcb6470>"
            ],
            "image/svg+xml": "<?xml version=\"1.0\" encoding=\"UTF-8\" standalone=\"no\"?>\n<!DOCTYPE svg PUBLIC \"-//W3C//DTD SVG 1.1//EN\"\n \"http://www.w3.org/Graphics/SVG/1.1/DTD/svg11.dtd\">\n<!-- Generated by graphviz version 2.40.1 (20161225.0304)\n -->\n<!-- Title: %3 Pages: 1 -->\n<svg width=\"516pt\" height=\"131pt\"\n viewBox=\"0.00 0.00 516.18 131.24\" xmlns=\"http://www.w3.org/2000/svg\" xmlns:xlink=\"http://www.w3.org/1999/xlink\">\n<g id=\"graph0\" class=\"graph\" transform=\"scale(1 1) rotate(0) translate(4 127.2439)\">\n<title>%3</title>\n<polygon fill=\"#ffffff\" stroke=\"transparent\" points=\"-4,4 -4,-127.2439 512.1765,-127.2439 512.1765,4 -4,4\"/>\n<!-- EMPTY -->\n<g id=\"node1\" class=\"node\">\n<title>EMPTY</title>\n</g>\n<!-- I_EE -->\n<g id=\"node4\" class=\"node\">\n<title>I_EE</title>\n<ellipse fill=\"none\" stroke=\"#000000\" cx=\"121.5473\" cy=\"-37.797\" rx=\"30.5947\" ry=\"30.5947\"/>\n<text text-anchor=\"middle\" x=\"121.5473\" y=\"-34.097\" font-family=\"Times,serif\" font-size=\"14.00\" fill=\"#000000\">I_EE</text>\n</g>\n<!-- EMPTY&#45;&gt;I_EE -->\n<g id=\"edge1\" class=\"edge\">\n<title>EMPTY&#45;&gt;I_EE</title>\n<path fill=\"none\" stroke=\"#000000\" d=\"M54.0935,-37.797C62.3297,-37.797 71.5721,-37.797 80.5116,-37.797\"/>\n<polygon fill=\"#000000\" stroke=\"#000000\" points=\"80.7883,-41.2971 90.7882,-37.797 80.7882,-34.2971 80.7883,-41.2971\"/>\n</g>\n<!-- S_OO -->\n<g id=\"node2\" class=\"node\">\n<title>S_OO</title>\n<ellipse fill=\"none\" stroke=\"#000000\" cx=\"350.1355\" cy=\"-88.797\" rx=\"34.394\" ry=\"34.394\"/>\n<text text-anchor=\"middle\" x=\"350.1355\" y=\"-85.097\" font-family=\"Times,serif\" font-size=\"14.00\" fill=\"#000000\">S_OO</text>\n</g>\n<!-- S_EO -->\n<g id=\"node3\" class=\"node\">\n<title>S_EO</title>\n<ellipse fill=\"none\" stroke=\"#000000\" cx=\"233.8916\" cy=\"-88.797\" rx=\"33.5952\" ry=\"33.5952\"/>\n<text text-anchor=\"middle\" x=\"233.8916\" y=\"-85.097\" font-family=\"Times,serif\" font-size=\"14.00\" fill=\"#000000\">S_EO</text>\n</g>\n<!-- S_OO&#45;&gt;S_EO -->\n<g id=\"edge8\" class=\"edge\">\n<title>S_OO&#45;&gt;S_EO</title>\n<path fill=\"none\" stroke=\"#000000\" d=\"M318.2479,-75.7416C307.9393,-72.9074 296.4039,-71.1797 285.6886,-72.797 282.4313,-73.2886 279.0966,-73.9449 275.7663,-74.7116\"/>\n<polygon fill=\"#000000\" stroke=\"#000000\" points=\"274.6664,-71.3812 265.8714,-77.2888 276.4307,-78.1552 274.6664,-71.3812\"/>\n<text text-anchor=\"middle\" x=\"291.6886\" y=\"-76.597\" font-family=\"Times,serif\" font-size=\"14.00\" fill=\"#000000\">0 </text>\n</g>\n<!-- F_OE -->\n<g id=\"node5\" class=\"node\">\n<title>F_OE</title>\n<ellipse fill=\"none\" stroke=\"#000000\" cx=\"470.3795\" cy=\"-37.797\" rx=\"33.6165\" ry=\"33.6165\"/>\n<ellipse fill=\"none\" stroke=\"#000000\" cx=\"470.3795\" cy=\"-37.797\" rx=\"37.5951\" ry=\"37.5951\"/>\n<text text-anchor=\"middle\" x=\"470.3795\" y=\"-34.097\" font-family=\"Times,serif\" font-size=\"14.00\" fill=\"#000000\">F_OE</text>\n</g>\n<!-- S_OO&#45;&gt;F_OE -->\n<g id=\"edge9\" class=\"edge\">\n<title>S_OO&#45;&gt;F_OE</title>\n<path fill=\"none\" stroke=\"#000000\" d=\"M383.8236,-81.173C393.9048,-78.4186 404.8589,-74.9451 414.5825,-70.797 419.629,-68.6442 424.7768,-66.1146 429.8045,-63.4297\"/>\n<polygon fill=\"#000000\" stroke=\"#000000\" points=\"431.6507,-66.4076 438.6765,-58.4773 428.2388,-60.2954 431.6507,-66.4076\"/>\n<text text-anchor=\"middle\" x=\"408.5825\" y=\"-78.597\" font-family=\"Times,serif\" font-size=\"14.00\" fill=\"#000000\">1 </text>\n</g>\n<!-- S_EO&#45;&gt;S_OO -->\n<g id=\"edge4\" class=\"edge\">\n<title>S_EO&#45;&gt;S_OO</title>\n<path fill=\"none\" stroke=\"#000000\" d=\"M267.8712,-91.0469C273.8076,-91.3594 279.9261,-91.6303 285.6886,-91.797 292.0809,-91.982 298.8274,-91.9352 305.4523,-91.7509\"/>\n<polygon fill=\"#000000\" stroke=\"#000000\" points=\"305.8345,-95.239 315.6943,-91.3615 305.5685,-88.244 305.8345,-95.239\"/>\n<text text-anchor=\"middle\" x=\"291.6886\" y=\"-95.597\" font-family=\"Times,serif\" font-size=\"14.00\" fill=\"#000000\">0 </text>\n</g>\n<!-- S_EO&#45;&gt;I_EE -->\n<g id=\"edge5\" class=\"edge\">\n<title>S_EO&#45;&gt;I_EE</title>\n<path fill=\"none\" stroke=\"#000000\" d=\"M207.7017,-67.0738C199.8503,-61.4175 190.9595,-55.7958 182.0946,-51.797 175.7512,-48.9356 168.7607,-46.6273 161.8518,-44.7752\"/>\n<polygon fill=\"#000000\" stroke=\"#000000\" points=\"162.414,-41.3107 151.8729,-42.3765 160.778,-48.1168 162.414,-41.3107\"/>\n<text text-anchor=\"middle\" x=\"176.0946\" y=\"-55.597\" font-family=\"Times,serif\" font-size=\"14.00\" fill=\"#000000\">1 </text>\n</g>\n<!-- I_EE&#45;&gt;S_EO -->\n<g id=\"edge3\" class=\"edge\">\n<title>I_EE&#45;&gt;S_EO</title>\n<path fill=\"none\" stroke=\"#000000\" d=\"M145.8253,-56.5427C153.3121,-61.6948 161.7806,-66.9235 170.0946,-70.797 176.6926,-73.871 183.9247,-76.5249 191.0747,-78.7785\"/>\n<polygon fill=\"#000000\" stroke=\"#000000\" points=\"190.1258,-82.1475 200.7067,-81.6054 192.0971,-75.4308 190.1258,-82.1475\"/>\n<text text-anchor=\"middle\" x=\"176.0946\" y=\"-78.597\" font-family=\"Times,serif\" font-size=\"14.00\" fill=\"#000000\">1 </text>\n</g>\n<!-- I_EE&#45;&gt;F_OE -->\n<g id=\"edge2\" class=\"edge\">\n<title>I_EE&#45;&gt;F_OE</title>\n<path fill=\"none\" stroke=\"#000000\" d=\"M152.1981,-37.797C212.9674,-37.797 349.1368,-37.797 422.0756,-37.797\"/>\n<polygon fill=\"#000000\" stroke=\"#000000\" points=\"422.3618,-41.2971 432.3618,-37.797 422.3618,-34.2971 422.3618,-41.2971\"/>\n<text text-anchor=\"middle\" x=\"291.6886\" y=\"-41.597\" font-family=\"Times,serif\" font-size=\"14.00\" fill=\"#000000\">0 </text>\n</g>\n<!-- F_OE&#45;&gt;S_OO -->\n<g id=\"edge7\" class=\"edge\">\n<title>F_OE&#45;&gt;S_OO</title>\n<path fill=\"none\" stroke=\"#000000\" d=\"M433.0992,-45.5377C422.9873,-48.2139 412.1853,-51.6169 402.5825,-55.797 397.4656,-58.0244 392.2689,-60.7041 387.2349,-63.5614\"/>\n<polygon fill=\"#000000\" stroke=\"#000000\" points=\"385.1924,-60.7045 378.4016,-68.8369 388.7816,-66.7143 385.1924,-60.7045\"/>\n<text text-anchor=\"middle\" x=\"408.5825\" y=\"-59.597\" font-family=\"Times,serif\" font-size=\"14.00\" fill=\"#000000\">1 </text>\n</g>\n<!-- F_OE&#45;&gt;I_EE -->\n<g id=\"edge6\" class=\"edge\">\n<title>F_OE&#45;&gt;I_EE</title>\n<path fill=\"none\" stroke=\"#000000\" d=\"M432.9634,-30.4095C395.709,-23.8897 336.855,-15.8455 285.6886,-18.797 243.4359,-21.2343 195.3686,-27.1727 162.2218,-31.7674\"/>\n<polygon fill=\"#000000\" stroke=\"#000000\" points=\"161.4244,-28.345 152.0104,-33.2058 162.4008,-35.2766 161.4244,-28.345\"/>\n<text text-anchor=\"middle\" x=\"291.6886\" y=\"-22.597\" font-family=\"Times,serif\" font-size=\"14.00\" fill=\"#000000\">0 </text>\n</g>\n</g>\n</svg>\n"
          },
          "metadata": {
            "tags": []
          },
          "execution_count": 3
        }
      ]
    },
    {
      "cell_type": "code",
      "metadata": {
        "id": "qV8e7Wom-aF6"
      },
      "source": [
        "# Now arrive at this via DFA intersection\n",
        "\n",
        "Odd0 = md2mc('''\n",
        "DFA\n",
        "I : 1 -> I\n",
        "I : 0 -> F\n",
        "\n",
        "F : 1 -> F\n",
        "F : 0 -> I\n",
        "''')\n",
        "\n",
        "Even1 = md2mc('''\n",
        "DFA\n",
        "IF : 0 -> IF\n",
        "IF : 1 -> S\n",
        "\n",
        "S : 0 -> S\n",
        "S : 1 -> IF\n",
        "''')\n",
        "\n",
        "Odd0_and_Even1 = intersect_dfa(Odd0, Even1)"
      ],
      "execution_count": 4,
      "outputs": []
    },
    {
      "cell_type": "code",
      "metadata": {
        "colab": {
          "base_uri": "https://localhost:8080/",
          "height": 135
        },
        "id": "2gRiJZEy-aF7",
        "outputId": "8ecf19b1-0e1e-42b5-e04e-739ea3787e58"
      },
      "source": [
        "dotObj_dfa(Odd0)"
      ],
      "execution_count": 5,
      "outputs": [
        {
          "output_type": "execute_result",
          "data": {
            "text/plain": [
              "<graphviz.dot.Digraph at 0x7fd87cb68ef0>"
            ],
            "image/svg+xml": "<?xml version=\"1.0\" encoding=\"UTF-8\" standalone=\"no\"?>\n<!DOCTYPE svg PUBLIC \"-//W3C//DTD SVG 1.1//EN\"\n \"http://www.w3.org/Graphics/SVG/1.1/DTD/svg11.dtd\">\n<!-- Generated by graphviz version 2.40.1 (20161225.0304)\n -->\n<!-- Title: %3 Pages: 1 -->\n<svg width=\"227pt\" height=\"85pt\"\n viewBox=\"0.00 0.00 227.00 85.00\" xmlns=\"http://www.w3.org/2000/svg\" xmlns:xlink=\"http://www.w3.org/1999/xlink\">\n<g id=\"graph0\" class=\"graph\" transform=\"scale(1 1) rotate(0) translate(4 81)\">\n<title>%3</title>\n<polygon fill=\"#ffffff\" stroke=\"transparent\" points=\"-4,4 -4,-81 223,-81 223,4 -4,4\"/>\n<!-- EMPTY -->\n<g id=\"node1\" class=\"node\">\n<title>EMPTY</title>\n</g>\n<!-- I -->\n<g id=\"node2\" class=\"node\">\n<title>I</title>\n<ellipse fill=\"none\" stroke=\"#000000\" cx=\"109\" cy=\"-22\" rx=\"18\" ry=\"18\"/>\n<text text-anchor=\"middle\" x=\"109\" y=\"-18.3\" font-family=\"Times,serif\" font-size=\"14.00\" fill=\"#000000\">I</text>\n</g>\n<!-- EMPTY&#45;&gt;I -->\n<g id=\"edge1\" class=\"edge\">\n<title>EMPTY&#45;&gt;I</title>\n<path fill=\"none\" stroke=\"#000000\" d=\"M54.3048,-22C62.6909,-22 71.9407,-22 80.4103,-22\"/>\n<polygon fill=\"#000000\" stroke=\"#000000\" points=\"80.5976,-25.5001 90.5976,-22 80.5976,-18.5001 80.5976,-25.5001\"/>\n</g>\n<!-- I&#45;&gt;I -->\n<g id=\"edge2\" class=\"edge\">\n<title>I&#45;&gt;I</title>\n<path fill=\"none\" stroke=\"#000000\" d=\"M102.6208,-39.0373C101.3189,-48.8579 103.4453,-58 109,-58 112.4717,-58 114.6042,-54.4289 115.3975,-49.3529\"/>\n<polygon fill=\"#000000\" stroke=\"#000000\" points=\"118.8971,-49.031 115.3792,-39.0373 111.8971,-49.0435 118.8971,-49.031\"/>\n<text text-anchor=\"middle\" x=\"109\" y=\"-61.8\" font-family=\"Times,serif\" font-size=\"14.00\" fill=\"#000000\">1 </text>\n</g>\n<!-- F -->\n<g id=\"node3\" class=\"node\">\n<title>F</title>\n<ellipse fill=\"none\" stroke=\"#000000\" cx=\"197\" cy=\"-22\" rx=\"18\" ry=\"18\"/>\n<ellipse fill=\"none\" stroke=\"#000000\" cx=\"197\" cy=\"-22\" rx=\"22\" ry=\"22\"/>\n<text text-anchor=\"middle\" x=\"197\" y=\"-18.3\" font-family=\"Times,serif\" font-size=\"14.00\" fill=\"#000000\">F</text>\n</g>\n<!-- I&#45;&gt;F -->\n<g id=\"edge3\" class=\"edge\">\n<title>I&#45;&gt;F</title>\n<path fill=\"none\" stroke=\"#000000\" d=\"M127.2337,-22C138.0103,-22 151.9708,-22 164.5692,-22\"/>\n<polygon fill=\"#000000\" stroke=\"#000000\" points=\"164.7317,-25.5001 174.7317,-22 164.7317,-18.5001 164.7317,-25.5001\"/>\n<text text-anchor=\"middle\" x=\"151\" y=\"-25.8\" font-family=\"Times,serif\" font-size=\"14.00\" fill=\"#000000\">0 </text>\n</g>\n<!-- F&#45;&gt;I -->\n<g id=\"edge5\" class=\"edge\">\n<title>F&#45;&gt;I</title>\n<path fill=\"none\" stroke=\"#000000\" d=\"M178.5288,-9.5151C168.7254,-4.3636 156.3821,-.1807 145,-3 141.0235,-3.985 137.0019,-5.4981 133.1597,-7.2497\"/>\n<polygon fill=\"#000000\" stroke=\"#000000\" points=\"131.3818,-4.2287 124.1057,-11.93 134.5962,-10.447 131.3818,-4.2287\"/>\n<text text-anchor=\"middle\" x=\"151\" y=\"-6.8\" font-family=\"Times,serif\" font-size=\"14.00\" fill=\"#000000\">0 </text>\n</g>\n<!-- F&#45;&gt;F -->\n<g id=\"edge4\" class=\"edge\">\n<title>F&#45;&gt;F</title>\n<path fill=\"none\" stroke=\"#000000\" d=\"M188.6298,-42.5808C187.4716,-52.8447 190.2617,-62 197,-62 201.3167,-62 204.0131,-58.2427 205.0891,-52.8436\"/>\n<polygon fill=\"#000000\" stroke=\"#000000\" points=\"208.595,-52.6729 205.3702,-42.5808 201.5976,-52.4812 208.595,-52.6729\"/>\n<text text-anchor=\"middle\" x=\"197\" y=\"-65.8\" font-family=\"Times,serif\" font-size=\"14.00\" fill=\"#000000\">1 </text>\n</g>\n</g>\n</svg>\n"
          },
          "metadata": {
            "tags": []
          },
          "execution_count": 5
        }
      ]
    },
    {
      "cell_type": "code",
      "metadata": {
        "colab": {
          "base_uri": "https://localhost:8080/",
          "height": 137
        },
        "id": "olSXBxgD-aF7",
        "outputId": "24db3548-6046-4684-bad0-5422954b8085"
      },
      "source": [
        "dotObj_dfa(Even1)"
      ],
      "execution_count": 6,
      "outputs": [
        {
          "output_type": "execute_result",
          "data": {
            "text/plain": [
              "<graphviz.dot.Digraph at 0x7fd87cb68c88>"
            ],
            "image/svg+xml": "<?xml version=\"1.0\" encoding=\"UTF-8\" standalone=\"no\"?>\n<!DOCTYPE svg PUBLIC \"-//W3C//DTD SVG 1.1//EN\"\n \"http://www.w3.org/Graphics/SVG/1.1/DTD/svg11.dtd\">\n<!-- Generated by graphviz version 2.40.1 (20161225.0304)\n -->\n<!-- Title: %3 Pages: 1 -->\n<svg width=\"229pt\" height=\"87pt\"\n viewBox=\"0.00 0.00 228.70 86.70\" xmlns=\"http://www.w3.org/2000/svg\" xmlns:xlink=\"http://www.w3.org/1999/xlink\">\n<g id=\"graph0\" class=\"graph\" transform=\"scale(1 1) rotate(0) translate(4 82.6967)\">\n<title>%3</title>\n<polygon fill=\"#ffffff\" stroke=\"transparent\" points=\"-4,4 -4,-82.6967 224.6967,-82.6967 224.6967,4 -4,4\"/>\n<!-- EMPTY -->\n<g id=\"node1\" class=\"node\">\n<title>EMPTY</title>\n</g>\n<!-- IF -->\n<g id=\"node3\" class=\"node\">\n<title>IF</title>\n<ellipse fill=\"none\" stroke=\"#000000\" cx=\"113.8483\" cy=\"-22.8483\" rx=\"18.724\" ry=\"18.724\"/>\n<ellipse fill=\"none\" stroke=\"#000000\" cx=\"113.8483\" cy=\"-22.8483\" rx=\"22.6977\" ry=\"22.6977\"/>\n<text text-anchor=\"middle\" x=\"113.8483\" y=\"-19.1483\" font-family=\"Times,serif\" font-size=\"14.00\" fill=\"#000000\">IF</text>\n</g>\n<!-- EMPTY&#45;&gt;IF -->\n<g id=\"edge1\" class=\"edge\">\n<title>EMPTY&#45;&gt;IF</title>\n<path fill=\"none\" stroke=\"#000000\" d=\"M54.0033,-22.8483C62.5212,-22.8483 72.0276,-22.8483 80.9112,-22.8483\"/>\n<polygon fill=\"#000000\" stroke=\"#000000\" points=\"80.9572,-26.3484 90.9572,-22.8483 80.9572,-19.3484 80.9572,-26.3484\"/>\n</g>\n<!-- S -->\n<g id=\"node2\" class=\"node\">\n<title>S</title>\n<ellipse fill=\"none\" stroke=\"#000000\" cx=\"202.6967\" cy=\"-22.8483\" rx=\"18\" ry=\"18\"/>\n<text text-anchor=\"middle\" x=\"202.6967\" y=\"-19.1483\" font-family=\"Times,serif\" font-size=\"14.00\" fill=\"#000000\">S</text>\n</g>\n<!-- S&#45;&gt;S -->\n<g id=\"edge4\" class=\"edge\">\n<title>S&#45;&gt;S</title>\n<path fill=\"none\" stroke=\"#000000\" d=\"M195.3138,-39.5124C193.6732,-49.4733 196.1342,-58.8483 202.6967,-58.8483 206.9008,-58.8483 209.4216,-55.0008 210.2591,-49.6166\"/>\n<polygon fill=\"#000000\" stroke=\"#000000\" points=\"213.7568,-49.4486 210.0795,-39.5124 206.7579,-49.5731 213.7568,-49.4486\"/>\n<text text-anchor=\"middle\" x=\"202.6967\" y=\"-62.6483\" font-family=\"Times,serif\" font-size=\"14.00\" fill=\"#000000\">0 </text>\n</g>\n<!-- S&#45;&gt;IF -->\n<g id=\"edge5\" class=\"edge\">\n<title>S&#45;&gt;IF</title>\n<path fill=\"none\" stroke=\"#000000\" d=\"M187.591,-12.7783C181.3899,-9.2165 173.968,-5.6494 166.6967,-3.8483 158.7114,-1.8704 150.249,-3.2602 142.4914,-6.0127\"/>\n<polygon fill=\"#000000\" stroke=\"#000000\" points=\"140.9096,-2.8838 133.131,-10.0771 143.6976,-9.3046 140.9096,-2.8838\"/>\n<text text-anchor=\"middle\" x=\"160.6967\" y=\"-7.6483\" font-family=\"Times,serif\" font-size=\"14.00\" fill=\"#000000\">1 </text>\n</g>\n<!-- IF&#45;&gt;S -->\n<g id=\"edge3\" class=\"edge\">\n<title>IF&#45;&gt;S</title>\n<path fill=\"none\" stroke=\"#000000\" d=\"M136.729,-22.8483C148.2615,-22.8483 162.3498,-22.8483 174.5414,-22.8483\"/>\n<polygon fill=\"#000000\" stroke=\"#000000\" points=\"174.655,-26.3484 184.655,-22.8483 174.6549,-19.3484 174.655,-26.3484\"/>\n<text text-anchor=\"middle\" x=\"160.6967\" y=\"-26.6483\" font-family=\"Times,serif\" font-size=\"14.00\" fill=\"#000000\">1 </text>\n</g>\n<!-- IF&#45;&gt;IF -->\n<g id=\"edge2\" class=\"edge\">\n<title>IF&#45;&gt;IF</title>\n<path fill=\"none\" stroke=\"#000000\" d=\"M106.4966,-44.7016C105.6946,-54.8392 108.1452,-63.6967 113.8483,-63.6967 117.5019,-63.6967 119.8206,-60.0616 120.8045,-54.7835\"/>\n<polygon fill=\"#000000\" stroke=\"#000000\" points=\"124.3052,-54.8311 121.2,-44.7016 117.3106,-54.5566 124.3052,-54.8311\"/>\n<text text-anchor=\"middle\" x=\"113.8483\" y=\"-67.4967\" font-family=\"Times,serif\" font-size=\"14.00\" fill=\"#000000\">0 </text>\n</g>\n</g>\n</svg>\n"
          },
          "metadata": {
            "tags": []
          },
          "execution_count": 6
        }
      ]
    },
    {
      "cell_type": "code",
      "metadata": {
        "colab": {
          "base_uri": "https://localhost:8080/",
          "height": 215
        },
        "id": "U8cJe81z-aF7",
        "outputId": "1a1cd790-368e-4f51-b17b-1fdd9807fbc1"
      },
      "source": [
        "dotObj_dfa(Odd0_and_Even1)"
      ],
      "execution_count": 7,
      "outputs": [
        {
          "output_type": "execute_result",
          "data": {
            "text/plain": [
              "<graphviz.dot.Digraph at 0x7fd87cb68fd0>"
            ],
            "image/svg+xml": "<?xml version=\"1.0\" encoding=\"UTF-8\" standalone=\"no\"?>\n<!DOCTYPE svg PUBLIC \"-//W3C//DTD SVG 1.1//EN\"\n \"http://www.w3.org/Graphics/SVG/1.1/DTD/svg11.dtd\">\n<!-- Generated by graphviz version 2.40.1 (20161225.0304)\n -->\n<!-- Title: %3 Pages: 1 -->\n<svg width=\"511pt\" height=\"145pt\"\n viewBox=\"0.00 0.00 510.98 144.86\" xmlns=\"http://www.w3.org/2000/svg\" xmlns:xlink=\"http://www.w3.org/1999/xlink\">\n<g id=\"graph0\" class=\"graph\" transform=\"scale(1 1) rotate(0) translate(4 140.8644)\">\n<title>%3</title>\n<polygon fill=\"#ffffff\" stroke=\"transparent\" points=\"-4,4 -4,-140.8644 506.9769,-140.8644 506.9769,4 -4,4\"/>\n<!-- EMPTY -->\n<g id=\"node1\" class=\"node\">\n<title>EMPTY</title>\n</g>\n<!-- \\(I_IF\\) -->\n<g id=\"node4\" class=\"node\">\n<title>\\(I_IF\\)</title>\n<ellipse fill=\"none\" stroke=\"#000000\" cx=\"123.4971\" cy=\"-54.3673\" rx=\"32.4942\" ry=\"32.4942\"/>\n<text text-anchor=\"middle\" x=\"123.4971\" y=\"-50.6673\" font-family=\"Times,serif\" font-size=\"14.00\" fill=\"#000000\">(I_IF)</text>\n</g>\n<!-- EMPTY&#45;&gt;\\(I_IF\\) -->\n<g id=\"edge1\" class=\"edge\">\n<title>EMPTY&#45;&gt;\\(I_IF\\)</title>\n<path fill=\"none\" stroke=\"#000000\" d=\"M54.1366,-54.3673C62.3991,-54.3673 71.6905,-54.3673 80.7226,-54.3673\"/>\n<polygon fill=\"#000000\" stroke=\"#000000\" points=\"80.7414,-57.8674 90.7413,-54.3673 80.7413,-50.8674 80.7414,-57.8674\"/>\n</g>\n<!-- \\(F_S\\) -->\n<g id=\"node2\" class=\"node\">\n<title>\\(F_S\\)</title>\n<ellipse fill=\"none\" stroke=\"#000000\" cx=\"344.286\" cy=\"-104.3673\" rx=\"32.4942\" ry=\"32.4942\"/>\n<text text-anchor=\"middle\" x=\"344.286\" y=\"-100.6673\" font-family=\"Times,serif\" font-size=\"14.00\" fill=\"#000000\">(F_S)</text>\n</g>\n<!-- \\(I_S\\) -->\n<g id=\"node3\" class=\"node\">\n<title>\\(I_S\\)</title>\n<ellipse fill=\"none\" stroke=\"#000000\" cx=\"233.8916\" cy=\"-103.3673\" rx=\"29.795\" ry=\"29.795\"/>\n<text text-anchor=\"middle\" x=\"233.8916\" y=\"-99.6673\" font-family=\"Times,serif\" font-size=\"14.00\" fill=\"#000000\">(I_S)</text>\n</g>\n<!-- \\(F_S\\)&#45;&gt;\\(I_S\\) -->\n<g id=\"edge6\" class=\"edge\">\n<title>\\(F_S\\)&#45;&gt;\\(I_S\\)</title>\n<path fill=\"none\" stroke=\"#000000\" d=\"M312.9355,-95.3875C303.0152,-93.4786 291.9805,-92.3147 281.7889,-93.3673 278.9371,-93.6618 276.0047,-94.0525 273.0626,-94.5088\"/>\n<polygon fill=\"#000000\" stroke=\"#000000\" points=\"272.3612,-91.0785 263.125,-96.2692 273.5822,-97.9712 272.3612,-91.0785\"/>\n<text text-anchor=\"middle\" x=\"287.7889\" y=\"-97.1673\" font-family=\"Times,serif\" font-size=\"14.00\" fill=\"#000000\">0 </text>\n</g>\n<!-- \\(F_IF\\) -->\n<g id=\"node5\" class=\"node\">\n<title>\\(F_IF\\)</title>\n<ellipse fill=\"none\" stroke=\"#000000\" cx=\"463.88\" cy=\"-54.3673\" rx=\"35.1841\" ry=\"35.1841\"/>\n<ellipse fill=\"none\" stroke=\"#000000\" cx=\"463.88\" cy=\"-54.3673\" rx=\"39.194\" ry=\"39.194\"/>\n<text text-anchor=\"middle\" x=\"463.88\" y=\"-50.6673\" font-family=\"Times,serif\" font-size=\"14.00\" fill=\"#000000\">(F_IF)</text>\n</g>\n<!-- \\(F_S\\)&#45;&gt;\\(F_IF\\) -->\n<g id=\"edge7\" class=\"edge\">\n<title>\\(F_S\\)&#45;&gt;\\(F_IF\\)</title>\n<path fill=\"none\" stroke=\"#000000\" d=\"M376.2919,-97.36C386.243,-94.7331 397.1304,-91.3896 406.7832,-87.3673 411.8031,-85.2754 416.9259,-82.8238 421.9406,-80.2178\"/>\n<polygon fill=\"#000000\" stroke=\"#000000\" points=\"423.6866,-83.2524 430.8046,-75.4048 420.3463,-77.1008 423.6866,-83.2524\"/>\n<text text-anchor=\"middle\" x=\"400.7832\" y=\"-95.1673\" font-family=\"Times,serif\" font-size=\"14.00\" fill=\"#000000\">1 </text>\n</g>\n<!-- \\(I_S\\)&#45;&gt;\\(F_S\\) -->\n<g id=\"edge9\" class=\"edge\">\n<title>\\(I_S\\)&#45;&gt;\\(F_S\\)</title>\n<path fill=\"none\" stroke=\"#000000\" d=\"M263.7479,-106.9684C269.7148,-107.5514 275.9444,-108.0631 281.7889,-108.3673 288.2018,-108.7011 294.9822,-108.668 301.6192,-108.4194\"/>\n<polygon fill=\"#000000\" stroke=\"#000000\" points=\"302.058,-111.9011 311.8574,-107.8734 301.6851,-104.911 302.058,-111.9011\"/>\n<text text-anchor=\"middle\" x=\"287.7889\" y=\"-112.1673\" font-family=\"Times,serif\" font-size=\"14.00\" fill=\"#000000\">0 </text>\n</g>\n<!-- \\(I_S\\)&#45;&gt;\\(I_IF\\) -->\n<g id=\"edge4\" class=\"edge\">\n<title>\\(I_S\\)&#45;&gt;\\(I_IF\\)</title>\n<path fill=\"none\" stroke=\"#000000\" d=\"M211.2176,-83.8616C203.6111,-78.1462 194.8112,-72.3653 185.9942,-68.3673 179.6667,-65.4981 172.7047,-63.1955 165.795,-61.3538\"/>\n<polygon fill=\"#000000\" stroke=\"#000000\" points=\"166.3274,-57.8828 155.7888,-58.973 164.7071,-64.6927 166.3274,-57.8828\"/>\n<text text-anchor=\"middle\" x=\"179.9942\" y=\"-72.1673\" font-family=\"Times,serif\" font-size=\"14.00\" fill=\"#000000\">1 </text>\n</g>\n<!-- \\(I_IF\\)&#45;&gt;\\(I_S\\) -->\n<g id=\"edge2\" class=\"edge\">\n<title>\\(I_IF\\)&#45;&gt;\\(I_S\\)</title>\n<path fill=\"none\" stroke=\"#000000\" d=\"M149.8467,-73.8391C157.3727,-78.7662 165.7701,-83.6953 173.9942,-87.3673 180.3995,-90.2272 187.4255,-92.6679 194.3409,-94.7175\"/>\n<polygon fill=\"#000000\" stroke=\"#000000\" points=\"193.7395,-98.1815 204.3086,-97.4439 195.5864,-91.4295 193.7395,-98.1815\"/>\n<text text-anchor=\"middle\" x=\"179.9942\" y=\"-95.1673\" font-family=\"Times,serif\" font-size=\"14.00\" fill=\"#000000\">1 </text>\n</g>\n<!-- \\(I_IF\\)&#45;&gt;\\(F_IF\\) -->\n<g id=\"edge8\" class=\"edge\">\n<title>\\(I_IF\\)&#45;&gt;\\(F_IF\\)</title>\n<path fill=\"none\" stroke=\"#000000\" d=\"M156.1345,-54.3673C215.9612,-54.3673 343.5221,-54.3673 414.1845,-54.3673\"/>\n<polygon fill=\"#000000\" stroke=\"#000000\" points=\"414.6001,-57.8674 424.6001,-54.3673 414.6001,-50.8674 414.6001,-57.8674\"/>\n<text text-anchor=\"middle\" x=\"287.7889\" y=\"-58.1673\" font-family=\"Times,serif\" font-size=\"14.00\" fill=\"#000000\">0 </text>\n</g>\n<!-- \\(F_IF\\)&#45;&gt;\\(F_S\\) -->\n<g id=\"edge3\" class=\"edge\">\n<title>\\(F_IF\\)&#45;&gt;\\(F_S\\)</title>\n<path fill=\"none\" stroke=\"#000000\" d=\"M425.5134,-62.1119C415.3116,-64.7739 404.4475,-68.1688 394.7832,-72.3673 389.726,-74.5643 384.5931,-77.2275 379.6337,-80.0689\"/>\n<polygon fill=\"#000000\" stroke=\"#000000\" points=\"377.6994,-77.1482 370.9481,-85.3134 381.3177,-83.1406 377.6994,-77.1482\"/>\n<text text-anchor=\"middle\" x=\"400.7832\" y=\"-76.1673\" font-family=\"Times,serif\" font-size=\"14.00\" fill=\"#000000\">1 </text>\n</g>\n<!-- \\(F_IF\\)&#45;&gt;\\(I_IF\\) -->\n<g id=\"edge5\" class=\"edge\">\n<title>\\(F_IF\\)&#45;&gt;\\(I_IF\\)</title>\n<path fill=\"none\" stroke=\"#000000\" d=\"M429.8679,-34.5004C422.4346,-30.7293 414.4832,-27.111 406.7832,-24.3673 363.4796,-8.9374 328.3096,3.5405 281.7889,-1.3673 233.0721,-6.5068 219.6104,-6.5094 173.9942,-24.3673 169.1337,-26.2701 164.198,-28.6114 159.4115,-31.1397\"/>\n<polygon fill=\"#000000\" stroke=\"#000000\" points=\"157.4594,-28.2217 150.4498,-36.1663 160.8838,-34.3269 157.4594,-28.2217\"/>\n<text text-anchor=\"middle\" x=\"287.7889\" y=\"-5.1673\" font-family=\"Times,serif\" font-size=\"14.00\" fill=\"#000000\">0 </text>\n</g>\n</g>\n</svg>\n"
          },
          "metadata": {
            "tags": []
          },
          "execution_count": 7
        }
      ]
    },
    {
      "cell_type": "markdown",
      "metadata": {
        "id": "MaOsRIee-aF7"
      },
      "source": [
        "# Now you do the union of Odd0 and Even1\n",
        "## Then try it via DeMorgan's law"
      ]
    },
    {
      "cell_type": "code",
      "metadata": {
        "colab": {
          "base_uri": "https://localhost:8080/",
          "height": 215
        },
        "id": "Bx9WUp2i_XDX",
        "outputId": "363240e9-43e1-416d-dffe-b23ef68c538b"
      },
      "source": [
        "# DeMorgan's law for AND\r\n",
        "C_Odd0 = comp_dfa(Odd0)\r\n",
        "C_Even1 = comp_dfa(Even1)\r\n",
        "\r\n",
        "C_C_Odd0_or_C_Even_1 = comp_dfa(union_dfa(C_Odd0, C_Even1))\r\n",
        "dotObj_dfa(C_C_Odd0_or_C_Even_1)"
      ],
      "execution_count": 15,
      "outputs": [
        {
          "output_type": "execute_result",
          "data": {
            "text/plain": [
              "<graphviz.dot.Digraph at 0x7fd87b8d8278>"
            ],
            "image/svg+xml": "<?xml version=\"1.0\" encoding=\"UTF-8\" standalone=\"no\"?>\n<!DOCTYPE svg PUBLIC \"-//W3C//DTD SVG 1.1//EN\"\n \"http://www.w3.org/Graphics/SVG/1.1/DTD/svg11.dtd\">\n<!-- Generated by graphviz version 2.40.1 (20161225.0304)\n -->\n<!-- Title: %3 Pages: 1 -->\n<svg width=\"511pt\" height=\"145pt\"\n viewBox=\"0.00 0.00 510.98 144.86\" xmlns=\"http://www.w3.org/2000/svg\" xmlns:xlink=\"http://www.w3.org/1999/xlink\">\n<g id=\"graph0\" class=\"graph\" transform=\"scale(1 1) rotate(0) translate(4 140.8644)\">\n<title>%3</title>\n<polygon fill=\"#ffffff\" stroke=\"transparent\" points=\"-4,4 -4,-140.8644 506.9769,-140.8644 506.9769,4 -4,4\"/>\n<!-- EMPTY -->\n<g id=\"node1\" class=\"node\">\n<title>EMPTY</title>\n</g>\n<!-- \\(I_IF\\) -->\n<g id=\"node4\" class=\"node\">\n<title>\\(I_IF\\)</title>\n<ellipse fill=\"none\" stroke=\"#000000\" cx=\"123.4971\" cy=\"-54.3673\" rx=\"32.4942\" ry=\"32.4942\"/>\n<text text-anchor=\"middle\" x=\"123.4971\" y=\"-50.6673\" font-family=\"Times,serif\" font-size=\"14.00\" fill=\"#000000\">(I_IF)</text>\n</g>\n<!-- EMPTY&#45;&gt;\\(I_IF\\) -->\n<g id=\"edge1\" class=\"edge\">\n<title>EMPTY&#45;&gt;\\(I_IF\\)</title>\n<path fill=\"none\" stroke=\"#000000\" d=\"M54.1366,-54.3673C62.3991,-54.3673 71.6905,-54.3673 80.7226,-54.3673\"/>\n<polygon fill=\"#000000\" stroke=\"#000000\" points=\"80.7414,-57.8674 90.7413,-54.3673 80.7413,-50.8674 80.7414,-57.8674\"/>\n</g>\n<!-- \\(F_S\\) -->\n<g id=\"node2\" class=\"node\">\n<title>\\(F_S\\)</title>\n<ellipse fill=\"none\" stroke=\"#000000\" cx=\"344.286\" cy=\"-104.3673\" rx=\"32.4942\" ry=\"32.4942\"/>\n<text text-anchor=\"middle\" x=\"344.286\" y=\"-100.6673\" font-family=\"Times,serif\" font-size=\"14.00\" fill=\"#000000\">(F_S)</text>\n</g>\n<!-- \\(I_S\\) -->\n<g id=\"node3\" class=\"node\">\n<title>\\(I_S\\)</title>\n<ellipse fill=\"none\" stroke=\"#000000\" cx=\"233.8916\" cy=\"-103.3673\" rx=\"29.795\" ry=\"29.795\"/>\n<text text-anchor=\"middle\" x=\"233.8916\" y=\"-99.6673\" font-family=\"Times,serif\" font-size=\"14.00\" fill=\"#000000\">(I_S)</text>\n</g>\n<!-- \\(F_S\\)&#45;&gt;\\(I_S\\) -->\n<g id=\"edge6\" class=\"edge\">\n<title>\\(F_S\\)&#45;&gt;\\(I_S\\)</title>\n<path fill=\"none\" stroke=\"#000000\" d=\"M312.9355,-95.3875C303.0152,-93.4786 291.9805,-92.3147 281.7889,-93.3673 278.9371,-93.6618 276.0047,-94.0525 273.0626,-94.5088\"/>\n<polygon fill=\"#000000\" stroke=\"#000000\" points=\"272.3612,-91.0785 263.125,-96.2692 273.5822,-97.9712 272.3612,-91.0785\"/>\n<text text-anchor=\"middle\" x=\"287.7889\" y=\"-97.1673\" font-family=\"Times,serif\" font-size=\"14.00\" fill=\"#000000\">0 </text>\n</g>\n<!-- \\(F_IF\\) -->\n<g id=\"node5\" class=\"node\">\n<title>\\(F_IF\\)</title>\n<ellipse fill=\"none\" stroke=\"#000000\" cx=\"463.88\" cy=\"-54.3673\" rx=\"35.1841\" ry=\"35.1841\"/>\n<ellipse fill=\"none\" stroke=\"#000000\" cx=\"463.88\" cy=\"-54.3673\" rx=\"39.194\" ry=\"39.194\"/>\n<text text-anchor=\"middle\" x=\"463.88\" y=\"-50.6673\" font-family=\"Times,serif\" font-size=\"14.00\" fill=\"#000000\">(F_IF)</text>\n</g>\n<!-- \\(F_S\\)&#45;&gt;\\(F_IF\\) -->\n<g id=\"edge7\" class=\"edge\">\n<title>\\(F_S\\)&#45;&gt;\\(F_IF\\)</title>\n<path fill=\"none\" stroke=\"#000000\" d=\"M376.2919,-97.36C386.243,-94.7331 397.1304,-91.3896 406.7832,-87.3673 411.8031,-85.2754 416.9259,-82.8238 421.9406,-80.2178\"/>\n<polygon fill=\"#000000\" stroke=\"#000000\" points=\"423.6866,-83.2524 430.8046,-75.4048 420.3463,-77.1008 423.6866,-83.2524\"/>\n<text text-anchor=\"middle\" x=\"400.7832\" y=\"-95.1673\" font-family=\"Times,serif\" font-size=\"14.00\" fill=\"#000000\">1 </text>\n</g>\n<!-- \\(I_S\\)&#45;&gt;\\(F_S\\) -->\n<g id=\"edge9\" class=\"edge\">\n<title>\\(I_S\\)&#45;&gt;\\(F_S\\)</title>\n<path fill=\"none\" stroke=\"#000000\" d=\"M263.7479,-106.9684C269.7148,-107.5514 275.9444,-108.0631 281.7889,-108.3673 288.2018,-108.7011 294.9822,-108.668 301.6192,-108.4194\"/>\n<polygon fill=\"#000000\" stroke=\"#000000\" points=\"302.058,-111.9011 311.8574,-107.8734 301.6851,-104.911 302.058,-111.9011\"/>\n<text text-anchor=\"middle\" x=\"287.7889\" y=\"-112.1673\" font-family=\"Times,serif\" font-size=\"14.00\" fill=\"#000000\">0 </text>\n</g>\n<!-- \\(I_S\\)&#45;&gt;\\(I_IF\\) -->\n<g id=\"edge4\" class=\"edge\">\n<title>\\(I_S\\)&#45;&gt;\\(I_IF\\)</title>\n<path fill=\"none\" stroke=\"#000000\" d=\"M211.2176,-83.8616C203.6111,-78.1462 194.8112,-72.3653 185.9942,-68.3673 179.6667,-65.4981 172.7047,-63.1955 165.795,-61.3538\"/>\n<polygon fill=\"#000000\" stroke=\"#000000\" points=\"166.3274,-57.8828 155.7888,-58.973 164.7071,-64.6927 166.3274,-57.8828\"/>\n<text text-anchor=\"middle\" x=\"179.9942\" y=\"-72.1673\" font-family=\"Times,serif\" font-size=\"14.00\" fill=\"#000000\">1 </text>\n</g>\n<!-- \\(I_IF\\)&#45;&gt;\\(I_S\\) -->\n<g id=\"edge2\" class=\"edge\">\n<title>\\(I_IF\\)&#45;&gt;\\(I_S\\)</title>\n<path fill=\"none\" stroke=\"#000000\" d=\"M149.8467,-73.8391C157.3727,-78.7662 165.7701,-83.6953 173.9942,-87.3673 180.3995,-90.2272 187.4255,-92.6679 194.3409,-94.7175\"/>\n<polygon fill=\"#000000\" stroke=\"#000000\" points=\"193.7395,-98.1815 204.3086,-97.4439 195.5864,-91.4295 193.7395,-98.1815\"/>\n<text text-anchor=\"middle\" x=\"179.9942\" y=\"-95.1673\" font-family=\"Times,serif\" font-size=\"14.00\" fill=\"#000000\">1 </text>\n</g>\n<!-- \\(I_IF\\)&#45;&gt;\\(F_IF\\) -->\n<g id=\"edge8\" class=\"edge\">\n<title>\\(I_IF\\)&#45;&gt;\\(F_IF\\)</title>\n<path fill=\"none\" stroke=\"#000000\" d=\"M156.1345,-54.3673C215.9612,-54.3673 343.5221,-54.3673 414.1845,-54.3673\"/>\n<polygon fill=\"#000000\" stroke=\"#000000\" points=\"414.6001,-57.8674 424.6001,-54.3673 414.6001,-50.8674 414.6001,-57.8674\"/>\n<text text-anchor=\"middle\" x=\"287.7889\" y=\"-58.1673\" font-family=\"Times,serif\" font-size=\"14.00\" fill=\"#000000\">0 </text>\n</g>\n<!-- \\(F_IF\\)&#45;&gt;\\(F_S\\) -->\n<g id=\"edge3\" class=\"edge\">\n<title>\\(F_IF\\)&#45;&gt;\\(F_S\\)</title>\n<path fill=\"none\" stroke=\"#000000\" d=\"M425.5134,-62.1119C415.3116,-64.7739 404.4475,-68.1688 394.7832,-72.3673 389.726,-74.5643 384.5931,-77.2275 379.6337,-80.0689\"/>\n<polygon fill=\"#000000\" stroke=\"#000000\" points=\"377.6994,-77.1482 370.9481,-85.3134 381.3177,-83.1406 377.6994,-77.1482\"/>\n<text text-anchor=\"middle\" x=\"400.7832\" y=\"-76.1673\" font-family=\"Times,serif\" font-size=\"14.00\" fill=\"#000000\">1 </text>\n</g>\n<!-- \\(F_IF\\)&#45;&gt;\\(I_IF\\) -->\n<g id=\"edge5\" class=\"edge\">\n<title>\\(F_IF\\)&#45;&gt;\\(I_IF\\)</title>\n<path fill=\"none\" stroke=\"#000000\" d=\"M429.8679,-34.5004C422.4346,-30.7293 414.4832,-27.111 406.7832,-24.3673 363.4796,-8.9374 328.3096,3.5405 281.7889,-1.3673 233.0721,-6.5068 219.6104,-6.5094 173.9942,-24.3673 169.1337,-26.2701 164.198,-28.6114 159.4115,-31.1397\"/>\n<polygon fill=\"#000000\" stroke=\"#000000\" points=\"157.4594,-28.2217 150.4498,-36.1663 160.8838,-34.3269 157.4594,-28.2217\"/>\n<text text-anchor=\"middle\" x=\"287.7889\" y=\"-5.1673\" font-family=\"Times,serif\" font-size=\"14.00\" fill=\"#000000\">0 </text>\n</g>\n</g>\n</svg>\n"
          },
          "metadata": {
            "tags": []
          },
          "execution_count": 15
        }
      ]
    },
    {
      "cell_type": "code",
      "metadata": {
        "colab": {
          "base_uri": "https://localhost:8080/"
        },
        "id": "WrQsN4OqA7rz",
        "outputId": "9a8b6457-c208-4388-d730-d7e73d5174f5"
      },
      "source": [
        "iso_dfa(C_C_Odd0_or_C_Even_1,Odd0_and_Even1)"
      ],
      "execution_count": 17,
      "outputs": [
        {
          "output_type": "execute_result",
          "data": {
            "text/plain": [
              "True"
            ]
          },
          "metadata": {
            "tags": []
          },
          "execution_count": 17
        }
      ]
    },
    {
      "cell_type": "code",
      "metadata": {
        "colab": {
          "base_uri": "https://localhost:8080/",
          "height": 223
        },
        "id": "ckrs8Sbj_Va3",
        "outputId": "b7a62c7b-e070-4c53-8fd1-479c97c90a86"
      },
      "source": [
        "# Put your answers here:\r\n",
        "# Union algo\r\n",
        "Odd0_or_Even1 = union_dfa(Odd0, Even1)\r\n",
        "dotObj_dfa(Odd0_or_Even1)"
      ],
      "execution_count": 16,
      "outputs": [
        {
          "output_type": "execute_result",
          "data": {
            "text/plain": [
              "<graphviz.dot.Digraph at 0x7fd87b8d8208>"
            ],
            "image/svg+xml": "<?xml version=\"1.0\" encoding=\"UTF-8\" standalone=\"no\"?>\n<!DOCTYPE svg PUBLIC \"-//W3C//DTD SVG 1.1//EN\"\n \"http://www.w3.org/Graphics/SVG/1.1/DTD/svg11.dtd\">\n<!-- Generated by graphviz version 2.40.1 (20161225.0304)\n -->\n<!-- Title: %3 Pages: 1 -->\n<svg width=\"527pt\" height=\"151pt\"\n viewBox=\"0.00 0.00 526.98 151.30\" xmlns=\"http://www.w3.org/2000/svg\" xmlns:xlink=\"http://www.w3.org/1999/xlink\">\n<g id=\"graph0\" class=\"graph\" transform=\"scale(1 1) rotate(0) translate(4 147.2971)\">\n<title>%3</title>\n<polygon fill=\"#ffffff\" stroke=\"transparent\" points=\"-4,4 -4,-147.2971 522.9769,-147.2971 522.9769,4 -4,4\"/>\n<!-- EMPTY -->\n<g id=\"node1\" class=\"node\">\n<title>EMPTY</title>\n</g>\n<!-- \\(I_IF\\) -->\n<g id=\"node5\" class=\"node\">\n<title>\\(I_IF\\)</title>\n<ellipse fill=\"none\" stroke=\"#000000\" cx=\"127.4971\" cy=\"-54.7999\" rx=\"32.4945\" ry=\"32.4945\"/>\n<ellipse fill=\"none\" stroke=\"#000000\" cx=\"127.4971\" cy=\"-54.7999\" rx=\"36.4942\" ry=\"36.4942\"/>\n<text text-anchor=\"middle\" x=\"127.4971\" y=\"-51.0999\" font-family=\"Times,serif\" font-size=\"14.00\" fill=\"#000000\">(I_IF)</text>\n</g>\n<!-- EMPTY&#45;&gt;\\(I_IF\\) -->\n<g id=\"edge1\" class=\"edge\">\n<title>EMPTY&#45;&gt;\\(I_IF\\)</title>\n<path fill=\"none\" stroke=\"#000000\" d=\"M54.196,-54.7999C62.3896,-54.7999 71.6273,-54.7999 80.7132,-54.7999\"/>\n<polygon fill=\"#000000\" stroke=\"#000000\" points=\"80.8433,-58.3 90.8432,-54.7999 80.8432,-51.3 80.8433,-58.3\"/>\n</g>\n<!-- \\(I_S\\) -->\n<g id=\"node2\" class=\"node\">\n<title>\\(I_S\\)</title>\n<ellipse fill=\"none\" stroke=\"#000000\" cx=\"241.8916\" cy=\"-103.7999\" rx=\"29.795\" ry=\"29.795\"/>\n<text text-anchor=\"middle\" x=\"241.8916\" y=\"-100.0999\" font-family=\"Times,serif\" font-size=\"14.00\" fill=\"#000000\">(I_S)</text>\n</g>\n<!-- \\(F_S\\) -->\n<g id=\"node4\" class=\"node\">\n<title>\\(F_S\\)</title>\n<ellipse fill=\"none\" stroke=\"#000000\" cx=\"356.286\" cy=\"-106.7999\" rx=\"32.4945\" ry=\"32.4945\"/>\n<ellipse fill=\"none\" stroke=\"#000000\" cx=\"356.286\" cy=\"-106.7999\" rx=\"36.4942\" ry=\"36.4942\"/>\n<text text-anchor=\"middle\" x=\"356.286\" y=\"-103.0999\" font-family=\"Times,serif\" font-size=\"14.00\" fill=\"#000000\">(F_S)</text>\n</g>\n<!-- \\(I_S\\)&#45;&gt;\\(F_S\\) -->\n<g id=\"edge9\" class=\"edge\">\n<title>\\(I_S\\)&#45;&gt;\\(F_S\\)</title>\n<path fill=\"none\" stroke=\"#000000\" d=\"M271.7479,-107.4011C277.7148,-107.984 283.9444,-108.4957 289.7889,-108.7999 296.1472,-109.1309 302.8505,-109.2266 309.4554,-109.173\"/>\n<polygon fill=\"#000000\" stroke=\"#000000\" points=\"309.7584,-112.668 319.6899,-108.9783 309.6251,-105.6692 309.7584,-112.668\"/>\n<text text-anchor=\"middle\" x=\"295.7889\" y=\"-112.5999\" font-family=\"Times,serif\" font-size=\"14.00\" fill=\"#000000\">0 </text>\n</g>\n<!-- \\(I_S\\)&#45;&gt;\\(I_IF\\) -->\n<g id=\"edge4\" class=\"edge\">\n<title>\\(I_S\\)&#45;&gt;\\(I_IF\\)</title>\n<path fill=\"none\" stroke=\"#000000\" d=\"M219.2483,-84.2261C211.6434,-78.507 202.8368,-72.7411 193.9942,-68.7999 187.6954,-65.9925 180.8062,-63.7372 173.9245,-61.9283\"/>\n<polygon fill=\"#000000\" stroke=\"#000000\" points=\"174.4518,-58.4572 163.9172,-59.5851 172.8559,-65.2729 174.4518,-58.4572\"/>\n<text text-anchor=\"middle\" x=\"187.9942\" y=\"-72.5999\" font-family=\"Times,serif\" font-size=\"14.00\" fill=\"#000000\">1 </text>\n</g>\n<!-- \\(F_IF\\) -->\n<g id=\"node3\" class=\"node\">\n<title>\\(F_IF\\)</title>\n<ellipse fill=\"none\" stroke=\"#000000\" cx=\"479.88\" cy=\"-54.7999\" rx=\"35.1841\" ry=\"35.1841\"/>\n<ellipse fill=\"none\" stroke=\"#000000\" cx=\"479.88\" cy=\"-54.7999\" rx=\"39.194\" ry=\"39.194\"/>\n<text text-anchor=\"middle\" x=\"479.88\" y=\"-51.0999\" font-family=\"Times,serif\" font-size=\"14.00\" fill=\"#000000\">(F_IF)</text>\n</g>\n<!-- \\(F_IF\\)&#45;&gt;\\(F_S\\) -->\n<g id=\"edge3\" class=\"edge\">\n<title>\\(F_IF\\)&#45;&gt;\\(F_S\\)</title>\n<path fill=\"none\" stroke=\"#000000\" d=\"M441.5331,-62.5901C431.3313,-65.252 420.4622,-68.6354 410.7832,-72.7999 405.5973,-75.0312 400.3313,-77.7096 395.2196,-80.5711\"/>\n<polygon fill=\"#000000\" stroke=\"#000000\" points=\"393.0762,-77.7715 386.236,-85.8623 396.6288,-83.8031 393.0762,-77.7715\"/>\n<text text-anchor=\"middle\" x=\"416.7832\" y=\"-76.5999\" font-family=\"Times,serif\" font-size=\"14.00\" fill=\"#000000\">1 </text>\n</g>\n<!-- \\(F_IF\\)&#45;&gt;\\(I_IF\\) -->\n<g id=\"edge5\" class=\"edge\">\n<title>\\(F_IF\\)&#45;&gt;\\(I_IF\\)</title>\n<path fill=\"none\" stroke=\"#000000\" d=\"M445.8949,-34.8565C438.4598,-31.0906 430.5009,-27.4937 422.7832,-24.7999 362.5947,-3.7921 338.4337,3.3319 289.7889,-1.7999 241.0721,-6.9394 227.8976,-7.6936 181.9942,-24.7999 177.2456,-26.5696 172.4069,-28.6983 167.6707,-30.9951\"/>\n<polygon fill=\"#000000\" stroke=\"#000000\" points=\"166.045,-27.8953 158.7396,-35.5688 169.2357,-34.1259 166.045,-27.8953\"/>\n<text text-anchor=\"middle\" x=\"295.7889\" y=\"-5.5999\" font-family=\"Times,serif\" font-size=\"14.00\" fill=\"#000000\">0 </text>\n</g>\n<!-- \\(F_S\\)&#45;&gt;\\(I_S\\) -->\n<g id=\"edge6\" class=\"edge\">\n<title>\\(F_S\\)&#45;&gt;\\(I_S\\)</title>\n<path fill=\"none\" stroke=\"#000000\" d=\"M321.263,-95.9783C311.1611,-93.9403 300.0858,-92.7365 289.7889,-93.7999 286.9371,-94.0945 284.0047,-94.4851 281.0626,-94.9415\"/>\n<polygon fill=\"#000000\" stroke=\"#000000\" points=\"280.3612,-91.5112 271.125,-96.7018 281.5822,-98.4039 280.3612,-91.5112\"/>\n<text text-anchor=\"middle\" x=\"295.7889\" y=\"-97.5999\" font-family=\"Times,serif\" font-size=\"14.00\" fill=\"#000000\">0 </text>\n</g>\n<!-- \\(F_S\\)&#45;&gt;\\(F_IF\\) -->\n<g id=\"edge7\" class=\"edge\">\n<title>\\(F_S\\)&#45;&gt;\\(F_IF\\)</title>\n<path fill=\"none\" stroke=\"#000000\" d=\"M392.0454,-98.3226C402.159,-95.4605 413.0563,-91.926 422.7832,-87.7999 427.7897,-85.6762 432.9041,-83.2045 437.9139,-80.587\"/>\n<polygon fill=\"#000000\" stroke=\"#000000\" points=\"439.665,-83.6187 446.7727,-75.7618 436.3167,-77.4714 439.665,-83.6187\"/>\n<text text-anchor=\"middle\" x=\"416.7832\" y=\"-95.5999\" font-family=\"Times,serif\" font-size=\"14.00\" fill=\"#000000\">1 </text>\n</g>\n<!-- \\(I_IF\\)&#45;&gt;\\(I_S\\) -->\n<g id=\"edge2\" class=\"edge\">\n<title>\\(I_IF\\)&#45;&gt;\\(I_S\\)</title>\n<path fill=\"none\" stroke=\"#000000\" d=\"M157.8115,-75.2283C165.479,-79.8085 173.8537,-84.3317 181.9942,-87.7999 188.4477,-90.5494 195.4973,-92.9359 202.4212,-94.9661\"/>\n<polygon fill=\"#000000\" stroke=\"#000000\" points=\"201.823,-98.4307 212.3916,-97.6863 203.6655,-91.6776 201.823,-98.4307\"/>\n<text text-anchor=\"middle\" x=\"187.9942\" y=\"-95.5999\" font-family=\"Times,serif\" font-size=\"14.00\" fill=\"#000000\">1 </text>\n</g>\n<!-- \\(I_IF\\)&#45;&gt;\\(F_IF\\) -->\n<g id=\"edge8\" class=\"edge\">\n<title>\\(I_IF\\)&#45;&gt;\\(F_IF\\)</title>\n<path fill=\"none\" stroke=\"#000000\" d=\"M164.211,-54.7999C227.8885,-54.7999 358.8465,-54.7999 430.4499,-54.7999\"/>\n<polygon fill=\"#000000\" stroke=\"#000000\" points=\"430.5687,-58.3 440.5686,-54.7999 430.5686,-51.3 430.5687,-58.3\"/>\n<text text-anchor=\"middle\" x=\"295.7889\" y=\"-58.5999\" font-family=\"Times,serif\" font-size=\"14.00\" fill=\"#000000\">0 </text>\n</g>\n</g>\n</svg>\n"
          },
          "metadata": {
            "tags": []
          },
          "execution_count": 16
        }
      ]
    },
    {
      "cell_type": "code",
      "metadata": {
        "colab": {
          "base_uri": "https://localhost:8080/",
          "height": 223
        },
        "id": "6xr0eTfgDBXM",
        "outputId": "ee20b50d-c5b0-4873-91bc-ab3ccd6100a7"
      },
      "source": [
        "# DeMorgan's Law for OR\r\n",
        "C_C_Odd0_and_C_Even_1 = comp_dfa(intersect_dfa(C_Odd0, C_Even1))\r\n",
        "dotObj_dfa(C_C_Odd0_and_C_Even_1)"
      ],
      "execution_count": 18,
      "outputs": [
        {
          "output_type": "execute_result",
          "data": {
            "text/plain": [
              "<graphviz.dot.Digraph at 0x7fd87bbcf978>"
            ],
            "image/svg+xml": "<?xml version=\"1.0\" encoding=\"UTF-8\" standalone=\"no\"?>\n<!DOCTYPE svg PUBLIC \"-//W3C//DTD SVG 1.1//EN\"\n \"http://www.w3.org/Graphics/SVG/1.1/DTD/svg11.dtd\">\n<!-- Generated by graphviz version 2.40.1 (20161225.0304)\n -->\n<!-- Title: %3 Pages: 1 -->\n<svg width=\"527pt\" height=\"151pt\"\n viewBox=\"0.00 0.00 526.98 151.30\" xmlns=\"http://www.w3.org/2000/svg\" xmlns:xlink=\"http://www.w3.org/1999/xlink\">\n<g id=\"graph0\" class=\"graph\" transform=\"scale(1 1) rotate(0) translate(4 147.2971)\">\n<title>%3</title>\n<polygon fill=\"#ffffff\" stroke=\"transparent\" points=\"-4,4 -4,-147.2971 522.9769,-147.2971 522.9769,4 -4,4\"/>\n<!-- EMPTY -->\n<g id=\"node1\" class=\"node\">\n<title>EMPTY</title>\n</g>\n<!-- \\(I_IF\\) -->\n<g id=\"node5\" class=\"node\">\n<title>\\(I_IF\\)</title>\n<ellipse fill=\"none\" stroke=\"#000000\" cx=\"127.4971\" cy=\"-54.7999\" rx=\"32.4945\" ry=\"32.4945\"/>\n<ellipse fill=\"none\" stroke=\"#000000\" cx=\"127.4971\" cy=\"-54.7999\" rx=\"36.4942\" ry=\"36.4942\"/>\n<text text-anchor=\"middle\" x=\"127.4971\" y=\"-51.0999\" font-family=\"Times,serif\" font-size=\"14.00\" fill=\"#000000\">(I_IF)</text>\n</g>\n<!-- EMPTY&#45;&gt;\\(I_IF\\) -->\n<g id=\"edge1\" class=\"edge\">\n<title>EMPTY&#45;&gt;\\(I_IF\\)</title>\n<path fill=\"none\" stroke=\"#000000\" d=\"M54.196,-54.7999C62.3896,-54.7999 71.6273,-54.7999 80.7132,-54.7999\"/>\n<polygon fill=\"#000000\" stroke=\"#000000\" points=\"80.8433,-58.3 90.8432,-54.7999 80.8432,-51.3 80.8433,-58.3\"/>\n</g>\n<!-- \\(I_S\\) -->\n<g id=\"node2\" class=\"node\">\n<title>\\(I_S\\)</title>\n<ellipse fill=\"none\" stroke=\"#000000\" cx=\"241.8916\" cy=\"-103.7999\" rx=\"29.795\" ry=\"29.795\"/>\n<text text-anchor=\"middle\" x=\"241.8916\" y=\"-100.0999\" font-family=\"Times,serif\" font-size=\"14.00\" fill=\"#000000\">(I_S)</text>\n</g>\n<!-- \\(F_S\\) -->\n<g id=\"node4\" class=\"node\">\n<title>\\(F_S\\)</title>\n<ellipse fill=\"none\" stroke=\"#000000\" cx=\"356.286\" cy=\"-106.7999\" rx=\"32.4945\" ry=\"32.4945\"/>\n<ellipse fill=\"none\" stroke=\"#000000\" cx=\"356.286\" cy=\"-106.7999\" rx=\"36.4942\" ry=\"36.4942\"/>\n<text text-anchor=\"middle\" x=\"356.286\" y=\"-103.0999\" font-family=\"Times,serif\" font-size=\"14.00\" fill=\"#000000\">(F_S)</text>\n</g>\n<!-- \\(I_S\\)&#45;&gt;\\(F_S\\) -->\n<g id=\"edge9\" class=\"edge\">\n<title>\\(I_S\\)&#45;&gt;\\(F_S\\)</title>\n<path fill=\"none\" stroke=\"#000000\" d=\"M271.7479,-107.4011C277.7148,-107.984 283.9444,-108.4957 289.7889,-108.7999 296.1472,-109.1309 302.8505,-109.2266 309.4554,-109.173\"/>\n<polygon fill=\"#000000\" stroke=\"#000000\" points=\"309.7584,-112.668 319.6899,-108.9783 309.6251,-105.6692 309.7584,-112.668\"/>\n<text text-anchor=\"middle\" x=\"295.7889\" y=\"-112.5999\" font-family=\"Times,serif\" font-size=\"14.00\" fill=\"#000000\">0 </text>\n</g>\n<!-- \\(I_S\\)&#45;&gt;\\(I_IF\\) -->\n<g id=\"edge4\" class=\"edge\">\n<title>\\(I_S\\)&#45;&gt;\\(I_IF\\)</title>\n<path fill=\"none\" stroke=\"#000000\" d=\"M219.2483,-84.2261C211.6434,-78.507 202.8368,-72.7411 193.9942,-68.7999 187.6954,-65.9925 180.8062,-63.7372 173.9245,-61.9283\"/>\n<polygon fill=\"#000000\" stroke=\"#000000\" points=\"174.4518,-58.4572 163.9172,-59.5851 172.8559,-65.2729 174.4518,-58.4572\"/>\n<text text-anchor=\"middle\" x=\"187.9942\" y=\"-72.5999\" font-family=\"Times,serif\" font-size=\"14.00\" fill=\"#000000\">1 </text>\n</g>\n<!-- \\(F_IF\\) -->\n<g id=\"node3\" class=\"node\">\n<title>\\(F_IF\\)</title>\n<ellipse fill=\"none\" stroke=\"#000000\" cx=\"479.88\" cy=\"-54.7999\" rx=\"35.1841\" ry=\"35.1841\"/>\n<ellipse fill=\"none\" stroke=\"#000000\" cx=\"479.88\" cy=\"-54.7999\" rx=\"39.194\" ry=\"39.194\"/>\n<text text-anchor=\"middle\" x=\"479.88\" y=\"-51.0999\" font-family=\"Times,serif\" font-size=\"14.00\" fill=\"#000000\">(F_IF)</text>\n</g>\n<!-- \\(F_IF\\)&#45;&gt;\\(F_S\\) -->\n<g id=\"edge3\" class=\"edge\">\n<title>\\(F_IF\\)&#45;&gt;\\(F_S\\)</title>\n<path fill=\"none\" stroke=\"#000000\" d=\"M441.5331,-62.5901C431.3313,-65.252 420.4622,-68.6354 410.7832,-72.7999 405.5973,-75.0312 400.3313,-77.7096 395.2196,-80.5711\"/>\n<polygon fill=\"#000000\" stroke=\"#000000\" points=\"393.0762,-77.7715 386.236,-85.8623 396.6288,-83.8031 393.0762,-77.7715\"/>\n<text text-anchor=\"middle\" x=\"416.7832\" y=\"-76.5999\" font-family=\"Times,serif\" font-size=\"14.00\" fill=\"#000000\">1 </text>\n</g>\n<!-- \\(F_IF\\)&#45;&gt;\\(I_IF\\) -->\n<g id=\"edge5\" class=\"edge\">\n<title>\\(F_IF\\)&#45;&gt;\\(I_IF\\)</title>\n<path fill=\"none\" stroke=\"#000000\" d=\"M445.8949,-34.8565C438.4598,-31.0906 430.5009,-27.4937 422.7832,-24.7999 362.5947,-3.7921 338.4337,3.3319 289.7889,-1.7999 241.0721,-6.9394 227.8976,-7.6936 181.9942,-24.7999 177.2456,-26.5696 172.4069,-28.6983 167.6707,-30.9951\"/>\n<polygon fill=\"#000000\" stroke=\"#000000\" points=\"166.045,-27.8953 158.7396,-35.5688 169.2357,-34.1259 166.045,-27.8953\"/>\n<text text-anchor=\"middle\" x=\"295.7889\" y=\"-5.5999\" font-family=\"Times,serif\" font-size=\"14.00\" fill=\"#000000\">0 </text>\n</g>\n<!-- \\(F_S\\)&#45;&gt;\\(I_S\\) -->\n<g id=\"edge6\" class=\"edge\">\n<title>\\(F_S\\)&#45;&gt;\\(I_S\\)</title>\n<path fill=\"none\" stroke=\"#000000\" d=\"M321.263,-95.9783C311.1611,-93.9403 300.0858,-92.7365 289.7889,-93.7999 286.9371,-94.0945 284.0047,-94.4851 281.0626,-94.9415\"/>\n<polygon fill=\"#000000\" stroke=\"#000000\" points=\"280.3612,-91.5112 271.125,-96.7018 281.5822,-98.4039 280.3612,-91.5112\"/>\n<text text-anchor=\"middle\" x=\"295.7889\" y=\"-97.5999\" font-family=\"Times,serif\" font-size=\"14.00\" fill=\"#000000\">0 </text>\n</g>\n<!-- \\(F_S\\)&#45;&gt;\\(F_IF\\) -->\n<g id=\"edge7\" class=\"edge\">\n<title>\\(F_S\\)&#45;&gt;\\(F_IF\\)</title>\n<path fill=\"none\" stroke=\"#000000\" d=\"M392.0454,-98.3226C402.159,-95.4605 413.0563,-91.926 422.7832,-87.7999 427.7897,-85.6762 432.9041,-83.2045 437.9139,-80.587\"/>\n<polygon fill=\"#000000\" stroke=\"#000000\" points=\"439.665,-83.6187 446.7727,-75.7618 436.3167,-77.4714 439.665,-83.6187\"/>\n<text text-anchor=\"middle\" x=\"416.7832\" y=\"-95.5999\" font-family=\"Times,serif\" font-size=\"14.00\" fill=\"#000000\">1 </text>\n</g>\n<!-- \\(I_IF\\)&#45;&gt;\\(I_S\\) -->\n<g id=\"edge2\" class=\"edge\">\n<title>\\(I_IF\\)&#45;&gt;\\(I_S\\)</title>\n<path fill=\"none\" stroke=\"#000000\" d=\"M157.8115,-75.2283C165.479,-79.8085 173.8537,-84.3317 181.9942,-87.7999 188.4477,-90.5494 195.4973,-92.9359 202.4212,-94.9661\"/>\n<polygon fill=\"#000000\" stroke=\"#000000\" points=\"201.823,-98.4307 212.3916,-97.6863 203.6655,-91.6776 201.823,-98.4307\"/>\n<text text-anchor=\"middle\" x=\"187.9942\" y=\"-95.5999\" font-family=\"Times,serif\" font-size=\"14.00\" fill=\"#000000\">1 </text>\n</g>\n<!-- \\(I_IF\\)&#45;&gt;\\(F_IF\\) -->\n<g id=\"edge8\" class=\"edge\">\n<title>\\(I_IF\\)&#45;&gt;\\(F_IF\\)</title>\n<path fill=\"none\" stroke=\"#000000\" d=\"M164.211,-54.7999C227.8885,-54.7999 358.8465,-54.7999 430.4499,-54.7999\"/>\n<polygon fill=\"#000000\" stroke=\"#000000\" points=\"430.5687,-58.3 440.5686,-54.7999 430.5686,-51.3 430.5687,-58.3\"/>\n<text text-anchor=\"middle\" x=\"295.7889\" y=\"-58.5999\" font-family=\"Times,serif\" font-size=\"14.00\" fill=\"#000000\">0 </text>\n</g>\n</g>\n</svg>\n"
          },
          "metadata": {
            "tags": []
          },
          "execution_count": 18
        }
      ]
    },
    {
      "cell_type": "code",
      "metadata": {
        "colab": {
          "base_uri": "https://localhost:8080/"
        },
        "id": "oW90L-RjDa8S",
        "outputId": "b5ad78fe-39ea-4fb5-967e-ca35d971cc83"
      },
      "source": [
        "iso_dfa(Odd0_or_Even1, C_C_Odd0_and_C_Even_1)"
      ],
      "execution_count": 19,
      "outputs": [
        {
          "output_type": "execute_result",
          "data": {
            "text/plain": [
              "True"
            ]
          },
          "metadata": {
            "tags": []
          },
          "execution_count": 19
        }
      ]
    },
    {
      "cell_type": "code",
      "metadata": {
        "id": "U3ONAjdI-aF8"
      },
      "source": [
        "Odd0FbyEven1 = md2mc('''\n",
        "DFA\n",
        "\n",
        "!! DFA that accepts so long as the string seen so far \n",
        "!! has odd0s and even1s (in THAT order)\n",
        "\n",
        "!! State design: Must close-off 0's after seeing a 1\n",
        "!! I'll denote this by adding a 'd' for the 0 position\n",
        "!! So S_EE, Sd_EE, Fd_EE etc, where the 'd' says 0's are unwelcome\n",
        "\n",
        "I_EE : 0 -> F_OE\n",
        "I_EE : 1 -> Sd_EO\n",
        "\n",
        "Sd_EO : 0 -> BH\n",
        "Sd_EO : 1 -> Sd_EE\n",
        "\n",
        "F_OE : 0 -> I_EE\n",
        "F_OE : 1 -> Sd_OO\n",
        "\n",
        "Sd_OO : 0 -> BH\n",
        "Sd_OO : 1 -> Fd_OE\n",
        "\n",
        "Sd_EE : 0 -> BH\n",
        "Sd_EE : 1 -> Sd_EO\n",
        "\n",
        "Fd_OE : 0 -> BH\n",
        "Fd_OE : 1 -> Sd_OO\n",
        "\n",
        "BH  : 0|1 -> BH\n",
        "''')"
      ],
      "execution_count": 9,
      "outputs": []
    },
    {
      "cell_type": "code",
      "metadata": {
        "colab": {
          "base_uri": "https://localhost:8080/",
          "height": 380
        },
        "id": "QBOQFsOD-aF8",
        "outputId": "4ac09be3-46fd-465d-e10e-d084d07d0288"
      },
      "source": [
        "dotObj_dfa_w_bh(Odd0FbyEven1)"
      ],
      "execution_count": 10,
      "outputs": [
        {
          "output_type": "execute_result",
          "data": {
            "text/plain": [
              "<graphviz.dot.Digraph at 0x7fd87bcd60f0>"
            ],
            "image/svg+xml": "<?xml version=\"1.0\" encoding=\"UTF-8\" standalone=\"no\"?>\n<!DOCTYPE svg PUBLIC \"-//W3C//DTD SVG 1.1//EN\"\n \"http://www.w3.org/Graphics/SVG/1.1/DTD/svg11.dtd\">\n<!-- Generated by graphviz version 2.40.1 (20161225.0304)\n -->\n<!-- Title: %3 Pages: 1 -->\n<svg width=\"640pt\" height=\"269pt\"\n viewBox=\"0.00 0.00 639.77 269.35\" xmlns=\"http://www.w3.org/2000/svg\" xmlns:xlink=\"http://www.w3.org/1999/xlink\">\n<g id=\"graph0\" class=\"graph\" transform=\"scale(1 1) rotate(0) translate(4 265.3466)\">\n<title>%3</title>\n<polygon fill=\"#ffffff\" stroke=\"transparent\" points=\"-4,4 -4,-265.3466 635.7705,-265.3466 635.7705,4 -4,4\"/>\n<!-- EMPTY -->\n<g id=\"node1\" class=\"node\">\n<title>EMPTY</title>\n</g>\n<!-- I_EE -->\n<g id=\"node3\" class=\"node\">\n<title>I_EE</title>\n<ellipse fill=\"none\" stroke=\"#000000\" cx=\"121.5473\" cy=\"-160.3466\" rx=\"30.5947\" ry=\"30.5947\"/>\n<text text-anchor=\"middle\" x=\"121.5473\" y=\"-156.6466\" font-family=\"Times,serif\" font-size=\"14.00\" fill=\"#000000\">I_EE</text>\n</g>\n<!-- EMPTY&#45;&gt;I_EE -->\n<g id=\"edge1\" class=\"edge\">\n<title>EMPTY&#45;&gt;I_EE</title>\n<path fill=\"none\" stroke=\"#000000\" d=\"M54.0935,-160.3466C62.3297,-160.3466 71.5721,-160.3466 80.5116,-160.3466\"/>\n<polygon fill=\"#000000\" stroke=\"#000000\" points=\"80.7883,-163.8467 90.7882,-160.3466 80.7882,-156.8467 80.7883,-163.8467\"/>\n</g>\n<!-- Sd_OO -->\n<g id=\"node2\" class=\"node\">\n<title>Sd_OO</title>\n<ellipse fill=\"none\" stroke=\"#000000\" cx=\"363.3351\" cy=\"-106.3466\" rx=\"39.7935\" ry=\"39.7935\"/>\n<text text-anchor=\"middle\" x=\"363.3351\" y=\"-102.6466\" font-family=\"Times,serif\" font-size=\"14.00\" fill=\"#000000\">Sd_OO</text>\n</g>\n<!-- BH -->\n<g id=\"node5\" class=\"node\">\n<title>BH</title>\n<ellipse fill=\"none\" stroke=\"#000000\" cx=\"607.7226\" cy=\"-155.3466\" rx=\"24.0958\" ry=\"24.0958\"/>\n<text text-anchor=\"middle\" x=\"607.7226\" y=\"-151.6466\" font-family=\"Times,serif\" font-size=\"14.00\" fill=\"#000000\">BH</text>\n</g>\n<!-- Sd_OO&#45;&gt;BH -->\n<g id=\"edge8\" class=\"edge\">\n<title>Sd_OO&#45;&gt;BH</title>\n<path fill=\"none\" stroke=\"#000000\" d=\"M403.1382,-109.2305C438.3586,-112.3551 490.956,-118.4269 535.6747,-129.3466 549.13,-132.6322 563.5628,-137.5481 575.9506,-142.2239\"/>\n<polygon fill=\"#000000\" stroke=\"#000000\" points=\"574.8001,-145.5317 585.389,-145.8866 577.3326,-139.0059 574.8001,-145.5317\"/>\n<text text-anchor=\"middle\" x=\"493.3281\" y=\"-133.1466\" font-family=\"Times,serif\" font-size=\"14.00\" fill=\"#000000\">0 </text>\n</g>\n<!-- Fd_OE -->\n<g id=\"node7\" class=\"node\">\n<title>Fd_OE</title>\n<ellipse fill=\"none\" stroke=\"#000000\" cx=\"493.3281\" cy=\"-42.3466\" rx=\"38.2082\" ry=\"38.2082\"/>\n<ellipse fill=\"none\" stroke=\"#000000\" cx=\"493.3281\" cy=\"-42.3466\" rx=\"42.1937\" ry=\"42.1937\"/>\n<text text-anchor=\"middle\" x=\"493.3281\" y=\"-38.6466\" font-family=\"Times,serif\" font-size=\"14.00\" fill=\"#000000\">Fd_OE</text>\n</g>\n<!-- Sd_OO&#45;&gt;Fd_OE -->\n<g id=\"edge9\" class=\"edge\">\n<title>Sd_OO&#45;&gt;Fd_OE</title>\n<path fill=\"none\" stroke=\"#000000\" d=\"M399.2004,-88.6889C413.6387,-81.5804 430.4952,-73.2814 445.922,-65.6862\"/>\n<polygon fill=\"#000000\" stroke=\"#000000\" points=\"447.8826,-68.6222 455.3082,-61.0651 444.7906,-62.3421 447.8826,-68.6222\"/>\n<text text-anchor=\"middle\" x=\"426.9815\" y=\"-80.1466\" font-family=\"Times,serif\" font-size=\"14.00\" fill=\"#000000\">1 </text>\n</g>\n<!-- Sd_EO -->\n<g id=\"node4\" class=\"node\">\n<title>Sd_EO</title>\n<ellipse fill=\"none\" stroke=\"#000000\" cx=\"363.3351\" cy=\"-203.3466\" rx=\"38.1938\" ry=\"38.1938\"/>\n<text text-anchor=\"middle\" x=\"363.3351\" y=\"-199.6466\" font-family=\"Times,serif\" font-size=\"14.00\" fill=\"#000000\">Sd_EO</text>\n</g>\n<!-- I_EE&#45;&gt;Sd_EO -->\n<g id=\"edge3\" class=\"edge\">\n<title>I_EE&#45;&gt;Sd_EO</title>\n<path fill=\"none\" stroke=\"#000000\" d=\"M151.681,-165.7056C192.6916,-172.999 266.5398,-186.1323 315.2526,-194.7955\"/>\n<polygon fill=\"#000000\" stroke=\"#000000\" points=\"314.7866,-198.2675 325.245,-196.5726 316.0123,-191.3756 314.7866,-198.2675\"/>\n<text text-anchor=\"middle\" x=\"237.8916\" y=\"-192.1466\" font-family=\"Times,serif\" font-size=\"14.00\" fill=\"#000000\">1 </text>\n</g>\n<!-- F_OE -->\n<g id=\"node8\" class=\"node\">\n<title>F_OE</title>\n<ellipse fill=\"none\" stroke=\"#000000\" cx=\"237.8916\" cy=\"-122.3466\" rx=\"33.6165\" ry=\"33.6165\"/>\n<ellipse fill=\"none\" stroke=\"#000000\" cx=\"237.8916\" cy=\"-122.3466\" rx=\"37.5951\" ry=\"37.5951\"/>\n<text text-anchor=\"middle\" x=\"237.8916\" y=\"-118.6466\" font-family=\"Times,serif\" font-size=\"14.00\" fill=\"#000000\">F_OE</text>\n</g>\n<!-- I_EE&#45;&gt;F_OE -->\n<g id=\"edge2\" class=\"edge\">\n<title>I_EE&#45;&gt;F_OE</title>\n<path fill=\"none\" stroke=\"#000000\" d=\"M150.6058,-150.8556C163.0625,-146.787 177.919,-141.9346 191.8126,-137.3968\"/>\n<polygon fill=\"#000000\" stroke=\"#000000\" points=\"193.2919,-140.5956 201.7111,-134.1638 191.1186,-133.9416 193.2919,-140.5956\"/>\n<text text-anchor=\"middle\" x=\"176.0946\" y=\"-148.1466\" font-family=\"Times,serif\" font-size=\"14.00\" fill=\"#000000\">0 </text>\n</g>\n<!-- Sd_EO&#45;&gt;BH -->\n<g id=\"edge4\" class=\"edge\">\n<title>Sd_EO&#45;&gt;BH</title>\n<path fill=\"none\" stroke=\"#000000\" d=\"M397.1165,-222.0248C432.9097,-239.1632 490.3975,-258.9999 535.6747,-238.3466 559.5041,-227.4768 578.4927,-204.4018 590.981,-185.3349\"/>\n<polygon fill=\"#000000\" stroke=\"#000000\" points=\"594.0827,-186.9761 596.4186,-176.642 588.1481,-183.2639 594.0827,-186.9761\"/>\n<text text-anchor=\"middle\" x=\"493.3281\" y=\"-250.1466\" font-family=\"Times,serif\" font-size=\"14.00\" fill=\"#000000\">0 </text>\n</g>\n<!-- Sd_EE -->\n<g id=\"node6\" class=\"node\">\n<title>Sd_EE</title>\n<ellipse fill=\"none\" stroke=\"#000000\" cx=\"493.3281\" cy=\"-191.3466\" rx=\"37.8943\" ry=\"37.8943\"/>\n<text text-anchor=\"middle\" x=\"493.3281\" y=\"-187.6466\" font-family=\"Times,serif\" font-size=\"14.00\" fill=\"#000000\">Sd_EE</text>\n</g>\n<!-- Sd_EO&#45;&gt;Sd_EE -->\n<g id=\"edge5\" class=\"edge\">\n<title>Sd_EO&#45;&gt;Sd_EE</title>\n<path fill=\"none\" stroke=\"#000000\" d=\"M401.7356,-206.4069C411.9178,-206.6842 422.8865,-206.5022 432.9815,-205.3466 437.4911,-204.8304 442.1538,-204.1039 446.7967,-203.2504\"/>\n<polygon fill=\"#000000\" stroke=\"#000000\" points=\"447.7558,-206.6273 456.8619,-201.2118 446.3661,-199.7666 447.7558,-206.6273\"/>\n<text text-anchor=\"middle\" x=\"426.9815\" y=\"-210.1466\" font-family=\"Times,serif\" font-size=\"14.00\" fill=\"#000000\">1 </text>\n</g>\n<!-- BH&#45;&gt;BH -->\n<g id=\"edge14\" class=\"edge\">\n<title>BH&#45;&gt;BH</title>\n<path fill=\"none\" stroke=\"#000000\" d=\"M603.2622,-179.1209C602.9545,-189.0109 604.4414,-197.3945 607.7226,-197.3945 609.7734,-197.3945 611.1232,-194.1196 611.7721,-189.249\"/>\n<polygon fill=\"#000000\" stroke=\"#000000\" points=\"615.2747,-189.2546 612.1831,-179.1209 608.2804,-188.9708 615.2747,-189.2546\"/>\n<text text-anchor=\"middle\" x=\"607.7226\" y=\"-201.1945\" font-family=\"Times,serif\" font-size=\"14.00\" fill=\"#000000\">0 </text>\n</g>\n<!-- BH&#45;&gt;BH -->\n<g id=\"edge15\" class=\"edge\">\n<title>BH&#45;&gt;BH</title>\n<path fill=\"none\" stroke=\"#000000\" d=\"M599.9882,-178.1431C596.8945,-196.4731 599.4726,-215.3945 607.7226,-215.3945 614.4257,-215.3945 617.3845,-202.9034 616.599,-188.3875\"/>\n<polygon fill=\"#000000\" stroke=\"#000000\" points=\"620.0434,-187.6937 615.457,-178.1431 613.0865,-188.4693 620.0434,-187.6937\"/>\n<text text-anchor=\"middle\" x=\"607.7226\" y=\"-219.1945\" font-family=\"Times,serif\" font-size=\"14.00\" fill=\"#000000\">1 </text>\n</g>\n<!-- Sd_EE&#45;&gt;Sd_EO -->\n<g id=\"edge11\" class=\"edge\">\n<title>Sd_EE&#45;&gt;Sd_EO</title>\n<path fill=\"none\" stroke=\"#000000\" d=\"M456.0391,-185.7525C444.7404,-184.868 432.321,-184.7094 420.9815,-186.3466 417.3057,-186.8773 413.5377,-187.5891 409.7741,-188.4213\"/>\n<polygon fill=\"#000000\" stroke=\"#000000\" points=\"408.757,-185.0673 399.8886,-190.8639 410.4362,-191.8629 408.757,-185.0673\"/>\n<text text-anchor=\"middle\" x=\"426.9815\" y=\"-190.1466\" font-family=\"Times,serif\" font-size=\"14.00\" fill=\"#000000\">1 </text>\n</g>\n<!-- Sd_EE&#45;&gt;BH -->\n<g id=\"edge10\" class=\"edge\">\n<title>Sd_EE&#45;&gt;BH</title>\n<path fill=\"none\" stroke=\"#000000\" d=\"M529.5233,-179.956C544.0609,-175.381 560.7005,-170.1445 574.8831,-165.6812\"/>\n<polygon fill=\"#000000\" stroke=\"#000000\" points=\"576.2227,-168.9289 584.7108,-162.5884 574.1213,-162.2518 576.2227,-168.9289\"/>\n<text text-anchor=\"middle\" x=\"559.6747\" y=\"-176.1466\" font-family=\"Times,serif\" font-size=\"14.00\" fill=\"#000000\">0 </text>\n</g>\n<!-- Fd_OE&#45;&gt;Sd_OO -->\n<g id=\"edge13\" class=\"edge\">\n<title>Fd_OE&#45;&gt;Sd_OO</title>\n<path fill=\"none\" stroke=\"#000000\" d=\"M450.7712,-45.2923C440.6625,-47.0937 430.1567,-49.924 420.9815,-54.3466 412.6894,-58.3436 404.7187,-63.9089 397.4882,-69.9214\"/>\n<polygon fill=\"#000000\" stroke=\"#000000\" points=\"395.1371,-67.3282 389.9527,-76.5679 399.7675,-72.5779 395.1371,-67.3282\"/>\n<text text-anchor=\"middle\" x=\"426.9815\" y=\"-58.1466\" font-family=\"Times,serif\" font-size=\"14.00\" fill=\"#000000\">1 </text>\n</g>\n<!-- Fd_OE&#45;&gt;BH -->\n<g id=\"edge12\" class=\"edge\">\n<title>Fd_OE&#45;&gt;BH</title>\n<path fill=\"none\" stroke=\"#000000\" d=\"M530.4291,-63.4474C542.4541,-71.2963 555.3431,-80.8688 565.6747,-91.3466 575.4708,-101.2812 584.3015,-113.826 591.312,-125.1713\"/>\n<polygon fill=\"#000000\" stroke=\"#000000\" points=\"588.4076,-127.1349 596.5278,-133.9402 594.4237,-123.5563 588.4076,-127.1349\"/>\n<text text-anchor=\"middle\" x=\"559.6747\" y=\"-95.1466\" font-family=\"Times,serif\" font-size=\"14.00\" fill=\"#000000\">0 </text>\n</g>\n<!-- F_OE&#45;&gt;Sd_OO -->\n<g id=\"edge7\" class=\"edge\">\n<title>F_OE&#45;&gt;Sd_OO</title>\n<path fill=\"none\" stroke=\"#000000\" d=\"M275.5288,-117.5461C287.6012,-116.0063 301.158,-114.2771 313.9405,-112.6467\"/>\n<polygon fill=\"#000000\" stroke=\"#000000\" points=\"314.506,-116.1031 323.9828,-111.3659 313.6203,-109.1593 314.506,-116.1031\"/>\n<text text-anchor=\"middle\" x=\"299.6886\" y=\"-119.1466\" font-family=\"Times,serif\" font-size=\"14.00\" fill=\"#000000\">1 </text>\n</g>\n<!-- F_OE&#45;&gt;I_EE -->\n<g id=\"edge6\" class=\"edge\">\n<title>F_OE&#45;&gt;I_EE</title>\n<path fill=\"none\" stroke=\"#000000\" d=\"M200.2143,-117.9809C190.2044,-117.9894 179.5528,-119.0851 170.0946,-122.3466 163.5681,-124.5971 157.2485,-128.1259 151.446,-132.1459\"/>\n<polygon fill=\"#000000\" stroke=\"#000000\" points=\"149.1964,-129.4593 143.3505,-138.2954 153.4307,-135.0335 149.1964,-129.4593\"/>\n<text text-anchor=\"middle\" x=\"176.0946\" y=\"-126.1466\" font-family=\"Times,serif\" font-size=\"14.00\" fill=\"#000000\">0 </text>\n</g>\n</g>\n</svg>\n"
          },
          "metadata": {
            "tags": []
          },
          "execution_count": 10
        }
      ]
    },
    {
      "cell_type": "markdown",
      "metadata": {
        "id": "3X74KkNt-aF8"
      },
      "source": [
        "# We can express the language of this DFA as:\n",
        "\n",
        "$\\{ 0^n \\;:\\; odd(n)\\} \\; \\{ 1^n \\;:\\; even(n)\\}$ "
      ]
    },
    {
      "cell_type": "markdown",
      "metadata": {
        "id": "tEWI7yXv-aF8"
      },
      "source": [
        "# Question: \n",
        "## A DFA for the unit language has how many states?"
      ]
    },
    {
      "cell_type": "code",
      "metadata": {
        "colab": {
          "base_uri": "https://localhost:8080/",
          "height": 175
        },
        "id": "gkb8FDroEIJQ",
        "outputId": "d41ec19f-c68e-4a26-a460-26894854efdd"
      },
      "source": [
        "DFA_unit_language = md2mc('''\r\n",
        "\r\n",
        "  DFA \r\n",
        "\r\n",
        "  IF : 0|1 -> A\r\n",
        "   A : 0|1 -> A\r\n",
        "\r\n",
        "''')\r\n",
        "dotObj_dfa(DFA_unit_language)"
      ],
      "execution_count": 23,
      "outputs": [
        {
          "output_type": "execute_result",
          "data": {
            "text/plain": [
              "<graphviz.dot.Digraph at 0x7fd87baeffd0>"
            ],
            "image/svg+xml": "<?xml version=\"1.0\" encoding=\"UTF-8\" standalone=\"no\"?>\n<!DOCTYPE svg PUBLIC \"-//W3C//DTD SVG 1.1//EN\"\n \"http://www.w3.org/Graphics/SVG/1.1/DTD/svg11.dtd\">\n<!-- Generated by graphviz version 2.40.1 (20161225.0304)\n -->\n<!-- Title: %3 Pages: 1 -->\n<svg width=\"229pt\" height=\"115pt\"\n viewBox=\"0.00 0.00 228.70 114.85\" xmlns=\"http://www.w3.org/2000/svg\" xmlns:xlink=\"http://www.w3.org/1999/xlink\">\n<g id=\"graph0\" class=\"graph\" transform=\"scale(1 1) rotate(0) translate(4 110.8483)\">\n<title>%3</title>\n<polygon fill=\"#ffffff\" stroke=\"transparent\" points=\"-4,4 -4,-110.8483 224.6967,-110.8483 224.6967,4 -4,4\"/>\n<!-- EMPTY -->\n<g id=\"node1\" class=\"node\">\n<title>EMPTY</title>\n</g>\n<!-- IF -->\n<g id=\"node3\" class=\"node\">\n<title>IF</title>\n<ellipse fill=\"none\" stroke=\"#000000\" cx=\"113.8483\" cy=\"-22.8483\" rx=\"18.724\" ry=\"18.724\"/>\n<ellipse fill=\"none\" stroke=\"#000000\" cx=\"113.8483\" cy=\"-22.8483\" rx=\"22.6977\" ry=\"22.6977\"/>\n<text text-anchor=\"middle\" x=\"113.8483\" y=\"-19.1483\" font-family=\"Times,serif\" font-size=\"14.00\" fill=\"#000000\">IF</text>\n</g>\n<!-- EMPTY&#45;&gt;IF -->\n<g id=\"edge1\" class=\"edge\">\n<title>EMPTY&#45;&gt;IF</title>\n<path fill=\"none\" stroke=\"#000000\" d=\"M54.0033,-22.8483C62.5212,-22.8483 72.0276,-22.8483 80.9112,-22.8483\"/>\n<polygon fill=\"#000000\" stroke=\"#000000\" points=\"80.9572,-26.3484 90.9572,-22.8483 80.9572,-19.3484 80.9572,-26.3484\"/>\n</g>\n<!-- A -->\n<g id=\"node2\" class=\"node\">\n<title>A</title>\n<ellipse fill=\"none\" stroke=\"#000000\" cx=\"202.6967\" cy=\"-22.8483\" rx=\"18\" ry=\"18\"/>\n<text text-anchor=\"middle\" x=\"202.6967\" y=\"-19.1483\" font-family=\"Times,serif\" font-size=\"14.00\" fill=\"#000000\">A</text>\n</g>\n<!-- A&#45;&gt;A -->\n<g id=\"edge4\" class=\"edge\">\n<title>A&#45;&gt;A</title>\n<path fill=\"none\" stroke=\"#000000\" d=\"M198.9216,-40.6301C198.2801,-50.1633 199.5385,-58.8483 202.6967,-58.8483 204.6212,-58.8483 205.8402,-55.6232 206.3538,-50.9464\"/>\n<polygon fill=\"#000000\" stroke=\"#000000\" points=\"209.8571,-50.6694 206.4717,-40.6301 202.8575,-50.5894 209.8571,-50.6694\"/>\n<text text-anchor=\"middle\" x=\"202.6967\" y=\"-62.6483\" font-family=\"Times,serif\" font-size=\"14.00\" fill=\"#000000\">0 </text>\n</g>\n<!-- A&#45;&gt;A -->\n<g id=\"edge5\" class=\"edge\">\n<title>A&#45;&gt;A</title>\n<path fill=\"none\" stroke=\"#000000\" d=\"M196.552,-39.9901C192.9375,-57.4333 194.9857,-76.8483 202.6967,-76.8483 208.9016,-76.8483 211.4397,-64.2767 210.3111,-50.277\"/>\n<polygon fill=\"#000000\" stroke=\"#000000\" points=\"213.7207,-49.3945 208.8413,-39.9901 206.791,-50.3846 213.7207,-49.3945\"/>\n<text text-anchor=\"middle\" x=\"202.6967\" y=\"-80.6483\" font-family=\"Times,serif\" font-size=\"14.00\" fill=\"#000000\">1 </text>\n</g>\n<!-- IF&#45;&gt;A -->\n<g id=\"edge2\" class=\"edge\">\n<title>IF&#45;&gt;A</title>\n<path fill=\"none\" stroke=\"#000000\" d=\"M136.729,-22.8483C148.2615,-22.8483 162.3498,-22.8483 174.5414,-22.8483\"/>\n<polygon fill=\"#000000\" stroke=\"#000000\" points=\"174.655,-26.3484 184.655,-22.8483 174.6549,-19.3484 174.655,-26.3484\"/>\n<text text-anchor=\"middle\" x=\"160.6967\" y=\"-26.6483\" font-family=\"Times,serif\" font-size=\"14.00\" fill=\"#000000\">0 </text>\n</g>\n<!-- IF&#45;&gt;A -->\n<g id=\"edge3\" class=\"edge\">\n<title>IF&#45;&gt;A</title>\n<path fill=\"none\" stroke=\"#000000\" d=\"M133.131,-10.0771C143.0179,-5.0343 155.3399,-1.0353 166.6967,-3.8483 170.6732,-4.8333 174.6947,-6.3464 178.537,-8.098\"/>\n<polygon fill=\"#000000\" stroke=\"#000000\" points=\"177.1004,-11.2954 187.591,-12.7783 180.3149,-5.077 177.1004,-11.2954\"/>\n<text text-anchor=\"middle\" x=\"160.6967\" y=\"-7.6483\" font-family=\"Times,serif\" font-size=\"14.00\" fill=\"#000000\">1 </text>\n</g>\n</g>\n</svg>\n"
          },
          "metadata": {
            "tags": []
          },
          "execution_count": 23
        }
      ]
    },
    {
      "cell_type": "markdown",
      "metadata": {
        "id": "-RmnLzcDDmwo"
      },
      "source": [
        "A DFA for the unit language has 2 states."
      ]
    },
    {
      "cell_type": "markdown",
      "metadata": {
        "id": "zA6Nh4to-aF8"
      },
      "source": [
        "# END"
      ]
    }
  ]
}