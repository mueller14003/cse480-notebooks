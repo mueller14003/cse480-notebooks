{
  "nbformat": 4,
  "nbformat_minor": 0,
  "metadata": {
    "colab": {
      "name": "proof_problems.ipynb",
      "provenance": [],
      "collapsed_sections": [],
      "include_colab_link": true
    },
    "kernelspec": {
      "name": "python3",
      "display_name": "Python 3"
    }
  },
  "cells": [
    {
      "cell_type": "markdown",
      "metadata": {
        "id": "view-in-github",
        "colab_type": "text"
      },
      "source": [
        "<a href=\"https://colab.research.google.com/github/mueller14003/cse480-notebooks/blob/master/proof_problems.ipynb\" target=\"_parent\"><img src=\"https://colab.research.google.com/assets/colab-badge.svg\" alt=\"Open In Colab\"/></a>"
      ]
    },
    {
      "cell_type": "markdown",
      "metadata": {
        "id": "NJbnmTGuC2yN"
      },
      "source": [
        "# Look at a Series of Proof Problems\n",
        "Think about how you would go about trying to solve these problems.\n",
        "\n",
        "In other words, how would you approach trying to prove each one?\n",
        "\n",
        "It will be good warm-up for next week's exploration of the Pumping Lemma for Regular Languages."
      ]
    },
    {
      "cell_type": "markdown",
      "metadata": {
        "id": "-OdWAKyfFPkx"
      },
      "source": [
        "## Easiest Proof Problem"
      ]
    },
    {
      "cell_type": "markdown",
      "metadata": {
        "id": "5fMk--buC87a"
      },
      "source": [
        "Prove that if $a \\equiv_5 b$ where $a$ and $b$ are integers, then $a^2 \\equiv_5 b^2$.\n",
        "\n",
        "What about the converse?"
      ]
    },
    {
      "cell_type": "markdown",
      "metadata": {
        "id": "iCNC1ZIXGMdV"
      },
      "source": [
        "Important identity:<br/>\r\n",
        "If $x$ % $n = 0$, then $k*x$ % $n = 0$, where $k$ is any integer."
      ]
    },
    {
      "cell_type": "markdown",
      "metadata": {
        "id": "ftng77PtBQMb"
      },
      "source": [
        "If both $a$ and $b$ are integers, and $a \\equiv_5 b$, then $(a-b)$ % $5 = 0$.<br/>\r\n",
        "Let's factorize!<br/>\r\n",
        "$a^2 - b^2 = (a-b)(a+b)$<br/>\r\n",
        "If we refer to the identity I included above, we know that $k(a-b)$ % $5 = 0$.<br/>\r\n",
        "Since $a+b$ is guaranteed to be an integer, $k=a+b$.<br/>\r\n",
        "Substituting $(a+b)$ for $k$, we get $(a-b)(a+b)$ % $5 = 0$, or $(a^2 - b^2)$ % $5 = 0$<br/>\r\n",
        "Thus, we know that $a^2 \\equiv_5 b^2$."
      ]
    },
    {
      "cell_type": "code",
      "metadata": {
        "colab": {
          "base_uri": "https://localhost:8080/"
        },
        "id": "pSvmI-enB-r9",
        "outputId": "9d07f1cd-d38d-4573-eb6d-cc99210a2caf"
      },
      "source": [
        "# Here's some code just for fun\r\n",
        "a=2\r\n",
        "b=7\r\n",
        "[*map(lambda x:print(f\"{a**(2**x)} % 5 = {(a**(2**x))%5}\\n{b**(2**x)} % 5 = {(b**(2**x))%5}\\n\\n\"),range(5))]"
      ],
      "execution_count": 18,
      "outputs": [
        {
          "output_type": "stream",
          "text": [
            "2 % 5 = 2\n",
            "7 % 5 = 2\n",
            "\n",
            "\n",
            "4 % 5 = 4\n",
            "49 % 5 = 4\n",
            "\n",
            "\n",
            "16 % 5 = 1\n",
            "2401 % 5 = 1\n",
            "\n",
            "\n",
            "256 % 5 = 1\n",
            "5764801 % 5 = 1\n",
            "\n",
            "\n",
            "65536 % 5 = 1\n",
            "33232930569601 % 5 = 1\n",
            "\n",
            "\n"
          ],
          "name": "stdout"
        },
        {
          "output_type": "execute_result",
          "data": {
            "text/plain": [
              "[None, None, None, None, None]"
            ]
          },
          "metadata": {
            "tags": []
          },
          "execution_count": 18
        }
      ]
    },
    {
      "cell_type": "markdown",
      "metadata": {
        "id": "VnwmvwDhJBhE"
      },
      "source": [
        "The converse is not always true, because the square root of an integer can be a non-integer."
      ]
    },
    {
      "cell_type": "markdown",
      "metadata": {
        "id": "c95PEdirFUdr"
      },
      "source": [
        "## Easy Proof Problem"
      ]
    },
    {
      "cell_type": "markdown",
      "metadata": {
        "id": "n376QHhFDP8V"
      },
      "source": [
        "Prove that for every natural number $n$, there exist integers $a$ and $b$ such that $n = 3a + 7b$.\n",
        "\n",
        "Can you generalize this result?"
      ]
    },
    {
      "cell_type": "markdown",
      "metadata": {
        "id": "8wxHfLmFKWc2"
      },
      "source": [
        "This is fun! It's similar to the fundamental theorem of arithmetic, but using multiplication instead of exponents. The numbers also don't need to be prime. By intuition, you can replace 3 and 7 with any two numbers that are coprime and this will still work."
      ]
    },
    {
      "cell_type": "markdown",
      "metadata": {
        "id": "SsFkn_PuFZOp"
      },
      "source": [
        "## Hard Proof Problem"
      ]
    },
    {
      "cell_type": "markdown",
      "metadata": {
        "id": "euibTihmDjRp"
      },
      "source": [
        "Show that for $n \\ge 2$, the sum $1 + \\frac{1}{2} + \\cdots + \\frac{1}{n}$ is never an integer.\n",
        "\n",
        "In other words, for $n \\ge 2$, $\\sum_{i = 1}^n \\frac{1}{i}$ is never an integer."
      ]
    },
    {
      "cell_type": "markdown",
      "metadata": {
        "id": "cfVwMa5yFiz7"
      },
      "source": [
        "## Harder Proof Problem"
      ]
    },
    {
      "cell_type": "markdown",
      "metadata": {
        "id": "AFljtCEUDv-G"
      },
      "source": [
        "Given that\n",
        "$$\\frac{1}{n(n+1)} = \\frac{1}{n} - \\frac{1}{n+1},$$\n",
        "what is the value of the summation\n",
        "$$\\sum_{n=1}^\\infty \\frac{b(n)}{n(n+1)},$$\n",
        "\n",
        "where $b(n)$ counts the number of ones in the binary expansion of $n$?\n",
        "\n",
        "The harder question is, why does this value converge to the number it does? Can you find an expression in common mathematical symbols (using 5 or fewer characters) for this value? And what does binary expansion have to do with why this value is what it is? How would you prove it?\n",
        "\n",
        "Hint: you may find it helpful at some point to refer to the so-called [Theoretical Computer Science Cheat Sheet](https://www.tug.org/texshowcase/cheat.pdf)."
      ]
    },
    {
      "cell_type": "markdown",
      "metadata": {
        "id": "8xE79PCZAwN3"
      },
      "source": [
        "Given the identity above, the following is true:\r\n",
        "$$\\sum_{n=1}^\\infty \\frac{b(n)}{n(n+1)} = \\sum_{n=1}^\\infty \\frac{b(n)}{n} - \\sum_{n=1}^\\infty \\frac{b(n)}{n+1}$$"
      ]
    },
    {
      "cell_type": "code",
      "metadata": {
        "colab": {
          "base_uri": "https://localhost:8080/"
        },
        "id": "L4HYAbxNAB0O",
        "outputId": "18ea4bf3-374f-47cc-c201-f9216f567cb3"
      },
      "source": [
        "b = lambda n: sum(map(int,bin(n)[2:]))\r\n",
        "\r\n",
        "weird_function = lambda x: sum(map(lambda n: b(n)/(n*(n+1)),range(1,x)))\r\n",
        "\r\n",
        "weird_function(1000001)"
      ],
      "execution_count": null,
      "outputs": [
        {
          "output_type": "execute_result",
          "data": {
            "text/plain": [
              "1.3862831558809863"
            ]
          },
          "metadata": {
            "tags": []
          },
          "execution_count": 1
        }
      ]
    },
    {
      "cell_type": "code",
      "metadata": {
        "colab": {
          "base_uri": "https://localhost:8080/"
        },
        "id": "dxibxYtbALSg",
        "outputId": "a477aa68-6c1d-4a02-b2ad-b218944118ef"
      },
      "source": [
        "import math\r\n",
        "math.log(4)"
      ],
      "execution_count": null,
      "outputs": [
        {
          "output_type": "execute_result",
          "data": {
            "text/plain": [
              "1.3862943611198906"
            ]
          },
          "metadata": {
            "tags": []
          },
          "execution_count": 2
        }
      ]
    },
    {
      "cell_type": "markdown",
      "metadata": {
        "id": "q18gZ23MFmKj"
      },
      "source": [
        "## Hardest Proof Problem"
      ]
    },
    {
      "cell_type": "markdown",
      "metadata": {
        "id": "Jl44d2HdE85J"
      },
      "source": [
        "Prove that $a^4 + b^4 + c^4 = d^4$ has no positive integer solutions."
      ]
    }
  ]
}