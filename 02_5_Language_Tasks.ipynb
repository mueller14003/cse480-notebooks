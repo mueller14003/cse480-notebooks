{
  "nbformat": 4,
  "nbformat_minor": 0,
  "metadata": {
    "kernelspec": {
      "display_name": "Python 3",
      "language": "python",
      "name": "python3"
    },
    "language_info": {
      "codemirror_mode": {
        "name": "ipython",
        "version": 3
      },
      "file_extension": ".py",
      "mimetype": "text/x-python",
      "name": "python",
      "nbconvert_exporter": "python",
      "pygments_lexer": "ipython3",
      "version": "3.9.0"
    },
    "colab": {
      "name": "02_5_Language_Tasks.ipynb",
      "provenance": [],
      "include_colab_link": true
    }
  },
  "cells": [
    {
      "cell_type": "markdown",
      "metadata": {
        "id": "view-in-github",
        "colab_type": "text"
      },
      "source": [
        "<a href=\"https://colab.research.google.com/github/mueller14003/cse480-notebooks/blob/master/02_5_Language_Tasks.ipynb\" target=\"_parent\"><img src=\"https://colab.research.google.com/assets/colab-badge.svg\" alt=\"Open In Colab\"/></a>"
      ]
    },
    {
      "cell_type": "markdown",
      "metadata": {
        "id": "lYpiIJUKAzK-"
      },
      "source": [
        "# First let's import, then look for the assignment below"
      ]
    },
    {
      "cell_type": "code",
      "metadata": {
        "colab": {
          "base_uri": "https://localhost:8080/"
        },
        "id": "FrkWsEqMAzK_",
        "outputId": "8392ea01-8edf-4dc3-d939-272e2abdec6a"
      },
      "source": [
        "#~~~~~~~~~~~~~~~~~~~~~~~~~~~~~~~~~~~~~~~~~~~~~~~~~~~~~~~\n",
        "import sys\n",
        "\n",
        "# -- Detect if in Own Install or in Colab\n",
        "try:\n",
        "    import google.colab\n",
        "    OWN_INSTALL = False\n",
        "except:\n",
        "    OWN_INSTALL = True\n",
        "    \n",
        "if OWN_INSTALL:\n",
        "\n",
        "  sys.path[0:0] = ['../../../../..',  '../../../../../3rdparty',  \n",
        "                   '../../../..',  '../../../../3rdparty',  \n",
        "                   '../../..',     '../../../3rdparty', \n",
        "                   '../..',        '../../3rdparty',\n",
        "                   '..',           '../3rdparty' ]\n",
        "\n",
        "else: # In colab\n",
        "  ! if [ ! -d Jove ]; then git clone https://github.com/ganeshutah/Jove Jove; fi\n",
        "  sys.path.append('./Jove')\n",
        "  sys.path.append('./Jove/jove')\n",
        "\n",
        "# -- common imports --\n",
        "from jove.LangDef   import *\n",
        "#~~~~~~~~~~~~~~~~~~~~~~~~~~~~~~~~~~~~~~~~~~~~~~~~~~~~~~~"
      ],
      "execution_count": 1,
      "outputs": [
        {
          "output_type": "stream",
          "text": [
            "Cloning into 'Jove'...\n",
            "remote: Enumerating objects: 4634, done.\u001b[K\n",
            "remote: Total 4634 (delta 0), reused 0 (delta 0), pack-reused 4634\u001b[K\n",
            "Receiving objects: 100% (4634/4634), 7.38 MiB | 22.35 MiB/s, done.\n",
            "Resolving deltas: 100% (3005/3005), done.\n",
            "You may use any of these help commands:\n",
            "help(lphi)\n",
            "help(lunit)\n",
            "help(lcat)\n",
            "help(lexp)\n",
            "help(lunion)\n",
            "help(lstar)\n",
            "help(srev)\n",
            "help(lrev)\n",
            "help(shomo)\n",
            "help(lhomo)\n",
            "help(powset)\n",
            "help(lint)\n",
            "help(lsymdiff)\n",
            "help(lminus)\n",
            "help(lissubset)\n",
            "help(lissuperset)\n",
            "help(lcomplem)\n",
            "help(product)\n",
            "help(nthnumeric)\n",
            "\n"
          ],
          "name": "stdout"
        }
      ]
    },
    {
      "cell_type": "markdown",
      "metadata": {
        "id": "HShoN9t9AzLA"
      },
      "source": [
        "# Week 02 Notebook 5 on Language Basics\n",
        "\n",
        "<font size=\"4\"> \n",
        "\n",
        "This problem helps you review the basics of languages, symbols, strings, concatenation, etc. It presents the material in the form of puzzles.  \n",
        "    \n",
        "There are four tasks for you to complete.\n",
        " \n",
        "</font>"
      ]
    },
    {
      "cell_type": "markdown",
      "metadata": {
        "id": "0vFIyV7PAzLA"
      },
      "source": [
        "<font size=\"4\"> \n",
        "\n",
        " \n",
        "1. If there are two languages $L_1$ and $L_2$, their concatenation has smaller size than their cartesian product if the following condition is met:\n",
        "    \n",
        "    **Their intersection is at least of size 2 and contains $\\varepsilon$**\n",
        "    \n",
        "    (The other aspects of the languages may be different.)\n",
        "    \n",
        "Your tasks are described below.\n",
        "    \n",
        "</font>"
      ]
    },
    {
      "cell_type": "markdown",
      "metadata": {
        "id": "OFofKw85AzLA"
      },
      "source": [
        "# Space below for your arguments\n",
        "<font size=\"4\">\n",
        "\n",
        "\n",
        "</font>"
      ]
    },
    {
      "cell_type": "markdown",
      "metadata": {
        "id": "GQpNFlbkAzLD"
      },
      "source": [
        "## Now present code that supports or refutes the claim."
      ]
    },
    {
      "cell_type": "markdown",
      "metadata": {
        "id": "MksCD22_AzLD"
      },
      "source": [
        "# Task 1: Define two languages to print \"cat and product have the same size\" below. L1 and L2 must both contain $\\varepsilon$."
      ]
    },
    {
      "cell_type": "code",
      "metadata": {
        "id": "REcEsUhLAzLD"
      },
      "source": [
        "L1 = {'','a','aa','aaa'}\n",
        "L2 = {'','b','bb','bbb'}"
      ],
      "execution_count": 46,
      "outputs": []
    },
    {
      "cell_type": "code",
      "metadata": {
        "colab": {
          "base_uri": "https://localhost:8080/"
        },
        "id": "QxGdEz1_AzLD",
        "outputId": "8ccad6c6-d85d-480a-9796-67b1893d8634"
      },
      "source": [
        "print(\"L1 and L2 are\", L1, L2)\n",
        "\n",
        "# Perform their contatenation \n",
        "\n",
        "catL1L2 = lcat(L1,L2)\n",
        "lencatL1L2 = len(catL1L2)\n",
        "\n",
        "print(\"Cat of L1 and L2 is\", catL1L2, \" of size \", lencatL1L2)\n",
        "\n",
        "# Perform their intersection\n",
        "\n",
        "intL1L2 = lint(L1,L2)\n",
        "lenintL1L2 = len(intL1L2)\n",
        "\n",
        "print(\"Intersection of L1 and L2 is\", intL1L2, \" of size \", lenintL1L2)\n",
        "\n",
        "# Make a statement of what you observe\n",
        "\n",
        "prodL1L2 = { (x,y) for x in L1 for y in L2 }\n",
        "lenprodL1L2 = len(prodL1L2)\n",
        "\n",
        "print(\"Product of L1 and L2 is\", prodL1L2, \" of size \", lenprodL1L2)\n",
        "\n",
        "if (lenprodL1L2 != lencatL1L2):\n",
        "    print(\" cat and product differ in size \")\n",
        "else:\n",
        "    print(\" cat and product have the same size \")\n",
        "    \n",
        " "
      ],
      "execution_count": 47,
      "outputs": [
        {
          "output_type": "stream",
          "text": [
            "L1 and L2 are {'', 'aaa', 'aa', 'a'} {'', 'bb', 'bbb', 'b'}\n",
            "Cat of L1 and L2 is {'', 'aabbb', 'aaabbb', 'abb', 'aaab', 'b', 'bb', 'aabb', 'abbb', 'bbb', 'aaabb', 'ab', 'aa', 'aab', 'aaa', 'a'}  of size  16\n",
            "Intersection of L1 and L2 is {''}  of size  1\n",
            "Product of L1 and L2 is {('aaa', ''), ('', ''), ('', 'bbb'), ('a', ''), ('aaa', 'b'), ('aaa', 'bbb'), ('a', 'bbb'), ('', 'b'), ('a', 'b'), ('aa', 'bb'), ('aaa', 'bb'), ('aa', 'b'), ('', 'bb'), ('a', 'bb'), ('aa', ''), ('aa', 'bbb')}  of size  16\n",
            " cat and product have the same size \n"
          ],
          "name": "stdout"
        }
      ]
    },
    {
      "cell_type": "markdown",
      "metadata": {
        "id": "ZYpeitrBAzLE"
      },
      "source": [
        "#### The statements you are requested to make corresponding to the prints can be added below\n",
        "#### Did you choose the languages such that cat and intersection resulted in the same size?\n",
        "\n",
        "Yes I did, as is shown above. However, the intersection only contains the empty string.\n"
      ]
    },
    {
      "cell_type": "markdown",
      "metadata": {
        "id": "vEaLB2kcAzLE"
      },
      "source": [
        "# Task 2: Define two languages to print \"cat and product differ in size\" below. L1 and L2 must both contain $\\varepsilon$."
      ]
    },
    {
      "cell_type": "code",
      "metadata": {
        "id": "kG52maC_AzLE"
      },
      "source": [
        "L1 = {'','a','aa','aaa','aaaa'}\n",
        "L2 = {'','aa','aaaa','aaaaaa'}"
      ],
      "execution_count": 44,
      "outputs": []
    },
    {
      "cell_type": "code",
      "metadata": {
        "colab": {
          "base_uri": "https://localhost:8080/"
        },
        "id": "2doIL-DJAzLE",
        "outputId": "84fa4e2e-e81a-49a7-ef45-378eeaee5588"
      },
      "source": [
        "print(\"L1 and L2 are\", L1, L2)\n",
        "\n",
        "# Perform their contatenation \n",
        "\n",
        "catL1L2 = lcat(L1,L2)\n",
        "lencatL1L2 = len(catL1L2)\n",
        "\n",
        "print(\"Cat of L1 and L2 is\", catL1L2, \" of size \", lencatL1L2)\n",
        "\n",
        "# Perform their intersection\n",
        "\n",
        "intL1L2 = lint(L1,L2)\n",
        "lenintL1L2 = len(intL1L2)\n",
        "\n",
        "print(\"Intersection of L1 and L2 is\", intL1L2, \" of size \", lenintL1L2)\n",
        "\n",
        "# Make a statement of what you observe\n",
        "\n",
        "prodL1L2 = { (x,y) for x in L1 for y in L2 }\n",
        "lenprodL1L2 = len(prodL1L2)\n",
        "\n",
        "print(\"Product of L1 and L2 is\", prodL1L2, \" of size \", lenprodL1L2)\n",
        "\n",
        "if (lenprodL1L2 != lencatL1L2):\n",
        "    print(\" cat and product differ in size \")\n",
        "else:\n",
        "    print(\" cat and product have the same size \")\n",
        "    \n",
        " "
      ],
      "execution_count": 45,
      "outputs": [
        {
          "output_type": "stream",
          "text": [
            "L1 and L2 are {'', 'aaaa', 'aa', 'aaa', 'a'} {'', 'aaaaaa', 'aa', 'aaaa'}\n",
            "Cat of L1 and L2 is {'', 'aaaaaaaa', 'aaaaaaa', 'aaaaaaaaa', 'aaaaa', 'aaaa', 'aaaaaaaaaa', 'aa', 'aaa', 'aaaaaa', 'a'}  of size  11\n",
            "Intersection of L1 and L2 is {'', 'aa', 'aaaa'}  of size  3\n",
            "Product of L1 and L2 is {('aaa', ''), ('', ''), ('aaaa', 'aaaa'), ('aaaa', 'aa'), ('aa', 'aaaaaa'), ('aaa', 'aa'), ('a', ''), ('', 'aa'), ('', 'aaaa'), ('aaa', 'aaaa'), ('a', 'aaaaaa'), ('aaaa', 'aaaaaa'), ('aa', 'aa'), ('aa', 'aaaa'), ('a', 'aaaa'), ('aa', ''), ('aaa', 'aaaaaa'), ('a', 'aa'), ('aaaa', ''), ('', 'aaaaaa')}  of size  20\n",
            " cat and product differ in size \n"
          ],
          "name": "stdout"
        }
      ]
    },
    {
      "cell_type": "markdown",
      "metadata": {
        "id": "n67f6oDeAzLE"
      },
      "source": [
        "#### The statements you are requested to make corresponding to the prints can be added below\n",
        "#### Did you choose the languages such that cat and product resulted in different sizes?\n",
        "\n",
        "Yes I did, as is shown above."
      ]
    },
    {
      "cell_type": "markdown",
      "metadata": {
        "id": "C8xMa_7VAzLF"
      },
      "source": [
        "# Here is a claim relating intersection to concatenation\n",
        "\n",
        "<font size=\"4\"> \n",
        "\n",
        "If there are two languages $L_1$ and $L_2$, their intersection can never be the same as their concatenation if the languages are finite.\n",
        "     \n",
        "</font>"
      ]
    },
    {
      "cell_type": "markdown",
      "metadata": {
        "id": "pRgO2C5pAzLF"
      },
      "source": [
        "## Task 3: Define L1 and L2 (both finite) to make intersection = concatenation"
      ]
    },
    {
      "cell_type": "code",
      "metadata": {
        "colab": {
          "base_uri": "https://localhost:8080/"
        },
        "id": "C2VdnJmFAzLF",
        "outputId": "b391918e-7cbf-47ca-f6c8-67cb86fe953d"
      },
      "source": [
        "# Define two FINITE languages\n",
        "L1 = {''}\n",
        "L2 = {''}\n",
        "\n",
        "# Perform their intersection\n",
        "\n",
        "intL1L2 = lint(L1,L2)\n",
        "\n",
        "# Perform their concatenation\n",
        "\n",
        "catL1L2 = lcat(L1,L2)\n",
        "\n",
        "# Make a statement of what you observe\n",
        "\n",
        "print(\"intersection = \", intL1L2)\n",
        "print(\"concatenation = \", catL1L2)\n",
        "\n",
        "# THEY MUST BE THE SAME\n",
        "\n",
        "print(\"\\nThis is impossible unless L1 and L2 each only contain the empty string!\\nThere are no other possible finite languages that fulfill this requirement!\")"
      ],
      "execution_count": 43,
      "outputs": [
        {
          "output_type": "stream",
          "text": [
            "intersection =  {''}\n",
            "concatenation =  {''}\n",
            "\n",
            "This is impossible unless L1 and L2 each only contain the empty string!\n",
            "There are no other possible finite languages that fulfill this requirement!\n"
          ],
          "name": "stdout"
        }
      ]
    },
    {
      "cell_type": "markdown",
      "metadata": {
        "id": "w-e0fr-gAzLF"
      },
      "source": [
        "## Task 4: Define L1 and L2 (both finite) to make intersection != concatenation"
      ]
    },
    {
      "cell_type": "code",
      "metadata": {
        "colab": {
          "base_uri": "https://localhost:8080/"
        },
        "id": "3WuN8gLuAzLF",
        "outputId": "9968b0de-c744-4c91-978f-f343825c4867"
      },
      "source": [
        "# Define two FINITE languages\n",
        "L1 = {'','a','aa','aaa','aaaa'}\n",
        "L2 = {'','aa','aaaa','aaaaaa'}\n",
        "\n",
        "# Perform their intersection\n",
        "\n",
        "intL1L2 = lint(L1,L2)\n",
        "\n",
        "# Perform their concatenation\n",
        "\n",
        "catL1L2 = lcat(L1,L2)\n",
        "\n",
        "# Make a statement of what you observe\n",
        "\n",
        "print(\"intersection = \", intL1L2)\n",
        "print(\"concatenation = \", catL1L2)\n",
        "\n",
        "# THEY MUST BE DIFFERENT\n",
        "\n",
        "print(\"\\nEasy peasy.\")"
      ],
      "execution_count": 42,
      "outputs": [
        {
          "output_type": "stream",
          "text": [
            "intersection =  {'', 'aa', 'aaaa'}\n",
            "concatenation =  {'', 'aaaaaaaa', 'aaaaaaa', 'aaaaaaaaa', 'aaaaa', 'aaaa', 'aaaaaaaaaa', 'aa', 'aaa', 'aaaaaa', 'a'}\n",
            "\n",
            "Easy peasy.\n"
          ],
          "name": "stdout"
        }
      ]
    },
    {
      "cell_type": "markdown",
      "metadata": {
        "id": "BDgYhu7OAzLF"
      },
      "source": [
        "# END"
      ]
    }
  ]
}