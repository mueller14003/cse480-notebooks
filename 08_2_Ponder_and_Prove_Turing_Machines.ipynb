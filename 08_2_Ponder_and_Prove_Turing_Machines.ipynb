{
  "nbformat": 4,
  "nbformat_minor": 0,
  "metadata": {
    "colab": {
      "name": "08_2_Ponder_and_Prove_Turing_Machines.ipynb",
      "provenance": [],
      "include_colab_link": true
    },
    "kernelspec": {
      "name": "python3",
      "display_name": "Python 3"
    }
  },
  "cells": [
    {
      "cell_type": "markdown",
      "metadata": {
        "id": "view-in-github",
        "colab_type": "text"
      },
      "source": [
        "<a href=\"https://colab.research.google.com/github/mueller14003/cse480-notebooks/blob/master/08_2_Ponder_and_Prove_Turing_Machines.ipynb\" target=\"_parent\"><img src=\"https://colab.research.google.com/assets/colab-badge.svg\" alt=\"Open In Colab\"/></a>"
      ]
    },
    {
      "cell_type": "markdown",
      "metadata": {
        "id": "KROWXw9EqAOY"
      },
      "source": [
        "# Ponder and Prove Turing Machines\n",
        "## Due: Saturday, 27 February 2021, 11:59 pm"
      ]
    },
    {
      "cell_type": "code",
      "metadata": {
        "colab": {
          "base_uri": "https://localhost:8080/"
        },
        "id": "kIk81rd685xt",
        "outputId": "1eb25b2b-aae1-4ae1-e31c-6464bb7ef2d0"
      },
      "source": [
        "#~~~~~~~~~~~~~~~~~~~~~~~~~~~~~~~~~~~~~~~~~~~~~~~~~~~~~~~\r\n",
        "import sys\r\n",
        "\r\n",
        "# -- Detect if in Own Install or in Colab\r\n",
        "try:\r\n",
        "    import google.colab\r\n",
        "    OWN_INSTALL = False\r\n",
        "except:\r\n",
        "    OWN_INSTALL = True\r\n",
        "    \r\n",
        "if OWN_INSTALL:\r\n",
        "  sys.path[0:0] = ['../../../../..',  '../../../../../3rdparty',  \r\n",
        "                   '../../../..',  '../../../../3rdparty',  \r\n",
        "                   '../../..',     '../../../3rdparty', \r\n",
        "                   '../..',        '../../3rdparty',\r\n",
        "                   '..',           '../3rdparty',\r\n",
        "                   '../Jove',      '../Jove/jove']\r\n",
        "\r\n",
        "else: # In colab\r\n",
        "  ! if [ ! -d Jove ]; then git clone https://github.com/ganeshutah/Jove Jove; fi\r\n",
        "  sys.path.append('./Jove')\r\n",
        "  sys.path.append('./Jove/jove')\r\n",
        "\r\n",
        "# -- common imports --\r\n",
        "from jove.Def_TM     import *\r\n",
        "from jove.Def_md2mc  import *\r\n",
        "from jove.DotBashers import *\r\n",
        "#~~~~~~~~~~~~~~~~~~~~~~~~~~~~~~~~~~~~~~~~~~~~~~~~~~~~~~~"
      ],
      "execution_count": 2,
      "outputs": [
        {
          "output_type": "stream",
          "text": [
            "Cloning into 'Jove'...\n",
            "remote: Enumerating objects: 4634, done.\u001b[K\n",
            "remote: Total 4634 (delta 0), reused 0 (delta 0), pack-reused 4634\u001b[K\n",
            "Receiving objects: 100% (4634/4634), 7.38 MiB | 11.11 MiB/s, done.\n",
            "Resolving deltas: 100% (3005/3005), done.\n",
            "You may use any of these help commands:\n",
            "help(step_tm)\n",
            "help(run_tm)\n",
            "help(explore_tm)\n",
            "\n",
            "You may use any of these help commands:\n",
            "help(md2mc)\n",
            ".. and if you want to dig more, then ..\n",
            "help(default_line_attr)\n",
            "help(length_ok_input_items)\n",
            "help(union_line_attr_list_fld)\n",
            "help(extend_rsltdict)\n",
            "help(form_delta)\n",
            "help(get_machine_components)\n",
            "\n",
            "You may use any of these help commands:\n",
            "help(ResetStNum)\n",
            "help(NxtStateStr)\n",
            "\n"
          ],
          "name": "stdout"
        }
      ]
    },
    {
      "cell_type": "markdown",
      "metadata": {
        "id": "uLXu2I4YqK2x"
      },
      "source": [
        "## TODO Study Examples"
      ]
    },
    {
      "cell_type": "markdown",
      "metadata": {
        "id": "m7clQtUHqQDq"
      },
      "source": [
        "In the folders\n",
        "\n",
        "Jove/For_CS3100_Fall2020/17_DTMs_and_NDTMs\n",
        "\n",
        "and \n",
        "\n",
        "Jove/For_CS3100_Fall2020/18_More_TM_Exs\n",
        "\n",
        "you will find many examples of Deterministic Turing Machines, and Nondeterministic Turing Machines. Study these carefully!"
      ]
    },
    {
      "cell_type": "markdown",
      "metadata": {
        "id": "ND770ZuCq5kG"
      },
      "source": [
        "## TODO Write a Summary"
      ]
    },
    {
      "cell_type": "markdown",
      "metadata": {
        "id": "MRG7nNwoq_qT"
      },
      "source": [
        "Describe what you learned about TMs of both varieties."
      ]
    },
    {
      "cell_type": "markdown",
      "metadata": {
        "id": "4VorP5CgBykR"
      },
      "source": [
        "What I learned about DTMs:\r\n",
        "* a\r\n",
        "* b\r\n",
        "* c\r\n",
        "\r\n",
        "What I learned about NDTMs:\r\n",
        "* a\r\n",
        "* b\r\n",
        "* c"
      ]
    },
    {
      "cell_type": "markdown",
      "metadata": {
        "id": "IZv2_MDnrkiY"
      },
      "source": [
        "## TODO Create a DTM to Delete a Character"
      ]
    },
    {
      "cell_type": "markdown",
      "metadata": {
        "id": "8CO727aIrrEi"
      },
      "source": [
        "This task is to delete a character from the tape string. Deleting the current symbol means transforming the tape from $x\\sigma y$ to $xy$ where $\\sigma$ is any symbol, including a blank, and $y$ is a string of nonblank symbols. Assume the input alphabet is $\\{a, b\\}$.\n",
        "\n",
        "HINT: Use a couple of states (labeled $q_a$ and $q_b$, say) for your TM to remember a symbol between the time it is erased and the time it is copied in the next square to the left. (The complete DTM requires about 6 states total, with 12 transitions.)\n"
      ]
    },
    {
      "cell_type": "code",
      "metadata": {
        "id": "niCR5aWIRZI1",
        "colab": {
          "base_uri": "https://localhost:8080/",
          "height": 232
        },
        "outputId": "448f3a90-63b6-4df6-83fb-d1f24bdac4ef"
      },
      "source": [
        "# DTM to delete a character\r\n",
        "dtmDelChar = md2mc('''TM\r\n",
        "!!cs   sr sw  md   ns\r\n",
        "  I   : a; #, R -> GTR\r\n",
        "  I   : b; #, R -> GTR\r\n",
        "  I   : #; #, R -> GTR\r\n",
        "\r\n",
        "!!GTR means \"go to right\"\r\n",
        "  GTR : a; a, R -> GTR\r\n",
        "  GTR : b; b, R -> GTR\r\n",
        "  GTR : #; #, L -> GTL\r\n",
        "\r\n",
        "!!GTL means \"go to left\"\r\n",
        "  GTL : a; a, L -> AL\r\n",
        "  GTL : b; b, L -> BL\r\n",
        "  GTL : #; #, S -> Fhalt\r\n",
        "\r\n",
        "!!AL means \"a left\"\r\n",
        "  AL  : a; a, L -> AL\r\n",
        "  AL  : b; a, L -> BL\r\n",
        "  AL  : #; a, S -> Fhalt\r\n",
        "\r\n",
        "!!BL means \"b left\"\r\n",
        "  BL  : a; b, L -> AL\r\n",
        "  BL  : b; b, L -> BL\r\n",
        "  BL  : #; b, S -> Fhalt\r\n",
        "''')\r\n",
        "DO_dtmDelChar = dotObj_tm(dtmDelChar, FuseEdges=True)\r\n",
        "DO_dtmDelChar.render('dtmDelChar')\r\n",
        "DO_dtmDelChar"
      ],
      "execution_count": 4,
      "outputs": [
        {
          "output_type": "execute_result",
          "data": {
            "text/plain": [
              "<graphviz.dot.Digraph at 0x7ff9fea0b0d0>"
            ],
            "image/svg+xml": "<?xml version=\"1.0\" encoding=\"UTF-8\" standalone=\"no\"?>\n<!DOCTYPE svg PUBLIC \"-//W3C//DTD SVG 1.1//EN\"\n \"http://www.w3.org/Graphics/SVG/1.1/DTD/svg11.dtd\">\n<!-- Generated by graphviz version 2.40.1 (20161225.0304)\n -->\n<!-- Title: %3 Pages: 1 -->\n<svg width=\"796pt\" height=\"158pt\"\n viewBox=\"0.00 0.00 796.38 158.30\" xmlns=\"http://www.w3.org/2000/svg\" xmlns:xlink=\"http://www.w3.org/1999/xlink\">\n<g id=\"graph0\" class=\"graph\" transform=\"scale(1 1) rotate(0) translate(4 154.2953)\">\n<title>%3</title>\n<polygon fill=\"#ffffff\" stroke=\"transparent\" points=\"-4,4 -4,-154.2953 792.376,-154.2953 792.376,4 -4,4\"/>\n<!-- EMPTY -->\n<g id=\"node1\" class=\"node\">\n<title>EMPTY</title>\n</g>\n<!-- I -->\n<g id=\"node6\" class=\"node\">\n<title>I</title>\n<ellipse fill=\"none\" stroke=\"#000000\" cx=\"109\" cy=\"-29.8973\" rx=\"18\" ry=\"18\"/>\n<text text-anchor=\"middle\" x=\"109\" y=\"-26.1973\" font-family=\"Times,serif\" font-size=\"14.00\" fill=\"#000000\">I</text>\n</g>\n<!-- EMPTY&#45;&gt;I -->\n<g id=\"edge1\" class=\"edge\">\n<title>EMPTY&#45;&gt;I</title>\n<path fill=\"none\" stroke=\"#000000\" d=\"M54.3048,-29.8973C62.6909,-29.8973 71.9407,-29.8973 80.4103,-29.8973\"/>\n<polygon fill=\"#000000\" stroke=\"#000000\" points=\"80.5976,-33.3974 90.5976,-29.8973 80.5976,-26.3974 80.5976,-33.3974\"/>\n</g>\n<!-- AL -->\n<g id=\"node2\" class=\"node\">\n<title>AL</title>\n<ellipse fill=\"none\" stroke=\"#000000\" cx=\"501.6874\" cy=\"-93.8973\" rx=\"23.2963\" ry=\"23.2963\"/>\n<text text-anchor=\"middle\" x=\"501.6874\" y=\"-90.1973\" font-family=\"Times,serif\" font-size=\"14.00\" fill=\"#000000\">AL</text>\n</g>\n<!-- AL&#45;&gt;AL -->\n<g id=\"edge8\" class=\"edge\">\n<title>AL&#45;&gt;AL</title>\n<path fill=\"none\" stroke=\"#000000\" d=\"M491.1337,-115.1974C489.6734,-125.82 493.1913,-135.2953 501.6874,-135.2953 507.263,-135.2953 510.6946,-131.2146 511.9823,-125.407\"/>\n<polygon fill=\"#000000\" stroke=\"#000000\" points=\"515.4865,-125.2829 512.2412,-115.1974 508.4888,-125.1055 515.4865,-125.2829\"/>\n<text text-anchor=\"middle\" x=\"501.6874\" y=\"-139.0953\" font-family=\"Times,serif\" font-size=\"14.00\" fill=\"#000000\">a ; a,L</text>\n</g>\n<!-- BL -->\n<g id=\"node3\" class=\"node\">\n<title>BL</title>\n<ellipse fill=\"none\" stroke=\"#000000\" cx=\"622.8333\" cy=\"-38.8973\" rx=\"22.9987\" ry=\"22.9987\"/>\n<text text-anchor=\"middle\" x=\"622.8333\" y=\"-35.1973\" font-family=\"Times,serif\" font-size=\"14.00\" fill=\"#000000\">BL</text>\n</g>\n<!-- AL&#45;&gt;BL -->\n<g id=\"edge9\" class=\"edge\">\n<title>AL&#45;&gt;BL</title>\n<path fill=\"none\" stroke=\"#000000\" d=\"M519.8232,-78.8012C526.7796,-73.5486 534.995,-67.9607 543.0854,-63.8973 558.0449,-56.384 575.7185,-50.5651 590.6212,-46.4393\"/>\n<polygon fill=\"#000000\" stroke=\"#000000\" points=\"591.6512,-49.7874 600.4284,-43.8535 589.8665,-43.0187 591.6512,-49.7874\"/>\n<text text-anchor=\"middle\" x=\"562.5854\" y=\"-67.6973\" font-family=\"Times,serif\" font-size=\"14.00\" fill=\"#000000\">b ; a,L</text>\n</g>\n<!-- Fhalt -->\n<g id=\"node7\" class=\"node\">\n<title>Fhalt</title>\n<ellipse fill=\"none\" stroke=\"#000000\" cx=\"754.4787\" cy=\"-38.8973\" rx=\"29.8071\" ry=\"29.8071\"/>\n<ellipse fill=\"none\" stroke=\"#000000\" cx=\"754.4787\" cy=\"-38.8973\" rx=\"33.795\" ry=\"33.795\"/>\n<text text-anchor=\"middle\" x=\"754.4787\" y=\"-35.1973\" font-family=\"Times,serif\" font-size=\"14.00\" fill=\"#000000\">Fhalt</text>\n</g>\n<!-- AL&#45;&gt;Fhalt -->\n<g id=\"edge10\" class=\"edge\">\n<title>AL&#45;&gt;Fhalt</title>\n<path fill=\"none\" stroke=\"#000000\" d=\"M523.2128,-103.2955C529.4974,-105.598 536.4596,-107.734 543.0854,-108.8973 588.0061,-116.7847 602.1246,-117.7391 645.5813,-103.8973 672.015,-95.4778 698.8082,-79.6001 719.2036,-65.6455\"/>\n<polygon fill=\"#000000\" stroke=\"#000000\" points=\"721.3512,-68.4144 727.533,-59.81 717.3347,-62.6813 721.3512,-68.4144\"/>\n<text text-anchor=\"middle\" x=\"622.8333\" y=\"-117.6973\" font-family=\"Times,serif\" font-size=\"14.00\" fill=\"#000000\"># ; a,S</text>\n</g>\n<!-- BL&#45;&gt;AL -->\n<g id=\"edge11\" class=\"edge\">\n<title>BL&#45;&gt;AL</title>\n<path fill=\"none\" stroke=\"#000000\" d=\"M608.7527,-56.9346C601.6062,-64.8732 592.2836,-73.5842 582.0854,-78.8973 567.8993,-86.2881 550.6292,-90.0789 535.7367,-92.0068\"/>\n<polygon fill=\"#000000\" stroke=\"#000000\" points=\"534.965,-88.5691 525.3909,-93.1063 535.7048,-95.5299 534.965,-88.5691\"/>\n<text text-anchor=\"middle\" x=\"562.5854\" y=\"-93.6973\" font-family=\"Times,serif\" font-size=\"14.00\" fill=\"#000000\">a ; b,L</text>\n</g>\n<!-- BL&#45;&gt;BL -->\n<g id=\"edge12\" class=\"edge\">\n<title>BL&#45;&gt;BL</title>\n<path fill=\"none\" stroke=\"#000000\" d=\"M612.0475,-59.0243C610.2146,-69.8148 613.8099,-79.6453 622.8333,-79.6453 628.755,-79.6453 632.3389,-75.4117 633.5851,-69.4514\"/>\n<polygon fill=\"#000000\" stroke=\"#000000\" points=\"637.0864,-69.0357 633.6192,-59.0243 630.0864,-69.0128 637.0864,-69.0357\"/>\n<text text-anchor=\"middle\" x=\"622.8333\" y=\"-83.4453\" font-family=\"Times,serif\" font-size=\"14.00\" fill=\"#000000\">b ; b,L</text>\n</g>\n<!-- BL&#45;&gt;Fhalt -->\n<g id=\"edge13\" class=\"edge\">\n<title>BL&#45;&gt;Fhalt</title>\n<path fill=\"none\" stroke=\"#000000\" d=\"M645.7642,-38.8973C663.4902,-38.8973 688.5668,-38.8973 710.1697,-38.8973\"/>\n<polygon fill=\"#000000\" stroke=\"#000000\" points=\"710.4484,-42.3974 720.4483,-38.8973 710.4483,-35.3974 710.4484,-42.3974\"/>\n<text text-anchor=\"middle\" x=\"683.0813\" y=\"-42.6973\" font-family=\"Times,serif\" font-size=\"14.00\" fill=\"#000000\"># ; b,S</text>\n</g>\n<!-- GTR -->\n<g id=\"node4\" class=\"node\">\n<title>GTR</title>\n<ellipse fill=\"none\" stroke=\"#000000\" cx=\"240.8973\" cy=\"-29.8973\" rx=\"29.795\" ry=\"29.795\"/>\n<text text-anchor=\"middle\" x=\"240.8973\" y=\"-26.1973\" font-family=\"Times,serif\" font-size=\"14.00\" fill=\"#000000\">GTR</text>\n</g>\n<!-- GTR&#45;&gt;GTR -->\n<g id=\"edge3\" class=\"edge\">\n<title>GTR&#45;&gt;GTR</title>\n<path fill=\"none\" stroke=\"#000000\" d=\"M228.5979,-57.4608C227.903,-68.5158 232.0028,-77.7947 240.8973,-77.7947 246.8734,-77.7947 250.685,-73.606 252.3322,-67.5043\"/>\n<polygon fill=\"#000000\" stroke=\"#000000\" points=\"255.8261,-67.7241 253.1968,-57.4608 248.8519,-67.1237 255.8261,-67.7241\"/>\n<text text-anchor=\"middle\" x=\"240.8973\" y=\"-96.5947\" font-family=\"Times,serif\" font-size=\"14.00\" fill=\"#000000\">a ; a,R </text>\n<text text-anchor=\"middle\" x=\"240.8973\" y=\"-81.5947\" font-family=\"Times,serif\" font-size=\"14.00\" fill=\"#000000\"> b ; b,R</text>\n</g>\n<!-- GTL -->\n<g id=\"node5\" class=\"node\">\n<title>GTL</title>\n<ellipse fill=\"none\" stroke=\"#000000\" cx=\"376.0421\" cy=\"-29.8973\" rx=\"29.4969\" ry=\"29.4969\"/>\n<text text-anchor=\"middle\" x=\"376.0421\" y=\"-26.1973\" font-family=\"Times,serif\" font-size=\"14.00\" fill=\"#000000\">GTL</text>\n</g>\n<!-- GTR&#45;&gt;GTL -->\n<g id=\"edge4\" class=\"edge\">\n<title>GTR&#45;&gt;GTL</title>\n<path fill=\"none\" stroke=\"#000000\" d=\"M270.8903,-29.8973C290.1823,-29.8973 315.4664,-29.8973 336.4064,-29.8973\"/>\n<polygon fill=\"#000000\" stroke=\"#000000\" points=\"336.598,-33.3974 346.5979,-29.8973 336.5979,-26.3974 336.598,-33.3974\"/>\n<text text-anchor=\"middle\" x=\"308.7947\" y=\"-33.6973\" font-family=\"Times,serif\" font-size=\"14.00\" fill=\"#000000\"># ; #,L</text>\n</g>\n<!-- GTL&#45;&gt;AL -->\n<g id=\"edge5\" class=\"edge\">\n<title>GTL&#45;&gt;AL</title>\n<path fill=\"none\" stroke=\"#000000\" d=\"M402.3815,-43.3138C422.5998,-53.6125 450.5334,-67.841 471.6258,-78.5848\"/>\n<polygon fill=\"#000000\" stroke=\"#000000\" points=\"470.2839,-81.8292 480.7832,-83.2493 473.4611,-75.5918 470.2839,-81.8292\"/>\n<text text-anchor=\"middle\" x=\"441.7895\" y=\"-74.6973\" font-family=\"Times,serif\" font-size=\"14.00\" fill=\"#000000\">a ; a,L</text>\n</g>\n<!-- GTL&#45;&gt;BL -->\n<g id=\"edge6\" class=\"edge\">\n<title>GTL&#45;&gt;BL</title>\n<path fill=\"none\" stroke=\"#000000\" d=\"M405.3214,-30.9651C451.4969,-32.649 540.9624,-35.9117 589.5246,-37.6826\"/>\n<polygon fill=\"#000000\" stroke=\"#000000\" points=\"589.6836,-41.1907 599.8046,-38.0575 589.9388,-34.1953 589.6836,-41.1907\"/>\n<text text-anchor=\"middle\" x=\"501.6874\" y=\"-38.6973\" font-family=\"Times,serif\" font-size=\"14.00\" fill=\"#000000\">b ; b,L</text>\n</g>\n<!-- GTL&#45;&gt;Fhalt -->\n<g id=\"edge7\" class=\"edge\">\n<title>GTL&#45;&gt;Fhalt</title>\n<path fill=\"none\" stroke=\"#000000\" d=\"M404.888,-23.1445C454.344,-12.5239 558.4195,5.644 645.5813,-6.8973 668.2733,-10.1624 692.8315,-17.069 712.8728,-23.6329\"/>\n<polygon fill=\"#000000\" stroke=\"#000000\" points=\"712.0191,-27.0385 722.6132,-26.9113 714.2521,-20.4042 712.0191,-27.0385\"/>\n<text text-anchor=\"middle\" x=\"562.5854\" y=\"-7.6973\" font-family=\"Times,serif\" font-size=\"14.00\" fill=\"#000000\"># ; #,S</text>\n</g>\n<!-- I&#45;&gt;GTR -->\n<g id=\"edge2\" class=\"edge\">\n<title>I&#45;&gt;GTR</title>\n<path fill=\"none\" stroke=\"#000000\" d=\"M127.0632,-29.8973C145.9539,-29.8973 176.2177,-29.8973 200.7934,-29.8973\"/>\n<polygon fill=\"#000000\" stroke=\"#000000\" points=\"200.9279,-33.3974 210.9279,-29.8973 200.9278,-26.3974 200.9279,-33.3974\"/>\n<text text-anchor=\"middle\" x=\"169\" y=\"-63.6973\" font-family=\"Times,serif\" font-size=\"14.00\" fill=\"#000000\">a ; #,R </text>\n<text text-anchor=\"middle\" x=\"169\" y=\"-48.6973\" font-family=\"Times,serif\" font-size=\"14.00\" fill=\"#000000\"> # ; #,R </text>\n<text text-anchor=\"middle\" x=\"169\" y=\"-33.6973\" font-family=\"Times,serif\" font-size=\"14.00\" fill=\"#000000\"> b ; #,R</text>\n</g>\n</g>\n</svg>\n"
          },
          "metadata": {
            "tags": []
          },
          "execution_count": 4
        }
      ]
    },
    {
      "cell_type": "markdown",
      "metadata": {
        "id": "FmWSlviOsUC7"
      },
      "source": [
        "## TODO Create a DTM to Insert a Character"
      ]
    },
    {
      "cell_type": "markdown",
      "metadata": {
        "id": "jA2pQpkJsdXS"
      },
      "source": [
        "This task is the opposite of the first one, namely, to insert a character into the tape string. Inserting the symbol $\\sigma$ is done virtually the same way as deleting, except that the single pass goes from left to right, symbols are moved to the right instead of to the left, and the move that starts things off writes $\\sigma$ instead of a blank.\n"
      ]
    },
    {
      "cell_type": "code",
      "metadata": {
        "colab": {
          "base_uri": "https://localhost:8080/",
          "height": 240
        },
        "id": "j9apqk-49l7f",
        "outputId": "c882d0e2-a0e7-49f0-878b-25afca2123f7"
      },
      "source": [
        "# DTM to insert a character\r\n",
        "dtmInsChar = md2mc('''TM\r\n",
        "!!cs   sr sw  md   ns\r\n",
        "  I   : a; σ, R -> WA\r\n",
        "  I   : b; σ, R -> WB\r\n",
        "  I   : #; σ, R -> Fhalt\r\n",
        "\r\n",
        "!!WA means \"write a\"\r\n",
        "  WA  : a; a, R -> WA\r\n",
        "  WA  : b; a, R -> WB\r\n",
        "  WA  : #; a, R -> Fhalt\r\n",
        "\r\n",
        "!!WB means \"write b\"\r\n",
        "  WB  : a; b, R -> WA\r\n",
        "  WB  : b; b, R -> WB\r\n",
        "  WB  : #; b, R -> Fhalt\r\n",
        "\r\n",
        "''')\r\n",
        "DO_dtmInsChar = dotObj_tm(dtmInsChar, FuseEdges=True)\r\n",
        "DO_dtmInsChar.render('dtmInsChar')\r\n",
        "DO_dtmInsChar"
      ],
      "execution_count": 7,
      "outputs": [
        {
          "output_type": "execute_result",
          "data": {
            "text/plain": [
              "<graphviz.dot.Digraph at 0x7ff9fede8650>"
            ],
            "image/svg+xml": "<?xml version=\"1.0\" encoding=\"UTF-8\" standalone=\"no\"?>\n<!DOCTYPE svg PUBLIC \"-//W3C//DTD SVG 1.1//EN\"\n \"http://www.w3.org/Graphics/SVG/1.1/DTD/svg11.dtd\">\n<!-- Generated by graphviz version 2.40.1 (20161225.0304)\n -->\n<!-- Title: %3 Pages: 1 -->\n<svg width=\"532pt\" height=\"164pt\"\n viewBox=\"0.00 0.00 532.49 163.51\" xmlns=\"http://www.w3.org/2000/svg\" xmlns:xlink=\"http://www.w3.org/1999/xlink\">\n<g id=\"graph0\" class=\"graph\" transform=\"scale(1 1) rotate(0) translate(4 159.5138)\">\n<title>%3</title>\n<polygon fill=\"#ffffff\" stroke=\"transparent\" points=\"-4,4 -4,-159.5138 528.4856,-159.5138 528.4856,4 -4,4\"/>\n<!-- EMPTY -->\n<g id=\"node1\" class=\"node\">\n<title>EMPTY</title>\n</g>\n<!-- I -->\n<g id=\"node3\" class=\"node\">\n<title>I</title>\n<ellipse fill=\"none\" stroke=\"#000000\" cx=\"109\" cy=\"-31.5161\" rx=\"18\" ry=\"18\"/>\n<text text-anchor=\"middle\" x=\"109\" y=\"-27.8161\" font-family=\"Times,serif\" font-size=\"14.00\" fill=\"#000000\">I</text>\n</g>\n<!-- EMPTY&#45;&gt;I -->\n<g id=\"edge1\" class=\"edge\">\n<title>EMPTY&#45;&gt;I</title>\n<path fill=\"none\" stroke=\"#000000\" d=\"M54.3048,-31.5161C62.6909,-31.5161 71.9407,-31.5161 80.4103,-31.5161\"/>\n<polygon fill=\"#000000\" stroke=\"#000000\" points=\"80.5976,-35.0162 90.5976,-31.5161 80.5976,-28.0162 80.5976,-35.0162\"/>\n</g>\n<!-- WB -->\n<g id=\"node2\" class=\"node\">\n<title>WB</title>\n<ellipse fill=\"none\" stroke=\"#000000\" cx=\"228.9977\" cy=\"-96.5161\" rx=\"25.9954\" ry=\"25.9954\"/>\n<text text-anchor=\"middle\" x=\"228.9977\" y=\"-92.8161\" font-family=\"Times,serif\" font-size=\"14.00\" fill=\"#000000\">WB</text>\n</g>\n<!-- WB&#45;&gt;WB -->\n<g id=\"edge9\" class=\"edge\">\n<title>WB&#45;&gt;WB</title>\n<path fill=\"none\" stroke=\"#000000\" d=\"M217.6026,-120.0542C216.3595,-130.9734 220.1578,-140.5138 228.9977,-140.5138 234.937,-140.5138 238.6004,-136.2071 239.9881,-130.0691\"/>\n<polygon fill=\"#000000\" stroke=\"#000000\" points=\"243.4861,-130.1874 240.3928,-120.0542 236.4918,-129.9047 243.4861,-130.1874\"/>\n<text text-anchor=\"middle\" x=\"228.9977\" y=\"-144.3138\" font-family=\"Times,serif\" font-size=\"14.00\" fill=\"#000000\">b ; b,R</text>\n</g>\n<!-- WA -->\n<g id=\"node4\" class=\"node\">\n<title>WA</title>\n<ellipse fill=\"none\" stroke=\"#000000\" cx=\"356.3431\" cy=\"-38.5161\" rx=\"25.1964\" ry=\"25.1964\"/>\n<text text-anchor=\"middle\" x=\"356.3431\" y=\"-34.8161\" font-family=\"Times,serif\" font-size=\"14.00\" fill=\"#000000\">WA</text>\n</g>\n<!-- WB&#45;&gt;WA -->\n<g id=\"edge8\" class=\"edge\">\n<title>WB&#45;&gt;WA</title>\n<path fill=\"none\" stroke=\"#000000\" d=\"M247.9738,-78.6583C255.3347,-72.5037 264.1219,-66.0304 272.9954,-61.5161 287.9967,-53.8842 305.8461,-48.5255 321.171,-44.9128\"/>\n<polygon fill=\"#000000\" stroke=\"#000000\" points=\"322.2956,-48.2492 331.3112,-42.6841 320.793,-41.4124 322.2956,-48.2492\"/>\n<text text-anchor=\"middle\" x=\"292.9954\" y=\"-65.3161\" font-family=\"Times,serif\" font-size=\"14.00\" fill=\"#000000\">a ; b,R</text>\n</g>\n<!-- Fhalt -->\n<g id=\"node5\" class=\"node\">\n<title>Fhalt</title>\n<ellipse fill=\"none\" stroke=\"#000000\" cx=\"490.5882\" cy=\"-38.5161\" rx=\"29.8071\" ry=\"29.8071\"/>\n<ellipse fill=\"none\" stroke=\"#000000\" cx=\"490.5882\" cy=\"-38.5161\" rx=\"33.795\" ry=\"33.795\"/>\n<text text-anchor=\"middle\" x=\"490.5882\" y=\"-34.8161\" font-family=\"Times,serif\" font-size=\"14.00\" fill=\"#000000\">Fhalt</text>\n</g>\n<!-- WB&#45;&gt;Fhalt -->\n<g id=\"edge10\" class=\"edge\">\n<title>WB&#45;&gt;Fhalt</title>\n<path fill=\"none\" stroke=\"#000000\" d=\"M253.2968,-106.385C259.6066,-108.5059 266.4669,-110.4338 272.9954,-111.5161 320.7266,-119.4289 335.7544,-120.7054 381.6909,-105.5161 408.2457,-96.7355 435.0409,-80.3676 455.4069,-66.0083\"/>\n<polygon fill=\"#000000\" stroke=\"#000000\" points=\"457.6629,-68.6964 463.7221,-60.0053 453.5655,-63.0209 457.6629,-68.6964\"/>\n<text text-anchor=\"middle\" x=\"356.3431\" y=\"-120.3161\" font-family=\"Times,serif\" font-size=\"14.00\" fill=\"#000000\"># ; b,R</text>\n</g>\n<!-- I&#45;&gt;WB -->\n<g id=\"edge3\" class=\"edge\">\n<title>I&#45;&gt;WB</title>\n<path fill=\"none\" stroke=\"#000000\" d=\"M125.1834,-40.2823C143.5947,-50.2552 174.1091,-66.7842 197.3029,-79.3477\"/>\n<polygon fill=\"#000000\" stroke=\"#000000\" points=\"195.6471,-82.4313 206.107,-84.1167 198.9811,-76.2762 195.6471,-82.4313\"/>\n<text text-anchor=\"middle\" x=\"165\" y=\"-75.3161\" font-family=\"Times,serif\" font-size=\"14.00\" fill=\"#000000\">b ; σ,R</text>\n</g>\n<!-- I&#45;&gt;WA -->\n<g id=\"edge2\" class=\"edge\">\n<title>I&#45;&gt;WA</title>\n<path fill=\"none\" stroke=\"#000000\" d=\"M127.1877,-32.0308C167.9784,-33.1852 267.3698,-35.9981 320.8657,-37.512\"/>\n<polygon fill=\"#000000\" stroke=\"#000000\" points=\"320.8269,-41.0122 330.922,-37.7966 321.025,-34.015 320.8269,-41.0122\"/>\n<text text-anchor=\"middle\" x=\"228.9977\" y=\"-39.3161\" font-family=\"Times,serif\" font-size=\"14.00\" fill=\"#000000\">a ; σ,R</text>\n</g>\n<!-- I&#45;&gt;Fhalt -->\n<g id=\"edge4\" class=\"edge\">\n<title>I&#45;&gt;Fhalt</title>\n<path fill=\"none\" stroke=\"#000000\" d=\"M126.6264,-26.7339C170.1228,-15.5918 285.9847,10.0773 381.6909,-4.5161 404.5745,-8.0054 429.261,-15.3953 449.3346,-22.397\"/>\n<polygon fill=\"#000000\" stroke=\"#000000\" points=\"448.1957,-25.7067 458.7902,-25.7842 450.5564,-19.1168 448.1957,-25.7067\"/>\n<text text-anchor=\"middle\" x=\"292.9954\" y=\"-6.3161\" font-family=\"Times,serif\" font-size=\"14.00\" fill=\"#000000\"># ; σ,R</text>\n</g>\n<!-- WA&#45;&gt;WB -->\n<g id=\"edge6\" class=\"edge\">\n<title>WA&#45;&gt;WB</title>\n<path fill=\"none\" stroke=\"#000000\" d=\"M340.1095,-58.7336C332.6671,-66.7029 323.2252,-75.2044 312.9954,-80.5161 298.437,-88.0753 280.7967,-92.0898 265.4475,-94.2113\"/>\n<polygon fill=\"#000000\" stroke=\"#000000\" points=\"264.7814,-90.7651 255.2531,-95.3979 265.5907,-97.7182 264.7814,-90.7651\"/>\n<text text-anchor=\"middle\" x=\"292.9954\" y=\"-96.3161\" font-family=\"Times,serif\" font-size=\"14.00\" fill=\"#000000\">b ; a,R</text>\n</g>\n<!-- WA&#45;&gt;WA -->\n<g id=\"edge5\" class=\"edge\">\n<title>WA&#45;&gt;WA</title>\n<path fill=\"none\" stroke=\"#000000\" d=\"M345.002,-61.2636C343.6018,-72.2051 347.3822,-81.8638 356.3431,-81.8638 362.3638,-81.8638 366.0458,-77.5037 367.3893,-71.3239\"/>\n<polygon fill=\"#000000\" stroke=\"#000000\" points=\"370.8896,-71.362 367.6843,-61.2636 363.8926,-71.1567 370.8896,-71.362\"/>\n<text text-anchor=\"middle\" x=\"356.3431\" y=\"-85.6638\" font-family=\"Times,serif\" font-size=\"14.00\" fill=\"#000000\">a ; a,R</text>\n</g>\n<!-- WA&#45;&gt;Fhalt -->\n<g id=\"edge7\" class=\"edge\">\n<title>WA&#45;&gt;Fhalt</title>\n<path fill=\"none\" stroke=\"#000000\" d=\"M381.9096,-38.5161C400.0842,-38.5161 424.9602,-38.5161 446.3265,-38.5161\"/>\n<polygon fill=\"#000000\" stroke=\"#000000\" points=\"446.4888,-42.0162 456.4888,-38.5161 446.4887,-35.0162 446.4888,-42.0162\"/>\n<text text-anchor=\"middle\" x=\"419.1909\" y=\"-42.3161\" font-family=\"Times,serif\" font-size=\"14.00\" fill=\"#000000\"># ; a,R</text>\n</g>\n</g>\n</svg>\n"
          },
          "metadata": {
            "tags": []
          },
          "execution_count": 7
        }
      ]
    },
    {
      "cell_type": "markdown",
      "metadata": {
        "id": "rgOacLFksrEm"
      },
      "source": [
        "## TODO Create a DTM to Copy a String"
      ]
    },
    {
      "cell_type": "markdown",
      "metadata": {
        "id": "Iw2WYYVPsuqJ"
      },
      "source": [
        "Let $\\sqcup$ represent the blank symbol. A *Copy* DTM starts with tape $\\sqcup\\ x$ where $x$ is a string of nonblank symbols, and ends up with $\\sqcup\\ x \\sqcup x$. Again, assume the input alphabet is $\\{a, b\\}$.\n",
        "\n",
        "HINT: This DTM requires about 10 states, and not quite double that many transitions."
      ]
    },
    {
      "cell_type": "code",
      "metadata": {
        "id": "QSlCBPgcGcas",
        "outputId": "31d91743-b90a-41fc-af55-d7de4ed02db0",
        "colab": {
          "base_uri": "https://localhost:8080/",
          "height": 619
        }
      },
      "source": [
        "# DTM to copy a string\r\n",
        "## ⊔ square cup\r\n",
        "dtmCpyStr = md2mc('''TM\r\n",
        "!!cs   sr sw  md   ns\r\n",
        "  I     : ⊔; ⊔, R -> S\r\n",
        "\r\n",
        "!!S reads the tape and goes to the next corresponding node.\r\n",
        "  S     : a; A, R -> GTRa\r\n",
        "  S     : b; B, R -> GTRb\r\n",
        "  S     : ⊔; ⊔, L -> GTLf\r\n",
        "\r\n",
        "!!GTRa goes right until it hits an empty symbol or a blank symbol. \r\n",
        "!!It will overwrite an empty stmbol to a blank symbol if necessary.\r\n",
        "!!It will then move on to GTRa2.\r\n",
        "  GTRa  : a; a, R -> GTRa\r\n",
        "  GTRa  : b; b, R -> GTRa\r\n",
        "  GTRa  : #; ⊔, R -> GTRa2\r\n",
        "  GTRa  : ⊔; ⊔, R -> GTRa2\r\n",
        "\r\n",
        "!!GTRa2 goes right until it hits an empty symbol. \r\n",
        "!!It will then overwrite the empty symbol with an 'a'.\r\n",
        "  GTRa2 : a; a, R -> GTRa2\r\n",
        "  GTRa2 : b; b, R -> GTRa2\r\n",
        "  GTRa2 : #; a, L -> GTL1\r\n",
        "\r\n",
        "!!GTRb goes right until it hits an empty symbol or a blank symbol. \r\n",
        "!!It will overwrite an empty stmbol to a blank symbol if necessary.\r\n",
        "!!It will then move on to GTRb2.\r\n",
        "  GTRb  : a; a, R -> GTRb\r\n",
        "  GTRb  : b; b, R -> GTRb\r\n",
        "  GTRb  : #; ⊔, R -> GTRb2\r\n",
        "  GTRb  : ⊔; ⊔, R -> GTRb2\r\n",
        "\r\n",
        "!!GTRb2 goes right until it hits an empty symbol. \r\n",
        "!!It will then overwrite the empty symbol with a 'b'.\r\n",
        "  GTRb2 : a; a, R -> GTRb2\r\n",
        "  GTRb2 : b; b, R -> GTRb2\r\n",
        "  GTRb2 : #; b, L -> GTL1\r\n",
        "\r\n",
        "!!GTL1 is going left until it hits the ⊔ for the copy of the string.\r\n",
        "  GTL1  : a; a, L -> GTL1\r\n",
        "  GTL1  : b; b, L -> GTL1\r\n",
        "  GTL1  : ⊔; ⊔, L -> GTL2\r\n",
        "\r\n",
        "!!GTL2 is going left the second time to copy the next symbol.\r\n",
        "  GTL2  : a; a, L -> GTL2\r\n",
        "  GTL2  : b; b, L -> GTL2\r\n",
        "  GTL2  : A; A, R -> S\r\n",
        "  GTL2  : B; B, R -> S\r\n",
        "\r\n",
        "!!GTLf means \"go to left final\"\r\n",
        "  GTLf  : A; a, L -> GTLf\r\n",
        "  GTLf  : B; b, L -> GTLf\r\n",
        "  GTLf  : ⊔; ⊔, S -> Fhalt\r\n",
        "\r\n",
        "''')\r\n",
        "DO_dtmCpyStr = dotObj_tm(dtmCpyStr, FuseEdges=True)\r\n",
        "DO_dtmCpyStr.render('dtmCpyStr')\r\n",
        "DO_dtmCpyStr"
      ],
      "execution_count": 13,
      "outputs": [
        {
          "output_type": "execute_result",
          "data": {
            "text/plain": [
              "<graphviz.dot.Digraph at 0x7ff9fea14d90>"
            ],
            "image/svg+xml": "<?xml version=\"1.0\" encoding=\"UTF-8\" standalone=\"no\"?>\n<!DOCTYPE svg PUBLIC \"-//W3C//DTD SVG 1.1//EN\"\n \"http://www.w3.org/Graphics/SVG/1.1/DTD/svg11.dtd\">\n<!-- Generated by graphviz version 2.40.1 (20161225.0304)\n -->\n<!-- Title: %3 Pages: 1 -->\n<svg width=\"895pt\" height=\"448pt\"\n viewBox=\"0.00 0.00 894.97 448.24\" xmlns=\"http://www.w3.org/2000/svg\" xmlns:xlink=\"http://www.w3.org/1999/xlink\">\n<g id=\"graph0\" class=\"graph\" transform=\"scale(1 1) rotate(0) translate(4 444.2439)\">\n<title>%3</title>\n<polygon fill=\"#ffffff\" stroke=\"transparent\" points=\"-4,4 -4,-444.2439 890.9746,-444.2439 890.9746,4 -4,4\"/>\n<!-- EMPTY -->\n<g id=\"node1\" class=\"node\">\n<title>EMPTY</title>\n</g>\n<!-- I -->\n<g id=\"node9\" class=\"node\">\n<title>I</title>\n<ellipse fill=\"none\" stroke=\"#000000\" cx=\"109\" cy=\"-136.4469\" rx=\"18\" ry=\"18\"/>\n<text text-anchor=\"middle\" x=\"109\" y=\"-132.7469\" font-family=\"Times,serif\" font-size=\"14.00\" fill=\"#000000\">I</text>\n</g>\n<!-- EMPTY&#45;&gt;I -->\n<g id=\"edge1\" class=\"edge\">\n<title>EMPTY&#45;&gt;I</title>\n<path fill=\"none\" stroke=\"#000000\" d=\"M54.3048,-136.4469C62.6909,-136.4469 71.9407,-136.4469 80.4103,-136.4469\"/>\n<polygon fill=\"#000000\" stroke=\"#000000\" points=\"80.5976,-139.947 90.5976,-136.4469 80.5976,-132.947 80.5976,-139.947\"/>\n</g>\n<!-- GTL1 -->\n<g id=\"node2\" class=\"node\">\n<title>GTL1</title>\n<ellipse fill=\"none\" stroke=\"#000000\" cx=\"694.6338\" cy=\"-106.4469\" rx=\"34.394\" ry=\"34.394\"/>\n<text text-anchor=\"middle\" x=\"694.6338\" y=\"-102.7469\" font-family=\"Times,serif\" font-size=\"14.00\" fill=\"#000000\">GTL1</text>\n</g>\n<!-- GTL1&#45;&gt;GTL1 -->\n<g id=\"edge14\" class=\"edge\">\n<title>GTL1&#45;&gt;GTL1</title>\n<path fill=\"none\" stroke=\"#000000\" d=\"M681.147,-138.1957C680.8569,-149.5979 685.3525,-158.8939 694.6338,-158.8939 700.8696,-158.8939 704.9452,-154.6975 706.8604,-148.4854\"/>\n<polygon fill=\"#000000\" stroke=\"#000000\" points=\"710.3789,-148.5471 708.1206,-138.1957 703.4308,-147.696 710.3789,-148.5471\"/>\n<text text-anchor=\"middle\" x=\"694.6338\" y=\"-177.6939\" font-family=\"Times,serif\" font-size=\"14.00\" fill=\"#000000\">b ; b,L </text>\n<text text-anchor=\"middle\" x=\"694.6338\" y=\"-162.6939\" font-family=\"Times,serif\" font-size=\"14.00\" fill=\"#000000\"> a ; a,L</text>\n</g>\n<!-- GTL2 -->\n<g id=\"node8\" class=\"node\">\n<title>GTL2</title>\n<ellipse fill=\"none\" stroke=\"#000000\" cx=\"852.5277\" cy=\"-34.4469\" rx=\"34.394\" ry=\"34.394\"/>\n<text text-anchor=\"middle\" x=\"852.5277\" y=\"-30.7469\" font-family=\"Times,serif\" font-size=\"14.00\" fill=\"#000000\">GTL2</text>\n</g>\n<!-- GTL1&#45;&gt;GTL2 -->\n<g id=\"edge15\" class=\"edge\">\n<title>GTL1&#45;&gt;GTL2</title>\n<path fill=\"none\" stroke=\"#000000\" d=\"M726.2065,-92.0497C750.733,-80.8656 784.9397,-65.2672 811.5723,-53.1227\"/>\n<polygon fill=\"#000000\" stroke=\"#000000\" points=\"813.3632,-56.1528 821.0097,-48.8192 810.4589,-49.7838 813.3632,-56.1528\"/>\n<text text-anchor=\"middle\" x=\"773.5807\" y=\"-85.2469\" font-family=\"Times,serif\" font-size=\"14.00\" fill=\"#000000\">⊔ ; ⊔,L</text>\n</g>\n<!-- GTRa -->\n<g id=\"node3\" class=\"node\">\n<title>GTRa</title>\n<ellipse fill=\"none\" stroke=\"#000000\" cx=\"376.4469\" cy=\"-358.4469\" rx=\"33.5952\" ry=\"33.5952\"/>\n<text text-anchor=\"middle\" x=\"376.4469\" y=\"-354.7469\" font-family=\"Times,serif\" font-size=\"14.00\" fill=\"#000000\">GTRa</text>\n</g>\n<!-- GTRa&#45;&gt;GTRa -->\n<g id=\"edge6\" class=\"edge\">\n<title>GTRa&#45;&gt;GTRa</title>\n<path fill=\"none\" stroke=\"#000000\" d=\"M361.8657,-389.0314C361.3033,-400.6411 366.1637,-410.2439 376.4469,-410.2439 383.5166,-410.2439 388.0232,-405.7051 389.9667,-399.0957\"/>\n<polygon fill=\"#000000\" stroke=\"#000000\" points=\"393.4599,-399.3433 391.0282,-389.0314 386.4985,-398.6091 393.4599,-399.3433\"/>\n<text text-anchor=\"middle\" x=\"376.4469\" y=\"-429.0439\" font-family=\"Times,serif\" font-size=\"14.00\" fill=\"#000000\">a ; a,R </text>\n<text text-anchor=\"middle\" x=\"376.4469\" y=\"-414.0439\" font-family=\"Times,serif\" font-size=\"14.00\" fill=\"#000000\"> b ; b,R</text>\n</g>\n<!-- GTRa2 -->\n<g id=\"node6\" class=\"node\">\n<title>GTRa2</title>\n<ellipse fill=\"none\" stroke=\"#000000\" cx=\"544.5404\" cy=\"-340.4469\" rx=\"38.1938\" ry=\"38.1938\"/>\n<text text-anchor=\"middle\" x=\"544.5404\" y=\"-336.7469\" font-family=\"Times,serif\" font-size=\"14.00\" fill=\"#000000\">GTRa2</text>\n</g>\n<!-- GTRa&#45;&gt;GTRa2 -->\n<g id=\"edge7\" class=\"edge\">\n<title>GTRa&#45;&gt;GTRa2</title>\n<path fill=\"none\" stroke=\"#000000\" d=\"M410.0592,-354.8476C434.6962,-352.2094 468.5083,-348.5887 496.0646,-345.6379\"/>\n<polygon fill=\"#000000\" stroke=\"#000000\" points=\"496.7169,-349.0881 506.2873,-344.5432 495.9715,-342.1279 496.7169,-349.0881\"/>\n<text text-anchor=\"middle\" x=\"457.8939\" y=\"-371.2469\" font-family=\"Times,serif\" font-size=\"14.00\" fill=\"#000000\"># ; ⊔,R </text>\n<text text-anchor=\"middle\" x=\"457.8939\" y=\"-356.2469\" font-family=\"Times,serif\" font-size=\"14.00\" fill=\"#000000\"> ⊔ ; ⊔,R</text>\n</g>\n<!-- GTLf -->\n<g id=\"node4\" class=\"node\">\n<title>GTLf</title>\n<ellipse fill=\"none\" stroke=\"#000000\" cx=\"376.4469\" cy=\"-226.4469\" rx=\"32.4942\" ry=\"32.4942\"/>\n<text text-anchor=\"middle\" x=\"376.4469\" y=\"-222.7469\" font-family=\"Times,serif\" font-size=\"14.00\" fill=\"#000000\">GTLf</text>\n</g>\n<!-- GTLf&#45;&gt;GTLf -->\n<g id=\"edge18\" class=\"edge\">\n<title>GTLf&#45;&gt;GTLf</title>\n<path fill=\"none\" stroke=\"#000000\" d=\"M361.8942,-255.7595C361.1605,-267.3027 366.0114,-276.9441 376.4469,-276.9441 383.6214,-276.9441 388.1562,-272.387 390.0514,-265.7879\"/>\n<polygon fill=\"#000000\" stroke=\"#000000\" points=\"393.5427,-266.0446 390.9996,-255.7595 386.5737,-265.3856 393.5427,-266.0446\"/>\n<text text-anchor=\"middle\" x=\"376.4469\" y=\"-295.7441\" font-family=\"Times,serif\" font-size=\"14.00\" fill=\"#000000\">A ; a,L </text>\n<text text-anchor=\"middle\" x=\"376.4469\" y=\"-280.7441\" font-family=\"Times,serif\" font-size=\"14.00\" fill=\"#000000\"> B ; b,L</text>\n</g>\n<!-- Fhalt -->\n<g id=\"node11\" class=\"node\">\n<title>Fhalt</title>\n<ellipse fill=\"none\" stroke=\"#000000\" cx=\"544.5404\" cy=\"-246.4469\" rx=\"29.8071\" ry=\"29.8071\"/>\n<ellipse fill=\"none\" stroke=\"#000000\" cx=\"544.5404\" cy=\"-246.4469\" rx=\"33.795\" ry=\"33.795\"/>\n<text text-anchor=\"middle\" x=\"544.5404\" y=\"-242.7469\" font-family=\"Times,serif\" font-size=\"14.00\" fill=\"#000000\">Fhalt</text>\n</g>\n<!-- GTLf&#45;&gt;Fhalt -->\n<g id=\"edge19\" class=\"edge\">\n<title>GTLf&#45;&gt;Fhalt</title>\n<path fill=\"none\" stroke=\"#000000\" d=\"M408.857,-230.3031C434.9421,-233.4068 471.8618,-237.7995 500.605,-241.2194\"/>\n<polygon fill=\"#000000\" stroke=\"#000000\" points=\"500.446,-244.7251 510.7895,-242.4312 501.2731,-237.7742 500.446,-244.7251\"/>\n<text text-anchor=\"middle\" x=\"457.8939\" y=\"-243.2469\" font-family=\"Times,serif\" font-size=\"14.00\" fill=\"#000000\">⊔ ; ⊔,S</text>\n</g>\n<!-- S -->\n<g id=\"node5\" class=\"node\">\n<title>S</title>\n<ellipse fill=\"none\" stroke=\"#000000\" cx=\"235\" cy=\"-136.4469\" rx=\"18\" ry=\"18\"/>\n<text text-anchor=\"middle\" x=\"235\" y=\"-132.7469\" font-family=\"Times,serif\" font-size=\"14.00\" fill=\"#000000\">S</text>\n</g>\n<!-- S&#45;&gt;GTRa -->\n<g id=\"edge3\" class=\"edge\">\n<title>S&#45;&gt;GTRa</title>\n<path fill=\"none\" stroke=\"#000000\" d=\"M242.1652,-153.2026C248.9754,-168.6516 259.813,-192.0556 271,-211.4469 298.9672,-259.9246 308.7024,-270.4634 342,-315.4469 344.1768,-318.3877 346.4721,-321.4096 348.8019,-324.4228\"/>\n<polygon fill=\"#000000\" stroke=\"#000000\" points=\"346.0671,-326.6073 354.992,-332.3167 351.5755,-322.2878 346.0671,-326.6073\"/>\n<text text-anchor=\"middle\" x=\"297.5\" y=\"-293.2469\" font-family=\"Times,serif\" font-size=\"14.00\" fill=\"#000000\">a ; A,R</text>\n</g>\n<!-- S&#45;&gt;GTLf -->\n<g id=\"edge5\" class=\"edge\">\n<title>S&#45;&gt;GTLf</title>\n<path fill=\"none\" stroke=\"#000000\" d=\"M250.4066,-146.2498C271.8199,-159.8747 311.2204,-184.9445 340.2894,-203.4406\"/>\n<polygon fill=\"#000000\" stroke=\"#000000\" points=\"338.6319,-206.5344 348.9478,-208.9498 342.3897,-200.6285 338.6319,-206.5344\"/>\n<text text-anchor=\"middle\" x=\"297.5\" y=\"-196.2469\" font-family=\"Times,serif\" font-size=\"14.00\" fill=\"#000000\">⊔ ; ⊔,L</text>\n</g>\n<!-- GTRb -->\n<g id=\"node10\" class=\"node\">\n<title>GTRb</title>\n<ellipse fill=\"none\" stroke=\"#000000\" cx=\"376.4469\" cy=\"-93.4469\" rx=\"34.394\" ry=\"34.394\"/>\n<text text-anchor=\"middle\" x=\"376.4469\" y=\"-89.7469\" font-family=\"Times,serif\" font-size=\"14.00\" fill=\"#000000\">GTRb</text>\n</g>\n<!-- S&#45;&gt;GTRb -->\n<g id=\"edge4\" class=\"edge\">\n<title>S&#45;&gt;GTRb</title>\n<path fill=\"none\" stroke=\"#000000\" d=\"M252.3442,-131.1743C272.4489,-125.0624 306.3127,-114.7678 333.5917,-106.475\"/>\n<polygon fill=\"#000000\" stroke=\"#000000\" points=\"334.7566,-109.7791 343.3063,-103.5217 332.7206,-103.0817 334.7566,-109.7791\"/>\n<text text-anchor=\"middle\" x=\"297.5\" y=\"-129.2469\" font-family=\"Times,serif\" font-size=\"14.00\" fill=\"#000000\">b ; B,R</text>\n</g>\n<!-- GTRa2&#45;&gt;GTL1 -->\n<g id=\"edge9\" class=\"edge\">\n<title>GTRa2&#45;&gt;GTL1</title>\n<path fill=\"none\" stroke=\"#000000\" d=\"M568.8298,-310.4114C574.0495,-303.6279 579.4243,-296.3799 584.1869,-289.4469 617.2127,-241.3701 651.3197,-183.3435 672.7303,-145.7089\"/>\n<polygon fill=\"#000000\" stroke=\"#000000\" points=\"676.0075,-147.0246 677.8917,-136.5986 669.9171,-143.574 676.0075,-147.0246\"/>\n<text text-anchor=\"middle\" x=\"622.1869\" y=\"-263.2469\" font-family=\"Times,serif\" font-size=\"14.00\" fill=\"#000000\"># ; a,L</text>\n</g>\n<!-- GTRa2&#45;&gt;GTRa2 -->\n<g id=\"edge8\" class=\"edge\">\n<title>GTRa2&#45;&gt;GTRa2</title>\n<path fill=\"none\" stroke=\"#000000\" d=\"M530.2938,-376.2121C530.44,-387.6936 535.1888,-396.7935 544.5404,-396.7935 550.8235,-396.7935 555.0288,-392.6857 557.1564,-386.5076\"/>\n<polygon fill=\"#000000\" stroke=\"#000000\" points=\"560.6795,-386.6365 558.7869,-376.2121 553.7657,-385.5415 560.6795,-386.6365\"/>\n<text text-anchor=\"middle\" x=\"544.5404\" y=\"-415.5935\" font-family=\"Times,serif\" font-size=\"14.00\" fill=\"#000000\">a ; a,R </text>\n<text text-anchor=\"middle\" x=\"544.5404\" y=\"-400.5935\" font-family=\"Times,serif\" font-size=\"14.00\" fill=\"#000000\"> b ; b,R</text>\n</g>\n<!-- GTRb2 -->\n<g id=\"node7\" class=\"node\">\n<title>GTRb2</title>\n<ellipse fill=\"none\" stroke=\"#000000\" cx=\"544.5404\" cy=\"-106.4469\" rx=\"39.7935\" ry=\"39.7935\"/>\n<text text-anchor=\"middle\" x=\"544.5404\" y=\"-102.7469\" font-family=\"Times,serif\" font-size=\"14.00\" fill=\"#000000\">GTRb2</text>\n</g>\n<!-- GTRb2&#45;&gt;GTL1 -->\n<g id=\"edge13\" class=\"edge\">\n<title>GTRb2&#45;&gt;GTL1</title>\n<path fill=\"none\" stroke=\"#000000\" d=\"M584.3686,-106.4469C604.5026,-106.4469 629.0105,-106.4469 649.8034,-106.4469\"/>\n<polygon fill=\"#000000\" stroke=\"#000000\" points=\"649.9851,-109.947 659.9851,-106.4469 649.985,-102.947 649.9851,-109.947\"/>\n<text text-anchor=\"middle\" x=\"622.1869\" y=\"-110.2469\" font-family=\"Times,serif\" font-size=\"14.00\" fill=\"#000000\"># ; b,L</text>\n</g>\n<!-- GTRb2&#45;&gt;GTRb2 -->\n<g id=\"edge12\" class=\"edge\">\n<title>GTRb2&#45;&gt;GTRb2</title>\n<path fill=\"none\" stroke=\"#000000\" d=\"M530.3043,-143.5946C530.5919,-155.0768 535.3372,-164.0934 544.5404,-164.0934 550.7237,-164.0934 554.8948,-160.0232 557.0535,-153.8696\"/>\n<polygon fill=\"#000000\" stroke=\"#000000\" points=\"560.5744,-154.0358 558.7765,-143.5946 553.6708,-152.8781 560.5744,-154.0358\"/>\n<text text-anchor=\"middle\" x=\"544.5404\" y=\"-182.8934\" font-family=\"Times,serif\" font-size=\"14.00\" fill=\"#000000\">a ; a,R </text>\n<text text-anchor=\"middle\" x=\"544.5404\" y=\"-167.8934\" font-family=\"Times,serif\" font-size=\"14.00\" fill=\"#000000\"> b ; b,R</text>\n</g>\n<!-- GTL2&#45;&gt;S -->\n<g id=\"edge17\" class=\"edge\">\n<title>GTL2&#45;&gt;S</title>\n<path fill=\"none\" stroke=\"#000000\" d=\"M818.4403,-28.9854C786.5299,-24.3503 737.478,-18.4469 694.6338,-18.4469 376.4469,-18.4469 376.4469,-18.4469 376.4469,-18.4469 318.6145,-18.4469 271.9051,-77.33 249.4629,-111.9055\"/>\n<polygon fill=\"#000000\" stroke=\"#000000\" points=\"246.398,-110.2045 244.0372,-120.5329 252.3237,-113.931 246.398,-110.2045\"/>\n<text text-anchor=\"middle\" x=\"544.5404\" y=\"-37.2469\" font-family=\"Times,serif\" font-size=\"14.00\" fill=\"#000000\">A ; A,R </text>\n<text text-anchor=\"middle\" x=\"544.5404\" y=\"-22.2469\" font-family=\"Times,serif\" font-size=\"14.00\" fill=\"#000000\"> B ; B,R</text>\n</g>\n<!-- GTL2&#45;&gt;GTL2 -->\n<g id=\"edge16\" class=\"edge\">\n<title>GTL2&#45;&gt;GTL2</title>\n<path fill=\"none\" stroke=\"#000000\" d=\"M837.9348,-65.676C837.4564,-77.314 842.3207,-86.8939 852.5277,-86.8939 859.545,-86.8939 864.0371,-82.3659 866.0038,-75.7541\"/>\n<polygon fill=\"#000000\" stroke=\"#000000\" points=\"869.4979,-76.0007 867.1205,-65.676 862.5404,-75.2297 869.4979,-76.0007\"/>\n<text text-anchor=\"middle\" x=\"852.5277\" y=\"-105.6939\" font-family=\"Times,serif\" font-size=\"14.00\" fill=\"#000000\">b ; b,L </text>\n<text text-anchor=\"middle\" x=\"852.5277\" y=\"-90.6939\" font-family=\"Times,serif\" font-size=\"14.00\" fill=\"#000000\"> a ; a,L</text>\n</g>\n<!-- I&#45;&gt;S -->\n<g id=\"edge2\" class=\"edge\">\n<title>I&#45;&gt;S</title>\n<path fill=\"none\" stroke=\"#000000\" d=\"M127.0527,-136.4469C147.9177,-136.4469 182.5072,-136.4469 206.8994,-136.4469\"/>\n<polygon fill=\"#000000\" stroke=\"#000000\" points=\"206.9808,-139.947 216.9808,-136.4469 206.9807,-132.947 206.9808,-139.947\"/>\n<text text-anchor=\"middle\" x=\"172\" y=\"-140.2469\" font-family=\"Times,serif\" font-size=\"14.00\" fill=\"#000000\">⊔ ; ⊔,R</text>\n</g>\n<!-- GTRb&#45;&gt;GTRb2 -->\n<g id=\"edge11\" class=\"edge\">\n<title>GTRb&#45;&gt;GTRb2</title>\n<path fill=\"none\" stroke=\"#000000\" d=\"M410.8688,-96.1091C435.057,-97.9797 467.7888,-100.5111 494.8082,-102.6008\"/>\n<polygon fill=\"#000000\" stroke=\"#000000\" points=\"494.6141,-106.0961 504.8543,-103.3777 495.154,-99.117 494.6141,-106.0961\"/>\n<text text-anchor=\"middle\" x=\"457.8939\" y=\"-121.2469\" font-family=\"Times,serif\" font-size=\"14.00\" fill=\"#000000\"># ; ⊔,R </text>\n<text text-anchor=\"middle\" x=\"457.8939\" y=\"-106.2469\" font-family=\"Times,serif\" font-size=\"14.00\" fill=\"#000000\"> ⊔ ; ⊔,R</text>\n</g>\n<!-- GTRb&#45;&gt;GTRb -->\n<g id=\"edge10\" class=\"edge\">\n<title>GTRb&#45;&gt;GTRb</title>\n<path fill=\"none\" stroke=\"#000000\" d=\"M361.8541,-124.676C361.3756,-136.314 366.2399,-145.8939 376.4469,-145.8939 383.4643,-145.8939 387.9563,-141.3659 389.9231,-134.7541\"/>\n<polygon fill=\"#000000\" stroke=\"#000000\" points=\"393.4171,-135.0007 391.0398,-124.676 386.4597,-134.2297 393.4171,-135.0007\"/>\n<text text-anchor=\"middle\" x=\"376.4469\" y=\"-164.6939\" font-family=\"Times,serif\" font-size=\"14.00\" fill=\"#000000\">a ; a,R </text>\n<text text-anchor=\"middle\" x=\"376.4469\" y=\"-149.6939\" font-family=\"Times,serif\" font-size=\"14.00\" fill=\"#000000\"> b ; b,R</text>\n</g>\n</g>\n</svg>\n"
          },
          "metadata": {
            "tags": []
          },
          "execution_count": 13
        }
      ]
    },
    {
      "cell_type": "markdown",
      "metadata": {
        "id": "sTNke7j5t9D6"
      },
      "source": [
        "## TODO Refresh Your Knowledge of the 3x+1 Conjecture"
      ]
    },
    {
      "cell_type": "markdown",
      "metadata": {
        "id": "NpXXTnxMuN8t"
      },
      "source": [
        "The code on page 200 does the 3x+1 Conjecture testing recursively:"
      ]
    },
    {
      "cell_type": "code",
      "metadata": {
        "id": "8E-aZBdbuCo5",
        "colab": {
          "base_uri": "https://localhost:8080/"
        },
        "outputId": "d7469fa5-5361-42c5-b7cc-a4f62d3290ae"
      },
      "source": [
        "def tep1(x):\n",
        "    if (x==1):\n",
        "        return 1\n",
        "    elif (x%2 == 0):\n",
        "        return tep1(x/2)\n",
        "    else:\n",
        "        return tep1(3*x+1)\n",
        "\n",
        "print(tep1(3))\n",
        "print(tep1(191))\n",
        "print(tep1(19192949297080))\n",
        "print(tep1(191929492970809272397923472398492839482))\n",
        "print(tep1(191929492970809272397923472398492839482938492))"
      ],
      "execution_count": 8,
      "outputs": [
        {
          "output_type": "stream",
          "text": [
            "1\n",
            "1\n",
            "1\n",
            "1\n",
            "1\n"
          ],
          "name": "stdout"
        }
      ]
    },
    {
      "cell_type": "markdown",
      "metadata": {
        "id": "4zkYEg08uZju"
      },
      "source": [
        "Two Python techniques --- \"memoizing\" and \"listifying\" --- make for faster code:"
      ]
    },
    {
      "cell_type": "code",
      "metadata": {
        "id": "er7VN37Au07d",
        "colab": {
          "base_uri": "https://localhost:8080/"
        },
        "outputId": "84a383b2-f599-43af-c579-73f2d5f08f09"
      },
      "source": [
        "def memoize(func):\n",
        "    results = {}\n",
        "    def inner(i):\n",
        "        if not i in results:\n",
        "            results[i] = func(i)\n",
        "        return results[i]\n",
        "    return inner\n",
        "\n",
        "def listify(func):\n",
        "    def inner(x):\n",
        "        return list(func(x))\n",
        "    return inner\n",
        "\n",
        "@memoize\n",
        "def tep1(x):\n",
        "    return 1 if x == 2 else tep1(x/2) if x%2 == 0 else tep1(3*x+1)\n",
        "\n",
        "@listify\n",
        "def tepmany(x):\n",
        "    for i in range(1, x+1):\n",
        "        yield tep1(i)\n",
        "\n",
        "print(max(tepmany(100000)))"
      ],
      "execution_count": 9,
      "outputs": [
        {
          "output_type": "stream",
          "text": [
            "1\n"
          ],
          "name": "stdout"
        }
      ]
    },
    {
      "cell_type": "markdown",
      "metadata": {
        "id": "0QX5geEMvvcw"
      },
      "source": [
        "# TODO Modify a NON-Trivial Turing Machine Program"
      ]
    },
    {
      "cell_type": "markdown",
      "metadata": {
        "id": "3TemaqVUv1MI"
      },
      "source": [
        "The Turing machine program on page 202 performs the continuing 3x+1 transformation on an input that is a binary number. So for example if the\n",
        "initial tape has\n",
        "\n",
        "$11$\n",
        "\n",
        "which is the binary representation of the decimal number three, the final tape\n",
        "will have\n",
        "\n",
        "$1$\n",
        "\n",
        "on it.\n",
        "\n",
        "Modify the program so that a trace of all intermediate results appears on the output tape, e.g.:\n",
        "\n",
        "$11*1010*101*10000*1000*100*10*1$\n",
        "\n",
        "which separates with a star the binary representations of the numbers in the\n",
        "continuing 3x+1 transformation from 3 to 10 to 5 to 16 to 8 to 4 to 2 to 1.\n"
      ]
    }
  ]
}