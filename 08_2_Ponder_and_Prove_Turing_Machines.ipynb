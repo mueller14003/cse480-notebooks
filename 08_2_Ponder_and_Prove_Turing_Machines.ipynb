{
  "nbformat": 4,
  "nbformat_minor": 0,
  "metadata": {
    "colab": {
      "name": "08_2_Ponder_and_Prove_Turing_Machines.ipynb",
      "provenance": [],
      "include_colab_link": true
    },
    "kernelspec": {
      "name": "python3",
      "display_name": "Python 3"
    }
  },
  "cells": [
    {
      "cell_type": "markdown",
      "metadata": {
        "id": "view-in-github",
        "colab_type": "text"
      },
      "source": [
        "<a href=\"https://colab.research.google.com/github/mueller14003/cse480-notebooks/blob/master/08_2_Ponder_and_Prove_Turing_Machines.ipynb\" target=\"_parent\"><img src=\"https://colab.research.google.com/assets/colab-badge.svg\" alt=\"Open In Colab\"/></a>"
      ]
    },
    {
      "cell_type": "markdown",
      "metadata": {
        "id": "KROWXw9EqAOY"
      },
      "source": [
        "# Ponder and Prove Turing Machines\n",
        "## Due: Saturday, 27 February 2021, 11:59 pm"
      ]
    },
    {
      "cell_type": "code",
      "metadata": {
        "id": "kIk81rd685xt",
        "outputId": "45e2048d-77d0-4222-f1d9-b51e5da31cd3",
        "colab": {
          "base_uri": "https://localhost:8080/"
        }
      },
      "source": [
        "#~~~~~~~~~~~~~~~~~~~~~~~~~~~~~~~~~~~~~~~~~~~~~~~~~~~~~~~\r\n",
        "import sys\r\n",
        "\r\n",
        "# -- Detect if in Own Install or in Colab\r\n",
        "try:\r\n",
        "    import google.colab\r\n",
        "    OWN_INSTALL = False\r\n",
        "except:\r\n",
        "    OWN_INSTALL = True\r\n",
        "    \r\n",
        "if OWN_INSTALL:\r\n",
        "  sys.path[0:0] = ['../../../../..',  '../../../../../3rdparty',  \r\n",
        "                   '../../../..',  '../../../../3rdparty',  \r\n",
        "                   '../../..',     '../../../3rdparty', \r\n",
        "                   '../..',        '../../3rdparty',\r\n",
        "                   '..',           '../3rdparty',\r\n",
        "                   '../Jove',      '../Jove/jove']\r\n",
        "\r\n",
        "else: # In colab\r\n",
        "  ! if [ ! -d Jove ]; then git clone https://github.com/ganeshutah/Jove Jove; fi\r\n",
        "  sys.path.append('./Jove')\r\n",
        "  sys.path.append('./Jove/jove')\r\n",
        "\r\n",
        "# -- common imports --\r\n",
        "from jove.Def_TM     import *\r\n",
        "from jove.Def_md2mc  import *\r\n",
        "from jove.DotBashers import *\r\n",
        "#~~~~~~~~~~~~~~~~~~~~~~~~~~~~~~~~~~~~~~~~~~~~~~~~~~~~~~~"
      ],
      "execution_count": 1,
      "outputs": [
        {
          "output_type": "stream",
          "text": [
            "Cloning into 'Jove'...\n",
            "remote: Enumerating objects: 38, done.\u001b[K\n",
            "remote: Counting objects: 100% (38/38), done.\u001b[K\n",
            "remote: Compressing objects: 100% (25/25), done.\u001b[K\n",
            "remote: Total 4672 (delta 22), reused 26 (delta 13), pack-reused 4634\u001b[K\n",
            "Receiving objects: 100% (4672/4672), 7.47 MiB | 21.19 MiB/s, done.\n",
            "Resolving deltas: 100% (3027/3027), done.\n",
            "You may use any of these help commands:\n",
            "help(step_tm)\n",
            "help(run_tm)\n",
            "help(explore_tm)\n",
            "\n",
            "You may use any of these help commands:\n",
            "help(md2mc)\n",
            ".. and if you want to dig more, then ..\n",
            "help(default_line_attr)\n",
            "help(length_ok_input_items)\n",
            "help(union_line_attr_list_fld)\n",
            "help(extend_rsltdict)\n",
            "help(form_delta)\n",
            "help(get_machine_components)\n",
            "\n",
            "You may use any of these help commands:\n",
            "help(ResetStNum)\n",
            "help(NxtStateStr)\n",
            "\n"
          ],
          "name": "stdout"
        }
      ]
    },
    {
      "cell_type": "markdown",
      "metadata": {
        "id": "uLXu2I4YqK2x"
      },
      "source": [
        "## TODO Study Examples"
      ]
    },
    {
      "cell_type": "markdown",
      "metadata": {
        "id": "m7clQtUHqQDq"
      },
      "source": [
        "In the folders\n",
        "\n",
        "Jove/For_CS3100_Fall2020/17_DTMs_and_NDTMs\n",
        "\n",
        "and \n",
        "\n",
        "Jove/For_CS3100_Fall2020/18_More_TM_Exs\n",
        "\n",
        "you will find many examples of Deterministic Turing Machines, and Nondeterministic Turing Machines. Study these carefully!"
      ]
    },
    {
      "cell_type": "markdown",
      "metadata": {
        "id": "ND770ZuCq5kG"
      },
      "source": [
        "## TODO Write a Summary"
      ]
    },
    {
      "cell_type": "markdown",
      "metadata": {
        "id": "MRG7nNwoq_qT"
      },
      "source": [
        "Describe what you learned about TMs of both varieties."
      ]
    },
    {
      "cell_type": "markdown",
      "metadata": {
        "id": "4VorP5CgBykR"
      },
      "source": [
        "What I learned about DTMs:\r\n",
        "* Need markers to indicate separate strings/parameters.\r\n",
        "* b\r\n",
        "* c\r\n",
        "\r\n",
        "What I learned about NDTMs:\r\n",
        "* Don't need markers between strings/parameters.\r\n",
        "* b\r\n",
        "* c"
      ]
    },
    {
      "cell_type": "markdown",
      "metadata": {
        "id": "IZv2_MDnrkiY"
      },
      "source": [
        "## TODO Create a DTM to Delete a Character"
      ]
    },
    {
      "cell_type": "markdown",
      "metadata": {
        "id": "8CO727aIrrEi"
      },
      "source": [
        "This task is to delete a character from the tape string. Deleting the current symbol means transforming the tape from $x\\sigma y$ to $xy$ where $\\sigma$ is any symbol, including a blank, and $y$ is a string of nonblank symbols. Assume the input alphabet is $\\{a, b\\}$.\n",
        "\n",
        "HINT: Use a couple of states (labeled $q_a$ and $q_b$, say) for your TM to remember a symbol between the time it is erased and the time it is copied in the next square to the left. (The complete DTM requires about 6 states total, with 12 transitions.)\n"
      ]
    },
    {
      "cell_type": "code",
      "metadata": {
        "id": "niCR5aWIRZI1",
        "colab": {
          "base_uri": "https://localhost:8080/",
          "height": 232
        },
        "outputId": "c8684c9e-aa27-4d0a-f65e-b49f5ade2367"
      },
      "source": [
        "# DTM to delete a character\r\n",
        "dtmDelChar = md2mc('''TM\r\n",
        "!!cs   sr sw  md   ns\r\n",
        "  I   : a; #, R -> GTR\r\n",
        "  I   : b; #, R -> GTR\r\n",
        "  I   : #; #, R -> GTR\r\n",
        "\r\n",
        "!!GTR means \"go to right\"\r\n",
        "  GTR : a; a, R -> GTR\r\n",
        "  GTR : b; b, R -> GTR\r\n",
        "  GTR : #; #, L -> GTL\r\n",
        "\r\n",
        "!!GTL means \"go to left\"\r\n",
        "  GTL : a; #, L -> AL\r\n",
        "  GTL : b; #, L -> BL\r\n",
        "  GTL : #; #, S -> Fhalt\r\n",
        "\r\n",
        "!!AL means \"a left\"\r\n",
        "  AL  : a; a, L -> AL\r\n",
        "  AL  : b; a, L -> BL\r\n",
        "  AL  : #; a, S -> Fhalt\r\n",
        "\r\n",
        "!!BL means \"b left\"\r\n",
        "  BL  : a; b, L -> AL\r\n",
        "  BL  : b; b, L -> BL\r\n",
        "  BL  : #; b, S -> Fhalt\r\n",
        "''')\r\n",
        "DO_dtmDelChar = dotObj_tm(dtmDelChar, FuseEdges=True)\r\n",
        "DO_dtmDelChar.render('dtmDelChar')\r\n",
        "DO_dtmDelChar"
      ],
      "execution_count": 19,
      "outputs": [
        {
          "output_type": "execute_result",
          "data": {
            "text/plain": [
              "<graphviz.dot.Digraph at 0x7f5cb6769ed0>"
            ],
            "image/svg+xml": "<?xml version=\"1.0\" encoding=\"UTF-8\" standalone=\"no\"?>\n<!DOCTYPE svg PUBLIC \"-//W3C//DTD SVG 1.1//EN\"\n \"http://www.w3.org/Graphics/SVG/1.1/DTD/svg11.dtd\">\n<!-- Generated by graphviz version 2.40.1 (20161225.0304)\n -->\n<!-- Title: %3 Pages: 1 -->\n<svg width=\"797pt\" height=\"158pt\"\n viewBox=\"0.00 0.00 797.38 158.30\" xmlns=\"http://www.w3.org/2000/svg\" xmlns:xlink=\"http://www.w3.org/1999/xlink\">\n<g id=\"graph0\" class=\"graph\" transform=\"scale(1 1) rotate(0) translate(4 154.2953)\">\n<title>%3</title>\n<polygon fill=\"#ffffff\" stroke=\"transparent\" points=\"-4,4 -4,-154.2953 793.376,-154.2953 793.376,4 -4,4\"/>\n<!-- EMPTY -->\n<g id=\"node1\" class=\"node\">\n<title>EMPTY</title>\n</g>\n<!-- I -->\n<g id=\"node4\" class=\"node\">\n<title>I</title>\n<ellipse fill=\"none\" stroke=\"#000000\" cx=\"109\" cy=\"-29.8973\" rx=\"18\" ry=\"18\"/>\n<text text-anchor=\"middle\" x=\"109\" y=\"-26.1973\" font-family=\"Times,serif\" font-size=\"14.00\" fill=\"#000000\">I</text>\n</g>\n<!-- EMPTY&#45;&gt;I -->\n<g id=\"edge1\" class=\"edge\">\n<title>EMPTY&#45;&gt;I</title>\n<path fill=\"none\" stroke=\"#000000\" d=\"M54.3048,-29.8973C62.6909,-29.8973 71.9407,-29.8973 80.4103,-29.8973\"/>\n<polygon fill=\"#000000\" stroke=\"#000000\" points=\"80.5976,-33.3974 90.5976,-29.8973 80.5976,-26.3974 80.5976,-33.3974\"/>\n</g>\n<!-- GTL -->\n<g id=\"node2\" class=\"node\">\n<title>GTL</title>\n<ellipse fill=\"none\" stroke=\"#000000\" cx=\"376.0421\" cy=\"-29.8973\" rx=\"29.4969\" ry=\"29.4969\"/>\n<text text-anchor=\"middle\" x=\"376.0421\" y=\"-26.1973\" font-family=\"Times,serif\" font-size=\"14.00\" fill=\"#000000\">GTL</text>\n</g>\n<!-- AL -->\n<g id=\"node5\" class=\"node\">\n<title>AL</title>\n<ellipse fill=\"none\" stroke=\"#000000\" cx=\"502.6874\" cy=\"-93.8973\" rx=\"23.2963\" ry=\"23.2963\"/>\n<text text-anchor=\"middle\" x=\"502.6874\" y=\"-90.1973\" font-family=\"Times,serif\" font-size=\"14.00\" fill=\"#000000\">AL</text>\n</g>\n<!-- GTL&#45;&gt;AL -->\n<g id=\"edge5\" class=\"edge\">\n<title>GTL&#45;&gt;AL</title>\n<path fill=\"none\" stroke=\"#000000\" d=\"M402.2831,-43.1582C422.7314,-53.4917 451.1452,-67.8506 472.5292,-78.6569\"/>\n<polygon fill=\"#000000\" stroke=\"#000000\" points=\"471.0084,-81.8099 481.5121,-83.1965 474.1656,-75.5623 471.0084,-81.8099\"/>\n<text text-anchor=\"middle\" x=\"442.2895\" y=\"-74.6973\" font-family=\"Times,serif\" font-size=\"14.00\" fill=\"#000000\">a ; #,L</text>\n</g>\n<!-- BL -->\n<g id=\"node6\" class=\"node\">\n<title>BL</title>\n<ellipse fill=\"none\" stroke=\"#000000\" cx=\"623.8333\" cy=\"-38.8973\" rx=\"22.9987\" ry=\"22.9987\"/>\n<text text-anchor=\"middle\" x=\"623.8333\" y=\"-35.1973\" font-family=\"Times,serif\" font-size=\"14.00\" fill=\"#000000\">BL</text>\n</g>\n<!-- GTL&#45;&gt;BL -->\n<g id=\"edge6\" class=\"edge\">\n<title>GTL&#45;&gt;BL</title>\n<path fill=\"none\" stroke=\"#000000\" d=\"M405.4401,-30.9651C451.9218,-32.6534 542.0928,-35.9285 590.7648,-37.6963\"/>\n<polygon fill=\"#000000\" stroke=\"#000000\" points=\"590.9386,-41.2048 601.0591,-38.0702 591.1928,-34.2094 590.9386,-41.2048\"/>\n<text text-anchor=\"middle\" x=\"502.6874\" y=\"-38.6973\" font-family=\"Times,serif\" font-size=\"14.00\" fill=\"#000000\">b ; #,L</text>\n</g>\n<!-- Fhalt -->\n<g id=\"node7\" class=\"node\">\n<title>Fhalt</title>\n<ellipse fill=\"none\" stroke=\"#000000\" cx=\"755.4787\" cy=\"-38.8973\" rx=\"29.8071\" ry=\"29.8071\"/>\n<ellipse fill=\"none\" stroke=\"#000000\" cx=\"755.4787\" cy=\"-38.8973\" rx=\"33.795\" ry=\"33.795\"/>\n<text text-anchor=\"middle\" x=\"755.4787\" y=\"-35.1973\" font-family=\"Times,serif\" font-size=\"14.00\" fill=\"#000000\">Fhalt</text>\n</g>\n<!-- GTL&#45;&gt;Fhalt -->\n<g id=\"edge7\" class=\"edge\">\n<title>GTL&#45;&gt;Fhalt</title>\n<path fill=\"none\" stroke=\"#000000\" d=\"M404.5996,-23.2195C454.0785,-12.5964 558.8651,5.7237 646.5813,-6.8973 669.2733,-10.1624 693.8315,-17.069 713.8728,-23.6329\"/>\n<polygon fill=\"#000000\" stroke=\"#000000\" points=\"713.0191,-27.0385 723.6132,-26.9113 715.2521,-20.4042 713.0191,-27.0385\"/>\n<text text-anchor=\"middle\" x=\"563.5854\" y=\"-7.6973\" font-family=\"Times,serif\" font-size=\"14.00\" fill=\"#000000\"># ; #,S</text>\n</g>\n<!-- GTR -->\n<g id=\"node3\" class=\"node\">\n<title>GTR</title>\n<ellipse fill=\"none\" stroke=\"#000000\" cx=\"240.8973\" cy=\"-29.8973\" rx=\"29.795\" ry=\"29.795\"/>\n<text text-anchor=\"middle\" x=\"240.8973\" y=\"-26.1973\" font-family=\"Times,serif\" font-size=\"14.00\" fill=\"#000000\">GTR</text>\n</g>\n<!-- GTR&#45;&gt;GTL -->\n<g id=\"edge4\" class=\"edge\">\n<title>GTR&#45;&gt;GTL</title>\n<path fill=\"none\" stroke=\"#000000\" d=\"M270.8903,-29.8973C290.1823,-29.8973 315.4664,-29.8973 336.4064,-29.8973\"/>\n<polygon fill=\"#000000\" stroke=\"#000000\" points=\"336.598,-33.3974 346.5979,-29.8973 336.5979,-26.3974 336.598,-33.3974\"/>\n<text text-anchor=\"middle\" x=\"308.7947\" y=\"-33.6973\" font-family=\"Times,serif\" font-size=\"14.00\" fill=\"#000000\"># ; #,L</text>\n</g>\n<!-- GTR&#45;&gt;GTR -->\n<g id=\"edge3\" class=\"edge\">\n<title>GTR&#45;&gt;GTR</title>\n<path fill=\"none\" stroke=\"#000000\" d=\"M228.5979,-57.4608C227.903,-68.5158 232.0028,-77.7947 240.8973,-77.7947 246.8734,-77.7947 250.685,-73.606 252.3322,-67.5043\"/>\n<polygon fill=\"#000000\" stroke=\"#000000\" points=\"255.8261,-67.7241 253.1968,-57.4608 248.8519,-67.1237 255.8261,-67.7241\"/>\n<text text-anchor=\"middle\" x=\"240.8973\" y=\"-96.5947\" font-family=\"Times,serif\" font-size=\"14.00\" fill=\"#000000\">b ; b,R </text>\n<text text-anchor=\"middle\" x=\"240.8973\" y=\"-81.5947\" font-family=\"Times,serif\" font-size=\"14.00\" fill=\"#000000\"> a ; a,R</text>\n</g>\n<!-- I&#45;&gt;GTR -->\n<g id=\"edge2\" class=\"edge\">\n<title>I&#45;&gt;GTR</title>\n<path fill=\"none\" stroke=\"#000000\" d=\"M127.0632,-29.8973C145.9539,-29.8973 176.2177,-29.8973 200.7934,-29.8973\"/>\n<polygon fill=\"#000000\" stroke=\"#000000\" points=\"200.9279,-33.3974 210.9279,-29.8973 200.9278,-26.3974 200.9279,-33.3974\"/>\n<text text-anchor=\"middle\" x=\"169\" y=\"-63.6973\" font-family=\"Times,serif\" font-size=\"14.00\" fill=\"#000000\">b ; #,R </text>\n<text text-anchor=\"middle\" x=\"169\" y=\"-48.6973\" font-family=\"Times,serif\" font-size=\"14.00\" fill=\"#000000\"> # ; #,R </text>\n<text text-anchor=\"middle\" x=\"169\" y=\"-33.6973\" font-family=\"Times,serif\" font-size=\"14.00\" fill=\"#000000\"> a ; #,R</text>\n</g>\n<!-- AL&#45;&gt;AL -->\n<g id=\"edge8\" class=\"edge\">\n<title>AL&#45;&gt;AL</title>\n<path fill=\"none\" stroke=\"#000000\" d=\"M491.8329,-114.7719C490.163,-125.5657 493.7812,-135.2953 502.6874,-135.2953 508.5322,-135.2953 512.0995,-131.1051 513.3894,-125.1738\"/>\n<polygon fill=\"#000000\" stroke=\"#000000\" points=\"516.8949,-124.8222 513.5419,-114.7719 509.8956,-124.7195 516.8949,-124.8222\"/>\n<text text-anchor=\"middle\" x=\"502.6874\" y=\"-139.0953\" font-family=\"Times,serif\" font-size=\"14.00\" fill=\"#000000\">a ; a,L</text>\n</g>\n<!-- AL&#45;&gt;BL -->\n<g id=\"edge9\" class=\"edge\">\n<title>AL&#45;&gt;BL</title>\n<path fill=\"none\" stroke=\"#000000\" d=\"M520.8232,-78.8012C527.7796,-73.5486 535.995,-67.9607 544.0854,-63.8973 559.0449,-56.384 576.7185,-50.5651 591.6212,-46.4393\"/>\n<polygon fill=\"#000000\" stroke=\"#000000\" points=\"592.6512,-49.7874 601.4284,-43.8535 590.8665,-43.0187 592.6512,-49.7874\"/>\n<text text-anchor=\"middle\" x=\"563.5854\" y=\"-67.6973\" font-family=\"Times,serif\" font-size=\"14.00\" fill=\"#000000\">b ; a,L</text>\n</g>\n<!-- AL&#45;&gt;Fhalt -->\n<g id=\"edge10\" class=\"edge\">\n<title>AL&#45;&gt;Fhalt</title>\n<path fill=\"none\" stroke=\"#000000\" d=\"M524.2128,-103.2955C530.4974,-105.598 537.4596,-107.734 544.0854,-108.8973 589.0061,-116.7847 603.1246,-117.7391 646.5813,-103.8973 673.015,-95.4778 699.8082,-79.6001 720.2036,-65.6455\"/>\n<polygon fill=\"#000000\" stroke=\"#000000\" points=\"722.3512,-68.4144 728.533,-59.81 718.3347,-62.6813 722.3512,-68.4144\"/>\n<text text-anchor=\"middle\" x=\"623.8333\" y=\"-117.6973\" font-family=\"Times,serif\" font-size=\"14.00\" fill=\"#000000\"># ; a,S</text>\n</g>\n<!-- BL&#45;&gt;AL -->\n<g id=\"edge11\" class=\"edge\">\n<title>BL&#45;&gt;AL</title>\n<path fill=\"none\" stroke=\"#000000\" d=\"M609.7527,-56.9346C602.6062,-64.8732 593.2836,-73.5842 583.0854,-78.8973 568.8993,-86.2881 551.6292,-90.0789 536.7367,-92.0068\"/>\n<polygon fill=\"#000000\" stroke=\"#000000\" points=\"535.965,-88.5691 526.3909,-93.1063 536.7048,-95.5299 535.965,-88.5691\"/>\n<text text-anchor=\"middle\" x=\"563.5854\" y=\"-93.6973\" font-family=\"Times,serif\" font-size=\"14.00\" fill=\"#000000\">a ; b,L</text>\n</g>\n<!-- BL&#45;&gt;BL -->\n<g id=\"edge12\" class=\"edge\">\n<title>BL&#45;&gt;BL</title>\n<path fill=\"none\" stroke=\"#000000\" d=\"M613.0475,-59.0243C611.2146,-69.8148 614.8099,-79.6453 623.8333,-79.6453 629.755,-79.6453 633.3389,-75.4117 634.5851,-69.4514\"/>\n<polygon fill=\"#000000\" stroke=\"#000000\" points=\"638.0864,-69.0357 634.6192,-59.0243 631.0864,-69.0128 638.0864,-69.0357\"/>\n<text text-anchor=\"middle\" x=\"623.8333\" y=\"-83.4453\" font-family=\"Times,serif\" font-size=\"14.00\" fill=\"#000000\">b ; b,L</text>\n</g>\n<!-- BL&#45;&gt;Fhalt -->\n<g id=\"edge13\" class=\"edge\">\n<title>BL&#45;&gt;Fhalt</title>\n<path fill=\"none\" stroke=\"#000000\" d=\"M646.7642,-38.8973C664.4902,-38.8973 689.5668,-38.8973 711.1697,-38.8973\"/>\n<polygon fill=\"#000000\" stroke=\"#000000\" points=\"711.4484,-42.3974 721.4483,-38.8973 711.4483,-35.3974 711.4484,-42.3974\"/>\n<text text-anchor=\"middle\" x=\"684.0813\" y=\"-42.6973\" font-family=\"Times,serif\" font-size=\"14.00\" fill=\"#000000\"># ; b,S</text>\n</g>\n</g>\n</svg>\n"
          },
          "metadata": {
            "tags": []
          },
          "execution_count": 19
        }
      ]
    },
    {
      "cell_type": "code",
      "metadata": {
        "id": "CG8u1xD-0WFN",
        "outputId": "70b90c65-1204-48dc-aeab-8aac294bf7ac",
        "colab": {
          "base_uri": "https://localhost:8080/"
        }
      },
      "source": [
        "explore_tm(dtmDelChar, \"abab######\", 100)"
      ],
      "execution_count": 20,
      "outputs": [
        {
          "output_type": "stream",
          "text": [
            "Detailing the halted configs now.\n",
            "Accepted at  ('Fhalt', 0, 'bab#######', 91)\n",
            " via .. \n",
            " ->('I', 0, 'abab######', 100)\n",
            " ->('GTR', 1, '#bab######', 99)\n",
            " ->('GTR', 2, '#bab######', 98)\n",
            " ->('GTR', 3, '#bab######', 97)\n",
            " ->('GTR', 4, '#bab######', 96)\n",
            " ->('GTL', 3, '#bab######', 95)\n",
            " ->('BL', 2, '#ba#######', 94)\n",
            " ->('AL', 1, '#bb#######', 93)\n",
            " ->('BL', 0, '#ab#######', 92)\n",
            " ->('Fhalt', 0, 'bab#######', 91)\n"
          ],
          "name": "stdout"
        }
      ]
    },
    {
      "cell_type": "markdown",
      "metadata": {
        "id": "FmWSlviOsUC7"
      },
      "source": [
        "## TODO Create a DTM to Insert a Character"
      ]
    },
    {
      "cell_type": "markdown",
      "metadata": {
        "id": "jA2pQpkJsdXS"
      },
      "source": [
        "This task is the opposite of the first one, namely, to insert a character into the tape string. Inserting the symbol $\\sigma$ is done virtually the same way as deleting, except that the single pass goes from left to right, symbols are moved to the right instead of to the left, and the move that starts things off writes $\\sigma$ instead of a blank.\n"
      ]
    },
    {
      "cell_type": "code",
      "metadata": {
        "colab": {
          "base_uri": "https://localhost:8080/",
          "height": 239
        },
        "id": "j9apqk-49l7f",
        "outputId": "31de755a-3a89-482a-8b0c-5da8249b5905"
      },
      "source": [
        "# DTM to insert a character\r\n",
        "dtmInsChar = md2mc('''TM\r\n",
        "!!cs   sr sw  md   ns\r\n",
        "  I   : a; σ, R -> WA\r\n",
        "  I   : b; σ, R -> WB\r\n",
        "  I   : #; σ, R -> Fhalt\r\n",
        "\r\n",
        "!!WA means \"write a\"\r\n",
        "  WA  : a; a, R -> WA\r\n",
        "  WA  : b; a, R -> WB\r\n",
        "  WA  : #; a, R -> Fhalt\r\n",
        "\r\n",
        "!!WB means \"write b\"\r\n",
        "  WB  : a; b, R -> WA\r\n",
        "  WB  : b; b, R -> WB\r\n",
        "  WB  : #; b, R -> Fhalt\r\n",
        "\r\n",
        "''')\r\n",
        "DO_dtmInsChar = dotObj_tm(dtmInsChar, FuseEdges=True)\r\n",
        "DO_dtmInsChar.render('dtmInsChar')\r\n",
        "DO_dtmInsChar"
      ],
      "execution_count": 3,
      "outputs": [
        {
          "output_type": "execute_result",
          "data": {
            "text/plain": [
              "<graphviz.dot.Digraph at 0x7f5cb673f150>"
            ],
            "image/svg+xml": "<?xml version=\"1.0\" encoding=\"UTF-8\" standalone=\"no\"?>\n<!DOCTYPE svg PUBLIC \"-//W3C//DTD SVG 1.1//EN\"\n \"http://www.w3.org/Graphics/SVG/1.1/DTD/svg11.dtd\">\n<!-- Generated by graphviz version 2.40.1 (20161225.0304)\n -->\n<!-- Title: %3 Pages: 1 -->\n<svg width=\"532pt\" height=\"163pt\"\n viewBox=\"0.00 0.00 532.49 162.96\" xmlns=\"http://www.w3.org/2000/svg\" xmlns:xlink=\"http://www.w3.org/1999/xlink\">\n<g id=\"graph0\" class=\"graph\" transform=\"scale(1 1) rotate(0) translate(4 158.9601)\">\n<title>%3</title>\n<polygon fill=\"#ffffff\" stroke=\"transparent\" points=\"-4,4 -4,-158.9601 528.4856,-158.9601 528.4856,4 -4,4\"/>\n<!-- EMPTY -->\n<g id=\"node1\" class=\"node\">\n<title>EMPTY</title>\n</g>\n<!-- I -->\n<g id=\"node2\" class=\"node\">\n<title>I</title>\n<ellipse fill=\"none\" stroke=\"#000000\" cx=\"109\" cy=\"-31.6124\" rx=\"18\" ry=\"18\"/>\n<text text-anchor=\"middle\" x=\"109\" y=\"-27.9124\" font-family=\"Times,serif\" font-size=\"14.00\" fill=\"#000000\">I</text>\n</g>\n<!-- EMPTY&#45;&gt;I -->\n<g id=\"edge1\" class=\"edge\">\n<title>EMPTY&#45;&gt;I</title>\n<path fill=\"none\" stroke=\"#000000\" d=\"M54.3048,-31.6124C62.6909,-31.6124 71.9407,-31.6124 80.4103,-31.6124\"/>\n<polygon fill=\"#000000\" stroke=\"#000000\" points=\"80.5976,-35.1125 90.5976,-31.6124 80.5976,-28.1125 80.5976,-35.1125\"/>\n</g>\n<!-- WA -->\n<g id=\"node3\" class=\"node\">\n<title>WA</title>\n<ellipse fill=\"none\" stroke=\"#000000\" cx=\"227.3478\" cy=\"-96.6124\" rx=\"25.1964\" ry=\"25.1964\"/>\n<text text-anchor=\"middle\" x=\"227.3478\" y=\"-92.9124\" font-family=\"Times,serif\" font-size=\"14.00\" fill=\"#000000\">WA</text>\n</g>\n<!-- I&#45;&gt;WA -->\n<g id=\"edge2\" class=\"edge\">\n<title>I&#45;&gt;WA</title>\n<path fill=\"none\" stroke=\"#000000\" d=\"M124.9609,-40.3786C143.0387,-50.3074 172.9477,-66.7343 195.7847,-79.277\"/>\n<polygon fill=\"#000000\" stroke=\"#000000\" points=\"194.3218,-82.4667 204.7718,-84.213 197.6917,-76.3312 194.3218,-82.4667\"/>\n<text text-anchor=\"middle\" x=\"164.5\" y=\"-75.4124\" font-family=\"Times,serif\" font-size=\"14.00\" fill=\"#000000\">a ; σ,R</text>\n</g>\n<!-- WB -->\n<g id=\"node4\" class=\"node\">\n<title>WB</title>\n<ellipse fill=\"none\" stroke=\"#000000\" cx=\"354.6932\" cy=\"-39.6124\" rx=\"25.9954\" ry=\"25.9954\"/>\n<text text-anchor=\"middle\" x=\"354.6932\" y=\"-35.9124\" font-family=\"Times,serif\" font-size=\"14.00\" fill=\"#000000\">WB</text>\n</g>\n<!-- I&#45;&gt;WB -->\n<g id=\"edge3\" class=\"edge\">\n<title>I&#45;&gt;WB</title>\n<path fill=\"none\" stroke=\"#000000\" d=\"M127.0664,-32.2006C167.3772,-33.5132 265.3023,-36.7017 318.6313,-38.4382\"/>\n<polygon fill=\"#000000\" stroke=\"#000000\" points=\"318.5636,-41.9377 328.6722,-38.7651 318.7915,-34.9414 318.5636,-41.9377\"/>\n<text text-anchor=\"middle\" x=\"227.3478\" y=\"-39.4124\" font-family=\"Times,serif\" font-size=\"14.00\" fill=\"#000000\">b ; σ,R</text>\n</g>\n<!-- Fhalt -->\n<g id=\"node5\" class=\"node\">\n<title>Fhalt</title>\n<ellipse fill=\"none\" stroke=\"#000000\" cx=\"490.5882\" cy=\"-39.6124\" rx=\"29.8071\" ry=\"29.8071\"/>\n<ellipse fill=\"none\" stroke=\"#000000\" cx=\"490.5882\" cy=\"-39.6124\" rx=\"33.795\" ry=\"33.795\"/>\n<text text-anchor=\"middle\" x=\"490.5882\" y=\"-35.9124\" font-family=\"Times,serif\" font-size=\"14.00\" fill=\"#000000\">Fhalt</text>\n</g>\n<!-- I&#45;&gt;Fhalt -->\n<g id=\"edge4\" class=\"edge\">\n<title>I&#45;&gt;Fhalt</title>\n<path fill=\"none\" stroke=\"#000000\" d=\"M126.5666,-26.8027C169.9144,-15.5986 285.374,10.1993 380.6909,-4.6124 403.986,-8.2323 429.0984,-15.9254 449.4295,-23.1795\"/>\n<polygon fill=\"#000000\" stroke=\"#000000\" points=\"448.4035,-26.5311 458.9972,-26.6856 450.8121,-19.9585 448.4035,-26.5311\"/>\n<text text-anchor=\"middle\" x=\"290.6955\" y=\"-6.4124\" font-family=\"Times,serif\" font-size=\"14.00\" fill=\"#000000\"># ; σ,R</text>\n</g>\n<!-- WA&#45;&gt;WA -->\n<g id=\"edge5\" class=\"edge\">\n<title>WA&#45;&gt;WA</title>\n<path fill=\"none\" stroke=\"#000000\" d=\"M216.0066,-119.3599C214.6064,-130.3014 218.3868,-139.9601 227.3478,-139.9601 233.3684,-139.9601 237.0504,-135.6 238.3939,-129.4202\"/>\n<polygon fill=\"#000000\" stroke=\"#000000\" points=\"241.8942,-129.4583 238.6889,-119.3599 234.8972,-129.253 241.8942,-129.4583\"/>\n<text text-anchor=\"middle\" x=\"227.3478\" y=\"-143.7601\" font-family=\"Times,serif\" font-size=\"14.00\" fill=\"#000000\">a ; a,R</text>\n</g>\n<!-- WA&#45;&gt;WB -->\n<g id=\"edge6\" class=\"edge\">\n<title>WA&#45;&gt;WB</title>\n<path fill=\"none\" stroke=\"#000000\" d=\"M247.2197,-80.3675C254.3169,-75.129 262.573,-69.6417 270.6955,-65.6124 286.0642,-57.9884 304.1272,-52.0476 319.557,-47.7814\"/>\n<polygon fill=\"#000000\" stroke=\"#000000\" points=\"320.4865,-51.156 329.2615,-45.2188 318.6993,-44.3879 320.4865,-51.156\"/>\n<text text-anchor=\"middle\" x=\"290.6955\" y=\"-69.4124\" font-family=\"Times,serif\" font-size=\"14.00\" fill=\"#000000\">b ; a,R</text>\n</g>\n<!-- WA&#45;&gt;Fhalt -->\n<g id=\"edge7\" class=\"edge\">\n<title>WA&#45;&gt;Fhalt</title>\n<path fill=\"none\" stroke=\"#000000\" d=\"M250.8234,-106.3253C257.164,-108.507 264.0988,-110.5033 270.6955,-111.6124 318.9376,-119.7233 334.0382,-122.3301 380.6909,-107.6124 407.9595,-99.0099 435.3135,-82.1204 455.9102,-67.3266\"/>\n<polygon fill=\"#000000\" stroke=\"#000000\" points=\"458.0408,-70.1043 464.0208,-61.3584 453.892,-64.4663 458.0408,-70.1043\"/>\n<text text-anchor=\"middle\" x=\"354.6932\" y=\"-121.4124\" font-family=\"Times,serif\" font-size=\"14.00\" fill=\"#000000\"># ; a,R</text>\n</g>\n<!-- WB&#45;&gt;WA -->\n<g id=\"edge8\" class=\"edge\">\n<title>WB&#45;&gt;WA</title>\n<path fill=\"none\" stroke=\"#000000\" d=\"M337.6613,-59.7584C330.1511,-67.4116 320.7495,-75.5065 310.6955,-80.6124 296.0721,-88.0388 278.4076,-92.032 263.1113,-94.1736\"/>\n<polygon fill=\"#000000\" stroke=\"#000000\" points=\"262.4833,-90.7235 252.9665,-95.3798 263.3098,-97.6745 262.4833,-90.7235\"/>\n<text text-anchor=\"middle\" x=\"290.6955\" y=\"-96.4124\" font-family=\"Times,serif\" font-size=\"14.00\" fill=\"#000000\">a ; b,R</text>\n</g>\n<!-- WB&#45;&gt;WB -->\n<g id=\"edge9\" class=\"edge\">\n<title>WB&#45;&gt;WB</title>\n<path fill=\"none\" stroke=\"#000000\" d=\"M343.2981,-63.1505C342.055,-74.0697 345.8534,-83.6101 354.6932,-83.6101 360.6325,-83.6101 364.2959,-79.3034 365.6836,-73.1654\"/>\n<polygon fill=\"#000000\" stroke=\"#000000\" points=\"369.1816,-73.2837 366.0883,-63.1505 362.1873,-73.001 369.1816,-73.2837\"/>\n<text text-anchor=\"middle\" x=\"354.6932\" y=\"-87.4101\" font-family=\"Times,serif\" font-size=\"14.00\" fill=\"#000000\">b ; b,R</text>\n</g>\n<!-- WB&#45;&gt;Fhalt -->\n<g id=\"edge10\" class=\"edge\">\n<title>WB&#45;&gt;Fhalt</title>\n<path fill=\"none\" stroke=\"#000000\" d=\"M380.8951,-39.6124C399.3878,-39.6124 424.6159,-39.6124 446.2158,-39.6124\"/>\n<polygon fill=\"#000000\" stroke=\"#000000\" points=\"446.4826,-43.1125 456.4825,-39.6124 446.4825,-36.1125 446.4826,-43.1125\"/>\n<text text-anchor=\"middle\" x=\"418.6909\" y=\"-43.4124\" font-family=\"Times,serif\" font-size=\"14.00\" fill=\"#000000\"># ; b,R</text>\n</g>\n</g>\n</svg>\n"
          },
          "metadata": {
            "tags": []
          },
          "execution_count": 3
        }
      ]
    },
    {
      "cell_type": "code",
      "metadata": {
        "id": "dXEWVSNO0B_S",
        "outputId": "a0b2a535-6bad-4945-e90b-6abeb0f18321",
        "colab": {
          "base_uri": "https://localhost:8080/"
        }
      },
      "source": [
        "explore_tm(dtmInsChar, \"abab######\", 100)"
      ],
      "execution_count": 17,
      "outputs": [
        {
          "output_type": "stream",
          "text": [
            "Detailing the halted configs now.\n",
            "Accepted at  ('Fhalt', 5, 'σabab#####', 95)\n",
            " via .. \n",
            " ->('I', 0, 'abab######', 100)\n",
            " ->('WA', 1, 'σbab######', 99)\n",
            " ->('WB', 2, 'σaab######', 98)\n",
            " ->('WA', 3, 'σabb######', 97)\n",
            " ->('WB', 4, 'σaba######', 96)\n",
            " ->('Fhalt', 5, 'σabab#####', 95)\n"
          ],
          "name": "stdout"
        }
      ]
    },
    {
      "cell_type": "markdown",
      "metadata": {
        "id": "rgOacLFksrEm"
      },
      "source": [
        "## TODO Create a DTM to Copy a String"
      ]
    },
    {
      "cell_type": "markdown",
      "metadata": {
        "id": "Iw2WYYVPsuqJ"
      },
      "source": [
        "Let $\\sqcup$ represent the blank symbol. A *Copy* DTM starts with tape $\\sqcup\\ x$ where $x$ is a string of nonblank symbols, and ends up with $\\sqcup\\ x \\sqcup x$. Again, assume the input alphabet is $\\{a, b\\}$.\n",
        "\n",
        "HINT: This DTM requires about 10 states, and not quite double that many transitions."
      ]
    },
    {
      "cell_type": "code",
      "metadata": {
        "id": "QSlCBPgcGcas",
        "colab": {
          "base_uri": "https://localhost:8080/",
          "height": 573
        },
        "outputId": "641d585d-4179-4d6d-bf2b-6e8bacf790bf"
      },
      "source": [
        "# DTM to copy a string\r\n",
        "## ⊔ square cup\r\n",
        "dtmCpyStr = md2mc('''TM\r\n",
        "!!cs   sr sw  md   ns\r\n",
        "  I     : ⊔; ⊔, R -> S\r\n",
        "\r\n",
        "!!S reads the tape and goes to the next corresponding node.\r\n",
        "  S     : a; A, R -> GTRa\r\n",
        "  S     : b; B, R -> GTRb\r\n",
        "  S     : ⊔; ⊔, S -> Fhalt\r\n",
        "\r\n",
        "!!GTRa goes right until it hits an empty symbol or a blank symbol. \r\n",
        "!!It will overwrite an empty stmbol to a blank symbol if necessary.\r\n",
        "!!It will then move on to GTRa2.\r\n",
        "  GTRa  : a; a, R -> GTRa\r\n",
        "  GTRa  : b; b, R -> GTRa\r\n",
        "  GTRa  : #; ⊔, R -> GTRa2\r\n",
        "  GTRa  : ⊔; ⊔, R -> GTRa2\r\n",
        "\r\n",
        "!!GTRa2 goes right until it hits an empty symbol. \r\n",
        "!!It will then overwrite the empty symbol with an 'a'.\r\n",
        "  GTRa2 : a; a, R -> GTRa2\r\n",
        "  GTRa2 : b; b, R -> GTRa2\r\n",
        "  GTRa2 : #; a, L -> GTL1\r\n",
        "\r\n",
        "!!GTRb goes right until it hits an empty symbol or a blank symbol. \r\n",
        "!!It will overwrite an empty stmbol to a blank symbol if necessary.\r\n",
        "!!It will then move on to GTRb2.\r\n",
        "  GTRb  : a; a, R -> GTRb\r\n",
        "  GTRb  : b; b, R -> GTRb\r\n",
        "  GTRb  : #; ⊔, R -> GTRb2\r\n",
        "  GTRb  : ⊔; ⊔, R -> GTRb2\r\n",
        "\r\n",
        "!!GTRb2 goes right until it hits an empty symbol. \r\n",
        "!!It will then overwrite the empty symbol with a 'b'.\r\n",
        "  GTRb2 : a; a, R -> GTRb2\r\n",
        "  GTRb2 : b; b, R -> GTRb2\r\n",
        "  GTRb2 : #; b, L -> GTL1\r\n",
        "\r\n",
        "!!GTL1 is going left until it hits the ⊔ for the copy of the string.\r\n",
        "  GTL1  : a; a, L -> GTL1\r\n",
        "  GTL1  : b; b, L -> GTL1\r\n",
        "  GTL1  : ⊔; ⊔, L -> GTL2\r\n",
        "\r\n",
        "!!GTL2 is going left the second time to copy the next symbol.\r\n",
        "  GTL2  : a; a, L -> GTL2\r\n",
        "  GTL2  : b; b, L -> GTL2\r\n",
        "  GTL2  : A; a, R -> S\r\n",
        "  GTL2  : B; b, R -> S\r\n",
        "\r\n",
        "''')\r\n",
        "DO_dtmCpyStr = dotObj_tm(dtmCpyStr, FuseEdges=True)\r\n",
        "DO_dtmCpyStr.render('dtmCpyStr')\r\n",
        "DO_dtmCpyStr"
      ],
      "execution_count": 14,
      "outputs": [
        {
          "output_type": "execute_result",
          "data": {
            "text/plain": [
              "<graphviz.dot.Digraph at 0x7f5cbdd66750>"
            ],
            "image/svg+xml": "<?xml version=\"1.0\" encoding=\"UTF-8\" standalone=\"no\"?>\n<!DOCTYPE svg PUBLIC \"-//W3C//DTD SVG 1.1//EN\"\n \"http://www.w3.org/Graphics/SVG/1.1/DTD/svg11.dtd\">\n<!-- Generated by graphviz version 2.40.1 (20161225.0304)\n -->\n<!-- Title: %3 Pages: 1 -->\n<svg width=\"894pt\" height=\"414pt\"\n viewBox=\"0.00 0.00 893.97 413.90\" xmlns=\"http://www.w3.org/2000/svg\" xmlns:xlink=\"http://www.w3.org/1999/xlink\">\n<g id=\"graph0\" class=\"graph\" transform=\"scale(1 1) rotate(0) translate(4 409.8973)\">\n<title>%3</title>\n<polygon fill=\"#ffffff\" stroke=\"transparent\" points=\"-4,4 -4,-409.8973 889.9746,-409.8973 889.9746,4 -4,4\"/>\n<!-- EMPTY -->\n<g id=\"node1\" class=\"node\">\n<title>EMPTY</title>\n</g>\n<!-- I -->\n<g id=\"node2\" class=\"node\">\n<title>I</title>\n<ellipse fill=\"none\" stroke=\"#000000\" cx=\"109\" cy=\"-203.8973\" rx=\"18\" ry=\"18\"/>\n<text text-anchor=\"middle\" x=\"109\" y=\"-200.1973\" font-family=\"Times,serif\" font-size=\"14.00\" fill=\"#000000\">I</text>\n</g>\n<!-- EMPTY&#45;&gt;I -->\n<g id=\"edge1\" class=\"edge\">\n<title>EMPTY&#45;&gt;I</title>\n<path fill=\"none\" stroke=\"#000000\" d=\"M54.3048,-203.8973C62.6909,-203.8973 71.9407,-203.8973 80.4103,-203.8973\"/>\n<polygon fill=\"#000000\" stroke=\"#000000\" points=\"80.5976,-207.3974 90.5976,-203.8973 80.5976,-200.3974 80.5976,-207.3974\"/>\n</g>\n<!-- S -->\n<g id=\"node8\" class=\"node\">\n<title>S</title>\n<ellipse fill=\"none\" stroke=\"#000000\" cx=\"235\" cy=\"-203.8973\" rx=\"18\" ry=\"18\"/>\n<text text-anchor=\"middle\" x=\"235\" y=\"-200.1973\" font-family=\"Times,serif\" font-size=\"14.00\" fill=\"#000000\">S</text>\n</g>\n<!-- I&#45;&gt;S -->\n<g id=\"edge2\" class=\"edge\">\n<title>I&#45;&gt;S</title>\n<path fill=\"none\" stroke=\"#000000\" d=\"M127.0527,-203.8973C147.9177,-203.8973 182.5072,-203.8973 206.8994,-203.8973\"/>\n<polygon fill=\"#000000\" stroke=\"#000000\" points=\"206.9808,-207.3974 216.9808,-203.8973 206.9807,-200.3974 206.9808,-207.3974\"/>\n<text text-anchor=\"middle\" x=\"172\" y=\"-207.6973\" font-family=\"Times,serif\" font-size=\"14.00\" fill=\"#000000\">⊔ ; ⊔,R</text>\n</g>\n<!-- GTL2 -->\n<g id=\"node3\" class=\"node\">\n<title>GTL2</title>\n<ellipse fill=\"none\" stroke=\"#000000\" cx=\"851.5277\" cy=\"-314.8973\" rx=\"34.394\" ry=\"34.394\"/>\n<text text-anchor=\"middle\" x=\"851.5277\" y=\"-311.1973\" font-family=\"Times,serif\" font-size=\"14.00\" fill=\"#000000\">GTL2</text>\n</g>\n<!-- GTL2&#45;&gt;GTL2 -->\n<g id=\"edge16\" class=\"edge\">\n<title>GTL2&#45;&gt;GTL2</title>\n<path fill=\"none\" stroke=\"#000000\" d=\"M836.9348,-346.1264C836.4564,-357.7644 841.3207,-367.3443 851.5277,-367.3443 858.545,-367.3443 863.0371,-362.8163 865.0038,-356.2045\"/>\n<polygon fill=\"#000000\" stroke=\"#000000\" points=\"868.4979,-356.4511 866.1205,-346.1264 861.5404,-355.6801 868.4979,-356.4511\"/>\n<text text-anchor=\"middle\" x=\"851.5277\" y=\"-386.1443\" font-family=\"Times,serif\" font-size=\"14.00\" fill=\"#000000\">b ; b,L </text>\n<text text-anchor=\"middle\" x=\"851.5277\" y=\"-371.1443\" font-family=\"Times,serif\" font-size=\"14.00\" fill=\"#000000\"> a ; a,L</text>\n</g>\n<!-- GTL2&#45;&gt;S -->\n<g id=\"edge17\" class=\"edge\">\n<title>GTL2&#45;&gt;S</title>\n<path fill=\"none\" stroke=\"#000000\" d=\"M822.5522,-333.5308C791.8237,-351.4698 741.2403,-375.8973 693.6338,-375.8973 375.4469,-375.8973 375.4469,-375.8973 375.4469,-375.8973 301.4844,-375.8973 259.5001,-279.2949 243.1038,-230.8832\"/>\n<polygon fill=\"#000000\" stroke=\"#000000\" points=\"246.4186,-229.7586 239.9911,-221.3362 239.7634,-231.9286 246.4186,-229.7586\"/>\n<text text-anchor=\"middle\" x=\"543.5404\" y=\"-394.6973\" font-family=\"Times,serif\" font-size=\"14.00\" fill=\"#000000\">B ; b,R </text>\n<text text-anchor=\"middle\" x=\"543.5404\" y=\"-379.6973\" font-family=\"Times,serif\" font-size=\"14.00\" fill=\"#000000\"> A ; a,R</text>\n</g>\n<!-- GTRa -->\n<g id=\"node4\" class=\"node\">\n<title>GTRa</title>\n<ellipse fill=\"none\" stroke=\"#000000\" cx=\"375.4469\" cy=\"-253.8973\" rx=\"33.5952\" ry=\"33.5952\"/>\n<text text-anchor=\"middle\" x=\"375.4469\" y=\"-250.1973\" font-family=\"Times,serif\" font-size=\"14.00\" fill=\"#000000\">GTRa</text>\n</g>\n<!-- GTRa&#45;&gt;GTRa -->\n<g id=\"edge6\" class=\"edge\">\n<title>GTRa&#45;&gt;GTRa</title>\n<path fill=\"none\" stroke=\"#000000\" d=\"M360.8657,-284.4818C360.3033,-296.0915 365.1637,-305.6943 375.4469,-305.6943 382.5166,-305.6943 387.0232,-301.1555 388.9667,-294.5461\"/>\n<polygon fill=\"#000000\" stroke=\"#000000\" points=\"392.4599,-294.7937 390.0282,-284.4818 385.4985,-294.0595 392.4599,-294.7937\"/>\n<text text-anchor=\"middle\" x=\"375.4469\" y=\"-324.4943\" font-family=\"Times,serif\" font-size=\"14.00\" fill=\"#000000\">b ; b,R </text>\n<text text-anchor=\"middle\" x=\"375.4469\" y=\"-309.4943\" font-family=\"Times,serif\" font-size=\"14.00\" fill=\"#000000\"> a ; a,R</text>\n</g>\n<!-- GTRa2 -->\n<g id=\"node9\" class=\"node\">\n<title>GTRa2</title>\n<ellipse fill=\"none\" stroke=\"#000000\" cx=\"543.5404\" cy=\"-253.8973\" rx=\"38.1938\" ry=\"38.1938\"/>\n<text text-anchor=\"middle\" x=\"543.5404\" y=\"-250.1973\" font-family=\"Times,serif\" font-size=\"14.00\" fill=\"#000000\">GTRa2</text>\n</g>\n<!-- GTRa&#45;&gt;GTRa2 -->\n<g id=\"edge7\" class=\"edge\">\n<title>GTRa&#45;&gt;GTRa2</title>\n<path fill=\"none\" stroke=\"#000000\" d=\"M409.4632,-253.8973C434.047,-253.8973 467.6097,-253.8973 495.0047,-253.8973\"/>\n<polygon fill=\"#000000\" stroke=\"#000000\" points=\"495.1706,-257.3974 505.1706,-253.8973 495.1706,-250.3974 495.1706,-257.3974\"/>\n<text text-anchor=\"middle\" x=\"456.8939\" y=\"-272.6973\" font-family=\"Times,serif\" font-size=\"14.00\" fill=\"#000000\"># ; ⊔,R </text>\n<text text-anchor=\"middle\" x=\"456.8939\" y=\"-257.6973\" font-family=\"Times,serif\" font-size=\"14.00\" fill=\"#000000\"> ⊔ ; ⊔,R</text>\n</g>\n<!-- GTRb -->\n<g id=\"node5\" class=\"node\">\n<title>GTRb</title>\n<ellipse fill=\"none\" stroke=\"#000000\" cx=\"375.4469\" cy=\"-119.8973\" rx=\"34.394\" ry=\"34.394\"/>\n<text text-anchor=\"middle\" x=\"375.4469\" y=\"-116.1973\" font-family=\"Times,serif\" font-size=\"14.00\" fill=\"#000000\">GTRb</text>\n</g>\n<!-- GTRb&#45;&gt;GTRb -->\n<g id=\"edge10\" class=\"edge\">\n<title>GTRb&#45;&gt;GTRb</title>\n<path fill=\"none\" stroke=\"#000000\" d=\"M360.8541,-151.1264C360.3756,-162.7644 365.2399,-172.3443 375.4469,-172.3443 382.4643,-172.3443 386.9563,-167.8163 388.9231,-161.2045\"/>\n<polygon fill=\"#000000\" stroke=\"#000000\" points=\"392.4171,-161.4511 390.0398,-151.1264 385.4597,-160.6801 392.4171,-161.4511\"/>\n<text text-anchor=\"middle\" x=\"375.4469\" y=\"-191.1443\" font-family=\"Times,serif\" font-size=\"14.00\" fill=\"#000000\">b ; b,R </text>\n<text text-anchor=\"middle\" x=\"375.4469\" y=\"-176.1443\" font-family=\"Times,serif\" font-size=\"14.00\" fill=\"#000000\"> a ; a,R</text>\n</g>\n<!-- GTRb2 -->\n<g id=\"node6\" class=\"node\">\n<title>GTRb2</title>\n<ellipse fill=\"none\" stroke=\"#000000\" cx=\"543.5404\" cy=\"-109.8973\" rx=\"39.7935\" ry=\"39.7935\"/>\n<text text-anchor=\"middle\" x=\"543.5404\" y=\"-106.1973\" font-family=\"Times,serif\" font-size=\"14.00\" fill=\"#000000\">GTRb2</text>\n</g>\n<!-- GTRb&#45;&gt;GTRb2 -->\n<g id=\"edge11\" class=\"edge\">\n<title>GTRb&#45;&gt;GTRb2</title>\n<path fill=\"none\" stroke=\"#000000\" d=\"M409.8688,-117.8496C434.057,-116.4106 466.7888,-114.4634 493.8082,-112.8559\"/>\n<polygon fill=\"#000000\" stroke=\"#000000\" points=\"494.0798,-116.3461 503.8543,-112.2583 493.664,-109.3584 494.0798,-116.3461\"/>\n<text text-anchor=\"middle\" x=\"456.8939\" y=\"-134.6973\" font-family=\"Times,serif\" font-size=\"14.00\" fill=\"#000000\"># ; ⊔,R </text>\n<text text-anchor=\"middle\" x=\"456.8939\" y=\"-119.6973\" font-family=\"Times,serif\" font-size=\"14.00\" fill=\"#000000\"> ⊔ ; ⊔,R</text>\n</g>\n<!-- GTRb2&#45;&gt;GTRb2 -->\n<g id=\"edge12\" class=\"edge\">\n<title>GTRb2&#45;&gt;GTRb2</title>\n<path fill=\"none\" stroke=\"#000000\" d=\"M529.3043,-147.045C529.5919,-158.5272 534.3372,-167.5438 543.5404,-167.5438 549.7237,-167.5438 553.8948,-163.4736 556.0535,-157.32\"/>\n<polygon fill=\"#000000\" stroke=\"#000000\" points=\"559.5744,-157.4862 557.7765,-147.045 552.6708,-156.3285 559.5744,-157.4862\"/>\n<text text-anchor=\"middle\" x=\"543.5404\" y=\"-186.3438\" font-family=\"Times,serif\" font-size=\"14.00\" fill=\"#000000\">b ; b,R </text>\n<text text-anchor=\"middle\" x=\"543.5404\" y=\"-171.3438\" font-family=\"Times,serif\" font-size=\"14.00\" fill=\"#000000\"> a ; a,R</text>\n</g>\n<!-- GTL1 -->\n<g id=\"node7\" class=\"node\">\n<title>GTL1</title>\n<ellipse fill=\"none\" stroke=\"#000000\" cx=\"693.6338\" cy=\"-253.8973\" rx=\"34.394\" ry=\"34.394\"/>\n<text text-anchor=\"middle\" x=\"693.6338\" y=\"-250.1973\" font-family=\"Times,serif\" font-size=\"14.00\" fill=\"#000000\">GTL1</text>\n</g>\n<!-- GTRb2&#45;&gt;GTL1 -->\n<g id=\"edge13\" class=\"edge\">\n<title>GTRb2&#45;&gt;GTL1</title>\n<path fill=\"none\" stroke=\"#000000\" d=\"M572.4799,-137.662C597.9107,-162.0604 634.8743,-197.5233 661.2761,-222.8533\"/>\n<polygon fill=\"#000000\" stroke=\"#000000\" points=\"659.1256,-225.6404 668.7647,-230.0379 663.9718,-220.5892 659.1256,-225.6404\"/>\n<text text-anchor=\"middle\" x=\"621.1869\" y=\"-206.6973\" font-family=\"Times,serif\" font-size=\"14.00\" fill=\"#000000\"># ; b,L</text>\n</g>\n<!-- GTL1&#45;&gt;GTL2 -->\n<g id=\"edge15\" class=\"edge\">\n<title>GTL1&#45;&gt;GTL2</title>\n<path fill=\"none\" stroke=\"#000000\" d=\"M725.967,-266.3888C750.1276,-275.7229 783.3628,-288.5628 809.5709,-298.6879\"/>\n<polygon fill=\"#000000\" stroke=\"#000000\" points=\"808.6483,-302.0836 819.2377,-302.4226 811.171,-295.5539 808.6483,-302.0836\"/>\n<text text-anchor=\"middle\" x=\"772.5807\" y=\"-296.6973\" font-family=\"Times,serif\" font-size=\"14.00\" fill=\"#000000\">⊔ ; ⊔,L</text>\n</g>\n<!-- GTL1&#45;&gt;GTL1 -->\n<g id=\"edge14\" class=\"edge\">\n<title>GTL1&#45;&gt;GTL1</title>\n<path fill=\"none\" stroke=\"#000000\" d=\"M680.147,-285.6461C679.8569,-297.0483 684.3525,-306.3443 693.6338,-306.3443 699.8696,-306.3443 703.9452,-302.1479 705.8604,-295.9358\"/>\n<polygon fill=\"#000000\" stroke=\"#000000\" points=\"709.3789,-295.9975 707.1206,-285.6461 702.4308,-295.1464 709.3789,-295.9975\"/>\n<text text-anchor=\"middle\" x=\"693.6338\" y=\"-325.1443\" font-family=\"Times,serif\" font-size=\"14.00\" fill=\"#000000\">b ; b,L </text>\n<text text-anchor=\"middle\" x=\"693.6338\" y=\"-310.1443\" font-family=\"Times,serif\" font-size=\"14.00\" fill=\"#000000\"> a ; a,L</text>\n</g>\n<!-- S&#45;&gt;GTRa -->\n<g id=\"edge3\" class=\"edge\">\n<title>S&#45;&gt;GTRa</title>\n<path fill=\"none\" stroke=\"#000000\" d=\"M252.2216,-210.0283C272.3798,-217.2048 306.4691,-229.3408 333.6894,-239.0314\"/>\n<polygon fill=\"#000000\" stroke=\"#000000\" points=\"332.7739,-242.4206 343.3686,-242.4773 335.1217,-235.8261 332.7739,-242.4206\"/>\n<text text-anchor=\"middle\" x=\"297\" y=\"-237.6973\" font-family=\"Times,serif\" font-size=\"14.00\" fill=\"#000000\">a ; A,R</text>\n</g>\n<!-- S&#45;&gt;GTRb -->\n<g id=\"edge4\" class=\"edge\">\n<title>S&#45;&gt;GTRb</title>\n<path fill=\"none\" stroke=\"#000000\" d=\"M250.5669,-194.5869C271.2539,-182.2142 308.502,-159.9365 336.9523,-142.9206\"/>\n<polygon fill=\"#000000\" stroke=\"#000000\" points=\"339.0625,-145.7368 345.8481,-137.6001 335.4694,-139.7293 339.0625,-145.7368\"/>\n<text text-anchor=\"middle\" x=\"297\" y=\"-184.6973\" font-family=\"Times,serif\" font-size=\"14.00\" fill=\"#000000\">b ; B,R</text>\n</g>\n<!-- Fhalt -->\n<g id=\"node10\" class=\"node\">\n<title>Fhalt</title>\n<ellipse fill=\"none\" stroke=\"#000000\" cx=\"375.4469\" cy=\"-33.8973\" rx=\"29.8071\" ry=\"29.8071\"/>\n<ellipse fill=\"none\" stroke=\"#000000\" cx=\"375.4469\" cy=\"-33.8973\" rx=\"33.795\" ry=\"33.795\"/>\n<text text-anchor=\"middle\" x=\"375.4469\" y=\"-30.1973\" font-family=\"Times,serif\" font-size=\"14.00\" fill=\"#000000\">Fhalt</text>\n</g>\n<!-- S&#45;&gt;Fhalt -->\n<g id=\"edge5\" class=\"edge\">\n<title>S&#45;&gt;Fhalt</title>\n<path fill=\"none\" stroke=\"#000000\" d=\"M241.6551,-186.8978C247.9699,-171.8986 258.3601,-149.8487 271,-132.8973 291.0851,-105.9612 318.892,-80.0046 340.7647,-61.432\"/>\n<polygon fill=\"#000000\" stroke=\"#000000\" points=\"343.1058,-64.0368 348.5293,-54.9354 338.6138,-58.6681 343.1058,-64.0368\"/>\n<text text-anchor=\"middle\" x=\"297\" y=\"-136.6973\" font-family=\"Times,serif\" font-size=\"14.00\" fill=\"#000000\">⊔ ; ⊔,S</text>\n</g>\n<!-- GTRa2&#45;&gt;GTL1 -->\n<g id=\"edge9\" class=\"edge\">\n<title>GTRa2&#45;&gt;GTL1</title>\n<path fill=\"none\" stroke=\"#000000\" d=\"M582.1932,-253.8973C602.571,-253.8973 627.6726,-253.8973 648.8901,-253.8973\"/>\n<polygon fill=\"#000000\" stroke=\"#000000\" points=\"648.9564,-257.3974 658.9563,-253.8973 648.9563,-250.3974 648.9564,-257.3974\"/>\n<text text-anchor=\"middle\" x=\"621.1869\" y=\"-257.6973\" font-family=\"Times,serif\" font-size=\"14.00\" fill=\"#000000\"># ; a,L</text>\n</g>\n<!-- GTRa2&#45;&gt;GTRa2 -->\n<g id=\"edge8\" class=\"edge\">\n<title>GTRa2&#45;&gt;GTRa2</title>\n<path fill=\"none\" stroke=\"#000000\" d=\"M529.2938,-289.6625C529.44,-301.144 534.1888,-310.2439 543.5404,-310.2439 549.8235,-310.2439 554.0288,-306.1361 556.1564,-299.958\"/>\n<polygon fill=\"#000000\" stroke=\"#000000\" points=\"559.6795,-300.0869 557.7869,-289.6625 552.7657,-298.9919 559.6795,-300.0869\"/>\n<text text-anchor=\"middle\" x=\"543.5404\" y=\"-329.0439\" font-family=\"Times,serif\" font-size=\"14.00\" fill=\"#000000\">b ; b,R </text>\n<text text-anchor=\"middle\" x=\"543.5404\" y=\"-314.0439\" font-family=\"Times,serif\" font-size=\"14.00\" fill=\"#000000\"> a ; a,R</text>\n</g>\n</g>\n</svg>\n"
          },
          "metadata": {
            "tags": []
          },
          "execution_count": 14
        }
      ]
    },
    {
      "cell_type": "code",
      "metadata": {
        "id": "hvYY8Nrvxx0S",
        "outputId": "84550814-1d98-4a3f-c3f2-cc617a32ee0b",
        "colab": {
          "base_uri": "https://localhost:8080/"
        }
      },
      "source": [
        "explore_tm(dtmCpyStr, \"⊔abab######\", 100)"
      ],
      "execution_count": 15,
      "outputs": [
        {
          "output_type": "stream",
          "text": [
            "Detailing the halted configs now.\n",
            "Accepted at  ('Fhalt', 5, '⊔abab⊔abab#', 54)\n",
            " via .. \n",
            " ->('I', 0, '⊔abab######', 100)\n",
            " ->('S', 1, '⊔abab######', 99)\n",
            " ->('GTRa', 2, '⊔Abab######', 98)\n",
            " ->('GTRa', 3, '⊔Abab######', 97)\n",
            " ->('GTRa', 4, '⊔Abab######', 96)\n",
            " ->('GTRa', 5, '⊔Abab######', 95)\n",
            " ->('GTRa2', 6, '⊔Abab⊔#####', 94)\n",
            " ->('GTL1', 5, '⊔Abab⊔a####', 93)\n",
            " ->('GTL2', 4, '⊔Abab⊔a####', 92)\n",
            " ->('GTL2', 3, '⊔Abab⊔a####', 91)\n",
            " ->('GTL2', 2, '⊔Abab⊔a####', 90)\n",
            " ->('GTL2', 1, '⊔Abab⊔a####', 89)\n",
            " ->('S', 2, '⊔abab⊔a####', 88)\n",
            " ->('GTRb', 3, '⊔aBab⊔a####', 87)\n",
            " ->('GTRb', 4, '⊔aBab⊔a####', 86)\n",
            " ->('GTRb', 5, '⊔aBab⊔a####', 85)\n",
            " ->('GTRb2', 6, '⊔aBab⊔a####', 84)\n",
            " ->('GTRb2', 7, '⊔aBab⊔a####', 83)\n",
            " ->('GTL1', 6, '⊔aBab⊔ab###', 82)\n",
            " ->('GTL1', 5, '⊔aBab⊔ab###', 81)\n",
            " ->('GTL2', 4, '⊔aBab⊔ab###', 80)\n",
            " ->('GTL2', 3, '⊔aBab⊔ab###', 79)\n",
            " ->('GTL2', 2, '⊔aBab⊔ab###', 78)\n",
            " ->('S', 3, '⊔abab⊔ab###', 77)\n",
            " ->('GTRa', 4, '⊔abAb⊔ab###', 76)\n",
            " ->('GTRa', 5, '⊔abAb⊔ab###', 75)\n",
            " ->('GTRa2', 6, '⊔abAb⊔ab###', 74)\n",
            " ->('GTRa2', 7, '⊔abAb⊔ab###', 73)\n",
            " ->('GTRa2', 8, '⊔abAb⊔ab###', 72)\n",
            " ->('GTL1', 7, '⊔abAb⊔aba##', 71)\n",
            " ->('GTL1', 6, '⊔abAb⊔aba##', 70)\n",
            " ->('GTL1', 5, '⊔abAb⊔aba##', 69)\n",
            " ->('GTL2', 4, '⊔abAb⊔aba##', 68)\n",
            " ->('GTL2', 3, '⊔abAb⊔aba##', 67)\n",
            " ->('S', 4, '⊔abab⊔aba##', 66)\n",
            " ->('GTRb', 5, '⊔abaB⊔aba##', 65)\n",
            " ->('GTRb2', 6, '⊔abaB⊔aba##', 64)\n",
            " ->('GTRb2', 7, '⊔abaB⊔aba##', 63)\n",
            " ->('GTRb2', 8, '⊔abaB⊔aba##', 62)\n",
            " ->('GTRb2', 9, '⊔abaB⊔aba##', 61)\n",
            " ->('GTL1', 8, '⊔abaB⊔abab#', 60)\n",
            " ->('GTL1', 7, '⊔abaB⊔abab#', 59)\n",
            " ->('GTL1', 6, '⊔abaB⊔abab#', 58)\n",
            " ->('GTL1', 5, '⊔abaB⊔abab#', 57)\n",
            " ->('GTL2', 4, '⊔abaB⊔abab#', 56)\n",
            " ->('S', 5, '⊔abab⊔abab#', 55)\n",
            " ->('Fhalt', 5, '⊔abab⊔abab#', 54)\n"
          ],
          "name": "stdout"
        }
      ]
    },
    {
      "cell_type": "markdown",
      "metadata": {
        "id": "sTNke7j5t9D6"
      },
      "source": [
        "## TODO Refresh Your Knowledge of the 3x+1 Conjecture"
      ]
    },
    {
      "cell_type": "markdown",
      "metadata": {
        "id": "NpXXTnxMuN8t"
      },
      "source": [
        "The code on page 200 does the 3x+1 Conjecture testing recursively:"
      ]
    },
    {
      "cell_type": "code",
      "metadata": {
        "id": "8E-aZBdbuCo5",
        "colab": {
          "base_uri": "https://localhost:8080/"
        },
        "outputId": "f67f79c6-7679-4fe8-c8ae-9b45901ec916"
      },
      "source": [
        "def tep1(x):\n",
        "    if (x==1):\n",
        "        return 1\n",
        "    elif (x%2 == 0):\n",
        "        return tep1(x/2)\n",
        "    else:\n",
        "        return tep1(3*x+1)\n",
        "\n",
        "print(tep1(3))\n",
        "print(tep1(191))\n",
        "print(tep1(19192949297080))\n",
        "print(tep1(191929492970809272397923472398492839482))\n",
        "print(tep1(191929492970809272397923472398492839482938492))"
      ],
      "execution_count": null,
      "outputs": [
        {
          "output_type": "stream",
          "text": [
            "1\n",
            "1\n",
            "1\n",
            "1\n",
            "1\n"
          ],
          "name": "stdout"
        }
      ]
    },
    {
      "cell_type": "markdown",
      "metadata": {
        "id": "4zkYEg08uZju"
      },
      "source": [
        "Two Python techniques --- \"memoizing\" and \"listifying\" --- make for faster code:"
      ]
    },
    {
      "cell_type": "code",
      "metadata": {
        "id": "er7VN37Au07d",
        "colab": {
          "base_uri": "https://localhost:8080/"
        },
        "outputId": "12f70638-6e0d-4af0-b336-7ebe028e296b"
      },
      "source": [
        "def memoize(func):\n",
        "    results = {}\n",
        "    def inner(i):\n",
        "        if not i in results:\n",
        "            results[i] = func(i)\n",
        "        return results[i]\n",
        "    return inner\n",
        "\n",
        "def listify(func):\n",
        "    def inner(x):\n",
        "        return list(func(x))\n",
        "    return inner\n",
        "\n",
        "@memoize\n",
        "def tep1(x):\n",
        "    return 1 if x == 2 else tep1(x/2) if x%2 == 0 else tep1(3*x+1)\n",
        "\n",
        "@listify\n",
        "def tepmany(x):\n",
        "    for i in range(1, x+1):\n",
        "        yield tep1(i)\n",
        "\n",
        "print(max(tepmany(100000)))"
      ],
      "execution_count": null,
      "outputs": [
        {
          "output_type": "stream",
          "text": [
            "1\n"
          ],
          "name": "stdout"
        }
      ]
    },
    {
      "cell_type": "markdown",
      "metadata": {
        "id": "0QX5geEMvvcw"
      },
      "source": [
        "# TODO Modify a NON-Trivial Turing Machine Program"
      ]
    },
    {
      "cell_type": "markdown",
      "metadata": {
        "id": "3TemaqVUv1MI"
      },
      "source": [
        "The Turing machine program on page 202 performs the continuing 3x+1 transformation on an input that is a binary number. So for example if the\n",
        "initial tape has\n",
        "\n",
        "$11$\n",
        "\n",
        "which is the binary representation of the decimal number three, the final tape\n",
        "will have\n",
        "\n",
        "$1$\n",
        "\n",
        "on it.\n",
        "\n",
        "Modify the program so that a trace of all intermediate results appears on the output tape, e.g.:\n",
        "\n",
        "$11*1010*101*10000*1000*100*10*1$\n",
        "\n",
        "which separates with a star the binary representations of the numbers in the\n",
        "continuing 3x+1 transformation from 3 to 10 to 5 to 16 to 8 to 4 to 2 to 1.\n"
      ]
    },
    {
      "cell_type": "markdown",
      "metadata": {
        "id": "EI6t5iPkwUwF"
      },
      "source": [
        "## 3x+1 Conjecture Python"
      ]
    },
    {
      "cell_type": "code",
      "metadata": {
        "id": "55Bgt5xIwSjj"
      },
      "source": [
        "collatz = lambda n: 1 if n==1 else collatz(3*n+1) if n%2 else collatz(n/2)"
      ],
      "execution_count": null,
      "outputs": []
    },
    {
      "cell_type": "code",
      "metadata": {
        "colab": {
          "base_uri": "https://localhost:8080/"
        },
        "id": "ZzDCLCkRw39W",
        "outputId": "521a97ee-25ee-4c07-a8a1-68329dffb408"
      },
      "source": [
        "collatz(3)"
      ],
      "execution_count": null,
      "outputs": [
        {
          "output_type": "execute_result",
          "data": {
            "text/plain": [
              "1"
            ]
          },
          "metadata": {
            "tags": []
          },
          "execution_count": 33
        }
      ]
    },
    {
      "cell_type": "code",
      "metadata": {
        "colab": {
          "base_uri": "https://localhost:8080/"
        },
        "id": "DTHvWiU9xeQ7",
        "outputId": "aada98f3-1098-40e8-9b2e-402414944ea3"
      },
      "source": [
        "collatz(121)"
      ],
      "execution_count": null,
      "outputs": [
        {
          "output_type": "execute_result",
          "data": {
            "text/plain": [
              "1"
            ]
          },
          "metadata": {
            "tags": []
          },
          "execution_count": 34
        }
      ]
    },
    {
      "cell_type": "code",
      "metadata": {
        "colab": {
          "base_uri": "https://localhost:8080/"
        },
        "id": "4UQKhK4yxgYk",
        "outputId": "94934718-c8ca-4957-c4c7-6f0fd17fbe51"
      },
      "source": [
        "collatz(123409827364509827387)"
      ],
      "execution_count": null,
      "outputs": [
        {
          "output_type": "execute_result",
          "data": {
            "text/plain": [
              "1"
            ]
          },
          "metadata": {
            "tags": []
          },
          "execution_count": 35
        }
      ]
    },
    {
      "cell_type": "code",
      "metadata": {
        "colab": {
          "base_uri": "https://localhost:8080/"
        },
        "id": "thccxAMgxjGb",
        "outputId": "7f8e8d46-ac03-463d-d069-0cb342d0c6a5"
      },
      "source": [
        "collatz(45978623485293845798213490871263497862345)"
      ],
      "execution_count": null,
      "outputs": [
        {
          "output_type": "execute_result",
          "data": {
            "text/plain": [
              "1"
            ]
          },
          "metadata": {
            "tags": []
          },
          "execution_count": 36
        }
      ]
    },
    {
      "cell_type": "markdown",
      "metadata": {
        "id": "OFUBMh4KxoMk"
      },
      "source": [
        "## 3x+1 With Steps Python"
      ]
    },
    {
      "cell_type": "code",
      "metadata": {
        "id": "fXkbRG0BxvIk"
      },
      "source": [
        "def collatz_with_steps(n):\r\n",
        "  n = int(n)\r\n",
        "  if n==1:\r\n",
        "    return 1\r\n",
        "  if n%2:\r\n",
        "    print(f\"n = {n}\\n3*{n}+1 = {int(3*n+1)}\\n\")\r\n",
        "    return collatz_with_steps(3*n+1)\r\n",
        "  else:\r\n",
        "    print(f\"n = {n}\\n{n}/2 = {int(n/2)}\\n\")\r\n",
        "    return collatz_with_steps(n/2)"
      ],
      "execution_count": null,
      "outputs": []
    },
    {
      "cell_type": "code",
      "metadata": {
        "colab": {
          "base_uri": "https://localhost:8080/"
        },
        "id": "j_jv57V0yjth",
        "outputId": "5235b517-46cd-49af-93be-5c35fa355b5d"
      },
      "source": [
        "collatz_with_steps(3)"
      ],
      "execution_count": null,
      "outputs": [
        {
          "output_type": "stream",
          "text": [
            "n = 3\n",
            "3*3+1 = 10\n",
            "\n",
            "n = 10\n",
            "10/2 = 5\n",
            "\n",
            "n = 5\n",
            "3*5+1 = 16\n",
            "\n",
            "n = 16\n",
            "16/2 = 8\n",
            "\n",
            "n = 8\n",
            "8/2 = 4\n",
            "\n",
            "n = 4\n",
            "4/2 = 2\n",
            "\n",
            "n = 2\n",
            "2/2 = 1\n",
            "\n"
          ],
          "name": "stdout"
        },
        {
          "output_type": "execute_result",
          "data": {
            "text/plain": [
              "1"
            ]
          },
          "metadata": {
            "tags": []
          },
          "execution_count": 38
        }
      ]
    },
    {
      "cell_type": "markdown",
      "metadata": {
        "id": "cNhwBJ8zzsCV"
      },
      "source": [
        "## 3x+1 Turing Machine"
      ]
    },
    {
      "cell_type": "code",
      "metadata": {
        "colab": {
          "base_uri": "https://localhost:8080/",
          "height": 426
        },
        "id": "EEGOawVUzrr_",
        "outputId": "2cb2f79f-5a03-453f-fab7-99ed59d8ab58"
      },
      "source": [
        "dtm3xp1 = md2mc('''\r\n",
        "TM!! \r\n",
        "i_start: 0;., R -> i_start !! erase this zero and try to find more \r\n",
        "i_start: 1; 1, R -> goto_lsb!! we have a proper number, go to the lsb \r\n",
        "i_start:.;., S -> error!! error on no input or input == 0 \r\n",
        "goto_lsb: 0; 0,R | 1; 1,R -> goto_lsb!! scan off the right edge of the number \r\n",
        "goto_lsb:.; .,L -> branch!! take a step back to be on the lsb and start branch \r\n",
        "branch: 0; .,L -> branch!! number is even, divide by two and re-branch \r\n",
        "branch: 1; 1,L -> check_n_eq_1!! number is odd, check if it is 1 \r\n",
        "check_n_eq_1: 0; 0,R | 1; 1,R -> 01_fma!! number wasn’t 1, goto 3n+1 \r\n",
        "check_n_eq_1:.; .,R -> f_halt!! number was 1, halt \r\n",
        "!! carrying 0 we see a 0 so write 0 and carry 0 forward \r\n",
        "00_fma: 0; 0,L -> 00_fma \r\n",
        "!! carrying 0 we see a 1 (times 3 is 11) so write 1 and carry 1 forward \r\n",
        "00_fma: 1; 1,L -> 01_fma \r\n",
        "!! reached the end of the number, go back to the start \r\n",
        "00_fma:.; .,R -> goto_lsb \r\n",
        "!! carrying 1 we see a 0 so write 1 and carry 0 forward \r\n",
        "01_fma: 0; 1,L -> 00_fma \r\n",
        "!! carrying 1 we see a 1 (times 3 is 11, plus our carry is 100) so write 0 and carry 10 forward \r\n",
        "01_fma: 1; 0,L -> 10_fma \r\n",
        "!! reached the end of the number, write our 1 and go back to the start \r\n",
        "01_fma:.; 1,R -> goto_lsb \r\n",
        "!! carrying 10 we see a 0, so write 0 and carry 1 forward \r\n",
        "10_fma: 0; 0,L -> 01_fma \r\n",
        "!! carrying 10 we see a 1 (times 3 is 11, plus our carry is 101), so write 1 and carry 10 forward \r\n",
        "10_fma: 1; 1,L -> 10_fma \r\n",
        "!! reached the end of the number, write a 0 from our 10 and carry 1 \r\n",
        "10_fma:.; 0,L -> 01_fma\r\n",
        "''')\r\n",
        "DO_dtm3xp1 = dotObj_tm(dtm3xp1, FuseEdges=True)\r\n",
        "DO_dtm3xp1.render('dtm3xp1')\r\n",
        "DO_dtm3xp1"
      ],
      "execution_count": null,
      "outputs": [
        {
          "output_type": "execute_result",
          "data": {
            "text/plain": [
              "<graphviz.dot.Digraph at 0x7f3ba8389f90>"
            ],
            "image/svg+xml": "<?xml version=\"1.0\" encoding=\"UTF-8\" standalone=\"no\"?>\n<!DOCTYPE svg PUBLIC \"-//W3C//DTD SVG 1.1//EN\"\n \"http://www.w3.org/Graphics/SVG/1.1/DTD/svg11.dtd\">\n<!-- Generated by graphviz version 2.40.1 (20161225.0304)\n -->\n<!-- Title: %3 Pages: 1 -->\n<svg width=\"994pt\" height=\"289pt\"\n viewBox=\"0.00 0.00 994.05 289.24\" xmlns=\"http://www.w3.org/2000/svg\" xmlns:xlink=\"http://www.w3.org/1999/xlink\">\n<g id=\"graph0\" class=\"graph\" transform=\"scale(1 1) rotate(0) translate(4 285.2439)\">\n<title>%3</title>\n<polygon fill=\"#ffffff\" stroke=\"transparent\" points=\"-4,4 -4,-285.2439 990.0542,-285.2439 990.0542,4 -4,4\"/>\n<!-- EMPTY -->\n<g id=\"node1\" class=\"node\">\n<title>EMPTY</title>\n</g>\n<!-- i_start -->\n<g id=\"node9\" class=\"node\">\n<title>i_start</title>\n<ellipse fill=\"none\" stroke=\"#000000\" cx=\"124.1471\" cy=\"-47.5975\" rx=\"33.2948\" ry=\"33.2948\"/>\n<text text-anchor=\"middle\" x=\"124.1471\" y=\"-43.8975\" font-family=\"Times,serif\" font-size=\"14.00\" fill=\"#000000\">i_start</text>\n</g>\n<!-- EMPTY&#45;&gt;i_start -->\n<g id=\"edge1\" class=\"edge\">\n<title>EMPTY&#45;&gt;i_start</title>\n<path fill=\"none\" stroke=\"#000000\" d=\"M54.0609,-47.5975C62.3007,-47.5975 71.5755,-47.5975 80.6149,-47.5975\"/>\n<polygon fill=\"#000000\" stroke=\"#000000\" points=\"80.653,-51.0976 90.6529,-47.5975 80.6529,-44.0976 80.653,-51.0976\"/>\n</g>\n<!-- goto_lsb -->\n<g id=\"node2\" class=\"node\">\n<title>goto_lsb</title>\n<ellipse fill=\"none\" stroke=\"#000000\" cx=\"276.8403\" cy=\"-118.5975\" rx=\"43.5923\" ry=\"43.5923\"/>\n<text text-anchor=\"middle\" x=\"276.8403\" y=\"-114.8975\" font-family=\"Times,serif\" font-size=\"14.00\" fill=\"#000000\">goto_lsb</text>\n</g>\n<!-- goto_lsb&#45;&gt;goto_lsb -->\n<g id=\"edge5\" class=\"edge\">\n<title>goto_lsb&#45;&gt;goto_lsb</title>\n<path fill=\"none\" stroke=\"#000000\" d=\"M262.6772,-160.0184C263.3614,-171.4261 268.0824,-180.1436 276.8403,-180.1436 282.7244,-180.1436 286.7863,-176.2084 289.0259,-170.166\"/>\n<polygon fill=\"#000000\" stroke=\"#000000\" points=\"292.5259,-170.5032 291.0033,-160.0184 285.6552,-169.1643 292.5259,-170.5032\"/>\n<text text-anchor=\"middle\" x=\"276.8403\" y=\"-198.9436\" font-family=\"Times,serif\" font-size=\"14.00\" fill=\"#000000\">1 ; 1,R </text>\n<text text-anchor=\"middle\" x=\"276.8403\" y=\"-183.9436\" font-family=\"Times,serif\" font-size=\"14.00\" fill=\"#000000\"> 0 ; 0,R</text>\n</g>\n<!-- branch -->\n<g id=\"node8\" class=\"node\">\n<title>branch</title>\n<ellipse fill=\"none\" stroke=\"#000000\" cx=\"424.7832\" cy=\"-197.5975\" rx=\"36.2938\" ry=\"36.2938\"/>\n<text text-anchor=\"middle\" x=\"424.7832\" y=\"-193.8975\" font-family=\"Times,serif\" font-size=\"14.00\" fill=\"#000000\">branch</text>\n</g>\n<!-- goto_lsb&#45;&gt;branch -->\n<g id=\"edge6\" class=\"edge\">\n<title>goto_lsb&#45;&gt;branch</title>\n<path fill=\"none\" stroke=\"#000000\" d=\"M315.3243,-139.1476C336.2999,-150.3483 362.2648,-164.2133 383.6411,-175.628\"/>\n<polygon fill=\"#000000\" stroke=\"#000000\" points=\"382.0238,-178.7321 392.4936,-180.3551 385.3211,-172.5573 382.0238,-178.7321\"/>\n<text text-anchor=\"middle\" x=\"354.3864\" y=\"-171.3975\" font-family=\"Times,serif\" font-size=\"14.00\" fill=\"#000000\">. ; .,L</text>\n</g>\n<!-- 01_fma -->\n<g id=\"node3\" class=\"node\">\n<title>01_fma</title>\n<ellipse fill=\"none\" stroke=\"#000000\" cx=\"788.1148\" cy=\"-132.5975\" rx=\"39.7935\" ry=\"39.7935\"/>\n<text text-anchor=\"middle\" x=\"788.1148\" y=\"-128.8975\" font-family=\"Times,serif\" font-size=\"14.00\" fill=\"#000000\">01_fma</text>\n</g>\n<!-- 01_fma&#45;&gt;goto_lsb -->\n<g id=\"edge16\" class=\"edge\">\n<title>01_fma&#45;&gt;goto_lsb</title>\n<path fill=\"none\" stroke=\"#000000\" d=\"M748.1889,-131.5042C657.0708,-129.0091 433.7294,-122.8935 330.6191,-120.0701\"/>\n<polygon fill=\"#000000\" stroke=\"#000000\" points=\"330.5233,-116.5662 320.4312,-119.7911 330.3316,-123.5636 330.5233,-116.5662\"/>\n<text text-anchor=\"middle\" x=\"499.1799\" y=\"-129.3975\" font-family=\"Times,serif\" font-size=\"14.00\" fill=\"#000000\">. ; 1,R</text>\n</g>\n<!-- 00_fma -->\n<g id=\"node5\" class=\"node\">\n<title>00_fma</title>\n<ellipse fill=\"none\" stroke=\"#000000\" cx=\"946.4077\" cy=\"-78.5975\" rx=\"39.7935\" ry=\"39.7935\"/>\n<text text-anchor=\"middle\" x=\"946.4077\" y=\"-74.8975\" font-family=\"Times,serif\" font-size=\"14.00\" fill=\"#000000\">00_fma</text>\n</g>\n<!-- 01_fma&#45;&gt;00_fma -->\n<g id=\"edge14\" class=\"edge\">\n<title>01_fma&#45;&gt;00_fma</title>\n<path fill=\"none\" stroke=\"#000000\" d=\"M827.5935,-126.72C846.4781,-123.219 869.1834,-117.9885 888.7612,-110.5975 893.5903,-108.7744 898.5068,-106.6007 903.33,-104.2564\"/>\n<polygon fill=\"#000000\" stroke=\"#000000\" points=\"905.1403,-107.2616 912.4429,-99.5855 901.9473,-101.0322 905.1403,-107.2616\"/>\n<text text-anchor=\"middle\" x=\"867.2612\" y=\"-126.3975\" font-family=\"Times,serif\" font-size=\"14.00\" fill=\"#000000\">0 ; 1,L</text>\n</g>\n<!-- 10_fma -->\n<g id=\"node6\" class=\"node\">\n<title>10_fma</title>\n<ellipse fill=\"none\" stroke=\"#000000\" cx=\"946.4077\" cy=\"-208.5975\" rx=\"39.7935\" ry=\"39.7935\"/>\n<text text-anchor=\"middle\" x=\"946.4077\" y=\"-204.8975\" font-family=\"Times,serif\" font-size=\"14.00\" fill=\"#000000\">10_fma</text>\n</g>\n<!-- 01_fma&#45;&gt;10_fma -->\n<g id=\"edge15\" class=\"edge\">\n<title>01_fma&#45;&gt;10_fma</title>\n<path fill=\"none\" stroke=\"#000000\" d=\"M826.176,-145.298C845.3462,-152.2043 868.7139,-161.4103 888.7612,-171.5975 894.0589,-174.2895 899.4847,-177.3403 904.7869,-180.5072\"/>\n<polygon fill=\"#000000\" stroke=\"#000000\" points=\"903.1986,-183.6396 913.5487,-185.9037 906.8696,-177.6793 903.1986,-183.6396\"/>\n<text text-anchor=\"middle\" x=\"867.2612\" y=\"-175.3975\" font-family=\"Times,serif\" font-size=\"14.00\" fill=\"#000000\">1 ; 0,L</text>\n</g>\n<!-- check_n_eq_1 -->\n<g id=\"node4\" class=\"node\">\n<title>check_n_eq_1</title>\n<ellipse fill=\"none\" stroke=\"#000000\" cx=\"602.8241\" cy=\"-212.5975\" rx=\"65.7887\" ry=\"65.7887\"/>\n<text text-anchor=\"middle\" x=\"602.8241\" y=\"-208.8975\" font-family=\"Times,serif\" font-size=\"14.00\" fill=\"#000000\">check_n_eq_1</text>\n</g>\n<!-- check_n_eq_1&#45;&gt;01_fma -->\n<g id=\"edge9\" class=\"edge\">\n<title>check_n_eq_1&#45;&gt;01_fma</title>\n<path fill=\"none\" stroke=\"#000000\" d=\"M663.2388,-186.5132C688.9709,-175.4032 718.4926,-162.6571 742.3694,-152.3482\"/>\n<polygon fill=\"#000000\" stroke=\"#000000\" points=\"743.7639,-155.5585 751.5574,-148.3812 740.9892,-149.1319 743.7639,-155.5585\"/>\n<text text-anchor=\"middle\" x=\"708.4683\" y=\"-194.3975\" font-family=\"Times,serif\" font-size=\"14.00\" fill=\"#000000\">1 ; 1,R </text>\n<text text-anchor=\"middle\" x=\"708.4683\" y=\"-179.3975\" font-family=\"Times,serif\" font-size=\"14.00\" fill=\"#000000\"> 0 ; 0,R</text>\n</g>\n<!-- f_halt -->\n<g id=\"node10\" class=\"node\">\n<title>f_halt</title>\n<ellipse fill=\"none\" stroke=\"#000000\" cx=\"788.1148\" cy=\"-226.5975\" rx=\"32.4945\" ry=\"32.4945\"/>\n<ellipse fill=\"none\" stroke=\"#000000\" cx=\"788.1148\" cy=\"-226.5975\" rx=\"36.4942\" ry=\"36.4942\"/>\n<text text-anchor=\"middle\" x=\"788.1148\" y=\"-222.8975\" font-family=\"Times,serif\" font-size=\"14.00\" fill=\"#000000\">f_halt</text>\n</g>\n<!-- check_n_eq_1&#45;&gt;f_halt -->\n<g id=\"edge10\" class=\"edge\">\n<title>check_n_eq_1&#45;&gt;f_halt</title>\n<path fill=\"none\" stroke=\"#000000\" d=\"M668.4114,-217.553C692.4974,-219.3729 719.2579,-221.3948 741.3578,-223.0646\"/>\n<polygon fill=\"#000000\" stroke=\"#000000\" points=\"741.2426,-226.5658 751.4779,-223.8293 741.77,-219.5857 741.2426,-226.5658\"/>\n<text text-anchor=\"middle\" x=\"708.4683\" y=\"-226.3975\" font-family=\"Times,serif\" font-size=\"14.00\" fill=\"#000000\">. ; .,R</text>\n</g>\n<!-- 00_fma&#45;&gt;goto_lsb -->\n<g id=\"edge13\" class=\"edge\">\n<title>00_fma&#45;&gt;goto_lsb</title>\n<path fill=\"none\" stroke=\"#000000\" d=\"M907.1771,-72.0248C875.2213,-67.241 828.8829,-61.5975 788.1148,-61.5975 424.7832,-61.5975 424.7832,-61.5975 424.7832,-61.5975 388.8937,-61.5975 351.1845,-76.3843 322.8195,-90.8951\"/>\n<polygon fill=\"#000000\" stroke=\"#000000\" points=\"321.1609,-87.8129 313.9526,-95.5777 324.4297,-94.0028 321.1609,-87.8129\"/>\n<text text-anchor=\"middle\" x=\"602.8241\" y=\"-65.3975\" font-family=\"Times,serif\" font-size=\"14.00\" fill=\"#000000\">. ; .,R</text>\n</g>\n<!-- 00_fma&#45;&gt;01_fma -->\n<g id=\"edge12\" class=\"edge\">\n<title>00_fma&#45;&gt;01_fma</title>\n<path fill=\"none\" stroke=\"#000000\" d=\"M906.7169,-81.5769C887.7839,-83.9262 865.0992,-88.1198 845.7612,-95.5975 840.1477,-97.7681 834.5008,-100.5266 829.053,-103.5556\"/>\n<polygon fill=\"#000000\" stroke=\"#000000\" points=\"826.9325,-100.7437 820.1138,-108.8526 830.5011,-106.7658 826.9325,-100.7437\"/>\n<text text-anchor=\"middle\" x=\"867.2612\" y=\"-99.3975\" font-family=\"Times,serif\" font-size=\"14.00\" fill=\"#000000\">1 ; 1,L</text>\n</g>\n<!-- 00_fma&#45;&gt;00_fma -->\n<g id=\"edge11\" class=\"edge\">\n<title>00_fma&#45;&gt;00_fma</title>\n<path fill=\"none\" stroke=\"#000000\" d=\"M931.7908,-115.4669C932.0139,-127.0813 936.8862,-136.2439 946.4077,-136.2439 952.9537,-136.2439 957.3023,-131.9132 959.4534,-125.4323\"/>\n<polygon fill=\"#000000\" stroke=\"#000000\" points=\"962.9244,-125.89 961.0247,-115.4669 956.0098,-124.7997 962.9244,-125.89\"/>\n<text text-anchor=\"middle\" x=\"946.4077\" y=\"-140.0439\" font-family=\"Times,serif\" font-size=\"14.00\" fill=\"#000000\">0 ; 0,L</text>\n</g>\n<!-- 10_fma&#45;&gt;01_fma -->\n<g id=\"edge17\" class=\"edge\">\n<title>10_fma&#45;&gt;01_fma</title>\n<path fill=\"none\" stroke=\"#000000\" d=\"M906.4851,-204.8721C887.2859,-201.8592 864.4427,-196.4178 845.7612,-186.5975 837.2929,-182.1459 829.1589,-176.1101 821.8059,-169.6842\"/>\n<polygon fill=\"#000000\" stroke=\"#000000\" points=\"823.8748,-166.8305 814.1548,-162.6149 819.1243,-171.9719 823.8748,-166.8305\"/>\n<text text-anchor=\"middle\" x=\"867.2612\" y=\"-220.3975\" font-family=\"Times,serif\" font-size=\"14.00\" fill=\"#000000\">. ; 0,L </text>\n<text text-anchor=\"middle\" x=\"867.2612\" y=\"-205.3975\" font-family=\"Times,serif\" font-size=\"14.00\" fill=\"#000000\"> 0 ; 0,L</text>\n</g>\n<!-- 10_fma&#45;&gt;10_fma -->\n<g id=\"edge18\" class=\"edge\">\n<title>10_fma&#45;&gt;10_fma</title>\n<path fill=\"none\" stroke=\"#000000\" d=\"M931.7908,-245.4669C932.0139,-257.0813 936.8862,-266.2439 946.4077,-266.2439 952.9537,-266.2439 957.3023,-261.9132 959.4534,-255.4323\"/>\n<polygon fill=\"#000000\" stroke=\"#000000\" points=\"962.9244,-255.89 961.0247,-245.4669 956.0098,-254.7997 962.9244,-255.89\"/>\n<text text-anchor=\"middle\" x=\"946.4077\" y=\"-270.0439\" font-family=\"Times,serif\" font-size=\"14.00\" fill=\"#000000\">1 ; 1,L</text>\n</g>\n<!-- error -->\n<g id=\"node7\" class=\"node\">\n<title>error</title>\n<ellipse fill=\"none\" stroke=\"#000000\" cx=\"276.8403\" cy=\"-28.5975\" rx=\"28.6953\" ry=\"28.6953\"/>\n<text text-anchor=\"middle\" x=\"276.8403\" y=\"-24.8975\" font-family=\"Times,serif\" font-size=\"14.00\" fill=\"#000000\">error</text>\n</g>\n<!-- branch&#45;&gt;check_n_eq_1 -->\n<g id=\"edge8\" class=\"edge\">\n<title>branch&#45;&gt;check_n_eq_1</title>\n<path fill=\"none\" stroke=\"#000000\" d=\"M461.242,-200.6691C480.2954,-202.2744 504.3539,-204.3013 527.2063,-206.2266\"/>\n<polygon fill=\"#000000\" stroke=\"#000000\" points=\"526.9936,-209.721 537.2522,-207.073 527.5814,-202.7457 526.9936,-209.721\"/>\n<text text-anchor=\"middle\" x=\"499.1799\" y=\"-209.3975\" font-family=\"Times,serif\" font-size=\"14.00\" fill=\"#000000\">1 ; 1,L</text>\n</g>\n<!-- branch&#45;&gt;branch -->\n<g id=\"edge7\" class=\"edge\">\n<title>branch&#45;&gt;branch</title>\n<path fill=\"none\" stroke=\"#000000\" d=\"M411.6582,-231.5954C411.6582,-242.9281 416.0332,-251.9942 424.7832,-251.9942 430.6621,-251.9942 434.566,-247.9016 436.495,-241.7787\"/>\n<polygon fill=\"#000000\" stroke=\"#000000\" points=\"440.0003,-241.9816 437.9082,-231.5954 433.0668,-241.0194 440.0003,-241.9816\"/>\n<text text-anchor=\"middle\" x=\"424.7832\" y=\"-255.7942\" font-family=\"Times,serif\" font-size=\"14.00\" fill=\"#000000\">0 ; .,L</text>\n</g>\n<!-- i_start&#45;&gt;goto_lsb -->\n<g id=\"edge3\" class=\"edge\">\n<title>i_start&#45;&gt;goto_lsb</title>\n<path fill=\"none\" stroke=\"#000000\" d=\"M154.3143,-61.6248C175.261,-71.3647 203.6365,-84.5588 227.8058,-95.7972\"/>\n<polygon fill=\"#000000\" stroke=\"#000000\" points=\"226.6377,-99.1139 237.1811,-100.1566 229.5892,-92.7665 226.6377,-99.1139\"/>\n<text text-anchor=\"middle\" x=\"195.2941\" y=\"-93.3975\" font-family=\"Times,serif\" font-size=\"14.00\" fill=\"#000000\">1 ; 1,R</text>\n</g>\n<!-- i_start&#45;&gt;error -->\n<g id=\"edge4\" class=\"edge\">\n<title>i_start&#45;&gt;error</title>\n<path fill=\"none\" stroke=\"#000000\" d=\"M157.2792,-43.4747C181.071,-40.5143 213.2111,-36.515 238.1763,-33.4085\"/>\n<polygon fill=\"#000000\" stroke=\"#000000\" points=\"238.8999,-36.8456 248.3912,-32.1375 238.0355,-29.8991 238.8999,-36.8456\"/>\n<text text-anchor=\"middle\" x=\"195.2941\" y=\"-45.3975\" font-family=\"Times,serif\" font-size=\"14.00\" fill=\"#000000\">. ; .,S</text>\n</g>\n<!-- i_start&#45;&gt;i_start -->\n<g id=\"edge2\" class=\"edge\">\n<title>i_start&#45;&gt;i_start</title>\n<path fill=\"none\" stroke=\"#000000\" d=\"M114.7721,-79.5644C114.7721,-90.22 117.8971,-98.7445 124.1471,-98.7445 128.2486,-98.7445 131.0044,-95.0733 132.4143,-89.5378\"/>\n<polygon fill=\"#000000\" stroke=\"#000000\" points=\"135.8966,-89.8897 133.5221,-79.5644 128.9394,-89.1168 135.8966,-89.8897\"/>\n<text text-anchor=\"middle\" x=\"124.1471\" y=\"-102.5445\" font-family=\"Times,serif\" font-size=\"14.00\" fill=\"#000000\">0 ; .,R</text>\n</g>\n</g>\n</svg>\n"
          },
          "metadata": {
            "tags": []
          },
          "execution_count": 39
        }
      ]
    }
  ]
}