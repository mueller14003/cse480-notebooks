{
  "nbformat": 4,
  "nbformat_minor": 0,
  "metadata": {
    "kernelspec": {
      "display_name": "Python 3",
      "language": "python",
      "name": "python3"
    },
    "language_info": {
      "codemirror_mode": {
        "name": "ipython",
        "version": 3
      },
      "file_extension": ".py",
      "mimetype": "text/x-python",
      "name": "python",
      "nbconvert_exporter": "python",
      "pygments_lexer": "ipython3",
      "version": "3.9.0"
    },
    "toc": {
      "colors": {
        "hover_highlight": "#DAA520",
        "running_highlight": "#FF0000",
        "selected_highlight": "#FFD700"
      },
      "moveMenuLeft": true,
      "nav_menu": {
        "height": "207px",
        "width": "252px"
      },
      "navigate_menu": true,
      "number_sections": true,
      "sideBar": true,
      "threshold": 4,
      "toc_cell": false,
      "toc_section_display": "block",
      "toc_window_display": false,
      "widenNotebook": false
    },
    "widgets": {
      "application/vnd.jupyter.widget-state+json": {
        "1d03f187a14d463aa458b5100c085be4": {
          "model_module": "@jupyter-widgets/controls",
          "model_name": "VBoxModel",
          "state": {
            "_view_name": "VBoxView",
            "_dom_classes": [
              "widget-interact"
            ],
            "_model_name": "VBoxModel",
            "_view_module": "@jupyter-widgets/controls",
            "_model_module_version": "1.5.0",
            "_view_count": null,
            "_view_module_version": "1.5.0",
            "box_style": "",
            "layout": "IPY_MODEL_989b2619663e470b972b98ce78198c79",
            "_model_module": "@jupyter-widgets/controls",
            "children": [
              "IPY_MODEL_94c81de8b8f0465480ddb152ae43769c",
              "IPY_MODEL_94c27ab59b624eb6a58642899ee03559",
              "IPY_MODEL_41f11efe09d048d4a099a051afea87da"
            ]
          }
        },
        "989b2619663e470b972b98ce78198c79": {
          "model_module": "@jupyter-widgets/base",
          "model_name": "LayoutModel",
          "state": {
            "_view_name": "LayoutView",
            "grid_template_rows": null,
            "right": null,
            "justify_content": null,
            "_view_module": "@jupyter-widgets/base",
            "overflow": null,
            "_model_module_version": "1.2.0",
            "_view_count": null,
            "flex_flow": null,
            "width": null,
            "min_width": null,
            "border": null,
            "align_items": null,
            "bottom": null,
            "_model_module": "@jupyter-widgets/base",
            "top": null,
            "grid_column": null,
            "overflow_y": null,
            "overflow_x": null,
            "grid_auto_flow": null,
            "grid_area": null,
            "grid_template_columns": null,
            "flex": null,
            "_model_name": "LayoutModel",
            "justify_items": null,
            "grid_row": null,
            "max_height": null,
            "align_content": null,
            "visibility": null,
            "align_self": null,
            "height": null,
            "min_height": null,
            "padding": null,
            "grid_auto_rows": null,
            "grid_gap": null,
            "max_width": null,
            "order": null,
            "_view_module_version": "1.2.0",
            "grid_template_areas": null,
            "object_position": null,
            "object_fit": null,
            "grid_auto_columns": null,
            "margin": null,
            "display": null,
            "left": null
          }
        },
        "94c81de8b8f0465480ddb152ae43769c": {
          "model_module": "@jupyter-widgets/controls",
          "model_name": "DropdownModel",
          "state": {
            "_options_labels": [
              "L3",
              "L1",
              "L2",
              "M",
              "lphi",
              "lunit"
            ],
            "_view_name": "DropdownView",
            "style": "IPY_MODEL_2d1b7b57fee64e36adb952c3a914de21",
            "_dom_classes": [],
            "description": "L",
            "_model_name": "DropdownModel",
            "index": 0,
            "_view_module": "@jupyter-widgets/controls",
            "_model_module_version": "1.5.0",
            "_view_count": null,
            "disabled": false,
            "_view_module_version": "1.5.0",
            "description_tooltip": null,
            "_model_module": "@jupyter-widgets/controls",
            "layout": "IPY_MODEL_ba5c05ae5d3c44b0a977db5cc3d39031"
          }
        },
        "94c27ab59b624eb6a58642899ee03559": {
          "model_module": "@jupyter-widgets/controls",
          "model_name": "IntSliderModel",
          "state": {
            "_view_name": "IntSliderView",
            "style": "IPY_MODEL_5d179af613dd493f9ab8371353e8da8c",
            "_dom_classes": [],
            "description": "n",
            "step": 1,
            "_model_name": "IntSliderModel",
            "orientation": "horizontal",
            "max": 7,
            "_view_module": "@jupyter-widgets/controls",
            "_model_module_version": "1.5.0",
            "value": 3,
            "_view_count": null,
            "disabled": false,
            "_view_module_version": "1.5.0",
            "min": 0,
            "continuous_update": true,
            "readout_format": "d",
            "description_tooltip": null,
            "readout": true,
            "_model_module": "@jupyter-widgets/controls",
            "layout": "IPY_MODEL_e36d7299be6c49fdab9661f8836a8de5"
          }
        },
        "41f11efe09d048d4a099a051afea87da": {
          "model_module": "@jupyter-widgets/output",
          "model_name": "OutputModel",
          "state": {
            "_view_name": "OutputView",
            "msg_id": "",
            "_dom_classes": [],
            "_model_name": "OutputModel",
            "outputs": [
              {
                "output_type": "display_data",
                "metadata": {
                  "tags": []
                },
                "text/plain": "{'',\n 'a',\n 'aa',\n 'aaa',\n 'aab',\n 'aac',\n 'ab',\n 'aba',\n 'abb',\n 'abc',\n 'ac',\n 'aca',\n 'acb',\n 'acc',\n 'b',\n 'ba',\n 'baa',\n 'bab',\n 'bac',\n 'bb',\n 'bba',\n 'bbb',\n 'bbc',\n 'bc',\n 'bca',\n 'bcb',\n 'bcc',\n 'c',\n 'ca',\n 'caa',\n 'cab',\n 'cac',\n 'cb',\n 'cba',\n 'cbb',\n 'cbc',\n 'cc',\n 'cca',\n 'ccb',\n 'ccc'}"
              }
            ],
            "_view_module": "@jupyter-widgets/output",
            "_model_module_version": "1.0.0",
            "_view_count": null,
            "_view_module_version": "1.0.0",
            "layout": "IPY_MODEL_0395e63b295b4043afe319e03fb60dc2",
            "_model_module": "@jupyter-widgets/output"
          }
        },
        "2d1b7b57fee64e36adb952c3a914de21": {
          "model_module": "@jupyter-widgets/controls",
          "model_name": "DescriptionStyleModel",
          "state": {
            "_view_name": "StyleView",
            "_model_name": "DescriptionStyleModel",
            "description_width": "",
            "_view_module": "@jupyter-widgets/base",
            "_model_module_version": "1.5.0",
            "_view_count": null,
            "_view_module_version": "1.2.0",
            "_model_module": "@jupyter-widgets/controls"
          }
        },
        "ba5c05ae5d3c44b0a977db5cc3d39031": {
          "model_module": "@jupyter-widgets/base",
          "model_name": "LayoutModel",
          "state": {
            "_view_name": "LayoutView",
            "grid_template_rows": null,
            "right": null,
            "justify_content": null,
            "_view_module": "@jupyter-widgets/base",
            "overflow": null,
            "_model_module_version": "1.2.0",
            "_view_count": null,
            "flex_flow": null,
            "width": null,
            "min_width": null,
            "border": null,
            "align_items": null,
            "bottom": null,
            "_model_module": "@jupyter-widgets/base",
            "top": null,
            "grid_column": null,
            "overflow_y": null,
            "overflow_x": null,
            "grid_auto_flow": null,
            "grid_area": null,
            "grid_template_columns": null,
            "flex": null,
            "_model_name": "LayoutModel",
            "justify_items": null,
            "grid_row": null,
            "max_height": null,
            "align_content": null,
            "visibility": null,
            "align_self": null,
            "height": null,
            "min_height": null,
            "padding": null,
            "grid_auto_rows": null,
            "grid_gap": null,
            "max_width": null,
            "order": null,
            "_view_module_version": "1.2.0",
            "grid_template_areas": null,
            "object_position": null,
            "object_fit": null,
            "grid_auto_columns": null,
            "margin": null,
            "display": null,
            "left": null
          }
        },
        "5d179af613dd493f9ab8371353e8da8c": {
          "model_module": "@jupyter-widgets/controls",
          "model_name": "SliderStyleModel",
          "state": {
            "_view_name": "StyleView",
            "handle_color": null,
            "_model_name": "SliderStyleModel",
            "description_width": "",
            "_view_module": "@jupyter-widgets/base",
            "_model_module_version": "1.5.0",
            "_view_count": null,
            "_view_module_version": "1.2.0",
            "_model_module": "@jupyter-widgets/controls"
          }
        },
        "e36d7299be6c49fdab9661f8836a8de5": {
          "model_module": "@jupyter-widgets/base",
          "model_name": "LayoutModel",
          "state": {
            "_view_name": "LayoutView",
            "grid_template_rows": null,
            "right": null,
            "justify_content": null,
            "_view_module": "@jupyter-widgets/base",
            "overflow": null,
            "_model_module_version": "1.2.0",
            "_view_count": null,
            "flex_flow": null,
            "width": null,
            "min_width": null,
            "border": null,
            "align_items": null,
            "bottom": null,
            "_model_module": "@jupyter-widgets/base",
            "top": null,
            "grid_column": null,
            "overflow_y": null,
            "overflow_x": null,
            "grid_auto_flow": null,
            "grid_area": null,
            "grid_template_columns": null,
            "flex": null,
            "_model_name": "LayoutModel",
            "justify_items": null,
            "grid_row": null,
            "max_height": null,
            "align_content": null,
            "visibility": null,
            "align_self": null,
            "height": null,
            "min_height": null,
            "padding": null,
            "grid_auto_rows": null,
            "grid_gap": null,
            "max_width": null,
            "order": null,
            "_view_module_version": "1.2.0",
            "grid_template_areas": null,
            "object_position": null,
            "object_fit": null,
            "grid_auto_columns": null,
            "margin": null,
            "display": null,
            "left": null
          }
        },
        "0395e63b295b4043afe319e03fb60dc2": {
          "model_module": "@jupyter-widgets/base",
          "model_name": "LayoutModel",
          "state": {
            "_view_name": "LayoutView",
            "grid_template_rows": null,
            "right": null,
            "justify_content": null,
            "_view_module": "@jupyter-widgets/base",
            "overflow": null,
            "_model_module_version": "1.2.0",
            "_view_count": null,
            "flex_flow": null,
            "width": null,
            "min_width": null,
            "border": null,
            "align_items": null,
            "bottom": null,
            "_model_module": "@jupyter-widgets/base",
            "top": null,
            "grid_column": null,
            "overflow_y": null,
            "overflow_x": null,
            "grid_auto_flow": null,
            "grid_area": null,
            "grid_template_columns": null,
            "flex": null,
            "_model_name": "LayoutModel",
            "justify_items": null,
            "grid_row": null,
            "max_height": null,
            "align_content": null,
            "visibility": null,
            "align_self": null,
            "height": null,
            "min_height": null,
            "padding": null,
            "grid_auto_rows": null,
            "grid_gap": null,
            "max_width": null,
            "order": null,
            "_view_module_version": "1.2.0",
            "grid_template_areas": null,
            "object_position": null,
            "object_fit": null,
            "grid_auto_columns": null,
            "margin": null,
            "display": null,
            "left": null
          }
        },
        "dfc66beee1c74fdca37352f285c40658": {
          "model_module": "@jupyter-widgets/controls",
          "model_name": "VBoxModel",
          "state": {
            "_view_name": "VBoxView",
            "_dom_classes": [
              "widget-interact"
            ],
            "_model_name": "VBoxModel",
            "_view_module": "@jupyter-widgets/controls",
            "_model_module_version": "1.5.0",
            "_view_count": null,
            "_view_module_version": "1.5.0",
            "box_style": "",
            "layout": "IPY_MODEL_33daf1d394c54808a8bac352a5bcdc3c",
            "_model_module": "@jupyter-widgets/controls",
            "children": [
              "IPY_MODEL_d2762765dcb44f58b3e486b43abf02dc",
              "IPY_MODEL_3662942e723c486d9908d45a846d4565",
              "IPY_MODEL_53c9cc9915b84e4c973356c9026d39b2"
            ]
          }
        },
        "33daf1d394c54808a8bac352a5bcdc3c": {
          "model_module": "@jupyter-widgets/base",
          "model_name": "LayoutModel",
          "state": {
            "_view_name": "LayoutView",
            "grid_template_rows": null,
            "right": null,
            "justify_content": null,
            "_view_module": "@jupyter-widgets/base",
            "overflow": null,
            "_model_module_version": "1.2.0",
            "_view_count": null,
            "flex_flow": null,
            "width": null,
            "min_width": null,
            "border": null,
            "align_items": null,
            "bottom": null,
            "_model_module": "@jupyter-widgets/base",
            "top": null,
            "grid_column": null,
            "overflow_y": null,
            "overflow_x": null,
            "grid_auto_flow": null,
            "grid_area": null,
            "grid_template_columns": null,
            "flex": null,
            "_model_name": "LayoutModel",
            "justify_items": null,
            "grid_row": null,
            "max_height": null,
            "align_content": null,
            "visibility": null,
            "align_self": null,
            "height": null,
            "min_height": null,
            "padding": null,
            "grid_auto_rows": null,
            "grid_gap": null,
            "max_width": null,
            "order": null,
            "_view_module_version": "1.2.0",
            "grid_template_areas": null,
            "object_position": null,
            "object_fit": null,
            "grid_auto_columns": null,
            "margin": null,
            "display": null,
            "left": null
          }
        },
        "d2762765dcb44f58b3e486b43abf02dc": {
          "model_module": "@jupyter-widgets/controls",
          "model_name": "DropdownModel",
          "state": {
            "_options_labels": [
              "L1",
              "L2",
              "M",
              "lphi",
              "lunit"
            ],
            "_view_name": "DropdownView",
            "style": "IPY_MODEL_53d1d8b7dc21456daef42f62b601400a",
            "_dom_classes": [],
            "description": "L",
            "_model_name": "DropdownModel",
            "index": 0,
            "_view_module": "@jupyter-widgets/controls",
            "_model_module_version": "1.5.0",
            "_view_count": null,
            "disabled": false,
            "_view_module_version": "1.5.0",
            "description_tooltip": null,
            "_model_module": "@jupyter-widgets/controls",
            "layout": "IPY_MODEL_088c9dff05f8412dadcd335a73b27076"
          }
        },
        "3662942e723c486d9908d45a846d4565": {
          "model_module": "@jupyter-widgets/controls",
          "model_name": "IntSliderModel",
          "state": {
            "_view_name": "IntSliderView",
            "style": "IPY_MODEL_32efa78cb9c448bc93236bb326ebbffa",
            "_dom_classes": [],
            "description": "n",
            "step": 1,
            "_model_name": "IntSliderModel",
            "orientation": "horizontal",
            "max": 7,
            "_view_module": "@jupyter-widgets/controls",
            "_model_module_version": "1.5.0",
            "value": 3,
            "_view_count": null,
            "disabled": false,
            "_view_module_version": "1.5.0",
            "min": 0,
            "continuous_update": true,
            "readout_format": "d",
            "description_tooltip": null,
            "readout": true,
            "_model_module": "@jupyter-widgets/controls",
            "layout": "IPY_MODEL_d46ba1f8da084d8689669c127d57b6fc"
          }
        },
        "53c9cc9915b84e4c973356c9026d39b2": {
          "model_module": "@jupyter-widgets/output",
          "model_name": "OutputModel",
          "state": {
            "_view_name": "OutputView",
            "msg_id": "",
            "_dom_classes": [],
            "_model_name": "OutputModel",
            "outputs": [
              {
                "output_type": "display_data",
                "metadata": {
                  "tags": []
                },
                "text/plain": "{'',\n 'a',\n 'aa',\n 'aaa',\n 'aabc',\n 'abc',\n 'abca',\n 'abcbc',\n 'bc',\n 'bca',\n 'bcaa',\n 'bcabc',\n 'bcbc',\n 'bcbca',\n 'bcbcbc'}"
              }
            ],
            "_view_module": "@jupyter-widgets/output",
            "_model_module_version": "1.0.0",
            "_view_count": null,
            "_view_module_version": "1.0.0",
            "layout": "IPY_MODEL_ba5ca6cbfb18476b802fa0dc276e0a1e",
            "_model_module": "@jupyter-widgets/output"
          }
        },
        "53d1d8b7dc21456daef42f62b601400a": {
          "model_module": "@jupyter-widgets/controls",
          "model_name": "DescriptionStyleModel",
          "state": {
            "_view_name": "StyleView",
            "_model_name": "DescriptionStyleModel",
            "description_width": "",
            "_view_module": "@jupyter-widgets/base",
            "_model_module_version": "1.5.0",
            "_view_count": null,
            "_view_module_version": "1.2.0",
            "_model_module": "@jupyter-widgets/controls"
          }
        },
        "088c9dff05f8412dadcd335a73b27076": {
          "model_module": "@jupyter-widgets/base",
          "model_name": "LayoutModel",
          "state": {
            "_view_name": "LayoutView",
            "grid_template_rows": null,
            "right": null,
            "justify_content": null,
            "_view_module": "@jupyter-widgets/base",
            "overflow": null,
            "_model_module_version": "1.2.0",
            "_view_count": null,
            "flex_flow": null,
            "width": null,
            "min_width": null,
            "border": null,
            "align_items": null,
            "bottom": null,
            "_model_module": "@jupyter-widgets/base",
            "top": null,
            "grid_column": null,
            "overflow_y": null,
            "overflow_x": null,
            "grid_auto_flow": null,
            "grid_area": null,
            "grid_template_columns": null,
            "flex": null,
            "_model_name": "LayoutModel",
            "justify_items": null,
            "grid_row": null,
            "max_height": null,
            "align_content": null,
            "visibility": null,
            "align_self": null,
            "height": null,
            "min_height": null,
            "padding": null,
            "grid_auto_rows": null,
            "grid_gap": null,
            "max_width": null,
            "order": null,
            "_view_module_version": "1.2.0",
            "grid_template_areas": null,
            "object_position": null,
            "object_fit": null,
            "grid_auto_columns": null,
            "margin": null,
            "display": null,
            "left": null
          }
        },
        "32efa78cb9c448bc93236bb326ebbffa": {
          "model_module": "@jupyter-widgets/controls",
          "model_name": "SliderStyleModel",
          "state": {
            "_view_name": "StyleView",
            "handle_color": null,
            "_model_name": "SliderStyleModel",
            "description_width": "",
            "_view_module": "@jupyter-widgets/base",
            "_model_module_version": "1.5.0",
            "_view_count": null,
            "_view_module_version": "1.2.0",
            "_model_module": "@jupyter-widgets/controls"
          }
        },
        "d46ba1f8da084d8689669c127d57b6fc": {
          "model_module": "@jupyter-widgets/base",
          "model_name": "LayoutModel",
          "state": {
            "_view_name": "LayoutView",
            "grid_template_rows": null,
            "right": null,
            "justify_content": null,
            "_view_module": "@jupyter-widgets/base",
            "overflow": null,
            "_model_module_version": "1.2.0",
            "_view_count": null,
            "flex_flow": null,
            "width": null,
            "min_width": null,
            "border": null,
            "align_items": null,
            "bottom": null,
            "_model_module": "@jupyter-widgets/base",
            "top": null,
            "grid_column": null,
            "overflow_y": null,
            "overflow_x": null,
            "grid_auto_flow": null,
            "grid_area": null,
            "grid_template_columns": null,
            "flex": null,
            "_model_name": "LayoutModel",
            "justify_items": null,
            "grid_row": null,
            "max_height": null,
            "align_content": null,
            "visibility": null,
            "align_self": null,
            "height": null,
            "min_height": null,
            "padding": null,
            "grid_auto_rows": null,
            "grid_gap": null,
            "max_width": null,
            "order": null,
            "_view_module_version": "1.2.0",
            "grid_template_areas": null,
            "object_position": null,
            "object_fit": null,
            "grid_auto_columns": null,
            "margin": null,
            "display": null,
            "left": null
          }
        },
        "ba5ca6cbfb18476b802fa0dc276e0a1e": {
          "model_module": "@jupyter-widgets/base",
          "model_name": "LayoutModel",
          "state": {
            "_view_name": "LayoutView",
            "grid_template_rows": null,
            "right": null,
            "justify_content": null,
            "_view_module": "@jupyter-widgets/base",
            "overflow": null,
            "_model_module_version": "1.2.0",
            "_view_count": null,
            "flex_flow": null,
            "width": null,
            "min_width": null,
            "border": null,
            "align_items": null,
            "bottom": null,
            "_model_module": "@jupyter-widgets/base",
            "top": null,
            "grid_column": null,
            "overflow_y": null,
            "overflow_x": null,
            "grid_auto_flow": null,
            "grid_area": null,
            "grid_template_columns": null,
            "flex": null,
            "_model_name": "LayoutModel",
            "justify_items": null,
            "grid_row": null,
            "max_height": null,
            "align_content": null,
            "visibility": null,
            "align_self": null,
            "height": null,
            "min_height": null,
            "padding": null,
            "grid_auto_rows": null,
            "grid_gap": null,
            "max_width": null,
            "order": null,
            "_view_module_version": "1.2.0",
            "grid_template_areas": null,
            "object_position": null,
            "object_fit": null,
            "grid_auto_columns": null,
            "margin": null,
            "display": null,
            "left": null
          }
        },
        "d0c8008439a04ca6bec8e83f62671a70": {
          "model_module": "@jupyter-widgets/controls",
          "model_name": "VBoxModel",
          "state": {
            "_view_name": "VBoxView",
            "_dom_classes": [
              "widget-interact"
            ],
            "_model_name": "VBoxModel",
            "_view_module": "@jupyter-widgets/controls",
            "_model_module_version": "1.5.0",
            "_view_count": null,
            "_view_module_version": "1.5.0",
            "box_style": "",
            "layout": "IPY_MODEL_e5b98f9fe9b846eca8af0a00bcd6caac",
            "_model_module": "@jupyter-widgets/controls",
            "children": [
              "IPY_MODEL_6d115dd853ce4cd28b178a3ceab10def",
              "IPY_MODEL_d3ac192c061d4475b6327e9f06d84ac8",
              "IPY_MODEL_a70af0b7441d4e63a702f6cc28894572"
            ]
          }
        },
        "e5b98f9fe9b846eca8af0a00bcd6caac": {
          "model_module": "@jupyter-widgets/base",
          "model_name": "LayoutModel",
          "state": {
            "_view_name": "LayoutView",
            "grid_template_rows": null,
            "right": null,
            "justify_content": null,
            "_view_module": "@jupyter-widgets/base",
            "overflow": null,
            "_model_module_version": "1.2.0",
            "_view_count": null,
            "flex_flow": null,
            "width": null,
            "min_width": null,
            "border": null,
            "align_items": null,
            "bottom": null,
            "_model_module": "@jupyter-widgets/base",
            "top": null,
            "grid_column": null,
            "overflow_y": null,
            "overflow_x": null,
            "grid_auto_flow": null,
            "grid_area": null,
            "grid_template_columns": null,
            "flex": null,
            "_model_name": "LayoutModel",
            "justify_items": null,
            "grid_row": null,
            "max_height": null,
            "align_content": null,
            "visibility": null,
            "align_self": null,
            "height": null,
            "min_height": null,
            "padding": null,
            "grid_auto_rows": null,
            "grid_gap": null,
            "max_width": null,
            "order": null,
            "_view_module_version": "1.2.0",
            "grid_template_areas": null,
            "object_position": null,
            "object_fit": null,
            "grid_auto_columns": null,
            "margin": null,
            "display": null,
            "left": null
          }
        },
        "6d115dd853ce4cd28b178a3ceab10def": {
          "model_module": "@jupyter-widgets/controls",
          "model_name": "DropdownModel",
          "state": {
            "_options_labels": [
              "Alph1",
              "Alph2"
            ],
            "_view_name": "DropdownView",
            "style": "IPY_MODEL_b9ade78b38924024baa6896affe93a5c",
            "_dom_classes": [],
            "description": "L",
            "_model_name": "DropdownModel",
            "index": 0,
            "_view_module": "@jupyter-widgets/controls",
            "_model_module_version": "1.5.0",
            "_view_count": null,
            "disabled": false,
            "_view_module_version": "1.5.0",
            "description_tooltip": null,
            "_model_module": "@jupyter-widgets/controls",
            "layout": "IPY_MODEL_fc00216be805423ca0b6add0a9d6023c"
          }
        },
        "d3ac192c061d4475b6327e9f06d84ac8": {
          "model_module": "@jupyter-widgets/controls",
          "model_name": "IntSliderModel",
          "state": {
            "_view_name": "IntSliderView",
            "style": "IPY_MODEL_5d45e857184a4c50afb1fceed99eaefe",
            "_dom_classes": [],
            "description": "n",
            "step": 1,
            "_model_name": "IntSliderModel",
            "orientation": "horizontal",
            "max": 7,
            "_view_module": "@jupyter-widgets/controls",
            "_model_module_version": "1.5.0",
            "value": 3,
            "_view_count": null,
            "disabled": false,
            "_view_module_version": "1.5.0",
            "min": 0,
            "continuous_update": true,
            "readout_format": "d",
            "description_tooltip": null,
            "readout": true,
            "_model_module": "@jupyter-widgets/controls",
            "layout": "IPY_MODEL_de8f87ee136c4cd89c8d72ba5f354973"
          }
        },
        "a70af0b7441d4e63a702f6cc28894572": {
          "model_module": "@jupyter-widgets/output",
          "model_name": "OutputModel",
          "state": {
            "_view_name": "OutputView",
            "msg_id": "",
            "_dom_classes": [],
            "_model_name": "OutputModel",
            "outputs": [
              {
                "output_type": "display_data",
                "metadata": {
                  "tags": []
                },
                "text/plain": "{'',\n 'a',\n 'aa',\n 'aaa',\n 'aab',\n 'ab',\n 'aba',\n 'abb',\n 'b',\n 'ba',\n 'baa',\n 'bab',\n 'bb',\n 'bba',\n 'bbb'}"
              }
            ],
            "_view_module": "@jupyter-widgets/output",
            "_model_module_version": "1.0.0",
            "_view_count": null,
            "_view_module_version": "1.0.0",
            "layout": "IPY_MODEL_2b378f80db8c46f3be7565a81c79e9a4",
            "_model_module": "@jupyter-widgets/output"
          }
        },
        "b9ade78b38924024baa6896affe93a5c": {
          "model_module": "@jupyter-widgets/controls",
          "model_name": "DescriptionStyleModel",
          "state": {
            "_view_name": "StyleView",
            "_model_name": "DescriptionStyleModel",
            "description_width": "",
            "_view_module": "@jupyter-widgets/base",
            "_model_module_version": "1.5.0",
            "_view_count": null,
            "_view_module_version": "1.2.0",
            "_model_module": "@jupyter-widgets/controls"
          }
        },
        "fc00216be805423ca0b6add0a9d6023c": {
          "model_module": "@jupyter-widgets/base",
          "model_name": "LayoutModel",
          "state": {
            "_view_name": "LayoutView",
            "grid_template_rows": null,
            "right": null,
            "justify_content": null,
            "_view_module": "@jupyter-widgets/base",
            "overflow": null,
            "_model_module_version": "1.2.0",
            "_view_count": null,
            "flex_flow": null,
            "width": null,
            "min_width": null,
            "border": null,
            "align_items": null,
            "bottom": null,
            "_model_module": "@jupyter-widgets/base",
            "top": null,
            "grid_column": null,
            "overflow_y": null,
            "overflow_x": null,
            "grid_auto_flow": null,
            "grid_area": null,
            "grid_template_columns": null,
            "flex": null,
            "_model_name": "LayoutModel",
            "justify_items": null,
            "grid_row": null,
            "max_height": null,
            "align_content": null,
            "visibility": null,
            "align_self": null,
            "height": null,
            "min_height": null,
            "padding": null,
            "grid_auto_rows": null,
            "grid_gap": null,
            "max_width": null,
            "order": null,
            "_view_module_version": "1.2.0",
            "grid_template_areas": null,
            "object_position": null,
            "object_fit": null,
            "grid_auto_columns": null,
            "margin": null,
            "display": null,
            "left": null
          }
        },
        "5d45e857184a4c50afb1fceed99eaefe": {
          "model_module": "@jupyter-widgets/controls",
          "model_name": "SliderStyleModel",
          "state": {
            "_view_name": "StyleView",
            "handle_color": null,
            "_model_name": "SliderStyleModel",
            "description_width": "",
            "_view_module": "@jupyter-widgets/base",
            "_model_module_version": "1.5.0",
            "_view_count": null,
            "_view_module_version": "1.2.0",
            "_model_module": "@jupyter-widgets/controls"
          }
        },
        "de8f87ee136c4cd89c8d72ba5f354973": {
          "model_module": "@jupyter-widgets/base",
          "model_name": "LayoutModel",
          "state": {
            "_view_name": "LayoutView",
            "grid_template_rows": null,
            "right": null,
            "justify_content": null,
            "_view_module": "@jupyter-widgets/base",
            "overflow": null,
            "_model_module_version": "1.2.0",
            "_view_count": null,
            "flex_flow": null,
            "width": null,
            "min_width": null,
            "border": null,
            "align_items": null,
            "bottom": null,
            "_model_module": "@jupyter-widgets/base",
            "top": null,
            "grid_column": null,
            "overflow_y": null,
            "overflow_x": null,
            "grid_auto_flow": null,
            "grid_area": null,
            "grid_template_columns": null,
            "flex": null,
            "_model_name": "LayoutModel",
            "justify_items": null,
            "grid_row": null,
            "max_height": null,
            "align_content": null,
            "visibility": null,
            "align_self": null,
            "height": null,
            "min_height": null,
            "padding": null,
            "grid_auto_rows": null,
            "grid_gap": null,
            "max_width": null,
            "order": null,
            "_view_module_version": "1.2.0",
            "grid_template_areas": null,
            "object_position": null,
            "object_fit": null,
            "grid_auto_columns": null,
            "margin": null,
            "display": null,
            "left": null
          }
        },
        "2b378f80db8c46f3be7565a81c79e9a4": {
          "model_module": "@jupyter-widgets/base",
          "model_name": "LayoutModel",
          "state": {
            "_view_name": "LayoutView",
            "grid_template_rows": null,
            "right": null,
            "justify_content": null,
            "_view_module": "@jupyter-widgets/base",
            "overflow": null,
            "_model_module_version": "1.2.0",
            "_view_count": null,
            "flex_flow": null,
            "width": null,
            "min_width": null,
            "border": null,
            "align_items": null,
            "bottom": null,
            "_model_module": "@jupyter-widgets/base",
            "top": null,
            "grid_column": null,
            "overflow_y": null,
            "overflow_x": null,
            "grid_auto_flow": null,
            "grid_area": null,
            "grid_template_columns": null,
            "flex": null,
            "_model_name": "LayoutModel",
            "justify_items": null,
            "grid_row": null,
            "max_height": null,
            "align_content": null,
            "visibility": null,
            "align_self": null,
            "height": null,
            "min_height": null,
            "padding": null,
            "grid_auto_rows": null,
            "grid_gap": null,
            "max_width": null,
            "order": null,
            "_view_module_version": "1.2.0",
            "grid_template_areas": null,
            "object_position": null,
            "object_fit": null,
            "grid_auto_columns": null,
            "margin": null,
            "display": null,
            "left": null
          }
        }
      }
    },
    "colab": {
      "name": "02_2_Language_Details.ipynb",
      "provenance": [],
      "collapsed_sections": [],
      "include_colab_link": true
    }
  },
  "cells": [
    {
      "cell_type": "markdown",
      "metadata": {
        "id": "view-in-github",
        "colab_type": "text"
      },
      "source": [
        "<a href=\"https://colab.research.google.com/github/mueller14003/cse480-notebooks/blob/master/02_2_Language_Details.ipynb\" target=\"_parent\"><img src=\"https://colab.research.google.com/assets/colab-badge.svg\" alt=\"Open In Colab\"/></a>"
      ]
    },
    {
      "cell_type": "markdown",
      "metadata": {
        "run_control": {
          "frozen": false,
          "read_only": false
        },
        "id": "Cf7b66EX8wXh"
      },
      "source": [
        "# Details covering Ch2, Ch3\n",
        "\n",
        "## Main Addition: Full definitions of various language builder functions presented here\n",
        "\n",
        "Some of the material in this module could be repetitious, but still good practice.\n",
        "\n",
        "A video describing the use of this module is below. Following that, we present the top-level functions defined in this module. Then come the function definitions themselves, and finally some tests that drive the functions and illustrate their usage.\n",
        "\n",
        "**Note**: Some of the contents of the video below may not correspond to the latest code in these notebooks. However the principles remain the same.\n",
        "\n",
        "**Note**: All functions have good internal documentation; so for example, if you run \"help(lstar)\", it will fully describe the lstar function.\n",
        "\n",
        "**Note**: The definition of nthnumeric has evolved (it now expects a list as its second argument)."
      ]
    },
    {
      "cell_type": "markdown",
      "metadata": {
        "id": "ATP_8pUG8wXm"
      },
      "source": [
        "## This video is the same as in 02_01_Language_Basics -- less than 18 mins, so plz watch to recap!"
      ]
    },
    {
      "cell_type": "code",
      "metadata": {
        "editable": false,
        "run_control": {
          "frozen": false,
          "read_only": false
        },
        "scrolled": true,
        "colab": {
          "base_uri": "https://localhost:8080/",
          "height": 321
        },
        "id": "_2qvTamn8wXn",
        "outputId": "a7e1714f-1859-41c0-ea08-dca455c0d290"
      },
      "source": [
        "from IPython.display import YouTubeVideo\n",
        "YouTubeVideo('TAEYvJn5eGc')"
      ],
      "execution_count": null,
      "outputs": [
        {
          "output_type": "execute_result",
          "data": {
            "text/html": [
              "\n",
              "        <iframe\n",
              "            width=\"400\"\n",
              "            height=\"300\"\n",
              "            src=\"https://www.youtube.com/embed/TAEYvJn5eGc\"\n",
              "            frameborder=\"0\"\n",
              "            allowfullscreen\n",
              "        ></iframe>\n",
              "        "
            ],
            "text/plain": [
              "<IPython.lib.display.YouTubeVideo at 0x7f49e0e2aac8>"
            ],
            "image/jpeg": "[encoded data removed]"
          },
          "metadata": {
            "tags": []
          },
          "execution_count": 21
        }
      ]
    },
    {
      "cell_type": "markdown",
      "metadata": {
        "run_control": {
          "frozen": false,
          "read_only": false
        },
        "id": "a2gfBDyn8wXp"
      },
      "source": [
        "# Top-level functions in this module\n",
        " \n",
        "help(lphi)\n",
        "help(lunit)\n",
        "help(lcat)\n",
        "help(lexp)\n",
        "help(lunion)\n",
        "help(lstar)\n",
        "help(srev)\n",
        "help(lrev)\n",
        "help(shomo)\n",
        "help(lhomo)\n",
        "help(powset)\n",
        "help(lint)\n",
        "help(lsymdiff)\n",
        "help(lminus)\n",
        "help(lissubset)\n",
        "help(lissuperset)\n",
        "help(lcomplem)\n",
        "help(product)\n",
        "help(nthnumeric)\n"
      ]
    },
    {
      "cell_type": "markdown",
      "metadata": {
        "editable": false,
        "run_control": {
          "frozen": false,
          "read_only": false
        },
        "id": "kqru0CMJ8wXp"
      },
      "source": [
        "<span style=\"color:blue\"> **Now we begin following along Chapter-2 of the book ** </span>\n",
        "\n",
        "# Chapter-2: Alphabet and Languages\n",
        "\n",
        "We begin our study of Alphabets and Languages. Please read the book. You *must* be doing two kinds of exercises:\n",
        "\n",
        "* Do exercises on paper. That is the math you need from this course. There is no short-cut to it.\n",
        "\n",
        "* Do the programming challenges (and play with the code) presented in this notebook (more exercises will be added). This programming part builds intuitions and helps knowledge stick. \n",
        "\n",
        "> Let us recall Prof. John McCarthy's quote\n",
        "\n",
        ">> You do not understand anything unless you have studied it in multiple ways\n",
        "\n",
        "It is to facilitate the \"study in multiple ways\" that the programming part is being given to you. It is the centerpiece of this work."
      ]
    },
    {
      "cell_type": "markdown",
      "metadata": {
        "editable": false,
        "run_control": {
          "frozen": false,
          "read_only": false
        },
        "id": "MLb5oAgW8wXq"
      },
      "source": [
        "<span style=\"color:blue\"> **Coding philosophy:** </span>\n",
        "\n",
        "Clearly, the code in this book can be cast into an object-oriented style. We avoid doing so for these reasons:\n",
        "\n",
        "* We want to keep the barrier to entry as low as possible. In fact, we are extremely parsimonious in our use of Python constructs. \n",
        "\n",
        "* We prefer to modularize each concept into specific sections where we treat the math and code as being almost at the same level. We also want these Jupyter notes to resemble Knuth's \"literate programs\". More reasons will be given in the Jupyter notes of Chapter 3."
      ]
    },
    {
      "cell_type": "markdown",
      "metadata": {
        "editable": false,
        "run_control": {
          "frozen": false,
          "read_only": false
        },
        "id": "T-COkIY_8wXq"
      },
      "source": [
        "<span style=\"color:blue\"> **------** </span>\n",
        "\n",
        "OK, now onto our subject matter!\n",
        "\n",
        "## Alphabet and Language\n",
        "\n",
        "\n",
        "An Alphabet is a *finite* set of finitary items, often called \"symbols\" - usually they are single characters, but they also could be finite strings or (in the case of GNFA) be themselves regular expressions.  Just think of an Alphabet $\\Sigma$ to be a *finite* and *non-empty* set of symbols.\n",
        "\n",
        " \n",
        "__Language__:\n",
        "\n",
        "\n",
        "A language is a set of sequences (strings) of symbols. We define languages through Python code as follows. \n",
        "\n",
        "We are defining regular languages here. \n",
        "\n",
        "The simplest regular language is $\\emptyset$, the empty language. This is like the \"zero\" of a language. Why so? We know that \"0\" is the annihilator for multiplication, i.e. 3 $\\times$ 0 = 0. What is the multiplication operation for languages? It is concatenation!\n",
        "\n",
        "\n",
        "* Notice that in almost all cases, languages are encoded using Python sets.\n",
        "\n",
        "* Exceptions will be pointed out when they occur.\n",
        "\n",
        "* Also, in almost all cases, languages are sets of strings."
      ]
    },
    {
      "cell_type": "markdown",
      "metadata": {
        "editable": false,
        "run_control": {
          "frozen": false,
          "read_only": false
        },
        "id": "eX3IYqL-8wXq"
      },
      "source": [
        "__Zero Language__:\n",
        "\n",
        "<span style=\"color:blue\"> **We begin with the empty language (ZERO of a language). We use lphi() to refere to this language, as phi (Greek symbol) is used to denote the empty set. ** </span>"
      ]
    },
    {
      "cell_type": "code",
      "metadata": {
        "code_folding": [
          3
        ],
        "editable": false,
        "run_control": {
          "frozen": false,
          "read_only": false
        },
        "id": "jQ0udP8w8wXr"
      },
      "source": [
        "# The theory of languages : Primitive languages and language builders\n",
        "\n",
        "def lphi():\n",
        "    \"\"\"In : None.\n",
        "       Out: Zero language, i.e. set({}).\n",
        "    \"\"\"\n",
        "    return set({})  # {} could be dict; so we put set(..)"
      ],
      "execution_count": null,
      "outputs": []
    },
    {
      "cell_type": "code",
      "metadata": {
        "run_control": {
          "frozen": false,
          "read_only": false
        },
        "colab": {
          "base_uri": "https://localhost:8080/"
        },
        "id": "zMPYmNsa8wXr",
        "outputId": "72a1ff2b-ff7d-435c-c822-e9508f28974d"
      },
      "source": [
        "lphi()"
      ],
      "execution_count": null,
      "outputs": [
        {
          "output_type": "execute_result",
          "data": {
            "text/plain": [
              "set()"
            ]
          },
          "metadata": {
            "tags": []
          },
          "execution_count": 23
        }
      ]
    },
    {
      "cell_type": "markdown",
      "metadata": {
        "editable": false,
        "run_control": {
          "frozen": false,
          "read_only": false
        },
        "id": "8BraBW448wXr"
      },
      "source": [
        "__Unit Language__:\n",
        "\n",
        "<span style=\"color:blue\"> **Now we define the Unit language (ONE of a language) as well as concatenation. We use lunit() and lcat() to refer to these operations. ** </span>"
      ]
    },
    {
      "cell_type": "markdown",
      "metadata": {
        "editable": false,
        "run_control": {
          "frozen": false,
          "read_only": false
        },
        "id": "uArD5f678wXr"
      },
      "source": [
        "Now let us define the Unit language (\"1\" for languages with respect to concatenation viewed as multiplication).\n",
        "\n",
        "Let us also define language concatenation.\n",
        "\n",
        "> $L1 \\; L2 \\;\\; =\\;\\;  \\{x y \\; \\mid \\; x\\in L1 \\;\\wedge\\; y\\in L2\\}$"
      ]
    },
    {
      "cell_type": "markdown",
      "metadata": {
        "editable": false,
        "run_control": {
          "frozen": false,
          "read_only": false
        },
        "id": "xZigr4-t8wXr"
      },
      "source": [
        "# Documentation Conventions\n",
        "\n",
        "* Functions will have comment strings that start with \"\"\" and end with \"\"\"\n",
        "* In : will specify inputs separately, mentioning conceptual object and rep (Python data-type) \n",
        "* Out: will mention output, mentioning conceptual object and rep (Python data-type)\n",
        "* Sometimes an example will follow\n",
        "* Extremely simple helper functions won't have much of a doc (usually a one-liner)\n",
        "* Example documentation:\n",
        "```\n",
        "  \"\"\"In : L1 (language : a set),\n",
        "          L2 (language : a set).\n",
        "     Out: L1 concat L2 (language : a set).\n",
        "     Example:\n",
        "     L1 = {'ab', 'bc'} \n",
        "     L2 = {'11', 'ab', '22'} \n",
        "     lcat(L1,L2) -> {'abab', 'bc22', 'ab11', 'ab22', 'bcab', 'bc11'}\n",
        "  \"\"\"\n",
        "```"
      ]
    },
    {
      "cell_type": "code",
      "metadata": {
        "editable": false,
        "run_control": {
          "frozen": false,
          "read_only": false
        },
        "id": "1JFolpAx8wXs"
      },
      "source": [
        "def lunit():\n",
        "    \"\"\"In : None.\n",
        "       Out: {\"\"} (a language : a set).\n",
        "    \"\"\"\n",
        "    return {\"\"} # Set with epsilon\n",
        "\n",
        "def lcat(L1,L2):\n",
        "    \"\"\"In : L1 (language : a set),\n",
        "            L2 (language : a set).\n",
        "       Out: L1 concat L2 (language : a set).\n",
        "       Example:\n",
        "       L1 = {'ab', 'bc'} \n",
        "       L2 = {'11', 'ab', '22'} \n",
        "       lcat(L1,L2) -> {'abab', 'bc22', 'ab11', 'ab22', 'bcab', 'bc11'}\n",
        "    \"\"\"\n",
        "    return {x+y for x in L1 for y in L2}"
      ],
      "execution_count": null,
      "outputs": []
    },
    {
      "cell_type": "code",
      "metadata": {
        "run_control": {
          "frozen": false,
          "read_only": false
        },
        "colab": {
          "base_uri": "https://localhost:8080/",
          "height": 35
        },
        "id": "Ibzwxu788wXs",
        "outputId": "573264aa-d6b3-4d75-8bfc-0dbad25bc89a"
      },
      "source": [
        "\"\""
      ],
      "execution_count": null,
      "outputs": [
        {
          "output_type": "execute_result",
          "data": {
            "application/vnd.google.colaboratory.intrinsic+json": {
              "type": "string"
            },
            "text/plain": [
              "''"
            ]
          },
          "metadata": {
            "tags": []
          },
          "execution_count": 25
        }
      ]
    },
    {
      "cell_type": "code",
      "metadata": {
        "run_control": {
          "frozen": false,
          "read_only": false
        },
        "colab": {
          "base_uri": "https://localhost:8080/"
        },
        "id": "88nQ3U5k8wXs",
        "outputId": "354de3e8-79bc-4c3a-c923-44474aa444c2"
      },
      "source": [
        "L1 = {\"a\" * n for n in range(0,3)}\n",
        "L1"
      ],
      "execution_count": null,
      "outputs": [
        {
          "output_type": "execute_result",
          "data": {
            "text/plain": [
              "{'', 'a', 'aa'}"
            ]
          },
          "metadata": {
            "tags": []
          },
          "execution_count": 26
        }
      ]
    },
    {
      "cell_type": "code",
      "metadata": {
        "run_control": {
          "frozen": false,
          "read_only": false
        },
        "colab": {
          "base_uri": "https://localhost:8080/"
        },
        "id": "mPaB6SQv8wXs",
        "outputId": "866a4dac-8c61-4af6-a5ae-7bbd5517d240"
      },
      "source": [
        "L2 = {\"b\" * m for m in range(0,2)}\n",
        "L2"
      ],
      "execution_count": null,
      "outputs": [
        {
          "output_type": "execute_result",
          "data": {
            "text/plain": [
              "{'', 'b'}"
            ]
          },
          "metadata": {
            "tags": []
          },
          "execution_count": 27
        }
      ]
    },
    {
      "cell_type": "code",
      "metadata": {
        "run_control": {
          "frozen": false,
          "read_only": false
        },
        "colab": {
          "base_uri": "https://localhost:8080/"
        },
        "id": "fsQX47Bu8wXt",
        "outputId": "0e204563-3ad8-42a6-9587-c45e239bc49f"
      },
      "source": [
        "lcat(L1,L2)"
      ],
      "execution_count": null,
      "outputs": [
        {
          "output_type": "execute_result",
          "data": {
            "text/plain": [
              "{'', 'a', 'aa', 'aab', 'ab', 'b'}"
            ]
          },
          "metadata": {
            "tags": []
          },
          "execution_count": 28
        }
      ]
    },
    {
      "cell_type": "code",
      "metadata": {
        "run_control": {
          "frozen": false,
          "read_only": false
        },
        "colab": {
          "base_uri": "https://localhost:8080/"
        },
        "id": "bXcyyL_L8wXt",
        "outputId": "0ba308ef-8a61-4ed5-e141-ccb0506bc056"
      },
      "source": [
        "lcat(lunit(), L1)"
      ],
      "execution_count": null,
      "outputs": [
        {
          "output_type": "execute_result",
          "data": {
            "text/plain": [
              "{'', 'a', 'aa'}"
            ]
          },
          "metadata": {
            "tags": []
          },
          "execution_count": 29
        }
      ]
    },
    {
      "cell_type": "code",
      "metadata": {
        "run_control": {
          "frozen": false,
          "read_only": false
        },
        "colab": {
          "base_uri": "https://localhost:8080/"
        },
        "id": "LR8f4cl08wXt",
        "outputId": "dfe4b195-f55c-4e69-8a58-78513702d00f"
      },
      "source": [
        "x = {'','a'}\n",
        "xcrossx = { (a,b) for a in x for b in x}\n",
        "xcrossx"
      ],
      "execution_count": null,
      "outputs": [
        {
          "output_type": "execute_result",
          "data": {
            "text/plain": [
              "{('', ''), ('', 'a'), ('a', ''), ('a', 'a')}"
            ]
          },
          "metadata": {
            "tags": []
          },
          "execution_count": 30
        }
      ]
    },
    {
      "cell_type": "code",
      "metadata": {
        "run_control": {
          "frozen": false,
          "read_only": false
        },
        "colab": {
          "base_uri": "https://localhost:8080/"
        },
        "id": "wkKo5p778wXt",
        "outputId": "01dfa888-6353-4aa2-9c08-8cde650c22d4"
      },
      "source": [
        "len(lcat(x,x)) == len(xcrossx)"
      ],
      "execution_count": null,
      "outputs": [
        {
          "output_type": "execute_result",
          "data": {
            "text/plain": [
              "False"
            ]
          },
          "metadata": {
            "tags": []
          },
          "execution_count": 31
        }
      ]
    },
    {
      "cell_type": "markdown",
      "metadata": {
        "editable": false,
        "run_control": {
          "frozen": false,
          "read_only": false
        },
        "id": "RMH8Lzg-8wXt"
      },
      "source": [
        "__Language Concatenation vs. Cartesian Product__:\n",
        "\n",
        "<span style=\"color:blue\"> **Notice the similarity with cartesian product. We draw a string x from L1 and string y from L2, but instead of pairing them, we concatenate them.** </span>"
      ]
    },
    {
      "cell_type": "markdown",
      "metadata": {
        "editable": false,
        "run_control": {
          "frozen": false,
          "read_only": false
        },
        "id": "MUi6OJ5p8wXu"
      },
      "source": [
        "## Illustrations \n",
        "\n",
        "We now illustrate \n",
        "\n",
        "* the Zero language lphi(), \n",
        "\n",
        "* unit language lunit(), \n",
        "\n",
        "* and the lcat() operator\n",
        "\n",
        "Let us take a simple example language L = $\\{{\\text 'a'}, {\\text 'bc'}\\}$ for illustration.\n",
        "\n",
        "Recall that in Python, there are multiple ways to quote strings ('a', \"a\", or \"\"\"a\"\"\"). The main idea is to support the nesting of quotes. So please don't be confused if we accidentally change our quoting method."
      ]
    },
    {
      "cell_type": "code",
      "metadata": {
        "editable": false,
        "run_control": {
          "frozen": false,
          "read_only": false
        },
        "colab": {
          "base_uri": "https://localhost:8080/"
        },
        "id": "6Lf9CI1T8wXu",
        "outputId": "d78d57b7-286f-4fd6-c132-3eaa38f167eb"
      },
      "source": [
        "L = {'a','bc'}\n",
        "\n",
        "print( \"lcat(lphi(), L) = \",  lcat(lphi(), L) )\n",
        " \n",
        "print( \"lcat(lunit(), L) = \",  lcat(lunit(), L)  )"
      ],
      "execution_count": null,
      "outputs": [
        {
          "output_type": "stream",
          "text": [
            "lcat(lphi(), L) =  set()\n",
            "lcat(lunit(), L) =  {'a', 'bc'}\n"
          ],
          "name": "stdout"
        }
      ]
    },
    {
      "cell_type": "markdown",
      "metadata": {
        "editable": false,
        "run_control": {
          "frozen": false,
          "read_only": false
        },
        "id": "nft9jvUn8wXu"
      },
      "source": [
        "\n",
        "Let us define another language through set comprehension, and exercise many different applications of concatenation.\n",
        "\n",
        "\n",
        "* Consider the language\n",
        "\n",
        " > M = $\\{ 0^m 1^n \\; \\mid \\; 0 \\leq m,n \\leq 3 \\;\\wedge\\; m < n \\}$"
      ]
    },
    {
      "cell_type": "code",
      "metadata": {
        "editable": false,
        "run_control": {
          "frozen": false,
          "read_only": false
        },
        "colab": {
          "base_uri": "https://localhost:8080/"
        },
        "id": "A3bWhsdk8wXv",
        "outputId": "8c7f9cd6-faeb-49a9-9bc0-221dfdad4928"
      },
      "source": [
        "M = {\"0\"*m + \"1\"*n for m in range(3) for n in range(4) if m < n }\n",
        "print(M)"
      ],
      "execution_count": null,
      "outputs": [
        {
          "output_type": "stream",
          "text": [
            "{'1', '0111', '00111', '011', '11', '111'}\n"
          ],
          "name": "stdout"
        }
      ]
    },
    {
      "cell_type": "code",
      "metadata": {
        "editable": false,
        "run_control": {
          "frozen": false,
          "read_only": false
        },
        "colab": {
          "base_uri": "https://localhost:8080/"
        },
        "id": "RMR2SWdi8wXv",
        "outputId": "615d65f2-194d-47cc-8514-958d7cefe773"
      },
      "source": [
        "print(\"lcat(L,M) = \", lcat(L,M))"
      ],
      "execution_count": null,
      "outputs": [
        {
          "output_type": "stream",
          "text": [
            "lcat(L,M) =  {'bc00111', 'bc11', 'a00111', 'bc0111', 'a111', 'bc011', 'a0111', 'a11', 'a011', 'bc111', 'a1', 'bc1'}\n"
          ],
          "name": "stdout"
        }
      ]
    },
    {
      "cell_type": "code",
      "metadata": {
        "editable": false,
        "run_control": {
          "frozen": false,
          "read_only": false
        },
        "colab": {
          "base_uri": "https://localhost:8080/"
        },
        "id": "hDZBch2w8wXv",
        "outputId": "ba595980-3d7a-4861-8234-9931640701e2"
      },
      "source": [
        "print(\"lcat(M,lphi()) = \", lcat(M,lphi()))"
      ],
      "execution_count": null,
      "outputs": [
        {
          "output_type": "stream",
          "text": [
            "lcat(M,lphi()) =  set()\n"
          ],
          "name": "stdout"
        }
      ]
    },
    {
      "cell_type": "code",
      "metadata": {
        "editable": false,
        "run_control": {
          "frozen": false,
          "read_only": false
        },
        "colab": {
          "base_uri": "https://localhost:8080/"
        },
        "id": "_qP54Ylh8wXv",
        "outputId": "c893dd46-a3fd-453c-e2d3-952fc5318d32"
      },
      "source": [
        "print(\"lcat(M,lunit()) = \", lcat(M,lunit()))"
      ],
      "execution_count": null,
      "outputs": [
        {
          "output_type": "stream",
          "text": [
            "lcat(M,lunit()) =  {'1', '0111', '00111', '011', '11', '111'}\n"
          ],
          "name": "stdout"
        }
      ]
    },
    {
      "cell_type": "markdown",
      "metadata": {
        "editable": false,
        "run_control": {
          "frozen": false,
          "read_only": false
        },
        "id": "3yOYMhmK8wXv"
      },
      "source": [
        "<span style=\"color:green\"> **Need to add a few exercises here. ** </span>"
      ]
    },
    {
      "cell_type": "markdown",
      "metadata": {
        "editable": false,
        "run_control": {
          "frozen": false,
          "read_only": false
        },
        "id": "wog9Ap218wXw"
      },
      "source": [
        "### Exponentiation as repeated concatenation\n",
        "\n",
        "With concatenation and Unit under our belt, we can define exponentiation recursively. Exponentiation is repeated multiplication (which for us is concatenation).\n",
        "\n",
        "> $L^n = L L^{n-1}$\n",
        "\n",
        "> $L^0 = Unit$\n",
        "\n",
        "We must have $L^0 = lunit()$; that is the only logical choice. \n",
        "\n",
        "\n",
        "__Question:__  If you defined $L^0 = lphi()$, then what happens?\n",
        "\n",
        "The code below simulates the aforesaid recursion."
      ]
    },
    {
      "cell_type": "code",
      "metadata": {
        "editable": false,
        "run_control": {
          "frozen": false,
          "read_only": false
        },
        "id": "zxU0reeF8wXw"
      },
      "source": [
        "def lexp(L,n):\n",
        "    \"\"\"In : L (language : a set),\n",
        "            n (exponent : a nat).\n",
        "       Out: L^n (language : a set).\n",
        "       Example:\n",
        "       L = {'ab', 'bc'}\n",
        "       n = 2\n",
        "       lexp(A,2) -> {'abab', 'bcab', 'bcbc', 'abbc'}\n",
        "    \"\"\"\n",
        "    return lunit() if n == 0 else lcat(L, lexp(L, n-1))"
      ],
      "execution_count": null,
      "outputs": []
    },
    {
      "cell_type": "markdown",
      "metadata": {
        "editable": false,
        "run_control": {
          "frozen": false,
          "read_only": false
        },
        "id": "oV3hK9WG8wXw"
      },
      "source": [
        "\n",
        "__Let us now test our lexp functionality__:\n",
        "\n"
      ]
    },
    {
      "cell_type": "code",
      "metadata": {
        "editable": false,
        "run_control": {
          "frozen": false,
          "read_only": false
        },
        "colab": {
          "base_uri": "https://localhost:8080/"
        },
        "id": "Mss1Ilov8wXw",
        "outputId": "5f7d74af-f4d1-4131-aa33-b754011e35a3"
      },
      "source": [
        "L = {'a','bc'}\n",
        "lexp(L,2)"
      ],
      "execution_count": null,
      "outputs": [
        {
          "output_type": "execute_result",
          "data": {
            "text/plain": [
              "{'aa', 'abc', 'bca', 'bcbc'}"
            ]
          },
          "metadata": {
            "tags": []
          },
          "execution_count": 38
        }
      ]
    },
    {
      "cell_type": "code",
      "metadata": {
        "editable": false,
        "run_control": {
          "frozen": false,
          "read_only": false
        },
        "colab": {
          "base_uri": "https://localhost:8080/"
        },
        "id": "kiOFFSO28wXw",
        "outputId": "5fa2b200-34c1-43e8-90f0-0a2b5f2dd2ca"
      },
      "source": [
        "M = {\"0\"*m + \"1\"*n for m in range(3) for n in range(4) if m < n }\n",
        "print('M = ', M)\n",
        "print('lexp(M,2) = ')\n",
        "lexp(M,2)"
      ],
      "execution_count": null,
      "outputs": [
        {
          "output_type": "stream",
          "text": [
            "M =  {'1', '0111', '00111', '011', '11', '111'}\n",
            "lexp(M,2) = \n"
          ],
          "name": "stdout"
        },
        {
          "output_type": "execute_result",
          "data": {
            "text/plain": [
              "{'0011100111',\n",
              " '00111011',\n",
              " '001110111',\n",
              " '001111',\n",
              " '0011111',\n",
              " '00111111',\n",
              " '01100111',\n",
              " '011011',\n",
              " '0110111',\n",
              " '0111',\n",
              " '011100111',\n",
              " '0111011',\n",
              " '01110111',\n",
              " '01111',\n",
              " '011111',\n",
              " '0111111',\n",
              " '100111',\n",
              " '1011',\n",
              " '10111',\n",
              " '11',\n",
              " '1100111',\n",
              " '11011',\n",
              " '110111',\n",
              " '111',\n",
              " '11100111',\n",
              " '111011',\n",
              " '1110111',\n",
              " '1111',\n",
              " '11111',\n",
              " '111111'}"
            ]
          },
          "metadata": {
            "tags": []
          },
          "execution_count": 39
        }
      ]
    },
    {
      "cell_type": "code",
      "metadata": {
        "editable": false,
        "run_control": {
          "frozen": false,
          "read_only": false
        },
        "colab": {
          "base_uri": "https://localhost:8080/"
        },
        "id": "9GWr-6XT8wXw",
        "outputId": "dd413f2f-25b3-49d1-887a-7d4a5a6a6695"
      },
      "source": [
        "L = {'a','bc'}\n",
        "M = {\"0\"*m + \"1\"*n for m in range(3) for n in range(4) if m < n }\n",
        "lexp(lcat(L,M),1)"
      ],
      "execution_count": null,
      "outputs": [
        {
          "output_type": "execute_result",
          "data": {
            "text/plain": [
              "{'a00111',\n",
              " 'a011',\n",
              " 'a0111',\n",
              " 'a1',\n",
              " 'a11',\n",
              " 'a111',\n",
              " 'bc00111',\n",
              " 'bc011',\n",
              " 'bc0111',\n",
              " 'bc1',\n",
              " 'bc11',\n",
              " 'bc111'}"
            ]
          },
          "metadata": {
            "tags": []
          },
          "execution_count": 40
        }
      ]
    },
    {
      "cell_type": "markdown",
      "metadata": {
        "editable": false,
        "run_control": {
          "frozen": false,
          "read_only": false
        },
        "id": "-cNGxHly8wXx"
      },
      "source": [
        "<span style=\"color:green\"> **Need to add a few exercises here. ** </span>"
      ]
    },
    {
      "cell_type": "markdown",
      "metadata": {
        "editable": false,
        "run_control": {
          "frozen": false,
          "read_only": false
        },
        "id": "topXCEBd8wXx"
      },
      "source": [
        "<span style=\"color:blue\"> **Definition of the star of a language through function lstar. Since star produces an infinite set in almost all cases, we define a _truncated_ version of star. ** </span>"
      ]
    },
    {
      "cell_type": "markdown",
      "metadata": {
        "editable": false,
        "run_control": {
          "frozen": false,
          "read_only": false
        },
        "id": "lqrQJVkL8wXx"
      },
      "source": [
        "\n",
        "### With lexp under our belt, we can define lstar. We will define \"star up to n\" and then set n to infinity.\n",
        "\n",
        "> $L^{*n} = L^n \\; \\cup \\; L^{*(n-1)}$\n",
        "\n",
        "> $L^{*0} = Unit$\n",
        "\n",
        "And thus the classical $L^* = L^{*n}\\;\\; {\\rm for}\\;\\; n=\\infty$, which we won't bother to \"run\" in Python :-).  We will only run $L^{*n}$ in Python.\n",
        "\n",
        "We also take care to test that lstar works correctly for lphi and Unit.\n"
      ]
    },
    {
      "cell_type": "code",
      "metadata": {
        "editable": false,
        "run_control": {
          "frozen": false,
          "read_only": false
        },
        "id": "gYzmK3Yq8wXx"
      },
      "source": [
        "def lunion(L1,L2):\n",
        "    \"\"\"In : L1 (language : a set),\n",
        "            L2 (language : a set).\n",
        "       Out: L1 union L2 (language : a set).\n",
        "    \"\"\"\n",
        "    return L1 | L2\n",
        "\n",
        "def lstar(L,n):\n",
        "    \"\"\"In : L (language : a set),\n",
        "            n (bound for lstar : a nat). \n",
        "       Out: L*_n (language : a set)\n",
        "    Example:\n",
        "    L = {'ab','bc'}\n",
        "    n = 2\n",
        "    lstar(L,2) -> {'abab', 'bcbc', 'ab', 'abbc', '', 'bc', 'bcab'}\n",
        "    \"\"\"\n",
        "    return lunit() if n == 0 else lunion(lexp(L,n), lstar(L,n-1))"
      ],
      "execution_count": null,
      "outputs": []
    },
    {
      "cell_type": "code",
      "metadata": {
        "editable": false,
        "run_control": {
          "frozen": false,
          "read_only": false
        },
        "colab": {
          "base_uri": "https://localhost:8080/"
        },
        "id": "9BxlEsdX8wXx",
        "outputId": "52e9be0b-116a-4265-fb0d-290036d82147"
      },
      "source": [
        "L1 = {'a','bc'}\n",
        "lstar(L1,2) "
      ],
      "execution_count": null,
      "outputs": [
        {
          "output_type": "execute_result",
          "data": {
            "text/plain": [
              "{'', 'a', 'aa', 'abc', 'bc', 'bca', 'bcbc'}"
            ]
          },
          "metadata": {
            "tags": []
          },
          "execution_count": 42
        }
      ]
    },
    {
      "cell_type": "code",
      "metadata": {
        "editable": false,
        "run_control": {
          "frozen": false,
          "read_only": false
        },
        "colab": {
          "base_uri": "https://localhost:8080/"
        },
        "id": "tJqtH9BF8wXy",
        "outputId": "1a301566-c815-44ec-d1ec-c23dd0833b92"
      },
      "source": [
        "L2 = {'ab','bc'}\n",
        "lstar(L2,2) "
      ],
      "execution_count": null,
      "outputs": [
        {
          "output_type": "execute_result",
          "data": {
            "text/plain": [
              "{'', 'ab', 'abab', 'abbc', 'bc', 'bcab', 'bcbc'}"
            ]
          },
          "metadata": {
            "tags": []
          },
          "execution_count": 43
        }
      ]
    },
    {
      "cell_type": "code",
      "metadata": {
        "editable": false,
        "run_control": {
          "frozen": false,
          "read_only": false
        },
        "colab": {
          "base_uri": "https://localhost:8080/"
        },
        "id": "r2X6UT0O8wXy",
        "outputId": "bb761720-3d02-4b14-aece-ed2ffbc2096c"
      },
      "source": [
        "L2 = {'ab','bc'}\n",
        "lstar(L2,3)"
      ],
      "execution_count": null,
      "outputs": [
        {
          "output_type": "execute_result",
          "data": {
            "text/plain": [
              "{'',\n",
              " 'ab',\n",
              " 'abab',\n",
              " 'ababab',\n",
              " 'ababbc',\n",
              " 'abbc',\n",
              " 'abbcab',\n",
              " 'abbcbc',\n",
              " 'bc',\n",
              " 'bcab',\n",
              " 'bcabab',\n",
              " 'bcabbc',\n",
              " 'bcbc',\n",
              " 'bcbcab',\n",
              " 'bcbcbc'}"
            ]
          },
          "metadata": {
            "tags": []
          },
          "execution_count": 44
        }
      ]
    },
    {
      "cell_type": "markdown",
      "metadata": {
        "editable": false,
        "run_control": {
          "frozen": false,
          "read_only": false
        },
        "id": "08mLoVul8wXy"
      },
      "source": [
        "#### Let us define a typical alphabet used in our studies: $\\Sigma = \\{0,1\\}$"
      ]
    },
    {
      "cell_type": "code",
      "metadata": {
        "editable": false,
        "run_control": {
          "frozen": false,
          "read_only": false
        },
        "id": "wvenbZ128wXy"
      },
      "source": [
        "Sig01 = {'0','1'}"
      ],
      "execution_count": null,
      "outputs": []
    },
    {
      "cell_type": "code",
      "metadata": {
        "editable": false,
        "run_control": {
          "frozen": false,
          "read_only": false
        },
        "colab": {
          "base_uri": "https://localhost:8080/"
        },
        "id": "fQih0Q3L8wXz",
        "outputId": "6d6cc009-b6b5-4d06-c0a2-756317cda508"
      },
      "source": [
        "lstar(Sig01,0)"
      ],
      "execution_count": null,
      "outputs": [
        {
          "output_type": "execute_result",
          "data": {
            "text/plain": [
              "{''}"
            ]
          },
          "metadata": {
            "tags": []
          },
          "execution_count": 46
        }
      ]
    },
    {
      "cell_type": "code",
      "metadata": {
        "editable": false,
        "run_control": {
          "frozen": false,
          "read_only": false
        },
        "colab": {
          "base_uri": "https://localhost:8080/"
        },
        "id": "ZhKWA9WK8wXz",
        "outputId": "bb72a718-021f-4315-cc94-a9fc7d65f469"
      },
      "source": [
        "lstar(Sig01,1)"
      ],
      "execution_count": null,
      "outputs": [
        {
          "output_type": "execute_result",
          "data": {
            "text/plain": [
              "{'', '0', '1'}"
            ]
          },
          "metadata": {
            "tags": []
          },
          "execution_count": 47
        }
      ]
    },
    {
      "cell_type": "code",
      "metadata": {
        "editable": false,
        "run_control": {
          "frozen": false,
          "read_only": false
        },
        "colab": {
          "base_uri": "https://localhost:8080/"
        },
        "id": "PCdQ9y_l8wXz",
        "outputId": "e18f1cdd-c304-4346-fdcc-3e021cdb2cdd"
      },
      "source": [
        "lstar(Sig01,2)"
      ],
      "execution_count": null,
      "outputs": [
        {
          "output_type": "execute_result",
          "data": {
            "text/plain": [
              "{'', '0', '00', '01', '1', '10', '11'}"
            ]
          },
          "metadata": {
            "tags": []
          },
          "execution_count": 48
        }
      ]
    },
    {
      "cell_type": "code",
      "metadata": {
        "editable": false,
        "run_control": {
          "frozen": false,
          "read_only": false
        },
        "id": "BrGrq_IS8wXz"
      },
      "source": [
        ""
      ],
      "execution_count": null,
      "outputs": []
    },
    {
      "cell_type": "code",
      "metadata": {
        "editable": false,
        "run_control": {
          "frozen": false,
          "read_only": false
        },
        "colab": {
          "base_uri": "https://localhost:8080/"
        },
        "id": "e5rxQuuy8wXz",
        "outputId": "85fd092e-397a-4fd8-8d85-e92997865f82"
      },
      "source": [
        "lstar(Sig01,3)"
      ],
      "execution_count": null,
      "outputs": [
        {
          "output_type": "execute_result",
          "data": {
            "text/plain": [
              "{'',\n",
              " '0',\n",
              " '00',\n",
              " '000',\n",
              " '001',\n",
              " '01',\n",
              " '010',\n",
              " '011',\n",
              " '1',\n",
              " '10',\n",
              " '100',\n",
              " '101',\n",
              " '11',\n",
              " '110',\n",
              " '111'}"
            ]
          },
          "metadata": {
            "tags": []
          },
          "execution_count": 49
        }
      ]
    },
    {
      "cell_type": "markdown",
      "metadata": {
        "editable": false,
        "run_control": {
          "frozen": false,
          "read_only": false
        },
        "id": "Ik1wF8i_8wXz"
      },
      "source": [
        "<span style=\"color:blue\"> **Let's do a few exercises involving lstar. Use the pull-down provided by ipywidgets to select your language. Then use the slider to change the lstar truncation limit. If you had an infinite slider and slid it all the way to the right, you would be witnessing the \"true star\" :-) ** </span>"
      ]
    },
    {
      "cell_type": "code",
      "metadata": {
        "run_control": {
          "frozen": false,
          "read_only": false
        },
        "colab": {
          "base_uri": "https://localhost:8080/",
          "height": 792,
          "referenced_widgets": [
            "1d03f187a14d463aa458b5100c085be4",
            "989b2619663e470b972b98ce78198c79",
            "94c81de8b8f0465480ddb152ae43769c",
            "94c27ab59b624eb6a58642899ee03559",
            "41f11efe09d048d4a099a051afea87da",
            "2d1b7b57fee64e36adb952c3a914de21",
            "ba5c05ae5d3c44b0a977db5cc3d39031",
            "5d179af613dd493f9ab8371353e8da8c",
            "e36d7299be6c49fdab9661f8836a8de5",
            "0395e63b295b4043afe319e03fb60dc2"
          ]
        },
        "id": "TMk6H-jh8wX0",
        "outputId": "1ee835e6-a733-4bf1-aff2-aaa2e7836742"
      },
      "source": [
        "import ipywidgets as wdg\n",
        "L1 = {'a','bc'}\n",
        "L2 = {'ab','bc'}\n",
        "L3 = {'a','b','c'}\n",
        "M =  {'011', '111', '11', '0111', '00111', '1'}\n",
        "\n",
        "wdg.interact(lstar,\n",
        "L={'L3': L3, 'L1': L1, 'L2':L2, 'M': M, 'lphi': lphi(), 'lunit' : lunit()}, n=(0,7))"
      ],
      "execution_count": null,
      "outputs": [
        {
          "output_type": "display_data",
          "data": {
            "application/vnd.jupyter.widget-view+json": {
              "model_id": "1d03f187a14d463aa458b5100c085be4",
              "version_minor": 0,
              "version_major": 2
            },
            "text/plain": [
              "interactive(children=(Dropdown(description='L', options={'L3': {'a', 'c', 'b'}, 'L1': {'a', 'bc'}, 'L2': {'ab'…"
            ]
          },
          "metadata": {
            "tags": []
          }
        },
        {
          "output_type": "execute_result",
          "data": {
            "text/plain": [
              "<function __main__.lstar>"
            ]
          },
          "metadata": {
            "tags": []
          },
          "execution_count": 50
        }
      ]
    },
    {
      "cell_type": "code",
      "metadata": {
        "editable": false,
        "run_control": {
          "frozen": false,
          "read_only": false
        },
        "colab": {
          "base_uri": "https://localhost:8080/",
          "height": 359,
          "referenced_widgets": [
            "dfc66beee1c74fdca37352f285c40658",
            "33daf1d394c54808a8bac352a5bcdc3c",
            "d2762765dcb44f58b3e486b43abf02dc",
            "3662942e723c486d9908d45a846d4565",
            "53c9cc9915b84e4c973356c9026d39b2",
            "53d1d8b7dc21456daef42f62b601400a",
            "088c9dff05f8412dadcd335a73b27076",
            "32efa78cb9c448bc93236bb326ebbffa",
            "d46ba1f8da084d8689669c127d57b6fc",
            "ba5ca6cbfb18476b802fa0dc276e0a1e"
          ]
        },
        "id": "mVd-KONp8wX1",
        "outputId": "90d8a519-80bb-4372-82eb-b82f4197bc54"
      },
      "source": [
        "import ipywidgets as wdg\n",
        "L1 = {'a','bc'}\n",
        "L2 = {'ab','bc'}\n",
        "M =  {'011', '111', '11', '0111', '00111', '1'}\n",
        "\n",
        "wdg.interact(lstar,\n",
        "L={'L1': L1, 'L2':L2, 'M': M, 'lphi': lphi(), 'lunit' : lunit()}, n=(0,7))"
      ],
      "execution_count": null,
      "outputs": [
        {
          "output_type": "display_data",
          "data": {
            "application/vnd.jupyter.widget-view+json": {
              "model_id": "dfc66beee1c74fdca37352f285c40658",
              "version_minor": 0,
              "version_major": 2
            },
            "text/plain": [
              "interactive(children=(Dropdown(description='L', options={'L1': {'a', 'bc'}, 'L2': {'ab', 'bc'}, 'M': {'1', '01…"
            ]
          },
          "metadata": {
            "tags": []
          }
        },
        {
          "output_type": "execute_result",
          "data": {
            "text/plain": [
              "<function __main__.lstar>"
            ]
          },
          "metadata": {
            "tags": []
          },
          "execution_count": 51
        }
      ]
    },
    {
      "cell_type": "markdown",
      "metadata": {
        "id": "tXDCyAEQ8wX4"
      },
      "source": [
        "## Important use-case: Star of an alphabet\n",
        "\n",
        "We generate the universe of strings possible over an alphabet by starring the alphabet (viewed as a language of strings of length 1). The illustration below shows that."
      ]
    },
    {
      "cell_type": "code",
      "metadata": {
        "colab": {
          "base_uri": "https://localhost:8080/",
          "height": 359,
          "referenced_widgets": [
            "d0c8008439a04ca6bec8e83f62671a70",
            "e5b98f9fe9b846eca8af0a00bcd6caac",
            "6d115dd853ce4cd28b178a3ceab10def",
            "d3ac192c061d4475b6327e9f06d84ac8",
            "a70af0b7441d4e63a702f6cc28894572",
            "b9ade78b38924024baa6896affe93a5c",
            "fc00216be805423ca0b6add0a9d6023c",
            "5d45e857184a4c50afb1fceed99eaefe",
            "de8f87ee136c4cd89c8d72ba5f354973",
            "2b378f80db8c46f3be7565a81c79e9a4"
          ]
        },
        "id": "-xFPmWSP8wX4",
        "outputId": "d0bbb979-4f1a-4fdb-b406-adbb16702be9"
      },
      "source": [
        "Alph1 = {'a','b'}\n",
        "Alph2 = {'0','1'}\n",
        "wdg.interact(lstar, L={'Alph1': Alph1, 'Alph2':Alph2}, n=(0,7))"
      ],
      "execution_count": null,
      "outputs": [
        {
          "output_type": "display_data",
          "data": {
            "application/vnd.jupyter.widget-view+json": {
              "model_id": "d0c8008439a04ca6bec8e83f62671a70",
              "version_minor": 0,
              "version_major": 2
            },
            "text/plain": [
              "interactive(children=(Dropdown(description='L', options={'Alph1': {'a', 'b'}, 'Alph2': {'0', '1'}}, value={'a'…"
            ]
          },
          "metadata": {
            "tags": []
          }
        },
        {
          "output_type": "execute_result",
          "data": {
            "text/plain": [
              "<function __main__.lstar>"
            ]
          },
          "metadata": {
            "tags": []
          },
          "execution_count": 52
        }
      ]
    },
    {
      "cell_type": "code",
      "metadata": {
        "editable": false,
        "run_control": {
          "frozen": false,
          "read_only": false
        },
        "colab": {
          "base_uri": "https://localhost:8080/"
        },
        "id": "R_3E79vl8wX4",
        "outputId": "8fea833a-f8e2-4cb4-e345-7fdc3c664adb"
      },
      "source": [
        "print(lstar(lunit(),10))\n",
        "print(lstar(lstar(lunit(), 10), 10))"
      ],
      "execution_count": null,
      "outputs": [
        {
          "output_type": "stream",
          "text": [
            "{''}\n",
            "{''}\n"
          ],
          "name": "stdout"
        }
      ]
    },
    {
      "cell_type": "markdown",
      "metadata": {
        "editable": false,
        "run_control": {
          "frozen": false,
          "read_only": false
        },
        "id": "7j0SSYtk8wX4"
      },
      "source": [
        "\n",
        "Now, we present a set of operations on strings and languages that are self-explanatory, so we'll just summarize them:\n",
        "\n",
        "* srev - reverse a string\n",
        "* lrev - reverse a language. It maps srev over a language (set of strings).\n",
        "* shomo - apply a language homomorphism using a lambda passed in.  You can \"rot13\" code email using this :-)\n",
        "* lhomo - apply a homomorphism to a language.\n",
        "\n",
        "Since tests are embedded in the doc-strings of these functions, we will not show tests separately, but feel free to add tests.\n"
      ]
    },
    {
      "cell_type": "code",
      "metadata": {
        "editable": false,
        "run_control": {
          "frozen": false,
          "read_only": false
        },
        "id": "eBG01GXO8wX4"
      },
      "source": [
        "# In Python, there isn't direct support for reversing a string.\n",
        "# The backward selection method implemented by S[::-1] is what \n",
        "# many recommend. This leaves the start and stride empty, and\n",
        "# specifies the direction to be going backwards. \n",
        "# Another method is \"\".join(reversed(s)) to reverse s\n",
        "\n",
        "def srev(S):\n",
        "    \"\"\"In : S (string)\n",
        "       Out: reverse of S (string)\n",
        "       Example:\n",
        "       srev('ab') -> 'ba'\n",
        "    \"\"\"\n",
        "    return S[::-1] \n",
        "\n",
        "def lrev(L):\n",
        "    \"\"\"In : L (language : a set)\n",
        "       Out: reverse of L (language : a set)\n",
        "       Example: \n",
        "       lrev({'ab', 'bc'}) -> {'cb', 'ba'}\n",
        "    \"\"\"\n",
        "    return set(map(lambda x: srev(x), L))\n",
        "\n",
        "def shomo(S,f):\n",
        "    \"\"\"In : S (string)\n",
        "            f (function from char to char)\n",
        "       Out: String homomorphism of S wrt f.\n",
        "       Example: \n",
        "       S = \"abcd\"\n",
        "       f = lambda x: chr( (ord(x)+1) % 256 )\n",
        "       shomo(\"abcd\",f) -> 'bcde'  \n",
        "    \"\"\"\n",
        "    return \"\".join(map(f,S))\n",
        "\n",
        "def lhomo(L,f):\n",
        "    \"\"\"In : L (language : set of strings)\n",
        "            f (function from char to char)\n",
        "       Out: Lang. homomorphism of L wrt f (language : set of str)\n",
        "       Example:\n",
        "       L = {\"Hello there\", \"a\", \"A\"}\n",
        "       f = rot13 = lambda x: chr( (ord(x)+13) % 256 )\n",
        "       lhomo(L, rot13) -> {'N', 'Uryy|-\\x81ur\\x7fr', 'n'}\n",
        "    \"\"\"\n",
        "    return set(map(lambda S: shomo(S,f), L))"
      ],
      "execution_count": null,
      "outputs": []
    },
    {
      "cell_type": "markdown",
      "metadata": {
        "editable": false,
        "run_control": {
          "frozen": false,
          "read_only": false
        },
        "id": "TyVqWTSu8wX5"
      },
      "source": [
        "<span style=\"color:blue\"> **Let's do a few exercises involving srev, lrev, shomo and lhomo. ** </span>"
      ]
    },
    {
      "cell_type": "code",
      "metadata": {
        "editable": false,
        "run_control": {
          "frozen": false,
          "read_only": false
        },
        "colab": {
          "base_uri": "https://localhost:8080/"
        },
        "id": "sjRhfvB-8wX5",
        "outputId": "d6ee5392-5464-4f16-f193-e0f980d248ba"
      },
      "source": [
        "L={'ab', '007'}\n",
        "\n",
        "# modulo-rotate all chars by one.\n",
        "rot1 = lambda x: chr( (ord(x)+1) % 256 ) \n",
        "\n",
        "# Don't be baffled if the sets print in a different order!               \n",
        "# Sets don't have a required positional presentation order\n",
        "# Watch for the CONTENTS of the set reversing !!\n",
        "print('lrev(L) = ', lrev(L)) \n",
        "\n",
        "print('lhomo(L, rot1) = ', lhomo(L, rot1))\n",
        "\n",
        "print('lrev(lhomo(L), rot1) = ', lrev(lhomo(L, rot1)))\n"
      ],
      "execution_count": null,
      "outputs": [
        {
          "output_type": "stream",
          "text": [
            "lrev(L) =  {'ba', '700'}\n",
            "lhomo(L, rot1) =  {'118', 'bc'}\n",
            "lrev(lhomo(L), rot1) =  {'811', 'cb'}\n"
          ],
          "name": "stdout"
        }
      ]
    },
    {
      "cell_type": "markdown",
      "metadata": {
        "editable": false,
        "run_control": {
          "frozen": false,
          "read_only": false
        },
        "id": "WwHUJb7p8wX5"
      },
      "source": [
        "<span style=\"color:blue\"> **We now introduce powersets which you may have forgotten. We will need this when discussing non-deterministic finite automata.** </span>"
      ]
    },
    {
      "cell_type": "markdown",
      "metadata": {
        "editable": false,
        "run_control": {
          "frozen": false,
          "read_only": false
        },
        "id": "qzJVrbZk8wX6"
      },
      "source": [
        "\n",
        "\n",
        "We now define the powerset of a set S. We work with lists, as sets cannot contain other sets (not hashable, etc). But barring all that, here is the recursive definition being used.\n",
        "\n",
        "> Let $PowSminusX$ = $powset(S \\setminus x)$\n",
        "\n",
        "> Then, given $x \\in S$, we have $powset(S)$ = $PowSminusX  \\cup$  { $y\\cup x$  $\\mid$ $y\\in PowSminusX$ } \n",
        "\n",
        "That is,\n",
        "\n",
        "* Take out some $x\\in S$\n",
        "\n",
        "* Recursively compute $PowSminusX$\n",
        "\n",
        "* Now, $powset(S)$ has all the sets in $PowSminusX$ plus all the sets in $PowSminusX$ with $x$ added back, as well.\n",
        "\n",
        "Here is that code now.\n"
      ]
    },
    {
      "cell_type": "code",
      "metadata": {
        "editable": false,
        "run_control": {
          "frozen": false,
          "read_only": false
        },
        "id": "Uut0L_io8wX6"
      },
      "source": [
        "def powset(S):\n",
        "    \"\"\"In : S (set)\n",
        "       Out: List of lists representing powerset.\n",
        "            Since sets/lists are unhashable, we convert the set \n",
        "            to a list,perform the powerset operations, leaving \n",
        "            the result as a list (can't convert back to a set).\n",
        "       Example:\n",
        "       S = {'ab', 'bc'}\n",
        "       powset(S) -> [['ab', 'bc'], ['bc'], ['ab'], []]\n",
        "    \"\"\"\n",
        "    L=list(S)\n",
        "    if L==[]:\n",
        "        return([[]])\n",
        "    else:\n",
        "        pow_rest0 = powset(L[1:])\n",
        "        pow_rest1 = list(map(lambda Ls: [L[0]] + Ls, pow_rest0))\n",
        "        return(pow_rest0 + pow_rest1)"
      ],
      "execution_count": null,
      "outputs": []
    },
    {
      "cell_type": "code",
      "metadata": {
        "run_control": {
          "frozen": false,
          "read_only": false
        },
        "colab": {
          "base_uri": "https://localhost:8080/"
        },
        "id": "sXaF1d3V8wX6",
        "outputId": "7a3d5fdf-25f8-459f-b4f2-5e2dd99e68a2"
      },
      "source": [
        "powset({'a','b','c'})"
      ],
      "execution_count": null,
      "outputs": [
        {
          "output_type": "execute_result",
          "data": {
            "text/plain": [
              "[[], ['b'], ['c'], ['c', 'b'], ['a'], ['a', 'b'], ['a', 'c'], ['a', 'c', 'b']]"
            ]
          },
          "metadata": {
            "tags": []
          },
          "execution_count": 57
        }
      ]
    },
    {
      "cell_type": "markdown",
      "metadata": {
        "editable": false,
        "run_control": {
          "frozen": false,
          "read_only": false
        },
        "id": "Jb-zZpdA8wX6"
      },
      "source": [
        "<span style=\"color:blue\"> **There are familiar operations on languages such as union and intersection. \n",
        "PAY SPECIAL ATTENTION to lcomplem, the function computing language complements.\n",
        "The definition of language complement is with respect to the universe  $\\Sigma^*$. \n",
        "Since we can compute only finite approximations of star, the function lcomplem is also like star in that we take a truncation parameter. You can follow how lcomplem works through experiments; once you get that, you must imagine how it works in math.\n",
        "Also pay attenti\n",
        "on to cartesian product. It works like normal cartesian products do (you may see a superficial similarity with concatenation where we draw pairs of strings but concatenate the strings). ** </span>"
      ]
    },
    {
      "cell_type": "markdown",
      "metadata": {
        "editable": false,
        "run_control": {
          "frozen": false,
          "read_only": false
        },
        "id": "TkdEMte88wX6"
      },
      "source": [
        "\n",
        "Finally, we have a whole list of familiar language-theoretic operations:\n",
        "\n",
        "* lunion - language union\n",
        "\n",
        "* lint - language intersection\n",
        "\n",
        "* lsymdiff - language symmetric difference\n",
        "\n",
        "* lminus - language subtraction\n",
        "\n",
        "* lissubset - language subset test\n",
        "\n",
        "* lissuperset - language superset test\n",
        "\n",
        "* lcomplem - language complement with respect to \"star upto m\" of the alphabet (not the full alphabet star, mind you)\n",
        "\n",
        "* product - cartesian product\n",
        "\n",
        "We do not provide too many tests for these rather familiar functions. But please make sure you understand language complements well!\n"
      ]
    },
    {
      "cell_type": "code",
      "metadata": {
        "editable": false,
        "run_control": {
          "frozen": false,
          "read_only": false
        },
        "id": "E4ox-mzW8wX7"
      },
      "source": [
        "# Define lunion (as before)\n",
        "def lunion(L1,L2):\n",
        "    \"\"\"In : L1 (language : set of strings)\n",
        "            L2 (language : set of strings)\n",
        "       Out: L1 union L2 (sets of strings)\n",
        "    \"\"\"\n",
        "    return L1 | L2\n",
        "\n",
        "def lint(L1,L2):\n",
        "    \"\"\"In : L1 (language : set of strings)\n",
        "            L2 (language : set of strings)\n",
        "       Out: L1 intersection L2 (sets of strings)\n",
        "    \"\"\"\n",
        "    return L1 & L2\n",
        "\n",
        "def lsymdiff(L1,L2):\n",
        "    \"\"\"In : L1 (language : set of strings)\n",
        "            L2 (language : set of strings)\n",
        "       Out: (L1 \\ L2) union (L2 \\ L1) (sets of strings)\n",
        "       Example:\n",
        "       lsymdiff({'ab', 'bc'}, {'11', 'ab', '22'}) -> {'11', '22', 'bc'}\n",
        "    \"\"\"\n",
        "    return L1 ^ L2\n",
        "\n",
        "def lminus(L1,L2):\n",
        "    \"\"\"Language subtraction of two languages (sets of strings)\n",
        "       Can do it as L1.difference(L2) also. \n",
        "    \"\"\"\n",
        "    return L1 - L2\n",
        "\n",
        "def lissubset(L1,L2):\n",
        "    \"\"\"In : L1 (language : set of strings)\n",
        "            L2 (language : set of strings)\n",
        "       Out: L1 is subset or equal to L2 (True/False)\n",
        "    \"\"\"\n",
        "    return L1 <= L2\n",
        "\n",
        "def lissuperset(L1,L2):\n",
        "    \"\"\"In : L1 (language : set of strings)\n",
        "            L2 (language : set of strings)\n",
        "       Out: L1 is superset or equal to L2 (True/False)\n",
        "    \"\"\"\n",
        "    return L1 >= L2\n",
        "    \n",
        "def lcomplem(L,sigma,n):\n",
        "    \"\"\"In : L (language : set of strings)\n",
        "            sigma (alphabet : set of strings)\n",
        "            n (finite limit for lstar : int)\n",
        "       Out : sigma*_n - L (language : set of strings)\n",
        "       Example:\n",
        "       L = {'0', '10', '010'}\n",
        "       sigma = {'0', '1'}\n",
        "       n = 3\n",
        "       lcomplem(L4,{'0','1'}, 3) -> \n",
        "       {'', '000', '101', '011', '00', '1', \n",
        "        '001', '110', '111', '100', '01', '11'}\n",
        "    \"\"\"\n",
        "    return lstar(sigma,n) - L  \n",
        "\n",
        "def product(S1,S2):\n",
        "    \"\"\"In : S1 (set)\n",
        "            S2 (set)\n",
        "       Out: Cartesian product of S1 and S2 (set of pairs)\n",
        "    \"\"\"\n",
        "    return { (x,y) for x in S1 for y in S2 }\n",
        "\n",
        "#--end"
      ],
      "execution_count": null,
      "outputs": []
    },
    {
      "cell_type": "code",
      "metadata": {
        "editable": false,
        "run_control": {
          "frozen": false,
          "read_only": false
        },
        "id": "KhK93Ego8wX7"
      },
      "source": [
        "L1 = {'0101'}"
      ],
      "execution_count": null,
      "outputs": []
    },
    {
      "cell_type": "code",
      "metadata": {
        "editable": false,
        "run_control": {
          "frozen": false,
          "read_only": false
        },
        "id": "OosgANzv8wX7"
      },
      "source": [
        "L2 = lstar({'0','1'}, 2)"
      ],
      "execution_count": null,
      "outputs": []
    },
    {
      "cell_type": "code",
      "metadata": {
        "editable": false,
        "run_control": {
          "frozen": false,
          "read_only": false
        },
        "id": "myxlFHl_8wX7"
      },
      "source": [
        "# Python variable L2L1 denotes concat of L2 and L1\n",
        "L2L1 = lcat(L2,L1)  "
      ],
      "execution_count": null,
      "outputs": []
    },
    {
      "cell_type": "code",
      "metadata": {
        "editable": false,
        "run_control": {
          "frozen": false,
          "read_only": false
        },
        "colab": {
          "base_uri": "https://localhost:8080/"
        },
        "id": "KAlUXrHZ8wX8",
        "outputId": "c6e6cf28-9ce0-449b-9e64-a87f373c8cad"
      },
      "source": [
        "L2L1"
      ],
      "execution_count": null,
      "outputs": [
        {
          "output_type": "execute_result",
          "data": {
            "text/plain": [
              "{'000101', '00101', '0101', '010101', '100101', '10101', '110101'}"
            ]
          },
          "metadata": {
            "tags": []
          },
          "execution_count": 62
        }
      ]
    },
    {
      "cell_type": "code",
      "metadata": {
        "editable": false,
        "run_control": {
          "frozen": false,
          "read_only": false
        },
        "id": "GO-8dDsv8wX8"
      },
      "source": [
        "L3 = lcat(L1, lunion(lunit(), L2L1))  "
      ],
      "execution_count": null,
      "outputs": []
    },
    {
      "cell_type": "code",
      "metadata": {
        "editable": false,
        "run_control": {
          "frozen": false,
          "read_only": false
        },
        "colab": {
          "base_uri": "https://localhost:8080/"
        },
        "id": "nHJbkgix8wX8",
        "outputId": "edf59c22-be82-4106-8aa2-4eb6f284b820"
      },
      "source": [
        "L3"
      ],
      "execution_count": null,
      "outputs": [
        {
          "output_type": "execute_result",
          "data": {
            "text/plain": [
              "{'0101',\n",
              " '0101000101',\n",
              " '010100101',\n",
              " '01010101',\n",
              " '0101010101',\n",
              " '0101100101',\n",
              " '010110101',\n",
              " '0101110101'}"
            ]
          },
          "metadata": {
            "tags": []
          },
          "execution_count": 64
        }
      ]
    },
    {
      "cell_type": "code",
      "metadata": {
        "editable": false,
        "run_control": {
          "frozen": false,
          "read_only": false
        },
        "colab": {
          "base_uri": "https://localhost:8080/"
        },
        "id": "lXy8RU4r8wX8",
        "outputId": "e369eb00-c81d-4bc2-e3dd-7ae150280984"
      },
      "source": [
        "# Note that I've provided a truncation limit of 10 for lstar\n",
        "# involved in language complement.\n",
        "\n",
        "L4 = {'0', '10', '010'}\n",
        "\n",
        "print('L4 = ', L4)\n",
        "\n",
        "print(\"----\")\n",
        "print(\"lcomplem(L4,{'0','1'}, 1) = \",  lcomplem(L4,{'0','1'}, 1) )  \n",
        "\n",
        "print(\"----\")\n",
        "print(\"lcomplem(L4,{'0','1'}, 2) = \",  lcomplem(L4,{'0','1'}, 2) ) \n",
        "\n",
        "print(\"----\")\n",
        "print(\"lcomplem(L4,{'0','1'}, 3) = \",  lcomplem(L4,{'0','1'}, 3) ) \n",
        "\n",
        "print(\"----\")\n",
        "print(\"lcomplem(L4,{'0','1'}, 4) = \",  lcomplem(L4,{'0','1'}, 4) ) \n",
        "\n",
        "print(\"----\")\n",
        "print(\"In the limit, we get everything in {0,1}* \")\n",
        "print(\".. except for '0', '10', and '010'. \")"
      ],
      "execution_count": null,
      "outputs": [
        {
          "output_type": "stream",
          "text": [
            "L4 =  {'010', '0', '10'}\n",
            "----\n",
            "lcomplem(L4,{'0','1'}, 1) =  {'', '1'}\n",
            "----\n",
            "lcomplem(L4,{'0','1'}, 2) =  {'', '1', '00', '11', '01'}\n",
            "----\n",
            "lcomplem(L4,{'0','1'}, 3) =  {'', '110', '001', '101', '00', '1', '011', '000', '11', '111', '01', '100'}\n",
            "----\n",
            "lcomplem(L4,{'0','1'}, 4) =  {'', '1100', '110', '001', '1', '0101', '000', '0100', '01', '100', '0001', '1110', '0111', '101', '00', '1111', '0110', '0011', '1011', '011', '1010', '11', '111', '1001', '0000', '1101', '1000', '0010'}\n",
            "----\n",
            "In the limit, we get everything in {0,1}* \n",
            ".. except for '0', '10', and '010'. \n"
          ],
          "name": "stdout"
        }
      ]
    },
    {
      "cell_type": "markdown",
      "metadata": {
        "collapsed": true,
        "editable": false,
        "run_control": {
          "frozen": false,
          "read_only": false
        },
        "id": "RzcsldX08wX8"
      },
      "source": [
        "<span style=\"color:blue\"> **This finishes Chapter-2 of the book ** </span>"
      ]
    },
    {
      "cell_type": "code",
      "metadata": {
        "run_control": {
          "frozen": false,
          "read_only": false
        },
        "colab": {
          "base_uri": "https://localhost:8080/"
        },
        "id": "Vb6N5nj88wX8",
        "outputId": "4203e761-e514-4950-86b9-2319a6d91a3a"
      },
      "source": [
        "help(lsymdiff)"
      ],
      "execution_count": null,
      "outputs": [
        {
          "output_type": "stream",
          "text": [
            "Help on function lsymdiff in module __main__:\n",
            "\n",
            "lsymdiff(L1, L2)\n",
            "    In : L1 (language : set of strings)\n",
            "         L2 (language : set of strings)\n",
            "    Out: (L1 \\ L2) union (L2 \\ L1) (sets of strings)\n",
            "    Example:\n",
            "    lsymdiff({'ab', 'bc'}, {'11', 'ab', '22'}) -> {'11', '22', 'bc'}\n",
            "\n"
          ],
          "name": "stdout"
        }
      ]
    },
    {
      "cell_type": "code",
      "metadata": {
        "run_control": {
          "frozen": false,
          "read_only": false
        },
        "id": "0wViayaZ8wX9"
      },
      "source": [
        "As = { \"a\"*i for i in range(8)}"
      ],
      "execution_count": null,
      "outputs": []
    },
    {
      "cell_type": "code",
      "metadata": {
        "run_control": {
          "frozen": false,
          "read_only": false
        },
        "colab": {
          "base_uri": "https://localhost:8080/"
        },
        "id": "40Y-k_6W8wX9",
        "outputId": "c0a2ad4d-d9dd-4b28-ddef-578fc4714373"
      },
      "source": [
        "As"
      ],
      "execution_count": null,
      "outputs": [
        {
          "output_type": "execute_result",
          "data": {
            "text/plain": [
              "{'', 'a', 'aa', 'aaa', 'aaaa', 'aaaaa', 'aaaaaa', 'aaaaaaa'}"
            ]
          },
          "metadata": {
            "tags": []
          },
          "execution_count": 68
        }
      ]
    },
    {
      "cell_type": "code",
      "metadata": {
        "run_control": {
          "frozen": false,
          "read_only": false
        },
        "id": "VNxWrcS08wX9"
      },
      "source": [
        "Bs = { \"b\"*i for i in range(8)}"
      ],
      "execution_count": null,
      "outputs": []
    },
    {
      "cell_type": "code",
      "metadata": {
        "run_control": {
          "frozen": false,
          "read_only": false
        },
        "colab": {
          "base_uri": "https://localhost:8080/"
        },
        "id": "5iMuVWrI8wX9",
        "outputId": "f9b7ebcf-2f81-4adb-be7d-614bb8c671cf"
      },
      "source": [
        "Bs"
      ],
      "execution_count": null,
      "outputs": [
        {
          "output_type": "execute_result",
          "data": {
            "text/plain": [
              "{'', 'b', 'bb', 'bbb', 'bbbb', 'bbbbb', 'bbbbbb', 'bbbbbbb'}"
            ]
          },
          "metadata": {
            "tags": []
          },
          "execution_count": 70
        }
      ]
    },
    {
      "cell_type": "code",
      "metadata": {
        "run_control": {
          "frozen": false,
          "read_only": false
        },
        "id": "50Vfuiag8wX9"
      },
      "source": [
        "Cs = { \"c\"*i for i in range(8)}"
      ],
      "execution_count": null,
      "outputs": []
    },
    {
      "cell_type": "code",
      "metadata": {
        "run_control": {
          "frozen": false,
          "read_only": false
        },
        "colab": {
          "base_uri": "https://localhost:8080/"
        },
        "id": "yKSxTDDj8wX-",
        "outputId": "acf119c5-3308-41da-d3cc-7e9507c1403d"
      },
      "source": [
        "Cs"
      ],
      "execution_count": null,
      "outputs": [
        {
          "output_type": "execute_result",
          "data": {
            "text/plain": [
              "{'', 'c', 'cc', 'ccc', 'cccc', 'ccccc', 'cccccc', 'ccccccc'}"
            ]
          },
          "metadata": {
            "tags": []
          },
          "execution_count": 72
        }
      ]
    },
    {
      "cell_type": "code",
      "metadata": {
        "run_control": {
          "frozen": false,
          "read_only": false
        },
        "id": "tS8U9-318wX-"
      },
      "source": [
        "ABs = { \"a\"*i + \"b\" * i for i in range (8)}"
      ],
      "execution_count": null,
      "outputs": []
    },
    {
      "cell_type": "code",
      "metadata": {
        "run_control": {
          "frozen": false,
          "read_only": false
        },
        "colab": {
          "base_uri": "https://localhost:8080/"
        },
        "id": "sW2Bt7qj8wX-",
        "outputId": "eced31f3-7c75-4a76-da2f-3e8083b3482a"
      },
      "source": [
        "ABs"
      ],
      "execution_count": null,
      "outputs": [
        {
          "output_type": "execute_result",
          "data": {
            "text/plain": [
              "{'',\n",
              " 'aaaaaaabbbbbbb',\n",
              " 'aaaaaabbbbbb',\n",
              " 'aaaaabbbbb',\n",
              " 'aaaabbbb',\n",
              " 'aaabbb',\n",
              " 'aabb',\n",
              " 'ab'}"
            ]
          },
          "metadata": {
            "tags": []
          },
          "execution_count": 74
        }
      ]
    },
    {
      "cell_type": "code",
      "metadata": {
        "run_control": {
          "frozen": false,
          "read_only": false
        },
        "id": "5VuYmTcX8wX-"
      },
      "source": [
        "BCs = { \"b\"*i + \"c\" * i for i in range (8)}"
      ],
      "execution_count": null,
      "outputs": []
    },
    {
      "cell_type": "code",
      "metadata": {
        "run_control": {
          "frozen": false,
          "read_only": false
        },
        "colab": {
          "base_uri": "https://localhost:8080/"
        },
        "id": "dJzBxY6w8wX-",
        "outputId": "c3ceecf8-b312-4f11-9b24-5f012c310bba"
      },
      "source": [
        "BCs"
      ],
      "execution_count": null,
      "outputs": [
        {
          "output_type": "execute_result",
          "data": {
            "text/plain": [
              "{'',\n",
              " 'bbbbbbbccccccc',\n",
              " 'bbbbbbcccccc',\n",
              " 'bbbbbccccc',\n",
              " 'bbbbcccc',\n",
              " 'bbbccc',\n",
              " 'bbcc',\n",
              " 'bc'}"
            ]
          },
          "metadata": {
            "tags": []
          },
          "execution_count": 76
        }
      ]
    },
    {
      "cell_type": "code",
      "metadata": {
        "run_control": {
          "frozen": false,
          "read_only": false
        },
        "colab": {
          "base_uri": "https://localhost:8080/"
        },
        "id": "H7JPjB8m8wX-",
        "outputId": "15dfacb6-f172-43b8-e959-ac4cf4673c00"
      },
      "source": [
        "lcat(ABs, Cs)"
      ],
      "execution_count": null,
      "outputs": [
        {
          "output_type": "execute_result",
          "data": {
            "text/plain": [
              "{'',\n",
              " 'aaaaaaabbbbbbb',\n",
              " 'aaaaaaabbbbbbbc',\n",
              " 'aaaaaaabbbbbbbcc',\n",
              " 'aaaaaaabbbbbbbccc',\n",
              " 'aaaaaaabbbbbbbcccc',\n",
              " 'aaaaaaabbbbbbbccccc',\n",
              " 'aaaaaaabbbbbbbcccccc',\n",
              " 'aaaaaaabbbbbbbccccccc',\n",
              " 'aaaaaabbbbbb',\n",
              " 'aaaaaabbbbbbc',\n",
              " 'aaaaaabbbbbbcc',\n",
              " 'aaaaaabbbbbbccc',\n",
              " 'aaaaaabbbbbbcccc',\n",
              " 'aaaaaabbbbbbccccc',\n",
              " 'aaaaaabbbbbbcccccc',\n",
              " 'aaaaaabbbbbbccccccc',\n",
              " 'aaaaabbbbb',\n",
              " 'aaaaabbbbbc',\n",
              " 'aaaaabbbbbcc',\n",
              " 'aaaaabbbbbccc',\n",
              " 'aaaaabbbbbcccc',\n",
              " 'aaaaabbbbbccccc',\n",
              " 'aaaaabbbbbcccccc',\n",
              " 'aaaaabbbbbccccccc',\n",
              " 'aaaabbbb',\n",
              " 'aaaabbbbc',\n",
              " 'aaaabbbbcc',\n",
              " 'aaaabbbbccc',\n",
              " 'aaaabbbbcccc',\n",
              " 'aaaabbbbccccc',\n",
              " 'aaaabbbbcccccc',\n",
              " 'aaaabbbbccccccc',\n",
              " 'aaabbb',\n",
              " 'aaabbbc',\n",
              " 'aaabbbcc',\n",
              " 'aaabbbccc',\n",
              " 'aaabbbcccc',\n",
              " 'aaabbbccccc',\n",
              " 'aaabbbcccccc',\n",
              " 'aaabbbccccccc',\n",
              " 'aabb',\n",
              " 'aabbc',\n",
              " 'aabbcc',\n",
              " 'aabbccc',\n",
              " 'aabbcccc',\n",
              " 'aabbccccc',\n",
              " 'aabbcccccc',\n",
              " 'aabbccccccc',\n",
              " 'ab',\n",
              " 'abc',\n",
              " 'abcc',\n",
              " 'abccc',\n",
              " 'abcccc',\n",
              " 'abccccc',\n",
              " 'abcccccc',\n",
              " 'abccccccc',\n",
              " 'c',\n",
              " 'cc',\n",
              " 'ccc',\n",
              " 'cccc',\n",
              " 'ccccc',\n",
              " 'cccccc',\n",
              " 'ccccccc'}"
            ]
          },
          "metadata": {
            "tags": []
          },
          "execution_count": 77
        }
      ]
    },
    {
      "cell_type": "code",
      "metadata": {
        "run_control": {
          "frozen": false,
          "read_only": false
        },
        "colab": {
          "base_uri": "https://localhost:8080/"
        },
        "id": "x47QuyuY8wX_",
        "outputId": "abc54365-830f-4074-8cbe-1c35e45cac48"
      },
      "source": [
        "lcat(As, Bs)"
      ],
      "execution_count": null,
      "outputs": [
        {
          "output_type": "execute_result",
          "data": {
            "text/plain": [
              "{'',\n",
              " 'a',\n",
              " 'aa',\n",
              " 'aaa',\n",
              " 'aaaa',\n",
              " 'aaaaa',\n",
              " 'aaaaaa',\n",
              " 'aaaaaaa',\n",
              " 'aaaaaaab',\n",
              " 'aaaaaaabb',\n",
              " 'aaaaaaabbb',\n",
              " 'aaaaaaabbbb',\n",
              " 'aaaaaaabbbbb',\n",
              " 'aaaaaaabbbbbb',\n",
              " 'aaaaaaabbbbbbb',\n",
              " 'aaaaaab',\n",
              " 'aaaaaabb',\n",
              " 'aaaaaabbb',\n",
              " 'aaaaaabbbb',\n",
              " 'aaaaaabbbbb',\n",
              " 'aaaaaabbbbbb',\n",
              " 'aaaaaabbbbbbb',\n",
              " 'aaaaab',\n",
              " 'aaaaabb',\n",
              " 'aaaaabbb',\n",
              " 'aaaaabbbb',\n",
              " 'aaaaabbbbb',\n",
              " 'aaaaabbbbbb',\n",
              " 'aaaaabbbbbbb',\n",
              " 'aaaab',\n",
              " 'aaaabb',\n",
              " 'aaaabbb',\n",
              " 'aaaabbbb',\n",
              " 'aaaabbbbb',\n",
              " 'aaaabbbbbb',\n",
              " 'aaaabbbbbbb',\n",
              " 'aaab',\n",
              " 'aaabb',\n",
              " 'aaabbb',\n",
              " 'aaabbbb',\n",
              " 'aaabbbbb',\n",
              " 'aaabbbbbb',\n",
              " 'aaabbbbbbb',\n",
              " 'aab',\n",
              " 'aabb',\n",
              " 'aabbb',\n",
              " 'aabbbb',\n",
              " 'aabbbbb',\n",
              " 'aabbbbbb',\n",
              " 'aabbbbbbb',\n",
              " 'ab',\n",
              " 'abb',\n",
              " 'abbb',\n",
              " 'abbbb',\n",
              " 'abbbbb',\n",
              " 'abbbbbb',\n",
              " 'abbbbbbb',\n",
              " 'b',\n",
              " 'bb',\n",
              " 'bbb',\n",
              " 'bbbb',\n",
              " 'bbbbb',\n",
              " 'bbbbbb',\n",
              " 'bbbbbbb'}"
            ]
          },
          "metadata": {
            "tags": []
          },
          "execution_count": 78
        }
      ]
    },
    {
      "cell_type": "code",
      "metadata": {
        "run_control": {
          "frozen": false,
          "read_only": false
        },
        "id": "Y4RrTKEa8wX_"
      },
      "source": [
        "ABCs = {\"a\"*i + \"b\"*i + \"c\"*i for i in range(8)}"
      ],
      "execution_count": null,
      "outputs": []
    },
    {
      "cell_type": "code",
      "metadata": {
        "run_control": {
          "frozen": false,
          "read_only": false
        },
        "colab": {
          "base_uri": "https://localhost:8080/"
        },
        "id": "m4DNEk-A8wX_",
        "outputId": "b2287b91-e0a0-4aeb-b787-1e269acacc2b"
      },
      "source": [
        "ABCs"
      ],
      "execution_count": null,
      "outputs": [
        {
          "output_type": "execute_result",
          "data": {
            "text/plain": [
              "{'',\n",
              " 'aaaaaaabbbbbbbccccccc',\n",
              " 'aaaaaabbbbbbcccccc',\n",
              " 'aaaaabbbbbccccc',\n",
              " 'aaaabbbbcccc',\n",
              " 'aaabbbccc',\n",
              " 'aabbcc',\n",
              " 'abc'}"
            ]
          },
          "metadata": {
            "tags": []
          },
          "execution_count": 80
        }
      ]
    },
    {
      "cell_type": "markdown",
      "metadata": {
        "run_control": {
          "frozen": false,
          "read_only": false
        },
        "id": "15X3scDs8wYE"
      },
      "source": [
        "# Now, do the exercises at the end of Ch2 and Ch3"
      ]
    },
    {
      "cell_type": "markdown",
      "metadata": {
        "id": "axFdEIpb9yL1"
      },
      "source": [
        "# **Ch2 Exercises**\r\n",
        "\r\n",
        "1. Show that $L_E$ is the set of even-length strings over alphabet $\\{0\\}$.\r\n",
        "<br>\r\n",
        "$L_E = \\{0^{2i}: i ≥ 0\\}$"
      ]
    },
    {
      "cell_type": "code",
      "metadata": {
        "id": "jUPgIpvJ-5l6",
        "colab": {
          "base_uri": "https://localhost:8080/"
        },
        "outputId": "68b262ab-7c25-4d66-f46f-eb1c7065c2a3"
      },
      "source": [
        "L_E = lambda i:\"0\"*(2*i)\r\n",
        "# Mapping the function to the first ten values of i for visualization\r\n",
        "L_E_f10 = {*map(L_E,range(10))}\r\n",
        "L_E_f10"
      ],
      "execution_count": null,
      "outputs": [
        {
          "output_type": "execute_result",
          "data": {
            "text/plain": [
              "{'',\n",
              " '00',\n",
              " '0000',\n",
              " '000000',\n",
              " '00000000',\n",
              " '0000000000',\n",
              " '000000000000',\n",
              " '00000000000000',\n",
              " '0000000000000000',\n",
              " '000000000000000000'}"
            ]
          },
          "metadata": {
            "tags": []
          },
          "execution_count": 81
        }
      ]
    },
    {
      "cell_type": "markdown",
      "metadata": {
        "id": "Ot53FNLhGmCR"
      },
      "source": [
        "2. Show that $L_E = \\{(00)^{i}: i ≥ 0\\}$ (the parentheses are used to group the two 0’s and are not part of the alphabet). \r\n"
      ]
    },
    {
      "cell_type": "code",
      "metadata": {
        "colab": {
          "base_uri": "https://localhost:8080/"
        },
        "id": "OIoZpF5rHFTl",
        "outputId": "e1f998b2-2ff5-4312-bad6-ff90af21aaf8"
      },
      "source": [
        "L_E_2 = lambda i:\"00\"*i\r\n",
        "# Mapping the function to the first ten values of i for visualization\r\n",
        "L_E_2_f10 = {*map(L_E_2,range(10))}\r\n",
        "L_E_2_f10"
      ],
      "execution_count": null,
      "outputs": [
        {
          "output_type": "execute_result",
          "data": {
            "text/plain": [
              "{'',\n",
              " '00',\n",
              " '0000',\n",
              " '000000',\n",
              " '00000000',\n",
              " '0000000000',\n",
              " '000000000000',\n",
              " '00000000000000',\n",
              " '0000000000000000',\n",
              " '000000000000000000'}"
            ]
          },
          "metadata": {
            "tags": []
          },
          "execution_count": 82
        }
      ]
    },
    {
      "cell_type": "code",
      "metadata": {
        "colab": {
          "base_uri": "https://localhost:8080/"
        },
        "id": "y5Zvpn86IIH2",
        "outputId": "83246349-ae1c-4c08-bc33-367c45eff0f1"
      },
      "source": [
        "# If evaluates to True, then they are equal\r\n",
        "L_E_f10 == L_E_2_f10"
      ],
      "execution_count": null,
      "outputs": [
        {
          "output_type": "execute_result",
          "data": {
            "text/plain": [
              "True"
            ]
          },
          "metadata": {
            "tags": []
          },
          "execution_count": 83
        }
      ]
    },
    {
      "cell_type": "markdown",
      "metadata": {
        "id": "dI3CnfjKHFnv"
      },
      "source": [
        "3. Let $L_O = \\{0^{2i+1}: i ≥ 0\\}$. Show that $\\{0\\}^{*} = L_O \\cup L_E$. "
      ]
    },
    {
      "cell_type": "code",
      "metadata": {
        "colab": {
          "base_uri": "https://localhost:8080/"
        },
        "id": "6B6lJ3zPHlN-",
        "outputId": "442faeb7-8fbd-4356-c864-7fe6d7b66e86"
      },
      "source": [
        "L_O = lambda i:\"0\"*(2*i+1)\r\n",
        "# Mapping the function to the first ten values of i for visualization\r\n",
        "L_O_f10 = {*map(L_O,range(10))}\r\n",
        "L_O_f10"
      ],
      "execution_count": null,
      "outputs": [
        {
          "output_type": "execute_result",
          "data": {
            "text/plain": [
              "{'0',\n",
              " '000',\n",
              " '00000',\n",
              " '0000000',\n",
              " '000000000',\n",
              " '00000000000',\n",
              " '0000000000000',\n",
              " '000000000000000',\n",
              " '00000000000000000',\n",
              " '0000000000000000000'}"
            ]
          },
          "metadata": {
            "tags": []
          },
          "execution_count": 84
        }
      ]
    },
    {
      "cell_type": "code",
      "metadata": {
        "colab": {
          "base_uri": "https://localhost:8080/"
        },
        "id": "Qdq6f8Z1IQlh",
        "outputId": "a7889734-ff0c-4d5f-fad2-e259265e72d6"
      },
      "source": [
        "zero_star = lambda i:\"0\"*i\r\n",
        "# Mapping the function to the first twenty values of i for visualization\r\n",
        "zero_star_f20 = {*map(L_A,range(20))}\r\n",
        "zero_star_f20"
      ],
      "execution_count": null,
      "outputs": [
        {
          "output_type": "execute_result",
          "data": {
            "text/plain": [
              "{'',\n",
              " '0',\n",
              " '00',\n",
              " '000',\n",
              " '0000',\n",
              " '00000',\n",
              " '000000',\n",
              " '0000000',\n",
              " '00000000',\n",
              " '000000000',\n",
              " '0000000000',\n",
              " '00000000000',\n",
              " '000000000000',\n",
              " '0000000000000',\n",
              " '00000000000000',\n",
              " '000000000000000',\n",
              " '0000000000000000',\n",
              " '00000000000000000',\n",
              " '000000000000000000',\n",
              " '0000000000000000000'}"
            ]
          },
          "metadata": {
            "tags": []
          },
          "execution_count": 85
        }
      ]
    },
    {
      "cell_type": "code",
      "metadata": {
        "colab": {
          "base_uri": "https://localhost:8080/"
        },
        "id": "CM4Bfs3WJWhC",
        "outputId": "36db7d39-d500-48cc-de76-ccd17c1f4740"
      },
      "source": [
        "union_L_O_and_L_E = L_E_f10 | L_O_f10\r\n",
        "union_L_O_and_L_E"
      ],
      "execution_count": null,
      "outputs": [
        {
          "output_type": "execute_result",
          "data": {
            "text/plain": [
              "{'',\n",
              " '0',\n",
              " '00',\n",
              " '000',\n",
              " '0000',\n",
              " '00000',\n",
              " '000000',\n",
              " '0000000',\n",
              " '00000000',\n",
              " '000000000',\n",
              " '0000000000',\n",
              " '00000000000',\n",
              " '000000000000',\n",
              " '0000000000000',\n",
              " '00000000000000',\n",
              " '000000000000000',\n",
              " '0000000000000000',\n",
              " '00000000000000000',\n",
              " '000000000000000000',\n",
              " '0000000000000000000'}"
            ]
          },
          "metadata": {
            "tags": []
          },
          "execution_count": 86
        }
      ]
    },
    {
      "cell_type": "code",
      "metadata": {
        "colab": {
          "base_uri": "https://localhost:8080/"
        },
        "id": "PNPCESgbKGFQ",
        "outputId": "19f61234-9cd4-4f7d-f658-6d74ec72a65a"
      },
      "source": [
        "# If evaluates to True, then they are equal\r\n",
        "zero_star_f20 == union_L_O_and_L_E"
      ],
      "execution_count": null,
      "outputs": [
        {
          "output_type": "execute_result",
          "data": {
            "text/plain": [
              "True"
            ]
          },
          "metadata": {
            "tags": []
          },
          "execution_count": 87
        }
      ]
    },
    {
      "cell_type": "markdown",
      "metadata": {
        "id": "LXlNXxqrHlnw"
      },
      "source": [
        "4. Describe this language in English: \r\n",
        "<br>\r\n",
        "$Eq_{01} = \\{0^{n}1^{n}: n ≥ 0\\}$\r\n",
        "<br>\r\n",
        "<br>\r\n",
        "The language $Eq_{01}$ is all strings with exactly $n$ zeros followed by exactly $n$ ones, where $n \\in \\mathbb{N}$ ($\\mathbb{N}$ being the set of all natural numbers).\r\n",
        "<br>\r\n",
        "<br>\r\n",
        "5. Which of the following languages is $Eq_{01}$ equal to, and why/why not: \r\n",
        "<br>\r\n",
        "(a) $L_1 = \\{0^{i}1^{i}: i ≥ 0\\}$\r\n",
        "<br>\r\n",
        "<br>\r\n",
        "$Eq_{01}$ is equal to $L_1$ because they are exactly the same. The only thing that is different is the variable name. \r\n",
        "<br>\r\n",
        "<br>\r\n",
        "(b) $L_2 = \\{0^{n}: n ≥ 0\\} \\{1^{n}: n ≥ 0\\}$\r\n",
        "<br>\r\n",
        "<br>\r\n",
        "$Eq_{01}$ is not equal to $L_2$. They may seem equal at first, but each declaration of the variable $n$ within separate curly braces is a different local varable, and they can have different values. $L_2$ does not guarantee that the number of zeros and ones will be equal.\r\n",
        "<br>\r\n",
        "<br>\r\n",
        "(c) $L_3 = \\{00^{i}11^{i}: i ≥ 0\\}$ (the exponentiations apply to only the single 0 and the single 1 respectively) \r\n",
        "<br>\r\n",
        "<br>\r\n",
        "$Eq_{01}$ is not equal to $L_3$. They may seem equal at first, but $L_3$ does not contain the empty string, $\\varepsilon$.\r\n",
        "<br>\r\n",
        "<br>\r\n",
        "(d) $L_4 = \\{00^{i}11^{i}: i > 0\\}$\r\n",
        "<br>\r\n",
        "<br>\r\n",
        "$Eq_{01}$ is not equal to $L_4$. $L_4$ is literally exactly the same as $L_3$...\r\n",
        "<br>\r\n",
        "<br>\r\n",
        "(e) $L_5 = \\{00^{i}11^{i}: i ≥ 0\\}\\cup\\{\\varepsilon\\}$\r\n",
        "<br>\r\n",
        "<br>\r\n",
        "$Eq_{01}$ is equal to $L_5$, though $L_5$ is definitely uglier than $L_1$. $L_5$ is equal to $Eq_{01}$ because it is the same as $L_3$, but with the inclusion of $\\varepsilon$.\r\n",
        "<br>\r\n",
        "<br>\r\n",
        "(f) $L_6 = \\{0^{i}1^{j}: i, j ≥ 0,$ and $ (i = j)\\}$\r\n",
        "<br>\r\n",
        "<br>\r\n",
        "$Eq_{01}$ is equal to $L_6$, though $L_6$ is definitely uglier than $L_1$. If $j$ is required to be equal to $i$, then $j$ might as well be represented with $i$, making this identical to $L_1$, and thus equal to $Eq_{01}$.\r\n",
        "<br>\r\n",
        "<br>\r\n",
        "6. Consider the language \r\n",
        "<br>\r\n",
        "$L_7 = \\{0^{i}1^{j}: i, j ≥ 0\\}$\r\n",
        "<br>\r\n",
        "Is it true that \r\n",
        "<br>\r\n",
        "$L_7 = \\{0^{i}: i ≥ 0\\} \\{1^{i}: i ≥ 0\\}$? \r\n",
        "<br>\r\n",
        "Explain, providing reasons.\r\n",
        "<br>\r\n",
        "<br>\r\n",
        "Yes, $L_7 = \\{0^{i}: i ≥ 0\\} \\{1^{i}: i ≥ 0\\}$. The two languages are equivalent. In the declaration of $L_7$, it is not specified whether it is necessary that $i = j$, making them independent. The second language uses the variable $i$ for both zeros and ones, but they are local variables, making them aslo independent. Thus, the two languages are equivalent.\r\n",
        "<br>\r\n",
        "<br>\r\n",
        "7. Someone proposes that the complement of $L_6$ (written $\\overline{L_6}$) is defined as follows. \r\n",
        "<br>\r\n",
        "$L_8 = \\{0^{i}1^{j}: i, j ≥ 0,$ and $(i \\ne j)\\}$.\r\n",
        "<br>\r\n",
        "Assume that the alphabet is $\\Sigma = \\{0,1\\}$.\r\n",
        "<br>\r\n",
        "(a) If true, argue why.\r\n",
        "<br>\r\n",
        "(b) If not true, list four strings in $\\overline{L_6}$ that are not in $L_8$.\r\n",
        "<br>\r\n",
        "<br>\r\n",
        "Some strings that are in $\\overline{L_6}$ but are not in $L_8$ include:\r\n",
        "<br>\r\n",
        "- 10\r\n",
        "- 100\r\n",
        "- 1000\r\n",
        "- 10000\r\n",
        "- And so on and so forth...\r\n",
        "<br>\r\n",
        "<br>\r\n",
        "(c) Describe all the strings in $\\overline{L_6}$ − $L_8$ (set subtraction of $L_8$ from $L_6$), dividing them up into conveniently specifiable classes (explain each class first in English, and then using set comprehensions).\r\n",
        "<br>\r\n",
        "<br>\r\n",
        "First we've got $Eq_{10}$, the set of all strings with $n$ ones followed by $n$ zeros.\r\n",
        "<br>\r\n",
        "$Eq_{10} = \\{1^{n}0^{n} : n \\ge 0\\}$\r\n",
        "<br>\r\n",
        "<br>\r\n",
        "Then, we've got $Neq_{10}$, the set of all strings with $i$ ones followed by $j$ zeros, where $i \\ne j$.\r\n",
        "<br>\r\n",
        "$Neq_{10} = \\{1^{i}0^{j} : i,j \\ge 0,$ and $(i \\ne j)\\}$\r\n",
        "<br>\r\n",
        "<br>\r\n",
        "The last class is $Neq_{01}$, the set of all strings with $i$ ones followed by $j$ zeros, where $i \\ne j$.\r\n",
        "<br>\r\n",
        "$Neq_{01} = \\{0^{i}1^{j} : i,j \\ge 0,$ and $(i \\ne j)\\}$\r\n",
        "<br>\r\n",
        "<br>\r\n",
        "(d) Are there strings in $L_8$ that are not in $\\overline{L_6}$? Explain.\r\n",
        "<br>\r\n",
        "<br>\r\n",
        "Nope. $L_8$ is a proper subset of $\\overline{L_6}$, represented by $Neq_{01}$ above."
      ]
    },
    {
      "cell_type": "markdown",
      "metadata": {
        "id": "L7WQg9hcFUYK"
      },
      "source": [
        "# **Ch3 Exercises**\r\n",
        "\r\n",
        "## **Exercise 3.6**\r\n",
        "\r\n",
        "Given the following languages \r\n",
        "<br>\r\n",
        "`L1 = {\"abacus\", \"bandana\", \"pig\", \"cat\", \"dodo\", \"zulu\", \"physics\"}`<br>\r\n",
        "`L2 = {\"dog\", \"zebra\", \"zzxyz\", \"pimento\"}`\r\n",
        "<br>\r\n",
        "Define a function that lists all those pairs (a,b) from the Cartesian product of L1 and L2 such that a is lexicographically before b. Hint: form the Cartesian product using Python’s built-in operator product, and then use lexlt to implement the filter operation over that list.\r\n",
        "<br>\r\n",
        "1. Generate the first ten strings over the alphabet {0,1} in numeric order. \r\n",
        "<br>\r\n",
        "2. Arrange the above collection of strings in lexicographic order. Produce a printout showing the numeric and the lexicographic orders.\r\n"
      ]
    }
  ]
}